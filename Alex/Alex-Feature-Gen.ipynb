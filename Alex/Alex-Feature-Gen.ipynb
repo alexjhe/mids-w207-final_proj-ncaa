{
 "cells": [
  {
   "cell_type": "markdown",
   "metadata": {},
   "source": [
    "# Add Features"
   ]
  },
  {
   "cell_type": "code",
   "execution_count": 1,
   "metadata": {
    "collapsed": true
   },
   "outputs": [],
   "source": [
    "import psycopg2 as pg\n",
    "import pandas as pd\n",
    "import numpy as np\n",
    "\n",
    "from psycopg2.extras import execute_values"
   ]
  },
  {
   "cell_type": "markdown",
   "metadata": {},
   "source": [
    "1. Historic wins against opponent\n",
    "2. Conference avg. rank"
   ]
  },
  {
   "cell_type": "markdown",
   "metadata": {},
   "source": [
    "## Example Data"
   ]
  },
  {
   "cell_type": "code",
   "execution_count": 15,
   "metadata": {},
   "outputs": [],
   "source": [
    "conn = pg.connect(database='postgres',\n",
    "                  user='postgres',\n",
    "                  password='w207final',\n",
    "                  host='35.185.225.167')\n",
    "\n",
    "# pull regular season and tourney data to build indexes\n",
    "query = '''\n",
    "    SELECT *\n",
    "    FROM prod.features\n",
    "    WHERE \"Season Type\" = 'Regular'\n",
    "    LIMIT 5\n",
    "'''\n",
    "\n",
    "df = pd.read_sql_query(query, conn)\n",
    "conn.close()"
   ]
  },
  {
   "cell_type": "code",
   "execution_count": 16,
   "metadata": {},
   "outputs": [
    {
     "data": {
      "text/plain": [
       "(5, 34)"
      ]
     },
     "execution_count": 16,
     "metadata": {},
     "output_type": "execute_result"
    }
   ],
   "source": [
    "df.shape"
   ]
  },
  {
   "cell_type": "code",
   "execution_count": 17,
   "metadata": {},
   "outputs": [
    {
     "data": {
      "text/html": [
       "<div>\n",
       "<style>\n",
       "    .dataframe thead tr:only-child th {\n",
       "        text-align: right;\n",
       "    }\n",
       "\n",
       "    .dataframe thead th {\n",
       "        text-align: left;\n",
       "    }\n",
       "\n",
       "    .dataframe tbody tr th {\n",
       "        vertical-align: top;\n",
       "    }\n",
       "</style>\n",
       "<table border=\"1\" class=\"dataframe\">\n",
       "  <thead>\n",
       "    <tr style=\"text-align: right;\">\n",
       "      <th></th>\n",
       "      <th>Season</th>\n",
       "      <th>DayNum</th>\n",
       "      <th>Team</th>\n",
       "      <th>Opponent</th>\n",
       "      <th>Outcome</th>\n",
       "      <th>Score</th>\n",
       "      <th>OpponentScore</th>\n",
       "      <th>NumOT</th>\n",
       "      <th>WLoc</th>\n",
       "      <th>Season Type</th>\n",
       "      <th>...</th>\n",
       "      <th>WinPct</th>\n",
       "      <th>OpponentWinPct</th>\n",
       "      <th>WinPctDiff</th>\n",
       "      <th>AvgPointsFor</th>\n",
       "      <th>AvgPointsAgainst</th>\n",
       "      <th>AvgNetPointsFor</th>\n",
       "      <th>SeedDiff</th>\n",
       "      <th>OpponentAvgPointsFor</th>\n",
       "      <th>OpponentAvgPointsAgainst</th>\n",
       "      <th>OpponentAvgNetPointsFor</th>\n",
       "    </tr>\n",
       "  </thead>\n",
       "  <tbody>\n",
       "    <tr>\n",
       "      <th>0</th>\n",
       "      <td>2003</td>\n",
       "      <td>68</td>\n",
       "      <td>1115</td>\n",
       "      <td>1106</td>\n",
       "      <td>0</td>\n",
       "      <td>33</td>\n",
       "      <td>43</td>\n",
       "      <td>0</td>\n",
       "      <td>A</td>\n",
       "      <td>Regular</td>\n",
       "      <td>...</td>\n",
       "      <td>None</td>\n",
       "      <td>None</td>\n",
       "      <td>None</td>\n",
       "      <td>None</td>\n",
       "      <td>None</td>\n",
       "      <td>None</td>\n",
       "      <td>None</td>\n",
       "      <td>None</td>\n",
       "      <td>None</td>\n",
       "      <td>None</td>\n",
       "    </tr>\n",
       "    <tr>\n",
       "      <th>1</th>\n",
       "      <td>2003</td>\n",
       "      <td>70</td>\n",
       "      <td>1290</td>\n",
       "      <td>1106</td>\n",
       "      <td>0</td>\n",
       "      <td>67</td>\n",
       "      <td>73</td>\n",
       "      <td>0</td>\n",
       "      <td>A</td>\n",
       "      <td>Regular</td>\n",
       "      <td>...</td>\n",
       "      <td>None</td>\n",
       "      <td>None</td>\n",
       "      <td>None</td>\n",
       "      <td>None</td>\n",
       "      <td>None</td>\n",
       "      <td>None</td>\n",
       "      <td>None</td>\n",
       "      <td>None</td>\n",
       "      <td>None</td>\n",
       "      <td>None</td>\n",
       "    </tr>\n",
       "    <tr>\n",
       "      <th>2</th>\n",
       "      <td>2003</td>\n",
       "      <td>96</td>\n",
       "      <td>1115</td>\n",
       "      <td>1106</td>\n",
       "      <td>0</td>\n",
       "      <td>33</td>\n",
       "      <td>57</td>\n",
       "      <td>0</td>\n",
       "      <td>H</td>\n",
       "      <td>Regular</td>\n",
       "      <td>...</td>\n",
       "      <td>None</td>\n",
       "      <td>None</td>\n",
       "      <td>None</td>\n",
       "      <td>None</td>\n",
       "      <td>None</td>\n",
       "      <td>None</td>\n",
       "      <td>None</td>\n",
       "      <td>None</td>\n",
       "      <td>None</td>\n",
       "      <td>None</td>\n",
       "    </tr>\n",
       "    <tr>\n",
       "      <th>3</th>\n",
       "      <td>2003</td>\n",
       "      <td>98</td>\n",
       "      <td>1290</td>\n",
       "      <td>1106</td>\n",
       "      <td>1</td>\n",
       "      <td>79</td>\n",
       "      <td>78</td>\n",
       "      <td>0</td>\n",
       "      <td>A</td>\n",
       "      <td>Regular</td>\n",
       "      <td>...</td>\n",
       "      <td>None</td>\n",
       "      <td>None</td>\n",
       "      <td>None</td>\n",
       "      <td>None</td>\n",
       "      <td>None</td>\n",
       "      <td>None</td>\n",
       "      <td>None</td>\n",
       "      <td>None</td>\n",
       "      <td>None</td>\n",
       "      <td>None</td>\n",
       "    </tr>\n",
       "    <tr>\n",
       "      <th>4</th>\n",
       "      <td>2003</td>\n",
       "      <td>110</td>\n",
       "      <td>1380</td>\n",
       "      <td>1106</td>\n",
       "      <td>1</td>\n",
       "      <td>57</td>\n",
       "      <td>54</td>\n",
       "      <td>0</td>\n",
       "      <td>H</td>\n",
       "      <td>Regular</td>\n",
       "      <td>...</td>\n",
       "      <td>None</td>\n",
       "      <td>None</td>\n",
       "      <td>None</td>\n",
       "      <td>None</td>\n",
       "      <td>None</td>\n",
       "      <td>None</td>\n",
       "      <td>None</td>\n",
       "      <td>None</td>\n",
       "      <td>None</td>\n",
       "      <td>None</td>\n",
       "    </tr>\n",
       "  </tbody>\n",
       "</table>\n",
       "<p>5 rows × 34 columns</p>\n",
       "</div>"
      ],
      "text/plain": [
       "   Season  DayNum  Team  Opponent  Outcome  Score  OpponentScore  NumOT WLoc  \\\n",
       "0    2003      68  1115      1106        0     33             43      0    A   \n",
       "1    2003      70  1290      1106        0     67             73      0    A   \n",
       "2    2003      96  1115      1106        0     33             57      0    H   \n",
       "3    2003      98  1290      1106        1     79             78      0    A   \n",
       "4    2003     110  1380      1106        1     57             54      0    H   \n",
       "\n",
       "  Season Type           ...            WinPct OpponentWinPct  WinPctDiff  \\\n",
       "0     Regular           ...              None           None        None   \n",
       "1     Regular           ...              None           None        None   \n",
       "2     Regular           ...              None           None        None   \n",
       "3     Regular           ...              None           None        None   \n",
       "4     Regular           ...              None           None        None   \n",
       "\n",
       "   AvgPointsFor  AvgPointsAgainst  AvgNetPointsFor  SeedDiff  \\\n",
       "0          None              None             None      None   \n",
       "1          None              None             None      None   \n",
       "2          None              None             None      None   \n",
       "3          None              None             None      None   \n",
       "4          None              None             None      None   \n",
       "\n",
       "   OpponentAvgPointsFor  OpponentAvgPointsAgainst  OpponentAvgNetPointsFor  \n",
       "0                  None                      None                     None  \n",
       "1                  None                      None                     None  \n",
       "2                  None                      None                     None  \n",
       "3                  None                      None                     None  \n",
       "4                  None                      None                     None  \n",
       "\n",
       "[5 rows x 34 columns]"
      ]
     },
     "execution_count": 17,
     "metadata": {},
     "output_type": "execute_result"
    }
   ],
   "source": [
    "df.head()"
   ]
  },
  {
   "cell_type": "code",
   "execution_count": null,
   "metadata": {
    "collapsed": true
   },
   "outputs": [],
   "source": []
  },
  {
   "cell_type": "markdown",
   "metadata": {
    "collapsed": true
   },
   "source": [
    "## Historic Wins Against Opponent"
   ]
  },
  {
   "cell_type": "code",
   "execution_count": 64,
   "metadata": {
    "collapsed": true
   },
   "outputs": [],
   "source": [
    "conn = pg.connect(database='postgres',\n",
    "                  user='postgres',\n",
    "                  password='w207final',\n",
    "                  host='35.185.225.167')\n",
    "\n",
    "# pull regular season and tourney data to build indexes\n",
    "query = '''\n",
    "    SELECT \"Season\", \"DayNum\", \"Team\", \"Opponent\", \"Outcome\"\n",
    "    FROM prod.features\n",
    "\n",
    "'''\n",
    "#     WHERE \"Season Type\" = 'Regular'\n",
    "\n",
    "\n",
    "\n",
    "df = pd.read_sql_query(query, conn)\n",
    "conn.close()"
   ]
  },
  {
   "cell_type": "code",
   "execution_count": 65,
   "metadata": {},
   "outputs": [
    {
     "data": {
      "text/plain": [
       "(170600, 5)"
      ]
     },
     "execution_count": 65,
     "metadata": {},
     "output_type": "execute_result"
    }
   ],
   "source": [
    "df.shape"
   ]
  },
  {
   "cell_type": "code",
   "execution_count": 66,
   "metadata": {},
   "outputs": [
    {
     "data": {
      "text/html": [
       "<div>\n",
       "<style>\n",
       "    .dataframe thead tr:only-child th {\n",
       "        text-align: right;\n",
       "    }\n",
       "\n",
       "    .dataframe thead th {\n",
       "        text-align: left;\n",
       "    }\n",
       "\n",
       "    .dataframe tbody tr th {\n",
       "        vertical-align: top;\n",
       "    }\n",
       "</style>\n",
       "<table border=\"1\" class=\"dataframe\">\n",
       "  <thead>\n",
       "    <tr style=\"text-align: right;\">\n",
       "      <th></th>\n",
       "      <th>Season</th>\n",
       "      <th>DayNum</th>\n",
       "      <th>Team</th>\n",
       "      <th>Opponent</th>\n",
       "      <th>Outcome</th>\n",
       "    </tr>\n",
       "  </thead>\n",
       "  <tbody>\n",
       "    <tr>\n",
       "      <th>0</th>\n",
       "      <td>2003</td>\n",
       "      <td>68</td>\n",
       "      <td>1115</td>\n",
       "      <td>1106</td>\n",
       "      <td>0.0</td>\n",
       "    </tr>\n",
       "    <tr>\n",
       "      <th>1</th>\n",
       "      <td>2003</td>\n",
       "      <td>70</td>\n",
       "      <td>1290</td>\n",
       "      <td>1106</td>\n",
       "      <td>0.0</td>\n",
       "    </tr>\n",
       "    <tr>\n",
       "      <th>2</th>\n",
       "      <td>2003</td>\n",
       "      <td>96</td>\n",
       "      <td>1115</td>\n",
       "      <td>1106</td>\n",
       "      <td>0.0</td>\n",
       "    </tr>\n",
       "    <tr>\n",
       "      <th>3</th>\n",
       "      <td>2003</td>\n",
       "      <td>98</td>\n",
       "      <td>1290</td>\n",
       "      <td>1106</td>\n",
       "      <td>1.0</td>\n",
       "    </tr>\n",
       "    <tr>\n",
       "      <th>4</th>\n",
       "      <td>2003</td>\n",
       "      <td>110</td>\n",
       "      <td>1380</td>\n",
       "      <td>1106</td>\n",
       "      <td>1.0</td>\n",
       "    </tr>\n",
       "  </tbody>\n",
       "</table>\n",
       "</div>"
      ],
      "text/plain": [
       "   Season  DayNum  Team  Opponent  Outcome\n",
       "0    2003      68  1115      1106      0.0\n",
       "1    2003      70  1290      1106      0.0\n",
       "2    2003      96  1115      1106      0.0\n",
       "3    2003      98  1290      1106      1.0\n",
       "4    2003     110  1380      1106      1.0"
      ]
     },
     "execution_count": 66,
     "metadata": {},
     "output_type": "execute_result"
    }
   ],
   "source": [
    "df.head()"
   ]
  },
  {
   "cell_type": "code",
   "execution_count": 67,
   "metadata": {},
   "outputs": [
    {
     "data": {
      "text/html": [
       "<div>\n",
       "<style>\n",
       "    .dataframe thead tr:only-child th {\n",
       "        text-align: right;\n",
       "    }\n",
       "\n",
       "    .dataframe thead th {\n",
       "        text-align: left;\n",
       "    }\n",
       "\n",
       "    .dataframe tbody tr th {\n",
       "        vertical-align: top;\n",
       "    }\n",
       "</style>\n",
       "<table border=\"1\" class=\"dataframe\">\n",
       "  <thead>\n",
       "    <tr style=\"text-align: right;\">\n",
       "      <th></th>\n",
       "      <th>Season</th>\n",
       "      <th>DayNum</th>\n",
       "      <th>Team</th>\n",
       "      <th>Opponent</th>\n",
       "      <th>Outcome</th>\n",
       "    </tr>\n",
       "  </thead>\n",
       "  <tbody>\n",
       "    <tr>\n",
       "      <th>4184</th>\n",
       "      <td>2003</td>\n",
       "      <td>91</td>\n",
       "      <td>1102</td>\n",
       "      <td>1140</td>\n",
       "      <td>0.0</td>\n",
       "    </tr>\n",
       "    <tr>\n",
       "      <th>4186</th>\n",
       "      <td>2003</td>\n",
       "      <td>58</td>\n",
       "      <td>1102</td>\n",
       "      <td>1204</td>\n",
       "      <td>1.0</td>\n",
       "    </tr>\n",
       "    <tr>\n",
       "      <th>5897</th>\n",
       "      <td>2003</td>\n",
       "      <td>34</td>\n",
       "      <td>1102</td>\n",
       "      <td>1204</td>\n",
       "      <td>1.0</td>\n",
       "    </tr>\n",
       "    <tr>\n",
       "      <th>7161</th>\n",
       "      <td>2004</td>\n",
       "      <td>112</td>\n",
       "      <td>1102</td>\n",
       "      <td>1140</td>\n",
       "      <td>0.0</td>\n",
       "    </tr>\n",
       "    <tr>\n",
       "      <th>7367</th>\n",
       "      <td>2004</td>\n",
       "      <td>82</td>\n",
       "      <td>1102</td>\n",
       "      <td>1140</td>\n",
       "      <td>1.0</td>\n",
       "    </tr>\n",
       "    <tr>\n",
       "      <th>7682</th>\n",
       "      <td>2003</td>\n",
       "      <td>117</td>\n",
       "      <td>1102</td>\n",
       "      <td>1140</td>\n",
       "      <td>0.0</td>\n",
       "    </tr>\n",
       "    <tr>\n",
       "      <th>15831</th>\n",
       "      <td>2005</td>\n",
       "      <td>112</td>\n",
       "      <td>1102</td>\n",
       "      <td>1140</td>\n",
       "      <td>1.0</td>\n",
       "    </tr>\n",
       "    <tr>\n",
       "      <th>34019</th>\n",
       "      <td>2007</td>\n",
       "      <td>89</td>\n",
       "      <td>1102</td>\n",
       "      <td>1140</td>\n",
       "      <td>0.0</td>\n",
       "    </tr>\n",
       "    <tr>\n",
       "      <th>34027</th>\n",
       "      <td>2007</td>\n",
       "      <td>120</td>\n",
       "      <td>1102</td>\n",
       "      <td>1140</td>\n",
       "      <td>0.0</td>\n",
       "    </tr>\n",
       "    <tr>\n",
       "      <th>42020</th>\n",
       "      <td>2008</td>\n",
       "      <td>86</td>\n",
       "      <td>1102</td>\n",
       "      <td>1140</td>\n",
       "      <td>0.0</td>\n",
       "    </tr>\n",
       "    <tr>\n",
       "      <th>42027</th>\n",
       "      <td>2008</td>\n",
       "      <td>117</td>\n",
       "      <td>1102</td>\n",
       "      <td>1140</td>\n",
       "      <td>0.0</td>\n",
       "    </tr>\n",
       "    <tr>\n",
       "      <th>52218</th>\n",
       "      <td>2009</td>\n",
       "      <td>129</td>\n",
       "      <td>1102</td>\n",
       "      <td>1140</td>\n",
       "      <td>0.0</td>\n",
       "    </tr>\n",
       "    <tr>\n",
       "      <th>62158</th>\n",
       "      <td>2010</td>\n",
       "      <td>72</td>\n",
       "      <td>1102</td>\n",
       "      <td>1140</td>\n",
       "      <td>0.0</td>\n",
       "    </tr>\n",
       "    <tr>\n",
       "      <th>62166</th>\n",
       "      <td>2010</td>\n",
       "      <td>103</td>\n",
       "      <td>1102</td>\n",
       "      <td>1140</td>\n",
       "      <td>0.0</td>\n",
       "    </tr>\n",
       "    <tr>\n",
       "      <th>72675</th>\n",
       "      <td>2011</td>\n",
       "      <td>68</td>\n",
       "      <td>1102</td>\n",
       "      <td>1140</td>\n",
       "      <td>0.0</td>\n",
       "    </tr>\n",
       "    <tr>\n",
       "      <th>72683</th>\n",
       "      <td>2011</td>\n",
       "      <td>100</td>\n",
       "      <td>1102</td>\n",
       "      <td>1140</td>\n",
       "      <td>0.0</td>\n",
       "    </tr>\n",
       "    <tr>\n",
       "      <th>169735</th>\n",
       "      <td>2005</td>\n",
       "      <td>82</td>\n",
       "      <td>1102</td>\n",
       "      <td>1140</td>\n",
       "      <td>1.0</td>\n",
       "    </tr>\n",
       "    <tr>\n",
       "      <th>170232</th>\n",
       "      <td>2006</td>\n",
       "      <td>66</td>\n",
       "      <td>1102</td>\n",
       "      <td>1140</td>\n",
       "      <td>1.0</td>\n",
       "    </tr>\n",
       "    <tr>\n",
       "      <th>170314</th>\n",
       "      <td>2006</td>\n",
       "      <td>96</td>\n",
       "      <td>1102</td>\n",
       "      <td>1140</td>\n",
       "      <td>0.0</td>\n",
       "    </tr>\n",
       "    <tr>\n",
       "      <th>170419</th>\n",
       "      <td>2009</td>\n",
       "      <td>92</td>\n",
       "      <td>1102</td>\n",
       "      <td>1140</td>\n",
       "      <td>0.0</td>\n",
       "    </tr>\n",
       "    <tr>\n",
       "      <th>170481</th>\n",
       "      <td>2009</td>\n",
       "      <td>124</td>\n",
       "      <td>1102</td>\n",
       "      <td>1140</td>\n",
       "      <td>0.0</td>\n",
       "    </tr>\n",
       "  </tbody>\n",
       "</table>\n",
       "</div>"
      ],
      "text/plain": [
       "        Season  DayNum  Team  Opponent  Outcome\n",
       "4184      2003      91  1102      1140      0.0\n",
       "4186      2003      58  1102      1204      1.0\n",
       "5897      2003      34  1102      1204      1.0\n",
       "7161      2004     112  1102      1140      0.0\n",
       "7367      2004      82  1102      1140      1.0\n",
       "7682      2003     117  1102      1140      0.0\n",
       "15831     2005     112  1102      1140      1.0\n",
       "34019     2007      89  1102      1140      0.0\n",
       "34027     2007     120  1102      1140      0.0\n",
       "42020     2008      86  1102      1140      0.0\n",
       "42027     2008     117  1102      1140      0.0\n",
       "52218     2009     129  1102      1140      0.0\n",
       "62158     2010      72  1102      1140      0.0\n",
       "62166     2010     103  1102      1140      0.0\n",
       "72675     2011      68  1102      1140      0.0\n",
       "72683     2011     100  1102      1140      0.0\n",
       "169735    2005      82  1102      1140      1.0\n",
       "170232    2006      66  1102      1140      1.0\n",
       "170314    2006      96  1102      1140      0.0\n",
       "170419    2009      92  1102      1140      0.0\n",
       "170481    2009     124  1102      1140      0.0"
      ]
     },
     "execution_count": 67,
     "metadata": {},
     "output_type": "execute_result"
    }
   ],
   "source": [
    "# Test - filtering off team 1102 and opponent 1204, 1140\n",
    "\n",
    "#df[['Season', 'Team' == 1102, 'Opponent' == 1204, 'Outcome']]\n",
    "df[(df['Team'] == 1102) & ((df['Opponent'] == 1204) | (df['Opponent'] == 1140))]\n",
    "\n",
    "\n",
    "##df[df['first_name'].notnull() & (df['nationality'] == \"USA\")]"
   ]
  },
  {
   "cell_type": "code",
   "execution_count": 68,
   "metadata": {},
   "outputs": [],
   "source": [
    "# Wins vs. each opponent\n",
    "\n",
    "# Could separate seasons, but commenting out\n",
    "# wins = df[['Season', 'Team', 'Opponent', 'Outcome']].groupby(by=[\"Season\", \"Team\", \"Opponent\"]).agg(['sum', 'count'])\n",
    "\n",
    "# Aggregating separate seasons\n",
    "wins = df[['Team', 'Opponent', 'Outcome']].groupby(by=[\"Team\", \"Opponent\"]).agg(['sum', 'count'])\n",
    "\n",
    "wins.reset_index(inplace=True)\n",
    "wins.columns = [' '.join(col).strip() for col in wins.columns.values]\n",
    "wins.rename(columns={'Outcome sum': 'wins_v_opp', 'Outcome count': 'games_v_opp'}, inplace=True)\n",
    "wins['winpct_v_opp'] = wins['wins_v_opp'] / wins['games_v_opp']"
   ]
  },
  {
   "cell_type": "code",
   "execution_count": 69,
   "metadata": {},
   "outputs": [
    {
     "data": {
      "text/plain": [
       "(39618, 5)"
      ]
     },
     "execution_count": 69,
     "metadata": {},
     "output_type": "execute_result"
    }
   ],
   "source": [
    "wins.shape"
   ]
  },
  {
   "cell_type": "code",
   "execution_count": 70,
   "metadata": {},
   "outputs": [
    {
     "data": {
      "text/html": [
       "<div>\n",
       "<style>\n",
       "    .dataframe thead tr:only-child th {\n",
       "        text-align: right;\n",
       "    }\n",
       "\n",
       "    .dataframe thead th {\n",
       "        text-align: left;\n",
       "    }\n",
       "\n",
       "    .dataframe tbody tr th {\n",
       "        vertical-align: top;\n",
       "    }\n",
       "</style>\n",
       "<table border=\"1\" class=\"dataframe\">\n",
       "  <thead>\n",
       "    <tr style=\"text-align: right;\">\n",
       "      <th></th>\n",
       "      <th>Team</th>\n",
       "      <th>Opponent</th>\n",
       "      <th>wins_v_opp</th>\n",
       "      <th>games_v_opp</th>\n",
       "      <th>winpct_v_opp</th>\n",
       "    </tr>\n",
       "  </thead>\n",
       "  <tbody>\n",
       "    <tr>\n",
       "      <th>0</th>\n",
       "      <td>1101</td>\n",
       "      <td>1102</td>\n",
       "      <td>1.0</td>\n",
       "      <td>1</td>\n",
       "      <td>1.0</td>\n",
       "    </tr>\n",
       "    <tr>\n",
       "      <th>1</th>\n",
       "      <td>1101</td>\n",
       "      <td>1115</td>\n",
       "      <td>1.0</td>\n",
       "      <td>1</td>\n",
       "      <td>1.0</td>\n",
       "    </tr>\n",
       "    <tr>\n",
       "      <th>2</th>\n",
       "      <td>1101</td>\n",
       "      <td>1117</td>\n",
       "      <td>0.0</td>\n",
       "      <td>1</td>\n",
       "      <td>0.0</td>\n",
       "    </tr>\n",
       "    <tr>\n",
       "      <th>3</th>\n",
       "      <td>1101</td>\n",
       "      <td>1129</td>\n",
       "      <td>0.0</td>\n",
       "      <td>1</td>\n",
       "      <td>0.0</td>\n",
       "    </tr>\n",
       "    <tr>\n",
       "      <th>4</th>\n",
       "      <td>1101</td>\n",
       "      <td>1132</td>\n",
       "      <td>1.0</td>\n",
       "      <td>1</td>\n",
       "      <td>1.0</td>\n",
       "    </tr>\n",
       "  </tbody>\n",
       "</table>\n",
       "</div>"
      ],
      "text/plain": [
       "   Team  Opponent  wins_v_opp  games_v_opp  winpct_v_opp\n",
       "0  1101      1102         1.0            1           1.0\n",
       "1  1101      1115         1.0            1           1.0\n",
       "2  1101      1117         0.0            1           0.0\n",
       "3  1101      1129         0.0            1           0.0\n",
       "4  1101      1132         1.0            1           1.0"
      ]
     },
     "execution_count": 70,
     "metadata": {},
     "output_type": "execute_result"
    }
   ],
   "source": [
    "wins.head()"
   ]
  },
  {
   "cell_type": "code",
   "execution_count": 71,
   "metadata": {},
   "outputs": [
    {
     "data": {
      "text/html": [
       "<div>\n",
       "<style>\n",
       "    .dataframe thead tr:only-child th {\n",
       "        text-align: right;\n",
       "    }\n",
       "\n",
       "    .dataframe thead th {\n",
       "        text-align: left;\n",
       "    }\n",
       "\n",
       "    .dataframe tbody tr th {\n",
       "        vertical-align: top;\n",
       "    }\n",
       "</style>\n",
       "<table border=\"1\" class=\"dataframe\">\n",
       "  <thead>\n",
       "    <tr style=\"text-align: right;\">\n",
       "      <th></th>\n",
       "      <th>Team</th>\n",
       "      <th>Opponent</th>\n",
       "      <th>wins_v_opp</th>\n",
       "      <th>games_v_opp</th>\n",
       "      <th>winpct_v_opp</th>\n",
       "    </tr>\n",
       "  </thead>\n",
       "  <tbody>\n",
       "    <tr>\n",
       "      <th>57</th>\n",
       "      <td>1102</td>\n",
       "      <td>1140</td>\n",
       "      <td>4.0</td>\n",
       "      <td>19</td>\n",
       "      <td>0.210526</td>\n",
       "    </tr>\n",
       "    <tr>\n",
       "      <th>78</th>\n",
       "      <td>1102</td>\n",
       "      <td>1204</td>\n",
       "      <td>2.0</td>\n",
       "      <td>2</td>\n",
       "      <td>1.000000</td>\n",
       "    </tr>\n",
       "  </tbody>\n",
       "</table>\n",
       "</div>"
      ],
      "text/plain": [
       "    Team  Opponent  wins_v_opp  games_v_opp  winpct_v_opp\n",
       "57  1102      1140         4.0           19      0.210526\n",
       "78  1102      1204         2.0            2      1.000000"
      ]
     },
     "execution_count": 71,
     "metadata": {},
     "output_type": "execute_result"
    }
   ],
   "source": [
    "# Test - filtering off team 1102 and opponent 1204, 1140\n",
    "\n",
    "wins[(wins['Team'] == 1102) & ((wins['Opponent'] == 1204) | (wins['Opponent'] == 1140))]"
   ]
  },
  {
   "cell_type": "code",
   "execution_count": null,
   "metadata": {
    "collapsed": true
   },
   "outputs": [],
   "source": []
  },
  {
   "cell_type": "code",
   "execution_count": 63,
   "metadata": {
    "collapsed": true
   },
   "outputs": [],
   "source": []
  },
  {
   "cell_type": "code",
   "execution_count": null,
   "metadata": {
    "collapsed": true
   },
   "outputs": [],
   "source": []
  },
  {
   "cell_type": "code",
   "execution_count": null,
   "metadata": {
    "collapsed": true
   },
   "outputs": [],
   "source": []
  },
  {
   "cell_type": "code",
   "execution_count": null,
   "metadata": {
    "collapsed": true
   },
   "outputs": [],
   "source": []
  },
  {
   "cell_type": "code",
   "execution_count": null,
   "metadata": {
    "collapsed": true
   },
   "outputs": [],
   "source": []
  },
  {
   "cell_type": "code",
   "execution_count": null,
   "metadata": {
    "collapsed": true
   },
   "outputs": [],
   "source": []
  },
  {
   "cell_type": "code",
   "execution_count": null,
   "metadata": {
    "collapsed": true
   },
   "outputs": [],
   "source": []
  },
  {
   "cell_type": "code",
   "execution_count": null,
   "metadata": {
    "collapsed": true
   },
   "outputs": [],
   "source": []
  },
  {
   "cell_type": "code",
   "execution_count": null,
   "metadata": {
    "collapsed": true
   },
   "outputs": [],
   "source": []
  },
  {
   "cell_type": "code",
   "execution_count": null,
   "metadata": {
    "collapsed": true
   },
   "outputs": [],
   "source": []
  },
  {
   "cell_type": "code",
   "execution_count": null,
   "metadata": {
    "collapsed": true
   },
   "outputs": [],
   "source": []
  },
  {
   "cell_type": "code",
   "execution_count": null,
   "metadata": {
    "collapsed": true
   },
   "outputs": [],
   "source": []
  },
  {
   "cell_type": "code",
   "execution_count": null,
   "metadata": {
    "collapsed": true
   },
   "outputs": [],
   "source": []
  }
 ],
 "metadata": {
  "kernelspec": {
   "display_name": "Python 2",
   "language": "python",
   "name": "python2"
  },
  "language_info": {
   "codemirror_mode": {
    "name": "ipython",
    "version": 2
   },
   "file_extension": ".py",
   "mimetype": "text/x-python",
   "name": "python",
   "nbconvert_exporter": "python",
   "pygments_lexer": "ipython2",
   "version": "2.7.13"
  }
 },
 "nbformat": 4,
 "nbformat_minor": 2
}
