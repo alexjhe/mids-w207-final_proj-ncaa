{
 "cells": [
  {
   "cell_type": "markdown",
   "metadata": {},
   "source": [
    "# Features Covered:\n",
    "\n",
    "Winning / Losing Field Goal Attempts - Percent of field goals attempted by winning vs. losing team\n",
    "\n",
    "Winning / Losing Field Goals Made - Percent of field goals made by winning vs. losing team\n",
    "\n",
    "Winning / Losing Free Throw Attempts - Percent of free throws attempted by winning vs. losing team\n",
    "\n",
    "Winning / Losing Free Throws Made - Percent of free throws made by winning vs. losing team"
   ]
  },
  {
   "cell_type": "markdown",
   "metadata": {},
   "source": [
    "## Setup"
   ]
  },
  {
   "cell_type": "code",
   "execution_count": 67,
   "metadata": {
    "collapsed": true
   },
   "outputs": [],
   "source": [
    "# This tells matplotlib not to try opening a new window for each plot.\n",
    "%matplotlib inline\n",
    "\n",
    "# display multiple outputs, default is 'last_expr' (last expression)\n",
    "# http://ipython.readthedocs.io/en/stable/config/options/terminal.html\n",
    "from IPython.core.interactiveshell import InteractiveShell\n",
    "InteractiveShell.ast_node_interactivity = \"all\"\n",
    "\n",
    "import numpy as np\n",
    "import pandas as pd\n",
    "import matplotlib.pyplot as plt\n",
    "\n",
    "from sklearn.metrics import confusion_matrix\n",
    "from sklearn import metrics\n",
    "from sklearn.metrics import classification_report\n",
    "\n",
    "from scipy.stats import ttest_ind, ttest_ind_from_stats\n",
    "from sqlalchemy import create_engine"
   ]
  },
  {
   "cell_type": "code",
   "execution_count": 65,
   "metadata": {
    "collapsed": true
   },
   "outputs": [],
   "source": [
    "import psycopg2 as pg\n"
   ]
  },
  {
   "cell_type": "code",
   "execution_count": null,
   "metadata": {
    "collapsed": true
   },
   "outputs": [],
   "source": [
    "# Establish connection to postgres\n",
    "conn = pg.connect(database='postgres',\n",
    "                  user='postgres',\n",
    "                  password='w207final',\n",
    "                  host='35.185.225.167')"
   ]
  },
  {
   "cell_type": "code",
   "execution_count": 10,
   "metadata": {
    "collapsed": true
   },
   "outputs": [],
   "source": [
    "data_dir = 'C:\\\\Users\\\\Alex\\\\OneDrive\\\\Documents\\\\Berkeley MIDS\\\\W207 - Machine Learning\\\\HW_Projects\\\\Final_Project\\\\Raw_Data\\\\All_Extracted\\\\'\n",
    "#out_dir = './output/'"
   ]
  },
  {
   "cell_type": "code",
   "execution_count": 11,
   "metadata": {
    "collapsed": true
   },
   "outputs": [],
   "source": [
    "#df_reg_compact = pd.read_csv(data_dir + \"RegularSeasonCompactResults.csv\")\n",
    "df_reg = pd.read_csv(data_dir + \"RegularSeasonDetailedResults.csv\")"
   ]
  },
  {
   "cell_type": "code",
   "execution_count": 12,
   "metadata": {},
   "outputs": [
    {
     "data": {
      "text/plain": [
       "Season      int64\n",
       "DayNum      int64\n",
       "WTeamID     int64\n",
       "WScore      int64\n",
       "LTeamID     int64\n",
       "LScore      int64\n",
       "WLoc       object\n",
       "NumOT       int64\n",
       "dtype: object"
      ]
     },
     "execution_count": 12,
     "metadata": {},
     "output_type": "execute_result"
    }
   ],
   "source": [
    "df_tourney = pd.read_csv(data_dir + \"NCAATourneyCompactResults.csv\")\n",
    "df_tourney.dtypes"
   ]
  },
  {
   "cell_type": "code",
   "execution_count": 15,
   "metadata": {},
   "outputs": [
    {
     "data": {
      "text/plain": [
       "Season      int64\n",
       "DayNum      int64\n",
       "WTeamID     int64\n",
       "WScore      int64\n",
       "LTeamID     int64\n",
       "LScore      int64\n",
       "WLoc       object\n",
       "NumOT       int64\n",
       "WFGM        int64\n",
       "WFGA        int64\n",
       "WFGM3       int64\n",
       "WFGA3       int64\n",
       "WFTM        int64\n",
       "WFTA        int64\n",
       "WOR         int64\n",
       "WDR         int64\n",
       "WAst        int64\n",
       "WTO         int64\n",
       "WStl        int64\n",
       "WBlk        int64\n",
       "WPF         int64\n",
       "LFGM        int64\n",
       "LFGA        int64\n",
       "LFGM3       int64\n",
       "LFGA3       int64\n",
       "LFTM        int64\n",
       "LFTA        int64\n",
       "LOR         int64\n",
       "LDR         int64\n",
       "LAst        int64\n",
       "LTO         int64\n",
       "LStl        int64\n",
       "LBlk        int64\n",
       "LPF         int64\n",
       "dtype: object"
      ]
     },
     "execution_count": 15,
     "metadata": {},
     "output_type": "execute_result"
    }
   ],
   "source": [
    "df_reg.dtypes"
   ]
  },
  {
   "cell_type": "code",
   "execution_count": 21,
   "metadata": {},
   "outputs": [
    {
     "data": {
      "text/plain": [
       "0    1.094340\n",
       "1    0.925373\n",
       "2    0.794521\n",
       "3    0.775510\n",
       "4    0.983871\n",
       "Name: win_lose_fg_attempts, dtype: float64"
      ]
     },
     "execution_count": 21,
     "metadata": {},
     "output_type": "execute_result"
    }
   ],
   "source": [
    "# Winning / Losing Field Goal Attempts - Percent of field goals attempted by winning vs. losing teams\n",
    "\n",
    "df_reg['win_lose_fg_attempts'] = df_reg['WFGA'] / df_reg['LFGA']\n",
    "df_reg['win_lose_fg_attempts'].head()"
   ]
  },
  {
   "cell_type": "code",
   "execution_count": 20,
   "metadata": {},
   "outputs": [
    {
     "data": {
      "text/plain": [
       "0    1.227273\n",
       "1    1.083333\n",
       "2    1.090909\n",
       "3    1.000000\n",
       "4    1.250000\n",
       "Name: win_lose_fg_made, dtype: float64"
      ]
     },
     "execution_count": 20,
     "metadata": {},
     "output_type": "execute_result"
    }
   ],
   "source": [
    "# Winning / Losing Field Goals Made - Percent of field goals made by winning vs. losing teams\n",
    "\n",
    "df_reg['win_lose_fg_made'] = df_reg['WFGM'] / df_reg['LFGM']\n",
    "df_reg['win_lose_fg_made'].head()"
   ]
  },
  {
   "cell_type": "code",
   "execution_count": 37,
   "metadata": {},
   "outputs": [
    {
     "data": {
      "text/plain": [
       "0    0.818182\n",
       "1    0.950000\n",
       "2    1.260870\n",
       "3    2.066667\n",
       "4    0.481481\n",
       "Name: win_lose_ft_attempts, dtype: float64"
      ]
     },
     "execution_count": 37,
     "metadata": {},
     "output_type": "execute_result"
    }
   ],
   "source": [
    "# Winning / Losing Free Throw Attempts - Percent of free throws attempted by winning vs. losing team\n",
    "\n",
    "df_reg['win_lose_ft_attempts'] = df_reg['WFTA'] / df_reg['LFTA']\n",
    "df_reg['win_lose_ft_attempts'].head()\n"
   ]
  },
  {
   "cell_type": "code",
   "execution_count": 40,
   "metadata": {},
   "outputs": [
    {
     "data": {
      "text/plain": [
       "0    0.687500\n",
       "1    1.111111\n",
       "2    1.214286\n",
       "3    2.125000\n",
       "4    0.647059\n",
       "Name: win_lose_ft_made, dtype: float64"
      ]
     },
     "execution_count": 40,
     "metadata": {},
     "output_type": "execute_result"
    }
   ],
   "source": [
    "# Winning / Losing Free Throws Made - Percent of free throws made by winning vs. losing team\n",
    "\n",
    "df_reg['win_lose_ft_made'] = df_reg['WFTM'] / df_reg['LFTM']\n",
    "df_reg['win_lose_ft_made'].head()\n"
   ]
  },
  {
   "cell_type": "markdown",
   "metadata": {},
   "source": [
    "## EDA"
   ]
  },
  {
   "cell_type": "markdown",
   "metadata": {},
   "source": [
    "### Summary Statistics"
   ]
  },
  {
   "cell_type": "code",
   "execution_count": 43,
   "metadata": {},
   "outputs": [
    {
     "data": {
      "text/html": [
       "<div>\n",
       "<style>\n",
       "    .dataframe thead tr:only-child th {\n",
       "        text-align: right;\n",
       "    }\n",
       "\n",
       "    .dataframe thead th {\n",
       "        text-align: left;\n",
       "    }\n",
       "\n",
       "    .dataframe tbody tr th {\n",
       "        vertical-align: top;\n",
       "    }\n",
       "</style>\n",
       "<table border=\"1\" class=\"dataframe\">\n",
       "  <thead>\n",
       "    <tr style=\"text-align: right;\">\n",
       "      <th></th>\n",
       "      <th>win_lose_fg_attempts</th>\n",
       "      <th>win_lose_fg_made</th>\n",
       "    </tr>\n",
       "  </thead>\n",
       "  <tbody>\n",
       "    <tr>\n",
       "      <th>count</th>\n",
       "      <td>82041.000000</td>\n",
       "      <td>82041.000000</td>\n",
       "    </tr>\n",
       "    <tr>\n",
       "      <th>mean</th>\n",
       "      <td>0.990770</td>\n",
       "      <td>1.186750</td>\n",
       "    </tr>\n",
       "    <tr>\n",
       "      <th>std</th>\n",
       "      <td>0.162779</td>\n",
       "      <td>0.276036</td>\n",
       "    </tr>\n",
       "    <tr>\n",
       "      <th>min</th>\n",
       "      <td>0.442623</td>\n",
       "      <td>0.538462</td>\n",
       "    </tr>\n",
       "    <tr>\n",
       "      <th>25%</th>\n",
       "      <td>0.876923</td>\n",
       "      <td>1.000000</td>\n",
       "    </tr>\n",
       "    <tr>\n",
       "      <th>50%</th>\n",
       "      <td>0.980769</td>\n",
       "      <td>1.130435</td>\n",
       "    </tr>\n",
       "    <tr>\n",
       "      <th>75%</th>\n",
       "      <td>1.089286</td>\n",
       "      <td>1.312500</td>\n",
       "    </tr>\n",
       "    <tr>\n",
       "      <th>max</th>\n",
       "      <td>2.000000</td>\n",
       "      <td>4.833333</td>\n",
       "    </tr>\n",
       "  </tbody>\n",
       "</table>\n",
       "</div>"
      ],
      "text/plain": [
       "       win_lose_fg_attempts  win_lose_fg_made\n",
       "count          82041.000000      82041.000000\n",
       "mean               0.990770          1.186750\n",
       "std                0.162779          0.276036\n",
       "min                0.442623          0.538462\n",
       "25%                0.876923          1.000000\n",
       "50%                0.980769          1.130435\n",
       "75%                1.089286          1.312500\n",
       "max                2.000000          4.833333"
      ]
     },
     "execution_count": 43,
     "metadata": {},
     "output_type": "execute_result"
    }
   ],
   "source": [
    "df_reg[['win_lose_fg_attempts', 'win_lose_fg_made']].describe()"
   ]
  },
  {
   "cell_type": "code",
   "execution_count": 42,
   "metadata": {},
   "outputs": [
    {
     "data": {
      "text/html": [
       "<div>\n",
       "<style>\n",
       "    .dataframe thead tr:only-child th {\n",
       "        text-align: right;\n",
       "    }\n",
       "\n",
       "    .dataframe thead th {\n",
       "        text-align: left;\n",
       "    }\n",
       "\n",
       "    .dataframe tbody tr th {\n",
       "        vertical-align: top;\n",
       "    }\n",
       "</style>\n",
       "<table border=\"1\" class=\"dataframe\">\n",
       "  <thead>\n",
       "    <tr style=\"text-align: right;\">\n",
       "      <th></th>\n",
       "      <th>WFGA</th>\n",
       "      <th>LFGA</th>\n",
       "      <th>win_lose_fg_attempts</th>\n",
       "      <th>WFGM</th>\n",
       "      <th>LFGM</th>\n",
       "      <th>win_lose_fg_made</th>\n",
       "    </tr>\n",
       "  </thead>\n",
       "  <tbody>\n",
       "    <tr>\n",
       "      <th>count</th>\n",
       "      <td>82041.000000</td>\n",
       "      <td>82041.000000</td>\n",
       "      <td>82041.000000</td>\n",
       "      <td>82041.000000</td>\n",
       "      <td>82041.000000</td>\n",
       "      <td>82041.000000</td>\n",
       "    </tr>\n",
       "    <tr>\n",
       "      <th>mean</th>\n",
       "      <td>55.038334</td>\n",
       "      <td>56.286796</td>\n",
       "      <td>0.990770</td>\n",
       "      <td>26.037286</td>\n",
       "      <td>22.537146</td>\n",
       "      <td>1.186750</td>\n",
       "    </tr>\n",
       "    <tr>\n",
       "      <th>std</th>\n",
       "      <td>7.585434</td>\n",
       "      <td>7.706462</td>\n",
       "      <td>0.162779</td>\n",
       "      <td>4.701946</td>\n",
       "      <td>4.387217</td>\n",
       "      <td>0.276036</td>\n",
       "    </tr>\n",
       "    <tr>\n",
       "      <th>min</th>\n",
       "      <td>27.000000</td>\n",
       "      <td>26.000000</td>\n",
       "      <td>0.442623</td>\n",
       "      <td>10.000000</td>\n",
       "      <td>6.000000</td>\n",
       "      <td>0.538462</td>\n",
       "    </tr>\n",
       "    <tr>\n",
       "      <th>25%</th>\n",
       "      <td>50.000000</td>\n",
       "      <td>51.000000</td>\n",
       "      <td>0.876923</td>\n",
       "      <td>23.000000</td>\n",
       "      <td>20.000000</td>\n",
       "      <td>1.000000</td>\n",
       "    </tr>\n",
       "    <tr>\n",
       "      <th>50%</th>\n",
       "      <td>55.000000</td>\n",
       "      <td>56.000000</td>\n",
       "      <td>0.980769</td>\n",
       "      <td>26.000000</td>\n",
       "      <td>22.000000</td>\n",
       "      <td>1.130435</td>\n",
       "    </tr>\n",
       "    <tr>\n",
       "      <th>75%</th>\n",
       "      <td>60.000000</td>\n",
       "      <td>61.000000</td>\n",
       "      <td>1.089286</td>\n",
       "      <td>29.000000</td>\n",
       "      <td>25.000000</td>\n",
       "      <td>1.312500</td>\n",
       "    </tr>\n",
       "    <tr>\n",
       "      <th>max</th>\n",
       "      <td>103.000000</td>\n",
       "      <td>106.000000</td>\n",
       "      <td>2.000000</td>\n",
       "      <td>56.000000</td>\n",
       "      <td>47.000000</td>\n",
       "      <td>4.833333</td>\n",
       "    </tr>\n",
       "  </tbody>\n",
       "</table>\n",
       "</div>"
      ],
      "text/plain": [
       "               WFGA          LFGA  win_lose_fg_attempts          WFGM  \\\n",
       "count  82041.000000  82041.000000          82041.000000  82041.000000   \n",
       "mean      55.038334     56.286796              0.990770     26.037286   \n",
       "std        7.585434      7.706462              0.162779      4.701946   \n",
       "min       27.000000     26.000000              0.442623     10.000000   \n",
       "25%       50.000000     51.000000              0.876923     23.000000   \n",
       "50%       55.000000     56.000000              0.980769     26.000000   \n",
       "75%       60.000000     61.000000              1.089286     29.000000   \n",
       "max      103.000000    106.000000              2.000000     56.000000   \n",
       "\n",
       "               LFGM  win_lose_fg_made  \n",
       "count  82041.000000      82041.000000  \n",
       "mean      22.537146          1.186750  \n",
       "std        4.387217          0.276036  \n",
       "min        6.000000          0.538462  \n",
       "25%       20.000000          1.000000  \n",
       "50%       22.000000          1.130435  \n",
       "75%       25.000000          1.312500  \n",
       "max       47.000000          4.833333  "
      ]
     },
     "execution_count": 42,
     "metadata": {},
     "output_type": "execute_result"
    }
   ],
   "source": [
    "df_reg[['WFGA', 'LFGA', 'win_lose_fg_attempts', 'WFGM', 'LFGM', 'win_lose_fg_made']].describe()"
   ]
  },
  {
   "cell_type": "code",
   "execution_count": 44,
   "metadata": {},
   "outputs": [
    {
     "data": {
      "text/html": [
       "<div>\n",
       "<style>\n",
       "    .dataframe thead tr:only-child th {\n",
       "        text-align: right;\n",
       "    }\n",
       "\n",
       "    .dataframe thead th {\n",
       "        text-align: left;\n",
       "    }\n",
       "\n",
       "    .dataframe tbody tr th {\n",
       "        vertical-align: top;\n",
       "    }\n",
       "</style>\n",
       "<table border=\"1\" class=\"dataframe\">\n",
       "  <thead>\n",
       "    <tr style=\"text-align: right;\">\n",
       "      <th></th>\n",
       "      <th>win_lose_ft_attempts</th>\n",
       "      <th>win_lose_ft_made</th>\n",
       "    </tr>\n",
       "  </thead>\n",
       "  <tbody>\n",
       "    <tr>\n",
       "      <th>count</th>\n",
       "      <td>8.204100e+04</td>\n",
       "      <td>8.204100e+04</td>\n",
       "    </tr>\n",
       "    <tr>\n",
       "      <th>mean</th>\n",
       "      <td>inf</td>\n",
       "      <td>inf</td>\n",
       "    </tr>\n",
       "    <tr>\n",
       "      <th>std</th>\n",
       "      <td>NaN</td>\n",
       "      <td>NaN</td>\n",
       "    </tr>\n",
       "    <tr>\n",
       "      <th>min</th>\n",
       "      <td>0.000000e+00</td>\n",
       "      <td>0.000000e+00</td>\n",
       "    </tr>\n",
       "    <tr>\n",
       "      <th>25%</th>\n",
       "      <td>9.285714e-01</td>\n",
       "      <td>9.375000e-01</td>\n",
       "    </tr>\n",
       "    <tr>\n",
       "      <th>50%</th>\n",
       "      <td>1.266667e+00</td>\n",
       "      <td>1.333333e+00</td>\n",
       "    </tr>\n",
       "    <tr>\n",
       "      <th>75%</th>\n",
       "      <td>1.750000e+00</td>\n",
       "      <td>1.916667e+00</td>\n",
       "    </tr>\n",
       "    <tr>\n",
       "      <th>max</th>\n",
       "      <td>inf</td>\n",
       "      <td>inf</td>\n",
       "    </tr>\n",
       "  </tbody>\n",
       "</table>\n",
       "</div>"
      ],
      "text/plain": [
       "       win_lose_ft_attempts  win_lose_ft_made\n",
       "count          8.204100e+04      8.204100e+04\n",
       "mean                    inf               inf\n",
       "std                     NaN               NaN\n",
       "min            0.000000e+00      0.000000e+00\n",
       "25%            9.285714e-01      9.375000e-01\n",
       "50%            1.266667e+00      1.333333e+00\n",
       "75%            1.750000e+00      1.916667e+00\n",
       "max                     inf               inf"
      ]
     },
     "execution_count": 44,
     "metadata": {},
     "output_type": "execute_result"
    }
   ],
   "source": [
    "df_reg[['win_lose_ft_attempts', 'win_lose_ft_made']].describe()"
   ]
  },
  {
   "cell_type": "code",
   "execution_count": 45,
   "metadata": {},
   "outputs": [
    {
     "data": {
      "text/html": [
       "<div>\n",
       "<style>\n",
       "    .dataframe thead tr:only-child th {\n",
       "        text-align: right;\n",
       "    }\n",
       "\n",
       "    .dataframe thead th {\n",
       "        text-align: left;\n",
       "    }\n",
       "\n",
       "    .dataframe tbody tr th {\n",
       "        vertical-align: top;\n",
       "    }\n",
       "</style>\n",
       "<table border=\"1\" class=\"dataframe\">\n",
       "  <thead>\n",
       "    <tr style=\"text-align: right;\">\n",
       "      <th></th>\n",
       "      <th>WFTA</th>\n",
       "      <th>LFTA</th>\n",
       "      <th>win_lose_ft_attempts</th>\n",
       "      <th>WFTM</th>\n",
       "      <th>LFTM</th>\n",
       "      <th>win_lose_ft_made</th>\n",
       "    </tr>\n",
       "  </thead>\n",
       "  <tbody>\n",
       "    <tr>\n",
       "      <th>count</th>\n",
       "      <td>82041.000000</td>\n",
       "      <td>82041.000000</td>\n",
       "      <td>8.204100e+04</td>\n",
       "      <td>82041.000000</td>\n",
       "      <td>82041.000000</td>\n",
       "      <td>8.204100e+04</td>\n",
       "    </tr>\n",
       "    <tr>\n",
       "      <th>mean</th>\n",
       "      <td>22.776124</td>\n",
       "      <td>18.094258</td>\n",
       "      <td>inf</td>\n",
       "      <td>16.160042</td>\n",
       "      <td>12.209468</td>\n",
       "      <td>inf</td>\n",
       "    </tr>\n",
       "    <tr>\n",
       "      <th>std</th>\n",
       "      <td>8.133670</td>\n",
       "      <td>7.154317</td>\n",
       "      <td>NaN</td>\n",
       "      <td>6.256617</td>\n",
       "      <td>5.372825</td>\n",
       "      <td>NaN</td>\n",
       "    </tr>\n",
       "    <tr>\n",
       "      <th>min</th>\n",
       "      <td>0.000000</td>\n",
       "      <td>0.000000</td>\n",
       "      <td>0.000000e+00</td>\n",
       "      <td>0.000000</td>\n",
       "      <td>0.000000</td>\n",
       "      <td>0.000000e+00</td>\n",
       "    </tr>\n",
       "    <tr>\n",
       "      <th>25%</th>\n",
       "      <td>17.000000</td>\n",
       "      <td>13.000000</td>\n",
       "      <td>9.285714e-01</td>\n",
       "      <td>12.000000</td>\n",
       "      <td>8.000000</td>\n",
       "      <td>9.375000e-01</td>\n",
       "    </tr>\n",
       "    <tr>\n",
       "      <th>50%</th>\n",
       "      <td>22.000000</td>\n",
       "      <td>18.000000</td>\n",
       "      <td>1.266667e+00</td>\n",
       "      <td>16.000000</td>\n",
       "      <td>12.000000</td>\n",
       "      <td>1.333333e+00</td>\n",
       "    </tr>\n",
       "    <tr>\n",
       "      <th>75%</th>\n",
       "      <td>28.000000</td>\n",
       "      <td>23.000000</td>\n",
       "      <td>1.750000e+00</td>\n",
       "      <td>20.000000</td>\n",
       "      <td>16.000000</td>\n",
       "      <td>1.916667e+00</td>\n",
       "    </tr>\n",
       "    <tr>\n",
       "      <th>max</th>\n",
       "      <td>67.000000</td>\n",
       "      <td>61.000000</td>\n",
       "      <td>inf</td>\n",
       "      <td>48.000000</td>\n",
       "      <td>42.000000</td>\n",
       "      <td>inf</td>\n",
       "    </tr>\n",
       "  </tbody>\n",
       "</table>\n",
       "</div>"
      ],
      "text/plain": [
       "               WFTA          LFTA  win_lose_ft_attempts          WFTM  \\\n",
       "count  82041.000000  82041.000000          8.204100e+04  82041.000000   \n",
       "mean      22.776124     18.094258                   inf     16.160042   \n",
       "std        8.133670      7.154317                   NaN      6.256617   \n",
       "min        0.000000      0.000000          0.000000e+00      0.000000   \n",
       "25%       17.000000     13.000000          9.285714e-01     12.000000   \n",
       "50%       22.000000     18.000000          1.266667e+00     16.000000   \n",
       "75%       28.000000     23.000000          1.750000e+00     20.000000   \n",
       "max       67.000000     61.000000                   inf     48.000000   \n",
       "\n",
       "               LFTM  win_lose_ft_made  \n",
       "count  82041.000000      8.204100e+04  \n",
       "mean      12.209468               inf  \n",
       "std        5.372825               NaN  \n",
       "min        0.000000      0.000000e+00  \n",
       "25%        8.000000      9.375000e-01  \n",
       "50%       12.000000      1.333333e+00  \n",
       "75%       16.000000      1.916667e+00  \n",
       "max       42.000000               inf  "
      ]
     },
     "execution_count": 45,
     "metadata": {},
     "output_type": "execute_result"
    }
   ],
   "source": [
    "df_reg[['WFTA', 'LFTA', 'win_lose_ft_attempts', 'WFTM', 'LFTM', 'win_lose_ft_made']].describe()"
   ]
  },
  {
   "cell_type": "markdown",
   "metadata": {},
   "source": [
    "### Charts and Graphs"
   ]
  },
  {
   "cell_type": "code",
   "execution_count": 55,
   "metadata": {},
   "outputs": [
    {
     "data": {
      "text/plain": [
       "<matplotlib.figure.Figure at 0x132630f0>"
      ]
     },
     "execution_count": 55,
     "metadata": {},
     "output_type": "execute_result"
    },
    {
     "data": {
      "text/plain": [
       "{'boxes': [<matplotlib.lines.Line2D at 0x12f5c588>,\n",
       "  <matplotlib.lines.Line2D at 0x12f77908>],\n",
       " 'caps': [<matplotlib.lines.Line2D at 0x12f6b320>,\n",
       "  <matplotlib.lines.Line2D at 0x12f6b898>,\n",
       "  <matplotlib.lines.Line2D at 0x12f869b0>,\n",
       "  <matplotlib.lines.Line2D at 0x12f86f28>],\n",
       " 'fliers': [<matplotlib.lines.Line2D at 0x12f773c8>,\n",
       "  <matplotlib.lines.Line2D at 0x12c31a58>],\n",
       " 'means': [],\n",
       " 'medians': [<matplotlib.lines.Line2D at 0x12f6be10>,\n",
       "  <matplotlib.lines.Line2D at 0x12c314e0>],\n",
       " 'whiskers': [<matplotlib.lines.Line2D at 0x12f5c748>,\n",
       "  <matplotlib.lines.Line2D at 0x12f5cd68>,\n",
       "  <matplotlib.lines.Line2D at 0x12f77e80>,\n",
       "  <matplotlib.lines.Line2D at 0x12f86438>]}"
      ]
     },
     "execution_count": 55,
     "metadata": {},
     "output_type": "execute_result"
    },
    {
     "data": {
      "text/plain": [
       "<matplotlib.text.Text at 0x131e3da0>"
      ]
     },
     "execution_count": 55,
     "metadata": {},
     "output_type": "execute_result"
    },
    {
     "data": {
      "text/plain": [
       "([<matplotlib.axis.XTick at 0xf24cba8>, <matplotlib.axis.XTick at 0x131d95f8>],\n",
       " <a list of 2 Text xticklabel objects>)"
      ]
     },
     "execution_count": 55,
     "metadata": {},
     "output_type": "execute_result"
    },
    {
     "data": {
      "image/png": "[encoded data removed]",
      "text/plain": [
       "<matplotlib.figure.Figure at 0x132630f0>"
      ]
     },
     "metadata": {},
     "output_type": "display_data"
    }
   ],
   "source": [
    "data = [df_reg['win_lose_fg_attempts'], df_reg['win_lose_fg_made'],]\n",
    "labels = ['win_lose_fg_attempts', 'win_lose_fg_made']\n",
    "plt.figure()\n",
    "plt.boxplot(data)\n",
    "plt.title('Boxplot for Winning vs. Losing Team Field Goal Attempts & Field Goals Made')\n",
    "#plt.xlabel('Combined Shooting %, Winning Team Shooting %, Losing Team Shooting %')\n",
    "\n",
    "plt.xticks([1, 2], ['win_lose_fg_attempts', 'win_lose_fg_made'])"
   ]
  },
  {
   "cell_type": "code",
   "execution_count": 63,
   "metadata": {},
   "outputs": [
    {
     "data": {
      "text/plain": [
       "<matplotlib.figure.Figure at 0x1552af98>"
      ]
     },
     "execution_count": 63,
     "metadata": {},
     "output_type": "execute_result"
    },
    {
     "data": {
      "text/plain": [
       "{'boxes': [<matplotlib.lines.Line2D at 0x11f65e80>,\n",
       "  <matplotlib.lines.Line2D at 0x1595a240>],\n",
       " 'caps': [<matplotlib.lines.Line2D at 0x15949c18>,\n",
       "  <matplotlib.lines.Line2D at 0x159431d0>,\n",
       "  <matplotlib.lines.Line2D at 0x159712e8>,\n",
       "  <matplotlib.lines.Line2D at 0x15971860>],\n",
       " 'fliers': [<matplotlib.lines.Line2D at 0x15943cc0>,\n",
       "  <matplotlib.lines.Line2D at 0x15859390>],\n",
       " 'means': [],\n",
       " 'medians': [<matplotlib.lines.Line2D at 0x15943748>,\n",
       "  <matplotlib.lines.Line2D at 0x15971dd8>],\n",
       " 'whiskers': [<matplotlib.lines.Line2D at 0x15949080>,\n",
       "  <matplotlib.lines.Line2D at 0x159496a0>,\n",
       "  <matplotlib.lines.Line2D at 0x1595a7b8>,\n",
       "  <matplotlib.lines.Line2D at 0x1595ad30>]}"
      ]
     },
     "execution_count": 63,
     "metadata": {},
     "output_type": "execute_result"
    },
    {
     "data": {
      "text/plain": [
       "<matplotlib.text.Text at 0x11f576d8>"
      ]
     },
     "execution_count": 63,
     "metadata": {},
     "output_type": "execute_result"
    },
    {
     "data": {
      "text/plain": [
       "([<matplotlib.axis.XTick at 0x1599e2e8>,\n",
       "  <matplotlib.axis.XTick at 0x155acc88>],\n",
       " <a list of 2 Text xticklabel objects>)"
      ]
     },
     "execution_count": 63,
     "metadata": {},
     "output_type": "execute_result"
    },
    {
     "data": {
      "image/png": "[encoded data removed]",
      "text/plain": [
       "<matplotlib.figure.Figure at 0x1552af98>"
      ]
     },
     "metadata": {},
     "output_type": "display_data"
    }
   ],
   "source": [
    "data = [df_reg['win_lose_ft_attempts'], df_reg['win_lose_ft_made'],]\n",
    "labels = ['win_lose_ft_attempts', 'win_lose_ft_made']\n",
    "plt.figure()\n",
    "plt.boxplot(data)\n",
    "plt.title('Boxplot for Winning vs. Losing Team Free Throw Attempts & Free Throws Made')\n",
    "#plt.xlabel('Combined Shooting %, Winning Team Shooting %, Losing Team Shooting %')\n",
    "\n",
    "plt.xticks([1, 2], ['win_lose_ft_attempts', 'win_lose_ft_made'])"
   ]
  },
  {
   "cell_type": "code",
   "execution_count": 71,
   "metadata": {},
   "outputs": [
    {
     "name": "stdout",
     "output_type": "stream",
     "text": [
      "ttest_ind: t = -175.17  p = 0.0000\n"
     ]
    }
   ],
   "source": [
    "t, p = ttest_ind(df_reg['win_lose_fg_attempts'], df_reg['win_lose_fg_made'], equal_var=True)\n",
    "print(\"ttest_ind: t = {0:.2f}  p = {1:.4f}\".format(t, p))"
   ]
  },
  {
   "cell_type": "markdown",
   "metadata": {
    "collapsed": true
   },
   "source": [
    "## Commentary"
   ]
  },
  {
   "cell_type": "markdown",
   "metadata": {},
   "source": [
    "When looking at the winning team vs. losing team Field Goal Attempts ratio distribution, it is interesting that on averge the losing teams attempt more field goals (two and three point shots) in a given game.  The mean of the distribution is 0.990770, which tilts slightly towards the losing team attempts.\n",
    "\n",
    "However (and unsurprisingly), the winning teams make more field goals.  The mean of the winning vs. losing team field goals made distribution is 1.186750, which tilts towards the winning team.  Even for the 25th percentile of the distribution, the ratio is ~ 1.0 : 1.0 for the fields goals made by the winning vs. losing teams."
   ]
  }
 ],
 "metadata": {
  "kernelspec": {
   "display_name": "Python 2",
   "language": "python",
   "name": "python2"
  },
  "language_info": {
   "codemirror_mode": {
    "name": "ipython",
    "version": 2
   },
   "file_extension": ".py",
   "mimetype": "text/x-python",
   "name": "python",
   "nbconvert_exporter": "python",
   "pygments_lexer": "ipython2",
   "version": "2.7.13"
  }
 },
 "nbformat": 4,
 "nbformat_minor": 2
}
