{
 "cells": [
  {
   "cell_type": "markdown",
   "metadata": {},
   "source": [
    "# Features Covered:\n",
    "\n",
    "Cumulative Games vs. Opponent - Number of cumulative games before a given day vs. a particular opponent (cum_games_v_opp).\n",
    "\n",
    "Cumulative Wins vs. Opponent - Number of cumulative wins before a given day vs. a particular opponent (cum_wins_v_opp).\n",
    "\n",
    "Cumulative Win Percent vs. Opponent - Cumulative win percentage before a given day vs. a particular opponent (cum_winpct_v_opp).\n",
    "\n",
    "\n",
    "\n",
    "\n"
   ]
  },
  {
   "cell_type": "markdown",
   "metadata": {},
   "source": [
    "#### Being updated (ignore for now):\n",
    "\n",
    "Winning / Losing Field Goal Attempts - Percent of field goals attempted by winning vs. losing team\n",
    "\n",
    "Winning / Losing Field Goals Made - Percent of field goals made by winning vs. losing team\n",
    "\n",
    "Winning / Losing Free Throw Attempts - Percent of free throws attempted by winning vs. losing team\n",
    "\n",
    "Winning / Losing Free Throws Made - Percent of free throws made by winning vs. losing team"
   ]
  },
  {
   "cell_type": "markdown",
   "metadata": {},
   "source": [
    "## Setup"
   ]
  },
  {
   "cell_type": "code",
   "execution_count": 1,
   "metadata": {},
   "outputs": [],
   "source": [
    "# This tells matplotlib not to try opening a new window for each plot.\n",
    "%matplotlib inline\n",
    "\n",
    "# display multiple outputs, default is 'last_expr' (last expression)\n",
    "# http://ipython.readthedocs.io/en/stable/config/options/terminal.html\n",
    "from IPython.core.interactiveshell import InteractiveShell\n",
    "InteractiveShell.ast_node_interactivity = \"all\"\n",
    "\n",
    "import numpy as np\n",
    "import pandas as pd\n",
    "import matplotlib.pyplot as plt\n",
    "\n",
    "from sklearn.metrics import confusion_matrix\n",
    "from sklearn import metrics\n",
    "from sklearn.metrics import classification_report\n",
    "\n",
    "from scipy.stats import ttest_ind, ttest_ind_from_stats\n",
    "from sqlalchemy import create_engine"
   ]
  },
  {
   "cell_type": "code",
   "execution_count": 2,
   "metadata": {},
   "outputs": [],
   "source": [
    "import psycopg2 as pg\n"
   ]
  },
  {
   "cell_type": "code",
   "execution_count": 3,
   "metadata": {},
   "outputs": [],
   "source": [
    "# Establish connection to postgres and downloading data\n",
    "query = '''SELECT * FROM prod.features'''\n",
    "\n",
    "conn = pg.connect(database='postgres',\n",
    "                  user='postgres',\n",
    "                  password='w207final',\n",
    "                  host='35.185.225.167')\n",
    "\n",
    "df = pd.read_sql_query(query, conn)"
   ]
  },
  {
   "cell_type": "code",
   "execution_count": 4,
   "metadata": {},
   "outputs": [
    {
     "data": {
      "text/html": [
       "<div>\n",
       "<style scoped>\n",
       "    .dataframe tbody tr th:only-of-type {\n",
       "        vertical-align: middle;\n",
       "    }\n",
       "\n",
       "    .dataframe tbody tr th {\n",
       "        vertical-align: top;\n",
       "    }\n",
       "\n",
       "    .dataframe thead th {\n",
       "        text-align: right;\n",
       "    }\n",
       "</style>\n",
       "<table border=\"1\" class=\"dataframe\">\n",
       "  <thead>\n",
       "    <tr style=\"text-align: right;\">\n",
       "      <th></th>\n",
       "      <th>Season</th>\n",
       "      <th>DayNum</th>\n",
       "      <th>Team</th>\n",
       "      <th>Opponent</th>\n",
       "      <th>Outcome</th>\n",
       "      <th>Score</th>\n",
       "      <th>OpponentScore</th>\n",
       "      <th>NumOT</th>\n",
       "      <th>WLoc</th>\n",
       "      <th>Season Type</th>\n",
       "      <th>...</th>\n",
       "      <th>ThreePointAttPct_Opponent</th>\n",
       "      <th>FieldGoalAtt_Opponent</th>\n",
       "      <th>TwoPointAtt_Opponent</th>\n",
       "      <th>ThreePointAtt_Opponent</th>\n",
       "      <th>FreeThrowAtt_Opponent</th>\n",
       "      <th>Assists_Opponent</th>\n",
       "      <th>Turnovers_Opponent</th>\n",
       "      <th>Steals_Opponent</th>\n",
       "      <th>Blocks_Opponent</th>\n",
       "      <th>PersonalFouls_Opponent</th>\n",
       "    </tr>\n",
       "  </thead>\n",
       "  <tbody>\n",
       "    <tr>\n",
       "      <th>0</th>\n",
       "      <td>2018</td>\n",
       "      <td>999</td>\n",
       "      <td>1104</td>\n",
       "      <td>1437</td>\n",
       "      <td>0.0</td>\n",
       "      <td>58.0</td>\n",
       "      <td>81.0</td>\n",
       "      <td>NaN</td>\n",
       "      <td>None</td>\n",
       "      <td>NCAA Tourney</td>\n",
       "      <td>...</td>\n",
       "      <td>0.465569</td>\n",
       "      <td>61.4545</td>\n",
       "      <td>32.6667</td>\n",
       "      <td>28.7879</td>\n",
       "      <td>17.7273</td>\n",
       "      <td>16.8485</td>\n",
       "      <td>10.3636</td>\n",
       "      <td>6.72727</td>\n",
       "      <td>3.90909</td>\n",
       "      <td>15.9091</td>\n",
       "    </tr>\n",
       "    <tr>\n",
       "      <th>1</th>\n",
       "      <td>2018</td>\n",
       "      <td>999</td>\n",
       "      <td>1104</td>\n",
       "      <td>1439</td>\n",
       "      <td>1.0</td>\n",
       "      <td>86.0</td>\n",
       "      <td>83.0</td>\n",
       "      <td>NaN</td>\n",
       "      <td>None</td>\n",
       "      <td>NCAA Tourney</td>\n",
       "      <td>...</td>\n",
       "      <td>0.398432</td>\n",
       "      <td>56.4839</td>\n",
       "      <td>34.0000</td>\n",
       "      <td>22.4839</td>\n",
       "      <td>21.0323</td>\n",
       "      <td>16.5484</td>\n",
       "      <td>12.0000</td>\n",
       "      <td>5.74194</td>\n",
       "      <td>2.32258</td>\n",
       "      <td>15.5161</td>\n",
       "    </tr>\n",
       "    <tr>\n",
       "      <th>2</th>\n",
       "      <td>2018</td>\n",
       "      <td>999</td>\n",
       "      <td>1112</td>\n",
       "      <td>1138</td>\n",
       "      <td>0.0</td>\n",
       "      <td>68.0</td>\n",
       "      <td>89.0</td>\n",
       "      <td>NaN</td>\n",
       "      <td>None</td>\n",
       "      <td>NCAA Tourney</td>\n",
       "      <td>...</td>\n",
       "      <td>0.402211</td>\n",
       "      <td>64.9062</td>\n",
       "      <td>38.7812</td>\n",
       "      <td>26.1250</td>\n",
       "      <td>19.7500</td>\n",
       "      <td>17.0000</td>\n",
       "      <td>12.4688</td>\n",
       "      <td>6.12500</td>\n",
       "      <td>4.28125</td>\n",
       "      <td>21.2500</td>\n",
       "    </tr>\n",
       "    <tr>\n",
       "      <th>3</th>\n",
       "      <td>2018</td>\n",
       "      <td>999</td>\n",
       "      <td>1113</td>\n",
       "      <td>1393</td>\n",
       "      <td>0.0</td>\n",
       "      <td>56.0</td>\n",
       "      <td>60.0</td>\n",
       "      <td>NaN</td>\n",
       "      <td>None</td>\n",
       "      <td>NCAA Tourney</td>\n",
       "      <td>...</td>\n",
       "      <td>0.336996</td>\n",
       "      <td>54.1562</td>\n",
       "      <td>36.1250</td>\n",
       "      <td>18.0312</td>\n",
       "      <td>22.0938</td>\n",
       "      <td>11.1250</td>\n",
       "      <td>12.5938</td>\n",
       "      <td>7.31250</td>\n",
       "      <td>5.59375</td>\n",
       "      <td>16.2500</td>\n",
       "    </tr>\n",
       "    <tr>\n",
       "      <th>4</th>\n",
       "      <td>2018</td>\n",
       "      <td>999</td>\n",
       "      <td>1116</td>\n",
       "      <td>1139</td>\n",
       "      <td>0.0</td>\n",
       "      <td>62.0</td>\n",
       "      <td>79.0</td>\n",
       "      <td>NaN</td>\n",
       "      <td>None</td>\n",
       "      <td>NCAA Tourney</td>\n",
       "      <td>...</td>\n",
       "      <td>0.373571</td>\n",
       "      <td>62.1562</td>\n",
       "      <td>39.0625</td>\n",
       "      <td>23.0938</td>\n",
       "      <td>16.3438</td>\n",
       "      <td>14.0000</td>\n",
       "      <td>11.1562</td>\n",
       "      <td>6.84375</td>\n",
       "      <td>2.93750</td>\n",
       "      <td>18.3438</td>\n",
       "    </tr>\n",
       "  </tbody>\n",
       "</table>\n",
       "<p>5 rows × 64 columns</p>\n",
       "</div>"
      ],
      "text/plain": [
       "   Season  DayNum  Team  Opponent  Outcome  Score  OpponentScore  NumOT  WLoc  \\\n",
       "0    2018     999  1104      1437      0.0   58.0           81.0    NaN  None   \n",
       "1    2018     999  1104      1439      1.0   86.0           83.0    NaN  None   \n",
       "2    2018     999  1112      1138      0.0   68.0           89.0    NaN  None   \n",
       "3    2018     999  1113      1393      0.0   56.0           60.0    NaN  None   \n",
       "4    2018     999  1116      1139      0.0   62.0           79.0    NaN  None   \n",
       "\n",
       "    Season Type           ...            ThreePointAttPct_Opponent  \\\n",
       "0  NCAA Tourney           ...                             0.465569   \n",
       "1  NCAA Tourney           ...                             0.398432   \n",
       "2  NCAA Tourney           ...                             0.402211   \n",
       "3  NCAA Tourney           ...                             0.336996   \n",
       "4  NCAA Tourney           ...                             0.373571   \n",
       "\n",
       "   FieldGoalAtt_Opponent  TwoPointAtt_Opponent  ThreePointAtt_Opponent  \\\n",
       "0                61.4545               32.6667                 28.7879   \n",
       "1                56.4839               34.0000                 22.4839   \n",
       "2                64.9062               38.7812                 26.1250   \n",
       "3                54.1562               36.1250                 18.0312   \n",
       "4                62.1562               39.0625                 23.0938   \n",
       "\n",
       "   FreeThrowAtt_Opponent  Assists_Opponent  Turnovers_Opponent  \\\n",
       "0                17.7273           16.8485             10.3636   \n",
       "1                21.0323           16.5484             12.0000   \n",
       "2                19.7500           17.0000             12.4688   \n",
       "3                22.0938           11.1250             12.5938   \n",
       "4                16.3438           14.0000             11.1562   \n",
       "\n",
       "   Steals_Opponent  Blocks_Opponent  PersonalFouls_Opponent  \n",
       "0          6.72727          3.90909                 15.9091  \n",
       "1          5.74194          2.32258                 15.5161  \n",
       "2          6.12500          4.28125                 21.2500  \n",
       "3          7.31250          5.59375                 16.2500  \n",
       "4          6.84375          2.93750                 18.3438  \n",
       "\n",
       "[5 rows x 64 columns]"
      ]
     },
     "execution_count": 4,
     "metadata": {},
     "output_type": "execute_result"
    }
   ],
   "source": [
    "df.head()"
   ]
  },
  {
   "cell_type": "code",
   "execution_count": 6,
   "metadata": {},
   "outputs": [
    {
     "data": {
      "text/plain": [
       "Index([u'Season', u'DayNum', u'Team', u'Opponent', u'Outcome', u'Score',\n",
       "       u'OpponentScore', u'NumOT', u'WLoc', u'Season Type', u'holdout_s1',\n",
       "       u'holdout_s2', u'AvgRank', u'OpponentAvgRank', u'TwoPointPct_Team',\n",
       "       u'ThreePointPct_Team', u'FreeThrowPct_Team', u'OffensiveRebounds_Team',\n",
       "       u'DefensiveRebounds_Team', u'TwoPointPct_Opponent',\n",
       "       u'ThreePointPct_Opponent', u'FreeThrowPct_Opponent',\n",
       "       u'OffensiveRebounds_Opponent', u'DefensiveRebounds_Opponent', u'WinPct',\n",
       "       u'OpponentWinPct', u'WinPctDiff', u'AvgPointsFor', u'AvgPointsAgainst',\n",
       "       u'AvgNetPointsFor', u'SeedDiff', u'OpponentAvgPointsFor',\n",
       "       u'OpponentAvgPointsAgainst', u'OpponentAvgNetPointsFor', u'TourWins',\n",
       "       u'OpponentTourWins', u'TourWinsDiff', u'cum_wins_v_opp',\n",
       "       u'cum_games_v_opp', u'cum_winpct_v_opp', u'FieldGoalPct_Team',\n",
       "       u'TwoPointAttPct_Team', u'ThreePointAttPct_Team', u'FieldGoalAtt_Team',\n",
       "       u'TwoPointAtt_Team', u'ThreePointAtt_Team', u'FreeThrowAtt_Team',\n",
       "       u'Assists_Team', u'Turnovers_Team', u'Steals_Team', u'Blocks_Team',\n",
       "       u'PersonalFouls_Team', u'FieldGoalPct_Opponent',\n",
       "       u'TwoPointAttPct_Opponent', u'ThreePointAttPct_Opponent',\n",
       "       u'FieldGoalAtt_Opponent', u'TwoPointAtt_Opponent',\n",
       "       u'ThreePointAtt_Opponent', u'FreeThrowAtt_Opponent',\n",
       "       u'Assists_Opponent', u'Turnovers_Opponent', u'Steals_Opponent',\n",
       "       u'Blocks_Opponent', u'PersonalFouls_Opponent'],\n",
       "      dtype='object')"
      ]
     },
     "execution_count": 6,
     "metadata": {},
     "output_type": "execute_result"
    }
   ],
   "source": [
    "df.columns"
   ]
  },
  {
   "cell_type": "code",
   "execution_count": 12,
   "metadata": {},
   "outputs": [],
   "source": [
    "df_reg = df[df['Season Type'] == 'Regular']\n",
    "df_tour = df[df['Season Type'] == 'NCAA Tourney']"
   ]
  },
  {
   "cell_type": "code",
   "execution_count": null,
   "metadata": {},
   "outputs": [],
   "source": []
  },
  {
   "cell_type": "markdown",
   "metadata": {},
   "source": [
    "## Game Statistics: Cumulative Games vs. Opponent"
   ]
  },
  {
   "cell_type": "markdown",
   "metadata": {},
   "source": [
    "This feature looks at the number of cumulative games before a given day vs. a particular opponent (since 2003)."
   ]
  },
  {
   "cell_type": "markdown",
   "metadata": {},
   "source": [
    "### Regular Season"
   ]
  },
  {
   "cell_type": "code",
   "execution_count": 36,
   "metadata": {},
   "outputs": [
    {
     "data": {
      "text/html": [
       "<div>\n",
       "<style scoped>\n",
       "    .dataframe tbody tr th:only-of-type {\n",
       "        vertical-align: middle;\n",
       "    }\n",
       "\n",
       "    .dataframe tbody tr th {\n",
       "        vertical-align: top;\n",
       "    }\n",
       "\n",
       "    .dataframe thead th {\n",
       "        text-align: right;\n",
       "    }\n",
       "</style>\n",
       "<table border=\"1\" class=\"dataframe\">\n",
       "  <thead>\n",
       "    <tr style=\"text-align: right;\">\n",
       "      <th></th>\n",
       "      <th>cum_games_v_opp</th>\n",
       "    </tr>\n",
       "  </thead>\n",
       "  <tbody>\n",
       "    <tr>\n",
       "      <th>count</th>\n",
       "      <td>164082.000000</td>\n",
       "    </tr>\n",
       "    <tr>\n",
       "      <th>mean</th>\n",
       "      <td>7.918199</td>\n",
       "    </tr>\n",
       "    <tr>\n",
       "      <th>std</th>\n",
       "      <td>8.757194</td>\n",
       "    </tr>\n",
       "    <tr>\n",
       "      <th>min</th>\n",
       "      <td>0.000000</td>\n",
       "    </tr>\n",
       "    <tr>\n",
       "      <th>25%</th>\n",
       "      <td>1.000000</td>\n",
       "    </tr>\n",
       "    <tr>\n",
       "      <th>50%</th>\n",
       "      <td>4.000000</td>\n",
       "    </tr>\n",
       "    <tr>\n",
       "      <th>75%</th>\n",
       "      <td>13.000000</td>\n",
       "    </tr>\n",
       "    <tr>\n",
       "      <th>max</th>\n",
       "      <td>42.000000</td>\n",
       "    </tr>\n",
       "  </tbody>\n",
       "</table>\n",
       "</div>"
      ],
      "text/plain": [
       "       cum_games_v_opp\n",
       "count    164082.000000\n",
       "mean          7.918199\n",
       "std           8.757194\n",
       "min           0.000000\n",
       "25%           1.000000\n",
       "50%           4.000000\n",
       "75%          13.000000\n",
       "max          42.000000"
      ]
     },
     "execution_count": 36,
     "metadata": {},
     "output_type": "execute_result"
    }
   ],
   "source": [
    "df_reg[['cum_games_v_opp']].describe()"
   ]
  },
  {
   "cell_type": "code",
   "execution_count": 59,
   "metadata": {},
   "outputs": [
    {
     "name": "stdout",
     "output_type": "stream",
     "text": [
      "The standard error is:  0.0216188784803\n"
     ]
    }
   ],
   "source": [
    "se_reg = float(np.std(df_reg[['cum_games_v_opp']])) / ((len(df_reg[['cum_games_v_opp']])) ** (0.5))\n",
    "\n",
    "print \"The standard error is: \", se_reg"
   ]
  },
  {
   "cell_type": "code",
   "execution_count": 64,
   "metadata": {},
   "outputs": [
    {
     "data": {
      "text/plain": [
       "array([[<matplotlib.axes._subplots.AxesSubplot object at 0x000000001C5C8080>]],\n",
       "      dtype=object)"
      ]
     },
     "execution_count": 64,
     "metadata": {},
     "output_type": "execute_result"
    },
    {
     "data": {
      "image/png": "[encoded data removed]",
      "text/plain": [
       "<matplotlib.figure.Figure at 0x1ca4b668>"
      ]
     },
     "metadata": {},
     "output_type": "display_data"
    }
   ],
   "source": [
    "df_reg[['cum_games_v_opp']].hist()"
   ]
  },
  {
   "cell_type": "markdown",
   "metadata": {},
   "source": [
    "#### Correlation Between cum_games_v_opp and Outcome"
   ]
  },
  {
   "cell_type": "code",
   "execution_count": 95,
   "metadata": {},
   "outputs": [
    {
     "name": "stdout",
     "output_type": "stream",
     "text": [
      "The correlation is: 0.00\n"
     ]
    }
   ],
   "source": [
    "df_corr = pd.DataFrame({'Outcome':df_reg['Outcome']})\n",
    "df_corr['cum_games_v_opp'] = df_reg['cum_games_v_opp']\n",
    "\n",
    "print 'The correlation is: {0:.2f}'.format(df_corr.corr().iloc[0, 1])"
   ]
  },
  {
   "cell_type": "markdown",
   "metadata": {},
   "source": [
    "### Tournament"
   ]
  },
  {
   "cell_type": "code",
   "execution_count": 57,
   "metadata": {},
   "outputs": [
    {
     "data": {
      "text/html": [
       "<div>\n",
       "<style scoped>\n",
       "    .dataframe tbody tr th:only-of-type {\n",
       "        vertical-align: middle;\n",
       "    }\n",
       "\n",
       "    .dataframe tbody tr th {\n",
       "        vertical-align: top;\n",
       "    }\n",
       "\n",
       "    .dataframe thead th {\n",
       "        text-align: right;\n",
       "    }\n",
       "</style>\n",
       "<table border=\"1\" class=\"dataframe\">\n",
       "  <thead>\n",
       "    <tr style=\"text-align: right;\">\n",
       "      <th></th>\n",
       "      <th>cum_games_v_opp</th>\n",
       "    </tr>\n",
       "  </thead>\n",
       "  <tbody>\n",
       "    <tr>\n",
       "      <th>count</th>\n",
       "      <td>6518.000000</td>\n",
       "    </tr>\n",
       "    <tr>\n",
       "      <th>mean</th>\n",
       "      <td>1.622584</td>\n",
       "    </tr>\n",
       "    <tr>\n",
       "      <th>std</th>\n",
       "      <td>4.611857</td>\n",
       "    </tr>\n",
       "    <tr>\n",
       "      <th>min</th>\n",
       "      <td>0.000000</td>\n",
       "    </tr>\n",
       "    <tr>\n",
       "      <th>25%</th>\n",
       "      <td>0.000000</td>\n",
       "    </tr>\n",
       "    <tr>\n",
       "      <th>50%</th>\n",
       "      <td>0.000000</td>\n",
       "    </tr>\n",
       "    <tr>\n",
       "      <th>75%</th>\n",
       "      <td>1.000000</td>\n",
       "    </tr>\n",
       "    <tr>\n",
       "      <th>max</th>\n",
       "      <td>38.000000</td>\n",
       "    </tr>\n",
       "  </tbody>\n",
       "</table>\n",
       "</div>"
      ],
      "text/plain": [
       "       cum_games_v_opp\n",
       "count      6518.000000\n",
       "mean          1.622584\n",
       "std           4.611857\n",
       "min           0.000000\n",
       "25%           0.000000\n",
       "50%           0.000000\n",
       "75%           1.000000\n",
       "max          38.000000"
      ]
     },
     "execution_count": 57,
     "metadata": {},
     "output_type": "execute_result"
    }
   ],
   "source": [
    "df_tour[['cum_games_v_opp']].describe()"
   ]
  },
  {
   "cell_type": "code",
   "execution_count": 61,
   "metadata": {},
   "outputs": [
    {
     "name": "stdout",
     "output_type": "stream",
     "text": [
      "The standard error is:  0.057119627001\n"
     ]
    }
   ],
   "source": [
    "se_tour = float(np.std(df_tour[['cum_games_v_opp']])) / ((len(df_tour[['cum_games_v_opp']])) ** (0.5))\n",
    "\n",
    "print \"The standard error is: \", se_tour"
   ]
  },
  {
   "cell_type": "code",
   "execution_count": 73,
   "metadata": {},
   "outputs": [
    {
     "data": {
      "text/plain": [
       "array([[<matplotlib.axes._subplots.AxesSubplot object at 0x000000001BE44940>]],\n",
       "      dtype=object)"
      ]
     },
     "execution_count": 73,
     "metadata": {},
     "output_type": "execute_result"
    },
    {
     "data": {
      "image/png": "[encoded data removed]",
      "text/plain": [
       "<matplotlib.figure.Figure at 0x19b14d68>"
      ]
     },
     "metadata": {},
     "output_type": "display_data"
    }
   ],
   "source": [
    "df_tour[['cum_games_v_opp']].hist()"
   ]
  },
  {
   "cell_type": "code",
   "execution_count": 94,
   "metadata": {},
   "outputs": [
    {
     "name": "stdout",
     "output_type": "stream",
     "text": [
      "The correlation is: 0.00\n"
     ]
    }
   ],
   "source": [
    "df_corr = pd.DataFrame({'Outcome':df_tour['Outcome']})\n",
    "df_corr['cum_games_v_opp'] = df_tour['cum_games_v_opp']\n",
    "\n",
    "print 'The correlation is: {0:.2f}'.format(df_corr.corr().iloc[0, 1])"
   ]
  },
  {
   "cell_type": "markdown",
   "metadata": {},
   "source": [
    "### Regular Season vs. Tournament"
   ]
  },
  {
   "cell_type": "code",
   "execution_count": 72,
   "metadata": {},
   "outputs": [
    {
     "data": {
      "image/png": "[encoded data removed]",
      "text/plain": [
       "<matplotlib.figure.Figure at 0x19b4c5c0>"
      ]
     },
     "metadata": {},
     "output_type": "display_data"
    }
   ],
   "source": [
    "fig, ax1 = plt.subplots(figsize=(6, 6))\n",
    "_ = plt.title('Cumulative Games vs. Opponent')\n",
    "_ = plt.boxplot([df_reg.cum_games_v_opp.dropna(), df_tour.cum_games_v_opp.dropna()])\n",
    "_ = ax1.set_ylabel('Cumulative Games')\n",
    "_ = ax1.set_xticklabels(['Regular Season','Tournament'])"
   ]
  },
  {
   "cell_type": "markdown",
   "metadata": {},
   "source": [
    "### Analysis"
   ]
  },
  {
   "cell_type": "markdown",
   "metadata": {},
   "source": [
    "The mean cumulative games since 2003 vs. a particular opponent in the regular season is 7.9, and is 1.6 during the tournament.  Given that specific teams in the tournament will have faced each other less frequently, this decline in absolute terms makes sense.  Unsurprinsgly, there is a large amount of rightward skew for cumulative games during the regular season as teams normally play opponents that are geographically closer to them more frequently.  However, there is even more rightward skew for cumulative games during the tournament as many of the same teams reach the tournament across seasons, and similarly many teams never reach the tournament.  This creates a much smaller, and frequently matched group of teams in the tournament data set.\n",
    "\n",
    "The increase in standard error from the regular season (0.022) to the tournament (0.057) is due primarily to the effect of the smaller sample size of the tournament vs. the regular season outweighing the effect of the smaller standard deviation of the tournament vs. the regular season.\n",
    "\n",
    "Because of the lack of correlation between the cumulative games vs. a particular opponent and the outcome of games, this feature will provide little benefit to the model."
   ]
  },
  {
   "cell_type": "code",
   "execution_count": null,
   "metadata": {},
   "outputs": [],
   "source": []
  },
  {
   "cell_type": "code",
   "execution_count": null,
   "metadata": {},
   "outputs": [],
   "source": []
  },
  {
   "cell_type": "code",
   "execution_count": null,
   "metadata": {},
   "outputs": [],
   "source": []
  },
  {
   "cell_type": "markdown",
   "metadata": {},
   "source": [
    "## Game Statistics: Cumulative Wins vs. Opponent"
   ]
  },
  {
   "cell_type": "markdown",
   "metadata": {},
   "source": [
    "This feature looks at the number of cumulative wins before a given day vs. a particular opponent (since 2003)."
   ]
  },
  {
   "cell_type": "markdown",
   "metadata": {},
   "source": [
    "### Regular Season"
   ]
  },
  {
   "cell_type": "code",
   "execution_count": 82,
   "metadata": {},
   "outputs": [
    {
     "data": {
      "text/html": [
       "<div>\n",
       "<style scoped>\n",
       "    .dataframe tbody tr th:only-of-type {\n",
       "        vertical-align: middle;\n",
       "    }\n",
       "\n",
       "    .dataframe tbody tr th {\n",
       "        vertical-align: top;\n",
       "    }\n",
       "\n",
       "    .dataframe thead th {\n",
       "        text-align: right;\n",
       "    }\n",
       "</style>\n",
       "<table border=\"1\" class=\"dataframe\">\n",
       "  <thead>\n",
       "    <tr style=\"text-align: right;\">\n",
       "      <th></th>\n",
       "      <th>cum_wins_v_opp</th>\n",
       "    </tr>\n",
       "  </thead>\n",
       "  <tbody>\n",
       "    <tr>\n",
       "      <th>count</th>\n",
       "      <td>164082.000000</td>\n",
       "    </tr>\n",
       "    <tr>\n",
       "      <th>mean</th>\n",
       "      <td>3.959100</td>\n",
       "    </tr>\n",
       "    <tr>\n",
       "      <th>std</th>\n",
       "      <td>4.935943</td>\n",
       "    </tr>\n",
       "    <tr>\n",
       "      <th>min</th>\n",
       "      <td>0.000000</td>\n",
       "    </tr>\n",
       "    <tr>\n",
       "      <th>25%</th>\n",
       "      <td>0.000000</td>\n",
       "    </tr>\n",
       "    <tr>\n",
       "      <th>50%</th>\n",
       "      <td>2.000000</td>\n",
       "    </tr>\n",
       "    <tr>\n",
       "      <th>75%</th>\n",
       "      <td>6.000000</td>\n",
       "    </tr>\n",
       "    <tr>\n",
       "      <th>max</th>\n",
       "      <td>35.000000</td>\n",
       "    </tr>\n",
       "  </tbody>\n",
       "</table>\n",
       "</div>"
      ],
      "text/plain": [
       "       cum_wins_v_opp\n",
       "count   164082.000000\n",
       "mean         3.959100\n",
       "std          4.935943\n",
       "min          0.000000\n",
       "25%          0.000000\n",
       "50%          2.000000\n",
       "75%          6.000000\n",
       "max         35.000000"
      ]
     },
     "execution_count": 82,
     "metadata": {},
     "output_type": "execute_result"
    }
   ],
   "source": [
    "df_reg[['cum_wins_v_opp']].describe()"
   ]
  },
  {
   "cell_type": "code",
   "execution_count": 83,
   "metadata": {},
   "outputs": [
    {
     "name": "stdout",
     "output_type": "stream",
     "text": [
      "The standard error is:  0.0121853587777\n"
     ]
    }
   ],
   "source": [
    "se_reg = float(np.std(df_reg[['cum_wins_v_opp']])) / ((len(df_reg[['cum_wins_v_opp']])) ** (0.5))\n",
    "\n",
    "print \"The standard error is: \", se_reg"
   ]
  },
  {
   "cell_type": "code",
   "execution_count": 84,
   "metadata": {},
   "outputs": [
    {
     "data": {
      "text/plain": [
       "array([[<matplotlib.axes._subplots.AxesSubplot object at 0x00000000228505C0>]],\n",
       "      dtype=object)"
      ]
     },
     "execution_count": 84,
     "metadata": {},
     "output_type": "execute_result"
    },
    {
     "data": {
      "image/png": "[encoded data removed]",
      "text/plain": [
       "<matplotlib.figure.Figure at 0xd70ef60>"
      ]
     },
     "metadata": {},
     "output_type": "display_data"
    }
   ],
   "source": [
    "df_reg[['cum_wins_v_opp']].hist()"
   ]
  },
  {
   "cell_type": "markdown",
   "metadata": {},
   "source": [
    "#### Correlation Between cum_wins_v_opp and Outcome"
   ]
  },
  {
   "cell_type": "code",
   "execution_count": 93,
   "metadata": {},
   "outputs": [
    {
     "name": "stdout",
     "output_type": "stream",
     "text": [
      "The correlation is: 0.08\n"
     ]
    }
   ],
   "source": [
    "df_corr = pd.DataFrame({'Outcome':df_reg['Outcome']})\n",
    "df_corr['cum_wins_v_opp'] = df_reg['cum_wins_v_opp']\n",
    "\n",
    "print 'The correlation is: {0:.2f}'.format(df_corr.corr().iloc[0, 1])"
   ]
  },
  {
   "cell_type": "markdown",
   "metadata": {},
   "source": [
    "### Tournament"
   ]
  },
  {
   "cell_type": "code",
   "execution_count": 86,
   "metadata": {},
   "outputs": [
    {
     "data": {
      "text/html": [
       "<div>\n",
       "<style scoped>\n",
       "    .dataframe tbody tr th:only-of-type {\n",
       "        vertical-align: middle;\n",
       "    }\n",
       "\n",
       "    .dataframe tbody tr th {\n",
       "        vertical-align: top;\n",
       "    }\n",
       "\n",
       "    .dataframe thead th {\n",
       "        text-align: right;\n",
       "    }\n",
       "</style>\n",
       "<table border=\"1\" class=\"dataframe\">\n",
       "  <thead>\n",
       "    <tr style=\"text-align: right;\">\n",
       "      <th></th>\n",
       "      <th>cum_wins_v_opp</th>\n",
       "    </tr>\n",
       "  </thead>\n",
       "  <tbody>\n",
       "    <tr>\n",
       "      <th>count</th>\n",
       "      <td>6518.000000</td>\n",
       "    </tr>\n",
       "    <tr>\n",
       "      <th>mean</th>\n",
       "      <td>0.811292</td>\n",
       "    </tr>\n",
       "    <tr>\n",
       "      <th>std</th>\n",
       "      <td>2.542198</td>\n",
       "    </tr>\n",
       "    <tr>\n",
       "      <th>min</th>\n",
       "      <td>0.000000</td>\n",
       "    </tr>\n",
       "    <tr>\n",
       "      <th>25%</th>\n",
       "      <td>0.000000</td>\n",
       "    </tr>\n",
       "    <tr>\n",
       "      <th>50%</th>\n",
       "      <td>0.000000</td>\n",
       "    </tr>\n",
       "    <tr>\n",
       "      <th>75%</th>\n",
       "      <td>1.000000</td>\n",
       "    </tr>\n",
       "    <tr>\n",
       "      <th>max</th>\n",
       "      <td>33.000000</td>\n",
       "    </tr>\n",
       "  </tbody>\n",
       "</table>\n",
       "</div>"
      ],
      "text/plain": [
       "       cum_wins_v_opp\n",
       "count     6518.000000\n",
       "mean         0.811292\n",
       "std          2.542198\n",
       "min          0.000000\n",
       "25%          0.000000\n",
       "50%          0.000000\n",
       "75%          1.000000\n",
       "max         33.000000"
      ]
     },
     "execution_count": 86,
     "metadata": {},
     "output_type": "execute_result"
    }
   ],
   "source": [
    "df_tour[['cum_wins_v_opp']].describe()"
   ]
  },
  {
   "cell_type": "code",
   "execution_count": 87,
   "metadata": {},
   "outputs": [
    {
     "name": "stdout",
     "output_type": "stream",
     "text": [
      "The standard error is:  0.0314861051388\n"
     ]
    }
   ],
   "source": [
    "se_tour = float(np.std(df_tour[['cum_wins_v_opp']])) / ((len(df_tour[['cum_wins_v_opp']])) ** (0.5))\n",
    "\n",
    "print \"The standard error is: \", se_tour"
   ]
  },
  {
   "cell_type": "code",
   "execution_count": 88,
   "metadata": {},
   "outputs": [
    {
     "data": {
      "text/plain": [
       "array([[<matplotlib.axes._subplots.AxesSubplot object at 0x000000001B146D30>]],\n",
       "      dtype=object)"
      ]
     },
     "execution_count": 88,
     "metadata": {},
     "output_type": "execute_result"
    },
    {
     "data": {
      "image/png": "[encoded data removed]",
      "text/plain": [
       "<matplotlib.figure.Figure at 0x18833c50>"
      ]
     },
     "metadata": {},
     "output_type": "display_data"
    }
   ],
   "source": [
    "df_tour[['cum_wins_v_opp']].hist()"
   ]
  },
  {
   "cell_type": "code",
   "execution_count": 92,
   "metadata": {},
   "outputs": [
    {
     "name": "stdout",
     "output_type": "stream",
     "text": [
      "The correlation is: 0.04\n"
     ]
    }
   ],
   "source": [
    "df_corr = pd.DataFrame({'Outcome':df_tour['Outcome']})\n",
    "df_corr['cum_wins_v_opp'] = df_tour['cum_wins_v_opp']\n",
    "\n",
    "print 'The correlation is: {0:.2f}'.format(df_corr.corr().iloc[0, 1])"
   ]
  },
  {
   "cell_type": "markdown",
   "metadata": {},
   "source": [
    "### Regular Season vs. Tournament"
   ]
  },
  {
   "cell_type": "code",
   "execution_count": 91,
   "metadata": {},
   "outputs": [
    {
     "data": {
      "image/png": "[encoded data removed]",
      "text/plain": [
       "<matplotlib.figure.Figure at 0x1cd70780>"
      ]
     },
     "metadata": {},
     "output_type": "display_data"
    }
   ],
   "source": [
    "fig, ax1 = plt.subplots(figsize=(6, 6))\n",
    "_ = plt.title('Cumulative Wins vs. Opponent')\n",
    "_ = plt.boxplot([df_reg.cum_wins_v_opp.dropna(), df_tour.cum_wins_v_opp.dropna()])\n",
    "_ = ax1.set_ylabel('Cumulative Wins')\n",
    "_ = ax1.set_xticklabels(['Regular Season','Tournament'])"
   ]
  },
  {
   "cell_type": "markdown",
   "metadata": {},
   "source": [
    "### Analysis"
   ]
  },
  {
   "cell_type": "markdown",
   "metadata": {},
   "source": [
    "The mean cumulative wins since 2003 vs. a particular opponent in the regular season is 4.0, and is 0.8 during the tournament.  Given that specific teams in the tournament will have faced each other less frequently, this decline in absolute terms makes sense.  Additionally, these means are approximately half the value of the means for cumulative games played.\n",
    "\n",
    "\n",
    "Unsurprinsgly, there is a large amount of rightward skew for cumulative wins during the regular season as teams normally play opponents that are geographically closer to them more frequently.  However, there is even more rightward skew for cumulative games during the tournament as many of the same teams reach the tournament across seasons, and similarly many teams never reach the tournament.  This creates a much smaller, and frequently matched group of teams in the tournament data set.  Additionally, the skew seen is even greater than that for cumulative games played, which makes sense as certain teams are likely to win more due to skill.\n",
    "\n",
    "The increase in standard error from the regular season (0.012) to the tournament (0.031) is due primarily to the effect of the smaller sample size of the tournament vs. the regular season outweighing the effect of the smaller standard deviation of the tournament vs. the regular season.\n",
    "\n",
    "Because of the small degree of correlation between the cumulative wins vs. a particular opponent and the outcome of games (0.08 for the regular season, and 0.04 for the tournament), this feature will provide little benefit to the model."
   ]
  },
  {
   "cell_type": "code",
   "execution_count": null,
   "metadata": {},
   "outputs": [],
   "source": []
  },
  {
   "cell_type": "markdown",
   "metadata": {},
   "source": [
    "## Game Statistics: Cumulative Win Percent vs. Opponent"
   ]
  },
  {
   "cell_type": "markdown",
   "metadata": {},
   "source": [
    "This feature looks at the cumulative win percent before a given day vs. a particular opponent (since 2003)."
   ]
  },
  {
   "cell_type": "markdown",
   "metadata": {},
   "source": [
    "### Regular Season"
   ]
  },
  {
   "cell_type": "code",
   "execution_count": 96,
   "metadata": {},
   "outputs": [
    {
     "data": {
      "text/html": [
       "<div>\n",
       "<style scoped>\n",
       "    .dataframe tbody tr th:only-of-type {\n",
       "        vertical-align: middle;\n",
       "    }\n",
       "\n",
       "    .dataframe tbody tr th {\n",
       "        vertical-align: top;\n",
       "    }\n",
       "\n",
       "    .dataframe thead th {\n",
       "        text-align: right;\n",
       "    }\n",
       "</style>\n",
       "<table border=\"1\" class=\"dataframe\">\n",
       "  <thead>\n",
       "    <tr style=\"text-align: right;\">\n",
       "      <th></th>\n",
       "      <th>cum_winpct_v_opp</th>\n",
       "    </tr>\n",
       "  </thead>\n",
       "  <tbody>\n",
       "    <tr>\n",
       "      <th>count</th>\n",
       "      <td>128500.000000</td>\n",
       "    </tr>\n",
       "    <tr>\n",
       "      <th>mean</th>\n",
       "      <td>0.500000</td>\n",
       "    </tr>\n",
       "    <tr>\n",
       "      <th>std</th>\n",
       "      <td>0.311968</td>\n",
       "    </tr>\n",
       "    <tr>\n",
       "      <th>min</th>\n",
       "      <td>0.000000</td>\n",
       "    </tr>\n",
       "    <tr>\n",
       "      <th>25%</th>\n",
       "      <td>0.285714</td>\n",
       "    </tr>\n",
       "    <tr>\n",
       "      <th>50%</th>\n",
       "      <td>0.500000</td>\n",
       "    </tr>\n",
       "    <tr>\n",
       "      <th>75%</th>\n",
       "      <td>0.714286</td>\n",
       "    </tr>\n",
       "    <tr>\n",
       "      <th>max</th>\n",
       "      <td>1.000000</td>\n",
       "    </tr>\n",
       "  </tbody>\n",
       "</table>\n",
       "</div>"
      ],
      "text/plain": [
       "       cum_winpct_v_opp\n",
       "count     128500.000000\n",
       "mean           0.500000\n",
       "std            0.311968\n",
       "min            0.000000\n",
       "25%            0.285714\n",
       "50%            0.500000\n",
       "75%            0.714286\n",
       "max            1.000000"
      ]
     },
     "execution_count": 96,
     "metadata": {},
     "output_type": "execute_result"
    }
   ],
   "source": [
    "df_reg[['cum_winpct_v_opp']].describe()"
   ]
  },
  {
   "cell_type": "code",
   "execution_count": 97,
   "metadata": {},
   "outputs": [
    {
     "name": "stdout",
     "output_type": "stream",
     "text": [
      "The standard error is:  0.000770154807361\n"
     ]
    }
   ],
   "source": [
    "se_reg = float(np.std(df_reg[['cum_winpct_v_opp']])) / ((len(df_reg[['cum_winpct_v_opp']])) ** (0.5))\n",
    "\n",
    "print \"The standard error is: \", se_reg"
   ]
  },
  {
   "cell_type": "code",
   "execution_count": 98,
   "metadata": {},
   "outputs": [
    {
     "data": {
      "text/plain": [
       "array([[<matplotlib.axes._subplots.AxesSubplot object at 0x000000001D103D68>]],\n",
       "      dtype=object)"
      ]
     },
     "execution_count": 98,
     "metadata": {},
     "output_type": "execute_result"
    },
    {
     "data": {
      "image/png": "[encoded data removed]",
      "text/plain": [
       "<matplotlib.figure.Figure at 0x1fb635c0>"
      ]
     },
     "metadata": {},
     "output_type": "display_data"
    }
   ],
   "source": [
    "df_reg[['cum_winpct_v_opp']].hist()"
   ]
  },
  {
   "cell_type": "markdown",
   "metadata": {},
   "source": [
    "#### Correlation Between cum_wins_v_opp and Outcome"
   ]
  },
  {
   "cell_type": "code",
   "execution_count": 99,
   "metadata": {},
   "outputs": [
    {
     "name": "stdout",
     "output_type": "stream",
     "text": [
      "The correlation is: 0.25\n"
     ]
    }
   ],
   "source": [
    "df_corr = pd.DataFrame({'Outcome':df_reg['Outcome']})\n",
    "df_corr['cum_winpct_v_opp'] = df_reg['cum_winpct_v_opp']\n",
    "\n",
    "print 'The correlation is: {0:.2f}'.format(df_corr.corr().iloc[0, 1])"
   ]
  },
  {
   "cell_type": "markdown",
   "metadata": {},
   "source": [
    "### Tournament"
   ]
  },
  {
   "cell_type": "code",
   "execution_count": 100,
   "metadata": {},
   "outputs": [
    {
     "data": {
      "text/html": [
       "<div>\n",
       "<style scoped>\n",
       "    .dataframe tbody tr th:only-of-type {\n",
       "        vertical-align: middle;\n",
       "    }\n",
       "\n",
       "    .dataframe tbody tr th {\n",
       "        vertical-align: top;\n",
       "    }\n",
       "\n",
       "    .dataframe thead th {\n",
       "        text-align: right;\n",
       "    }\n",
       "</style>\n",
       "<table border=\"1\" class=\"dataframe\">\n",
       "  <thead>\n",
       "    <tr style=\"text-align: right;\">\n",
       "      <th></th>\n",
       "      <th>cum_winpct_v_opp</th>\n",
       "    </tr>\n",
       "  </thead>\n",
       "  <tbody>\n",
       "    <tr>\n",
       "      <th>count</th>\n",
       "      <td>2482.00000</td>\n",
       "    </tr>\n",
       "    <tr>\n",
       "      <th>mean</th>\n",
       "      <td>0.50000</td>\n",
       "    </tr>\n",
       "    <tr>\n",
       "      <th>std</th>\n",
       "      <td>0.41623</td>\n",
       "    </tr>\n",
       "    <tr>\n",
       "      <th>min</th>\n",
       "      <td>0.00000</td>\n",
       "    </tr>\n",
       "    <tr>\n",
       "      <th>25%</th>\n",
       "      <td>0.00000</td>\n",
       "    </tr>\n",
       "    <tr>\n",
       "      <th>50%</th>\n",
       "      <td>0.50000</td>\n",
       "    </tr>\n",
       "    <tr>\n",
       "      <th>75%</th>\n",
       "      <td>1.00000</td>\n",
       "    </tr>\n",
       "    <tr>\n",
       "      <th>max</th>\n",
       "      <td>1.00000</td>\n",
       "    </tr>\n",
       "  </tbody>\n",
       "</table>\n",
       "</div>"
      ],
      "text/plain": [
       "       cum_winpct_v_opp\n",
       "count        2482.00000\n",
       "mean            0.50000\n",
       "std             0.41623\n",
       "min             0.00000\n",
       "25%             0.00000\n",
       "50%             0.50000\n",
       "75%             1.00000\n",
       "max             1.00000"
      ]
     },
     "execution_count": 100,
     "metadata": {},
     "output_type": "execute_result"
    }
   ],
   "source": [
    "df_tour[['cum_winpct_v_opp']].describe()"
   ]
  },
  {
   "cell_type": "code",
   "execution_count": 101,
   "metadata": {},
   "outputs": [
    {
     "name": "stdout",
     "output_type": "stream",
     "text": [
      "The standard error is:  0.0051545314857\n"
     ]
    }
   ],
   "source": [
    "se_tour = float(np.std(df_tour[['cum_winpct_v_opp']])) / ((len(df_tour[['cum_winpct_v_opp']])) ** (0.5))\n",
    "\n",
    "print \"The standard error is: \", se_tour"
   ]
  },
  {
   "cell_type": "code",
   "execution_count": 102,
   "metadata": {},
   "outputs": [
    {
     "data": {
      "text/plain": [
       "array([[<matplotlib.axes._subplots.AxesSubplot object at 0x000000001D6D5588>]],\n",
       "      dtype=object)"
      ]
     },
     "execution_count": 102,
     "metadata": {},
     "output_type": "execute_result"
    },
    {
     "data": {
      "image/png": "[encoded data removed]",
      "text/plain": [
       "<matplotlib.figure.Figure at 0x1d706780>"
      ]
     },
     "metadata": {},
     "output_type": "display_data"
    }
   ],
   "source": [
    "df_tour[['cum_winpct_v_opp']].hist()"
   ]
  },
  {
   "cell_type": "code",
   "execution_count": 104,
   "metadata": {},
   "outputs": [
    {
     "name": "stdout",
     "output_type": "stream",
     "text": [
      "The correlation is: 0.04\n"
     ]
    }
   ],
   "source": [
    "df_corr = pd.DataFrame({'Outcome':df_tour['Outcome']})\n",
    "df_corr['cum_winpct_v_opp'] = df_tour['cum_wins_v_opp']\n",
    "\n",
    "print 'The correlation is: {0:.2f}'.format(df_corr.corr().iloc[0, 1])"
   ]
  },
  {
   "cell_type": "markdown",
   "metadata": {},
   "source": [
    "### Regular Season vs. Tournament"
   ]
  },
  {
   "cell_type": "code",
   "execution_count": 105,
   "metadata": {},
   "outputs": [
    {
     "data": {
      "image/png": "[encoded data removed]",
      "text/plain": [
       "<matplotlib.figure.Figure at 0x2a91efd0>"
      ]
     },
     "metadata": {},
     "output_type": "display_data"
    }
   ],
   "source": [
    "fig, ax1 = plt.subplots(figsize=(6, 6))\n",
    "_ = plt.title('Cumulative Win % vs. Opponent')\n",
    "_ = plt.boxplot([df_reg.cum_winpct_v_opp.dropna(), df_tour.cum_winpct_v_opp.dropna()])\n",
    "_ = ax1.set_ylabel('Cumulative Win %')\n",
    "_ = ax1.set_xticklabels(['Regular Season','Tournament'])"
   ]
  },
  {
   "cell_type": "markdown",
   "metadata": {},
   "source": [
    "### Analysis"
   ]
  },
  {
   "cell_type": "markdown",
   "metadata": {},
   "source": [
    "The mean cumulative wins since 2003 vs. a particular opponent in the regular season is 0.5, and is also 0.5 during the tournament.  As combinations of teams are included from the winning perspective and losing perspective, (i.e. data for team A vs. team B, and team B vs. team A), this makes sense.\n",
    "\n",
    "Both the regular season and tournament data shows some signs of normality around the mean, but both have significant upward skew for lower and higher win percents.  This makes sense as there are a large number of teams that have only played each other a few times, and have had a large percent of wins or losses vs. each other during these matchups.\n",
    "\n",
    "The increase in standard error from the regular season (0.0008) to the tournament (0.005) is due primarily to the effect of the smaller sample size of the tournament vs. the regular season outweighing the effect of the smaller standard deviation of the tournament vs. the regular season.\n",
    "\n",
    "Because of the small degree of correlation between the cumulative wins vs. a particular opponent and the outcome of games (0.25 for the regular season, and 0.04 for the tournament), this feature will provide little benefit to the model."
   ]
  },
  {
   "cell_type": "code",
   "execution_count": null,
   "metadata": {},
   "outputs": [],
   "source": []
  },
  {
   "cell_type": "code",
   "execution_count": null,
   "metadata": {},
   "outputs": [],
   "source": []
  },
  {
   "cell_type": "code",
   "execution_count": null,
   "metadata": {},
   "outputs": [],
   "source": []
  },
  {
   "cell_type": "code",
   "execution_count": null,
   "metadata": {},
   "outputs": [],
   "source": []
  },
  {
   "cell_type": "code",
   "execution_count": null,
   "metadata": {},
   "outputs": [],
   "source": []
  },
  {
   "cell_type": "code",
   "execution_count": null,
   "metadata": {},
   "outputs": [],
   "source": []
  },
  {
   "cell_type": "code",
   "execution_count": null,
   "metadata": {},
   "outputs": [],
   "source": []
  },
  {
   "cell_type": "code",
   "execution_count": null,
   "metadata": {},
   "outputs": [],
   "source": []
  },
  {
   "cell_type": "code",
   "execution_count": null,
   "metadata": {},
   "outputs": [],
   "source": []
  },
  {
   "cell_type": "code",
   "execution_count": null,
   "metadata": {},
   "outputs": [],
   "source": []
  },
  {
   "cell_type": "code",
   "execution_count": null,
   "metadata": {},
   "outputs": [],
   "source": []
  },
  {
   "cell_type": "code",
   "execution_count": null,
   "metadata": {},
   "outputs": [],
   "source": []
  },
  {
   "cell_type": "markdown",
   "metadata": {},
   "source": [
    "# Ignore for now"
   ]
  },
  {
   "cell_type": "code",
   "execution_count": null,
   "metadata": {},
   "outputs": [],
   "source": []
  },
  {
   "cell_type": "code",
   "execution_count": null,
   "metadata": {},
   "outputs": [],
   "source": []
  },
  {
   "cell_type": "code",
   "execution_count": null,
   "metadata": {},
   "outputs": [],
   "source": []
  },
  {
   "cell_type": "code",
   "execution_count": null,
   "metadata": {},
   "outputs": [],
   "source": []
  },
  {
   "cell_type": "code",
   "execution_count": null,
   "metadata": {},
   "outputs": [],
   "source": []
  },
  {
   "cell_type": "code",
   "execution_count": null,
   "metadata": {},
   "outputs": [],
   "source": [
    "# Winning / Losing Field Goal Attempts - Percent of field goals attempted by winning vs. losing teams\n",
    "\n",
    "df_reg['win_lose_fg_attempts'] = df_reg['WFGA'] / df_reg['LFGA']\n",
    "df_reg['win_lose_fg_attempts'].head()"
   ]
  },
  {
   "cell_type": "code",
   "execution_count": null,
   "metadata": {},
   "outputs": [],
   "source": [
    "# Winning / Losing Field Goals Made - Percent of field goals made by winning vs. losing teams\n",
    "\n",
    "df_reg['win_lose_fg_made'] = df_reg['WFGM'] / df_reg['LFGM']\n",
    "df_reg['win_lose_fg_made'].head()"
   ]
  },
  {
   "cell_type": "code",
   "execution_count": null,
   "metadata": {},
   "outputs": [],
   "source": [
    "# Winning / Losing Free Throw Attempts - Percent of free throws attempted by winning vs. losing team\n",
    "\n",
    "df_reg['win_lose_ft_attempts'] = df_reg['WFTA'] / df_reg['LFTA']\n",
    "df_reg['win_lose_ft_attempts'].head()\n"
   ]
  },
  {
   "cell_type": "code",
   "execution_count": null,
   "metadata": {},
   "outputs": [],
   "source": [
    "# Winning / Losing Free Throws Made - Percent of free throws made by winning vs. losing team\n",
    "\n",
    "df_reg['win_lose_ft_made'] = df_reg['WFTM'] / df_reg['LFTM']\n",
    "df_reg['win_lose_ft_made'].head()\n"
   ]
  },
  {
   "cell_type": "markdown",
   "metadata": {},
   "source": [
    "## EDA"
   ]
  },
  {
   "cell_type": "markdown",
   "metadata": {},
   "source": [
    "### Summary Statistics"
   ]
  },
  {
   "cell_type": "code",
   "execution_count": null,
   "metadata": {},
   "outputs": [],
   "source": [
    "df_reg[['win_lose_fg_attempts', 'win_lose_fg_made']].describe()"
   ]
  },
  {
   "cell_type": "code",
   "execution_count": null,
   "metadata": {},
   "outputs": [],
   "source": [
    "df_reg[['WFGA', 'LFGA', 'win_lose_fg_attempts', 'WFGM', 'LFGM', 'win_lose_fg_made']].describe()"
   ]
  },
  {
   "cell_type": "code",
   "execution_count": null,
   "metadata": {},
   "outputs": [],
   "source": [
    "df_reg[['win_lose_ft_attempts', 'win_lose_ft_made']].describe()"
   ]
  },
  {
   "cell_type": "code",
   "execution_count": null,
   "metadata": {},
   "outputs": [],
   "source": [
    "df_reg[['WFTA', 'LFTA', 'win_lose_ft_attempts', 'WFTM', 'LFTM', 'win_lose_ft_made']].describe()"
   ]
  },
  {
   "cell_type": "markdown",
   "metadata": {},
   "source": [
    "### Charts and Graphs"
   ]
  },
  {
   "cell_type": "code",
   "execution_count": null,
   "metadata": {},
   "outputs": [],
   "source": [
    "data = [df_reg['win_lose_fg_attempts'], df_reg['win_lose_fg_made'],]\n",
    "labels = ['win_lose_fg_attempts', 'win_lose_fg_made']\n",
    "plt.figure()\n",
    "plt.boxplot(data)\n",
    "plt.title('Boxplot for Winning vs. Losing Team Field Goal Attempts & Field Goals Made')\n",
    "#plt.xlabel('Combined Shooting %, Winning Team Shooting %, Losing Team Shooting %')\n",
    "\n",
    "plt.xticks([1, 2], ['win_lose_fg_attempts', 'win_lose_fg_made'])"
   ]
  },
  {
   "cell_type": "code",
   "execution_count": null,
   "metadata": {},
   "outputs": [],
   "source": [
    "data = [df_reg['win_lose_ft_attempts'], df_reg['win_lose_ft_made'],]\n",
    "labels = ['win_lose_ft_attempts', 'win_lose_ft_made']\n",
    "plt.figure()\n",
    "plt.boxplot(data)\n",
    "plt.title('Boxplot for Winning vs. Losing Team Free Throw Attempts & Free Throws Made')\n",
    "#plt.xlabel('Combined Shooting %, Winning Team Shooting %, Losing Team Shooting %')\n",
    "\n",
    "plt.xticks([1, 2], ['win_lose_ft_attempts', 'win_lose_ft_made'])"
   ]
  },
  {
   "cell_type": "code",
   "execution_count": null,
   "metadata": {},
   "outputs": [],
   "source": [
    "t, p = ttest_ind(df_reg['win_lose_fg_attempts'], df_reg['win_lose_fg_made'], equal_var=True)\n",
    "print(\"ttest_ind: t = {0:.2f}  p = {1:.4f}\".format(t, p))"
   ]
  },
  {
   "cell_type": "markdown",
   "metadata": {
    "collapsed": true
   },
   "source": [
    "## Commentary"
   ]
  },
  {
   "cell_type": "markdown",
   "metadata": {},
   "source": [
    "When looking at the winning team vs. losing team Field Goal Attempts ratio distribution, it is interesting that on averge the losing teams attempt more field goals (two and three point shots) in a given game.  The mean of the distribution is 0.990770, which tilts slightly towards the losing team attempts.\n",
    "\n",
    "However (and unsurprisingly), the winning teams make more field goals.  The mean of the winning vs. losing team field goals made distribution is 1.186750, which tilts towards the winning team.  Even for the 25th percentile of the distribution, the ratio is ~ 1.0 : 1.0 for the fields goals made by the winning vs. losing teams."
   ]
  }
 ],
 "metadata": {
  "kernelspec": {
   "display_name": "Python 2",
   "language": "python",
   "name": "python2"
  },
  "language_info": {
   "codemirror_mode": {
    "name": "ipython",
    "version": 2
   },
   "file_extension": ".py",
   "mimetype": "text/x-python",
   "name": "python",
   "nbconvert_exporter": "python",
   "pygments_lexer": "ipython2",
   "version": "2.7.14"
  }
 },
 "nbformat": 4,
 "nbformat_minor": 2
}
