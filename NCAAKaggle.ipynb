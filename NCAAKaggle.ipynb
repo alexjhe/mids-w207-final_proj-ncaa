{
 "cells": [
  {
   "cell_type": "markdown",
   "metadata": {},
   "source": [
    "# Google Cloud & NCAA® ML Competition 2018-Men's"
   ]
  },
  {
   "cell_type": "markdown",
   "metadata": {},
   "source": [
    "## Business Understanding\n",
    "\n",
    "- What problem are we trying solve?\n",
    "- What are the relevant metrics? How much do we plan to improve them?\n",
    "- What will we deliver?"
   ]
  },
  {
   "cell_type": "markdown",
   "metadata": {},
   "source": [
    "## Data Understanding\n",
    "\n",
    "- What are the raw data sources?\n",
    "- What does each 'unit' (e.g. row) of data represent?\n",
    "- What are the fields (columns)?\n",
    "- EDA\n",
    "  - Distribution of each feature\n",
    "  - Missing values\n",
    "  - Distribution of target\n",
    "  - Relationships between features\n",
    "  - Other idiosyncracies?"
   ]
  },
  {
   "cell_type": "markdown",
   "metadata": {},
   "source": [
    "## Data Preparation\n",
    "\n",
    "- What steps are taken to prepare the data for modeling?\n",
    "  - feature transformations? engineering?\n",
    "  - table joins? aggregation?\n",
    "- Precise description of modeling base tables.\n",
    "  - What are the rows/columns of X (the predictors)?\n",
    "  - What is y (the target)?"
   ]
  },
  {
   "cell_type": "markdown",
   "metadata": {},
   "source": [
    "## Modeling\n",
    "\n",
    "- What model are we using? Why?\n",
    "- Assumptions?\n",
    "- Regularization?"
   ]
  },
  {
   "cell_type": "markdown",
   "metadata": {},
   "source": [
    "## Evaluation\n",
    "\n",
    "- How well does the model perform?\n",
    "  - Accuracy\n",
    "  - ROC curves\n",
    "  - Cross-validation\n",
    "  - other metrics? performance?\n",
    "\n",
    "- AB test results (if any)"
   ]
  },
  {
   "cell_type": "markdown",
   "metadata": {},
   "source": [
    "## Deployment\n",
    "\n",
    "- How is the model deployed?\n",
    "  - prediction service?\n",
    "  - serialized model?\n",
    "  - regression coefficients?\n",
    "- What support is provided after initial deployment?"
   ]
  }
 ],
 "metadata": {
  "kernelspec": {
   "display_name": "Python 2",
   "language": "python",
   "name": "python2"
  },
  "language_info": {
   "codemirror_mode": {
    "name": "ipython",
    "version": 2
   },
   "file_extension": ".py",
   "mimetype": "text/x-python",
   "name": "python",
   "nbconvert_exporter": "python",
   "pygments_lexer": "ipython2",
   "version": "2.7.14"
  }
 },
 "nbformat": 4,
 "nbformat_minor": 2
}
