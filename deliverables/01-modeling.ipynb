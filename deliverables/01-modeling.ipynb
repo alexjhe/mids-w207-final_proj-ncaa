{
 "cells": [
  {
   "cell_type": "markdown",
   "metadata": {},
   "source": [
    "# Google Cloud & NCAA® ML Competition 2018-Men's\n",
    "\n",
    "Kaggle Competition Notebook by Alex Herring, Ely Liu, Matthew Prout, Steve Yang"
   ]
  },
  {
   "cell_type": "markdown",
   "metadata": {},
   "source": [
    "## Business Understanding\n",
    "***\n",
    "\n",
    "Business Understanding writeup here...\n",
    "\n",
    "\n",
    "\n"
   ]
  },
  {
   "cell_type": "markdown",
   "metadata": {},
   "source": [
    "## Data Understanding\n",
    "***\n",
    "\n",
    "Data Understanding writeup here..."
   ]
  },
  {
   "cell_type": "markdown",
   "metadata": {},
   "source": [
    "### EDA\n",
    "\n",
    "EDA writeup here..."
   ]
  },
  {
   "cell_type": "code",
   "execution_count": null,
   "metadata": {
    "collapsed": true
   },
   "outputs": [],
   "source": [
    "### EDA Analysis Here"
   ]
  },
  {
   "cell_type": "code",
   "execution_count": null,
   "metadata": {
    "collapsed": true
   },
   "outputs": [],
   "source": []
  },
  {
   "cell_type": "code",
   "execution_count": 2,
   "metadata": {},
   "outputs": [
    {
     "name": "stdout",
     "output_type": "stream",
     "text": [
      "\n",
      "The following command must be run outside of the IPython shell:\n",
      "\n",
      "    $ pip install matplotlib\n",
      "\n",
      "The Python package manager (pip) can only be used from outside of IPython.\n",
      "Please reissue the `pip` command in a separate terminal or command prompt.\n",
      "\n",
      "See the Python documentation for more informations on how to install packages:\n",
      "\n",
      "    https://docs.python.org/3/installing/\n"
     ]
    }
   ],
   "source": []
  },
  {
   "cell_type": "markdown",
   "metadata": {},
   "source": [
    "## Data Preparation / Feature Engineering\n",
    "***\n",
    "\n",
    "Data Preparation writeup here..."
   ]
  },
  {
   "cell_type": "code",
   "execution_count": 36,
   "metadata": {},
   "outputs": [],
   "source": [
    "# This tells matplotlib not to try opening a new window for each plot.\n",
    "%matplotlib inline\n",
    "\n",
    "import numpy as np\n",
    "import pandas as pd\n",
    "import matplotlib.pyplot as plt\n",
    "import psycopg2 as pg\n",
    "\n",
    "from sklearn.metrics import confusion_matrix\n",
    "from sklearn import metrics\n",
    "from sklearn.metrics import classification_report\n",
    "from sklearn.metrics import log_loss\n",
    "from sklearn.metrics import roc_auc_score\n",
    "from sklearn.metrics import mean_squared_error\n",
    "\n",
    "from sklearn.linear_model import LogisticRegression\n",
    "from sklearn.naive_bayes import GaussianNB\n",
    "from sklearn.tree import DecisionTreeClassifier\n",
    "from sklearn.ensemble import RandomForestClassifier\n",
    "from sklearn.model_selection import GridSearchCV\n",
    "\n",
    "from sklearn.preprocessing import StandardScaler\n",
    "from sklearn.decomposition import PCA"
   ]
  },
  {
   "cell_type": "markdown",
   "metadata": {},
   "source": [
    "## Modeling - Approach 1\n",
    "***\n",
    "\n",
    "Approach 1 Explanation Here..."
   ]
  },
  {
   "cell_type": "markdown",
   "metadata": {},
   "source": [
    "### Pull Features from PostgreSQL\n",
    "\n",
    "Pull data from PostgreSQL and pickle to work offline."
   ]
  },
  {
   "cell_type": "code",
   "execution_count": 5,
   "metadata": {
    "collapsed": true
   },
   "outputs": [],
   "source": [
    "# query = '''\n",
    "#     SELECT *\n",
    "#     FROM prod.features\n",
    "#     WHERE \"Season Type\" = 'NCAA Tourney' and\n",
    "#         holdout_s2 = 0\n",
    "# '''\n",
    "\n",
    "# conn = pg.connect(database='postgres',\n",
    "#                   user='postgres',\n",
    "#                   password='w207final',\n",
    "#                   host='35.185.225.167')\n",
    "\n",
    "# df = pd.read_sql_query(query, conn)\n",
    "\n",
    "# # \"Diff\" Features\n",
    "# df['AvgRankDiff'] = df['AvgRank'] - df['OpponentAvgRank']\n",
    "# df['AvgNetPointsForDiff'] = df['AvgNetPointsFor'] - df['OpponentAvgNetPointsFor']\n",
    "# df['TwoPointPctDiff'] = df['TwoPointPct_Team'] - df['TwoPointPct_Opponent']\n",
    "# df['ThreePointPctDiff'] = df['ThreePointPct_Team'] - df['ThreePointPct_Opponent']\n",
    "# df['FreeThrowPctDiff'] = df['FreeThrowPct_Team'] - df['FreeThrowPct_Opponent']\n",
    "# df['OffensiveReboundsDiff'] = df['OffensiveRebounds_Team'] - df['OffensiveRebounds_Opponent']\n",
    "# df['DefensiveReboundsDiff'] = df['DefensiveRebounds_Team'] - df['DefensiveRebounds_Opponent']\n",
    "# df['FieldGoalPctDiff'] = df['FieldGoalPct_Team'] - df['FieldGoalPct_Opponent']\n",
    "# df['TwoPointAttPctDiff'] = df['TwoPointAttPct_Team'] - df['TwoPointAttPct_Opponent']\n",
    "# df['ThreePointAttPctDiff'] = df['ThreePointAttPct_Team'] - df['ThreePointAttPct_Opponent']\n",
    "# df['FieldGoalAttDiff'] = df['FieldGoalAtt_Team'] - df['FieldGoalAtt_Opponent']\n",
    "# df['TwoPointAttDiff'] = df['TwoPointAtt_Team'] - df['TwoPointAtt_Opponent']\n",
    "# df['ThreePointAttDiff'] = df['ThreePointAtt_Team'] - df['ThreePointAtt_Opponent']\n",
    "# df['FreeThrowAttDiff'] = df['FreeThrowAtt_Team'] - df['FreeThrowAtt_Opponent']\n",
    "# df['AssistsDiff'] = df['Assists_Team'] - df['Assists_Opponent']\n",
    "# df['TurnoversDiff'] = df['Turnovers_Team'] - df['Turnovers_Opponent']\n",
    "# df['StealsDiff'] = df['Steals_Team'] - df['Steals_Opponent']\n",
    "# df['BlocksDiff'] = df['Blocks_Team'] - df['Blocks_Opponent']\n",
    "# df['PersonalFoulsDiff'] = df['PersonalFouls_Team'] - df['PersonalFouls_Opponent']\n",
    "\n",
    "# # df.to_pickle(\"./modeling_df\")"
   ]
  },
  {
   "cell_type": "code",
   "execution_count": 6,
   "metadata": {
    "collapsed": true
   },
   "outputs": [],
   "source": [
    "df_in = pd.read_pickle(\"./modeling_df\")"
   ]
  },
  {
   "cell_type": "code",
   "execution_count": 7,
   "metadata": {
    "collapsed": true
   },
   "outputs": [],
   "source": [
    "df_train = df_in[df_in['holdout_s1'] == 0]\n",
    "df_test = df_in[df_in['holdout_s1'] == 1]"
   ]
  },
  {
   "cell_type": "markdown",
   "metadata": {},
   "source": [
    "### Baseline Metrics\n",
    "\n",
    "- Log Loss value for all predicted probabilites == 0.5\n",
    "- Log Loss value if every prediction was wrong with 100% confidence"
   ]
  },
  {
   "cell_type": "code",
   "execution_count": 6,
   "metadata": {},
   "outputs": [
    {
     "name": "stdout",
     "output_type": "stream",
     "text": [
      "Baseline:  0.69314718056\n",
      "Completely Wrong:  34.5391761936\n"
     ]
    }
   ],
   "source": [
    "target = 'Outcome'\n",
    "\n",
    "# baseline of 0.5\n",
    "baseline = np.full(536, 0.5)\n",
    "print(\"Baseline: \",log_loss(df_test[target],baseline))\n",
    "\n",
    "# worst case scenario -- every prediction was wrong with 100% confidence\n",
    "print(\"Completely Wrong: \",log_loss(df_test[target],1-df_test[target]))"
   ]
  },
  {
   "cell_type": "code",
   "execution_count": 9,
   "metadata": {},
   "outputs": [
    {
     "name": "stdout",
     "output_type": "stream",
     "text": [
      "             precision    recall  f1-score   support\n",
      "\n",
      "          0       0.69      0.75      0.72       268\n",
      "          1       0.73      0.67      0.70       268\n",
      "\n",
      "avg / total       0.71      0.71      0.71       536\n",
      "\n",
      "Log Loss:  0.571490292973\n",
      "RMSE:  0.196131801918\n",
      "ROC AUC:  0.770981844509\n"
     ]
    }
   ],
   "source": [
    "target = 'Outcome'\n",
    "features = ['SeedDiff']\n",
    "\n",
    "lr = LogisticRegression()\n",
    "lr.fit(df_train[features], df_train[target])\n",
    "pred = lr.predict(df_test[features])\n",
    "probs = lr.predict_proba(df_test[features])\n",
    "\n",
    "print(classification_report(df_test[target], pred))\n",
    "print(\"Log Loss: \",log_loss(df_test[target], probs[:,1]))\n",
    "print(\"RMSE: \",mean_squared_error(df_test[target], probs[:,1]))\n",
    "print(\"ROC AUC: \", roc_auc_score(df_test[target], probs[:,1]))"
   ]
  },
  {
   "cell_type": "markdown",
   "metadata": {},
   "source": [
    "### Logistic Regression"
   ]
  },
  {
   "cell_type": "code",
   "execution_count": 10,
   "metadata": {},
   "outputs": [
    {
     "name": "stdout",
     "output_type": "stream",
     "text": [
      "             precision    recall  f1-score   support\n",
      "\n",
      "          0       0.72      0.72      0.72       268\n",
      "          1       0.72      0.72      0.72       268\n",
      "\n",
      "avg / total       0.72      0.72      0.72       536\n",
      "\n",
      "Log Loss:  0.543489397983\n",
      "RMSE:  0.184835817665\n",
      "ROC AUC:  0.79476219648\n"
     ]
    }
   ],
   "source": [
    "target = 'Outcome'\n",
    "features = ['SeedDiff',\n",
    "            'WinPct', 'OpponentWinPct',\n",
    "            'AvgNetPointsFor', 'OpponentAvgNetPointsFor',\n",
    "            'AvgRank', 'OpponentAvgRank', \n",
    "            'TwoPointPct_Team', 'TwoPointPct_Opponent',\n",
    "            'ThreePointPct_Team', 'ThreePointPct_Opponent',\n",
    "            'FreeThrowPct_Team', 'FreeThrowPct_Opponent',\n",
    "            'OffensiveRebounds_Team', 'OffensiveRebounds_Opponent',\n",
    "            'DefensiveRebounds_Team', 'DefensiveRebounds_Opponent'\n",
    "           ]\n",
    "\n",
    "lr = LogisticRegression(penalty='l2')\n",
    "lr.fit(df_train[features], df_train[target])\n",
    "pred = lr.predict(df_test[features])\n",
    "probs = lr.predict_proba(df_test[features])\n",
    "\n",
    "print(classification_report(df_test[target], pred))\n",
    "print(\"Log Loss: \",log_loss(df_test[target], probs[:,1]))\n",
    "print(\"RMSE: \",mean_squared_error(df_test[target], probs[:,1]))\n",
    "print(\"ROC AUC: \", roc_auc_score(df_test[target], probs[:,1]))"
   ]
  },
  {
   "cell_type": "code",
   "execution_count": 11,
   "metadata": {},
   "outputs": [
    {
     "name": "stdout",
     "output_type": "stream",
     "text": [
      "SeedDiff                        -0.0710\n",
      "WinPct                          -0.4431\n",
      "OpponentWinPct                   0.4431\n",
      "AvgNetPointsFor                  0.0889\n",
      "OpponentAvgNetPointsFor         -0.0889\n",
      "AvgRank                         -0.0117\n",
      "OpponentAvgRank                  0.0117\n",
      "TwoPointPct_Team                 0.1310\n",
      "TwoPointPct_Opponent            -0.1310\n",
      "ThreePointPct_Team              -0.7000\n",
      "ThreePointPct_Opponent           0.7000\n",
      "FreeThrowPct_Team                0.4025\n",
      "FreeThrowPct_Opponent           -0.4025\n",
      "OffensiveRebounds_Team           0.0694\n",
      "OffensiveRebounds_Opponent      -0.0694\n",
      "DefensiveRebounds_Team          -0.0913\n",
      "DefensiveRebounds_Opponent       0.0913\n"
     ]
    }
   ],
   "source": [
    "for i in zip(features, lr.coef_.flatten()):\n",
    "    print(\"{:<30} {:>8.4f}\".format(i[0],i[1]))"
   ]
  },
  {
   "cell_type": "markdown",
   "metadata": {},
   "source": [
    "#### \"Diff\" Features"
   ]
  },
  {
   "cell_type": "code",
   "execution_count": 12,
   "metadata": {},
   "outputs": [
    {
     "name": "stdout",
     "output_type": "stream",
     "text": [
      "             precision    recall  f1-score   support\n",
      "\n",
      "          0       0.72      0.72      0.72       268\n",
      "          1       0.72      0.72      0.72       268\n",
      "\n",
      "avg / total       0.72      0.72      0.72       536\n",
      "\n",
      "Log Loss:  0.543233504514\n",
      "RMSE:  0.184737569885\n",
      "ROC AUC:  0.794664736021\n"
     ]
    }
   ],
   "source": [
    "target = 'Outcome'\n",
    "features = ['SeedDiff',\n",
    "            'WinPctDiff',\n",
    "            'AvgNetPointsForDiff',\n",
    "            'AvgRankDiff', \n",
    "            'TwoPointPctDiff',\n",
    "            'ThreePointPctDiff',\n",
    "            'FreeThrowPctDiff',\n",
    "            'OffensiveReboundsDiff',\n",
    "            'DefensiveReboundsDiff'\n",
    "           ]\n",
    "\n",
    "lr = LogisticRegression(penalty='l2')\n",
    "lr.fit(df_train[features], df_train[target])\n",
    "pred = lr.predict(df_test[features])\n",
    "probs = lr.predict_proba(df_test[features])\n",
    "\n",
    "print(classification_report(df_test[target], pred))\n",
    "print(\"Log Loss: \",log_loss(df_test[target], probs[:,1]))\n",
    "print(\"RMSE: \",mean_squared_error(df_test[target], probs[:,1]))\n",
    "print(\"ROC AUC: \", roc_auc_score(df_test[target], probs[:,1]))"
   ]
  },
  {
   "cell_type": "code",
   "execution_count": 13,
   "metadata": {
    "scrolled": true
   },
   "outputs": [
    {
     "name": "stdout",
     "output_type": "stream",
     "text": [
      "SeedDiff                        -0.0719\n",
      "WinPctDiff                      -0.6195\n",
      "AvgNetPointsForDiff              0.0931\n",
      "AvgRankDiff                     -0.0116\n",
      "TwoPointPctDiff                  0.2425\n",
      "ThreePointPctDiff               -1.2849\n",
      "FreeThrowPctDiff                 0.6975\n",
      "OffensiveReboundsDiff            0.0687\n",
      "DefensiveReboundsDiff           -0.0914\n"
     ]
    }
   ],
   "source": [
    "for i in zip(features, lr.coef_.flatten()):\n",
    "    print(\"{:<30} {:>8.4f}\".format(i[0],i[1]))"
   ]
  },
  {
   "cell_type": "markdown",
   "metadata": {},
   "source": [
    "#### Normalized Features"
   ]
  },
  {
   "cell_type": "code",
   "execution_count": 14,
   "metadata": {},
   "outputs": [
    {
     "name": "stdout",
     "output_type": "stream",
     "text": [
      "             precision    recall  f1-score   support\n",
      "\n",
      "          0       0.74      0.74      0.74       268\n",
      "          1       0.74      0.74      0.74       268\n",
      "\n",
      "avg / total       0.74      0.74      0.74       536\n",
      "\n",
      "Log Loss:  0.546836443034\n",
      "RMSE:  0.186142864184\n",
      "ROC AUC:  0.79089162397\n"
     ]
    }
   ],
   "source": [
    "target = 'Outcome'\n",
    "features = ['SeedDiff',\n",
    "            'WinPctDiff',\n",
    "            'AvgNetPointsForDiff',\n",
    "            'AvgRankDiff', \n",
    "            'TwoPointPctDiff',\n",
    "            'ThreePointPctDiff',\n",
    "            'FreeThrowPctDiff',\n",
    "            'OffensiveReboundsDiff',\n",
    "            'DefensiveReboundsDiff'\n",
    "           ]\n",
    "\n",
    "# fit means/std\n",
    "ss = StandardScaler()\n",
    "ss.fit(df_train[features])\n",
    "\n",
    "lr = LogisticRegression(penalty='l2')\n",
    "lr.fit(ss.transform(df_train[features]), df_train[target])\n",
    "pred = lr.predict(ss.transform(df_test[features]))\n",
    "probs = lr.predict_proba(ss.transform(df_test[features]))\n",
    "\n",
    "print(classification_report(df_test[target], pred))\n",
    "print(\"Log Loss: \",log_loss(df_test[target], probs[:,1]))\n",
    "print(\"RMSE: \",mean_squared_error(df_test[target], probs[:,1]))\n",
    "print(\"ROC AUC: \", roc_auc_score(df_test[target], probs[:,1]))"
   ]
  },
  {
   "cell_type": "code",
   "execution_count": 15,
   "metadata": {},
   "outputs": [
    {
     "name": "stdout",
     "output_type": "stream",
     "text": [
      "SeedDiff                        -0.5855\n",
      "WinPctDiff                      -0.1711\n",
      "AvgNetPointsForDiff              0.7110\n",
      "AvgRankDiff                     -0.6650\n",
      "TwoPointPctDiff                  0.0590\n",
      "ThreePointPctDiff               -0.2500\n",
      "FreeThrowPctDiff                 0.1308\n",
      "OffensiveReboundsDiff            0.1473\n",
      "DefensiveReboundsDiff           -0.2275\n"
     ]
    }
   ],
   "source": [
    "for i in zip(features, lr.coef_.flatten()):\n",
    "    print(\"{:<30} {:>8.4f}\".format(i[0],i[1]))"
   ]
  },
  {
   "cell_type": "markdown",
   "metadata": {},
   "source": [
    "#### Normalized - More Features"
   ]
  },
  {
   "cell_type": "code",
   "execution_count": 119,
   "metadata": {},
   "outputs": [
    {
     "name": "stdout",
     "output_type": "stream",
     "text": [
      "             precision    recall  f1-score   support\n",
      "\n",
      "          0       0.76      0.76      0.76       268\n",
      "          1       0.76      0.76      0.76       268\n",
      "\n",
      "avg / total       0.76      0.76      0.76       536\n",
      "\n",
      "Log Loss:  0.529461957644\n",
      "RMSE:  0.178672013288\n",
      "ROC AUC:  0.808810425485\n"
     ]
    }
   ],
   "source": [
    "target = 'Outcome'\n",
    "features = ['AvgRank', 'OpponentAvgRank', 'TwoPointPct_Team',\n",
    "            'ThreePointPct_Team', 'FreeThrowPct_Team', 'OffensiveRebounds_Team',\n",
    "            'DefensiveRebounds_Team', 'TwoPointPct_Opponent',\n",
    "            'ThreePointPct_Opponent', 'FreeThrowPct_Opponent',\n",
    "            'OffensiveRebounds_Opponent', 'DefensiveRebounds_Opponent', 'WinPct',\n",
    "            'OpponentWinPct', 'WinPctDiff', 'AvgPointsFor', 'AvgPointsAgainst',\n",
    "            'AvgNetPointsFor', 'SeedDiff', 'OpponentAvgPointsFor',\n",
    "            'OpponentAvgPointsAgainst', 'OpponentAvgNetPointsFor', 'TourWins',\n",
    "            'OpponentTourWins', 'TourWinsDiff', 'FieldGoalPct_Team', 'TwoPointAttPct_Team',\n",
    "            'ThreePointAttPct_Team', 'FieldGoalAtt_Team', 'TwoPointAtt_Team',\n",
    "            'ThreePointAtt_Team', 'FreeThrowAtt_Team', 'Assists_Team',\n",
    "            'Turnovers_Team', 'Steals_Team', 'Blocks_Team', 'PersonalFouls_Team',\n",
    "            'FieldGoalPct_Opponent', 'TwoPointAttPct_Opponent',\n",
    "            'ThreePointAttPct_Opponent', 'FieldGoalAtt_Opponent',\n",
    "            'TwoPointAtt_Opponent', 'ThreePointAtt_Opponent',\n",
    "            'FreeThrowAtt_Opponent', 'Assists_Opponent', 'Turnovers_Opponent',\n",
    "            'Steals_Opponent', 'Blocks_Opponent', 'PersonalFouls_Opponent',\n",
    "            'AvgRankDiff', 'AvgNetPointsForDiff', 'TwoPointPctDiff',\n",
    "            'ThreePointPctDiff', 'FreeThrowPctDiff', 'OffensiveReboundsDiff',\n",
    "            'DefensiveReboundsDiff', 'FieldGoalPctDiff', 'TwoPointAttPctDiff',\n",
    "            'ThreePointAttPctDiff', 'FieldGoalAttDiff', 'TwoPointAttDiff',\n",
    "            'ThreePointAttDiff', 'FreeThrowAttDiff', 'AssistsDiff', 'TurnoversDiff',\n",
    "            'StealsDiff', 'BlocksDiff', 'PersonalFoulsDiff']\n",
    "\n",
    "# fit means/std\n",
    "ss = StandardScaler()\n",
    "ss.fit(df_train[features])\n",
    "\n",
    "lr = LogisticRegression(penalty='l2')\n",
    "lr.fit(ss.transform(df_train[features]), df_train[target])\n",
    "pred = lr.predict(ss.transform(df_test[features]))\n",
    "probs = lr.predict_proba(ss.transform(df_test[features]))\n",
    "\n",
    "print(classification_report(df_test[target], pred))\n",
    "print(\"Log Loss: \",log_loss(df_test[target], probs[:,1]))\n",
    "print(\"RMSE: \",mean_squared_error(df_test[target], probs[:,1]))\n",
    "print(\"ROC AUC: \", roc_auc_score(df_test[target], probs[:,1]))"
   ]
  },
  {
   "cell_type": "code",
   "execution_count": 104,
   "metadata": {
    "scrolled": true
   },
   "outputs": [
    {
     "name": "stdout",
     "output_type": "stream",
     "text": [
      "AvgRank                         -0.2347\n",
      "OpponentAvgRank                  0.2347\n",
      "TwoPointPct_Team                -0.2031\n",
      "ThreePointPct_Team              -0.1757\n",
      "FreeThrowPct_Team                0.0851\n",
      "OffensiveRebounds_Team           0.0831\n",
      "DefensiveRebounds_Team          -0.0673\n",
      "TwoPointPct_Opponent             0.2031\n",
      "ThreePointPct_Opponent           0.1757\n",
      "FreeThrowPct_Opponent           -0.0851\n",
      "OffensiveRebounds_Opponent      -0.0831\n",
      "DefensiveRebounds_Opponent       0.0673\n",
      "WinPct                          -0.0497\n",
      "OpponentWinPct                   0.0497\n",
      "WinPctDiff                      -0.0697\n",
      "AvgPointsFor                    -0.1325\n",
      "AvgPointsAgainst                -0.2457\n",
      "AvgNetPointsFor                  0.0908\n",
      "SeedDiff                        -0.5601\n",
      "OpponentAvgPointsFor             0.1325\n",
      "OpponentAvgPointsAgainst         0.2457\n",
      "OpponentAvgNetPointsFor         -0.0908\n",
      "TourWins                         0.0428\n",
      "OpponentTourWins                -0.0428\n",
      "TourWinsDiff                     0.0595\n",
      "FieldGoalPct_Team                0.4653\n",
      "TwoPointAttPct_Team             -0.2059\n",
      "ThreePointAttPct_Team            0.2059\n",
      "FieldGoalAtt_Team                0.1314\n",
      "TwoPointAtt_Team                 0.1983\n",
      "ThreePointAtt_Team              -0.1240\n",
      "FreeThrowAtt_Team                0.0148\n",
      "Assists_Team                    -0.0981\n",
      "Turnovers_Team                  -0.0182\n",
      "Steals_Team                      0.0273\n",
      "Blocks_Team                      0.0039\n",
      "PersonalFouls_Team               0.0056\n",
      "FieldGoalPct_Opponent           -0.4653\n",
      "TwoPointAttPct_Opponent          0.2059\n",
      "ThreePointAttPct_Opponent       -0.2059\n",
      "FieldGoalAtt_Opponent           -0.1314\n",
      "TwoPointAtt_Opponent            -0.1983\n",
      "ThreePointAtt_Opponent           0.1240\n",
      "FreeThrowAtt_Opponent           -0.0148\n",
      "Assists_Opponent                 0.0981\n",
      "Turnovers_Opponent               0.0182\n",
      "Steals_Opponent                 -0.0273\n",
      "Blocks_Opponent                 -0.0039\n",
      "PersonalFouls_Opponent          -0.0056\n",
      "AvgRankDiff                     -0.3397\n",
      "AvgNetPointsForDiff              0.1264\n",
      "TwoPointPctDiff                 -0.2952\n",
      "ThreePointPctDiff               -0.2452\n",
      "FreeThrowPctDiff                 0.1169\n",
      "OffensiveReboundsDiff            0.1156\n",
      "DefensiveReboundsDiff           -0.0956\n",
      "FieldGoalPctDiff                 0.6592\n",
      "TwoPointAttPctDiff              -0.2955\n",
      "ThreePointAttPctDiff             0.2955\n",
      "FieldGoalAttDiff                 0.1808\n",
      "TwoPointAttDiff                  0.2806\n",
      "ThreePointAttDiff               -0.1770\n",
      "FreeThrowAttDiff                 0.0214\n",
      "AssistsDiff                     -0.1416\n",
      "TurnoversDiff                   -0.0268\n",
      "StealsDiff                       0.0386\n",
      "BlocksDiff                       0.0053\n",
      "PersonalFoulsDiff                0.0079\n"
     ]
    }
   ],
   "source": [
    "for i in zip(features, lr.coef_.flatten()):\n",
    "    print(\"{:<30} {:>8.4f}\".format(i[0],i[1]))"
   ]
  },
  {
   "cell_type": "markdown",
   "metadata": {},
   "source": [
    "### PCA + Logistic Regression\n",
    "\n",
    "Transform features into the principal component space"
   ]
  },
  {
   "cell_type": "code",
   "execution_count": 54,
   "metadata": {
    "scrolled": true
   },
   "outputs": [
    {
     "data": {
      "text/plain": [
       "<matplotlib.collections.PathCollection at 0x1a14830588>"
      ]
     },
     "execution_count": 54,
     "metadata": {},
     "output_type": "execute_result"
    },
    {
     "data": {
      "image/png": "[encoded data removed]",
      "text/plain": [
       "<matplotlib.figure.Figure at 0x1a149b6cf8>"
      ]
     },
     "metadata": {},
     "output_type": "display_data"
    }
   ],
   "source": [
    "target = 'Outcome'\n",
    "features = ['AvgRank', 'OpponentAvgRank', 'TwoPointPct_Team',\n",
    "            'ThreePointPct_Team', 'FreeThrowPct_Team', 'OffensiveRebounds_Team',\n",
    "            'DefensiveRebounds_Team', 'TwoPointPct_Opponent',\n",
    "            'ThreePointPct_Opponent', 'FreeThrowPct_Opponent',\n",
    "            'OffensiveRebounds_Opponent', 'DefensiveRebounds_Opponent', 'WinPct',\n",
    "            'OpponentWinPct', 'WinPctDiff', 'AvgPointsFor', 'AvgPointsAgainst',\n",
    "            'AvgNetPointsFor', 'SeedDiff', 'OpponentAvgPointsFor',\n",
    "            'OpponentAvgPointsAgainst', 'OpponentAvgNetPointsFor', 'TourWins',\n",
    "            'OpponentTourWins', 'TourWinsDiff', 'FieldGoalPct_Team', 'TwoPointAttPct_Team',\n",
    "            'ThreePointAttPct_Team', 'FieldGoalAtt_Team', 'TwoPointAtt_Team',\n",
    "            'ThreePointAtt_Team', 'FreeThrowAtt_Team', 'Assists_Team',\n",
    "            'Turnovers_Team', 'Steals_Team', 'Blocks_Team', 'PersonalFouls_Team',\n",
    "            'FieldGoalPct_Opponent', 'TwoPointAttPct_Opponent',\n",
    "            'ThreePointAttPct_Opponent', 'FieldGoalAtt_Opponent',\n",
    "            'TwoPointAtt_Opponent', 'ThreePointAtt_Opponent',\n",
    "            'FreeThrowAtt_Opponent', 'Assists_Opponent', 'Turnovers_Opponent',\n",
    "            'Steals_Opponent', 'Blocks_Opponent', 'PersonalFouls_Opponent',\n",
    "            'AvgRankDiff', 'AvgNetPointsForDiff', 'TwoPointPctDiff',\n",
    "            'ThreePointPctDiff', 'FreeThrowPctDiff', 'OffensiveReboundsDiff',\n",
    "            'DefensiveReboundsDiff', 'FieldGoalPctDiff', 'TwoPointAttPctDiff',\n",
    "            'ThreePointAttPctDiff', 'FieldGoalAttDiff', 'TwoPointAttDiff',\n",
    "            'ThreePointAttDiff', 'FreeThrowAttDiff', 'AssistsDiff', 'TurnoversDiff',\n",
    "            'StealsDiff', 'BlocksDiff', 'PersonalFoulsDiff']\n",
    "\n",
    "pca = PCA()\n",
    "X_train_tr = pca.fit_transform(df_train[features])\n",
    "X_test_tr = pca.transform(df_test[features])\n",
    "\n",
    "plt.scatter(X_train_tr[:,0], X_train_tr[:,1])"
   ]
  },
  {
   "cell_type": "code",
   "execution_count": 58,
   "metadata": {},
   "outputs": [
    {
     "data": {
      "text/plain": [
       "[<matplotlib.lines.Line2D at 0x1a15044588>]"
      ]
     },
     "execution_count": 58,
     "metadata": {},
     "output_type": "execute_result"
    },
    {
     "data": {
      "image/png": "[encoded data removed]",
      "text/plain": [
       "<matplotlib.figure.Figure at 0x1a0c93f8d0>"
      ]
     },
     "metadata": {},
     "output_type": "display_data"
    }
   ],
   "source": [
    "plt.plot(np.cumsum(pca.explained_variance_ratio_))"
   ]
  },
  {
   "cell_type": "code",
   "execution_count": 67,
   "metadata": {},
   "outputs": [
    {
     "name": "stdout",
     "output_type": "stream",
     "text": [
      "             precision    recall  f1-score   support\n",
      "\n",
      "          0       0.72      0.72      0.72       268\n",
      "          1       0.72      0.72      0.72       268\n",
      "\n",
      "avg / total       0.72      0.72      0.72       536\n",
      "\n",
      "Log Loss:  0.530938704189\n",
      "RMSE:  0.17980356067\n",
      "ROC AUC:  0.804939852974\n"
     ]
    }
   ],
   "source": [
    "lr = LogisticRegression(penalty='l2')\n",
    "lr.fit(X_train_tr[:, :10], df_train[target])\n",
    "pred = lr.predict(X_test_tr[:, :10])\n",
    "probs = lr.predict_proba(X_test_tr[:, :10])\n",
    "\n",
    "print(classification_report(df_test[target], pred))\n",
    "print(\"Log Loss: \",log_loss(df_test[target], probs[:,1]))\n",
    "print(\"RMSE: \",mean_squared_error(df_test[target], probs[:,1]))\n",
    "print(\"ROC AUC: \", roc_auc_score(df_test[target], probs[:,1]))"
   ]
  },
  {
   "cell_type": "markdown",
   "metadata": {},
   "source": [
    "### Naive Bayes"
   ]
  },
  {
   "cell_type": "code",
   "execution_count": 16,
   "metadata": {},
   "outputs": [
    {
     "name": "stdout",
     "output_type": "stream",
     "text": [
      "             precision    recall  f1-score   support\n",
      "\n",
      "          0       0.71      0.70      0.71       268\n",
      "          1       0.70      0.71      0.71       268\n",
      "\n",
      "avg / total       0.71      0.71      0.71       536\n",
      "\n",
      "Log Loss:  0.885715789799\n",
      "RMSE:  0.228028843688\n",
      "ROC AUC:  0.763728001782\n"
     ]
    }
   ],
   "source": [
    "target = 'Outcome'\n",
    "features = ['SeedDiff', 'WinPctDiff', 'AvgNetPointsFor',\n",
    "            'AvgRank', 'OpponentAvgRank', \n",
    "            'TwoPointPct_Team', 'TwoPointPct_Opponent',\n",
    "            'ThreePointPct_Team', 'ThreePointPct_Opponent',\n",
    "            'FreeThrowPct_Team', 'FreeThrowPct_Opponent',\n",
    "            'OffensiveRebounds_Team', 'OffensiveRebounds_Opponent',\n",
    "            'DefensiveRebounds_Team', 'DefensiveRebounds_Opponent'\n",
    "           ]\n",
    "\n",
    "nb = GaussianNB()\n",
    "nb.fit(df_train[features], df_train[target])\n",
    "\n",
    "pred = nb.predict(df_test[features])\n",
    "probs = nb.predict_proba(df_test[features])\n",
    "\n",
    "print(classification_report(df_test[target], pred))\n",
    "print(\"Log Loss: \",log_loss(df_test[target], probs[:,1]))\n",
    "print(\"RMSE: \",mean_squared_error(df_test[target], probs[:,1]))\n",
    "print(\"ROC AUC: \", roc_auc_score(df_test[target], probs[:,1]))"
   ]
  },
  {
   "cell_type": "markdown",
   "metadata": {},
   "source": [
    "### Tree-Based Algorithms"
   ]
  },
  {
   "cell_type": "code",
   "execution_count": 17,
   "metadata": {},
   "outputs": [
    {
     "name": "stdout",
     "output_type": "stream",
     "text": [
      "             precision    recall  f1-score   support\n",
      "\n",
      "          0       0.64      0.70      0.67       268\n",
      "          1       0.67      0.61      0.64       268\n",
      "\n",
      "avg / total       0.66      0.66      0.66       536\n",
      "\n",
      "Log Loss:  0.616227641986\n",
      "RMSE:  0.211838082143\n",
      "ROC AUC:  0.727417019381\n"
     ]
    }
   ],
   "source": [
    "target = 'Outcome'\n",
    "features = ['SeedDiff', 'WinPct', 'OpponentWinPct', 'AvgNetPointsFor',\n",
    "            'AvgRank', 'OpponentAvgRank', \n",
    "            'TwoPointPct_Team', 'TwoPointPct_Opponent',\n",
    "            'ThreePointPct_Team', 'ThreePointPct_Opponent',\n",
    "            'FreeThrowPct_Team', 'FreeThrowPct_Opponent',\n",
    "            'OffensiveRebounds_Team', 'OffensiveRebounds_Opponent',\n",
    "            'DefensiveRebounds_Team', 'DefensiveRebounds_Opponent'\n",
    "           ]\n",
    "\n",
    "dt = DecisionTreeClassifier(max_depth=3)\n",
    "dt.fit(df_train[features], df_train[target])\n",
    "\n",
    "pred = dt.predict(df_test[features])\n",
    "probs = dt.predict_proba(df_test[features])\n",
    "\n",
    "print(classification_report(df_test[target], pred))\n",
    "print(\"Log Loss: \",log_loss(df_test[target], probs[:,1]))\n",
    "print(\"RMSE: \",mean_squared_error(df_test[target], probs[:,1]))\n",
    "print(\"ROC AUC: \", roc_auc_score(df_test[target], probs[:,1]))"
   ]
  },
  {
   "cell_type": "markdown",
   "metadata": {},
   "source": [
    "#### More Features Added"
   ]
  },
  {
   "cell_type": "code",
   "execution_count": 72,
   "metadata": {},
   "outputs": [
    {
     "name": "stdout",
     "output_type": "stream",
     "text": [
      "             precision    recall  f1-score   support\n",
      "\n",
      "          0       0.70      0.73      0.72       268\n",
      "          1       0.72      0.69      0.70       268\n",
      "\n",
      "avg / total       0.71      0.71      0.71       536\n",
      "\n",
      "Log Loss:  0.578984099098\n",
      "RMSE:  0.196410857092\n",
      "ROC AUC:  0.770759077746\n"
     ]
    }
   ],
   "source": [
    "target = 'Outcome'\n",
    "features = ['AvgRank', 'OpponentAvgRank', 'TwoPointPct_Team',\n",
    "            'ThreePointPct_Team', 'FreeThrowPct_Team', 'OffensiveRebounds_Team',\n",
    "            'DefensiveRebounds_Team', 'TwoPointPct_Opponent',\n",
    "            'ThreePointPct_Opponent', 'FreeThrowPct_Opponent',\n",
    "            'OffensiveRebounds_Opponent', 'DefensiveRebounds_Opponent', 'WinPct',\n",
    "            'OpponentWinPct', 'WinPctDiff', 'AvgPointsFor', 'AvgPointsAgainst',\n",
    "            'AvgNetPointsFor', 'SeedDiff', 'OpponentAvgPointsFor',\n",
    "            'OpponentAvgPointsAgainst', 'OpponentAvgNetPointsFor', 'TourWins',\n",
    "            'OpponentTourWins', 'TourWinsDiff', 'FieldGoalPct_Team', 'TwoPointAttPct_Team',\n",
    "            'ThreePointAttPct_Team', 'FieldGoalAtt_Team', 'TwoPointAtt_Team',\n",
    "            'ThreePointAtt_Team', 'FreeThrowAtt_Team', 'Assists_Team',\n",
    "            'Turnovers_Team', 'Steals_Team', 'Blocks_Team', 'PersonalFouls_Team',\n",
    "            'FieldGoalPct_Opponent', 'TwoPointAttPct_Opponent',\n",
    "            'ThreePointAttPct_Opponent', 'FieldGoalAtt_Opponent',\n",
    "            'TwoPointAtt_Opponent', 'ThreePointAtt_Opponent',\n",
    "            'FreeThrowAtt_Opponent', 'Assists_Opponent', 'Turnovers_Opponent',\n",
    "            'Steals_Opponent', 'Blocks_Opponent', 'PersonalFouls_Opponent',\n",
    "            'AvgRankDiff', 'AvgNetPointsForDiff', 'TwoPointPctDiff',\n",
    "            'ThreePointPctDiff', 'FreeThrowPctDiff', 'OffensiveReboundsDiff',\n",
    "            'DefensiveReboundsDiff', 'FieldGoalPctDiff', 'TwoPointAttPctDiff',\n",
    "            'ThreePointAttPctDiff', 'FieldGoalAttDiff', 'TwoPointAttDiff',\n",
    "            'ThreePointAttDiff', 'FreeThrowAttDiff', 'AssistsDiff', 'TurnoversDiff',\n",
    "            'StealsDiff', 'BlocksDiff', 'PersonalFoulsDiff']\n",
    "\n",
    "dt = DecisionTreeClassifier(max_depth=3)\n",
    "dt.fit(df_train[features], df_train[target])\n",
    "\n",
    "pred = dt.predict(df_test[features])\n",
    "probs = dt.predict_proba(df_test[features])\n",
    "\n",
    "print(classification_report(df_test[target], pred))\n",
    "print(\"Log Loss: \",log_loss(df_test[target], probs[:,1]))\n",
    "print(\"RMSE: \",mean_squared_error(df_test[target], probs[:,1]))\n",
    "print(\"ROC AUC: \", roc_auc_score(df_test[target], probs[:,1]))"
   ]
  },
  {
   "cell_type": "markdown",
   "metadata": {},
   "source": [
    "#### Random Forest"
   ]
  },
  {
   "cell_type": "code",
   "execution_count": 99,
   "metadata": {},
   "outputs": [
    {
     "name": "stdout",
     "output_type": "stream",
     "text": [
      "             precision    recall  f1-score   support\n",
      "\n",
      "          0       0.72      0.70      0.71       268\n",
      "          1       0.71      0.72      0.71       268\n",
      "\n",
      "avg / total       0.71      0.71      0.71       536\n",
      "\n",
      "Log Loss:  0.563940802025\n",
      "RMSE:  0.192789676617\n",
      "ROC AUC:  0.775952327913\n"
     ]
    }
   ],
   "source": [
    "target = 'Outcome'\n",
    "features = ['AvgRank', 'OpponentAvgRank', 'TwoPointPct_Team',\n",
    "            'ThreePointPct_Team', 'FreeThrowPct_Team', 'OffensiveRebounds_Team',\n",
    "            'DefensiveRebounds_Team', 'TwoPointPct_Opponent',\n",
    "            'ThreePointPct_Opponent', 'FreeThrowPct_Opponent',\n",
    "            'OffensiveRebounds_Opponent', 'DefensiveRebounds_Opponent', 'WinPct',\n",
    "            'OpponentWinPct', 'WinPctDiff', 'AvgPointsFor', 'AvgPointsAgainst',\n",
    "            'AvgNetPointsFor', 'SeedDiff', 'OpponentAvgPointsFor',\n",
    "            'OpponentAvgPointsAgainst', 'OpponentAvgNetPointsFor', 'TourWins',\n",
    "            'OpponentTourWins', 'TourWinsDiff', 'FieldGoalPct_Team', 'TwoPointAttPct_Team',\n",
    "            'ThreePointAttPct_Team', 'FieldGoalAtt_Team', 'TwoPointAtt_Team',\n",
    "            'ThreePointAtt_Team', 'FreeThrowAtt_Team', 'Assists_Team',\n",
    "            'Turnovers_Team', 'Steals_Team', 'Blocks_Team', 'PersonalFouls_Team',\n",
    "            'FieldGoalPct_Opponent', 'TwoPointAttPct_Opponent',\n",
    "            'ThreePointAttPct_Opponent', 'FieldGoalAtt_Opponent',\n",
    "            'TwoPointAtt_Opponent', 'ThreePointAtt_Opponent',\n",
    "            'FreeThrowAtt_Opponent', 'Assists_Opponent', 'Turnovers_Opponent',\n",
    "            'Steals_Opponent', 'Blocks_Opponent', 'PersonalFouls_Opponent',\n",
    "            'AvgRankDiff', 'AvgNetPointsForDiff', 'TwoPointPctDiff',\n",
    "            'ThreePointPctDiff', 'FreeThrowPctDiff', 'OffensiveReboundsDiff',\n",
    "            'DefensiveReboundsDiff', 'FieldGoalPctDiff', 'TwoPointAttPctDiff',\n",
    "            'ThreePointAttPctDiff', 'FieldGoalAttDiff', 'TwoPointAttDiff',\n",
    "            'ThreePointAttDiff', 'FreeThrowAttDiff', 'AssistsDiff', 'TurnoversDiff',\n",
    "            'StealsDiff', 'BlocksDiff', 'PersonalFoulsDiff']\n",
    "\n",
    "rf = RandomForestClassifier(n_estimators=300)\n",
    "rf.fit(df_train[features], df_train[target])\n",
    "\n",
    "pred = rf.predict(df_test[features])\n",
    "probs = rf.predict_proba(df_test[features])\n",
    "\n",
    "print(classification_report(df_test[target], pred))\n",
    "print(\"Log Loss: \",log_loss(df_test[target], probs[:,1]))\n",
    "print(\"RMSE: \",mean_squared_error(df_test[target], probs[:,1]))\n",
    "print(\"ROC AUC: \", roc_auc_score(df_test[target], probs[:,1]))"
   ]
  },
  {
   "cell_type": "markdown",
   "metadata": {},
   "source": [
    "### PCA + Random Forest"
   ]
  },
  {
   "cell_type": "code",
   "execution_count": 97,
   "metadata": {
    "collapsed": true
   },
   "outputs": [],
   "source": [
    "target = 'Outcome'\n",
    "features = ['AvgRank', 'OpponentAvgRank', 'TwoPointPct_Team',\n",
    "            'ThreePointPct_Team', 'FreeThrowPct_Team', 'OffensiveRebounds_Team',\n",
    "            'DefensiveRebounds_Team', 'TwoPointPct_Opponent',\n",
    "            'ThreePointPct_Opponent', 'FreeThrowPct_Opponent',\n",
    "            'OffensiveRebounds_Opponent', 'DefensiveRebounds_Opponent', 'WinPct',\n",
    "            'OpponentWinPct', 'WinPctDiff', 'AvgPointsFor', 'AvgPointsAgainst',\n",
    "            'AvgNetPointsFor', 'SeedDiff', 'OpponentAvgPointsFor',\n",
    "            'OpponentAvgPointsAgainst', 'OpponentAvgNetPointsFor', 'TourWins',\n",
    "            'OpponentTourWins', 'TourWinsDiff', 'FieldGoalPct_Team', 'TwoPointAttPct_Team',\n",
    "            'ThreePointAttPct_Team', 'FieldGoalAtt_Team', 'TwoPointAtt_Team',\n",
    "            'ThreePointAtt_Team', 'FreeThrowAtt_Team', 'Assists_Team',\n",
    "            'Turnovers_Team', 'Steals_Team', 'Blocks_Team', 'PersonalFouls_Team',\n",
    "            'FieldGoalPct_Opponent', 'TwoPointAttPct_Opponent',\n",
    "            'ThreePointAttPct_Opponent', 'FieldGoalAtt_Opponent',\n",
    "            'TwoPointAtt_Opponent', 'ThreePointAtt_Opponent',\n",
    "            'FreeThrowAtt_Opponent', 'Assists_Opponent', 'Turnovers_Opponent',\n",
    "            'Steals_Opponent', 'Blocks_Opponent', 'PersonalFouls_Opponent',\n",
    "            'AvgRankDiff', 'AvgNetPointsForDiff', 'TwoPointPctDiff',\n",
    "            'ThreePointPctDiff', 'FreeThrowPctDiff', 'OffensiveReboundsDiff',\n",
    "            'DefensiveReboundsDiff', 'FieldGoalPctDiff', 'TwoPointAttPctDiff',\n",
    "            'ThreePointAttPctDiff', 'FieldGoalAttDiff', 'TwoPointAttDiff',\n",
    "            'ThreePointAttDiff', 'FreeThrowAttDiff', 'AssistsDiff', 'TurnoversDiff',\n",
    "            'StealsDiff', 'BlocksDiff', 'PersonalFoulsDiff']\n",
    "\n",
    "pca = PCA()\n",
    "X_train_tr = pca.fit_transform(df_train[features])\n",
    "X_test_tr = pca.transform(df_test[features])"
   ]
  },
  {
   "cell_type": "code",
   "execution_count": 98,
   "metadata": {},
   "outputs": [
    {
     "name": "stdout",
     "output_type": "stream",
     "text": [
      "             precision    recall  f1-score   support\n",
      "\n",
      "          0       0.71      0.71      0.71       268\n",
      "          1       0.71      0.71      0.71       268\n",
      "\n",
      "avg / total       0.71      0.71      0.71       536\n",
      "\n",
      "Log Loss:  0.596266592015\n",
      "RMSE:  0.203523611111\n",
      "ROC AUC:  0.768705446647\n"
     ]
    }
   ],
   "source": [
    "rf = RandomForestClassifier(n_estimators=300)\n",
    "rf.fit(X_train_tr, df_train[target])\n",
    "\n",
    "pred = rf.predict(X_test_tr)\n",
    "probs = rf.predict_proba(X_test_tr)\n",
    "\n",
    "print(classification_report(df_test[target], pred))\n",
    "print(\"Log Loss: \",log_loss(df_test[target], probs[:,1]))\n",
    "print(\"RMSE: \",mean_squared_error(df_test[target], probs[:,1]))\n",
    "print(\"ROC AUC: \", roc_auc_score(df_test[target], probs[:,1]))"
   ]
  },
  {
   "cell_type": "markdown",
   "metadata": {},
   "source": [
    "## Modeling - Approach 2\n",
    "***\n",
    "\n",
    "The second approach to training and tuning the models is using the data from the regular season to train the model, and using the tournament data to tune the model.  An assumption with this approach is that we are treating the match up between regular season games and tournament games the same.\n",
    "\n",
    "This approach has boths pros and cons.  One of the benefits to this approach is that many more observations to train from using the regular season games between 2003-2018 (82041) than just relying on the tournament games between 2003-2013 (713).  There are also daily rankings of division 1 teams provided by Massey Ratings which are apt for training with regular season games, although the ranking from the last regular season game can still be used with approach 1.  One of the main disadvantages to using approach 2 is that it cannot train on the tournament seed information, which is only available prior to the tournament.\n",
    "\n",
    "Note that there are also variations for approach 2 that should be explored.  One variation is to use all the regular season games as training data, and all the tournament games as tuning data.  A second variation is to use the tournament data prior to 2014 with the regular season data for training, and the tournament data between 2014-2017 for tuning, similar to approach 1.  Both of these variations are examined below."
   ]
  },
  {
   "cell_type": "markdown",
   "metadata": {},
   "source": [
    "### Pull Features from PostgreSQL\n",
    "\n",
    "Pull data from PostgreSQL and pickle to work offline."
   ]
  },
  {
   "cell_type": "code",
   "execution_count": 6,
   "metadata": {
    "collapsed": true
   },
   "outputs": [],
   "source": [
    "conn = pg.connect(database='postgres',\n",
    "                  user='postgres',\n",
    "                  password='w207final',\n",
    "                  host='35.185.225.167')"
   ]
  },
  {
   "cell_type": "markdown",
   "metadata": {
    "collapsed": true
   },
   "source": [
    "### Get the train/dev data from the database"
   ]
  },
  {
   "cell_type": "markdown",
   "metadata": {},
   "source": [
    "#### Approach2: Training data is all regular season data (2003-2018)"
   ]
  },
  {
   "cell_type": "code",
   "execution_count": 7,
   "metadata": {
    "collapsed": true
   },
   "outputs": [],
   "source": [
    "approach2TrainingDataQuery = '''  SELECT * FROM prod.\"features\" f WHERE (f.\"Season Type\"='Regular') AND (f.\"Season\" < 2019) ORDER BY \"Season\", \"DayNum\", \"Team\"  '''\n",
    "df_approach2_training = pd.read_sql_query(approach2TrainingDataQuery, conn)"
   ]
  },
  {
   "cell_type": "markdown",
   "metadata": {},
   "source": [
    "#### Approach2: Dev data is all tournament data (2003-2017)"
   ]
  },
  {
   "cell_type": "code",
   "execution_count": 8,
   "metadata": {
    "collapsed": true
   },
   "outputs": [],
   "source": [
    "approach2DevDataQuery = ''' SELECT * FROM prod.\"features\" f WHERE (f.\"Season Type\"='NCAA Tourney') AND (f.\"Season\" > 2002) AND (f.\"Season\" < 2018) order by \"Season\", \"DayNum\", \"Team\" '''\n",
    "df_approach2_dev = pd.read_sql_query(approach2DevDataQuery, conn)"
   ]
  },
  {
   "cell_type": "markdown",
   "metadata": {},
   "source": [
    "#### Approach2 Combined: Training data is all regular season data (2003-2018) and the tournament games before 2014 (2003-2013)"
   ]
  },
  {
   "cell_type": "code",
   "execution_count": 9,
   "metadata": {
    "collapsed": true
   },
   "outputs": [],
   "source": [
    "approach2CombinedTrainingDataQuery = '''  SELECT * FROM prod.\"features\" f WHERE (f.\"Season Type\"='Regular') OR (f.\"Season\" < 2014) ORDER BY \"Season\", \"DayNum\", \"Team\"  '''\n",
    "df_approach2Combined_training = pd.read_sql_query(approach2CombinedTrainingDataQuery, conn)"
   ]
  },
  {
   "cell_type": "markdown",
   "metadata": {},
   "source": [
    "#### Approach2 Combined: Dev data is tournament data between 2014-2017"
   ]
  },
  {
   "cell_type": "code",
   "execution_count": 10,
   "metadata": {
    "collapsed": true
   },
   "outputs": [],
   "source": [
    "approach2CombinedDevDataQuery = ''' SELECT * FROM prod.\"features\" f WHERE (f.\"Season Type\"='NCAA Tourney') AND (f.\"Season\" > 2013) AND (f.\"Season\" < 2018) order by \"Season\", \"DayNum\", \"Team\" '''\n",
    "df_approach2Combined_dev = pd.read_sql_query(approach2CombinedDevDataQuery, conn)"
   ]
  },
  {
   "cell_type": "code",
   "execution_count": 11,
   "metadata": {
    "collapsed": true
   },
   "outputs": [],
   "source": [
    "conn.close()"
   ]
  },
  {
   "cell_type": "markdown",
   "metadata": {
    "collapsed": true
   },
   "source": [
    "### Remove NaNs"
   ]
  },
  {
   "cell_type": "code",
   "execution_count": 12,
   "metadata": {
    "collapsed": true
   },
   "outputs": [],
   "source": [
    "columnsToClean = ['Outcome', 'AvgRank', 'OpponentAvgRank', 'TwoPointPct_Team', 'ThreePointPct_Team', 'FreeThrowPct_Team', 'OffensiveRebounds_Team', 'DefensiveRebounds_Team', 'TwoPointPct_Opponent', 'ThreePointPct_Opponent', 'FreeThrowPct_Opponent', 'OffensiveRebounds_Opponent', 'DefensiveRebounds_Opponent', 'WinPct', 'OpponentWinPct', 'WinPctDiff', 'AvgPointsFor', 'AvgPointsAgainst', 'AvgNetPointsFor', 'OpponentAvgPointsFor', 'OpponentAvgPointsAgainst', 'OpponentAvgNetPointsFor', 'TourWins', 'OpponentTourWins', 'TourWinsDiff', 'FieldGoalPct_Team', 'TwoPointAttPct_Team', 'ThreePointAttPct_Team', 'FieldGoalAtt_Team', 'TwoPointAtt_Team', 'ThreePointAtt_Team', 'FreeThrowAtt_Team', 'Assists_Team', 'Turnovers_Team', 'Steals_Team', 'Blocks_Team', 'PersonalFouls_Team', 'FieldGoalPct_Opponent', 'TwoPointAttPct_Opponent', 'ThreePointAttPct_Opponent', 'FieldGoalAtt_Opponent', 'TwoPointAtt_Opponent', 'ThreePointAtt_Opponent', 'FreeThrowAtt_Opponent', 'Assists_Opponent', 'Turnovers_Opponent', 'Steals_Opponent', 'Blocks_Opponent', 'PersonalFouls_Opponent']\n",
    "df_approach2_training.dropna(how='any', inplace=True, subset=columnsToClean)\n",
    "df_approach2_dev.dropna(how='any', inplace=True, subset=columnsToClean)\n",
    "df_approach2Combined_training.dropna(how='any', inplace=True, subset=columnsToClean)\n",
    "df_approach2Combined_dev.dropna(how='any', inplace=True, subset=columnsToClean)"
   ]
  },
  {
   "cell_type": "markdown",
   "metadata": {},
   "source": [
    "### Create Train and Dev Sets"
   ]
  },
  {
   "cell_type": "code",
   "execution_count": 13,
   "metadata": {
    "collapsed": true
   },
   "outputs": [],
   "source": [
    "target = 'Outcome'\n",
    "features = ['AvgRank', 'OpponentAvgRank', 'TwoPointPct_Team', 'ThreePointPct_Team', 'FreeThrowPct_Team', 'OffensiveRebounds_Team', 'DefensiveRebounds_Team', 'TwoPointPct_Opponent', 'ThreePointPct_Opponent', 'FreeThrowPct_Opponent', 'OffensiveRebounds_Opponent', 'DefensiveRebounds_Opponent', 'WinPct', 'OpponentWinPct', 'WinPctDiff', 'AvgPointsFor', 'AvgPointsAgainst', 'AvgNetPointsFor', 'OpponentAvgPointsFor', 'OpponentAvgPointsAgainst', 'OpponentAvgNetPointsFor', 'TourWins', 'OpponentTourWins', 'TourWinsDiff', 'FieldGoalPct_Team', 'TwoPointAttPct_Team', 'ThreePointAttPct_Team', 'FieldGoalAtt_Team', 'TwoPointAtt_Team', 'ThreePointAtt_Team', 'FreeThrowAtt_Team', 'Assists_Team', 'Turnovers_Team', 'Steals_Team', 'Blocks_Team', 'PersonalFouls_Team', 'FieldGoalPct_Opponent', 'TwoPointAttPct_Opponent', 'ThreePointAttPct_Opponent', 'FieldGoalAtt_Opponent', 'TwoPointAtt_Opponent', 'ThreePointAtt_Opponent', 'FreeThrowAtt_Opponent', 'Assists_Opponent', 'Turnovers_Opponent', 'Steals_Opponent', 'Blocks_Opponent', 'PersonalFouls_Opponent']"
   ]
  },
  {
   "cell_type": "code",
   "execution_count": 14,
   "metadata": {
    "collapsed": true
   },
   "outputs": [],
   "source": [
    "X_train2 = df_approach2_training[features]\n",
    "y_train2 = df_approach2_training[target]\n",
    "X_dev2  = df_approach2_dev[features]\n",
    "y_dev2  = df_approach2_dev[target]"
   ]
  },
  {
   "cell_type": "code",
   "execution_count": 15,
   "metadata": {
    "collapsed": true
   },
   "outputs": [],
   "source": [
    "X_train2_combined = df_approach2Combined_training[features]\n",
    "y_train2_combined = df_approach2Combined_training[target]\n",
    "X_dev2_combined  = df_approach2Combined_dev[features]\n",
    "y_dev2_combined  = df_approach2Combined_dev[target]"
   ]
  },
  {
   "cell_type": "markdown",
   "metadata": {},
   "source": [
    "#### Perform a Logistic Regression (Lasso) Using the **Regular Season**"
   ]
  },
  {
   "cell_type": "code",
   "execution_count": 18,
   "metadata": {},
   "outputs": [
    {
     "name": "stdout",
     "output_type": "stream",
     "text": [
      "Best log-loss: -0.5518, with best C: 100\n"
     ]
    }
   ],
   "source": [
    "lrc1 = LogisticRegression(penalty='l1')\n",
    "params = {'C': [50,75,100,125,150,175,200,225]}\n",
    "gscv1 = GridSearchCV(lrc1, params, scoring='neg_log_loss', refit=True)\n",
    "gscv1.fit(X_train2, y_train2)\n",
    "print('Best log-loss: {:.4}, with best C: {}'.format(gscv1.best_score_, gscv1.best_params_['C']))\n",
    "lrc1 = LogisticRegression(penalty='l1', C=gscv1.best_params_['C'])\n",
    "lrc1.fit(X_train2, y_train2)\n",
    "prediction1 = lrc1.predict(X_dev2)\n",
    "y_probas = lrc1.predict_proba(X_dev2)"
   ]
  },
  {
   "cell_type": "code",
   "execution_count": 28,
   "metadata": {},
   "outputs": [
    {
     "name": "stdout",
     "output_type": "stream",
     "text": [
      "             precision    recall  f1-score   support\n",
      "\n",
      "          0       0.73      0.73      0.73       982\n",
      "          1       0.73      0.73      0.73       980\n",
      "\n",
      "avg / total       0.73      0.73      0.73      1962\n",
      "\n",
      "Area under the curve: 0.727\n",
      "Log loss: 0.547507555038823\n",
      "RMSE: 0.18511282645243243\n"
     ]
    }
   ],
   "source": [
    "# Determine F1 score\n",
    "print(classification_report(prediction1, y_dev2))\n",
    "# Determine AUC\n",
    "print('Area under the curve: {0:.3f}'.format(roc_auc_score(y_dev2,  lrc1.predict(X_dev2))))\n",
    "# Determine log-loss\n",
    "print('Log loss: {}'.format(log_loss(y_dev2.values, y_probas[:,1])))\n",
    "# Determine RMSE\n",
    "print('RMSE: {}'.format(mean_squared_error(y_dev2.values, y_probas[:,1])))"
   ]
  },
  {
   "cell_type": "markdown",
   "metadata": {},
   "source": [
    "#### Perform a Logistic Regression (Ridge) Using the **Regular Season**"
   ]
  },
  {
   "cell_type": "code",
   "execution_count": 29,
   "metadata": {},
   "outputs": [
    {
     "name": "stdout",
     "output_type": "stream",
     "text": [
      "Best log-loss: -0.5518, with best C: 75\n"
     ]
    }
   ],
   "source": [
    "lrc2 = LogisticRegression(penalty='l2')\n",
    "params = {'C': [50,75,100,125,150,175,200,225]}\n",
    "gscv2 = GridSearchCV(lrc2, params, scoring='neg_log_loss', refit=True)\n",
    "gscv2.fit(X_train2, y_train2)\n",
    "print('Best log-loss: {:.4}, with best C: {}'.format(gscv2.best_score_, gscv2.best_params_['C']))\n",
    "lrc2 = LogisticRegression(penalty='l2', C=gscv2.best_params_['C'])\n",
    "lrc2.fit(X_train2, y_train2)\n",
    "prediction2 = lrc2.predict(X_dev2)\n",
    "y_probas = lrc2.predict_proba(X_dev2)"
   ]
  },
  {
   "cell_type": "code",
   "execution_count": 30,
   "metadata": {},
   "outputs": [
    {
     "name": "stdout",
     "output_type": "stream",
     "text": [
      "             precision    recall  f1-score   support\n",
      "\n",
      "          0       0.73      0.73      0.73       981\n",
      "          1       0.73      0.73      0.73       981\n",
      "\n",
      "avg / total       0.73      0.73      0.73      1962\n",
      "\n",
      "Area under the curve: 0.730\n",
      "Log loss: 0.5476144232872374\n",
      "RMSE: 0.18517487195042445\n"
     ]
    }
   ],
   "source": [
    "# Determine F1 score\n",
    "print(classification_report(prediction2, y_dev2))\n",
    "# Determine AUC\n",
    "print('Area under the curve: {0:.3f}'.format(roc_auc_score(y_dev2,  lrc2.predict(X_dev2))))\n",
    "# Determine log-loss\n",
    "print('Log loss: {}'.format(log_loss(y_dev2.values, y_probas[:,1])))\n",
    "# Determine RMSE\n",
    "print('RMSE: {}'.format(mean_squared_error(y_dev2.values, y_probas[:,1])))"
   ]
  },
  {
   "cell_type": "markdown",
   "metadata": {},
   "source": [
    "#### Perform a Logistic Regression (Lasso) Using **Combined Regular Season / Tournament Data**"
   ]
  },
  {
   "cell_type": "code",
   "execution_count": 31,
   "metadata": {},
   "outputs": [
    {
     "name": "stdout",
     "output_type": "stream",
     "text": [
      "Best log-loss: -0.5518, with best C: 100\n"
     ]
    }
   ],
   "source": [
    "lrc3 = LogisticRegression(penalty='l1')\n",
    "params = {'C': [50,75,100,125,150,175,200,225]}\n",
    "gscv3 = GridSearchCV(lrc3, params, scoring='neg_log_loss', refit=True)\n",
    "gscv3.fit(X_train2_combined, y_train2_combined)\n",
    "print('Best log-loss: {:.4}, with best C: {}'.format(gscv3.best_score_, gscv3.best_params_['C']))\n",
    "lrc3 = LogisticRegression(penalty='l1', C=gscv3.best_params_['C'])\n",
    "lrc3.fit(X_train2_combined, y_train2_combined)\n",
    "prediction3 = lrc3.predict(X_dev2_combined)\n",
    "y_probas = lrc3.predict_proba(X_dev2_combined)"
   ]
  },
  {
   "cell_type": "code",
   "execution_count": 32,
   "metadata": {},
   "outputs": [
    {
     "name": "stdout",
     "output_type": "stream",
     "text": [
      "             precision    recall  f1-score   support\n",
      "\n",
      "          0       0.74      0.74      0.74       268\n",
      "          1       0.74      0.74      0.74       268\n",
      "\n",
      "avg / total       0.74      0.74      0.74       536\n",
      "\n",
      "Area under the curve: 0.728\n",
      "Log loss: 0.5367589196086237\n",
      "RMSE: 0.18026256901739407\n"
     ]
    }
   ],
   "source": [
    "# Determine F1 score\n",
    "print(classification_report(prediction3, y_dev2_combined))\n",
    "# Determine AUC\n",
    "print('Area under the curve: {0:.3f}'.format(roc_auc_score(y_dev2,  lrc3.predict(X_dev2))))\n",
    "# Determine log-loss\n",
    "print('Log loss: {}'.format(log_loss(y_dev2_combined.values, y_probas[:,1])))\n",
    "# Determine RMSE\n",
    "print('RMSE: {}'.format(mean_squared_error(y_dev2_combined.values, y_probas[:,1])))"
   ]
  },
  {
   "cell_type": "markdown",
   "metadata": {},
   "source": [
    "#### Perform a Logistic Regression (Ridge) Using **Combined Regular Season / Tournament Data**"
   ]
  },
  {
   "cell_type": "code",
   "execution_count": 33,
   "metadata": {},
   "outputs": [
    {
     "name": "stdout",
     "output_type": "stream",
     "text": [
      "Best log-loss: -0.5518, with best C: 50\n"
     ]
    }
   ],
   "source": [
    "lrc4 = LogisticRegression(penalty='l2')\n",
    "params = {'C': [50,75,100,125,150,175,200,225]}\n",
    "gscv4 = GridSearchCV(lrc4, params, scoring='neg_log_loss', refit=True)\n",
    "gscv4.fit(X_train2_combined, y_train2_combined)\n",
    "print('Best log-loss: {:.4}, with best C: {}'.format(gscv4.best_score_, gscv4.best_params_['C']))\n",
    "lrc4 = LogisticRegression(penalty='l2', C=gscv4.best_params_['C'])\n",
    "lrc4.fit(X_train2_combined, y_train2_combined)\n",
    "prediction4 = lrc4.predict(X_dev2_combined)"
   ]
  },
  {
   "cell_type": "code",
   "execution_count": 34,
   "metadata": {},
   "outputs": [
    {
     "name": "stdout",
     "output_type": "stream",
     "text": [
      "             precision    recall  f1-score   support\n",
      "\n",
      "          0       0.74      0.74      0.74       268\n",
      "          1       0.74      0.74      0.74       268\n",
      "\n",
      "avg / total       0.74      0.74      0.74       536\n",
      "\n",
      "Area under the curve: 0.730\n",
      "Log loss: 0.5367589196086237\n",
      "RMSE: 0.18026256901739407\n"
     ]
    }
   ],
   "source": [
    "# Determine F1 score\n",
    "print(classification_report(prediction4, y_dev2_combined))\n",
    "# Determine AUC\n",
    "print('Area under the curve: {0:.3f}'.format(roc_auc_score(y_dev2,  lrc4.predict(X_dev2))))\n",
    "# Determine log-loss\n",
    "print('Log loss: {}'.format(log_loss(y_dev2_combined.values, y_probas[:,1])))\n",
    "# Determine RMSE\n",
    "print('RMSE: {}'.format(mean_squared_error(y_dev2_combined.values, y_probas[:,1])))"
   ]
  },
  {
   "cell_type": "markdown",
   "metadata": {},
   "source": [
    "### Best Data Set and Regularization"
   ]
  },
  {
   "attachments": {},
   "cell_type": "markdown",
   "metadata": {},
   "source": [
    "Based on the above models, the best results are from training a logistic regression model using a combination of regular season and tournament games (2003-2013), and using ridge regression (L2) for regularization."
   ]
  },
  {
   "cell_type": "markdown",
   "metadata": {},
   "source": [
    "## Model Ensemble\n",
    "***\n",
    "\n",
    "Combining Approach 1 & 2 explanation here..."
   ]
  },
  {
   "cell_type": "code",
   "execution_count": 12,
   "metadata": {
    "collapsed": true
   },
   "outputs": [],
   "source": [
    "### Model Ensemble Analysis Here..."
   ]
  },
  {
   "cell_type": "code",
   "execution_count": null,
   "metadata": {
    "collapsed": true
   },
   "outputs": [],
   "source": []
  },
  {
   "cell_type": "markdown",
   "metadata": {},
   "source": [
    "## Final Model Evaluation (2018 Tournament)\n",
    "***"
   ]
  },
  {
   "cell_type": "code",
   "execution_count": null,
   "metadata": {
    "collapsed": true
   },
   "outputs": [],
   "source": [
    "### Model Eval Here"
   ]
  },
  {
   "cell_type": "code",
   "execution_count": null,
   "metadata": {
    "collapsed": true
   },
   "outputs": [],
   "source": []
  },
  {
   "cell_type": "markdown",
   "metadata": {},
   "source": [
    "## Model Deployment\n",
    "***\n",
    "\n",
    "- Create prediction output of all possible games\n",
    "- Submit CSV to Kaggle"
   ]
  },
  {
   "cell_type": "code",
   "execution_count": null,
   "metadata": {
    "collapsed": true
   },
   "outputs": [],
   "source": [
    "### prediction output code here..."
   ]
  },
  {
   "cell_type": "code",
   "execution_count": null,
   "metadata": {
    "collapsed": true
   },
   "outputs": [],
   "source": []
  }
 ],
 "metadata": {
  "kernelspec": {
   "display_name": "Python 3",
   "language": "python",
   "name": "python3"
  },
  "language_info": {
   "codemirror_mode": {
    "name": "ipython",
    "version": 3
   },
   "file_extension": ".py",
   "mimetype": "text/x-python",
   "name": "python",
   "nbconvert_exporter": "python",
   "pygments_lexer": "ipython3",
   "version": "3.5.4"
  },
  "toc": {
   "base_numbering": 1,
   "nav_menu": {
    "height": "416px",
    "width": "375px"
   },
   "number_sections": true,
   "sideBar": true,
   "skip_h1_title": true,
   "title_cell": "Table of Contents",
   "title_sidebar": "Contents",
   "toc_cell": false,
   "toc_position": {
    "height": "calc(100% - 180px)",
    "left": "10px",
    "top": "150px",
    "width": "336px"
   },
   "toc_section_display": true,
   "toc_window_display": true
  }
 },
 "nbformat": 4,
 "nbformat_minor": 2
}
