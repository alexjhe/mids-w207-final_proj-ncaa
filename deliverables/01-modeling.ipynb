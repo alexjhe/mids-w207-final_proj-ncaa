{
 "cells": [
  {
   "cell_type": "markdown",
   "metadata": {},
   "source": [
    "# Google Cloud & NCAA® ML Competition 2018-Men's\n",
    "\n",
    "Kaggle Competition Notebook by Alex Herring, Ely Liu, Matthew Prout, Steve Yang"
   ]
  },
  {
   "cell_type": "markdown",
   "metadata": {},
   "source": [
    "## Business Understanding\n",
    "***\n",
    "\n",
    "Business Understanding writeup here...\n",
    "\n",
    "\n",
    "\n"
   ]
  },
  {
   "cell_type": "markdown",
   "metadata": {},
   "source": [
    "## Data Understanding\n",
    "***\n",
    "\n",
    "Data Understanding writeup here..."
   ]
  },
  {
   "cell_type": "markdown",
   "metadata": {},
   "source": [
    "### EDA\n",
    "\n",
    "EDA writeup here..."
   ]
  },
  {
   "cell_type": "code",
   "execution_count": 1,
   "metadata": {
    "collapsed": true
   },
   "outputs": [],
   "source": [
    "### EDA Analysis Here"
   ]
  },
  {
   "cell_type": "code",
   "execution_count": null,
   "metadata": {
    "collapsed": true
   },
   "outputs": [],
   "source": []
  },
  {
   "cell_type": "code",
   "execution_count": null,
   "metadata": {
    "collapsed": true
   },
   "outputs": [],
   "source": []
  },
  {
   "cell_type": "markdown",
   "metadata": {},
   "source": [
    "## Data Preparation / Feature Engineering\n",
    "***"
   ]
  },
  {
   "cell_type": "markdown",
   "metadata": {},
   "source": [
    "### Data Preparation Challenges\n",
    "\n",
    "We faced a number of challenges related to data preparation and feature engineering. Unlike many projects we've faced previously or a typical Kaggle competition, we had to make careful assumptions on what exactly would comprise the training dataset. One reason as apparent in the data understanding section was due to the sheer number of datasets provided for us. Three other primary reasons, made this process rather challenging.\n",
    "\n",
    "First, the predictions were not based on features of that game itself. That is, it'd be rather useless if we used the features of a specific game to predict the outcome of that same game, since at prediction time that data would be unavailable. Thus, we had to engineer features that would be available to use at prediction time, making this a time-series forecasting problem in addition to simply a prediction problem.\n",
    "\n",
    "The second challenge was keeping clear what feature would and would not be available at prediction time. There were a number of features that seemed great retrospectively, but we had to limit ourselves to features that would be available before the tournament began.\n",
    "\n",
    "Finally, there were two main approaches to modeling, which caused challenges to the data preparation. Approach 1 involved using only the tournament results as the target variables, although it was still possible to engineer features that retained information about the regular season. The theory behind this approach was the hypothesis that regular season games and tournament games would be heterogenous. The implication of this approach were much fewer observations, but ones that would be more relevant to the prediction. Also, there were features that would not be possible to have if we trained based on regular season games -- primarily tournament seeds. Approach 2 took into account all regular season games. In this approach we theorized that tournament games were merely an extension of regular season games, and learning on the regular season could be used to predict the tournament results. The two approaches warranted slightly different logic for feature engineering, details of which are outlined below."
   ]
  },
  {
   "cell_type": "markdown",
   "metadata": {},
   "source": [
    "### Data Preparation Solutions\n",
    "\n",
    "To handle some of the challenges, we set up a PostgreSQL instance of Google Cloud Platform to ensure we would be working with a single version of the truth. This was especially important because of the number of data sources and variations in features as mentioned above.\n",
    "\n",
    "We build the canonical features table in which each row is one of the teams in every regular season or tournament game. In other words, there are two rows for every game, each row corresponding to one of two teams that play in that game. Each row also contains information about the opponent and features about the opponent, since how likely a team is to win a game is dependent just as much on the opponent they are facing. The target variable is, of course, game outcome represented as a binary variable. The modeling table begins with the 2003 season due to data quality issues before that time period for a number of raw data sources.\n",
    "\n",
    "We create an extensive list of features -- some of which are simple aggregations of game statistics, and others based on more complex logic. The details of each feature can be found in this [document](http://www.google.com). There are some overarching patterns for the majority of the features.\n",
    "\n",
    "First, most features are created in sets of three. That feature as it applies to the team, the opponent, and the difference between team and opponent. For example, for each row we would have the features \"Two Point Percentage\", \"Opponent Two Point Percentage\", and \"Two Point Percentage Difference\". \n",
    "\n",
    "Another nuance of feature engineering is that each feature is only compiled of information from preceding games from the season. Using \"Two Point Percentage\" as an example again. The feature is NaN in the first game of the season, since there is no preceding game. The second game of the season would be the metric from the previous game. For the third game of the season, the metric would be the aggregate from the first two games; and so on. For the tournament games, the feature is an aggregate of all games from the regular season. Described more concisely, we take cumulative aggregates of all metrics. This is to ensure that there is no data leakage."
   ]
  },
  {
   "cell_type": "code",
   "execution_count": 197,
   "metadata": {
    "collapsed": true
   },
   "outputs": [],
   "source": [
    "# This tells matplotlib not to try opening a new window for each plot.\n",
    "%matplotlib inline\n",
    "\n",
    "import numpy as np\n",
    "import pandas as pd\n",
    "import matplotlib.pyplot as plt\n",
    "import psycopg2 as pg\n",
    "import csv\n",
    "\n",
    "from sklearn.metrics import confusion_matrix\n",
    "from sklearn import metrics\n",
    "from sklearn.metrics import classification_report\n",
    "from sklearn.metrics import log_loss\n",
    "from sklearn.metrics import roc_auc_score\n",
    "from sklearn.metrics import mean_squared_error\n",
    "\n",
    "from sklearn.linear_model import LogisticRegression\n",
    "from sklearn.naive_bayes import GaussianNB\n",
    "from sklearn.tree import DecisionTreeClassifier\n",
    "from sklearn.ensemble import RandomForestClassifier\n",
    "from sklearn.model_selection import GridSearchCV\n",
    "from sklearn.model_selection import train_test_split\n",
    "\n",
    "from sklearn.preprocessing import StandardScaler\n",
    "from sklearn.decomposition import PCA"
   ]
  },
  {
   "cell_type": "markdown",
   "metadata": {},
   "source": [
    "## Modeling - Approach 1\n",
    "***\n",
    "\n",
    "Approach 1 Explanation Here..."
   ]
  },
  {
   "cell_type": "markdown",
   "metadata": {},
   "source": [
    "### Pull Features from PostgreSQL\n",
    "\n",
    "Pull data from PostgreSQL and pickle to work offline."
   ]
  },
  {
   "cell_type": "code",
   "execution_count": 3,
   "metadata": {
    "collapsed": true
   },
   "outputs": [],
   "source": [
    "# query = '''\n",
    "#     SELECT *\n",
    "#     FROM prod.features\n",
    "#     WHERE \"Season Type\" = 'NCAA Tourney' and\n",
    "#         holdout_s2 = 0\n",
    "# '''\n",
    "\n",
    "# conn = pg.connect(database='postgres',\n",
    "#                   user='postgres',\n",
    "#                   password='w207final',\n",
    "#                   host='35.185.225.167')\n",
    "\n",
    "# df = pd.read_sql_query(query, conn)\n",
    "\n",
    "# # \"Diff\" Features\n",
    "# df['AvgRankDiff'] = df['AvgRank'] - df['OpponentAvgRank']\n",
    "# df['AvgNetPointsForDiff'] = df['AvgNetPointsFor'] - df['OpponentAvgNetPointsFor']\n",
    "# df['TwoPointPctDiff'] = df['TwoPointPct_Team'] - df['TwoPointPct_Opponent']\n",
    "# df['ThreePointPctDiff'] = df['ThreePointPct_Team'] - df['ThreePointPct_Opponent']\n",
    "# df['FreeThrowPctDiff'] = df['FreeThrowPct_Team'] - df['FreeThrowPct_Opponent']\n",
    "# df['OffensiveReboundsDiff'] = df['OffensiveRebounds_Team'] - df['OffensiveRebounds_Opponent']\n",
    "# df['DefensiveReboundsDiff'] = df['DefensiveRebounds_Team'] - df['DefensiveRebounds_Opponent']\n",
    "# df['FieldGoalPctDiff'] = df['FieldGoalPct_Team'] - df['FieldGoalPct_Opponent']\n",
    "# df['TwoPointAttPctDiff'] = df['TwoPointAttPct_Team'] - df['TwoPointAttPct_Opponent']\n",
    "# df['ThreePointAttPctDiff'] = df['ThreePointAttPct_Team'] - df['ThreePointAttPct_Opponent']\n",
    "# df['FieldGoalAttDiff'] = df['FieldGoalAtt_Team'] - df['FieldGoalAtt_Opponent']\n",
    "# df['TwoPointAttDiff'] = df['TwoPointAtt_Team'] - df['TwoPointAtt_Opponent']\n",
    "# df['ThreePointAttDiff'] = df['ThreePointAtt_Team'] - df['ThreePointAtt_Opponent']\n",
    "# df['FreeThrowAttDiff'] = df['FreeThrowAtt_Team'] - df['FreeThrowAtt_Opponent']\n",
    "# df['AssistsDiff'] = df['Assists_Team'] - df['Assists_Opponent']\n",
    "# df['TurnoversDiff'] = df['Turnovers_Team'] - df['Turnovers_Opponent']\n",
    "# df['StealsDiff'] = df['Steals_Team'] - df['Steals_Opponent']\n",
    "# df['BlocksDiff'] = df['Blocks_Team'] - df['Blocks_Opponent']\n",
    "# df['PersonalFoulsDiff'] = df['PersonalFouls_Team'] - df['PersonalFouls_Opponent']\n",
    "\n",
    "# # df.to_pickle(\"./modeling_df\")"
   ]
  },
  {
   "cell_type": "code",
   "execution_count": 2,
   "metadata": {
    "collapsed": true
   },
   "outputs": [],
   "source": [
    "df_in = pd.read_pickle(\"./modeling_df\")"
   ]
  },
  {
   "cell_type": "code",
   "execution_count": 3,
   "metadata": {
    "collapsed": true
   },
   "outputs": [],
   "source": [
    "df_train = df_in[df_in['holdout_s1'] == 0]\n",
    "df_test = df_in[df_in['holdout_s1'] == 1]"
   ]
  },
  {
   "cell_type": "markdown",
   "metadata": {},
   "source": [
    "### Baseline Metrics\n",
    "\n",
    "- Log Loss value for all predicted probabilites == 0.5\n",
    "- Log Loss value if every prediction was wrong with 100% confidence"
   ]
  },
  {
   "cell_type": "code",
   "execution_count": 4,
   "metadata": {},
   "outputs": [
    {
     "name": "stdout",
     "output_type": "stream",
     "text": [
      "Baseline:  0.69314718056\n",
      "Completely Wrong:  34.5391761936\n"
     ]
    }
   ],
   "source": [
    "target = 'Outcome'\n",
    "\n",
    "# baseline of 0.5\n",
    "baseline = np.full(536, 0.5)\n",
    "print(\"Baseline: \",log_loss(df_test[target],baseline))\n",
    "\n",
    "# worst case scenario -- every prediction was wrong with 100% confidence\n",
    "print(\"Completely Wrong: \",log_loss(df_test[target],1-df_test[target]))"
   ]
  },
  {
   "cell_type": "code",
   "execution_count": 5,
   "metadata": {},
   "outputs": [
    {
     "name": "stdout",
     "output_type": "stream",
     "text": [
      "             precision    recall  f1-score   support\n",
      "\n",
      "          0       0.69      0.75      0.72       268\n",
      "          1       0.73      0.67      0.70       268\n",
      "\n",
      "avg / total       0.71      0.71      0.71       536\n",
      "\n",
      "Log Loss:  0.571490292973\n",
      "RMSE:  0.196131801918\n",
      "ROC AUC:  0.770981844509\n"
     ]
    }
   ],
   "source": [
    "target = 'Outcome'\n",
    "features = ['SeedDiff']\n",
    "\n",
    "lr = LogisticRegression()\n",
    "lr.fit(df_train[features], df_train[target])\n",
    "pred = lr.predict(df_test[features])\n",
    "probs = lr.predict_proba(df_test[features])\n",
    "\n",
    "print(classification_report(df_test[target], pred))\n",
    "print(\"Log Loss: \",log_loss(df_test[target], probs[:,1]))\n",
    "print(\"RMSE: \",mean_squared_error(df_test[target], probs[:,1]))\n",
    "print(\"ROC AUC: \", roc_auc_score(df_test[target], probs[:,1]))"
   ]
  },
  {
   "cell_type": "markdown",
   "metadata": {},
   "source": [
    "### Classifier Evaluation"
   ]
  },
  {
   "cell_type": "markdown",
   "metadata": {},
   "source": [
    "#### Logistic Regression (Lasso)"
   ]
  },
  {
   "cell_type": "code",
   "execution_count": 6,
   "metadata": {},
   "outputs": [
    {
     "name": "stdout",
     "output_type": "stream",
     "text": [
      "             precision    recall  f1-score   support\n",
      "\n",
      "          0       0.72      0.72      0.72       268\n",
      "          1       0.72      0.72      0.72       268\n",
      "\n",
      "avg / total       0.72      0.72      0.72       536\n",
      "\n",
      "Log Loss:  0.544516760606\n",
      "RMSE:  0.185242217929\n",
      "ROC AUC:  0.793829360659\n"
     ]
    }
   ],
   "source": [
    "target = 'Outcome'\n",
    "features = ['SeedDiff',\n",
    "            'WinPct', 'OpponentWinPct',\n",
    "            'AvgNetPointsFor', 'OpponentAvgNetPointsFor',\n",
    "            'AvgRank', 'OpponentAvgRank', \n",
    "            'TwoPointPct_Team', 'TwoPointPct_Opponent',\n",
    "            'ThreePointPct_Team', 'ThreePointPct_Opponent',\n",
    "            'FreeThrowPct_Team', 'FreeThrowPct_Opponent',\n",
    "            'OffensiveRebounds_Team', 'OffensiveRebounds_Opponent',\n",
    "            'DefensiveRebounds_Team', 'DefensiveRebounds_Opponent'\n",
    "           ]\n",
    "\n",
    "lr = LogisticRegression(penalty='l1')\n",
    "lr.fit(df_train[features], df_train[target])\n",
    "pred = lr.predict(df_test[features])\n",
    "probs = lr.predict_proba(df_test[features])\n",
    "\n",
    "print(classification_report(df_test[target], pred))\n",
    "print(\"Log Loss: \",log_loss(df_test[target], probs[:,1]))\n",
    "print(\"RMSE: \",mean_squared_error(df_test[target], probs[:,1]))\n",
    "print(\"ROC AUC: \", roc_auc_score(df_test[target], probs[:,1]))"
   ]
  },
  {
   "cell_type": "markdown",
   "metadata": {},
   "source": [
    "#### Logistic Regression (Ridge)"
   ]
  },
  {
   "cell_type": "code",
   "execution_count": 7,
   "metadata": {},
   "outputs": [
    {
     "name": "stdout",
     "output_type": "stream",
     "text": [
      "             precision    recall  f1-score   support\n",
      "\n",
      "          0       0.72      0.72      0.72       268\n",
      "          1       0.72      0.72      0.72       268\n",
      "\n",
      "avg / total       0.72      0.72      0.72       536\n",
      "\n",
      "Log Loss:  0.543489397983\n",
      "RMSE:  0.184835817665\n",
      "ROC AUC:  0.79476219648\n"
     ]
    }
   ],
   "source": [
    "target = 'Outcome'\n",
    "features = ['SeedDiff',\n",
    "            'WinPct', 'OpponentWinPct',\n",
    "            'AvgNetPointsFor', 'OpponentAvgNetPointsFor',\n",
    "            'AvgRank', 'OpponentAvgRank', \n",
    "            'TwoPointPct_Team', 'TwoPointPct_Opponent',\n",
    "            'ThreePointPct_Team', 'ThreePointPct_Opponent',\n",
    "            'FreeThrowPct_Team', 'FreeThrowPct_Opponent',\n",
    "            'OffensiveRebounds_Team', 'OffensiveRebounds_Opponent',\n",
    "            'DefensiveRebounds_Team', 'DefensiveRebounds_Opponent'\n",
    "           ]\n",
    "\n",
    "lr = LogisticRegression(penalty='l2')\n",
    "lr.fit(df_train[features], df_train[target])\n",
    "pred = lr.predict(df_test[features])\n",
    "probs = lr.predict_proba(df_test[features])\n",
    "\n",
    "print(classification_report(df_test[target], pred))\n",
    "print(\"Log Loss: \",log_loss(df_test[target], probs[:,1]))\n",
    "print(\"RMSE: \",mean_squared_error(df_test[target], probs[:,1]))\n",
    "print(\"ROC AUC: \", roc_auc_score(df_test[target], probs[:,1]))"
   ]
  },
  {
   "cell_type": "markdown",
   "metadata": {},
   "source": [
    "#### Naive Bayes"
   ]
  },
  {
   "cell_type": "code",
   "execution_count": 9,
   "metadata": {},
   "outputs": [
    {
     "name": "stdout",
     "output_type": "stream",
     "text": [
      "             precision    recall  f1-score   support\n",
      "\n",
      "          0       0.70      0.70      0.70       268\n",
      "          1       0.70      0.70      0.70       268\n",
      "\n",
      "avg / total       0.70      0.70      0.70       536\n",
      "\n",
      "Log Loss:  0.918073498635\n",
      "RMSE:  0.227348776469\n",
      "ROC AUC:  0.767793495211\n"
     ]
    }
   ],
   "source": [
    "target = 'Outcome'\n",
    "features = ['SeedDiff',\n",
    "            'WinPct', 'OpponentWinPct',\n",
    "            'AvgNetPointsFor', 'OpponentAvgNetPointsFor',\n",
    "            'AvgRank', 'OpponentAvgRank', \n",
    "            'TwoPointPct_Team', 'TwoPointPct_Opponent',\n",
    "            'ThreePointPct_Team', 'ThreePointPct_Opponent',\n",
    "            'FreeThrowPct_Team', 'FreeThrowPct_Opponent',\n",
    "            'OffensiveRebounds_Team', 'OffensiveRebounds_Opponent',\n",
    "            'DefensiveRebounds_Team', 'DefensiveRebounds_Opponent'\n",
    "           ]\n",
    "\n",
    "nb = GaussianNB()\n",
    "nb.fit(df_train[features], df_train[target])\n",
    "\n",
    "pred = nb.predict(df_test[features])\n",
    "probs = nb.predict_proba(df_test[features])\n",
    "\n",
    "print(classification_report(df_test[target], pred))\n",
    "print(\"Log Loss: \",log_loss(df_test[target], probs[:,1]))\n",
    "print(\"RMSE: \",mean_squared_error(df_test[target], probs[:,1]))\n",
    "print(\"ROC AUC: \", roc_auc_score(df_test[target], probs[:,1]))"
   ]
  },
  {
   "cell_type": "markdown",
   "metadata": {},
   "source": [
    "#### Decision Tree"
   ]
  },
  {
   "cell_type": "code",
   "execution_count": 10,
   "metadata": {},
   "outputs": [
    {
     "name": "stdout",
     "output_type": "stream",
     "text": [
      "             precision    recall  f1-score   support\n",
      "\n",
      "          0       0.64      0.70      0.67       268\n",
      "          1       0.67      0.61      0.64       268\n",
      "\n",
      "avg / total       0.66      0.66      0.66       536\n",
      "\n",
      "Log Loss:  0.616227641986\n",
      "RMSE:  0.211838082143\n",
      "ROC AUC:  0.727417019381\n"
     ]
    }
   ],
   "source": [
    "target = 'Outcome'\n",
    "features = ['SeedDiff',\n",
    "            'WinPct', 'OpponentWinPct',\n",
    "            'AvgNetPointsFor', 'OpponentAvgNetPointsFor',\n",
    "            'AvgRank', 'OpponentAvgRank', \n",
    "            'TwoPointPct_Team', 'TwoPointPct_Opponent',\n",
    "            'ThreePointPct_Team', 'ThreePointPct_Opponent',\n",
    "            'FreeThrowPct_Team', 'FreeThrowPct_Opponent',\n",
    "            'OffensiveRebounds_Team', 'OffensiveRebounds_Opponent',\n",
    "            'DefensiveRebounds_Team', 'DefensiveRebounds_Opponent'\n",
    "           ]\n",
    "\n",
    "dt = DecisionTreeClassifier(max_depth=3)\n",
    "dt.fit(df_train[features], df_train[target])\n",
    "\n",
    "pred = dt.predict(df_test[features])\n",
    "probs = dt.predict_proba(df_test[features])\n",
    "\n",
    "print(classification_report(df_test[target], pred))\n",
    "print(\"Log Loss: \",log_loss(df_test[target], probs[:,1]))\n",
    "print(\"RMSE: \",mean_squared_error(df_test[target], probs[:,1]))\n",
    "print(\"ROC AUC: \", roc_auc_score(df_test[target], probs[:,1]))"
   ]
  },
  {
   "cell_type": "markdown",
   "metadata": {},
   "source": [
    "#### Random Forest"
   ]
  },
  {
   "cell_type": "code",
   "execution_count": 11,
   "metadata": {},
   "outputs": [
    {
     "name": "stdout",
     "output_type": "stream",
     "text": [
      "             precision    recall  f1-score   support\n",
      "\n",
      "          0       0.67      0.66      0.67       268\n",
      "          1       0.67      0.68      0.67       268\n",
      "\n",
      "avg / total       0.67      0.67      0.67       536\n",
      "\n",
      "Log Loss:  0.580489812936\n",
      "RMSE:  0.199953503317\n",
      "ROC AUC:  0.754552795723\n"
     ]
    }
   ],
   "source": [
    "target = 'Outcome'\n",
    "features = ['SeedDiff',\n",
    "            'WinPct', 'OpponentWinPct',\n",
    "            'AvgNetPointsFor', 'OpponentAvgNetPointsFor',\n",
    "            'AvgRank', 'OpponentAvgRank', \n",
    "            'TwoPointPct_Team', 'TwoPointPct_Opponent',\n",
    "            'ThreePointPct_Team', 'ThreePointPct_Opponent',\n",
    "            'FreeThrowPct_Team', 'FreeThrowPct_Opponent',\n",
    "            'OffensiveRebounds_Team', 'OffensiveRebounds_Opponent',\n",
    "            'DefensiveRebounds_Team', 'DefensiveRebounds_Opponent'\n",
    "           ]\n",
    "\n",
    "rf = RandomForestClassifier(n_estimators=300)\n",
    "rf.fit(df_train[features], df_train[target])\n",
    "\n",
    "pred = rf.predict(df_test[features])\n",
    "probs = rf.predict_proba(df_test[features])\n",
    "\n",
    "print(classification_report(df_test[target], pred))\n",
    "print(\"Log Loss: \",log_loss(df_test[target], probs[:,1]))\n",
    "print(\"RMSE: \",mean_squared_error(df_test[target], probs[:,1]))\n",
    "print(\"ROC AUC: \", roc_auc_score(df_test[target], probs[:,1]))"
   ]
  },
  {
   "cell_type": "markdown",
   "metadata": {},
   "source": [
    "#### Boosted Decision Classifier: XGBoost"
   ]
  },
  {
   "cell_type": "code",
   "execution_count": 29,
   "metadata": {},
   "outputs": [
    {
     "name": "stdout",
     "output_type": "stream",
     "text": [
      "Best neg_log_loss: -0.5516, max_depth: 3, learning_rate: 0.01\n",
      "             precision    recall  f1-score   support\n",
      "\n",
      "          0       0.69      0.69      0.69       268\n",
      "          1       0.69      0.68      0.69       268\n",
      "\n",
      "avg / total       0.69      0.69      0.69       536\n",
      "\n",
      "('Log Loss: ', 0.58396462633260593)\n",
      "('RMSE: ', 0.19982203443513188)\n",
      "('ROC AUC: ', 0.75856259746045895)\n"
     ]
    }
   ],
   "source": [
    "import xgboost as xgb\n",
    "\n",
    "target = 'Outcome'\n",
    "features = ['SeedDiff', 'WinPct', 'OpponentWinPct', 'AvgNetPointsFor',\n",
    "            'AvgRank', 'OpponentAvgRank', \n",
    "            'TwoPointPct_Team', 'TwoPointPct_Opponent',\n",
    "            'ThreePointPct_Team', 'ThreePointPct_Opponent',\n",
    "            'FreeThrowPct_Team', 'FreeThrowPct_Opponent',\n",
    "            'OffensiveRebounds_Team', 'OffensiveRebounds_Opponent',\n",
    "            'DefensiveRebounds_Team', 'DefensiveRebounds_Opponent'\n",
    "           ]\n",
    "\n",
    "gbm = xgb.XGBClassifier(n_estimators=300)\n",
    "params = {'max_depth':[2,3,5,10,50], 'learning_rate': [0.005, 0.01, 0.05, 0.1, 0.5]}\n",
    "xgbClassifier = GridSearchCV(gbm, params, scoring='neg_log_loss', refit=True)\n",
    "xgbClassifier.fit(df_train[features], df_train[target])\n",
    "\n",
    "print('Best neg_log_loss: {:.4}, max_depth: {}, learning_rate: {}'.format(xgbClassifier.best_score_, xgbClassifier.best_params_['max_depth'], xgbClassifier.best_params_['learning_rate']))\n",
    "\n",
    "pred = xgbClassifier.predict(df_test[features])\n",
    "probs = xgbClassifier.predict_proba(df_test[features])\n",
    "\n",
    "print(classification_report(df_test[target], pred))\n",
    "print(\"Log Loss: \",log_loss(df_test[target], probs[:,1]))\n",
    "print(\"RMSE: \",mean_squared_error(df_test[target], probs[:,1]))\n",
    "print(\"ROC AUC: \", roc_auc_score(df_test[target], probs[:,1]))"
   ]
  },
  {
   "cell_type": "markdown",
   "metadata": {},
   "source": [
    "#### Best Classifier\n",
    "\n",
    "In comparing all results, Logistic Regression seesm to perform best, at least with the default parameters. In the next section, we proceed to further tune Logistic Regression"
   ]
  },
  {
   "cell_type": "markdown",
   "metadata": {},
   "source": [
    "### Improvements to Logistic Regression"
   ]
  },
  {
   "cell_type": "markdown",
   "metadata": {},
   "source": [
    "#### \"Diff\" Features"
   ]
  },
  {
   "cell_type": "code",
   "execution_count": 16,
   "metadata": {},
   "outputs": [
    {
     "name": "stdout",
     "output_type": "stream",
     "text": [
      "             precision    recall  f1-score   support\n",
      "\n",
      "          0       0.72      0.72      0.72       268\n",
      "          1       0.72      0.72      0.72       268\n",
      "\n",
      "avg / total       0.72      0.72      0.72       536\n",
      "\n",
      "Log Loss:  0.543233504514\n",
      "RMSE:  0.184737569885\n",
      "ROC AUC:  0.794664736021\n"
     ]
    }
   ],
   "source": [
    "target = 'Outcome'\n",
    "features = ['SeedDiff',\n",
    "            'WinPctDiff',\n",
    "            'AvgNetPointsForDiff',\n",
    "            'AvgRankDiff', \n",
    "            'TwoPointPctDiff',\n",
    "            'ThreePointPctDiff',\n",
    "            'FreeThrowPctDiff',\n",
    "            'OffensiveReboundsDiff',\n",
    "            'DefensiveReboundsDiff'\n",
    "           ]\n",
    "\n",
    "lr = LogisticRegression(penalty='l2')\n",
    "lr.fit(df_train[features], df_train[target])\n",
    "pred = lr.predict(df_test[features])\n",
    "probs = lr.predict_proba(df_test[features])\n",
    "\n",
    "print(classification_report(df_test[target], pred))\n",
    "print(\"Log Loss: \",log_loss(df_test[target], probs[:,1]))\n",
    "print(\"RMSE: \",mean_squared_error(df_test[target], probs[:,1]))\n",
    "print(\"ROC AUC: \", roc_auc_score(df_test[target], probs[:,1]))"
   ]
  },
  {
   "cell_type": "markdown",
   "metadata": {},
   "source": [
    "#### Normalized Features"
   ]
  },
  {
   "cell_type": "code",
   "execution_count": 17,
   "metadata": {},
   "outputs": [
    {
     "name": "stdout",
     "output_type": "stream",
     "text": [
      "             precision    recall  f1-score   support\n",
      "\n",
      "          0       0.74      0.74      0.74       268\n",
      "          1       0.74      0.74      0.74       268\n",
      "\n",
      "avg / total       0.74      0.74      0.74       536\n",
      "\n",
      "Log Loss:  0.546836443034\n",
      "RMSE:  0.186142864184\n",
      "ROC AUC:  0.79089162397\n"
     ]
    }
   ],
   "source": [
    "target = 'Outcome'\n",
    "features = ['SeedDiff',\n",
    "            'WinPctDiff',\n",
    "            'AvgNetPointsForDiff',\n",
    "            'AvgRankDiff', \n",
    "            'TwoPointPctDiff',\n",
    "            'ThreePointPctDiff',\n",
    "            'FreeThrowPctDiff',\n",
    "            'OffensiveReboundsDiff',\n",
    "            'DefensiveReboundsDiff'\n",
    "           ]\n",
    "\n",
    "# fit means/std\n",
    "ss = StandardScaler()\n",
    "ss.fit(df_train[features])\n",
    "\n",
    "lr = LogisticRegression(penalty='l2')\n",
    "lr.fit(ss.transform(df_train[features]), df_train[target])\n",
    "pred = lr.predict(ss.transform(df_test[features]))\n",
    "probs = lr.predict_proba(ss.transform(df_test[features]))\n",
    "\n",
    "print(classification_report(df_test[target], pred))\n",
    "print(\"Log Loss: \",log_loss(df_test[target], probs[:,1]))\n",
    "print(\"RMSE: \",mean_squared_error(df_test[target], probs[:,1]))\n",
    "print(\"ROC AUC: \", roc_auc_score(df_test[target], probs[:,1]))"
   ]
  },
  {
   "cell_type": "markdown",
   "metadata": {},
   "source": [
    "#### Normalized - More Features"
   ]
  },
  {
   "cell_type": "code",
   "execution_count": 20,
   "metadata": {},
   "outputs": [
    {
     "name": "stdout",
     "output_type": "stream",
     "text": [
      "             precision    recall  f1-score   support\n",
      "\n",
      "          0       0.76      0.76      0.76       268\n",
      "          1       0.76      0.76      0.76       268\n",
      "\n",
      "avg / total       0.76      0.76      0.76       536\n",
      "\n",
      "Log Loss:  0.529461957644\n",
      "RMSE:  0.178672013288\n",
      "ROC AUC:  0.808810425485\n"
     ]
    }
   ],
   "source": [
    "target = 'Outcome'\n",
    "features = ['AvgRank', 'OpponentAvgRank', 'TwoPointPct_Team',\n",
    "            'ThreePointPct_Team', 'FreeThrowPct_Team', 'OffensiveRebounds_Team',\n",
    "            'DefensiveRebounds_Team', 'TwoPointPct_Opponent',\n",
    "            'ThreePointPct_Opponent', 'FreeThrowPct_Opponent',\n",
    "            'OffensiveRebounds_Opponent', 'DefensiveRebounds_Opponent', 'WinPct',\n",
    "            'OpponentWinPct', 'WinPctDiff', 'AvgPointsFor', 'AvgPointsAgainst',\n",
    "            'AvgNetPointsFor', 'SeedDiff', 'OpponentAvgPointsFor',\n",
    "            'OpponentAvgPointsAgainst', 'OpponentAvgNetPointsFor', 'TourWins',\n",
    "            'OpponentTourWins', 'TourWinsDiff', 'FieldGoalPct_Team', 'TwoPointAttPct_Team',\n",
    "            'ThreePointAttPct_Team', 'FieldGoalAtt_Team', 'TwoPointAtt_Team',\n",
    "            'ThreePointAtt_Team', 'FreeThrowAtt_Team', 'Assists_Team',\n",
    "            'Turnovers_Team', 'Steals_Team', 'Blocks_Team', 'PersonalFouls_Team',\n",
    "            'FieldGoalPct_Opponent', 'TwoPointAttPct_Opponent',\n",
    "            'ThreePointAttPct_Opponent', 'FieldGoalAtt_Opponent',\n",
    "            'TwoPointAtt_Opponent', 'ThreePointAtt_Opponent',\n",
    "            'FreeThrowAtt_Opponent', 'Assists_Opponent', 'Turnovers_Opponent',\n",
    "            'Steals_Opponent', 'Blocks_Opponent', 'PersonalFouls_Opponent',\n",
    "            'AvgRankDiff', 'AvgNetPointsForDiff', 'TwoPointPctDiff',\n",
    "            'ThreePointPctDiff', 'FreeThrowPctDiff', 'OffensiveReboundsDiff',\n",
    "            'DefensiveReboundsDiff', 'FieldGoalPctDiff', 'TwoPointAttPctDiff',\n",
    "            'ThreePointAttPctDiff', 'FieldGoalAttDiff', 'TwoPointAttDiff',\n",
    "            'ThreePointAttDiff', 'FreeThrowAttDiff', 'AssistsDiff', 'TurnoversDiff',\n",
    "            'StealsDiff', 'BlocksDiff', 'PersonalFoulsDiff']\n",
    "\n",
    "# fit means/std\n",
    "ss = StandardScaler()\n",
    "ss.fit(df_train[features])\n",
    "\n",
    "lr = LogisticRegression(penalty='l2')\n",
    "lr.fit(ss.transform(df_train[features]), df_train[target])\n",
    "pred = lr.predict(ss.transform(df_test[features]))\n",
    "probs = lr.predict_proba(ss.transform(df_test[features]))\n",
    "\n",
    "print(classification_report(df_test[target], pred))\n",
    "print(\"Log Loss: \",log_loss(df_test[target], probs[:,1]))\n",
    "print(\"RMSE: \",mean_squared_error(df_test[target], probs[:,1]))\n",
    "print(\"ROC AUC: \", roc_auc_score(df_test[target], probs[:,1]))"
   ]
  },
  {
   "cell_type": "markdown",
   "metadata": {},
   "source": [
    "#### PCA + Logistic Regression\n",
    "\n",
    "Transform features into the principal component space"
   ]
  },
  {
   "cell_type": "code",
   "execution_count": 19,
   "metadata": {
    "scrolled": true
   },
   "outputs": [
    {
     "data": {
      "text/plain": [
       "<matplotlib.collections.PathCollection at 0x1a1e1ddd30>"
      ]
     },
     "execution_count": 19,
     "metadata": {},
     "output_type": "execute_result"
    },
    {
     "data": {
      "image/png": "[encoded data removed]",
      "text/plain": [
       "<matplotlib.figure.Figure at 0x110920e80>"
      ]
     },
     "metadata": {},
     "output_type": "display_data"
    }
   ],
   "source": [
    "target = 'Outcome'\n",
    "features = ['AvgRank', 'OpponentAvgRank', 'TwoPointPct_Team',\n",
    "            'ThreePointPct_Team', 'FreeThrowPct_Team', 'OffensiveRebounds_Team',\n",
    "            'DefensiveRebounds_Team', 'TwoPointPct_Opponent',\n",
    "            'ThreePointPct_Opponent', 'FreeThrowPct_Opponent',\n",
    "            'OffensiveRebounds_Opponent', 'DefensiveRebounds_Opponent', 'WinPct',\n",
    "            'OpponentWinPct', 'WinPctDiff', 'AvgPointsFor', 'AvgPointsAgainst',\n",
    "            'AvgNetPointsFor', 'SeedDiff', 'OpponentAvgPointsFor',\n",
    "            'OpponentAvgPointsAgainst', 'OpponentAvgNetPointsFor', 'TourWins',\n",
    "            'OpponentTourWins', 'TourWinsDiff', 'FieldGoalPct_Team', 'TwoPointAttPct_Team',\n",
    "            'ThreePointAttPct_Team', 'FieldGoalAtt_Team', 'TwoPointAtt_Team',\n",
    "            'ThreePointAtt_Team', 'FreeThrowAtt_Team', 'Assists_Team',\n",
    "            'Turnovers_Team', 'Steals_Team', 'Blocks_Team', 'PersonalFouls_Team',\n",
    "            'FieldGoalPct_Opponent', 'TwoPointAttPct_Opponent',\n",
    "            'ThreePointAttPct_Opponent', 'FieldGoalAtt_Opponent',\n",
    "            'TwoPointAtt_Opponent', 'ThreePointAtt_Opponent',\n",
    "            'FreeThrowAtt_Opponent', 'Assists_Opponent', 'Turnovers_Opponent',\n",
    "            'Steals_Opponent', 'Blocks_Opponent', 'PersonalFouls_Opponent',\n",
    "            'AvgRankDiff', 'AvgNetPointsForDiff', 'TwoPointPctDiff',\n",
    "            'ThreePointPctDiff', 'FreeThrowPctDiff', 'OffensiveReboundsDiff',\n",
    "            'DefensiveReboundsDiff', 'FieldGoalPctDiff', 'TwoPointAttPctDiff',\n",
    "            'ThreePointAttPctDiff', 'FieldGoalAttDiff', 'TwoPointAttDiff',\n",
    "            'ThreePointAttDiff', 'FreeThrowAttDiff', 'AssistsDiff', 'TurnoversDiff',\n",
    "            'StealsDiff', 'BlocksDiff', 'PersonalFoulsDiff']\n",
    "\n",
    "pca = PCA()\n",
    "X_train_tr = pca.fit_transform(df_train[features])\n",
    "X_test_tr = pca.transform(df_test[features])\n",
    "\n",
    "plt.scatter(X_train_tr[:,0], X_train_tr[:,1])"
   ]
  },
  {
   "cell_type": "code",
   "execution_count": 20,
   "metadata": {},
   "outputs": [
    {
     "data": {
      "text/plain": [
       "[<matplotlib.lines.Line2D at 0x1a1fbea748>]"
      ]
     },
     "execution_count": 20,
     "metadata": {},
     "output_type": "execute_result"
    },
    {
     "data": {
      "image/png": "[encoded data removed]",
      "text/plain": [
       "<matplotlib.figure.Figure at 0x1a1642d6a0>"
      ]
     },
     "metadata": {},
     "output_type": "display_data"
    }
   ],
   "source": [
    "plt.plot(np.cumsum(pca.explained_variance_ratio_))"
   ]
  },
  {
   "cell_type": "code",
   "execution_count": 21,
   "metadata": {},
   "outputs": [
    {
     "name": "stdout",
     "output_type": "stream",
     "text": [
      "             precision    recall  f1-score   support\n",
      "\n",
      "          0       0.72      0.72      0.72       268\n",
      "          1       0.72      0.72      0.72       268\n",
      "\n",
      "avg / total       0.72      0.72      0.72       536\n",
      "\n",
      "Log Loss:  0.530938704189\n",
      "RMSE:  0.17980356067\n",
      "ROC AUC:  0.804939852974\n"
     ]
    }
   ],
   "source": [
    "lr = LogisticRegression(penalty='l2')\n",
    "lr.fit(X_train_tr[:, :10], df_train[target])\n",
    "pred = lr.predict(X_test_tr[:, :10])\n",
    "probs = lr.predict_proba(X_test_tr[:, :10])\n",
    "\n",
    "print(classification_report(df_test[target], pred))\n",
    "print(\"Log Loss: \",log_loss(df_test[target], probs[:,1]))\n",
    "print(\"RMSE: \",mean_squared_error(df_test[target], probs[:,1]))\n",
    "print(\"ROC AUC: \", roc_auc_score(df_test[target], probs[:,1]))"
   ]
  },
  {
   "cell_type": "markdown",
   "metadata": {},
   "source": [
    "#### Parameter Tuning"
   ]
  },
  {
   "cell_type": "code",
   "execution_count": 51,
   "metadata": {},
   "outputs": [
    {
     "name": "stdout",
     "output_type": "stream",
     "text": [
      "{'C': 0.18420699693267145, 'penalty': 'l1'}\n",
      "             precision    recall  f1-score   support\n",
      "\n",
      "          0       0.74      0.74      0.74       268\n",
      "          1       0.74      0.74      0.74       268\n",
      "\n",
      "avg / total       0.74      0.74      0.74       536\n",
      "\n",
      "Log Loss:  0.530934541743\n",
      "RMSE:  0.179506005745\n",
      "ROC AUC:  0.805622076186\n"
     ]
    }
   ],
   "source": [
    "target = 'Outcome'\n",
    "features = ['AvgRank', 'OpponentAvgRank', 'TwoPointPct_Team',\n",
    "            'ThreePointPct_Team', 'FreeThrowPct_Team', 'OffensiveRebounds_Team',\n",
    "            'DefensiveRebounds_Team', 'TwoPointPct_Opponent',\n",
    "            'ThreePointPct_Opponent', 'FreeThrowPct_Opponent',\n",
    "            'OffensiveRebounds_Opponent', 'DefensiveRebounds_Opponent', 'WinPct',\n",
    "            'OpponentWinPct', 'WinPctDiff', 'AvgPointsFor', 'AvgPointsAgainst',\n",
    "            'AvgNetPointsFor', 'SeedDiff', 'OpponentAvgPointsFor',\n",
    "            'OpponentAvgPointsAgainst', 'OpponentAvgNetPointsFor', 'TourWins',\n",
    "            'OpponentTourWins', 'TourWinsDiff', 'FieldGoalPct_Team', 'TwoPointAttPct_Team',\n",
    "            'ThreePointAttPct_Team', 'FieldGoalAtt_Team', 'TwoPointAtt_Team',\n",
    "            'ThreePointAtt_Team', 'FreeThrowAtt_Team', 'Assists_Team',\n",
    "            'Turnovers_Team', 'Steals_Team', 'Blocks_Team', 'PersonalFouls_Team',\n",
    "            'FieldGoalPct_Opponent', 'TwoPointAttPct_Opponent',\n",
    "            'ThreePointAttPct_Opponent', 'FieldGoalAtt_Opponent',\n",
    "            'TwoPointAtt_Opponent', 'ThreePointAtt_Opponent',\n",
    "            'FreeThrowAtt_Opponent', 'Assists_Opponent', 'Turnovers_Opponent',\n",
    "            'Steals_Opponent', 'Blocks_Opponent', 'PersonalFouls_Opponent',\n",
    "            'AvgRankDiff', 'AvgNetPointsForDiff', 'TwoPointPctDiff',\n",
    "            'ThreePointPctDiff', 'FreeThrowPctDiff', 'OffensiveReboundsDiff',\n",
    "            'DefensiveReboundsDiff', 'FieldGoalPctDiff', 'TwoPointAttPctDiff',\n",
    "            'ThreePointAttPctDiff', 'FieldGoalAttDiff', 'TwoPointAttDiff',\n",
    "            'ThreePointAttDiff', 'FreeThrowAttDiff', 'AssistsDiff', 'TurnoversDiff',\n",
    "            'StealsDiff', 'BlocksDiff', 'PersonalFoulsDiff']\n",
    "\n",
    "# fit means/std\n",
    "ss = StandardScaler()\n",
    "ss.fit(df_train[features])\n",
    "\n",
    "params = {'penalty': ['l1', 'l2'],\n",
    "          'C': np.logspace(-4.0, 4.0, num=50)\n",
    "         }\n",
    "\n",
    "lr = LogisticRegression()\n",
    "lr_gs = GridSearchCV(lr, params, scoring='neg_log_loss')\n",
    "\n",
    "lr_gs.fit(ss.transform(df_train[features]), df_train[target])\n",
    "pred = lr_gs.predict(ss.transform(df_test[features]))\n",
    "probs = lr_gs.predict_proba(ss.transform(df_test[features]))\n",
    "\n",
    "print(lr_gs.best_params_)\n",
    "print(classification_report(df_test[target], pred))\n",
    "print(\"Log Loss: \",log_loss(df_test[target], probs[:,1]))\n",
    "print(\"RMSE: \",mean_squared_error(df_test[target], probs[:,1]))\n",
    "print(\"ROC AUC: \", roc_auc_score(df_test[target], probs[:,1]))"
   ]
  },
  {
   "cell_type": "markdown",
   "metadata": {},
   "source": [
    "### Evaluation over Baseline"
   ]
  },
  {
   "cell_type": "markdown",
   "metadata": {},
   "source": [
    "Oddly enough, nothing produces better results than the default settings we tried with Logistic Regression earlier. That is with L2 Regularization and C = 1.0. This model produces an Log Loss score of 0.529, as compared to the baseline score of 0.693. "
   ]
  },
  {
   "cell_type": "markdown",
   "metadata": {},
   "source": [
    "## Modeling - Approach 2\n",
    "***\n",
    "\n",
    "The second approach to training and tuning the models is using the data from the regular season to train the model, and using the tournament data to tune the model.  An assumption with this approach is that we are treating the match up between regular season games and tournament games the same.\n",
    "\n",
    "This approach has boths pros and cons.  One of the benefits to this approach is that many more observations to train from using the regular season games between 2003-2018 (82041) than just relying on the tournament games between 2003-2013 (713).  There are also daily rankings of division 1 teams provided by Massey Ratings which are apt for training with regular season games, although the ranking from the last regular season game can still be used with approach 1.  One of the main disadvantages to using approach 2 is that it cannot train on the tournament seed information, which is only available prior to the tournament.\n",
    "\n",
    "Note that there are also variations for approach 2 that should be explored.  One variation is to use all the regular season games as training data, and all the tournament games as tuning data.  A second variation is to use the tournament data prior to 2014 with the regular season data for training, and the tournament data between 2014-2017 for tuning, similar to approach 1.  Both of these variations are examined below."
   ]
  },
  {
   "cell_type": "markdown",
   "metadata": {},
   "source": [
    "### Pull Features from PostgreSQL\n",
    "\n",
    "Pull data from PostgreSQL and pickle to work offline."
   ]
  },
  {
   "cell_type": "code",
   "execution_count": 21,
   "metadata": {
    "collapsed": true
   },
   "outputs": [],
   "source": [
    "conn = pg.connect(database='postgres',\n",
    "                  user='postgres',\n",
    "                  password='w207final',\n",
    "                  host='35.185.225.167')"
   ]
  },
  {
   "cell_type": "markdown",
   "metadata": {
    "collapsed": true
   },
   "source": [
    "### Get the train/dev data from the database"
   ]
  },
  {
   "cell_type": "markdown",
   "metadata": {},
   "source": [
    "#### Approach2: Training data is all regular season data (2003-2018)"
   ]
  },
  {
   "cell_type": "code",
   "execution_count": 22,
   "metadata": {
    "collapsed": true
   },
   "outputs": [],
   "source": [
    "approach2TrainingDataQuery = '''  SELECT * FROM prod.\"features\" f WHERE (f.\"Season Type\"='Regular') AND (f.\"Season\" < 2019) ORDER BY \"Season\", \"DayNum\", \"Team\"  '''\n",
    "df_approach2_training = pd.read_sql_query(approach2TrainingDataQuery, conn)"
   ]
  },
  {
   "cell_type": "markdown",
   "metadata": {},
   "source": [
    "#### Approach2: Dev data is all tournament data (2003-2017)"
   ]
  },
  {
   "cell_type": "code",
   "execution_count": 23,
   "metadata": {
    "collapsed": true
   },
   "outputs": [],
   "source": [
    "approach2DevDataQuery = ''' SELECT * FROM prod.\"features\" f WHERE (f.\"Season Type\"='NCAA Tourney') AND (f.\"Season\" > 2002) AND (f.\"Season\" < 2018) order by \"Season\", \"DayNum\", \"Team\" '''\n",
    "df_approach2_dev = pd.read_sql_query(approach2DevDataQuery, conn)"
   ]
  },
  {
   "cell_type": "markdown",
   "metadata": {},
   "source": [
    "#### Approach2 Combined: Training data is all regular season data (2003-2018) and the tournament games before 2014 (2003-2013)"
   ]
  },
  {
   "cell_type": "code",
   "execution_count": 24,
   "metadata": {
    "collapsed": true
   },
   "outputs": [],
   "source": [
    "approach2CombinedTrainingDataQuery = '''  SELECT * FROM prod.\"features\" f WHERE (f.\"Season Type\"='Regular') OR (f.\"Season\" < 2014) ORDER BY \"Season\", \"DayNum\", \"Team\"  '''\n",
    "df_approach2Combined_training = pd.read_sql_query(approach2CombinedTrainingDataQuery, conn)"
   ]
  },
  {
   "cell_type": "markdown",
   "metadata": {},
   "source": [
    "#### Approach2 Combined: Dev data is tournament data between 2014-2017"
   ]
  },
  {
   "cell_type": "code",
   "execution_count": 25,
   "metadata": {
    "collapsed": true
   },
   "outputs": [],
   "source": [
    "approach2CombinedDevDataQuery = ''' SELECT * FROM prod.\"features\" f WHERE (f.\"Season Type\"='NCAA Tourney') AND (f.\"Season\" > 2013) AND (f.\"Season\" < 2018) order by \"Season\", \"DayNum\", \"Team\" '''\n",
    "df_approach2Combined_dev = pd.read_sql_query(approach2CombinedDevDataQuery, conn)"
   ]
  },
  {
   "cell_type": "code",
   "execution_count": 26,
   "metadata": {
    "collapsed": true
   },
   "outputs": [],
   "source": [
    "conn.close()"
   ]
  },
  {
   "cell_type": "markdown",
   "metadata": {
    "collapsed": true
   },
   "source": [
    "### Remove NaNs"
   ]
  },
  {
   "cell_type": "code",
   "execution_count": 27,
   "metadata": {
    "collapsed": true
   },
   "outputs": [],
   "source": [
    "columnsToClean = ['Outcome', 'AvgRank', 'OpponentAvgRank', 'TwoPointPct_Team', 'ThreePointPct_Team', 'FreeThrowPct_Team', 'OffensiveRebounds_Team', 'DefensiveRebounds_Team', 'TwoPointPct_Opponent', 'ThreePointPct_Opponent', 'FreeThrowPct_Opponent', 'OffensiveRebounds_Opponent', 'DefensiveRebounds_Opponent', 'WinPct', 'OpponentWinPct', 'WinPctDiff', 'AvgPointsFor', 'AvgPointsAgainst', 'AvgNetPointsFor', 'OpponentAvgPointsFor', 'OpponentAvgPointsAgainst', 'OpponentAvgNetPointsFor', 'TourWins', 'OpponentTourWins', 'TourWinsDiff', 'FieldGoalPct_Team', 'TwoPointAttPct_Team', 'ThreePointAttPct_Team', 'FieldGoalAtt_Team', 'TwoPointAtt_Team', 'ThreePointAtt_Team', 'FreeThrowAtt_Team', 'Assists_Team', 'Turnovers_Team', 'Steals_Team', 'Blocks_Team', 'PersonalFouls_Team', 'FieldGoalPct_Opponent', 'TwoPointAttPct_Opponent', 'ThreePointAttPct_Opponent', 'FieldGoalAtt_Opponent', 'TwoPointAtt_Opponent', 'ThreePointAtt_Opponent', 'FreeThrowAtt_Opponent', 'Assists_Opponent', 'Turnovers_Opponent', 'Steals_Opponent', 'Blocks_Opponent', 'PersonalFouls_Opponent']\n",
    "df_approach2_training.dropna(how='any', inplace=True, subset=columnsToClean)\n",
    "df_approach2_dev.dropna(how='any', inplace=True, subset=columnsToClean)\n",
    "df_approach2Combined_training.dropna(how='any', inplace=True, subset=columnsToClean)\n",
    "df_approach2Combined_dev.dropna(how='any', inplace=True, subset=columnsToClean)"
   ]
  },
  {
   "cell_type": "markdown",
   "metadata": {},
   "source": [
    "### Create Train and Dev Sets"
   ]
  },
  {
   "cell_type": "code",
   "execution_count": 28,
   "metadata": {
    "collapsed": true
   },
   "outputs": [],
   "source": [
    "target = 'Outcome'\n",
    "features = ['AvgRank', 'OpponentAvgRank', 'TwoPointPct_Team', 'ThreePointPct_Team', 'FreeThrowPct_Team', 'OffensiveRebounds_Team', 'DefensiveRebounds_Team', 'TwoPointPct_Opponent', 'ThreePointPct_Opponent', 'FreeThrowPct_Opponent', 'OffensiveRebounds_Opponent', 'DefensiveRebounds_Opponent', 'WinPct', 'OpponentWinPct', 'WinPctDiff', 'AvgPointsFor', 'AvgPointsAgainst', 'AvgNetPointsFor', 'OpponentAvgPointsFor', 'OpponentAvgPointsAgainst', 'OpponentAvgNetPointsFor', 'TourWins', 'OpponentTourWins', 'TourWinsDiff', 'FieldGoalPct_Team', 'TwoPointAttPct_Team', 'ThreePointAttPct_Team', 'FieldGoalAtt_Team', 'TwoPointAtt_Team', 'ThreePointAtt_Team', 'FreeThrowAtt_Team', 'Assists_Team', 'Turnovers_Team', 'Steals_Team', 'Blocks_Team', 'PersonalFouls_Team', 'FieldGoalPct_Opponent', 'TwoPointAttPct_Opponent', 'ThreePointAttPct_Opponent', 'FieldGoalAtt_Opponent', 'TwoPointAtt_Opponent', 'ThreePointAtt_Opponent', 'FreeThrowAtt_Opponent', 'Assists_Opponent', 'Turnovers_Opponent', 'Steals_Opponent', 'Blocks_Opponent', 'PersonalFouls_Opponent']"
   ]
  },
  {
   "cell_type": "code",
   "execution_count": 29,
   "metadata": {
    "collapsed": true
   },
   "outputs": [],
   "source": [
    "X_train2 = df_approach2_training[features]\n",
    "y_train2 = df_approach2_training[target]\n",
    "X_dev2  = df_approach2_dev[features]\n",
    "y_dev2  = df_approach2_dev[target]"
   ]
  },
  {
   "cell_type": "code",
   "execution_count": 30,
   "metadata": {
    "collapsed": true
   },
   "outputs": [],
   "source": [
    "X_train2_combined = df_approach2Combined_training[features]\n",
    "y_train2_combined = df_approach2Combined_training[target]\n",
    "X_dev2_combined  = df_approach2Combined_dev[features]\n",
    "y_dev2_combined  = df_approach2Combined_dev[target]"
   ]
  },
  {
   "cell_type": "markdown",
   "metadata": {},
   "source": [
    "#### Perform a Logistic Regression (Lasso) Using the **Regular Season**"
   ]
  },
  {
   "cell_type": "code",
   "execution_count": 16,
   "metadata": {},
   "outputs": [
    {
     "name": "stdout",
     "output_type": "stream",
     "text": [
      "Best log-loss: -0.5518, with best C: 75\n"
     ]
    }
   ],
   "source": [
    "lrc1 = LogisticRegression(penalty='l1')\n",
    "params = {'C': [50,75,100,125,150,175,200,225]}\n",
    "gscv1 = GridSearchCV(lrc1, params, scoring='neg_log_loss', refit=True)\n",
    "gscv1.fit(X_train2, y_train2)\n",
    "print('Best log-loss: {:.4}, with best C: {}'.format(gscv1.best_score_, gscv1.best_params_['C']))\n",
    "lrc1 = LogisticRegression(penalty='l1', C=gscv1.best_params_['C'])\n",
    "lrc1.fit(X_train2, y_train2)\n",
    "prediction1 = lrc1.predict(X_dev2)\n",
    "y_probas = lrc1.predict_proba(X_dev2)"
   ]
  },
  {
   "cell_type": "code",
   "execution_count": 17,
   "metadata": {},
   "outputs": [
    {
     "name": "stdout",
     "output_type": "stream",
     "text": [
      "             precision    recall  f1-score   support\n",
      "\n",
      "          0       0.73      0.73      0.73       981\n",
      "          1       0.73      0.73      0.73       981\n",
      "\n",
      "avg / total       0.73      0.73      0.73      1962\n",
      "\n",
      "Area under the curve: 0.727\n",
      "Log loss: 0.5474973854171304\n",
      "RMSE: 0.1851080849969821\n"
     ]
    }
   ],
   "source": [
    "# Determine F1 score\n",
    "print(classification_report(prediction1, y_dev2))\n",
    "# Determine AUC\n",
    "print('Area under the curve: {0:.3f}'.format(roc_auc_score(y_dev2,  prediction1)))\n",
    "# Determine log-loss\n",
    "print('Log loss: {}'.format(log_loss(y_dev2.values, y_probas[:,1])))\n",
    "# Determine RMSE\n",
    "print('RMSE: {}'.format(mean_squared_error(y_dev2.values, y_probas[:,1])))"
   ]
  },
  {
   "cell_type": "markdown",
   "metadata": {},
   "source": [
    "#### Perform a Logistic Regression (Ridge) Using the **Regular Season**"
   ]
  },
  {
   "cell_type": "code",
   "execution_count": 42,
   "metadata": {},
   "outputs": [
    {
     "name": "stdout",
     "output_type": "stream",
     "text": [
      "Best log-loss: -0.5518, with best C: 150\n"
     ]
    }
   ],
   "source": [
    "lrc2 = LogisticRegression(penalty='l2')\n",
    "params = {'C': [50,75,100,125,150,175,200,225]}\n",
    "gscv2 = GridSearchCV(lrc2, params, scoring='neg_log_loss', refit=True)\n",
    "gscv2.fit(X_train2, y_train2)\n",
    "print('Best log-loss: {:.4}, with best C: {}'.format(gscv2.best_score_, gscv2.best_params_['C']))\n",
    "lrc2 = LogisticRegression(penalty='l2', C=gscv2.best_params_['C'])\n",
    "lrc2.fit(X_train2, y_train2)\n",
    "prediction2 = lrc2.predict(X_dev2)\n",
    "y_probas = lrc2.predict_proba(X_dev2)"
   ]
  },
  {
   "cell_type": "code",
   "execution_count": 43,
   "metadata": {},
   "outputs": [
    {
     "name": "stdout",
     "output_type": "stream",
     "text": [
      "             precision    recall  f1-score   support\n",
      "\n",
      "          0       0.73      0.73      0.73       981\n",
      "          1       0.73      0.73      0.73       981\n",
      "\n",
      "avg / total       0.73      0.73      0.73      1962\n",
      "\n",
      "Area under the curve: 0.728\n",
      "Log loss: 0.547928193117\n",
      "RMSE: 0.185320087108\n"
     ]
    }
   ],
   "source": [
    "# Determine F1 score\n",
    "print(classification_report(prediction2, y_dev2))\n",
    "# Determine AUC\n",
    "print('Area under the curve: {0:.3f}'.format(roc_auc_score(y_dev2,  prediction2)))\n",
    "# Determine log-loss\n",
    "print('Log loss: {}'.format(log_loss(y_dev2.values, y_probas[:,1])))\n",
    "# Determine RMSE\n",
    "print('RMSE: {}'.format(mean_squared_error(y_dev2.values, y_probas[:,1])))"
   ]
  },
  {
   "cell_type": "markdown",
   "metadata": {},
   "source": [
    "#### Perform a Logistic Regression (Lasso) Using **Combined Regular Season / Tournament Data**"
   ]
  },
  {
   "cell_type": "code",
   "execution_count": 44,
   "metadata": {},
   "outputs": [
    {
     "name": "stdout",
     "output_type": "stream",
     "text": [
      "Best log-loss: -0.5518, with best C: 125\n"
     ]
    }
   ],
   "source": [
    "lrc3 = LogisticRegression(penalty='l1')\n",
    "params = {'C': [50,75,100,125,150,175,200,225]}\n",
    "gscv3 = GridSearchCV(lrc3, params, scoring='neg_log_loss', refit=True)\n",
    "gscv3.fit(X_train2_combined, y_train2_combined)\n",
    "print('Best log-loss: {:.4}, with best C: {}'.format(gscv3.best_score_, gscv3.best_params_['C']))\n",
    "lrc3 = LogisticRegression(penalty='l1', C=gscv3.best_params_['C'])\n",
    "lrc3.fit(X_train2_combined, y_train2_combined)\n",
    "prediction3 = lrc3.predict(X_dev2_combined)\n",
    "y_probas = lrc3.predict_proba(X_dev2_combined)"
   ]
  },
  {
   "cell_type": "code",
   "execution_count": 46,
   "metadata": {},
   "outputs": [
    {
     "name": "stdout",
     "output_type": "stream",
     "text": [
      "             precision    recall  f1-score   support\n",
      "\n",
      "          0       0.74      0.74      0.74       268\n",
      "          1       0.74      0.74      0.74       268\n",
      "\n",
      "avg / total       0.74      0.74      0.74       536\n",
      "\n",
      "Area under the curve: 0.743\n",
      "Log loss: 0.536772997951\n",
      "RMSE: 0.180269404758\n"
     ]
    }
   ],
   "source": [
    "# Determine F1 score\n",
    "print(classification_report(prediction3, y_dev2_combined))\n",
    "# Determine AUC\n",
    "print('Area under the curve: {0:.3f}'.format(roc_auc_score(y_dev2_combined,  prediction3)))\n",
    "# Determine log-loss\n",
    "print('Log loss: {}'.format(log_loss(y_dev2_combined.values, y_probas[:,1])))\n",
    "# Determine RMSE\n",
    "print('RMSE: {}'.format(mean_squared_error(y_dev2_combined.values, y_probas[:,1])))"
   ]
  },
  {
   "cell_type": "markdown",
   "metadata": {},
   "source": [
    "#### Perform a Logistic Regression (Ridge) Using **Combined Regular Season / Tournament Data**"
   ]
  },
  {
   "cell_type": "code",
   "execution_count": 18,
   "metadata": {},
   "outputs": [
    {
     "name": "stdout",
     "output_type": "stream",
     "text": [
      "Best log-loss: -0.5518, with best C: 50\n"
     ]
    }
   ],
   "source": [
    "lrc4 = LogisticRegression(penalty='l2')\n",
    "params = {'C': [50,75,100,125,150,175,200,225]}\n",
    "gscv4 = GridSearchCV(lrc4, params, scoring='neg_log_loss', refit=True)\n",
    "gscv4.fit(X_train2_combined, y_train2_combined)\n",
    "print('Best log-loss: {:.4}, with best C: {}'.format(gscv4.best_score_, gscv4.best_params_['C']))\n",
    "lrc4 = LogisticRegression(penalty='l2', C=gscv4.best_params_['C'])\n",
    "lrc4.fit(X_train2_combined, y_train2_combined)\n",
    "prediction4 = lrc4.predict(X_dev2_combined)\n",
    "y_probas = lrc4.predict_proba(X_dev2_combined)"
   ]
  },
  {
   "cell_type": "code",
   "execution_count": 19,
   "metadata": {},
   "outputs": [
    {
     "name": "stdout",
     "output_type": "stream",
     "text": [
      "             precision    recall  f1-score   support\n",
      "\n",
      "          0       0.74      0.74      0.74       268\n",
      "          1       0.74      0.74      0.74       268\n",
      "\n",
      "avg / total       0.74      0.74      0.74       536\n",
      "\n",
      "Area under the curve: 0.743\n",
      "Log loss: 0.5371935748903257\n",
      "RMSE: 0.18048982712254258\n"
     ]
    }
   ],
   "source": [
    "# Determine F1 score\n",
    "print(classification_report(prediction4, y_dev2_combined))\n",
    "# Determine AUC\n",
    "print('Area under the curve: {0:.3f}'.format(roc_auc_score(y_dev2_combined,  prediction4)))\n",
    "# Determine log-loss\n",
    "print('Log loss: {}'.format(log_loss(y_dev2_combined.values, y_probas[:,1])))\n",
    "# Determine RMSE\n",
    "print('RMSE: {}'.format(mean_squared_error(y_dev2_combined.values, y_probas[:,1])))"
   ]
  },
  {
   "cell_type": "markdown",
   "metadata": {},
   "source": [
    "### Best Data Set and Regularization"
   ]
  },
  {
   "cell_type": "markdown",
   "metadata": {},
   "source": [
    "Based on the above models, the best results are from training a logistic regression model using a combination of regular season and tournament games (2003-2013), and using lasso regression (L1) for regularization."
   ]
  },
  {
   "cell_type": "markdown",
   "metadata": {},
   "source": [
    "## Model Ensemble\n",
    "***\n",
    "\n",
    "Rather than just using approach 1 or approach 2, it is possible to combine the two approaches into an ensemble.\n",
    "\n",
    "The ensemble used here trains approach 1 using the tournament data (prior to 2014), and approach 2 using the combined regular season / tournament data as described above.\n",
    "\n",
    "Then predictions are made using the tournament data from 2014-207, as this is common between the two approaches (but note that the SeedDiff feature is not used with approach 2).\n",
    "\n",
    "The probabilities for winning from both approaches are averaged, and so are the probabilities for losing.\n",
    "\n",
    "After averaging the probabilities, the winning and losing probabilities are then compared to see which probability is greater.  The greater probability determines the predicted outcome of the game."
   ]
  },
  {
   "cell_type": "code",
   "execution_count": 32,
   "metadata": {
    "collapsed": true
   },
   "outputs": [],
   "source": [
    "# target = 'Outcome'\n",
    "# features2 = ['AvgRank', 'OpponentAvgRank', 'TwoPointPct_Team',\n",
    "#             'ThreePointPct_Team', 'FreeThrowPct_Team', 'OffensiveRebounds_Team',\n",
    "#             'DefensiveRebounds_Team', 'TwoPointPct_Opponent',\n",
    "#             'ThreePointPct_Opponent', 'FreeThrowPct_Opponent',\n",
    "#             'OffensiveRebounds_Opponent', 'DefensiveRebounds_Opponent', 'WinPct',\n",
    "#             'OpponentWinPct', 'WinPctDiff', 'AvgPointsFor', 'AvgPointsAgainst',\n",
    "#             'AvgNetPointsFor', 'OpponentAvgPointsFor',\n",
    "#             'OpponentAvgPointsAgainst', 'OpponentAvgNetPointsFor', 'TourWins',\n",
    "#             'OpponentTourWins', 'TourWinsDiff', 'FieldGoalPct_Team', 'TwoPointAttPct_Team',\n",
    "#             'ThreePointAttPct_Team', 'FieldGoalAtt_Team', 'TwoPointAtt_Team',\n",
    "#             'ThreePointAtt_Team', 'FreeThrowAtt_Team', 'Assists_Team',\n",
    "#             'Turnovers_Team', 'Steals_Team', 'Blocks_Team', 'PersonalFouls_Team',\n",
    "#             'FieldGoalPct_Opponent', 'TwoPointAttPct_Opponent',\n",
    "#             'ThreePointAttPct_Opponent', 'FieldGoalAtt_Opponent',\n",
    "#             'TwoPointAtt_Opponent', 'ThreePointAtt_Opponent',\n",
    "#             'FreeThrowAtt_Opponent', 'Assists_Opponent', 'Turnovers_Opponent',\n",
    "#             'Steals_Opponent', 'Blocks_Opponent', 'PersonalFouls_Opponent']\n",
    "# features1 = features2 + ['SeedDiff']"
   ]
  },
  {
   "cell_type": "markdown",
   "metadata": {},
   "source": [
    "### Train Approach 1"
   ]
  },
  {
   "cell_type": "code",
   "execution_count": 64,
   "metadata": {},
   "outputs": [
    {
     "name": "stdout",
     "output_type": "stream",
     "text": [
      "             precision    recall  f1-score   support\n",
      "\n",
      "          0       0.76      0.76      0.76       268\n",
      "          1       0.76      0.76      0.76       268\n",
      "\n",
      "avg / total       0.76      0.76      0.76       536\n",
      "\n",
      "Log Loss:  0.529461957644\n",
      "RMSE:  0.178672013288\n",
      "ROC AUC:  0.808810425485\n"
     ]
    }
   ],
   "source": [
    "target = 'Outcome'\n",
    "features1 = ['AvgRank', 'OpponentAvgRank', 'TwoPointPct_Team',\n",
    "            'ThreePointPct_Team', 'FreeThrowPct_Team', 'OffensiveRebounds_Team',\n",
    "            'DefensiveRebounds_Team', 'TwoPointPct_Opponent',\n",
    "            'ThreePointPct_Opponent', 'FreeThrowPct_Opponent',\n",
    "            'OffensiveRebounds_Opponent', 'DefensiveRebounds_Opponent', 'WinPct',\n",
    "            'OpponentWinPct', 'WinPctDiff', 'AvgPointsFor', 'AvgPointsAgainst',\n",
    "            'AvgNetPointsFor', 'SeedDiff', 'OpponentAvgPointsFor',\n",
    "            'OpponentAvgPointsAgainst', 'OpponentAvgNetPointsFor', 'TourWins',\n",
    "            'OpponentTourWins', 'TourWinsDiff', 'FieldGoalPct_Team', 'TwoPointAttPct_Team',\n",
    "            'ThreePointAttPct_Team', 'FieldGoalAtt_Team', 'TwoPointAtt_Team',\n",
    "            'ThreePointAtt_Team', 'FreeThrowAtt_Team', 'Assists_Team',\n",
    "            'Turnovers_Team', 'Steals_Team', 'Blocks_Team', 'PersonalFouls_Team',\n",
    "            'FieldGoalPct_Opponent', 'TwoPointAttPct_Opponent',\n",
    "            'ThreePointAttPct_Opponent', 'FieldGoalAtt_Opponent',\n",
    "            'TwoPointAtt_Opponent', 'ThreePointAtt_Opponent',\n",
    "            'FreeThrowAtt_Opponent', 'Assists_Opponent', 'Turnovers_Opponent',\n",
    "            'Steals_Opponent', 'Blocks_Opponent', 'PersonalFouls_Opponent',\n",
    "            'AvgRankDiff', 'AvgNetPointsForDiff', 'TwoPointPctDiff',\n",
    "            'ThreePointPctDiff', 'FreeThrowPctDiff', 'OffensiveReboundsDiff',\n",
    "            'DefensiveReboundsDiff', 'FieldGoalPctDiff', 'TwoPointAttPctDiff',\n",
    "            'ThreePointAttPctDiff', 'FieldGoalAttDiff', 'TwoPointAttDiff',\n",
    "            'ThreePointAttDiff', 'FreeThrowAttDiff', 'AssistsDiff', 'TurnoversDiff',\n",
    "            'StealsDiff', 'BlocksDiff', 'PersonalFoulsDiff']\n",
    "\n",
    "ss = StandardScaler()\n",
    "ss.fit(df_train[features1])\n",
    "\n",
    "lr1 = LogisticRegression(penalty='l2')\n",
    "lr1.fit(ss.transform(df_train[features1]), df_train[target])\n",
    "\n",
    "# fit on common dev data\n",
    "pred1 = lr1.predict(ss.transform(df_test[features1]))\n",
    "probs1 = lr1.predict_proba(ss.transform(df_test[features1]))\n",
    "\n",
    "print(classification_report(df_test[target], pred1))\n",
    "print(\"Log Loss: \",log_loss(df_test[target], probs1[:,1]))\n",
    "print(\"RMSE: \",mean_squared_error(df_test[target], probs1[:,1]))\n",
    "print(\"ROC AUC: \", roc_auc_score(df_test[target], probs1[:,1]))"
   ]
  },
  {
   "cell_type": "markdown",
   "metadata": {},
   "source": [
    "### Train Approach 2"
   ]
  },
  {
   "cell_type": "code",
   "execution_count": 65,
   "metadata": {
    "scrolled": true
   },
   "outputs": [
    {
     "name": "stdout",
     "output_type": "stream",
     "text": [
      "             precision    recall  f1-score   support\n",
      "\n",
      "          0       0.74      0.74      0.74       268\n",
      "          1       0.74      0.74      0.74       268\n",
      "\n",
      "avg / total       0.74      0.74      0.74       536\n",
      "\n",
      "Log Loss:  0.536758492226\n",
      "RMSE:  0.180263171259\n",
      "ROC AUC:  0.811205168189\n"
     ]
    }
   ],
   "source": [
    "target = 'Outcome'\n",
    "features2 = list(X_dev2_combined.columns)\n",
    "\n",
    "lr2 = LogisticRegression(penalty='l1', C=125)\n",
    "lr2.fit(X_train2_combined, y_train2_combined)\n",
    "\n",
    "# fit on common dev data\n",
    "pred2 = lr2.predict(df_test[features2])\n",
    "probs2 = lr2.predict_proba(df_test[features2])\n",
    "\n",
    "print(classification_report(df_test[target], pred2))\n",
    "print(\"Log Loss: \",log_loss(df_test[target], probs2[:,1]))\n",
    "print(\"RMSE: \",mean_squared_error(df_test[target], probs2[:,1]))\n",
    "print(\"ROC AUC: \", roc_auc_score(df_test[target], probs2[:,1]))"
   ]
  },
  {
   "cell_type": "markdown",
   "metadata": {},
   "source": [
    "### Simple Ensemble of Approach 1 and Approach 2"
   ]
  },
  {
   "cell_type": "code",
   "execution_count": 66,
   "metadata": {
    "collapsed": true
   },
   "outputs": [],
   "source": [
    "# Get the mean of the loss probabilities and the win probabilities\n",
    "loss_prob_df = pd.DataFrame(data={'approach1':probs1[:,0], 'approach2':probs2[:,0]})\n",
    "win_prob_df = pd.DataFrame(data={'approach1':probs1[:,1], 'approach2':probs2[:,1]})\n",
    "loss_win_df = pd.DataFrame(data={'loss_prob':loss_prob_df.mean(axis=1), 'win_prob':win_prob_df.mean(axis=1), 'predict':0})"
   ]
  },
  {
   "cell_type": "code",
   "execution_count": 67,
   "metadata": {
    "collapsed": true
   },
   "outputs": [],
   "source": [
    "# Determine loss / win depending on which probability is larger\n",
    "ensemble_predictions = []\n",
    "ensemble_probs = []\n",
    "\n",
    "for index in range(len(win_prob_df)):\n",
    "    if loss_win_df['loss_prob'][index] > loss_win_df['win_prob'][index] :\n",
    "        ensemble_predictions.append(0)\n",
    "        ensemble_probs.append(1-loss_win_df['loss_prob'][index])\n",
    "    else:\n",
    "        ensemble_predictions.append(1)\n",
    "        ensemble_probs.append(loss_win_df['win_prob'][index])"
   ]
  },
  {
   "cell_type": "code",
   "execution_count": 68,
   "metadata": {},
   "outputs": [
    {
     "name": "stdout",
     "output_type": "stream",
     "text": [
      "             precision    recall  f1-score   support\n",
      "\n",
      "          0       0.75      0.75      0.75       268\n",
      "          1       0.75      0.75      0.75       268\n",
      "\n",
      "avg / total       0.75      0.75      0.75       536\n",
      "\n",
      "Log Loss:  0.523652468758\n",
      "RMSE:  0.175790465405\n",
      "ROC AUC:  0.815994653598\n"
     ]
    }
   ],
   "source": [
    "print(classification_report(df_test[target], ensemble_predictions))\n",
    "print(\"Log Loss: \",log_loss(df_test[target], ensemble_probs))\n",
    "print(\"RMSE: \",mean_squared_error(df_test[target], ensemble_probs))\n",
    "print(\"ROC AUC: \", roc_auc_score(df_test[target], ensemble_probs))"
   ]
  },
  {
   "cell_type": "markdown",
   "metadata": {},
   "source": [
    "### Weighted Ensemble with Logistic Regression"
   ]
  },
  {
   "cell_type": "code",
   "execution_count": 124,
   "metadata": {},
   "outputs": [
    {
     "name": "stdout",
     "output_type": "stream",
     "text": [
      "             precision    recall  f1-score   support\n",
      "\n",
      "          0       0.77      0.76      0.77        67\n",
      "          1       0.76      0.78      0.77        67\n",
      "\n",
      "avg / total       0.77      0.77      0.77       134\n",
      "\n",
      "Log Loss:  0.515845272942\n",
      "RMSE:  0.171587089873\n",
      "ROC AUC:  0.828469592337\n"
     ]
    }
   ],
   "source": [
    "# df_ens_dev, df_ens_test = train_test_split(df_test)\n",
    "df_ens_dev = df_test[df_test['Season'] < 2017]\n",
    "df_ens_test = df_test[df_test['Season'] == 2017]\n",
    "\n",
    "# fit ens_dev\n",
    "# a1\n",
    "pred1_ens_dev = lr1.predict(ss.transform(df_ens_dev[features1]))\n",
    "probs1_ens_dev = lr1.predict_proba(ss.transform(df_ens_dev[features1]))\n",
    "\n",
    "# a2\n",
    "pred2_ens_dev = lr2.predict(df_ens_dev[features2])\n",
    "probs2_ens_dev = lr2.predict_proba(df_ens_dev[features2])\n",
    "\n",
    "# prediction probabilities into features\n",
    "X_ens_dev = np.asarray((probs1_ens_dev[:, 1],probs2_ens_dev[:, 1])).T\n",
    "\n",
    "# fit ens_dev prediction probs\n",
    "ens1 = LogisticRegression()\n",
    "ens1.fit(X_ens_dev, df_ens_dev[target])\n",
    "\n",
    "# fit ens_test\n",
    "# a1\n",
    "pred1_ens_test = lr1.predict(ss.transform(df_ens_test[features1]))\n",
    "probs1_ens_test = lr1.predict_proba(ss.transform(df_ens_test[features1]))\n",
    "\n",
    "# a2\n",
    "pred2_ens_test = lr2.predict(df_ens_test[features2])\n",
    "probs2_ens_test = lr2.predict_proba(df_ens_test[features2])\n",
    "\n",
    "# prediction probabilities into features\n",
    "X_ens_test = np.asarray((probs1_ens_test[:, 1],probs2_ens_test[:, 1])).T\n",
    "\n",
    "# predict ens_test probabilities\n",
    "pred_fin = ens1.predict(X_ens_test)\n",
    "probs_fin = ens1.predict_proba(X_ens_test)\n",
    "\n",
    "print(classification_report(df_ens_test[target], pred_fin))\n",
    "print(\"Log Loss: \",log_loss(df_ens_test[target], probs_fin[:,1]))\n",
    "print(\"RMSE: \",mean_squared_error(df_ens_test[target], probs_fin[:,1]))\n",
    "print(\"ROC AUC: \", roc_auc_score(df_ens_test[target], probs_fin[:,1]))"
   ]
  },
  {
   "cell_type": "markdown",
   "metadata": {},
   "source": [
    "## Final Model Evaluation (2018 Tournament)\n",
    "***"
   ]
  },
  {
   "cell_type": "markdown",
   "metadata": {},
   "source": [
    "### Pull All Potential 2018 Matchups\n",
    "\n",
    "This includes both games that did and did not actually occur. Using the top performing methods, data will be retrained using both training and dev data from the earlier section and finally tested on 2018 data. Final results were not shared in tabular form from Kaggle, since the competition ended. Data was [scraped](http://www.google.com) from NCAA website."
   ]
  },
  {
   "cell_type": "code",
   "execution_count": 128,
   "metadata": {},
   "outputs": [
    {
     "data": {
      "text/plain": [
       "(4556, 83)"
      ]
     },
     "execution_count": 128,
     "metadata": {},
     "output_type": "execute_result"
    }
   ],
   "source": [
    "# pull 2018 potential matchups\n",
    "query = '''\n",
    "    SELECT *\n",
    "    FROM prod.features\n",
    "    WHERE \"Season Type\" = 'NCAA Tourney' and\n",
    "        holdout_s2 = 1\n",
    "'''\n",
    "\n",
    "conn = pg.connect(database='postgres',\n",
    "                  user='postgres',\n",
    "                  password='w207final',\n",
    "                  host='35.185.225.167')\n",
    "\n",
    "df_2018 = pd.read_sql_query(query, conn)\n",
    "\n",
    "# \"Diff\" Features\n",
    "df_2018['AvgRankDiff'] = df_2018['AvgRank'] - df_2018['OpponentAvgRank']\n",
    "df_2018['AvgNetPointsForDiff'] = df_2018['AvgNetPointsFor'] - df_2018['OpponentAvgNetPointsFor']\n",
    "df_2018['TwoPointPctDiff'] = df_2018['TwoPointPct_Team'] - df_2018['TwoPointPct_Opponent']\n",
    "df_2018['ThreePointPctDiff'] = df_2018['ThreePointPct_Team'] - df_2018['ThreePointPct_Opponent']\n",
    "df_2018['FreeThrowPctDiff'] = df_2018['FreeThrowPct_Team'] - df_2018['FreeThrowPct_Opponent']\n",
    "df_2018['OffensiveReboundsDiff'] = df_2018['OffensiveRebounds_Team'] - df_2018['OffensiveRebounds_Opponent']\n",
    "df_2018['DefensiveReboundsDiff'] = df_2018['DefensiveRebounds_Team'] - df_2018['DefensiveRebounds_Opponent']\n",
    "df_2018['FieldGoalPctDiff'] = df_2018['FieldGoalPct_Team'] - df_2018['FieldGoalPct_Opponent']\n",
    "df_2018['TwoPointAttPctDiff'] = df_2018['TwoPointAttPct_Team'] - df_2018['TwoPointAttPct_Opponent']\n",
    "df_2018['ThreePointAttPctDiff'] = df_2018['ThreePointAttPct_Team'] - df_2018['ThreePointAttPct_Opponent']\n",
    "df_2018['FieldGoalAttDiff'] = df_2018['FieldGoalAtt_Team'] - df_2018['FieldGoalAtt_Opponent']\n",
    "df_2018['TwoPointAttDiff'] = df_2018['TwoPointAtt_Team'] - df_2018['TwoPointAtt_Opponent']\n",
    "df_2018['ThreePointAttDiff'] = df_2018['ThreePointAtt_Team'] - df_2018['ThreePointAtt_Opponent']\n",
    "df_2018['FreeThrowAttDiff'] = df_2018['FreeThrowAtt_Team'] - df_2018['FreeThrowAtt_Opponent']\n",
    "df_2018['AssistsDiff'] = df_2018['Assists_Team'] - df_2018['Assists_Opponent']\n",
    "df_2018['TurnoversDiff'] = df_2018['Turnovers_Team'] - df_2018['Turnovers_Opponent']\n",
    "df_2018['StealsDiff'] = df_2018['Steals_Team'] - df_2018['Steals_Opponent']\n",
    "df_2018['BlocksDiff'] = df_2018['Blocks_Team'] - df_2018['Blocks_Opponent']\n",
    "df_2018['PersonalFoulsDiff'] = df_2018['PersonalFouls_Team'] - df_2018['PersonalFouls_Opponent']\n",
    "\n",
    "df_2018.shape"
   ]
  },
  {
   "cell_type": "markdown",
   "metadata": {},
   "source": [
    "Filter to only games that occurred for testing."
   ]
  },
  {
   "cell_type": "code",
   "execution_count": 127,
   "metadata": {},
   "outputs": [
    {
     "name": "stdout",
     "output_type": "stream",
     "text": [
      "(134, 83)\n"
     ]
    }
   ],
   "source": [
    "df_test_2018 = df_2018[df_2018['Outcome'].notnull()]\n",
    "print(df_test_2018.shape)"
   ]
  },
  {
   "cell_type": "markdown",
   "metadata": {},
   "source": [
    "### Baseline\n",
    "\n",
    "Just to reground ourselves -- these are the log-loss scores for the baseline."
   ]
  },
  {
   "cell_type": "code",
   "execution_count": 130,
   "metadata": {},
   "outputs": [
    {
     "name": "stdout",
     "output_type": "stream",
     "text": [
      "Baseline:  0.69314718056\n",
      "Completely Wrong:  34.5391761936\n"
     ]
    }
   ],
   "source": [
    "target = 'Outcome'\n",
    "\n",
    "# baseline of 0.5\n",
    "baseline = np.full(134, 0.5)\n",
    "print(\"Baseline: \",log_loss(df_test_2018[target],baseline))\n",
    "\n",
    "# worst case scenario -- every prediction was wrong with 100% confidence\n",
    "print(\"Completely Wrong: \",log_loss(df_test_2018[target],1-df_test_2018[target]))"
   ]
  },
  {
   "cell_type": "markdown",
   "metadata": {},
   "source": [
    "### Best Approach 1\n",
    "\n",
    "Logistic Regression with L2 Regularization and C = 1.0"
   ]
  },
  {
   "cell_type": "code",
   "execution_count": 131,
   "metadata": {},
   "outputs": [
    {
     "name": "stdout",
     "output_type": "stream",
     "text": [
      "             precision    recall  f1-score   support\n",
      "\n",
      "        0.0       0.70      0.70      0.70        67\n",
      "        1.0       0.70      0.70      0.70        67\n",
      "\n",
      "avg / total       0.70      0.70      0.70       134\n",
      "\n",
      "Log Loss:  0.609581060519\n",
      "RMSE:  0.201148927619\n",
      "ROC AUC:  0.761639563377\n"
     ]
    }
   ],
   "source": [
    "target = 'Outcome'\n",
    "features = ['AvgRank', 'OpponentAvgRank', 'TwoPointPct_Team',\n",
    "            'ThreePointPct_Team', 'FreeThrowPct_Team', 'OffensiveRebounds_Team',\n",
    "            'DefensiveRebounds_Team', 'TwoPointPct_Opponent',\n",
    "            'ThreePointPct_Opponent', 'FreeThrowPct_Opponent',\n",
    "            'OffensiveRebounds_Opponent', 'DefensiveRebounds_Opponent', 'WinPct',\n",
    "            'OpponentWinPct', 'WinPctDiff', 'AvgPointsFor', 'AvgPointsAgainst',\n",
    "            'AvgNetPointsFor', 'SeedDiff', 'OpponentAvgPointsFor',\n",
    "            'OpponentAvgPointsAgainst', 'OpponentAvgNetPointsFor', 'TourWins',\n",
    "            'OpponentTourWins', 'TourWinsDiff', 'FieldGoalPct_Team', 'TwoPointAttPct_Team',\n",
    "            'ThreePointAttPct_Team', 'FieldGoalAtt_Team', 'TwoPointAtt_Team',\n",
    "            'ThreePointAtt_Team', 'FreeThrowAtt_Team', 'Assists_Team',\n",
    "            'Turnovers_Team', 'Steals_Team', 'Blocks_Team', 'PersonalFouls_Team',\n",
    "            'FieldGoalPct_Opponent', 'TwoPointAttPct_Opponent',\n",
    "            'ThreePointAttPct_Opponent', 'FieldGoalAtt_Opponent',\n",
    "            'TwoPointAtt_Opponent', 'ThreePointAtt_Opponent',\n",
    "            'FreeThrowAtt_Opponent', 'Assists_Opponent', 'Turnovers_Opponent',\n",
    "            'Steals_Opponent', 'Blocks_Opponent', 'PersonalFouls_Opponent',\n",
    "            'AvgRankDiff', 'AvgNetPointsForDiff', 'TwoPointPctDiff',\n",
    "            'ThreePointPctDiff', 'FreeThrowPctDiff', 'OffensiveReboundsDiff',\n",
    "            'DefensiveReboundsDiff', 'FieldGoalPctDiff', 'TwoPointAttPctDiff',\n",
    "            'ThreePointAttPctDiff', 'FieldGoalAttDiff', 'TwoPointAttDiff',\n",
    "            'ThreePointAttDiff', 'FreeThrowAttDiff', 'AssistsDiff', 'TurnoversDiff',\n",
    "            'StealsDiff', 'BlocksDiff', 'PersonalFoulsDiff']\n",
    "\n",
    "# fit means/std\n",
    "ss = StandardScaler()\n",
    "ss.fit(df_in[features])\n",
    "\n",
    "lr = LogisticRegression(penalty='l2')\n",
    "lr.fit(ss.transform(df_in[features]), df_in[target])\n",
    "\n",
    "pred = lr.predict(ss.transform(df_test_2018[features]))\n",
    "probs = lr.predict_proba(ss.transform(df_test_2018[features]))\n",
    "\n",
    "print(classification_report(df_test_2018[target], pred))\n",
    "print(\"Log Loss: \",log_loss(df_test_2018[target], probs[:,1]))\n",
    "print(\"RMSE: \",mean_squared_error(df_test_2018[target], probs[:,1]))\n",
    "print(\"ROC AUC: \", roc_auc_score(df_test_2018[target], probs[:,1]))"
   ]
  },
  {
   "cell_type": "markdown",
   "metadata": {},
   "source": [
    "### Best Approach 2"
   ]
  },
  {
   "cell_type": "code",
   "execution_count": 145,
   "metadata": {},
   "outputs": [
    {
     "name": "stdout",
     "output_type": "stream",
     "text": [
      "             precision    recall  f1-score   support\n",
      "\n",
      "        0.0       0.63      0.63      0.63        67\n",
      "        1.0       0.63      0.63      0.63        67\n",
      "\n",
      "avg / total       0.63      0.63      0.63       134\n",
      "\n",
      "Log Loss:  0.58819540517\n",
      "RMSE:  0.203892308624\n",
      "ROC AUC:  0.746045889953\n"
     ]
    }
   ],
   "source": [
    "target = 'Outcome'\n",
    "features = ['AvgRank', 'OpponentAvgRank', 'TwoPointPct_Team',\n",
    "            'ThreePointPct_Team', 'FreeThrowPct_Team', 'OffensiveRebounds_Team',\n",
    "            'DefensiveRebounds_Team', 'TwoPointPct_Opponent', 'ThreePointPct_Opponent',\n",
    "            'FreeThrowPct_Opponent', 'OffensiveRebounds_Opponent', 'DefensiveRebounds_Opponent',\n",
    "            'WinPct', 'OpponentWinPct', 'WinPctDiff', 'AvgPointsFor', 'AvgPointsAgainst',\n",
    "            'AvgNetPointsFor', 'OpponentAvgPointsFor', 'OpponentAvgPointsAgainst',\n",
    "            'OpponentAvgNetPointsFor', 'TourWins', 'OpponentTourWins', 'TourWinsDiff',\n",
    "            'FieldGoalPct_Team', 'TwoPointAttPct_Team', 'ThreePointAttPct_Team',\n",
    "            'FieldGoalAtt_Team', 'TwoPointAtt_Team', 'ThreePointAtt_Team', 'FreeThrowAtt_Team',\n",
    "            'Assists_Team', 'Turnovers_Team', 'Steals_Team', 'Blocks_Team', 'PersonalFouls_Team',\n",
    "            'FieldGoalPct_Opponent', 'TwoPointAttPct_Opponent', 'ThreePointAttPct_Opponent',\n",
    "            'FieldGoalAtt_Opponent', 'TwoPointAtt_Opponent', 'ThreePointAtt_Opponent',\n",
    "            'FreeThrowAtt_Opponent', 'Assists_Opponent', 'Turnovers_Opponent', 'Steals_Opponent',\n",
    "            'Blocks_Opponent', 'PersonalFouls_Opponent']\n",
    "\n",
    "X_train2_final = np.concatenate((X_train2_combined, X_dev2_combined))\n",
    "y_train2_final = np.concatenate((y_train2_combined, y_dev2_combined))\n",
    "\n",
    "lr2 = LogisticRegression(penalty='l1', C=125)\n",
    "lr2.fit(X_train2_final, y_train2_final)\n",
    "\n",
    "# fit on common dev data\n",
    "pred2 = lr2.predict(df_test_2018[features])\n",
    "probs2 = lr2.predict_proba(df_test_2018[features])\n",
    "\n",
    "print(classification_report(df_test_2018[target], pred2))\n",
    "print(\"Log Loss: \",log_loss(df_test_2018[target], probs2[:,1]))\n",
    "print(\"RMSE: \",mean_squared_error(df_test_2018[target], probs2[:,1]))\n",
    "print(\"ROC AUC: \", roc_auc_score(df_test_2018[target], probs2[:,1]))"
   ]
  },
  {
   "cell_type": "markdown",
   "metadata": {},
   "source": [
    "### Simple Ensemble"
   ]
  },
  {
   "cell_type": "code",
   "execution_count": 146,
   "metadata": {},
   "outputs": [
    {
     "name": "stdout",
     "output_type": "stream",
     "text": [
      "             precision    recall  f1-score   support\n",
      "\n",
      "        0.0       0.67      0.67      0.67        67\n",
      "        1.0       0.67      0.67      0.67        67\n",
      "\n",
      "avg / total       0.67      0.67      0.67       134\n",
      "\n",
      "Log Loss:  0.587896342483\n",
      "RMSE:  0.200916557467\n",
      "ROC AUC:  0.75762976164\n"
     ]
    }
   ],
   "source": [
    "# Get the mean of the loss probabilities and the win probabilities\n",
    "loss_prob_df = pd.DataFrame(data={'approach1':probs[:,0],\n",
    "                                  'approach2':probs2[:,0]\n",
    "                                 })\n",
    "win_prob_df = pd.DataFrame(data={'approach1':probs[:,1],\n",
    "                                 'approach2':probs2[:,1]\n",
    "                                })\n",
    "loss_win_df = pd.DataFrame(data={'loss_prob':loss_prob_df.mean(axis=1),\n",
    "                                 'win_prob':win_prob_df.mean(axis=1),\n",
    "                                 'predict':0\n",
    "                                })\n",
    "\n",
    "# Determine loss / win depending on which probability is larger\n",
    "ensemble_predictions = []\n",
    "ensemble_probs = []\n",
    "\n",
    "for index in range(len(win_prob_df)):\n",
    "    if loss_win_df['loss_prob'][index] > loss_win_df['win_prob'][index] :\n",
    "        ensemble_predictions.append(0)\n",
    "        ensemble_probs.append(1-loss_win_df['loss_prob'][index])\n",
    "    else:\n",
    "        ensemble_predictions.append(1)\n",
    "        ensemble_probs.append(loss_win_df['win_prob'][index])\n",
    "        \n",
    "print(classification_report(df_test_2018[target], ensemble_predictions))\n",
    "print(\"Log Loss: \",log_loss(df_test_2018[target], ensemble_probs))\n",
    "print(\"RMSE: \",mean_squared_error(df_test_2018[target], ensemble_probs))\n",
    "print(\"ROC AUC: \", roc_auc_score(df_test_2018[target], ensemble_probs))"
   ]
  },
  {
   "cell_type": "markdown",
   "metadata": {},
   "source": [
    "### Weighted Ensemble"
   ]
  },
  {
   "cell_type": "markdown",
   "metadata": {},
   "source": [
    "For each approach, data needs to be split into three groups.\n",
    "\n",
    "1. Training\n",
    "2. Ensemble Training\n",
    "3. Test (2018)\n",
    "\n",
    "Ensemble Training data examples must be homogenous between approach 1 and approach 2, although this is not necessarily the case for the first stage of training. There are simply two features in Ensemble Training, predicted probabilities from each approach."
   ]
  },
  {
   "cell_type": "markdown",
   "metadata": {},
   "source": [
    "#### Split Data"
   ]
  },
  {
   "cell_type": "code",
   "execution_count": 184,
   "metadata": {},
   "outputs": [
    {
     "name": "stdout",
     "output_type": "stream",
     "text": [
      "(1828, 83)\n",
      "(134, 83)\n",
      "(154722, 64)\n",
      "(134, 64)\n",
      "(134, 83)\n"
     ]
    }
   ],
   "source": [
    "# combine dev/train for approach 2\n",
    "# approach1 is pulled in together\n",
    "df_train_a2 = pd.concat((df_approach2Combined_training, df_approach2Combined_dev))\n",
    "\n",
    "# first level training\n",
    "df_train1_a1 = df_in[df_in['Season'] < 2017]\n",
    "df_train1_a2 = df_train_a2[(df_train_a2['Season Type'] == 'Regular') | (df_train_a2['Season'] < 2017)]\n",
    "\n",
    "# second level training -- same dataset for both approaches\n",
    "df_train2 = df_in[df_in['Season'] == 2017]\n",
    "\n",
    "# Just to check observations\n",
    "df_train1_a2 = df_train_a2[(df_train_a2['Season Type'] == 'Regular') | (df_train_a2['Season'] < 2017)]\n",
    "df_train2_a2 = df_train_a2[(df_train_a2['Season Type'] == 'NCAA Tourney') & (df_train_a2['Season'] == 2017)]\n",
    "\n",
    "print(df_train1_a1.shape)\n",
    "print(df_train2.shape)\n",
    "print(df_train1_a2.shape)\n",
    "print(df_train2_a2.shape)\n",
    "print(df_test_2018.shape)\n"
   ]
  },
  {
   "cell_type": "markdown",
   "metadata": {},
   "source": [
    "#### Fit Approach 1"
   ]
  },
  {
   "cell_type": "code",
   "execution_count": 185,
   "metadata": {
    "collapsed": true
   },
   "outputs": [],
   "source": [
    "target = 'Outcome'\n",
    "features1 = ['AvgRank', 'OpponentAvgRank', 'TwoPointPct_Team',\n",
    "            'ThreePointPct_Team', 'FreeThrowPct_Team', 'OffensiveRebounds_Team',\n",
    "            'DefensiveRebounds_Team', 'TwoPointPct_Opponent',\n",
    "            'ThreePointPct_Opponent', 'FreeThrowPct_Opponent',\n",
    "            'OffensiveRebounds_Opponent', 'DefensiveRebounds_Opponent', 'WinPct',\n",
    "            'OpponentWinPct', 'WinPctDiff', 'AvgPointsFor', 'AvgPointsAgainst',\n",
    "            'AvgNetPointsFor', 'SeedDiff', 'OpponentAvgPointsFor',\n",
    "            'OpponentAvgPointsAgainst', 'OpponentAvgNetPointsFor', 'TourWins',\n",
    "            'OpponentTourWins', 'TourWinsDiff', 'FieldGoalPct_Team', 'TwoPointAttPct_Team',\n",
    "            'ThreePointAttPct_Team', 'FieldGoalAtt_Team', 'TwoPointAtt_Team',\n",
    "            'ThreePointAtt_Team', 'FreeThrowAtt_Team', 'Assists_Team',\n",
    "            'Turnovers_Team', 'Steals_Team', 'Blocks_Team', 'PersonalFouls_Team',\n",
    "            'FieldGoalPct_Opponent', 'TwoPointAttPct_Opponent',\n",
    "            'ThreePointAttPct_Opponent', 'FieldGoalAtt_Opponent',\n",
    "            'TwoPointAtt_Opponent', 'ThreePointAtt_Opponent',\n",
    "            'FreeThrowAtt_Opponent', 'Assists_Opponent', 'Turnovers_Opponent',\n",
    "            'Steals_Opponent', 'Blocks_Opponent', 'PersonalFouls_Opponent',\n",
    "            'AvgRankDiff', 'AvgNetPointsForDiff', 'TwoPointPctDiff',\n",
    "            'ThreePointPctDiff', 'FreeThrowPctDiff', 'OffensiveReboundsDiff',\n",
    "            'DefensiveReboundsDiff', 'FieldGoalPctDiff', 'TwoPointAttPctDiff',\n",
    "            'ThreePointAttPctDiff', 'FieldGoalAttDiff', 'TwoPointAttDiff',\n",
    "            'ThreePointAttDiff', 'FreeThrowAttDiff', 'AssistsDiff', 'TurnoversDiff',\n",
    "            'StealsDiff', 'BlocksDiff', 'PersonalFoulsDiff']\n",
    "\n",
    "# fit means/std\n",
    "ss = StandardScaler()\n",
    "ss.fit(df_train1_a1[features1])\n",
    "\n",
    "lr1 = LogisticRegression(penalty='l2')\n",
    "lr1.fit(ss.transform(df_train1_a1[features1]), df_train1_a1[target])\n",
    "\n",
    "# predict \"dev\"\n",
    "pred1 = lr.predict(ss.transform(df_train2[features1]))\n",
    "probs1 = lr.predict_proba(ss.transform(df_train2[features1]))\n",
    "\n",
    "# predict on \"2018 test\"\n",
    "pred1_2018 = lr.predict(ss.transform(df_test_2018[features1]))\n",
    "probs1_2018 = lr.predict_proba(ss.transform(df_test_2018[features1]))"
   ]
  },
  {
   "cell_type": "markdown",
   "metadata": {},
   "source": [
    "#### Fit Approach 2"
   ]
  },
  {
   "cell_type": "code",
   "execution_count": 181,
   "metadata": {},
   "outputs": [],
   "source": [
    "target = 'Outcome'\n",
    "features2 = ['AvgRank', 'OpponentAvgRank', 'TwoPointPct_Team',\n",
    "            'ThreePointPct_Team', 'FreeThrowPct_Team', 'OffensiveRebounds_Team',\n",
    "            'DefensiveRebounds_Team', 'TwoPointPct_Opponent', 'ThreePointPct_Opponent',\n",
    "            'FreeThrowPct_Opponent', 'OffensiveRebounds_Opponent', 'DefensiveRebounds_Opponent',\n",
    "            'WinPct', 'OpponentWinPct', 'WinPctDiff', 'AvgPointsFor', 'AvgPointsAgainst',\n",
    "            'AvgNetPointsFor', 'OpponentAvgPointsFor', 'OpponentAvgPointsAgainst',\n",
    "            'OpponentAvgNetPointsFor', 'TourWins', 'OpponentTourWins', 'TourWinsDiff',\n",
    "            'FieldGoalPct_Team', 'TwoPointAttPct_Team', 'ThreePointAttPct_Team',\n",
    "            'FieldGoalAtt_Team', 'TwoPointAtt_Team', 'ThreePointAtt_Team', 'FreeThrowAtt_Team',\n",
    "            'Assists_Team', 'Turnovers_Team', 'Steals_Team', 'Blocks_Team', 'PersonalFouls_Team',\n",
    "            'FieldGoalPct_Opponent', 'TwoPointAttPct_Opponent', 'ThreePointAttPct_Opponent',\n",
    "            'FieldGoalAtt_Opponent', 'TwoPointAtt_Opponent', 'ThreePointAtt_Opponent',\n",
    "            'FreeThrowAtt_Opponent', 'Assists_Opponent', 'Turnovers_Opponent', 'Steals_Opponent',\n",
    "            'Blocks_Opponent', 'PersonalFouls_Opponent']\n",
    "\n",
    "lr2 = LogisticRegression(penalty='l1', C=125)\n",
    "lr2.fit(df_train1_a2[features2], df_train1_a2[target])\n",
    "\n",
    "# predict \"dev\"\n",
    "pred2 = lr2.predict(df_train2[features2])\n",
    "probs2 = lr2.predict_proba(df_train2[features2])\n",
    "\n",
    "# predict \"2018 test\"\n",
    "pred2_2018 = lr2.predict(df_test_2018[features2])\n",
    "probs2_2018 = lr2.predict_proba(df_test_2018[features2])"
   ]
  },
  {
   "cell_type": "markdown",
   "metadata": {},
   "source": [
    "#### Fit Weighted Ensemble"
   ]
  },
  {
   "cell_type": "code",
   "execution_count": 183,
   "metadata": {
    "scrolled": true
   },
   "outputs": [
    {
     "name": "stdout",
     "output_type": "stream",
     "text": [
      "             precision    recall  f1-score   support\n",
      "\n",
      "        0.0       0.67      0.67      0.67        67\n",
      "        1.0       0.67      0.67      0.67        67\n",
      "\n",
      "avg / total       0.67      0.67      0.67       134\n",
      "\n",
      "Log Loss:  0.58410907089\n",
      "RMSE:  0.199951894606\n",
      "ROC AUC:  0.75696146135\n"
     ]
    }
   ],
   "source": [
    "# ensemble features\n",
    "X_ens_train = np.asarray((probs1[:, 1],probs2[:, 1])).T\n",
    "X_ens_2018 = np.asarray((probs1_2018[:, 1],probs2_2018[:, 1])).T\n",
    "\n",
    "# fit ensemble features\n",
    "ens1 = LogisticRegression()\n",
    "ens1.fit(X_ens_train, df_train2[target])\n",
    "\n",
    "# predict 2018\n",
    "pred_ens = ens1.predict(X_ens_2018)\n",
    "probs_ens = ens1.predict_proba(X_ens_2018)\n",
    "\n",
    "print(classification_report(df_test_2018[target], pred_ens))\n",
    "print(\"Log Loss: \",log_loss(df_test_2018[target], probs_ens[:,1]))\n",
    "print(\"RMSE: \",mean_squared_error(df_test_2018[target], probs_ens[:,1]))\n",
    "print(\"ROC AUC: \", roc_auc_score(df_test_2018[target], probs_ens[:,1]))"
   ]
  },
  {
   "cell_type": "markdown",
   "metadata": {},
   "source": [
    "## Model Deployment\n",
    "***\n",
    "\n",
    "- Create prediction output of all possible games\n",
    "- Submit CSV to Kaggle"
   ]
  },
  {
   "cell_type": "markdown",
   "metadata": {},
   "source": [
    "Final predictions on all potential matchups, instead of only observed games."
   ]
  },
  {
   "cell_type": "code",
   "execution_count": 196,
   "metadata": {},
   "outputs": [
    {
     "data": {
      "text/plain": [
       "(4556, 2)"
      ]
     },
     "execution_count": 196,
     "metadata": {},
     "output_type": "execute_result"
    }
   ],
   "source": [
    "# final predictions\n",
    "probs1_final = lr.predict_proba(ss.transform(df_2018[features1]))\n",
    "probs2_final = lr2.predict_proba(df_2018[features2])\n",
    "X_ens_final = np.asarray((probs1_final[:, 1],probs2_final[:, 1])).T\n",
    "probs_ens_final = ens1.predict_proba(X_ens_final)"
   ]
  },
  {
   "cell_type": "code",
   "execution_count": 198,
   "metadata": {
    "collapsed": true
   },
   "outputs": [],
   "source": [
    "out = df_2018[['Season', 'Team', 'Opponent']].copy()\n",
    "out['Pred'] = probs_ens_final[:, 1]\n",
    "out2 = out[out['Team'] < out['Opponent']]\n",
    "\n",
    "datarows = []\n",
    "for i in out2.itertuples(index=False):\n",
    "    row = (\"_\".join([str(i.Season), str(i.Team), str(i.Opponent)]), float(i.Pred))\n",
    "    datarows.append(row)\n",
    "\n",
    "with open('./model_deployment.csv','w') as out:\n",
    "    csv_out=csv.writer(out)\n",
    "    csv_out.writerow(['ID','Pred'])\n",
    "    for row in datarows:\n",
    "        csv_out.writerow(row)"
   ]
  },
  {
   "cell_type": "code",
   "execution_count": 211,
   "metadata": {
    "scrolled": true
   },
   "outputs": [
    {
     "data": {
      "text/html": [
       "<div>\n",
       "<style>\n",
       "    .dataframe thead tr:only-child th {\n",
       "        text-align: right;\n",
       "    }\n",
       "\n",
       "    .dataframe thead th {\n",
       "        text-align: left;\n",
       "    }\n",
       "\n",
       "    .dataframe tbody tr th {\n",
       "        vertical-align: top;\n",
       "    }\n",
       "</style>\n",
       "<table border=\"1\" class=\"dataframe\">\n",
       "  <thead>\n",
       "    <tr style=\"text-align: right;\">\n",
       "      <th></th>\n",
       "      <th>Season</th>\n",
       "      <th>Team</th>\n",
       "      <th>Opponent</th>\n",
       "      <th>Pred</th>\n",
       "    </tr>\n",
       "  </thead>\n",
       "  <tbody>\n",
       "    <tr>\n",
       "      <th>90</th>\n",
       "      <td>2018</td>\n",
       "      <td>1437</td>\n",
       "      <td>1452</td>\n",
       "      <td>0.592071</td>\n",
       "    </tr>\n",
       "    <tr>\n",
       "      <th>4157</th>\n",
       "      <td>2018</td>\n",
       "      <td>1437</td>\n",
       "      <td>1438</td>\n",
       "      <td>0.577763</td>\n",
       "    </tr>\n",
       "    <tr>\n",
       "      <th>4158</th>\n",
       "      <td>2018</td>\n",
       "      <td>1437</td>\n",
       "      <td>1439</td>\n",
       "      <td>0.769941</td>\n",
       "    </tr>\n",
       "    <tr>\n",
       "      <th>4159</th>\n",
       "      <td>2018</td>\n",
       "      <td>1437</td>\n",
       "      <td>1455</td>\n",
       "      <td>0.706788</td>\n",
       "    </tr>\n",
       "    <tr>\n",
       "      <th>4160</th>\n",
       "      <td>2018</td>\n",
       "      <td>1437</td>\n",
       "      <td>1460</td>\n",
       "      <td>0.845817</td>\n",
       "    </tr>\n",
       "    <tr>\n",
       "      <th>4161</th>\n",
       "      <td>2018</td>\n",
       "      <td>1437</td>\n",
       "      <td>1462</td>\n",
       "      <td>0.678779</td>\n",
       "    </tr>\n",
       "  </tbody>\n",
       "</table>\n",
       "</div>"
      ],
      "text/plain": [
       "      Season  Team  Opponent      Pred\n",
       "90      2018  1437      1452  0.592071\n",
       "4157    2018  1437      1438  0.577763\n",
       "4158    2018  1437      1439  0.769941\n",
       "4159    2018  1437      1455  0.706788\n",
       "4160    2018  1437      1460  0.845817\n",
       "4161    2018  1437      1462  0.678779"
      ]
     },
     "execution_count": 211,
     "metadata": {},
     "output_type": "execute_result"
    }
   ],
   "source": [
    "out = df_2018[['Season', 'Team', 'Opponent']].copy()\n",
    "out['Pred'] = probs_ens_final[:, 1]\n",
    "\n",
    "out_test1 = out[out['Team'] < out['Opponent']]\n",
    "out_test2 = out[out['Team'] > out['Opponent']]\n",
    "\n",
    "out_test1[(out_test1['Team'] == 1437)]"
   ]
  },
  {
   "cell_type": "code",
   "execution_count": 208,
   "metadata": {
    "scrolled": true
   },
   "outputs": [
    {
     "data": {
      "text/html": [
       "<div>\n",
       "<style>\n",
       "    .dataframe thead tr:only-child th {\n",
       "        text-align: right;\n",
       "    }\n",
       "\n",
       "    .dataframe thead th {\n",
       "        text-align: left;\n",
       "    }\n",
       "\n",
       "    .dataframe tbody tr th {\n",
       "        vertical-align: top;\n",
       "    }\n",
       "</style>\n",
       "<table border=\"1\" class=\"dataframe\">\n",
       "  <thead>\n",
       "    <tr style=\"text-align: right;\">\n",
       "      <th></th>\n",
       "      <th>Season</th>\n",
       "      <th>Team</th>\n",
       "      <th>Opponent</th>\n",
       "      <th>Pred</th>\n",
       "    </tr>\n",
       "  </thead>\n",
       "  <tbody>\n",
       "    <tr>\n",
       "      <th>85</th>\n",
       "      <td>2018</td>\n",
       "      <td>1437</td>\n",
       "      <td>1104</td>\n",
       "      <td>0.781100</td>\n",
       "    </tr>\n",
       "    <tr>\n",
       "      <th>92</th>\n",
       "      <td>2018</td>\n",
       "      <td>1439</td>\n",
       "      <td>1104</td>\n",
       "      <td>0.552062</td>\n",
       "    </tr>\n",
       "    <tr>\n",
       "      <th>198</th>\n",
       "      <td>2018</td>\n",
       "      <td>1112</td>\n",
       "      <td>1104</td>\n",
       "      <td>0.743798</td>\n",
       "    </tr>\n",
       "    <tr>\n",
       "      <th>264</th>\n",
       "      <td>2018</td>\n",
       "      <td>1113</td>\n",
       "      <td>1104</td>\n",
       "      <td>0.553457</td>\n",
       "    </tr>\n",
       "    <tr>\n",
       "      <th>330</th>\n",
       "      <td>2018</td>\n",
       "      <td>1116</td>\n",
       "      <td>1104</td>\n",
       "      <td>0.599123</td>\n",
       "    </tr>\n",
       "    <tr>\n",
       "      <th>396</th>\n",
       "      <td>2018</td>\n",
       "      <td>1120</td>\n",
       "      <td>1104</td>\n",
       "      <td>0.686473</td>\n",
       "    </tr>\n",
       "    <tr>\n",
       "      <th>461</th>\n",
       "      <td>2018</td>\n",
       "      <td>1137</td>\n",
       "      <td>1104</td>\n",
       "      <td>0.359350</td>\n",
       "    </tr>\n",
       "    <tr>\n",
       "      <th>527</th>\n",
       "      <td>2018</td>\n",
       "      <td>1138</td>\n",
       "      <td>1104</td>\n",
       "      <td>0.409440</td>\n",
       "    </tr>\n",
       "    <tr>\n",
       "      <th>592</th>\n",
       "      <td>2018</td>\n",
       "      <td>1139</td>\n",
       "      <td>1104</td>\n",
       "      <td>0.677553</td>\n",
       "    </tr>\n",
       "    <tr>\n",
       "      <th>657</th>\n",
       "      <td>2018</td>\n",
       "      <td>1153</td>\n",
       "      <td>1104</td>\n",
       "      <td>0.776792</td>\n",
       "    </tr>\n",
       "    <tr>\n",
       "      <th>722</th>\n",
       "      <td>2018</td>\n",
       "      <td>1155</td>\n",
       "      <td>1104</td>\n",
       "      <td>0.626394</td>\n",
       "    </tr>\n",
       "    <tr>\n",
       "      <th>786</th>\n",
       "      <td>2018</td>\n",
       "      <td>1158</td>\n",
       "      <td>1104</td>\n",
       "      <td>0.373693</td>\n",
       "    </tr>\n",
       "    <tr>\n",
       "      <th>852</th>\n",
       "      <td>2018</td>\n",
       "      <td>1166</td>\n",
       "      <td>1104</td>\n",
       "      <td>0.564316</td>\n",
       "    </tr>\n",
       "    <tr>\n",
       "      <th>918</th>\n",
       "      <td>2018</td>\n",
       "      <td>1168</td>\n",
       "      <td>1104</td>\n",
       "      <td>0.221558</td>\n",
       "    </tr>\n",
       "    <tr>\n",
       "      <th>984</th>\n",
       "      <td>2018</td>\n",
       "      <td>1172</td>\n",
       "      <td>1104</td>\n",
       "      <td>0.506064</td>\n",
       "    </tr>\n",
       "    <tr>\n",
       "      <th>1050</th>\n",
       "      <td>2018</td>\n",
       "      <td>1181</td>\n",
       "      <td>1104</td>\n",
       "      <td>0.829273</td>\n",
       "    </tr>\n",
       "    <tr>\n",
       "      <th>1113</th>\n",
       "      <td>2018</td>\n",
       "      <td>1196</td>\n",
       "      <td>1104</td>\n",
       "      <td>0.719428</td>\n",
       "    </tr>\n",
       "    <tr>\n",
       "      <th>1178</th>\n",
       "      <td>2018</td>\n",
       "      <td>1199</td>\n",
       "      <td>1104</td>\n",
       "      <td>0.611553</td>\n",
       "    </tr>\n",
       "    <tr>\n",
       "      <th>1241</th>\n",
       "      <td>2018</td>\n",
       "      <td>1209</td>\n",
       "      <td>1104</td>\n",
       "      <td>0.317475</td>\n",
       "    </tr>\n",
       "    <tr>\n",
       "      <th>1307</th>\n",
       "      <td>2018</td>\n",
       "      <td>1211</td>\n",
       "      <td>1104</td>\n",
       "      <td>0.763450</td>\n",
       "    </tr>\n",
       "    <tr>\n",
       "      <th>1371</th>\n",
       "      <td>2018</td>\n",
       "      <td>1222</td>\n",
       "      <td>1104</td>\n",
       "      <td>0.651926</td>\n",
       "    </tr>\n",
       "    <tr>\n",
       "      <th>1436</th>\n",
       "      <td>2018</td>\n",
       "      <td>1233</td>\n",
       "      <td>1104</td>\n",
       "      <td>0.265912</td>\n",
       "    </tr>\n",
       "    <tr>\n",
       "      <th>1502</th>\n",
       "      <td>2018</td>\n",
       "      <td>1242</td>\n",
       "      <td>1104</td>\n",
       "      <td>0.796815</td>\n",
       "    </tr>\n",
       "    <tr>\n",
       "      <th>1564</th>\n",
       "      <td>2018</td>\n",
       "      <td>1243</td>\n",
       "      <td>1104</td>\n",
       "      <td>0.586412</td>\n",
       "    </tr>\n",
       "    <tr>\n",
       "      <th>1627</th>\n",
       "      <td>2018</td>\n",
       "      <td>1246</td>\n",
       "      <td>1104</td>\n",
       "      <td>0.755010</td>\n",
       "    </tr>\n",
       "    <tr>\n",
       "      <th>1691</th>\n",
       "      <td>2018</td>\n",
       "      <td>1252</td>\n",
       "      <td>1104</td>\n",
       "      <td>0.223494</td>\n",
       "    </tr>\n",
       "    <tr>\n",
       "      <th>1757</th>\n",
       "      <td>2018</td>\n",
       "      <td>1254</td>\n",
       "      <td>1104</td>\n",
       "      <td>0.173384</td>\n",
       "    </tr>\n",
       "    <tr>\n",
       "      <th>1823</th>\n",
       "      <td>2018</td>\n",
       "      <td>1260</td>\n",
       "      <td>1104</td>\n",
       "      <td>0.496776</td>\n",
       "    </tr>\n",
       "    <tr>\n",
       "      <th>1885</th>\n",
       "      <td>2018</td>\n",
       "      <td>1267</td>\n",
       "      <td>1104</td>\n",
       "      <td>0.286193</td>\n",
       "    </tr>\n",
       "    <tr>\n",
       "      <th>1950</th>\n",
       "      <td>2018</td>\n",
       "      <td>1274</td>\n",
       "      <td>1104</td>\n",
       "      <td>0.624342</td>\n",
       "    </tr>\n",
       "    <tr>\n",
       "      <th>...</th>\n",
       "      <td>...</td>\n",
       "      <td>...</td>\n",
       "      <td>...</td>\n",
       "      <td>...</td>\n",
       "    </tr>\n",
       "    <tr>\n",
       "      <th>2472</th>\n",
       "      <td>2018</td>\n",
       "      <td>1305</td>\n",
       "      <td>1104</td>\n",
       "      <td>0.565001</td>\n",
       "    </tr>\n",
       "    <tr>\n",
       "      <th>2536</th>\n",
       "      <td>2018</td>\n",
       "      <td>1308</td>\n",
       "      <td>1104</td>\n",
       "      <td>0.526986</td>\n",
       "    </tr>\n",
       "    <tr>\n",
       "      <th>2602</th>\n",
       "      <td>2018</td>\n",
       "      <td>1314</td>\n",
       "      <td>1104</td>\n",
       "      <td>0.810040</td>\n",
       "    </tr>\n",
       "    <tr>\n",
       "      <th>2667</th>\n",
       "      <td>2018</td>\n",
       "      <td>1326</td>\n",
       "      <td>1104</td>\n",
       "      <td>0.720018</td>\n",
       "    </tr>\n",
       "    <tr>\n",
       "      <th>2732</th>\n",
       "      <td>2018</td>\n",
       "      <td>1328</td>\n",
       "      <td>1104</td>\n",
       "      <td>0.583668</td>\n",
       "    </tr>\n",
       "    <tr>\n",
       "      <th>2798</th>\n",
       "      <td>2018</td>\n",
       "      <td>1335</td>\n",
       "      <td>1104</td>\n",
       "      <td>0.269633</td>\n",
       "    </tr>\n",
       "    <tr>\n",
       "      <th>2864</th>\n",
       "      <td>2018</td>\n",
       "      <td>1344</td>\n",
       "      <td>1104</td>\n",
       "      <td>0.424130</td>\n",
       "    </tr>\n",
       "    <tr>\n",
       "      <th>2930</th>\n",
       "      <td>2018</td>\n",
       "      <td>1345</td>\n",
       "      <td>1104</td>\n",
       "      <td>0.749308</td>\n",
       "    </tr>\n",
       "    <tr>\n",
       "      <th>2994</th>\n",
       "      <td>2018</td>\n",
       "      <td>1347</td>\n",
       "      <td>1104</td>\n",
       "      <td>0.259584</td>\n",
       "    </tr>\n",
       "    <tr>\n",
       "      <th>3059</th>\n",
       "      <td>2018</td>\n",
       "      <td>1348</td>\n",
       "      <td>1104</td>\n",
       "      <td>0.635575</td>\n",
       "    </tr>\n",
       "    <tr>\n",
       "      <th>3124</th>\n",
       "      <td>2018</td>\n",
       "      <td>1355</td>\n",
       "      <td>1104</td>\n",
       "      <td>0.380020</td>\n",
       "    </tr>\n",
       "    <tr>\n",
       "      <th>3190</th>\n",
       "      <td>2018</td>\n",
       "      <td>1361</td>\n",
       "      <td>1104</td>\n",
       "      <td>0.517169</td>\n",
       "    </tr>\n",
       "    <tr>\n",
       "      <th>3256</th>\n",
       "      <td>2018</td>\n",
       "      <td>1371</td>\n",
       "      <td>1104</td>\n",
       "      <td>0.607873</td>\n",
       "    </tr>\n",
       "    <tr>\n",
       "      <th>3321</th>\n",
       "      <td>2018</td>\n",
       "      <td>1372</td>\n",
       "      <td>1104</td>\n",
       "      <td>0.390966</td>\n",
       "    </tr>\n",
       "    <tr>\n",
       "      <th>3387</th>\n",
       "      <td>2018</td>\n",
       "      <td>1382</td>\n",
       "      <td>1104</td>\n",
       "      <td>0.444355</td>\n",
       "    </tr>\n",
       "    <tr>\n",
       "      <th>3452</th>\n",
       "      <td>2018</td>\n",
       "      <td>1393</td>\n",
       "      <td>1104</td>\n",
       "      <td>0.647586</td>\n",
       "    </tr>\n",
       "    <tr>\n",
       "      <th>3515</th>\n",
       "      <td>2018</td>\n",
       "      <td>1395</td>\n",
       "      <td>1104</td>\n",
       "      <td>0.588455</td>\n",
       "    </tr>\n",
       "    <tr>\n",
       "      <th>3581</th>\n",
       "      <td>2018</td>\n",
       "      <td>1397</td>\n",
       "      <td>1104</td>\n",
       "      <td>0.654364</td>\n",
       "    </tr>\n",
       "    <tr>\n",
       "      <th>3646</th>\n",
       "      <td>2018</td>\n",
       "      <td>1400</td>\n",
       "      <td>1104</td>\n",
       "      <td>0.637470</td>\n",
       "    </tr>\n",
       "    <tr>\n",
       "      <th>3712</th>\n",
       "      <td>2018</td>\n",
       "      <td>1401</td>\n",
       "      <td>1104</td>\n",
       "      <td>0.591415</td>\n",
       "    </tr>\n",
       "    <tr>\n",
       "      <th>3776</th>\n",
       "      <td>2018</td>\n",
       "      <td>1403</td>\n",
       "      <td>1104</td>\n",
       "      <td>0.694135</td>\n",
       "    </tr>\n",
       "    <tr>\n",
       "      <th>3839</th>\n",
       "      <td>2018</td>\n",
       "      <td>1411</td>\n",
       "      <td>1104</td>\n",
       "      <td>0.168085</td>\n",
       "    </tr>\n",
       "    <tr>\n",
       "      <th>3904</th>\n",
       "      <td>2018</td>\n",
       "      <td>1417</td>\n",
       "      <td>1104</td>\n",
       "      <td>0.578543</td>\n",
       "    </tr>\n",
       "    <tr>\n",
       "      <th>3970</th>\n",
       "      <td>2018</td>\n",
       "      <td>1420</td>\n",
       "      <td>1104</td>\n",
       "      <td>0.204575</td>\n",
       "    </tr>\n",
       "    <tr>\n",
       "      <th>4035</th>\n",
       "      <td>2018</td>\n",
       "      <td>1422</td>\n",
       "      <td>1104</td>\n",
       "      <td>0.467716</td>\n",
       "    </tr>\n",
       "    <tr>\n",
       "      <th>4162</th>\n",
       "      <td>2018</td>\n",
       "      <td>1438</td>\n",
       "      <td>1104</td>\n",
       "      <td>0.744551</td>\n",
       "    </tr>\n",
       "    <tr>\n",
       "      <th>4294</th>\n",
       "      <td>2018</td>\n",
       "      <td>1452</td>\n",
       "      <td>1104</td>\n",
       "      <td>0.746452</td>\n",
       "    </tr>\n",
       "    <tr>\n",
       "      <th>4358</th>\n",
       "      <td>2018</td>\n",
       "      <td>1455</td>\n",
       "      <td>1104</td>\n",
       "      <td>0.657892</td>\n",
       "    </tr>\n",
       "    <tr>\n",
       "      <th>4424</th>\n",
       "      <td>2018</td>\n",
       "      <td>1460</td>\n",
       "      <td>1104</td>\n",
       "      <td>0.283163</td>\n",
       "    </tr>\n",
       "    <tr>\n",
       "      <th>4490</th>\n",
       "      <td>2018</td>\n",
       "      <td>1462</td>\n",
       "      <td>1104</td>\n",
       "      <td>0.689686</td>\n",
       "    </tr>\n",
       "  </tbody>\n",
       "</table>\n",
       "<p>67 rows × 4 columns</p>\n",
       "</div>"
      ],
      "text/plain": [
       "      Season  Team  Opponent      Pred\n",
       "85      2018  1437      1104  0.781100\n",
       "92      2018  1439      1104  0.552062\n",
       "198     2018  1112      1104  0.743798\n",
       "264     2018  1113      1104  0.553457\n",
       "330     2018  1116      1104  0.599123\n",
       "396     2018  1120      1104  0.686473\n",
       "461     2018  1137      1104  0.359350\n",
       "527     2018  1138      1104  0.409440\n",
       "592     2018  1139      1104  0.677553\n",
       "657     2018  1153      1104  0.776792\n",
       "722     2018  1155      1104  0.626394\n",
       "786     2018  1158      1104  0.373693\n",
       "852     2018  1166      1104  0.564316\n",
       "918     2018  1168      1104  0.221558\n",
       "984     2018  1172      1104  0.506064\n",
       "1050    2018  1181      1104  0.829273\n",
       "1113    2018  1196      1104  0.719428\n",
       "1178    2018  1199      1104  0.611553\n",
       "1241    2018  1209      1104  0.317475\n",
       "1307    2018  1211      1104  0.763450\n",
       "1371    2018  1222      1104  0.651926\n",
       "1436    2018  1233      1104  0.265912\n",
       "1502    2018  1242      1104  0.796815\n",
       "1564    2018  1243      1104  0.586412\n",
       "1627    2018  1246      1104  0.755010\n",
       "1691    2018  1252      1104  0.223494\n",
       "1757    2018  1254      1104  0.173384\n",
       "1823    2018  1260      1104  0.496776\n",
       "1885    2018  1267      1104  0.286193\n",
       "1950    2018  1274      1104  0.624342\n",
       "...      ...   ...       ...       ...\n",
       "2472    2018  1305      1104  0.565001\n",
       "2536    2018  1308      1104  0.526986\n",
       "2602    2018  1314      1104  0.810040\n",
       "2667    2018  1326      1104  0.720018\n",
       "2732    2018  1328      1104  0.583668\n",
       "2798    2018  1335      1104  0.269633\n",
       "2864    2018  1344      1104  0.424130\n",
       "2930    2018  1345      1104  0.749308\n",
       "2994    2018  1347      1104  0.259584\n",
       "3059    2018  1348      1104  0.635575\n",
       "3124    2018  1355      1104  0.380020\n",
       "3190    2018  1361      1104  0.517169\n",
       "3256    2018  1371      1104  0.607873\n",
       "3321    2018  1372      1104  0.390966\n",
       "3387    2018  1382      1104  0.444355\n",
       "3452    2018  1393      1104  0.647586\n",
       "3515    2018  1395      1104  0.588455\n",
       "3581    2018  1397      1104  0.654364\n",
       "3646    2018  1400      1104  0.637470\n",
       "3712    2018  1401      1104  0.591415\n",
       "3776    2018  1403      1104  0.694135\n",
       "3839    2018  1411      1104  0.168085\n",
       "3904    2018  1417      1104  0.578543\n",
       "3970    2018  1420      1104  0.204575\n",
       "4035    2018  1422      1104  0.467716\n",
       "4162    2018  1438      1104  0.744551\n",
       "4294    2018  1452      1104  0.746452\n",
       "4358    2018  1455      1104  0.657892\n",
       "4424    2018  1460      1104  0.283163\n",
       "4490    2018  1462      1104  0.689686\n",
       "\n",
       "[67 rows x 4 columns]"
      ]
     },
     "execution_count": 208,
     "metadata": {},
     "output_type": "execute_result"
    }
   ],
   "source": [
    "out_test2[(out_test2['Opponent'] == 1104)]"
   ]
  }
 ],
 "metadata": {
  "kernelspec": {
   "display_name": "Python 3",
   "language": "python",
   "name": "python3"
  },
  "language_info": {
   "codemirror_mode": {
    "name": "ipython",
    "version": 3
   },
   "file_extension": ".py",
   "mimetype": "text/x-python",
   "name": "python",
   "nbconvert_exporter": "python",
   "pygments_lexer": "ipython3",
   "version": "3.6.3"
  },
  "toc": {
   "base_numbering": 1,
   "nav_menu": {
    "height": "416px",
    "width": "375px"
   },
   "number_sections": true,
   "sideBar": true,
   "skip_h1_title": true,
   "title_cell": "Table of Contents",
   "title_sidebar": "Contents",
   "toc_cell": false,
   "toc_position": {
    "height": "calc(100% - 180px)",
    "left": "10px",
    "top": "150px",
    "width": "415px"
   },
   "toc_section_display": true,
   "toc_window_display": true
  }
 },
 "nbformat": 4,
 "nbformat_minor": 2
}
