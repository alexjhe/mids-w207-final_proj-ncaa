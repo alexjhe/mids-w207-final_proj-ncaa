{
 "cells": [
  {
   "cell_type": "markdown",
   "metadata": {
    "_cell_guid": "2c2cbfa4-4266-40b7-baa4-08726cd45a9f",
    "_uuid": "9853586a0dc75ce39e7c7ffcde1eb4d47c6fb02e"
   },
   "source": [
    "## Overview ##\n",
    "\n",
    "This is a starter notebook inspired by last year's [Logistic Regression on Tournament Seeds by Kasper P. Lauritzen](https://www.kaggle.com/kplauritzen/notebookde27b18258?scriptVersionId=804590) starter kernel. It creates a basic logistic regression model based on the seed differences between teams. \n",
    "\n",
    "Note that the predictions for Stage 1's sample submissions file are already based on known outcomes, and the Tourney data this model is trained on includes that data. For Stage 2, you will be predicting future outcomes based on the teams selected for the tournament on March 11."
   ]
  },
  {
   "cell_type": "code",
   "execution_count": null,
   "metadata": {
    "_cell_guid": "0c233e05-c63d-4866-96dc-bb38d444bf84",
    "_uuid": "5464dc4b196dc4c8dd0323bbd71b75724113e2af",
    "collapsed": true
   },
   "outputs": [],
   "source": [
    "# This Python 3 environment comes with many helpful analytics libraries installed\n",
    "# It is defined by the kaggle/python docker image: https://github.com/kaggle/docker-python\n",
    "# For example, here's several helpful packages to load in \n",
    "import numpy as np # linear algebra\n",
    "import pandas as pd # data processing, CSV file I/O (e.g. pd.read_csv)\n",
    "from sklearn.linear_model import LogisticRegression\n",
    "import matplotlib.pyplot as plt\n",
    "from sklearn.utils import shuffle\n",
    "from sklearn.model_selection import GridSearchCV\n",
    "\n",
    "# Input data files are available in the \"../input/\" directory.\n",
    "# For example, running this (by clicking run or pressing Shift+Enter) will list the files in the input directory\n",
    "\n",
    "from subprocess import check_output\n",
    "print(check_output([\"ls\", \"../input\"]).decode(\"utf8\"))\n",
    "\n",
    "# Any results you write to the current directory are saved as output.\n"
   ]
  },
  {
   "cell_type": "markdown",
   "metadata": {
    "_cell_guid": "3b6a7a15-4851-4b2c-bf31-68e6f4a26643",
    "_uuid": "819472385a23f3fd5aaf4172b4f8db227cf5271f"
   },
   "source": [
    "## Load the training data ##\n",
    "We're keeping it simple & using only 2 files for this model: the Tourney seeds & Compact results."
   ]
  },
  {
   "cell_type": "code",
   "execution_count": null,
   "metadata": {
    "_cell_guid": "4914f1e2-209e-476e-a077-2c97d583bcd8",
    "_uuid": "bf8ee168a0372e883332d6bb0ce5c89c13143650",
    "collapsed": true
   },
   "outputs": [],
   "source": [
    "data_dir = '../input/'\n",
    "df_seeds = pd.read_csv(data_dir + 'NCAATourneySeeds.csv')\n",
    "df_tour = pd.read_csv(data_dir + 'NCAATourneyCompactResults.csv')"
   ]
  },
  {
   "cell_type": "code",
   "execution_count": null,
   "metadata": {
    "_cell_guid": "391fca40-2f7a-410b-ad13-f0735aee41df",
    "_uuid": "9f32e5f9104b7f10d3de7b38d3f292aef045c30f",
    "collapsed": true
   },
   "outputs": [],
   "source": [
    "df_seeds.head()"
   ]
  },
  {
   "cell_type": "code",
   "execution_count": null,
   "metadata": {
    "_cell_guid": "04e4abd5-dc7e-4ed8-979f-a65fbe3bb381",
    "_uuid": "dcb3b4cc84f09ea5af4d52da4fd970928e14bfc1",
    "collapsed": true
   },
   "outputs": [],
   "source": [
    "df_tour.head()"
   ]
  },
  {
   "cell_type": "markdown",
   "metadata": {
    "_cell_guid": "d8ffd6a9-dffe-4cef-93f2-c4339627d683",
    "_uuid": "42f99f53dd385e23b09378e0de9d3fce5eb1a2e9"
   },
   "source": [
    "First, we'll simplify the datasets to remove the columns we won't be using and convert the seedings to the needed format (stripping the regional abbreviation in front of the seed)."
   ]
  },
  {
   "cell_type": "code",
   "execution_count": null,
   "metadata": {
    "_cell_guid": "6719f219-692f-4220-96fb-9f85104cf8e7",
    "_uuid": "fcb18269a41cfa257bd97c40664e43e701251bed",
    "collapsed": true
   },
   "outputs": [],
   "source": [
    "def seed_to_int(seed):\n",
    "    #Get just the digits from the seeding. Return as int\n",
    "    s_int = int(seed[1:3])\n",
    "    return s_int\n",
    "df_seeds['seed_int'] = df_seeds.Seed.apply(seed_to_int)\n",
    "df_seeds.drop(labels=['Seed'], inplace=True, axis=1) # This is the string label\n",
    "df_seeds.head()"
   ]
  },
  {
   "cell_type": "code",
   "execution_count": null,
   "metadata": {
    "_cell_guid": "8535ab7c-ccfa-427c-9b7d-7c9c4e94bb7b",
    "_uuid": "1f6ecb82fa587f5a95a6833cd224b01407f5c90a",
    "collapsed": true
   },
   "outputs": [],
   "source": [
    "df_tour.drop(labels=['DayNum', 'WScore', 'LScore', 'WLoc', 'NumOT'], inplace=True, axis=1)\n",
    "df_tour.head()"
   ]
  },
  {
   "cell_type": "markdown",
   "metadata": {
    "_cell_guid": "aa795150-b260-4b17-83c9-0ed132841434",
    "_uuid": "3f223cdf4446d6e9c77ab8319237f05393d1a822"
   },
   "source": [
    "## Merge seed for each team ##\n",
    "Merge the Seeds with their corresponding TeamIDs in the compact results dataframe."
   ]
  },
  {
   "cell_type": "code",
   "execution_count": null,
   "metadata": {
    "_cell_guid": "23fb0ccd-ba36-40b1-99ff-473d880b0915",
    "_uuid": "53638c1ae27cfb24d47e02007c293d5ee19ebdac",
    "collapsed": true
   },
   "outputs": [],
   "source": [
    "df_winseeds = df_seeds.rename(columns={'TeamID':'WTeamID', 'seed_int':'WSeed'})\n",
    "df_lossseeds = df_seeds.rename(columns={'TeamID':'LTeamID', 'seed_int':'LSeed'})\n",
    "df_dummy = pd.merge(left=df_tour, right=df_winseeds, how='left', on=['Season', 'WTeamID'])\n",
    "df_concat = pd.merge(left=df_dummy, right=df_lossseeds, on=['Season', 'LTeamID'])\n",
    "df_concat['SeedDiff'] = df_concat.WSeed - df_concat.LSeed\n",
    "df_concat.head()"
   ]
  },
  {
   "cell_type": "markdown",
   "metadata": {
    "_cell_guid": "3d234dd1-9648-46b7-92f6-a2243c58ef2c",
    "_uuid": "1c82f60c02545c8c46ab090cb8cefca48e48e434"
   },
   "source": [
    "Now we'll create a dataframe that summarizes wins & losses along with their corresponding seed differences. This is the meat of what we'll be creating our model on."
   ]
  },
  {
   "cell_type": "code",
   "execution_count": null,
   "metadata": {
    "_cell_guid": "bb9b9f35-b28e-4faf-9d2e-2f15957c05a6",
    "_uuid": "1a40000e85c0dd9d2be6850a767acd736bf5f182",
    "collapsed": true
   },
   "outputs": [],
   "source": [
    "df_wins = pd.DataFrame()\n",
    "df_wins['SeedDiff'] = df_concat['SeedDiff']\n",
    "df_wins['Result'] = 1\n",
    "\n",
    "df_losses = pd.DataFrame()\n",
    "df_losses['SeedDiff'] = -df_concat['SeedDiff']\n",
    "df_losses['Result'] = 0\n",
    "\n",
    "df_predictions = pd.concat((df_wins, df_losses))\n",
    "df_predictions.head()"
   ]
  },
  {
   "cell_type": "code",
   "execution_count": null,
   "metadata": {
    "_cell_guid": "6ade2ac5-30b0-49a6-a99b-4da474158542",
    "_uuid": "3cf1b39303c44e73a3fa0f813a9580e91eca6b0b",
    "collapsed": true
   },
   "outputs": [],
   "source": [
    "X_train = df_predictions.SeedDiff.values.reshape(-1,1)\n",
    "y_train = df_predictions.Result.values\n",
    "X_train, y_train = shuffle(X_train, y_train)"
   ]
  },
  {
   "cell_type": "markdown",
   "metadata": {
    "_cell_guid": "0c696bcc-7d07-45e7-8439-c3ea655bfcb9",
    "_uuid": "563937f42bcccd2bbfb8fc1a66a72a9ca1351f43"
   },
   "source": [
    "## Train the model ##\n",
    "Use a basic logistic regression to train the model. You can set different C values to see how performance changes."
   ]
  },
  {
   "cell_type": "code",
   "execution_count": null,
   "metadata": {
    "_cell_guid": "8842f2d8-7c52-4285-8991-21616ca74879",
    "_uuid": "95f817451eae9b72dc237e734e19c929be136d50",
    "collapsed": true
   },
   "outputs": [],
   "source": [
    "logreg = LogisticRegression()\n",
    "params = {'C': np.logspace(start=-5, stop=3, num=9)}\n",
    "clf = GridSearchCV(logreg, params, scoring='neg_log_loss', refit=True)\n",
    "clf.fit(X_train, y_train)\n",
    "print('Best log_loss: {:.4}, with best C: {}'.format(clf.best_score_, clf.best_params_['C']))"
   ]
  },
  {
   "cell_type": "code",
   "execution_count": null,
   "metadata": {
    "_cell_guid": "0657c37d-e5ad-4a2d-94e2-33ba2695895f",
    "_uuid": "37e01a2b50f69e1f6a0aeaa50c7593d8cae15b1b",
    "collapsed": true
   },
   "outputs": [],
   "source": [
    "X = np.arange(-10, 10).reshape(-1, 1)\n",
    "preds = clf.predict_proba(X)[:,1]\n",
    "\n",
    "plt.plot(X, preds)\n",
    "plt.xlabel('Team1 seed - Team2 seed')\n",
    "plt.ylabel('P(Team1 will win)')"
   ]
  },
  {
   "cell_type": "markdown",
   "metadata": {
    "_cell_guid": "9ec0a01b-7371-4075-8b34-96bb96f3c105",
    "_uuid": "3e8270e8638b6f78317b7f787cc0259af682dba7"
   },
   "source": [
    "Plotting validates our intuition, that the probability a team will win decreases as the seed differential to its opponent decreases."
   ]
  },
  {
   "cell_type": "code",
   "execution_count": null,
   "metadata": {
    "_cell_guid": "761b6b08-bf4a-4085-94a5-0768e78f96d9",
    "_uuid": "cd5a427eca09adda4e9a42a88208b683020a1f8d",
    "collapsed": true
   },
   "outputs": [],
   "source": [
    "df_sample_sub = pd.read_csv(data_dir + 'SampleSubmissionStage1.csv')\n",
    "n_test_games = len(df_sample_sub)\n",
    "\n",
    "def get_year_t1_t2(ID):\n",
    "    \"\"\"Return a tuple with ints `year`, `team1` and `team2`.\"\"\"\n",
    "    return (int(x) for x in ID.split('_'))"
   ]
  },
  {
   "cell_type": "code",
   "execution_count": null,
   "metadata": {
    "_cell_guid": "28103d69-5887-4ece-b519-4488229ef446",
    "_uuid": "72d64ebc20c903660108ae9c529be07859396909",
    "collapsed": true
   },
   "outputs": [],
   "source": [
    "X_test = np.zeros(shape=(n_test_games, 1))\n",
    "for ii, row in df_sample_sub.iterrows():\n",
    "    year, t1, t2 = get_year_t1_t2(row.ID)\n",
    "    t1_seed = df_seeds[(df_seeds.TeamID == t1) & (df_seeds.Season == year)].seed_int.values[0]\n",
    "    t2_seed = df_seeds[(df_seeds.TeamID == t2) & (df_seeds.Season == year)].seed_int.values[0]\n",
    "    diff_seed = t1_seed - t2_seed\n",
    "    X_test[ii, 0] = diff_seed"
   ]
  },
  {
   "cell_type": "markdown",
   "metadata": {
    "_cell_guid": "ea1906b5-758a-46c8-89f2-2a4b892ab124",
    "_uuid": "375748512c55520e00ffd5701c82704856478370"
   },
   "source": [
    "## Make Predictions ##\n",
    "Create predictions using the logistic regression model we trained."
   ]
  },
  {
   "cell_type": "code",
   "execution_count": null,
   "metadata": {
    "_cell_guid": "4d742fc5-6339-42a8-8b3e-c57b1717149b",
    "_uuid": "65dc063a2e9c5e447d800556f7cf67b26b7cbedb",
    "collapsed": true
   },
   "outputs": [],
   "source": [
    "preds = clf.predict_proba(X_test)[:,1]\n",
    "\n",
    "clipped_preds = np.clip(preds, 0.05, 0.95)\n",
    "df_sample_sub.Pred = clipped_preds\n",
    "df_sample_sub.head()"
   ]
  },
  {
   "cell_type": "markdown",
   "metadata": {
    "_cell_guid": "e91a87ea-349b-4602-9df0-7470047125f7",
    "_uuid": "3f4ef6ab893953a811462d240778205c2fdecf97"
   },
   "source": [
    "Lastly, create your submission file!"
   ]
  },
  {
   "cell_type": "code",
   "execution_count": null,
   "metadata": {
    "_cell_guid": "6eab67ec-c81c-46a4-8bac-d5680176dd38",
    "_uuid": "7c784a9b62d889e83493b70efa17bd233f9abff4",
    "collapsed": true
   },
   "outputs": [],
   "source": [
    "df_sample_sub.to_csv('logreg_seed_starter.csv', index=False)"
   ]
  },
  {
   "cell_type": "code",
   "execution_count": null,
   "metadata": {
    "_cell_guid": "fcb4dd11-0045-4d8b-9ea9-4f958227d659",
    "_uuid": "9bd9fb4b53f7ac346941c10654a7cf63b58dfe52",
    "collapsed": true
   },
   "outputs": [],
   "source": [
    "# baseline submission 1 - all 0.5\n",
    "sub1 = df_sample_sub.copy()\n",
    "sub1['Pred'] = 0.5\n",
    "sub1.to_csv('baseline_v01.csv', index=False)\n",
    "\n",
    "# baseline submission 2 - all 1\n",
    "sub2 = df_sample_sub.copy()\n",
    "sub2['Pred'] = 1\n",
    "sub2.to_csv('baseline_v02.csv', index=False)\n",
    "\n",
    "# baseline submission 3 - random uniform\n",
    "sub3 = df_sample_sub.copy()\n",
    "sub3['Pred'] = np.random.uniform(size = sub3.shape[0])\n",
    "sub3.to_csv('baseline_v03.csv', index=False)\n"
   ]
  }
 ],
 "metadata": {
  "kernelspec": {
   "display_name": "Python 3",
   "language": "python",
   "name": "python3"
  },
  "language_info": {
   "codemirror_mode": {
    "name": "ipython",
    "version": 3
   },
   "file_extension": ".py",
   "mimetype": "text/x-python",
   "name": "python",
   "nbconvert_exporter": "python",
   "pygments_lexer": "ipython3",
   "version": "3.6.3"
  }
 },
 "nbformat": 4,
 "nbformat_minor": 1
}
