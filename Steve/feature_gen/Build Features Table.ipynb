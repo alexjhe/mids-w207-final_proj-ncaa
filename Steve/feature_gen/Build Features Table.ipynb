{
 "cells": [
  {
   "cell_type": "markdown",
   "metadata": {},
   "source": [
    "# Create Prod Features Table"
   ]
  },
  {
   "cell_type": "code",
   "execution_count": 1,
   "metadata": {
    "collapsed": true
   },
   "outputs": [],
   "source": [
    "import psycopg2 as pg\n",
    "import pandas as pd\n",
    "import numpy as np\n",
    "\n",
    "from psycopg2.extras import execute_values"
   ]
  },
  {
   "cell_type": "markdown",
   "metadata": {},
   "source": [
    "## Pull Raw Data Regular Season Games"
   ]
  },
  {
   "cell_type": "code",
   "execution_count": 2,
   "metadata": {
    "collapsed": true
   },
   "outputs": [],
   "source": [
    "conn = pg.connect(database='postgres',\n",
    "                  user='postgres',\n",
    "                  password='w207final',\n",
    "                  host='35.185.225.167')\n",
    "\n",
    "# pull regular season and tourney data to build indexes\n",
    "query = '''\n",
    "    SELECT \"Season\", \"DayNum\", \"WTeamID\", \"LTeamID\"\n",
    "    FROM prod.\"RegSeasonDetailedResults\"\n",
    "    '''\n",
    "\n",
    "df = pd.read_sql_query(query, conn)\n",
    "conn.close()"
   ]
  },
  {
   "cell_type": "code",
   "execution_count": 3,
   "metadata": {
    "collapsed": true
   },
   "outputs": [],
   "source": [
    "# create win/loss column\n",
    "# set team1 and team2 with the same rules as the prediction csv files\n",
    "# e.g. team1 is always the lower numbered team\n",
    "df['Outcome'] = np.where(df['WTeamID'] < df['LTeamID'], 1, 0)\n",
    "df['Team1'] = np.where(df['Outcome'] == 1, df['WTeamID'], df['LTeamID'])\n",
    "df['Team2'] = np.where(df['Outcome'] == 1, df['LTeamID'], df['WTeamID'])"
   ]
  },
  {
   "cell_type": "code",
   "execution_count": 4,
   "metadata": {
    "collapsed": true
   },
   "outputs": [],
   "source": [
    "# vertical stack data so every team has row\n",
    "tmp1 = df[['Season', 'DayNum', 'Team1', 'Team2', 'Outcome']].copy()\n",
    "tmp1.rename(columns={'Team1': 'Team', 'Team2': 'Opponent'}, inplace=True)\n",
    "\n",
    "tmp2 = df[['Season', 'DayNum', 'Team1', 'Team2', 'Outcome']].copy()\n",
    "tmp2.rename(columns={'Team2': 'Team', 'Team1': 'Opponent'}, inplace=True)\n",
    "tmp2['Outcome'] = 1 - tmp2['Outcome'] # inverse outcome since we reverse team/opponent\n",
    "\n",
    "df_final = pd.concat((tmp1, tmp2))"
   ]
  },
  {
   "cell_type": "code",
   "execution_count": 6,
   "metadata": {
    "scrolled": false
   },
   "outputs": [
    {
     "data": {
      "text/plain": [
       "(164082, 5)"
      ]
     },
     "execution_count": 6,
     "metadata": {},
     "output_type": "execute_result"
    }
   ],
   "source": [
    "df_final.head()\n",
    "# df_final.shape"
   ]
  },
  {
   "cell_type": "markdown",
   "metadata": {},
   "source": [
    "### Parse and Insert Regular Season Games"
   ]
  },
  {
   "cell_type": "code",
   "execution_count": 9,
   "metadata": {
    "collapsed": true
   },
   "outputs": [],
   "source": [
    "datarows = []\n",
    "for i in df_final.itertuples(index=False):\n",
    "    row = (int(i.Season), int(i.DayNum), int(i.Team), int(i.Opponent), int(i.Outcome))\n",
    "    datarows.append(row)"
   ]
  },
  {
   "cell_type": "code",
   "execution_count": 11,
   "metadata": {},
   "outputs": [
    {
     "name": "stdout",
     "output_type": "stream",
     "text": [
      "duplicate key value violates unique constraint \"features_pkey\"\n",
      "DETAIL:  Key (\"Season\", \"DayNum\", \"Team\", \"Opponent\")=(2003, 10, 1104, 1328) already exists.\n",
      "\n",
      "To force update use ON CONFLICT DO NOTHING\n"
     ]
    }
   ],
   "source": [
    "insert = '''\n",
    "    INSERT INTO prod.features (\n",
    "        \"Season\", \"DayNum\", \"Team\", \"Opponent\", \"Outcome\"\n",
    "    )\n",
    "    VALUES %s\n",
    "    -- ON CONFLICT DO NOTHING\n",
    "'''\n",
    "\n",
    "conn = pg.connect(database='postgres',\n",
    "                  user='postgres',\n",
    "                  password='w207final',\n",
    "                  host='35.185.225.167')\n",
    "\n",
    "c = conn.cursor()\n",
    "try:\n",
    "    execute_values(c, insert, datarows, page_size=5000)\n",
    "    conn.commit()\n",
    "    conn.close()\n",
    "except pg.IntegrityError as e:\n",
    "    print(e)\n",
    "    print(\"To force update use ON CONFLICT DO NOTHING\")\n",
    "    conn.close()"
   ]
  },
  {
   "cell_type": "markdown",
   "metadata": {},
   "source": [
    "## Pull Raw Data NCAA Tourney Games"
   ]
  },
  {
   "cell_type": "code",
   "execution_count": 12,
   "metadata": {
    "collapsed": true
   },
   "outputs": [],
   "source": [
    "conn = pg.connect(database='postgres',\n",
    "                  user='postgres',\n",
    "                  password='w207final',\n",
    "                  host='35.185.225.167')\n",
    "\n",
    "# pull regular season and tourney data to build indexes\n",
    "query = '''\n",
    "    SELECT \"Season\", \"DayNum\", \"WTeamID\", \"LTeamID\"\n",
    "    FROM prod.\"TourneyDetailedResults\"\n",
    "    '''\n",
    "\n",
    "df = pd.read_sql_query(query, conn)\n",
    "conn.close()"
   ]
  },
  {
   "cell_type": "code",
   "execution_count": 13,
   "metadata": {
    "collapsed": true
   },
   "outputs": [],
   "source": [
    "# create win/loss column\n",
    "# set team1 and team2 with the same rules as the prediction csv files\n",
    "# e.g. team1 is always the lower numbered team\n",
    "df['Outcome'] = np.where(df['WTeamID'] < df['LTeamID'], 1, 0)\n",
    "df['Team1'] = np.where(df['Outcome'] == 1, df['WTeamID'], df['LTeamID'])\n",
    "df['Team2'] = np.where(df['Outcome'] == 1, df['LTeamID'], df['WTeamID'])"
   ]
  },
  {
   "cell_type": "code",
   "execution_count": 14,
   "metadata": {
    "collapsed": true
   },
   "outputs": [],
   "source": [
    "# vertical stack data so every team has row\n",
    "tmp1 = df[['Season', 'DayNum', 'Team1', 'Team2', 'Outcome']].copy()\n",
    "tmp1.rename(columns={'Team1': 'Team', 'Team2': 'Opponent'}, inplace=True)\n",
    "\n",
    "tmp2 = df[['Season', 'DayNum', 'Team1', 'Team2', 'Outcome']].copy()\n",
    "tmp2.rename(columns={'Team2': 'Team', 'Team1': 'Opponent'}, inplace=True)\n",
    "tmp2['Outcome'] = 1 - tmp2['Outcome'] # inverse outcome since we reverse team/opponent\n",
    "\n",
    "df_final = pd.concat((tmp1, tmp2))"
   ]
  },
  {
   "cell_type": "code",
   "execution_count": 16,
   "metadata": {
    "scrolled": true
   },
   "outputs": [
    {
     "data": {
      "text/html": [
       "<div>\n",
       "<style>\n",
       "    .dataframe thead tr:only-child th {\n",
       "        text-align: right;\n",
       "    }\n",
       "\n",
       "    .dataframe thead th {\n",
       "        text-align: left;\n",
       "    }\n",
       "\n",
       "    .dataframe tbody tr th {\n",
       "        vertical-align: top;\n",
       "    }\n",
       "</style>\n",
       "<table border=\"1\" class=\"dataframe\">\n",
       "  <thead>\n",
       "    <tr style=\"text-align: right;\">\n",
       "      <th></th>\n",
       "      <th>DayNum</th>\n",
       "      <th>Opponent</th>\n",
       "      <th>Outcome</th>\n",
       "      <th>Season</th>\n",
       "      <th>Team</th>\n",
       "    </tr>\n",
       "  </thead>\n",
       "  <tbody>\n",
       "    <tr>\n",
       "      <th>0</th>\n",
       "      <td>134</td>\n",
       "      <td>1421</td>\n",
       "      <td>0</td>\n",
       "      <td>2003</td>\n",
       "      <td>1411</td>\n",
       "    </tr>\n",
       "    <tr>\n",
       "      <th>1</th>\n",
       "      <td>136</td>\n",
       "      <td>1436</td>\n",
       "      <td>1</td>\n",
       "      <td>2003</td>\n",
       "      <td>1112</td>\n",
       "    </tr>\n",
       "    <tr>\n",
       "      <th>2</th>\n",
       "      <td>136</td>\n",
       "      <td>1272</td>\n",
       "      <td>1</td>\n",
       "      <td>2003</td>\n",
       "      <td>1113</td>\n",
       "    </tr>\n",
       "    <tr>\n",
       "      <th>3</th>\n",
       "      <td>136</td>\n",
       "      <td>1166</td>\n",
       "      <td>1</td>\n",
       "      <td>2003</td>\n",
       "      <td>1141</td>\n",
       "    </tr>\n",
       "    <tr>\n",
       "      <th>4</th>\n",
       "      <td>136</td>\n",
       "      <td>1301</td>\n",
       "      <td>1</td>\n",
       "      <td>2003</td>\n",
       "      <td>1143</td>\n",
       "    </tr>\n",
       "  </tbody>\n",
       "</table>\n",
       "</div>"
      ],
      "text/plain": [
       "   DayNum  Opponent  Outcome  Season  Team\n",
       "0     134      1421        0    2003  1411\n",
       "1     136      1436        1    2003  1112\n",
       "2     136      1272        1    2003  1113\n",
       "3     136      1166        1    2003  1141\n",
       "4     136      1301        1    2003  1143"
      ]
     },
     "execution_count": 16,
     "metadata": {},
     "output_type": "execute_result"
    }
   ],
   "source": [
    "df_final.head()\n",
    "# df_final.shape"
   ]
  },
  {
   "cell_type": "markdown",
   "metadata": {},
   "source": [
    "## Parse and Insert NCAA Tourney Games"
   ]
  },
  {
   "cell_type": "code",
   "execution_count": 17,
   "metadata": {
    "collapsed": true
   },
   "outputs": [],
   "source": [
    "datarows = []\n",
    "for i in df_final.itertuples(index=False):\n",
    "    row = (int(i.Season), int(i.DayNum), int(i.Team), int(i.Opponent), int(i.Outcome))\n",
    "    datarows.append(row)"
   ]
  },
  {
   "cell_type": "code",
   "execution_count": 20,
   "metadata": {},
   "outputs": [
    {
     "name": "stdout",
     "output_type": "stream",
     "text": [
      "duplicate key value violates unique constraint \"features_pkey\"\n",
      "DETAIL:  Key (\"Season\", \"DayNum\", \"Team\", \"Opponent\")=(2003, 134, 1411, 1421) already exists.\n",
      "\n",
      "To force update use ON CONFLICT DO NOTHING\n"
     ]
    }
   ],
   "source": [
    "insert = '''\n",
    "    INSERT INTO prod.features (\n",
    "        \"Season\", \"DayNum\", \"Team\", \"Opponent\", \"Outcome\"\n",
    "    )\n",
    "    VALUES %s\n",
    "    -- ON CONFLICT DO NOTHING\n",
    "'''\n",
    "\n",
    "conn = pg.connect(database='postgres',\n",
    "                  user='postgres',\n",
    "                  password='w207final',\n",
    "                  host='35.185.225.167')\n",
    "\n",
    "c = conn.cursor()\n",
    "try:\n",
    "    execute_values(c, insert, datarows, page_size=5000)\n",
    "    conn.commit()\n",
    "    conn.close()\n",
    "except pg.IntegrityError as e:\n",
    "    print(e)\n",
    "    print(\"To force update use ON CONFLICT DO NOTHING\")\n",
    "    conn.close()"
   ]
  },
  {
   "cell_type": "markdown",
   "metadata": {
    "collapsed": true
   },
   "source": [
    "## Add Game Attributes\n",
    "\n",
    "These are important attributes about the games that are listed in the features table.\n",
    "\n",
    "Using file description from \"Data Section 1\" on Kaggle to use DayNum to determine regular season versus NCAA tourney games."
   ]
  },
  {
   "cell_type": "code",
   "execution_count": 21,
   "metadata": {
    "collapsed": true
   },
   "outputs": [],
   "source": [
    "update1 = '''\n",
    "    UPDATE prod.features\n",
    "    SET \"Season Type\" = 'Regular'\n",
    "    WHERE \"DayNum\" >= 0 and \"DayNum\" <= 132\n",
    "'''\n",
    "\n",
    "update2 = '''\n",
    "    UPDATE prod.features\n",
    "    SET \"Season Type\" = 'NCAA Tourney'\n",
    "    WHERE \"DayNum\" >= 134 and \"DayNum\" <= 154\n",
    "'''\n",
    "\n",
    "conn = pg.connect(database='postgres',\n",
    "                  user='postgres',\n",
    "                  password='w207final',\n",
    "                  host='35.185.225.167')\n",
    "\n",
    "c = conn.cursor()\n",
    "c.execute(update1)\n",
    "c.execute(update2)\n",
    "conn.commit()\n",
    "conn.close()"
   ]
  },
  {
   "cell_type": "markdown",
   "metadata": {},
   "source": [
    "### Stage 1 Holdout Period"
   ]
  },
  {
   "cell_type": "code",
   "execution_count": 22,
   "metadata": {
    "collapsed": true
   },
   "outputs": [],
   "source": [
    "alter = 'ALTER TABLE prod.features ADD COLUMN IF NOT EXISTS holdout_s1 int'\n",
    "update1 = '''\n",
    "    UPDATE prod.features\n",
    "      SET holdout_s1 = (CASE\n",
    "        WHEN \"Season\" >= 2014 and \"Season\" <= 2017 THEN 1\n",
    "        ELSE 0\n",
    "        END\n",
    "      )\n",
    "      WHERE \"Season Type\" = 'NCAA Tourney'\n",
    "'''\n",
    "conn = pg.connect(database='postgres',\n",
    "                  user='postgres',\n",
    "                  password='w207final',\n",
    "                  host='35.185.225.167')\n",
    "\n",
    "c = conn.cursor()\n",
    "c.execute(alter)\n",
    "c.execute(update1)\n",
    "conn.commit()\n",
    "conn.close()"
   ]
  },
  {
   "cell_type": "markdown",
   "metadata": {},
   "source": [
    "### Stage 2 Holdout Period"
   ]
  },
  {
   "cell_type": "code",
   "execution_count": 23,
   "metadata": {
    "collapsed": true
   },
   "outputs": [],
   "source": [
    "alter = 'ALTER TABLE prod.features ADD COLUMN IF NOT EXISTS holdout_s2 int'\n",
    "update1 = '''\n",
    "    UPDATE prod.features\n",
    "      SET holdout_s2 = (CASE\n",
    "        WHEN \"Season\" = 2018 THEN 1\n",
    "        ELSE 0\n",
    "        END\n",
    "      )\n",
    "      WHERE \"Season Type\" = 'NCAA Tourney'\n",
    "'''\n",
    "conn = pg.connect(database='postgres',\n",
    "                  user='postgres',\n",
    "                  password='w207final',\n",
    "                  host='35.185.225.167')\n",
    "\n",
    "c = conn.cursor()\n",
    "c.execute(alter)\n",
    "c.execute(update1)\n",
    "conn.commit()\n",
    "conn.close()"
   ]
  },
  {
   "cell_type": "markdown",
   "metadata": {},
   "source": [
    "## Create and Insert Features"
   ]
  },
  {
   "cell_type": "markdown",
   "metadata": {},
   "source": [
    "1. Regular Season Win Percentage\n",
    "2. Regular Season Opponents Win Percentage\n",
    "3. Regular Season Win Percentage Differential\n",
    "4. Conference\n",
    "5. Conference Difficulty per Season\n",
    "6. Schedule Difficulty\n",
    "7. NCAA Tourney Seed Differential"
   ]
  },
  {
   "cell_type": "code",
   "execution_count": null,
   "metadata": {
    "collapsed": true
   },
   "outputs": [],
   "source": []
  },
  {
   "cell_type": "code",
   "execution_count": null,
   "metadata": {
    "collapsed": true
   },
   "outputs": [],
   "source": []
  }
 ],
 "metadata": {
  "kernelspec": {
   "display_name": "Python 3",
   "language": "python",
   "name": "python3"
  },
  "language_info": {
   "codemirror_mode": {
    "name": "ipython",
    "version": 3
   },
   "file_extension": ".py",
   "mimetype": "text/x-python",
   "name": "python",
   "nbconvert_exporter": "python",
   "pygments_lexer": "ipython3",
   "version": "3.6.3"
  }
 },
 "nbformat": 4,
 "nbformat_minor": 2
}
