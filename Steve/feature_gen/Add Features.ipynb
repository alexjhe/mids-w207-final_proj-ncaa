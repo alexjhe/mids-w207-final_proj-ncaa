{
 "cells": [
  {
   "cell_type": "markdown",
   "metadata": {},
   "source": [
    "# Add Features"
   ]
  },
  {
   "cell_type": "code",
   "execution_count": 77,
   "metadata": {
    "collapsed": true
   },
   "outputs": [],
   "source": [
    "import psycopg2 as pg\n",
    "import pandas as pd\n",
    "import numpy as np\n",
    "\n",
    "from psycopg2.extras import execute_values"
   ]
  },
  {
   "cell_type": "markdown",
   "metadata": {},
   "source": [
    "1. Regular Season Win Percentage\n",
    "2. Regular Season Opponents Win Percentage\n",
    "3. Regular Season Win Percentage Differential\n",
    "4. Conference\n",
    "5. Conference Difficulty per Season\n",
    "6. Schedule Difficulty\n",
    "7. NCAA Tourney Seed Differential"
   ]
  },
  {
   "cell_type": "markdown",
   "metadata": {},
   "source": [
    "## Win Percentage"
   ]
  },
  {
   "cell_type": "code",
   "execution_count": 78,
   "metadata": {
    "collapsed": true
   },
   "outputs": [],
   "source": [
    "conn = pg.connect(database='postgres',\n",
    "                  user='postgres',\n",
    "                  password='w207final',\n",
    "                  host='35.185.225.167')\n",
    "\n",
    "# pull regular season and tourney data to build indexes\n",
    "query = '''\n",
    "    SELECT \"Season\", \"DayNum\", \"Team\", \"Outcome\"\n",
    "    FROM prod.features\n",
    "    WHERE \"Season Type\" = 'Regular'\n",
    "'''\n",
    "\n",
    "df = pd.read_sql_query(query, conn)\n",
    "conn.close()"
   ]
  },
  {
   "cell_type": "code",
   "execution_count": 79,
   "metadata": {},
   "outputs": [
    {
     "data": {
      "text/plain": [
       "(164082, 4)"
      ]
     },
     "execution_count": 79,
     "metadata": {},
     "output_type": "execute_result"
    }
   ],
   "source": [
    "df.shape"
   ]
  },
  {
   "cell_type": "code",
   "execution_count": 80,
   "metadata": {},
   "outputs": [],
   "source": [
    "# wins per team\n",
    "wins = df[['Season', 'Team', 'Outcome']].groupby(by=[\"Season\", \"Team\"]).agg(['sum', 'count'])\n",
    "wins.reset_index(inplace=True)\n",
    "wins.columns = [' '.join(col).strip() for col in wins.columns.values]\n",
    "wins.rename(columns={'Outcome sum': 'wins', 'Outcome count': 'games'}, inplace=True)\n",
    "wins['winpct'] = wins['wins'] / wins['games']"
   ]
  },
  {
   "cell_type": "code",
   "execution_count": 81,
   "metadata": {},
   "outputs": [
    {
     "data": {
      "text/plain": [
       "(5481, 5)"
      ]
     },
     "execution_count": 81,
     "metadata": {},
     "output_type": "execute_result"
    }
   ],
   "source": [
    "wins.head()\n",
    "wins.shape"
   ]
  },
  {
   "cell_type": "code",
   "execution_count": 82,
   "metadata": {},
   "outputs": [],
   "source": [
    "# pull tourney matchups\n",
    "conn = pg.connect(database='postgres',\n",
    "                  user='postgres',\n",
    "                  password='w207final',\n",
    "                  host='35.185.225.167')\n",
    "\n",
    "query = '''\n",
    "    SELECT DISTINCT \"Season\", \"Team\", \"Opponent\"\n",
    "    FROM prod.features\n",
    "    WHERE \"Season Type\" = 'NCAA Tourney'\n",
    "'''\n",
    "\n",
    "matchups = pd.read_sql_query(query, conn)"
   ]
  },
  {
   "cell_type": "code",
   "execution_count": 83,
   "metadata": {
    "scrolled": true
   },
   "outputs": [
    {
     "data": {
      "text/plain": [
       "(6518, 3)"
      ]
     },
     "execution_count": 83,
     "metadata": {},
     "output_type": "execute_result"
    }
   ],
   "source": [
    "matchups.head()\n",
    "matchups.shape"
   ]
  },
  {
   "cell_type": "code",
   "execution_count": 84,
   "metadata": {},
   "outputs": [
    {
     "data": {
      "text/html": [
       "<div>\n",
       "<style>\n",
       "    .dataframe thead tr:only-child th {\n",
       "        text-align: right;\n",
       "    }\n",
       "\n",
       "    .dataframe thead th {\n",
       "        text-align: left;\n",
       "    }\n",
       "\n",
       "    .dataframe tbody tr th {\n",
       "        vertical-align: top;\n",
       "    }\n",
       "</style>\n",
       "<table border=\"1\" class=\"dataframe\">\n",
       "  <thead>\n",
       "    <tr style=\"text-align: right;\">\n",
       "      <th></th>\n",
       "      <th>Season</th>\n",
       "      <th>Opponent</th>\n",
       "      <th>OpponentWinpct</th>\n",
       "    </tr>\n",
       "  </thead>\n",
       "  <tbody>\n",
       "    <tr>\n",
       "      <th>0</th>\n",
       "      <td>2003</td>\n",
       "      <td>1102</td>\n",
       "      <td>0.428571</td>\n",
       "    </tr>\n",
       "    <tr>\n",
       "      <th>1</th>\n",
       "      <td>2003</td>\n",
       "      <td>1103</td>\n",
       "      <td>0.481481</td>\n",
       "    </tr>\n",
       "    <tr>\n",
       "      <th>2</th>\n",
       "      <td>2003</td>\n",
       "      <td>1104</td>\n",
       "      <td>0.607143</td>\n",
       "    </tr>\n",
       "    <tr>\n",
       "      <th>3</th>\n",
       "      <td>2003</td>\n",
       "      <td>1105</td>\n",
       "      <td>0.269231</td>\n",
       "    </tr>\n",
       "    <tr>\n",
       "      <th>4</th>\n",
       "      <td>2003</td>\n",
       "      <td>1106</td>\n",
       "      <td>0.464286</td>\n",
       "    </tr>\n",
       "  </tbody>\n",
       "</table>\n",
       "</div>"
      ],
      "text/plain": [
       "   Season  Opponent  OpponentWinpct\n",
       "0    2003      1102        0.428571\n",
       "1    2003      1103        0.481481\n",
       "2    2003      1104        0.607143\n",
       "3    2003      1105        0.269231\n",
       "4    2003      1106        0.464286"
      ]
     },
     "execution_count": 84,
     "metadata": {},
     "output_type": "execute_result"
    }
   ],
   "source": [
    "wins2.head()"
   ]
  },
  {
   "cell_type": "code",
   "execution_count": 85,
   "metadata": {},
   "outputs": [
    {
     "data": {
      "text/html": [
       "<div>\n",
       "<style>\n",
       "    .dataframe thead tr:only-child th {\n",
       "        text-align: right;\n",
       "    }\n",
       "\n",
       "    .dataframe thead th {\n",
       "        text-align: left;\n",
       "    }\n",
       "\n",
       "    .dataframe tbody tr th {\n",
       "        vertical-align: top;\n",
       "    }\n",
       "</style>\n",
       "<table border=\"1\" class=\"dataframe\">\n",
       "  <thead>\n",
       "    <tr style=\"text-align: right;\">\n",
       "      <th></th>\n",
       "      <th>Season</th>\n",
       "      <th>Team</th>\n",
       "      <th>Opponent</th>\n",
       "      <th>wins</th>\n",
       "      <th>games</th>\n",
       "      <th>winpct</th>\n",
       "      <th>OpponentWinpct</th>\n",
       "    </tr>\n",
       "  </thead>\n",
       "  <tbody>\n",
       "    <tr>\n",
       "      <th>0</th>\n",
       "      <td>2018</td>\n",
       "      <td>1277</td>\n",
       "      <td>1355</td>\n",
       "      <td>29</td>\n",
       "      <td>33</td>\n",
       "      <td>0.878788</td>\n",
       "      <td>0.800000</td>\n",
       "    </tr>\n",
       "    <tr>\n",
       "      <th>1</th>\n",
       "      <td>2018</td>\n",
       "      <td>1181</td>\n",
       "      <td>1293</td>\n",
       "      <td>26</td>\n",
       "      <td>33</td>\n",
       "      <td>0.787879</td>\n",
       "      <td>0.827586</td>\n",
       "    </tr>\n",
       "    <tr>\n",
       "      <th>2</th>\n",
       "      <td>2006</td>\n",
       "      <td>1261</td>\n",
       "      <td>1417</td>\n",
       "      <td>22</td>\n",
       "      <td>30</td>\n",
       "      <td>0.733333</td>\n",
       "      <td>0.818182</td>\n",
       "    </tr>\n",
       "    <tr>\n",
       "      <th>3</th>\n",
       "      <td>2014</td>\n",
       "      <td>1124</td>\n",
       "      <td>1304</td>\n",
       "      <td>22</td>\n",
       "      <td>33</td>\n",
       "      <td>0.666667</td>\n",
       "      <td>0.612903</td>\n",
       "    </tr>\n",
       "    <tr>\n",
       "      <th>4</th>\n",
       "      <td>2015</td>\n",
       "      <td>1246</td>\n",
       "      <td>1214</td>\n",
       "      <td>34</td>\n",
       "      <td>34</td>\n",
       "      <td>1.000000</td>\n",
       "      <td>0.484848</td>\n",
       "    </tr>\n",
       "  </tbody>\n",
       "</table>\n",
       "</div>"
      ],
      "text/plain": [
       "   Season  Team  Opponent  wins  games    winpct  OpponentWinpct\n",
       "0    2018  1277      1355    29     33  0.878788        0.800000\n",
       "1    2018  1181      1293    26     33  0.787879        0.827586\n",
       "2    2006  1261      1417    22     30  0.733333        0.818182\n",
       "3    2014  1124      1304    22     33  0.666667        0.612903\n",
       "4    2015  1246      1214    34     34  1.000000        0.484848"
      ]
     },
     "execution_count": 85,
     "metadata": {},
     "output_type": "execute_result"
    }
   ],
   "source": [
    "wins_matchup = pd.merge(matchups, wins, how='left', on=['Season', 'Team'])\n",
    "wins2 = wins[['Season', 'Team', 'winpct']].rename(columns={'Team': 'Opponent', 'winpct': 'OpponentWinpct'})\n",
    "wins_matchup2 = pd.merge(wins_matchup, wins2, how='left', on=['Season', 'Opponent'])\n",
    "wins_matchup2.head()"
   ]
  },
  {
   "cell_type": "code",
   "execution_count": 86,
   "metadata": {},
   "outputs": [],
   "source": [
    "to_load = wins_matchup2[['Season', 'Team', 'Opponent', 'winpct', 'OpponentWinpct']].copy()\n",
    "to_load['winpctDiff'] = to_load['winpct'] - to_load['OpponentWinpct']"
   ]
  },
  {
   "cell_type": "code",
   "execution_count": 87,
   "metadata": {
    "collapsed": true
   },
   "outputs": [],
   "source": [
    "datarows = []\n",
    "for i in to_load.itertuples(index=False):\n",
    "    row = (int(i.Season), int(i.Team), int(i.Opponent), float(i.winpct), float(i.OpponentWinpct), float(i.winpctDiff))\n",
    "    datarows.append(row)"
   ]
  },
  {
   "cell_type": "code",
   "execution_count": 89,
   "metadata": {},
   "outputs": [],
   "source": [
    "alter = '''\n",
    "    ALTER TABLE prod.features\n",
    "      ADD COLUMN IF NOT EXISTS \"WinPct\" REAL,\n",
    "      ADD COLUMN IF NOT EXISTS \"OpponentWinPct\" REAL,\n",
    "      ADD COLUMN IF NOT EXISTS \"WinPctDiff\" REAL\n",
    "'''\n",
    "\n",
    "update = '''\n",
    "    UPDATE prod.features as f\n",
    "       SET \"WinPct\" = data.\"WinPct\",\n",
    "           \"OpponentWinPct\" = data.\"OpponentWinPct\",\n",
    "           \"WinPctDiff\" = data.\"WinPctDiff\"\n",
    "      FROM (VALUES %s) AS data (\n",
    "             \"Season\",\n",
    "             \"Team\",\n",
    "             \"Opponent\",\n",
    "             \"WinPct\",\n",
    "             \"OpponentWinPct\",\n",
    "             \"WinPctDiff\"\n",
    "             )\n",
    "     WHERE f.\"Season\" = data.\"Season\"\n",
    "       and f.\"Team\" = data.\"Team\"\n",
    "       and f.\"Opponent\" = data.\"Opponent\"\n",
    "       and f.\"Season Type\" = 'NCAA Tourney'\n",
    "'''\n",
    "\n",
    "conn = pg.connect(database='postgres',\n",
    "                  user='postgres',\n",
    "                  password='w207final',\n",
    "                  host='35.185.225.167')\n",
    "\n",
    "c = conn.cursor()\n",
    "c.execute(alter)\n",
    "execute_values(c, update, datarows, page_size=8000)\n",
    "conn.commit()\n",
    "conn.close()"
   ]
  },
  {
   "cell_type": "code",
   "execution_count": null,
   "metadata": {
    "collapsed": true
   },
   "outputs": [],
   "source": []
  }
 ],
 "metadata": {
  "kernelspec": {
   "display_name": "Python 3",
   "language": "python",
   "name": "python3"
  },
  "language_info": {
   "codemirror_mode": {
    "name": "ipython",
    "version": 3
   },
   "file_extension": ".py",
   "mimetype": "text/x-python",
   "name": "python",
   "nbconvert_exporter": "python",
   "pygments_lexer": "ipython3",
   "version": "3.6.3"
  }
 },
 "nbformat": 4,
 "nbformat_minor": 2
}
