{
 "cells": [
  {
   "cell_type": "markdown",
   "metadata": {},
   "source": [
    "# Add Features"
   ]
  },
  {
   "cell_type": "code",
   "execution_count": 1,
   "metadata": {
    "collapsed": true
   },
   "outputs": [],
   "source": [
    "import psycopg2 as pg\n",
    "import pandas as pd\n",
    "import numpy as np\n",
    "\n",
    "from psycopg2.extras import execute_values"
   ]
  },
  {
   "cell_type": "markdown",
   "metadata": {},
   "source": [
    "1. Regular Season Win Percentage\n",
    "2. Regular Season Opponents Win Percentage\n",
    "3. Regular Season Win Percentage Differential\n",
    "4. Conference\n",
    "5. Conference Difficulty per Season\n",
    "6. Schedule Difficulty\n",
    "7. NCAA Tourney Seed Differential"
   ]
  },
  {
   "cell_type": "markdown",
   "metadata": {},
   "source": [
    "## Win Percentage"
   ]
  },
  {
   "cell_type": "markdown",
   "metadata": {},
   "source": [
    "### Regular Season (Cumulative Average)"
   ]
  },
  {
   "cell_type": "code",
   "execution_count": 12,
   "metadata": {
    "collapsed": true
   },
   "outputs": [],
   "source": [
    "conn = pg.connect(database='postgres',\n",
    "                  user='postgres',\n",
    "                  password='w207final',\n",
    "                  host='35.185.225.167')\n",
    "\n",
    "# pull regular season and tourney data to build indexes\n",
    "query = '''\n",
    "    SELECT \"Season\", \"DayNum\", \"Team\", \"Outcome\"\n",
    "    FROM prod.features\n",
    "    WHERE \"Season Type\" = 'Regular'\n",
    "    ORDER BY \"Season\", \"Team\", \"DayNum\"\n",
    "'''\n",
    "\n",
    "df = pd.read_sql_query(query, conn)\n",
    "conn.close()"
   ]
  },
  {
   "cell_type": "code",
   "execution_count": 13,
   "metadata": {},
   "outputs": [
    {
     "data": {
      "text/html": [
       "<div>\n",
       "<style>\n",
       "    .dataframe thead tr:only-child th {\n",
       "        text-align: right;\n",
       "    }\n",
       "\n",
       "    .dataframe thead th {\n",
       "        text-align: left;\n",
       "    }\n",
       "\n",
       "    .dataframe tbody tr th {\n",
       "        vertical-align: top;\n",
       "    }\n",
       "</style>\n",
       "<table border=\"1\" class=\"dataframe\">\n",
       "  <thead>\n",
       "    <tr style=\"text-align: right;\">\n",
       "      <th></th>\n",
       "      <th>Season</th>\n",
       "      <th>DayNum</th>\n",
       "      <th>Team</th>\n",
       "      <th>Outcome</th>\n",
       "    </tr>\n",
       "  </thead>\n",
       "  <tbody>\n",
       "    <tr>\n",
       "      <th>0</th>\n",
       "      <td>2003</td>\n",
       "      <td>19</td>\n",
       "      <td>1102</td>\n",
       "      <td>0</td>\n",
       "    </tr>\n",
       "    <tr>\n",
       "      <th>1</th>\n",
       "      <td>2003</td>\n",
       "      <td>22</td>\n",
       "      <td>1102</td>\n",
       "      <td>1</td>\n",
       "    </tr>\n",
       "    <tr>\n",
       "      <th>2</th>\n",
       "      <td>2003</td>\n",
       "      <td>25</td>\n",
       "      <td>1102</td>\n",
       "      <td>1</td>\n",
       "    </tr>\n",
       "    <tr>\n",
       "      <th>3</th>\n",
       "      <td>2003</td>\n",
       "      <td>27</td>\n",
       "      <td>1102</td>\n",
       "      <td>0</td>\n",
       "    </tr>\n",
       "    <tr>\n",
       "      <th>4</th>\n",
       "      <td>2003</td>\n",
       "      <td>31</td>\n",
       "      <td>1102</td>\n",
       "      <td>1</td>\n",
       "    </tr>\n",
       "  </tbody>\n",
       "</table>\n",
       "</div>"
      ],
      "text/plain": [
       "   Season  DayNum  Team  Outcome\n",
       "0    2003      19  1102        0\n",
       "1    2003      22  1102        1\n",
       "2    2003      25  1102        1\n",
       "3    2003      27  1102        0\n",
       "4    2003      31  1102        1"
      ]
     },
     "execution_count": 13,
     "metadata": {},
     "output_type": "execute_result"
    }
   ],
   "source": [
    "df.shape\n",
    "df.head()"
   ]
  },
  {
   "cell_type": "code",
   "execution_count": 14,
   "metadata": {},
   "outputs": [],
   "source": [
    "df['LagOutcome'] = df.groupby(['Season', 'Team'])['Outcome'].shift()\n",
    "\n",
    "# running totals\n",
    "cumsum = df.groupby(['Season', 'Team'])['LagOutcome'].expanding().sum()\n",
    "cumcount = df.groupby(['Season', 'Team'])['LagOutcome'].expanding().count()\n",
    "\n",
    "# insert back into df\n",
    "df['CumWins'] = cumsum.reset_index()['LagOutcome']\n",
    "df['CumCount'] = cumcount.reset_index()['LagOutcome']\n",
    "df['winpct'] = df['CumWins'] / df['CumCount']"
   ]
  },
  {
   "cell_type": "code",
   "execution_count": 15,
   "metadata": {},
   "outputs": [
    {
     "data": {
      "text/html": [
       "<div>\n",
       "<style>\n",
       "    .dataframe thead tr:only-child th {\n",
       "        text-align: right;\n",
       "    }\n",
       "\n",
       "    .dataframe thead th {\n",
       "        text-align: left;\n",
       "    }\n",
       "\n",
       "    .dataframe tbody tr th {\n",
       "        vertical-align: top;\n",
       "    }\n",
       "</style>\n",
       "<table border=\"1\" class=\"dataframe\">\n",
       "  <thead>\n",
       "    <tr style=\"text-align: right;\">\n",
       "      <th></th>\n",
       "      <th>Season</th>\n",
       "      <th>DayNum</th>\n",
       "      <th>Team</th>\n",
       "      <th>Outcome</th>\n",
       "      <th>LagOutcome</th>\n",
       "      <th>CumWins</th>\n",
       "      <th>CumCount</th>\n",
       "      <th>winpct</th>\n",
       "    </tr>\n",
       "  </thead>\n",
       "  <tbody>\n",
       "    <tr>\n",
       "      <th>0</th>\n",
       "      <td>2003</td>\n",
       "      <td>19</td>\n",
       "      <td>1102</td>\n",
       "      <td>0</td>\n",
       "      <td>NaN</td>\n",
       "      <td>NaN</td>\n",
       "      <td>0.0</td>\n",
       "      <td>NaN</td>\n",
       "    </tr>\n",
       "    <tr>\n",
       "      <th>1</th>\n",
       "      <td>2003</td>\n",
       "      <td>22</td>\n",
       "      <td>1102</td>\n",
       "      <td>1</td>\n",
       "      <td>0.0</td>\n",
       "      <td>0.0</td>\n",
       "      <td>1.0</td>\n",
       "      <td>0.000000</td>\n",
       "    </tr>\n",
       "    <tr>\n",
       "      <th>2</th>\n",
       "      <td>2003</td>\n",
       "      <td>25</td>\n",
       "      <td>1102</td>\n",
       "      <td>1</td>\n",
       "      <td>1.0</td>\n",
       "      <td>1.0</td>\n",
       "      <td>2.0</td>\n",
       "      <td>0.500000</td>\n",
       "    </tr>\n",
       "    <tr>\n",
       "      <th>3</th>\n",
       "      <td>2003</td>\n",
       "      <td>27</td>\n",
       "      <td>1102</td>\n",
       "      <td>0</td>\n",
       "      <td>1.0</td>\n",
       "      <td>2.0</td>\n",
       "      <td>3.0</td>\n",
       "      <td>0.666667</td>\n",
       "    </tr>\n",
       "    <tr>\n",
       "      <th>4</th>\n",
       "      <td>2003</td>\n",
       "      <td>31</td>\n",
       "      <td>1102</td>\n",
       "      <td>1</td>\n",
       "      <td>0.0</td>\n",
       "      <td>2.0</td>\n",
       "      <td>4.0</td>\n",
       "      <td>0.500000</td>\n",
       "    </tr>\n",
       "  </tbody>\n",
       "</table>\n",
       "</div>"
      ],
      "text/plain": [
       "   Season  DayNum  Team  Outcome  LagOutcome  CumWins  CumCount    winpct\n",
       "0    2003      19  1102        0         NaN      NaN       0.0       NaN\n",
       "1    2003      22  1102        1         0.0      0.0       1.0  0.000000\n",
       "2    2003      25  1102        1         1.0      1.0       2.0  0.500000\n",
       "3    2003      27  1102        0         1.0      2.0       3.0  0.666667\n",
       "4    2003      31  1102        1         0.0      2.0       4.0  0.500000"
      ]
     },
     "execution_count": 15,
     "metadata": {},
     "output_type": "execute_result"
    }
   ],
   "source": [
    "df.head()"
   ]
  },
  {
   "cell_type": "code",
   "execution_count": 35,
   "metadata": {
    "collapsed": true
   },
   "outputs": [],
   "source": [
    "# pull regular season matchups\n",
    "conn = pg.connect(database='postgres',\n",
    "                  user='postgres',\n",
    "                  password='w207final',\n",
    "                  host='35.185.225.167')\n",
    "\n",
    "query = '''\n",
    "    SELECT DISTINCT \"Season\", \"Team\", \"Opponent\", \"DayNum\"\n",
    "    FROM prod.features\n",
    "    WHERE \"Season Type\" = 'Regular'\n",
    "'''\n",
    "\n",
    "matchups = pd.read_sql_query(query, conn)\n",
    "conn.close()"
   ]
  },
  {
   "cell_type": "code",
   "execution_count": 36,
   "metadata": {},
   "outputs": [
    {
     "data": {
      "text/plain": [
       "(164082, 4)"
      ]
     },
     "execution_count": 36,
     "metadata": {},
     "output_type": "execute_result"
    }
   ],
   "source": [
    "matchups.head()\n",
    "matchups.shape"
   ]
  },
  {
   "cell_type": "code",
   "execution_count": 23,
   "metadata": {},
   "outputs": [
    {
     "data": {
      "text/html": [
       "<div>\n",
       "<style>\n",
       "    .dataframe thead tr:only-child th {\n",
       "        text-align: right;\n",
       "    }\n",
       "\n",
       "    .dataframe thead th {\n",
       "        text-align: left;\n",
       "    }\n",
       "\n",
       "    .dataframe tbody tr th {\n",
       "        vertical-align: top;\n",
       "    }\n",
       "</style>\n",
       "<table border=\"1\" class=\"dataframe\">\n",
       "  <thead>\n",
       "    <tr style=\"text-align: right;\">\n",
       "      <th></th>\n",
       "      <th>Season</th>\n",
       "      <th>Team</th>\n",
       "      <th>Opponent</th>\n",
       "      <th>DayNum</th>\n",
       "      <th>Outcome</th>\n",
       "      <th>LagOutcome</th>\n",
       "      <th>CumWins</th>\n",
       "      <th>CumCount</th>\n",
       "      <th>winpct</th>\n",
       "      <th>OpponentWinpct</th>\n",
       "    </tr>\n",
       "  </thead>\n",
       "  <tbody>\n",
       "    <tr>\n",
       "      <th>0</th>\n",
       "      <td>2015</td>\n",
       "      <td>1105</td>\n",
       "      <td>1115</td>\n",
       "      <td>70</td>\n",
       "      <td>1</td>\n",
       "      <td>1.0</td>\n",
       "      <td>2.0</td>\n",
       "      <td>12.0</td>\n",
       "      <td>0.166667</td>\n",
       "      <td>0.187500</td>\n",
       "    </tr>\n",
       "    <tr>\n",
       "      <th>1</th>\n",
       "      <td>2006</td>\n",
       "      <td>1110</td>\n",
       "      <td>1159</td>\n",
       "      <td>104</td>\n",
       "      <td>1</td>\n",
       "      <td>0.0</td>\n",
       "      <td>7.0</td>\n",
       "      <td>22.0</td>\n",
       "      <td>0.318182</td>\n",
       "      <td>0.318182</td>\n",
       "    </tr>\n",
       "    <tr>\n",
       "      <th>2</th>\n",
       "      <td>2018</td>\n",
       "      <td>1457</td>\n",
       "      <td>1149</td>\n",
       "      <td>117</td>\n",
       "      <td>0</td>\n",
       "      <td>0.0</td>\n",
       "      <td>15.0</td>\n",
       "      <td>25.0</td>\n",
       "      <td>0.600000</td>\n",
       "      <td>0.400000</td>\n",
       "    </tr>\n",
       "    <tr>\n",
       "      <th>3</th>\n",
       "      <td>2007</td>\n",
       "      <td>1232</td>\n",
       "      <td>1320</td>\n",
       "      <td>98</td>\n",
       "      <td>1</td>\n",
       "      <td>0.0</td>\n",
       "      <td>10.0</td>\n",
       "      <td>21.0</td>\n",
       "      <td>0.476190</td>\n",
       "      <td>0.681818</td>\n",
       "    </tr>\n",
       "    <tr>\n",
       "      <th>4</th>\n",
       "      <td>2005</td>\n",
       "      <td>1395</td>\n",
       "      <td>1394</td>\n",
       "      <td>26</td>\n",
       "      <td>0</td>\n",
       "      <td>0.0</td>\n",
       "      <td>2.0</td>\n",
       "      <td>3.0</td>\n",
       "      <td>0.666667</td>\n",
       "      <td>0.500000</td>\n",
       "    </tr>\n",
       "  </tbody>\n",
       "</table>\n",
       "</div>"
      ],
      "text/plain": [
       "   Season  Team  Opponent  DayNum  Outcome  LagOutcome  CumWins  CumCount  \\\n",
       "0    2015  1105      1115      70        1         1.0      2.0      12.0   \n",
       "1    2006  1110      1159     104        1         0.0      7.0      22.0   \n",
       "2    2018  1457      1149     117        0         0.0     15.0      25.0   \n",
       "3    2007  1232      1320      98        1         0.0     10.0      21.0   \n",
       "4    2005  1395      1394      26        0         0.0      2.0       3.0   \n",
       "\n",
       "     winpct  OpponentWinpct  \n",
       "0  0.166667        0.187500  \n",
       "1  0.318182        0.318182  \n",
       "2  0.600000        0.400000  \n",
       "3  0.476190        0.681818  \n",
       "4  0.666667        0.500000  "
      ]
     },
     "execution_count": 23,
     "metadata": {},
     "output_type": "execute_result"
    }
   ],
   "source": [
    "wins_matchup = pd.merge(matchups, df, how='left', on=['Season', 'Team', 'DayNum'])\n",
    "df2 = df[['Season', 'Team', 'DayNum', 'winpct']].rename(columns={'Team': 'Opponent', 'winpct': 'OpponentWinpct'})\n",
    "\n",
    "wins_matchup2 = pd.merge(wins_matchup, df2, how='left', on=['Season', 'Opponent', 'DayNum'])\n",
    "wins_matchup2.head()"
   ]
  },
  {
   "cell_type": "code",
   "execution_count": 69,
   "metadata": {},
   "outputs": [],
   "source": [
    "to_load = wins_matchup2[['Season', 'Team', 'Opponent', 'DayNum','winpct', 'OpponentWinpct']].copy()\n",
    "to_load['winpctDiff'] = to_load['winpct'] - to_load['OpponentWinpct']\n",
    "\n",
    "to_load = to_load.where(pd.notnull(to_load), None)"
   ]
  },
  {
   "cell_type": "code",
   "execution_count": 70,
   "metadata": {
    "scrolled": true
   },
   "outputs": [
    {
     "data": {
      "text/html": [
       "<div>\n",
       "<style>\n",
       "    .dataframe thead tr:only-child th {\n",
       "        text-align: right;\n",
       "    }\n",
       "\n",
       "    .dataframe thead th {\n",
       "        text-align: left;\n",
       "    }\n",
       "\n",
       "    .dataframe tbody tr th {\n",
       "        vertical-align: top;\n",
       "    }\n",
       "</style>\n",
       "<table border=\"1\" class=\"dataframe\">\n",
       "  <thead>\n",
       "    <tr style=\"text-align: right;\">\n",
       "      <th></th>\n",
       "      <th>Season</th>\n",
       "      <th>Team</th>\n",
       "      <th>Opponent</th>\n",
       "      <th>DayNum</th>\n",
       "      <th>winpct</th>\n",
       "      <th>OpponentWinpct</th>\n",
       "      <th>winpctDiff</th>\n",
       "    </tr>\n",
       "  </thead>\n",
       "  <tbody>\n",
       "    <tr>\n",
       "      <th>0</th>\n",
       "      <td>2015</td>\n",
       "      <td>1105</td>\n",
       "      <td>1115</td>\n",
       "      <td>70</td>\n",
       "      <td>0.166667</td>\n",
       "      <td>0.1875</td>\n",
       "      <td>-0.0208333</td>\n",
       "    </tr>\n",
       "    <tr>\n",
       "      <th>1</th>\n",
       "      <td>2006</td>\n",
       "      <td>1110</td>\n",
       "      <td>1159</td>\n",
       "      <td>104</td>\n",
       "      <td>0.318182</td>\n",
       "      <td>0.318182</td>\n",
       "      <td>0</td>\n",
       "    </tr>\n",
       "    <tr>\n",
       "      <th>2</th>\n",
       "      <td>2018</td>\n",
       "      <td>1457</td>\n",
       "      <td>1149</td>\n",
       "      <td>117</td>\n",
       "      <td>0.6</td>\n",
       "      <td>0.4</td>\n",
       "      <td>0.2</td>\n",
       "    </tr>\n",
       "    <tr>\n",
       "      <th>3</th>\n",
       "      <td>2007</td>\n",
       "      <td>1232</td>\n",
       "      <td>1320</td>\n",
       "      <td>98</td>\n",
       "      <td>0.47619</td>\n",
       "      <td>0.681818</td>\n",
       "      <td>-0.205628</td>\n",
       "    </tr>\n",
       "    <tr>\n",
       "      <th>4</th>\n",
       "      <td>2005</td>\n",
       "      <td>1395</td>\n",
       "      <td>1394</td>\n",
       "      <td>26</td>\n",
       "      <td>0.666667</td>\n",
       "      <td>0.5</td>\n",
       "      <td>0.166667</td>\n",
       "    </tr>\n",
       "  </tbody>\n",
       "</table>\n",
       "</div>"
      ],
      "text/plain": [
       "   Season  Team  Opponent  DayNum    winpct OpponentWinpct winpctDiff\n",
       "0    2015  1105      1115      70  0.166667         0.1875 -0.0208333\n",
       "1    2006  1110      1159     104  0.318182       0.318182          0\n",
       "2    2018  1457      1149     117       0.6            0.4        0.2\n",
       "3    2007  1232      1320      98   0.47619       0.681818  -0.205628\n",
       "4    2005  1395      1394      26  0.666667            0.5   0.166667"
      ]
     },
     "execution_count": 70,
     "metadata": {},
     "output_type": "execute_result"
    }
   ],
   "source": [
    "to_load.shape\n",
    "to_load.head()"
   ]
  },
  {
   "cell_type": "code",
   "execution_count": 81,
   "metadata": {},
   "outputs": [],
   "source": [
    "datarows = []\n",
    "for i in to_load.itertuples(index=False):\n",
    "    row = (int(i.Season), int(i.Team), int(i.Opponent),\n",
    "           int(i.DayNum), i.winpct, i.OpponentWinpct,\n",
    "           i.winpctDiff\n",
    "    )\n",
    "    datarows.append(row)"
   ]
  },
  {
   "cell_type": "code",
   "execution_count": 82,
   "metadata": {},
   "outputs": [
    {
     "data": {
      "text/plain": [
       "164082"
      ]
     },
     "execution_count": 82,
     "metadata": {},
     "output_type": "execute_result"
    }
   ],
   "source": [
    "len(datarows)"
   ]
  },
  {
   "cell_type": "code",
   "execution_count": 83,
   "metadata": {},
   "outputs": [],
   "source": [
    "alter = '''\n",
    "    ALTER TABLE prod.features\n",
    "      ADD COLUMN IF NOT EXISTS \"WinPct\" REAL,\n",
    "      ADD COLUMN IF NOT EXISTS \"OpponentWinPct\" REAL,\n",
    "      ADD COLUMN IF NOT EXISTS \"WinPctDiff\" REAL\n",
    "'''\n",
    "\n",
    "update = '''\n",
    "    UPDATE prod.features as f\n",
    "       SET \"WinPct\" = data.\"WinPct\",\n",
    "           \"OpponentWinPct\" = data.\"OpponentWinPct\",\n",
    "           \"WinPctDiff\" = data.\"WinPctDiff\"\n",
    "      FROM (VALUES %s) AS data (\n",
    "             \"Season\",\n",
    "             \"Team\",\n",
    "             \"Opponent\",\n",
    "             \"DayNum\",\n",
    "             \"WinPct\",\n",
    "             \"OpponentWinPct\",\n",
    "             \"WinPctDiff\"\n",
    "             )\n",
    "     WHERE f.\"Season\" = data.\"Season\"\n",
    "       and f.\"Team\" = data.\"Team\"\n",
    "       and f.\"Opponent\" = data.\"Opponent\"\n",
    "       and f.\"DayNum\" = data.\"DayNum\"\n",
    "       and f.\"Season Type\" = 'Regular'\n",
    "'''\n",
    "\n",
    "conn = pg.connect(database='postgres',\n",
    "                  user='postgres',\n",
    "                  password='w207final',\n",
    "                  host='35.185.225.167')\n",
    "\n",
    "c = conn.cursor()\n",
    "c.execute(alter)\n",
    "execute_values(c, update, datarows, page_size=8000)\n",
    "conn.commit()\n",
    "conn.close()"
   ]
  },
  {
   "cell_type": "markdown",
   "metadata": {},
   "source": [
    "### Tournament"
   ]
  },
  {
   "cell_type": "code",
   "execution_count": 84,
   "metadata": {
    "collapsed": true
   },
   "outputs": [],
   "source": [
    "conn = pg.connect(database='postgres',\n",
    "                  user='postgres',\n",
    "                  password='w207final',\n",
    "                  host='35.185.225.167')\n",
    "\n",
    "# pull regular season and tourney data to build indexes\n",
    "query = '''\n",
    "    SELECT \"Season\", \"Team\", \"Outcome\"\n",
    "    FROM prod.features\n",
    "    WHERE \"Season Type\" = 'Regular'\n",
    "'''\n",
    "\n",
    "df = pd.read_sql_query(query, conn)\n",
    "conn.close()"
   ]
  },
  {
   "cell_type": "code",
   "execution_count": 85,
   "metadata": {
    "collapsed": true
   },
   "outputs": [],
   "source": [
    "# wins per team\n",
    "wins = df[['Season', 'Team', 'Outcome']].groupby(by=[\"Season\", \"Team\"]).agg(['sum', 'count'])\n",
    "wins.reset_index(inplace=True)\n",
    "wins.columns = [' '.join(col).strip() for col in wins.columns.values]\n",
    "wins.rename(columns={'Outcome sum': 'wins', 'Outcome count': 'games'}, inplace=True)\n",
    "wins['winpct'] = wins['wins'] / wins['games']"
   ]
  },
  {
   "cell_type": "code",
   "execution_count": 86,
   "metadata": {
    "collapsed": true
   },
   "outputs": [],
   "source": [
    "# pull tourney matchups\n",
    "conn = pg.connect(database='postgres',\n",
    "                  user='postgres',\n",
    "                  password='w207final',\n",
    "                  host='35.185.225.167')\n",
    "\n",
    "query = '''\n",
    "    SELECT DISTINCT \"Season\", \"Team\", \"Opponent\"\n",
    "    FROM prod.features\n",
    "    WHERE \"Season Type\" = 'NCAA Tourney'\n",
    "'''\n",
    "\n",
    "matchups = pd.read_sql_query(query, conn)\n",
    "conn.close()"
   ]
  },
  {
   "cell_type": "code",
   "execution_count": 87,
   "metadata": {
    "scrolled": true
   },
   "outputs": [
    {
     "data": {
      "text/plain": [
       "(6518, 3)"
      ]
     },
     "execution_count": 87,
     "metadata": {},
     "output_type": "execute_result"
    }
   ],
   "source": [
    "matchups.head()\n",
    "matchups.shape"
   ]
  },
  {
   "cell_type": "code",
   "execution_count": 88,
   "metadata": {},
   "outputs": [
    {
     "data": {
      "text/html": [
       "<div>\n",
       "<style>\n",
       "    .dataframe thead tr:only-child th {\n",
       "        text-align: right;\n",
       "    }\n",
       "\n",
       "    .dataframe thead th {\n",
       "        text-align: left;\n",
       "    }\n",
       "\n",
       "    .dataframe tbody tr th {\n",
       "        vertical-align: top;\n",
       "    }\n",
       "</style>\n",
       "<table border=\"1\" class=\"dataframe\">\n",
       "  <thead>\n",
       "    <tr style=\"text-align: right;\">\n",
       "      <th></th>\n",
       "      <th>Season</th>\n",
       "      <th>Team</th>\n",
       "      <th>Opponent</th>\n",
       "      <th>wins</th>\n",
       "      <th>games</th>\n",
       "      <th>winpct</th>\n",
       "      <th>OpponentWinpct</th>\n",
       "    </tr>\n",
       "  </thead>\n",
       "  <tbody>\n",
       "    <tr>\n",
       "      <th>0</th>\n",
       "      <td>2018</td>\n",
       "      <td>1277</td>\n",
       "      <td>1355</td>\n",
       "      <td>29</td>\n",
       "      <td>33</td>\n",
       "      <td>0.878788</td>\n",
       "      <td>0.800000</td>\n",
       "    </tr>\n",
       "    <tr>\n",
       "      <th>1</th>\n",
       "      <td>2018</td>\n",
       "      <td>1181</td>\n",
       "      <td>1293</td>\n",
       "      <td>26</td>\n",
       "      <td>33</td>\n",
       "      <td>0.787879</td>\n",
       "      <td>0.827586</td>\n",
       "    </tr>\n",
       "    <tr>\n",
       "      <th>2</th>\n",
       "      <td>2006</td>\n",
       "      <td>1261</td>\n",
       "      <td>1417</td>\n",
       "      <td>22</td>\n",
       "      <td>30</td>\n",
       "      <td>0.733333</td>\n",
       "      <td>0.818182</td>\n",
       "    </tr>\n",
       "    <tr>\n",
       "      <th>3</th>\n",
       "      <td>2014</td>\n",
       "      <td>1124</td>\n",
       "      <td>1304</td>\n",
       "      <td>22</td>\n",
       "      <td>33</td>\n",
       "      <td>0.666667</td>\n",
       "      <td>0.612903</td>\n",
       "    </tr>\n",
       "    <tr>\n",
       "      <th>4</th>\n",
       "      <td>2015</td>\n",
       "      <td>1246</td>\n",
       "      <td>1214</td>\n",
       "      <td>34</td>\n",
       "      <td>34</td>\n",
       "      <td>1.000000</td>\n",
       "      <td>0.484848</td>\n",
       "    </tr>\n",
       "  </tbody>\n",
       "</table>\n",
       "</div>"
      ],
      "text/plain": [
       "   Season  Team  Opponent  wins  games    winpct  OpponentWinpct\n",
       "0    2018  1277      1355    29     33  0.878788        0.800000\n",
       "1    2018  1181      1293    26     33  0.787879        0.827586\n",
       "2    2006  1261      1417    22     30  0.733333        0.818182\n",
       "3    2014  1124      1304    22     33  0.666667        0.612903\n",
       "4    2015  1246      1214    34     34  1.000000        0.484848"
      ]
     },
     "execution_count": 88,
     "metadata": {},
     "output_type": "execute_result"
    }
   ],
   "source": [
    "wins_matchup = pd.merge(matchups, wins, how='left', on=['Season', 'Team'])\n",
    "wins2 = wins[['Season', 'Team', 'winpct']].rename(columns={'Team': 'Opponent', 'winpct': 'OpponentWinpct'})\n",
    "wins_matchup2 = pd.merge(wins_matchup, wins2, how='left', on=['Season', 'Opponent'])\n",
    "wins_matchup2.head()"
   ]
  },
  {
   "cell_type": "code",
   "execution_count": 89,
   "metadata": {
    "collapsed": true
   },
   "outputs": [],
   "source": [
    "to_load = wins_matchup2[['Season', 'Team', 'Opponent', 'winpct', 'OpponentWinpct']].copy()\n",
    "to_load['winpctDiff'] = to_load['winpct'] - to_load['OpponentWinpct']"
   ]
  },
  {
   "cell_type": "code",
   "execution_count": 90,
   "metadata": {},
   "outputs": [
    {
     "data": {
      "text/plain": [
       "(6518, 6)"
      ]
     },
     "execution_count": 90,
     "metadata": {},
     "output_type": "execute_result"
    }
   ],
   "source": [
    "to_load.shape"
   ]
  },
  {
   "cell_type": "code",
   "execution_count": 91,
   "metadata": {
    "collapsed": true
   },
   "outputs": [],
   "source": [
    "datarows = []\n",
    "for i in to_load.itertuples(index=False):\n",
    "    row = (int(i.Season), int(i.Team), int(i.Opponent), float(i.winpct), float(i.OpponentWinpct), float(i.winpctDiff))\n",
    "    datarows.append(row)"
   ]
  },
  {
   "cell_type": "code",
   "execution_count": 92,
   "metadata": {},
   "outputs": [
    {
     "data": {
      "text/plain": [
       "6518"
      ]
     },
     "execution_count": 92,
     "metadata": {},
     "output_type": "execute_result"
    }
   ],
   "source": [
    "len(datarows)"
   ]
  },
  {
   "cell_type": "code",
   "execution_count": 93,
   "metadata": {
    "collapsed": true
   },
   "outputs": [],
   "source": [
    "alter = '''\n",
    "    ALTER TABLE prod.features\n",
    "      ADD COLUMN IF NOT EXISTS \"WinPct\" REAL,\n",
    "      ADD COLUMN IF NOT EXISTS \"OpponentWinPct\" REAL,\n",
    "      ADD COLUMN IF NOT EXISTS \"WinPctDiff\" REAL\n",
    "'''\n",
    "\n",
    "update = '''\n",
    "    UPDATE prod.features as f\n",
    "       SET \"WinPct\" = data.\"WinPct\",\n",
    "           \"OpponentWinPct\" = data.\"OpponentWinPct\",\n",
    "           \"WinPctDiff\" = data.\"WinPctDiff\"\n",
    "      FROM (VALUES %s) AS data (\n",
    "             \"Season\",\n",
    "             \"Team\",\n",
    "             \"Opponent\",\n",
    "             \"WinPct\",\n",
    "             \"OpponentWinPct\",\n",
    "             \"WinPctDiff\"\n",
    "             )\n",
    "     WHERE f.\"Season\" = data.\"Season\"\n",
    "       and f.\"Team\" = data.\"Team\"\n",
    "       and f.\"Opponent\" = data.\"Opponent\"\n",
    "       and f.\"Season Type\" = 'NCAA Tourney'\n",
    "'''\n",
    "\n",
    "conn = pg.connect(database='postgres',\n",
    "                  user='postgres',\n",
    "                  password='w207final',\n",
    "                  host='35.185.225.167')\n",
    "\n",
    "c = conn.cursor()\n",
    "c.execute(alter)\n",
    "execute_values(c, update, datarows, page_size=8000)\n",
    "conn.commit()\n",
    "conn.close()"
   ]
  },
  {
   "cell_type": "markdown",
   "metadata": {
    "collapsed": true
   },
   "source": [
    "## Points For / Against\n",
    "\n",
    "- Average points scored in the regular season\n",
    "- Average points scored by opponents faced in the regular season\n",
    "- Average of Difference between points scored versus points scored by opponents in the regular season\n",
    "  - Note this is not the difference between the two teams in the tourney match up\n",
    "  - We can calculate Average Points For differential if we want to compare the two teams in the tournament\n",
    "- Do all of the above for both Team and Opponent\n",
    "- Find Differential\n"
   ]
  },
  {
   "cell_type": "markdown",
   "metadata": {},
   "source": [
    "### Regular Season (Cumulative Avg)"
   ]
  },
  {
   "cell_type": "code",
   "execution_count": 101,
   "metadata": {
    "collapsed": true
   },
   "outputs": [],
   "source": [
    "conn = pg.connect(database='postgres',\n",
    "                  user='postgres',\n",
    "                  password='w207final',\n",
    "                  host='35.185.225.167')\n",
    "\n",
    "# pull regular season and tourney data to build indexes\n",
    "query = '''\n",
    "    SELECT \"Season\", \"Team\", \"DayNum\",\n",
    "        AVG(\"Score\") OVER w as \"AvgPointsFor\",\n",
    "        AVG(\"OpponentScore\") OVER w as \"AvgPointsAgainst\",\n",
    "        AVG(\"Score\" - \"OpponentScore\") OVER w as \"AvgNetPointsFor\"\n",
    "    FROM prod.features\n",
    "    WHERE \"Season Type\" = 'Regular'\n",
    "    WINDOW w as (\n",
    "        PARTITION BY \"Season\", \"Team\"\n",
    "        ORDER BY \"DayNum\"\n",
    "        ROWS BETWEEN UNBOUNDED PRECEDING AND 1 PRECEDING\n",
    "    )\n",
    "'''\n",
    "\n",
    "df = pd.read_sql_query(query, conn)\n",
    "conn.close()\n",
    "\n",
    "# convert nan to None\n",
    "df = df.where(pd.notnull(df), None)"
   ]
  },
  {
   "cell_type": "code",
   "execution_count": 102,
   "metadata": {},
   "outputs": [
    {
     "data": {
      "text/html": [
       "<div>\n",
       "<style>\n",
       "    .dataframe thead tr:only-child th {\n",
       "        text-align: right;\n",
       "    }\n",
       "\n",
       "    .dataframe thead th {\n",
       "        text-align: left;\n",
       "    }\n",
       "\n",
       "    .dataframe tbody tr th {\n",
       "        vertical-align: top;\n",
       "    }\n",
       "</style>\n",
       "<table border=\"1\" class=\"dataframe\">\n",
       "  <thead>\n",
       "    <tr style=\"text-align: right;\">\n",
       "      <th></th>\n",
       "      <th>Season</th>\n",
       "      <th>Team</th>\n",
       "      <th>DayNum</th>\n",
       "      <th>AvgPointsFor</th>\n",
       "      <th>AvgPointsAgainst</th>\n",
       "      <th>AvgNetPointsFor</th>\n",
       "    </tr>\n",
       "  </thead>\n",
       "  <tbody>\n",
       "    <tr>\n",
       "      <th>0</th>\n",
       "      <td>2003</td>\n",
       "      <td>1102</td>\n",
       "      <td>19</td>\n",
       "      <td>None</td>\n",
       "      <td>None</td>\n",
       "      <td>None</td>\n",
       "    </tr>\n",
       "    <tr>\n",
       "      <th>1</th>\n",
       "      <td>2003</td>\n",
       "      <td>1102</td>\n",
       "      <td>22</td>\n",
       "      <td>47</td>\n",
       "      <td>65</td>\n",
       "      <td>-18</td>\n",
       "    </tr>\n",
       "    <tr>\n",
       "      <th>2</th>\n",
       "      <td>2003</td>\n",
       "      <td>1102</td>\n",
       "      <td>25</td>\n",
       "      <td>59.5</td>\n",
       "      <td>54</td>\n",
       "      <td>5.5</td>\n",
       "    </tr>\n",
       "    <tr>\n",
       "      <th>3</th>\n",
       "      <td>2003</td>\n",
       "      <td>1102</td>\n",
       "      <td>27</td>\n",
       "      <td>58.6667</td>\n",
       "      <td>53.3333</td>\n",
       "      <td>5.33333</td>\n",
       "    </tr>\n",
       "    <tr>\n",
       "      <th>4</th>\n",
       "      <td>2003</td>\n",
       "      <td>1102</td>\n",
       "      <td>31</td>\n",
       "      <td>55.75</td>\n",
       "      <td>55</td>\n",
       "      <td>0.75</td>\n",
       "    </tr>\n",
       "  </tbody>\n",
       "</table>\n",
       "</div>"
      ],
      "text/plain": [
       "   Season  Team  DayNum AvgPointsFor AvgPointsAgainst AvgNetPointsFor\n",
       "0    2003  1102      19         None             None            None\n",
       "1    2003  1102      22           47               65             -18\n",
       "2    2003  1102      25         59.5               54             5.5\n",
       "3    2003  1102      27      58.6667          53.3333         5.33333\n",
       "4    2003  1102      31        55.75               55            0.75"
      ]
     },
     "execution_count": 102,
     "metadata": {},
     "output_type": "execute_result"
    }
   ],
   "source": [
    "df.shape\n",
    "df.head()"
   ]
  },
  {
   "cell_type": "code",
   "execution_count": 105,
   "metadata": {
    "collapsed": true
   },
   "outputs": [],
   "source": [
    "datarows = []\n",
    "for i in df.itertuples(index=False):\n",
    "    row = (int(i.Season), int(i.Team), int(i.DayNum), i.AvgPointsFor, i.AvgPointsAgainst, i.AvgNetPointsFor)\n",
    "    datarows.append(row)"
   ]
  },
  {
   "cell_type": "code",
   "execution_count": 106,
   "metadata": {},
   "outputs": [
    {
     "data": {
      "text/plain": [
       "164082"
      ]
     },
     "execution_count": 106,
     "metadata": {},
     "output_type": "execute_result"
    }
   ],
   "source": [
    "len(datarows)"
   ]
  },
  {
   "cell_type": "code",
   "execution_count": 107,
   "metadata": {
    "collapsed": true
   },
   "outputs": [],
   "source": [
    "alter = '''\n",
    "    ALTER TABLE prod.features\n",
    "      ADD COLUMN IF NOT EXISTS \"AvgPointsFor\" REAL,\n",
    "      ADD COLUMN IF NOT EXISTS \"AvgPointsAgainst\" REAL,\n",
    "      ADD COLUMN IF NOT EXISTS \"AvgNetPointsFor\" REAL\n",
    "'''\n",
    "\n",
    "update = '''\n",
    "    UPDATE prod.features as f\n",
    "       SET \"AvgPointsFor\" = data.\"AvgPointsFor\",\n",
    "           \"AvgPointsAgainst\" = data.\"AvgPointsAgainst\",\n",
    "           \"AvgNetPointsFor\" = data.\"AvgNetPointsFor\"\n",
    "      FROM (VALUES %s) AS data (\n",
    "             \"Season\",\n",
    "             \"Team\",\n",
    "             \"DayNum\",\n",
    "             \"AvgPointsFor\",\n",
    "             \"AvgPointsAgainst\",\n",
    "             \"AvgNetPointsFor\"\n",
    "             )\n",
    "     WHERE f.\"Season\" = data.\"Season\"\n",
    "       and f.\"Team\" = data.\"Team\"\n",
    "       and f.\"DayNum\" = data.\"DayNum\"\n",
    "       and f.\"Season Type\" = 'Regular'\n",
    "'''\n",
    "\n",
    "conn = pg.connect(database='postgres',\n",
    "                  user='postgres',\n",
    "                  password='w207final',\n",
    "                  host='35.185.225.167')\n",
    "\n",
    "c = conn.cursor()\n",
    "c.execute(alter)\n",
    "execute_values(c, update, datarows, page_size=8000)\n",
    "conn.commit()\n",
    "conn.close()"
   ]
  },
  {
   "cell_type": "code",
   "execution_count": 108,
   "metadata": {
    "collapsed": true
   },
   "outputs": [],
   "source": [
    "alter = '''\n",
    "    ALTER TABLE prod.features\n",
    "      ADD COLUMN IF NOT EXISTS \"OpponentAvgPointsFor\" REAL,\n",
    "      ADD COLUMN IF NOT EXISTS \"OpponentAvgPointsAgainst\" REAL,\n",
    "      ADD COLUMN IF NOT EXISTS \"OpponentAvgNetPointsFor\" REAL\n",
    "'''\n",
    "\n",
    "update = '''\n",
    "    UPDATE prod.features as f\n",
    "       SET \"OpponentAvgPointsFor\" = data.\"OpponentAvgPointsFor\",\n",
    "           \"OpponentAvgPointsAgainst\" = data.\"OpponentAvgPointsAgainst\",\n",
    "           \"OpponentAvgNetPointsFor\" = data.\"OpponentAvgNetPointsFor\"\n",
    "      FROM (VALUES %s) AS data (\n",
    "             \"Season\",\n",
    "             \"Opponent\",\n",
    "             \"DayNum\",\n",
    "             \"OpponentAvgPointsFor\",\n",
    "             \"OpponentAvgPointsAgainst\",\n",
    "             \"OpponentAvgNetPointsFor\"\n",
    "             )\n",
    "     WHERE f.\"Season\" = data.\"Season\"\n",
    "       and f.\"Opponent\" = data.\"Opponent\"\n",
    "       and f.\"DayNum\" = data.\"DayNum\"\n",
    "       and f.\"Season Type\" = 'Regular'\n",
    "'''\n",
    "\n",
    "conn = pg.connect(database='postgres',\n",
    "                  user='postgres',\n",
    "                  password='w207final',\n",
    "                  host='35.185.225.167')\n",
    "\n",
    "c = conn.cursor()\n",
    "c.execute(alter)\n",
    "execute_values(c, update, datarows, page_size=8000)\n",
    "conn.commit()\n",
    "conn.close()"
   ]
  },
  {
   "cell_type": "markdown",
   "metadata": {},
   "source": [
    "### Tournament"
   ]
  },
  {
   "cell_type": "code",
   "execution_count": null,
   "metadata": {
    "collapsed": true
   },
   "outputs": [],
   "source": [
    "conn = pg.connect(database='postgres',\n",
    "                  user='postgres',\n",
    "                  password='w207final',\n",
    "                  host='35.185.225.167')\n",
    "\n",
    "# pull regular season and tourney data to build indexes\n",
    "query = '''\n",
    "    SELECT \"Season\", \"Team\",\n",
    "        AVG(\"Score\") as \"AvgPointsFor\",\n",
    "        AVG(\"OpponentScore\") as \"AvgPointsAgainst\",\n",
    "        AVG(\"Score\" - \"OpponentScore\") as \"AvgNetPointsFor\"\n",
    "    FROM prod.features\n",
    "    WHERE \"Season Type\" = 'Regular'\n",
    "    GROUP BY \"Season\", \"Team\"\n",
    "'''\n",
    "\n",
    "df = pd.read_sql_query(query, conn)\n",
    "conn.close()"
   ]
  },
  {
   "cell_type": "code",
   "execution_count": null,
   "metadata": {},
   "outputs": [],
   "source": [
    "df.head()"
   ]
  },
  {
   "cell_type": "code",
   "execution_count": null,
   "metadata": {
    "collapsed": true
   },
   "outputs": [],
   "source": [
    "datarows = []\n",
    "for i in df.itertuples(index=False):\n",
    "    row = (int(i.Season), int(i.Team), float(i.AvgPointsFor), float(i.AvgPointsAgainst), float(i.AvgNetPointsFor))\n",
    "    datarows.append(row)"
   ]
  },
  {
   "cell_type": "code",
   "execution_count": null,
   "metadata": {
    "collapsed": true
   },
   "outputs": [],
   "source": [
    "alter = '''\n",
    "    ALTER TABLE prod.features\n",
    "      ADD COLUMN IF NOT EXISTS \"AvgPointsFor\" REAL,\n",
    "      ADD COLUMN IF NOT EXISTS \"AvgPointsAgainst\" REAL,\n",
    "      ADD COLUMN IF NOT EXISTS \"AvgNetPointsFor\" REAL\n",
    "'''\n",
    "\n",
    "update = '''\n",
    "    UPDATE prod.features as f\n",
    "       SET \"AvgPointsFor\" = data.\"AvgPointsFor\",\n",
    "           \"AvgPointsAgainst\" = data.\"AvgPointsAgainst\",\n",
    "           \"AvgNetPointsFor\" = data.\"AvgNetPointsFor\"\n",
    "      FROM (VALUES %s) AS data (\n",
    "             \"Season\",\n",
    "             \"Team\",\n",
    "             \"AvgPointsFor\",\n",
    "             \"AvgPointsAgainst\",\n",
    "             \"AvgNetPointsFor\"\n",
    "             )\n",
    "     WHERE f.\"Season\" = data.\"Season\"\n",
    "       and f.\"Team\" = data.\"Team\"\n",
    "       and f.\"Season Type\" = 'NCAA Tourney'\n",
    "'''\n",
    "\n",
    "conn = pg.connect(database='postgres',\n",
    "                  user='postgres',\n",
    "                  password='w207final',\n",
    "                  host='35.185.225.167')\n",
    "\n",
    "c = conn.cursor()\n",
    "c.execute(alter)\n",
    "execute_values(c, update, datarows, page_size=8000)\n",
    "conn.commit()\n",
    "conn.close()"
   ]
  },
  {
   "cell_type": "code",
   "execution_count": null,
   "metadata": {
    "collapsed": true
   },
   "outputs": [],
   "source": [
    "alter = '''\n",
    "    ALTER TABLE prod.features\n",
    "      ADD COLUMN IF NOT EXISTS \"OpponentAvgPointsFor\" REAL,\n",
    "      ADD COLUMN IF NOT EXISTS \"OpponentAvgPointsAgainst\" REAL,\n",
    "      ADD COLUMN IF NOT EXISTS \"OpponentAvgNetPointsFor\" REAL\n",
    "'''\n",
    "\n",
    "update = '''\n",
    "    UPDATE prod.features as f\n",
    "       SET \"OpponentAvgPointsFor\" = data.\"OpponentAvgPointsFor\",\n",
    "           \"OpponentAvgPointsAgainst\" = data.\"OpponentAvgPointsAgainst\",\n",
    "           \"OpponentAvgNetPointsFor\" = data.\"OpponentAvgNetPointsFor\"\n",
    "      FROM (VALUES %s) AS data (\n",
    "             \"Season\",\n",
    "             \"Opponent\",\n",
    "             \"OpponentAvgPointsFor\",\n",
    "             \"OpponentAvgPointsAgainst\",\n",
    "             \"OpponentAvgNetPointsFor\"\n",
    "             )\n",
    "     WHERE f.\"Season\" = data.\"Season\"\n",
    "       and f.\"Opponent\" = data.\"Opponent\"\n",
    "       and f.\"Season Type\" = 'NCAA Tourney'\n",
    "'''\n",
    "\n",
    "conn = pg.connect(database='postgres',\n",
    "                  user='postgres',\n",
    "                  password='w207final',\n",
    "                  host='35.185.225.167')\n",
    "\n",
    "c = conn.cursor()\n",
    "c.execute(alter)\n",
    "execute_values(c, update, datarows, page_size=8000)\n",
    "conn.commit()\n",
    "conn.close()"
   ]
  },
  {
   "cell_type": "markdown",
   "metadata": {},
   "source": [
    "## Seed\n",
    "\n",
    "- Pre-Tournament Seed Differential\n",
    "- A negative number indicates that team is seeded higher than the opponent"
   ]
  },
  {
   "cell_type": "code",
   "execution_count": null,
   "metadata": {
    "collapsed": true
   },
   "outputs": [],
   "source": [
    "conn = pg.connect(database='postgres',\n",
    "                  user='postgres',\n",
    "                  password='w207final',\n",
    "                  host='35.185.225.167')\n",
    "\n",
    "# pull regular season and tourney data to build indexes\n",
    "query = '''\n",
    "    SELECT \"Season\", \"TeamID\" as \"Team\", \"Seed\"\n",
    "    FROM prod.\"TourneySeeds\"\n",
    "'''\n",
    "\n",
    "df = pd.read_sql_query(query, conn)\n",
    "conn.close()\n",
    "\n",
    "def seed_to_int(seed):\n",
    "    #Get just the digits from the seeding. Return as int\n",
    "    s_int = int(seed[1:3])\n",
    "    return s_int\n",
    "\n",
    "df['seed_int'] = df.Seed.apply(seed_to_int)\n",
    "df.drop(labels=['Seed'], inplace=True, axis=1) # This is the string label\n",
    "df.head()"
   ]
  },
  {
   "cell_type": "code",
   "execution_count": null,
   "metadata": {
    "collapsed": true
   },
   "outputs": [],
   "source": [
    "# pull tourney matchups\n",
    "conn = pg.connect(database='postgres',\n",
    "                  user='postgres',\n",
    "                  password='w207final',\n",
    "                  host='35.185.225.167')\n",
    "\n",
    "query = '''\n",
    "    SELECT DISTINCT \"Season\", \"Team\", \"Opponent\"\n",
    "    FROM prod.features\n",
    "    WHERE \"Season Type\" = 'NCAA Tourney'\n",
    "'''\n",
    "\n",
    "matchups = pd.read_sql_query(query, conn)\n",
    "matchups.shape"
   ]
  },
  {
   "cell_type": "code",
   "execution_count": null,
   "metadata": {
    "collapsed": true
   },
   "outputs": [],
   "source": [
    "seed_matchup = pd.merge(matchups, df, how='left', on=['Season', 'Team'])\n",
    "seed2 = df.rename(columns={'Team': 'Opponent', 'seed_int': 'opponent_seed_int'})\n",
    "seed_matchup2 = pd.merge(seed_matchup, seed2, how='left', on=['Season', 'Opponent'])\n",
    "seed_matchup2['SeedDiff'] = seed_matchup2['seed_int'] - seed_matchup2['opponent_seed_int']\n",
    "seed_matchup2.head()"
   ]
  },
  {
   "cell_type": "code",
   "execution_count": null,
   "metadata": {
    "collapsed": true
   },
   "outputs": [],
   "source": [
    "datarows = []\n",
    "for i in seed_matchup2.itertuples(index=False):\n",
    "    row = (int(i.Season), int(i.Team), int(i.Opponent), int(i.SeedDiff))\n",
    "    datarows.append(row)"
   ]
  },
  {
   "cell_type": "code",
   "execution_count": null,
   "metadata": {
    "collapsed": true
   },
   "outputs": [],
   "source": [
    "len(datarows)"
   ]
  },
  {
   "cell_type": "code",
   "execution_count": null,
   "metadata": {
    "collapsed": true
   },
   "outputs": [],
   "source": [
    "alter = '''\n",
    "    ALTER TABLE prod.features\n",
    "      ADD COLUMN IF NOT EXISTS \"SeedDiff\" int\n",
    "'''\n",
    "\n",
    "update = '''\n",
    "    UPDATE prod.features as f\n",
    "       SET \"SeedDiff\" = data.\"SeedDiff\"\n",
    "      FROM (VALUES %s) AS data (\n",
    "             \"Season\",\n",
    "             \"Team\",\n",
    "             \"Opponent\",\n",
    "             \"SeedDiff\"\n",
    "             )\n",
    "     WHERE f.\"Season\" = data.\"Season\"\n",
    "       and f.\"Team\" = data.\"Team\"\n",
    "       and f.\"Opponent\" = data.\"Opponent\"\n",
    "       and f.\"Season Type\" = 'NCAA Tourney'\n",
    "'''\n",
    "\n",
    "conn = pg.connect(database='postgres',\n",
    "                  user='postgres',\n",
    "                  password='w207final',\n",
    "                  host='35.185.225.167')\n",
    "\n",
    "c = conn.cursor()\n",
    "c.execute(alter)\n",
    "execute_values(c, update, datarows, page_size=8000)\n",
    "conn.commit()\n",
    "conn.close()"
   ]
  },
  {
   "cell_type": "code",
   "execution_count": null,
   "metadata": {
    "collapsed": true
   },
   "outputs": [],
   "source": []
  }
 ],
 "metadata": {
  "kernelspec": {
   "display_name": "Python 3",
   "language": "python",
   "name": "python3"
  },
  "language_info": {
   "codemirror_mode": {
    "name": "ipython",
    "version": 3
   },
   "file_extension": ".py",
   "mimetype": "text/x-python",
   "name": "python",
   "nbconvert_exporter": "python",
   "pygments_lexer": "ipython3",
   "version": "3.6.3"
  }
 },
 "nbformat": 4,
 "nbformat_minor": 2
}
