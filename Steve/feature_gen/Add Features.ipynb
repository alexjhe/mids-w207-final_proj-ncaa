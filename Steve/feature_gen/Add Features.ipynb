{
 "cells": [
  {
   "cell_type": "markdown",
   "metadata": {},
   "source": [
    "# Add Features"
   ]
  },
  {
   "cell_type": "code",
   "execution_count": 1,
   "metadata": {
    "collapsed": true
   },
   "outputs": [],
   "source": [
    "import psycopg2 as pg\n",
    "import pandas as pd\n",
    "import numpy as np\n",
    "\n",
    "from psycopg2.extras import execute_values"
   ]
  },
  {
   "cell_type": "markdown",
   "metadata": {},
   "source": [
    "1. Regular Season Win Percentage\n",
    "2. Regular Season Opponents Win Percentage\n",
    "3. Regular Season Win Percentage Differential\n",
    "4. Conference\n",
    "5. Conference Difficulty per Season\n",
    "6. Schedule Difficulty\n",
    "7. NCAA Tourney Seed Differential"
   ]
  },
  {
   "cell_type": "markdown",
   "metadata": {},
   "source": [
    "## Win Percentage"
   ]
  },
  {
   "cell_type": "code",
   "execution_count": 2,
   "metadata": {
    "collapsed": true
   },
   "outputs": [],
   "source": [
    "conn = pg.connect(database='postgres',\n",
    "                  user='postgres',\n",
    "                  password='w207final',\n",
    "                  host='35.185.225.167')\n",
    "\n",
    "# pull regular season and tourney data to build indexes\n",
    "query = '''\n",
    "    SELECT \"Season\", \"DayNum\", \"Team\", \"Outcome\"\n",
    "    FROM prod.features\n",
    "    WHERE \"Season Type\" = 'Regular'\n",
    "'''\n",
    "\n",
    "df = pd.read_sql_query(query, conn)\n",
    "conn.close()"
   ]
  },
  {
   "cell_type": "code",
   "execution_count": 3,
   "metadata": {},
   "outputs": [
    {
     "data": {
      "text/plain": [
       "(164082, 4)"
      ]
     },
     "execution_count": 3,
     "metadata": {},
     "output_type": "execute_result"
    }
   ],
   "source": [
    "df.shape"
   ]
  },
  {
   "cell_type": "code",
   "execution_count": null,
   "metadata": {
    "collapsed": true
   },
   "outputs": [],
   "source": [
    "# wins per team\n",
    "wins = df[['Season', 'Team', 'Outcome']].groupby(by=[\"Season\", \"Team\"]).agg(['sum', 'count'])\n",
    "wins.reset_index(inplace=True)\n",
    "wins.columns = [' '.join(col).strip() for col in wins.columns.values]\n",
    "wins.rename(columns={'Outcome sum': 'wins', 'Outcome count': 'games'}, inplace=True)\n",
    "wins['winpct'] = wins['wins'] / wins['games']"
   ]
  },
  {
   "cell_type": "code",
   "execution_count": null,
   "metadata": {},
   "outputs": [],
   "source": [
    "wins.head()\n",
    "wins.shape"
   ]
  },
  {
   "cell_type": "code",
   "execution_count": null,
   "metadata": {
    "collapsed": true
   },
   "outputs": [],
   "source": [
    "# pull tourney matchups\n",
    "conn = pg.connect(database='postgres',\n",
    "                  user='postgres',\n",
    "                  password='w207final',\n",
    "                  host='35.185.225.167')\n",
    "\n",
    "query = '''\n",
    "    SELECT DISTINCT \"Season\", \"Team\", \"Opponent\"\n",
    "    FROM prod.features\n",
    "    WHERE \"Season Type\" = 'NCAA Tourney'\n",
    "'''\n",
    "\n",
    "matchups = pd.read_sql_query(query, conn)"
   ]
  },
  {
   "cell_type": "code",
   "execution_count": null,
   "metadata": {
    "scrolled": true
   },
   "outputs": [],
   "source": [
    "matchups.head()\n",
    "matchups.shape"
   ]
  },
  {
   "cell_type": "code",
   "execution_count": null,
   "metadata": {},
   "outputs": [],
   "source": [
    "wins2.head()"
   ]
  },
  {
   "cell_type": "code",
   "execution_count": null,
   "metadata": {},
   "outputs": [],
   "source": [
    "wins_matchup = pd.merge(matchups, wins, how='left', on=['Season', 'Team'])\n",
    "wins2 = wins[['Season', 'Team', 'winpct']].rename(columns={'Team': 'Opponent', 'winpct': 'OpponentWinpct'})\n",
    "wins_matchup2 = pd.merge(wins_matchup, wins2, how='left', on=['Season', 'Opponent'])\n",
    "wins_matchup2.head()"
   ]
  },
  {
   "cell_type": "code",
   "execution_count": null,
   "metadata": {
    "collapsed": true
   },
   "outputs": [],
   "source": [
    "to_load = wins_matchup2[['Season', 'Team', 'Opponent', 'winpct', 'OpponentWinpct']].copy()\n",
    "to_load['winpctDiff'] = to_load['winpct'] - to_load['OpponentWinpct']"
   ]
  },
  {
   "cell_type": "code",
   "execution_count": null,
   "metadata": {
    "collapsed": true
   },
   "outputs": [],
   "source": [
    "datarows = []\n",
    "for i in to_load.itertuples(index=False):\n",
    "    row = (int(i.Season), int(i.Team), int(i.Opponent), float(i.winpct), float(i.OpponentWinpct), float(i.winpctDiff))\n",
    "    datarows.append(row)"
   ]
  },
  {
   "cell_type": "code",
   "execution_count": null,
   "metadata": {
    "collapsed": true
   },
   "outputs": [],
   "source": [
    "alter = '''\n",
    "    ALTER TABLE prod.features\n",
    "      ADD COLUMN IF NOT EXISTS \"WinPct\" REAL,\n",
    "      ADD COLUMN IF NOT EXISTS \"OpponentWinPct\" REAL,\n",
    "      ADD COLUMN IF NOT EXISTS \"WinPctDiff\" REAL\n",
    "'''\n",
    "\n",
    "update = '''\n",
    "    UPDATE prod.features as f\n",
    "       SET \"WinPct\" = data.\"WinPct\",\n",
    "           \"OpponentWinPct\" = data.\"OpponentWinPct\",\n",
    "           \"WinPctDiff\" = data.\"WinPctDiff\"\n",
    "      FROM (VALUES %s) AS data (\n",
    "             \"Season\",\n",
    "             \"Team\",\n",
    "             \"Opponent\",\n",
    "             \"WinPct\",\n",
    "             \"OpponentWinPct\",\n",
    "             \"WinPctDiff\"\n",
    "             )\n",
    "     WHERE f.\"Season\" = data.\"Season\"\n",
    "       and f.\"Team\" = data.\"Team\"\n",
    "       and f.\"Opponent\" = data.\"Opponent\"\n",
    "       and f.\"Season Type\" = 'NCAA Tourney'\n",
    "'''\n",
    "\n",
    "conn = pg.connect(database='postgres',\n",
    "                  user='postgres',\n",
    "                  password='w207final',\n",
    "                  host='35.185.225.167')\n",
    "\n",
    "c = conn.cursor()\n",
    "c.execute(alter)\n",
    "execute_values(c, update, datarows, page_size=8000)\n",
    "conn.commit()\n",
    "conn.close()"
   ]
  },
  {
   "cell_type": "markdown",
   "metadata": {
    "collapsed": true
   },
   "source": [
    "## Points For / Against\n",
    "\n",
    "- Average points scored in the regular season\n",
    "- Average points scored by opponents faced in the regular season\n",
    "- Average of Difference between points scored versus points scored by opponents in the regular season\n",
    "  - Note this is not the difference between the two teams in the tourney match up\n",
    "  - We can calculate Average Points For differential if we want to compare the two teams in the tournament\n",
    "- Do all of the above for both Team and Opponent\n",
    "- Find Differential\n"
   ]
  },
  {
   "cell_type": "code",
   "execution_count": 4,
   "metadata": {
    "collapsed": true
   },
   "outputs": [],
   "source": [
    "conn = pg.connect(database='postgres',\n",
    "                  user='postgres',\n",
    "                  password='w207final',\n",
    "                  host='35.185.225.167')\n",
    "\n",
    "# pull regular season and tourney data to build indexes\n",
    "query = '''\n",
    "    SELECT \"Season\", \"Team\",\n",
    "        AVG(\"Score\") as \"AvgPointsFor\",\n",
    "        AVG(\"OpponentScore\") as \"AvgPointsAgainst\",\n",
    "        AVG(\"Score\" - \"OpponentScore\") as \"AvgNetPointsFor\"\n",
    "    FROM prod.features\n",
    "    WHERE \"Season Type\" = 'Regular'\n",
    "    GROUP BY \"Season\", \"Team\"\n",
    "'''\n",
    "\n",
    "df = pd.read_sql_query(query, conn)\n",
    "conn.close()"
   ]
  },
  {
   "cell_type": "code",
   "execution_count": 5,
   "metadata": {},
   "outputs": [
    {
     "data": {
      "text/html": [
       "<div>\n",
       "<style>\n",
       "    .dataframe thead tr:only-child th {\n",
       "        text-align: right;\n",
       "    }\n",
       "\n",
       "    .dataframe thead th {\n",
       "        text-align: left;\n",
       "    }\n",
       "\n",
       "    .dataframe tbody tr th {\n",
       "        vertical-align: top;\n",
       "    }\n",
       "</style>\n",
       "<table border=\"1\" class=\"dataframe\">\n",
       "  <thead>\n",
       "    <tr style=\"text-align: right;\">\n",
       "      <th></th>\n",
       "      <th>Season</th>\n",
       "      <th>Team</th>\n",
       "      <th>AvgPointsFor</th>\n",
       "      <th>AvgPointsAgainst</th>\n",
       "      <th>AvgNetPointsFor</th>\n",
       "    </tr>\n",
       "  </thead>\n",
       "  <tbody>\n",
       "    <tr>\n",
       "      <th>0</th>\n",
       "      <td>2011</td>\n",
       "      <td>1104</td>\n",
       "      <td>66.656250</td>\n",
       "      <td>59.250000</td>\n",
       "      <td>7.406250</td>\n",
       "    </tr>\n",
       "    <tr>\n",
       "      <th>1</th>\n",
       "      <td>2003</td>\n",
       "      <td>1358</td>\n",
       "      <td>71.777778</td>\n",
       "      <td>65.259259</td>\n",
       "      <td>6.518519</td>\n",
       "    </tr>\n",
       "    <tr>\n",
       "      <th>2</th>\n",
       "      <td>2003</td>\n",
       "      <td>1276</td>\n",
       "      <td>69.000000</td>\n",
       "      <td>67.266667</td>\n",
       "      <td>1.733333</td>\n",
       "    </tr>\n",
       "    <tr>\n",
       "      <th>3</th>\n",
       "      <td>2004</td>\n",
       "      <td>1433</td>\n",
       "      <td>70.800000</td>\n",
       "      <td>63.566667</td>\n",
       "      <td>7.233333</td>\n",
       "    </tr>\n",
       "    <tr>\n",
       "      <th>4</th>\n",
       "      <td>2007</td>\n",
       "      <td>1205</td>\n",
       "      <td>63.172414</td>\n",
       "      <td>72.758621</td>\n",
       "      <td>-9.586207</td>\n",
       "    </tr>\n",
       "  </tbody>\n",
       "</table>\n",
       "</div>"
      ],
      "text/plain": [
       "   Season  Team  AvgPointsFor  AvgPointsAgainst  AvgNetPointsFor\n",
       "0    2011  1104     66.656250         59.250000         7.406250\n",
       "1    2003  1358     71.777778         65.259259         6.518519\n",
       "2    2003  1276     69.000000         67.266667         1.733333\n",
       "3    2004  1433     70.800000         63.566667         7.233333\n",
       "4    2007  1205     63.172414         72.758621        -9.586207"
      ]
     },
     "execution_count": 5,
     "metadata": {},
     "output_type": "execute_result"
    }
   ],
   "source": [
    "df.head()"
   ]
  },
  {
   "cell_type": "code",
   "execution_count": 6,
   "metadata": {
    "collapsed": true
   },
   "outputs": [],
   "source": [
    "datarows = []\n",
    "for i in df.itertuples(index=False):\n",
    "    row = (int(i.Season), int(i.Team), float(i.AvgPointsFor), float(i.AvgPointsAgainst), float(i.AvgNetPointsFor))\n",
    "    datarows.append(row)"
   ]
  },
  {
   "cell_type": "code",
   "execution_count": null,
   "metadata": {
    "collapsed": true
   },
   "outputs": [],
   "source": [
    "alter = '''\n",
    "    ALTER TABLE prod.features\n",
    "      ADD COLUMN IF NOT EXISTS \"AvgPointsFor\" REAL,\n",
    "      ADD COLUMN IF NOT EXISTS \"AvgPointsAgainst\" REAL,\n",
    "      ADD COLUMN IF NOT EXISTS \"AvgNetPointsFor\" REAL\n",
    "'''\n",
    "\n",
    "update = '''\n",
    "    UPDATE prod.features as f\n",
    "       SET \"AvgPointsFor\" = data.\"AvgPointsFor\",\n",
    "           \"AvgPointsAgainst\" = data.\"AvgPointsAgainst\",\n",
    "           \"AvgNetPointsFor\" = data.\"AvgNetPointsFor\"\n",
    "      FROM (VALUES %s) AS data (\n",
    "             \"Season\",\n",
    "             \"Team\",\n",
    "             \"AvgPointsFor\",\n",
    "             \"AvgPointsAgainst\",\n",
    "             \"AvgNetPointsFor\"\n",
    "             )\n",
    "     WHERE f.\"Season\" = data.\"Season\"\n",
    "       and f.\"Team\" = data.\"Team\"\n",
    "       and f.\"Season Type\" = 'NCAA Tourney'\n",
    "'''\n",
    "\n",
    "conn = pg.connect(database='postgres',\n",
    "                  user='postgres',\n",
    "                  password='w207final',\n",
    "                  host='35.185.225.167')\n",
    "\n",
    "c = conn.cursor()\n",
    "c.execute(alter)\n",
    "execute_values(c, update, datarows, page_size=8000)\n",
    "conn.commit()\n",
    "conn.close()"
   ]
  },
  {
   "cell_type": "code",
   "execution_count": 8,
   "metadata": {
    "collapsed": true
   },
   "outputs": [],
   "source": [
    "alter = '''\n",
    "    ALTER TABLE prod.features\n",
    "      ADD COLUMN IF NOT EXISTS \"OpponentAvgPointsFor\" REAL,\n",
    "      ADD COLUMN IF NOT EXISTS \"OpponentAvgPointsAgainst\" REAL,\n",
    "      ADD COLUMN IF NOT EXISTS \"OpponentAvgNetPointsFor\" REAL\n",
    "'''\n",
    "\n",
    "update = '''\n",
    "    UPDATE prod.features as f\n",
    "       SET \"OpponentAvgPointsFor\" = data.\"OpponentAvgPointsFor\",\n",
    "           \"OpponentAvgPointsAgainst\" = data.\"OpponentAvgPointsAgainst\",\n",
    "           \"OpponentAvgNetPointsFor\" = data.\"OpponentAvgNetPointsFor\"\n",
    "      FROM (VALUES %s) AS data (\n",
    "             \"Season\",\n",
    "             \"Opponent\",\n",
    "             \"OpponentAvgPointsFor\",\n",
    "             \"OpponentAvgPointsAgainst\",\n",
    "             \"OpponentAvgNetPointsFor\"\n",
    "             )\n",
    "     WHERE f.\"Season\" = data.\"Season\"\n",
    "       and f.\"Opponent\" = data.\"Opponent\"\n",
    "       and f.\"Season Type\" = 'NCAA Tourney'\n",
    "'''\n",
    "\n",
    "conn = pg.connect(database='postgres',\n",
    "                  user='postgres',\n",
    "                  password='w207final',\n",
    "                  host='35.185.225.167')\n",
    "\n",
    "c = conn.cursor()\n",
    "c.execute(alter)\n",
    "execute_values(c, update, datarows, page_size=8000)\n",
    "conn.commit()\n",
    "conn.close()"
   ]
  },
  {
   "cell_type": "markdown",
   "metadata": {},
   "source": [
    "## Seed\n",
    "\n",
    "- Pre-Tournament Seed Differential\n",
    "- A negative number indicates that team is seeded higher than the opponent"
   ]
  },
  {
   "cell_type": "code",
   "execution_count": null,
   "metadata": {},
   "outputs": [],
   "source": [
    "conn = pg.connect(database='postgres',\n",
    "                  user='postgres',\n",
    "                  password='w207final',\n",
    "                  host='35.185.225.167')\n",
    "\n",
    "# pull regular season and tourney data to build indexes\n",
    "query = '''\n",
    "    SELECT \"Season\", \"TeamID\" as \"Team\", \"Seed\"\n",
    "    FROM prod.\"TourneySeeds\"\n",
    "'''\n",
    "\n",
    "df = pd.read_sql_query(query, conn)\n",
    "conn.close()\n",
    "\n",
    "def seed_to_int(seed):\n",
    "    #Get just the digits from the seeding. Return as int\n",
    "    s_int = int(seed[1:3])\n",
    "    return s_int\n",
    "\n",
    "df['seed_int'] = df.Seed.apply(seed_to_int)\n",
    "df.drop(labels=['Seed'], inplace=True, axis=1) # This is the string label\n",
    "df.head()"
   ]
  },
  {
   "cell_type": "code",
   "execution_count": null,
   "metadata": {},
   "outputs": [],
   "source": [
    "# pull tourney matchups\n",
    "conn = pg.connect(database='postgres',\n",
    "                  user='postgres',\n",
    "                  password='w207final',\n",
    "                  host='35.185.225.167')\n",
    "\n",
    "query = '''\n",
    "    SELECT DISTINCT \"Season\", \"Team\", \"Opponent\"\n",
    "    FROM prod.features\n",
    "    WHERE \"Season Type\" = 'NCAA Tourney'\n",
    "'''\n",
    "\n",
    "matchups = pd.read_sql_query(query, conn)\n",
    "matchups.shape"
   ]
  },
  {
   "cell_type": "code",
   "execution_count": null,
   "metadata": {},
   "outputs": [],
   "source": [
    "seed_matchup = pd.merge(matchups, df, how='left', on=['Season', 'Team'])\n",
    "seed2 = df.rename(columns={'Team': 'Opponent', 'seed_int': 'opponent_seed_int'})\n",
    "seed_matchup2 = pd.merge(seed_matchup, seed2, how='left', on=['Season', 'Opponent'])\n",
    "seed_matchup2['SeedDiff'] = seed_matchup2['seed_int'] - seed_matchup2['opponent_seed_int']\n",
    "seed_matchup2.head()"
   ]
  },
  {
   "cell_type": "code",
   "execution_count": null,
   "metadata": {
    "collapsed": true
   },
   "outputs": [],
   "source": [
    "datarows = []\n",
    "for i in seed_matchup2.itertuples(index=False):\n",
    "    row = (int(i.Season), int(i.Team), int(i.Opponent), int(i.SeedDiff))\n",
    "    datarows.append(row)"
   ]
  },
  {
   "cell_type": "code",
   "execution_count": null,
   "metadata": {},
   "outputs": [],
   "source": [
    "len(datarows)"
   ]
  },
  {
   "cell_type": "code",
   "execution_count": null,
   "metadata": {
    "collapsed": true
   },
   "outputs": [],
   "source": [
    "alter = '''\n",
    "    ALTER TABLE prod.features\n",
    "      ADD COLUMN IF NOT EXISTS \"SeedDiff\" int\n",
    "'''\n",
    "\n",
    "update = '''\n",
    "    UPDATE prod.features as f\n",
    "       SET \"SeedDiff\" = data.\"SeedDiff\"\n",
    "      FROM (VALUES %s) AS data (\n",
    "             \"Season\",\n",
    "             \"Team\",\n",
    "             \"Opponent\",\n",
    "             \"SeedDiff\"\n",
    "             )\n",
    "     WHERE f.\"Season\" = data.\"Season\"\n",
    "       and f.\"Team\" = data.\"Team\"\n",
    "       and f.\"Opponent\" = data.\"Opponent\"\n",
    "       and f.\"Season Type\" = 'NCAA Tourney'\n",
    "'''\n",
    "\n",
    "conn = pg.connect(database='postgres',\n",
    "                  user='postgres',\n",
    "                  password='w207final',\n",
    "                  host='35.185.225.167')\n",
    "\n",
    "c = conn.cursor()\n",
    "c.execute(alter)\n",
    "execute_values(c, update, datarows, page_size=8000)\n",
    "conn.commit()\n",
    "conn.close()"
   ]
  },
  {
   "cell_type": "code",
   "execution_count": null,
   "metadata": {
    "collapsed": true
   },
   "outputs": [],
   "source": []
  }
 ],
 "metadata": {
  "kernelspec": {
   "display_name": "Python 3",
   "language": "python",
   "name": "python3"
  },
  "language_info": {
   "codemirror_mode": {
    "name": "ipython",
    "version": 3
   },
   "file_extension": ".py",
   "mimetype": "text/x-python",
   "name": "python",
   "nbconvert_exporter": "python",
   "pygments_lexer": "ipython3",
   "version": "3.6.3"
  }
 },
 "nbformat": 4,
 "nbformat_minor": 2
}
