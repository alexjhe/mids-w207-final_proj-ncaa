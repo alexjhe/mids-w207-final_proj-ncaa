{
 "cells": [
  {
   "cell_type": "markdown",
   "metadata": {},
   "source": [
    "# Preliminary Models"
   ]
  },
  {
   "cell_type": "code",
   "execution_count": 3,
   "metadata": {
    "collapsed": true
   },
   "outputs": [],
   "source": [
    "# This tells matplotlib not to try opening a new window for each plot.\n",
    "%matplotlib inline\n",
    "\n",
    "import numpy as np\n",
    "import pandas as pd\n",
    "import matplotlib.pyplot as plt\n",
    "import psycopg2 as pg\n",
    "\n",
    "from sklearn.metrics import confusion_matrix\n",
    "from sklearn import metrics\n",
    "from sklearn.metrics import classification_report\n",
    "\n",
    "from sklearn.linear_model import LogisticRegression\n",
    "from sklearn.naive_bayes import GaussianNB"
   ]
  },
  {
   "cell_type": "markdown",
   "metadata": {},
   "source": [
    "## Data"
   ]
  },
  {
   "cell_type": "code",
   "execution_count": 6,
   "metadata": {},
   "outputs": [],
   "source": [
    "query = '''\n",
    "    SELECT *\n",
    "    FROM prod.features\n",
    "    WHERE \"Season Type\" = 'NCAA Tourney' and\n",
    "        holdout_s2 = 0\n",
    "'''\n",
    "\n",
    "conn = pg.connect(database='postgres',\n",
    "                  user='postgres',\n",
    "                  password='w207final',\n",
    "                  host='35.185.225.167')\n",
    "\n",
    "df = pd.read_sql_query(query, conn)\n",
    "df_train = df[df['holdout_s1'] == 0]\n",
    "df_test = df[df['holdout_s1'] == 1]"
   ]
  },
  {
   "cell_type": "code",
   "execution_count": 5,
   "metadata": {},
   "outputs": [
    {
     "data": {
      "text/html": [
       "<div>\n",
       "<style>\n",
       "    .dataframe thead tr:only-child th {\n",
       "        text-align: right;\n",
       "    }\n",
       "\n",
       "    .dataframe thead th {\n",
       "        text-align: left;\n",
       "    }\n",
       "\n",
       "    .dataframe tbody tr th {\n",
       "        vertical-align: top;\n",
       "    }\n",
       "</style>\n",
       "<table border=\"1\" class=\"dataframe\">\n",
       "  <thead>\n",
       "    <tr style=\"text-align: right;\">\n",
       "      <th></th>\n",
       "      <th>Season</th>\n",
       "      <th>DayNum</th>\n",
       "      <th>Team</th>\n",
       "      <th>Opponent</th>\n",
       "      <th>Outcome</th>\n",
       "      <th>Score</th>\n",
       "      <th>OpponentScore</th>\n",
       "      <th>NumOT</th>\n",
       "      <th>WLoc</th>\n",
       "      <th>Season Type</th>\n",
       "      <th>...</th>\n",
       "      <th>FreeThrowPct_Opponent</th>\n",
       "      <th>OffensiveRebounds_Opponent</th>\n",
       "      <th>DefensiveRebounds_Opponent</th>\n",
       "      <th>WinPct</th>\n",
       "      <th>OpponentWinPct</th>\n",
       "      <th>WinPctDiff</th>\n",
       "      <th>AvgPointsFor</th>\n",
       "      <th>AvgPointsAgainst</th>\n",
       "      <th>AvgNetPointsFor</th>\n",
       "      <th>SeedDiff</th>\n",
       "    </tr>\n",
       "  </thead>\n",
       "  <tbody>\n",
       "    <tr>\n",
       "      <th>0</th>\n",
       "      <td>2003</td>\n",
       "      <td>138</td>\n",
       "      <td>1113</td>\n",
       "      <td>1242</td>\n",
       "      <td>0</td>\n",
       "      <td>76</td>\n",
       "      <td>108</td>\n",
       "      <td>0</td>\n",
       "      <td>N</td>\n",
       "      <td>NCAA Tourney</td>\n",
       "      <td>...</td>\n",
       "      <td>0.661631</td>\n",
       "      <td>14.300000</td>\n",
       "      <td>26.900000</td>\n",
       "      <td>0.620690</td>\n",
       "      <td>0.766667</td>\n",
       "      <td>-0.145977</td>\n",
       "      <td>75.9655</td>\n",
       "      <td>69.1724</td>\n",
       "      <td>6.79310</td>\n",
       "      <td>8</td>\n",
       "    </tr>\n",
       "    <tr>\n",
       "      <th>1</th>\n",
       "      <td>2003</td>\n",
       "      <td>137</td>\n",
       "      <td>1120</td>\n",
       "      <td>1386</td>\n",
       "      <td>1</td>\n",
       "      <td>65</td>\n",
       "      <td>63</td>\n",
       "      <td>1</td>\n",
       "      <td>N</td>\n",
       "      <td>NCAA Tourney</td>\n",
       "      <td>...</td>\n",
       "      <td>0.673550</td>\n",
       "      <td>11.172414</td>\n",
       "      <td>24.137931</td>\n",
       "      <td>0.633333</td>\n",
       "      <td>0.793103</td>\n",
       "      <td>-0.159770</td>\n",
       "      <td>70.1000</td>\n",
       "      <td>65.5667</td>\n",
       "      <td>4.53333</td>\n",
       "      <td>3</td>\n",
       "    </tr>\n",
       "    <tr>\n",
       "      <th>2</th>\n",
       "      <td>2003</td>\n",
       "      <td>144</td>\n",
       "      <td>1120</td>\n",
       "      <td>1393</td>\n",
       "      <td>0</td>\n",
       "      <td>78</td>\n",
       "      <td>79</td>\n",
       "      <td>0</td>\n",
       "      <td>N</td>\n",
       "      <td>NCAA Tourney</td>\n",
       "      <td>...</td>\n",
       "      <td>0.687824</td>\n",
       "      <td>14.310345</td>\n",
       "      <td>26.896552</td>\n",
       "      <td>0.633333</td>\n",
       "      <td>0.827586</td>\n",
       "      <td>-0.194253</td>\n",
       "      <td>70.1000</td>\n",
       "      <td>65.5667</td>\n",
       "      <td>4.53333</td>\n",
       "      <td>7</td>\n",
       "    </tr>\n",
       "    <tr>\n",
       "      <th>3</th>\n",
       "      <td>2003</td>\n",
       "      <td>137</td>\n",
       "      <td>1190</td>\n",
       "      <td>1448</td>\n",
       "      <td>0</td>\n",
       "      <td>73</td>\n",
       "      <td>76</td>\n",
       "      <td>0</td>\n",
       "      <td>N</td>\n",
       "      <td>NCAA Tourney</td>\n",
       "      <td>...</td>\n",
       "      <td>0.755330</td>\n",
       "      <td>14.758621</td>\n",
       "      <td>26.931034</td>\n",
       "      <td>0.629630</td>\n",
       "      <td>0.827586</td>\n",
       "      <td>-0.197957</td>\n",
       "      <td>79.7037</td>\n",
       "      <td>77.4815</td>\n",
       "      <td>2.22222</td>\n",
       "      <td>13</td>\n",
       "    </tr>\n",
       "    <tr>\n",
       "      <th>4</th>\n",
       "      <td>2003</td>\n",
       "      <td>137</td>\n",
       "      <td>1237</td>\n",
       "      <td>1246</td>\n",
       "      <td>0</td>\n",
       "      <td>64</td>\n",
       "      <td>95</td>\n",
       "      <td>0</td>\n",
       "      <td>N</td>\n",
       "      <td>NCAA Tourney</td>\n",
       "      <td>...</td>\n",
       "      <td>0.709655</td>\n",
       "      <td>12.875000</td>\n",
       "      <td>24.156250</td>\n",
       "      <td>0.593750</td>\n",
       "      <td>0.906250</td>\n",
       "      <td>-0.312500</td>\n",
       "      <td>71.2500</td>\n",
       "      <td>70.4062</td>\n",
       "      <td>0.84375</td>\n",
       "      <td>15</td>\n",
       "    </tr>\n",
       "  </tbody>\n",
       "</table>\n",
       "<p>5 rows × 31 columns</p>\n",
       "</div>"
      ],
      "text/plain": [
       "   Season  DayNum  Team  Opponent  Outcome  Score  OpponentScore  NumOT WLoc  \\\n",
       "0    2003     138  1113      1242        0     76            108      0    N   \n",
       "1    2003     137  1120      1386        1     65             63      1    N   \n",
       "2    2003     144  1120      1393        0     78             79      0    N   \n",
       "3    2003     137  1190      1448        0     73             76      0    N   \n",
       "4    2003     137  1237      1246        0     64             95      0    N   \n",
       "\n",
       "    Season Type    ...     FreeThrowPct_Opponent  OffensiveRebounds_Opponent  \\\n",
       "0  NCAA Tourney    ...                  0.661631                   14.300000   \n",
       "1  NCAA Tourney    ...                  0.673550                   11.172414   \n",
       "2  NCAA Tourney    ...                  0.687824                   14.310345   \n",
       "3  NCAA Tourney    ...                  0.755330                   14.758621   \n",
       "4  NCAA Tourney    ...                  0.709655                   12.875000   \n",
       "\n",
       "   DefensiveRebounds_Opponent    WinPct  OpponentWinPct  WinPctDiff  \\\n",
       "0                   26.900000  0.620690        0.766667   -0.145977   \n",
       "1                   24.137931  0.633333        0.793103   -0.159770   \n",
       "2                   26.896552  0.633333        0.827586   -0.194253   \n",
       "3                   26.931034  0.629630        0.827586   -0.197957   \n",
       "4                   24.156250  0.593750        0.906250   -0.312500   \n",
       "\n",
       "   AvgPointsFor  AvgPointsAgainst  AvgNetPointsFor  SeedDiff  \n",
       "0       75.9655           69.1724          6.79310         8  \n",
       "1       70.1000           65.5667          4.53333         3  \n",
       "2       70.1000           65.5667          4.53333         7  \n",
       "3       79.7037           77.4815          2.22222        13  \n",
       "4       71.2500           70.4062          0.84375        15  \n",
       "\n",
       "[5 rows x 31 columns]"
      ]
     },
     "execution_count": 5,
     "metadata": {},
     "output_type": "execute_result"
    }
   ],
   "source": [
    "df_t()"
   ]
  },
  {
   "cell_type": "markdown",
   "metadata": {},
   "source": [
    "## Logistic Regression"
   ]
  },
  {
   "cell_type": "code",
   "execution_count": null,
   "metadata": {
    "collapsed": true
   },
   "outputs": [],
   "source": []
  },
  {
   "cell_type": "code",
   "execution_count": null,
   "metadata": {
    "collapsed": true
   },
   "outputs": [],
   "source": []
  },
  {
   "cell_type": "markdown",
   "metadata": {},
   "source": [
    "## Naive Bayes"
   ]
  },
  {
   "cell_type": "markdown",
   "metadata": {},
   "source": [
    "## Decision Tree"
   ]
  },
  {
   "cell_type": "markdown",
   "metadata": {},
   "source": [
    "## Test Data"
   ]
  },
  {
   "cell_type": "code",
   "execution_count": null,
   "metadata": {
    "collapsed": true
   },
   "outputs": [],
   "source": []
  }
 ],
 "metadata": {
  "kernelspec": {
   "display_name": "Python 3",
   "language": "python",
   "name": "python3"
  },
  "language_info": {
   "codemirror_mode": {
    "name": "ipython",
    "version": 3
   },
   "file_extension": ".py",
   "mimetype": "text/x-python",
   "name": "python",
   "nbconvert_exporter": "python",
   "pygments_lexer": "ipython3",
   "version": "3.6.3"
  }
 },
 "nbformat": 4,
 "nbformat_minor": 2
}
