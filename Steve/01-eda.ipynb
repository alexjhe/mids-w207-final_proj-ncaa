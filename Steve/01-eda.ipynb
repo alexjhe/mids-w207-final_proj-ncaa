{
 "cells": [
  {
   "cell_type": "markdown",
   "metadata": {},
   "source": [
    "# Exploratory Data Analysis"
   ]
  },
  {
   "cell_type": "code",
   "execution_count": 345,
   "metadata": {
    "collapsed": true
   },
   "outputs": [],
   "source": [
    "# This tells matplotlib not to try opening a new window for each plot.\n",
    "%matplotlib inline\n",
    "\n",
    "# display multiple outputs, default is 'last_expr' (last expression)\n",
    "# http://ipython.readthedocs.io/en/stable/config/options/terminal.html\n",
    "from IPython.core.interactiveshell import InteractiveShell\n",
    "InteractiveShell.ast_node_interactivity = \"all\"\n",
    "\n",
    "import numpy as np\n",
    "import pandas as pd\n",
    "import matplotlib.pyplot as plt\n",
    "\n",
    "from sklearn.metrics import confusion_matrix\n",
    "from sklearn import metrics\n",
    "from sklearn.metrics import classification_report"
   ]
  },
  {
   "cell_type": "code",
   "execution_count": 249,
   "metadata": {
    "collapsed": true
   },
   "outputs": [],
   "source": [
    "data_dir = './data/extracted/'\n",
    "out_dir = './output/'"
   ]
  },
  {
   "cell_type": "code",
   "execution_count": 3,
   "metadata": {
    "collapsed": true
   },
   "outputs": [],
   "source": [
    "df_reg_compact = pd.read_csv(data_dir + \"RegularSeasonCompactResults.csv\")\n",
    "df_reg = pd.read_csv(data_dir + \"RegularSeasonDetailedResults.csv\")"
   ]
  },
  {
   "cell_type": "code",
   "execution_count": 325,
   "metadata": {},
   "outputs": [
    {
     "data": {
      "text/plain": [
       "Season      int64\n",
       "DayNum      int64\n",
       "WTeamID     int64\n",
       "WScore      int64\n",
       "LTeamID     int64\n",
       "LScore      int64\n",
       "WLoc       object\n",
       "NumOT       int64\n",
       "dtype: object"
      ]
     },
     "execution_count": 325,
     "metadata": {},
     "output_type": "execute_result"
    }
   ],
   "source": [
    "df_tourney = pd.read_csv(data_dir + \"NCAATourneyCompactResults.csv\")\n",
    "df_tourney.dtypes"
   ]
  },
  {
   "cell_type": "code",
   "execution_count": 5,
   "metadata": {},
   "outputs": [
    {
     "data": {
      "text/plain": [
       "Season      int64\n",
       "DayNum      int64\n",
       "WTeamID     int64\n",
       "WScore      int64\n",
       "LTeamID     int64\n",
       "LScore      int64\n",
       "WLoc       object\n",
       "NumOT       int64\n",
       "dtype: object"
      ]
     },
     "execution_count": 5,
     "metadata": {},
     "output_type": "execute_result"
    }
   ],
   "source": [
    "df_reg_compact.dtypes"
   ]
  },
  {
   "cell_type": "markdown",
   "metadata": {},
   "source": [
    "## Feature Ideas\n",
    "- Team's toughness of schedule. The concept here is that all these teams have made it to the tourney, so the tougher their schedule was to get to the tourney, the better the team.\n",
    "- Use unsupervised learning to form a cluster for each team that is in the tournament. For example, find the 10 best teams that are \"most like each team\" (tbd). The teams do not have to be distinct -- that is, if USC is one of the teams for ASU, it can also be one of the teams for UCLA. See if there is a matchup outcome between clusters of teams.\n",
    "- Use unsupervised learning to group each team into a distnct bucket. Use per bucket standings as a feature.\n",
    "- Geographic distance of teams to venue\n",
    "- See what the MO of a certain team is. Check historical games and see if they won from that MO or some other means. Could this indicate \"flukey\" wins? Or conversely, would this indicate the versatility of a team?\n",
    "- How can we use the quality of individual players as predictors? Do we roll them up to a team level?\n",
    "    - Maybe we create tiers of players and see how many players of each tier are on a team\n",
    "    - Maybe use the max of player quality\n",
    "- Let's say we take something like team rank as classes and try and predict rank based on game level features throughout the year. So what features make a team ranked 1, versus 2, versus 3... Then can we predict the rank of teams, and somehow use that predicted rank in the team level model? So for example, each row is every play (or game) by USC and the target for each of those is the overall rank at the end of the season. Can we use play (or game) features to predict rank?\n",
    "\n",
    "### Contingent Results Idea\n",
    "\n",
    "Let's predict outcome past of regular season games. For this prediction, we use the actual outcome of that game as priors and weight this prior pretty heavily. Then, we create a model with a bunch of other features. E.g. does it make a difference that the game was home versus away? Were there \"flukey\" plays. Were there injured key players? Was there a coaching / staffing change?\n",
    "\n",
    "Using these factors, we try and predict which team wins. That is, we're assuming the actual outcome is the best estimate, but we take into considerations that could have skewed the win. When we have predicted scores, tally up season winpct on predicted scores and model tournament outcomes with the predicted winpcts.\n",
    "\n",
    "### Convert Regular Season Win/Lose to Continuous\n",
    "\n",
    "Use weekly opponent difficulty to so that rather than a binary win/lose variable, we use some continous value between 1 and 0. This essentially weights wins and losses so that not all wins and losses are the same. Then use these numbers at the aggregate to find a \"winpct\" that is a weighted average of these numbers. \n"
   ]
  },
  {
   "cell_type": "markdown",
   "metadata": {
    "collapsed": true
   },
   "source": [
    "## Win Percentage\n",
    "\n",
    "Let's start with something really basic. Use the win percentage of prediction years regular season of both teams. I expect positive weights for win pct and negative weights for opposing team's win pct."
   ]
  },
  {
   "cell_type": "code",
   "execution_count": 90,
   "metadata": {
    "collapsed": true
   },
   "outputs": [],
   "source": [
    "categorical = ['Season', 'DayNum', 'WTeamID', 'LTeamID', 'WLoc']\n",
    "continuous = ['WScore', 'LScore', 'NumOT']\n",
    "\n",
    "df_reg_compact[categorical] = df_reg_compact[categorical].astype(str)"
   ]
  },
  {
   "cell_type": "code",
   "execution_count": 103,
   "metadata": {
    "collapsed": true
   },
   "outputs": [],
   "source": [
    "wins = df_reg_compact[['Season', 'WTeamID', 'DayNum']].groupby(by=['Season', 'WTeamID']).size().reset_index()\n",
    "losses = df_reg_compact[['Season', 'LTeamID', 'DayNum']].groupby(by=['Season', 'LTeamID']).size().reset_index()"
   ]
  },
  {
   "cell_type": "code",
   "execution_count": 184,
   "metadata": {},
   "outputs": [
    {
     "data": {
      "text/html": [
       "<div>\n",
       "<style>\n",
       "    .dataframe thead tr:only-child th {\n",
       "        text-align: right;\n",
       "    }\n",
       "\n",
       "    .dataframe thead th {\n",
       "        text-align: left;\n",
       "    }\n",
       "\n",
       "    .dataframe tbody tr th {\n",
       "        vertical-align: top;\n",
       "    }\n",
       "</style>\n",
       "<table border=\"1\" class=\"dataframe\">\n",
       "  <thead>\n",
       "    <tr style=\"text-align: right;\">\n",
       "      <th></th>\n",
       "      <th>Season</th>\n",
       "      <th>TeamID</th>\n",
       "      <th>Wins</th>\n",
       "      <th>Losses</th>\n",
       "      <th>winpct</th>\n",
       "    </tr>\n",
       "  </thead>\n",
       "  <tbody>\n",
       "    <tr>\n",
       "      <th>0</th>\n",
       "      <td>1985</td>\n",
       "      <td>1102</td>\n",
       "      <td>5.0</td>\n",
       "      <td>19.0</td>\n",
       "      <td>0.208333</td>\n",
       "    </tr>\n",
       "    <tr>\n",
       "      <th>1</th>\n",
       "      <td>1985</td>\n",
       "      <td>1103</td>\n",
       "      <td>9.0</td>\n",
       "      <td>14.0</td>\n",
       "      <td>0.391304</td>\n",
       "    </tr>\n",
       "    <tr>\n",
       "      <th>2</th>\n",
       "      <td>1985</td>\n",
       "      <td>1104</td>\n",
       "      <td>21.0</td>\n",
       "      <td>9.0</td>\n",
       "      <td>0.700000</td>\n",
       "    </tr>\n",
       "    <tr>\n",
       "      <th>3</th>\n",
       "      <td>1985</td>\n",
       "      <td>1106</td>\n",
       "      <td>10.0</td>\n",
       "      <td>14.0</td>\n",
       "      <td>0.416667</td>\n",
       "    </tr>\n",
       "    <tr>\n",
       "      <th>4</th>\n",
       "      <td>1985</td>\n",
       "      <td>1108</td>\n",
       "      <td>19.0</td>\n",
       "      <td>6.0</td>\n",
       "      <td>0.760000</td>\n",
       "    </tr>\n",
       "  </tbody>\n",
       "</table>\n",
       "</div>"
      ],
      "text/plain": [
       "  Season TeamID  Wins  Losses    winpct\n",
       "0   1985   1102   5.0    19.0  0.208333\n",
       "1   1985   1103   9.0    14.0  0.391304\n",
       "2   1985   1104  21.0     9.0  0.700000\n",
       "3   1985   1106  10.0    14.0  0.416667\n",
       "4   1985   1108  19.0     6.0  0.760000"
      ]
     },
     "execution_count": 184,
     "metadata": {},
     "output_type": "execute_result"
    }
   ],
   "source": [
    "wins = df_reg_compact[['Season', 'WTeamID', 'DayNum']].groupby(by=['Season', 'WTeamID']).count()\n",
    "wins = wins.reset_index()\n",
    "wins = wins.rename(columns={'WTeamID': 'TeamID', 'DayNum': 'Wins'})\n",
    "\n",
    "losses = df_reg_compact[['Season', 'LTeamID', 'DayNum']].groupby(by=['Season', 'LTeamID']).count()\n",
    "losses = losses.reset_index()\n",
    "losses = losses.rename(columns={'LTeamID': 'TeamID', 'DayNum': 'Losses'})\n",
    "\n",
    "winpct = pd.merge(wins, losses, how='outer', on=['Season', 'TeamID'])\n",
    "winpct['Wins'].fillna(0, inplace=True)\n",
    "winpct['Losses'].fillna(0, inplace=True)\n",
    "winpct['winpct'] = winpct['Wins'] / (winpct['Wins'] + winpct['Losses'])\n",
    "\n",
    "# winpct_data.set_index(['Season', 'TeamID'])\n",
    "# Retrieve from this table to retrieve featuers for modeling\n",
    "\n",
    "winpct.head()"
   ]
  },
  {
   "cell_type": "markdown",
   "metadata": {},
   "source": [
    "It's important that we correctly fill zeros. Because of the way that the season data was structured, certain teams may never be listed in the WTeamID or LTeamID column if they were either undefeated or winless. Because of this, doing a full outer join causes missing values for these rare occurences. Wins and Losses need to be imputed with zero value, prior to calculating win percentage to make sure we get the correct win percentage."
   ]
  },
  {
   "cell_type": "code",
   "execution_count": 326,
   "metadata": {},
   "outputs": [
    {
     "data": {
      "text/html": [
       "<div>\n",
       "<style>\n",
       "    .dataframe thead tr:only-child th {\n",
       "        text-align: right;\n",
       "    }\n",
       "\n",
       "    .dataframe thead th {\n",
       "        text-align: left;\n",
       "    }\n",
       "\n",
       "    .dataframe tbody tr th {\n",
       "        vertical-align: top;\n",
       "    }\n",
       "</style>\n",
       "<table border=\"1\" class=\"dataframe\">\n",
       "  <thead>\n",
       "    <tr style=\"text-align: right;\">\n",
       "      <th></th>\n",
       "      <th>Season</th>\n",
       "      <th>TeamID</th>\n",
       "      <th>winpct</th>\n",
       "      <th>opp_winpct</th>\n",
       "      <th>outcome</th>\n",
       "    </tr>\n",
       "  </thead>\n",
       "  <tbody>\n",
       "    <tr>\n",
       "      <th>0</th>\n",
       "      <td>1985</td>\n",
       "      <td>1116</td>\n",
       "      <td>0.636364</td>\n",
       "      <td>0.666667</td>\n",
       "      <td>1</td>\n",
       "    </tr>\n",
       "    <tr>\n",
       "      <th>1</th>\n",
       "      <td>1985</td>\n",
       "      <td>1120</td>\n",
       "      <td>0.620690</td>\n",
       "      <td>0.680000</td>\n",
       "      <td>1</td>\n",
       "    </tr>\n",
       "    <tr>\n",
       "      <th>2</th>\n",
       "      <td>1985</td>\n",
       "      <td>1207</td>\n",
       "      <td>0.925926</td>\n",
       "      <td>0.379310</td>\n",
       "      <td>1</td>\n",
       "    </tr>\n",
       "    <tr>\n",
       "      <th>3</th>\n",
       "      <td>1985</td>\n",
       "      <td>1229</td>\n",
       "      <td>0.740741</td>\n",
       "      <td>0.678571</td>\n",
       "      <td>1</td>\n",
       "    </tr>\n",
       "    <tr>\n",
       "      <th>4</th>\n",
       "      <td>1985</td>\n",
       "      <td>1242</td>\n",
       "      <td>0.766667</td>\n",
       "      <td>0.740741</td>\n",
       "      <td>1</td>\n",
       "    </tr>\n",
       "  </tbody>\n",
       "</table>\n",
       "</div>"
      ],
      "text/plain": [
       "  Season TeamID    winpct  opp_winpct  outcome\n",
       "0   1985   1116  0.636364    0.666667        1\n",
       "1   1985   1120  0.620690    0.680000        1\n",
       "2   1985   1207  0.925926    0.379310        1\n",
       "3   1985   1229  0.740741    0.678571        1\n",
       "4   1985   1242  0.766667    0.740741        1"
      ]
     },
     "execution_count": 326,
     "metadata": {},
     "output_type": "execute_result"
    },
    {
     "data": {
      "text/plain": [
       "(4234, 5)"
      ]
     },
     "execution_count": 326,
     "metadata": {},
     "output_type": "execute_result"
    }
   ],
   "source": [
    "df_tourney[categorical] = df_tourney[categorical].astype(str)\n",
    "tourney_results = df_tourney[['Season', 'WTeamID', 'LTeamID']]\n",
    "\n",
    "Wpct = winpct[['Season', 'TeamID', 'winpct']].rename(columns={'TeamID': 'WTeamID', 'winpct': 'Wwinpct'})\n",
    "Lpct = winpct[['Season', 'TeamID', 'winpct']].rename(columns={'TeamID': 'LTeamID', 'winpct': 'Lwinpct'})\n",
    "\n",
    "tourney_winpct = pd.merge(tourney_results, Wpct, \n",
    "                          how='left', on=['Season', 'WTeamID'])\n",
    "tourney_winpct = pd.merge(tourney_winpct, Lpct, \n",
    "                          how='left', on=['Season', 'LTeamID'])\n",
    "\n",
    "# vertical stack with targets\n",
    "tmp1 = tourney_winpct[['Season', 'WTeamID', 'Wwinpct', 'Lwinpct']].\\\n",
    "rename(columns={'WTeamID': 'TeamID', 'Wwinpct': 'winpct', 'Lwinpct': 'opp_winpct'})\n",
    "tmp1['outcome'] = 1\n",
    "\n",
    "tmp2 = tourney_winpct[['Season', 'LTeamID', 'Lwinpct', 'Wwinpct']].\\\n",
    "rename(columns={'LTeamID': 'TeamID', 'Lwinpct': 'winpct', 'Wwinpct': 'opp_winpct'})\n",
    "tmp2['outcome'] = 0\n",
    "\n",
    "train_winpct = pd.concat((tmp1, tmp2))\n",
    "features = ['winpct', 'opp_winpct']\n",
    "target = ['outcome']\n",
    "train_winpct.head()\n",
    "train_winpct.shape"
   ]
  },
  {
   "cell_type": "code",
   "execution_count": 203,
   "metadata": {
    "scrolled": true
   },
   "outputs": [
    {
     "data": {
      "text/plain": [
       "LogisticRegression(C=1.0, class_weight=None, dual=False, fit_intercept=True,\n",
       "          intercept_scaling=1, max_iter=100, multi_class='ovr', n_jobs=1,\n",
       "          penalty='l2', random_state=None, solver='liblinear', tol=0.0001,\n",
       "          verbose=0, warm_start=False)"
      ]
     },
     "execution_count": 203,
     "metadata": {},
     "output_type": "execute_result"
    }
   ],
   "source": [
    "from sklearn.linear_model import LogisticRegression\n",
    "\n",
    "features = ['winpct', 'opp_winpct']\n",
    "target = ['outcome']\n",
    "\n",
    "lr = LogisticRegression()\n",
    "lr.fit(train_winpct[features], train_winpct[target].values.ravel())"
   ]
  },
  {
   "cell_type": "markdown",
   "metadata": {},
   "source": [
    "Do we get the same results if instead of winpct and opp_winpct, we use a winpct differential?"
   ]
  },
  {
   "cell_type": "code",
   "execution_count": 366,
   "metadata": {
    "collapsed": true
   },
   "outputs": [],
   "source": [
    "train_winpct['winpctDiff'] = train_winpct['winpct'] - train_winpct['opp_winpct']"
   ]
  },
  {
   "cell_type": "code",
   "execution_count": 262,
   "metadata": {},
   "outputs": [
    {
     "data": {
      "text/plain": [
       "LogisticRegression(C=1.0, class_weight=None, dual=False, fit_intercept=True,\n",
       "          intercept_scaling=1, max_iter=100, multi_class='ovr', n_jobs=1,\n",
       "          penalty='l2', random_state=None, solver='liblinear', tol=0.0001,\n",
       "          verbose=0, warm_start=False)"
      ]
     },
     "execution_count": 262,
     "metadata": {},
     "output_type": "execute_result"
    }
   ],
   "source": [
    "features = ['winpctDiff']\n",
    "target = ['outcome']\n",
    "\n",
    "lr2 = LogisticRegression()\n",
    "lr2.fit(train_winpct[features], train_winpct[target].values.ravel())"
   ]
  },
  {
   "cell_type": "code",
   "execution_count": 264,
   "metadata": {},
   "outputs": [
    {
     "data": {
      "text/plain": [
       "array([[ 4.79406786]])"
      ]
     },
     "execution_count": 264,
     "metadata": {},
     "output_type": "execute_result"
    },
    {
     "data": {
      "text/plain": [
       "array([[ 4.54506683, -4.54506684]])"
      ]
     },
     "execution_count": 264,
     "metadata": {},
     "output_type": "execute_result"
    }
   ],
   "source": [
    "lr2.coef_\n",
    "lr.coef_"
   ]
  },
  {
   "cell_type": "code",
   "execution_count": 265,
   "metadata": {},
   "outputs": [
    {
     "data": {
      "text/plain": [
       "0.625"
      ]
     },
     "execution_count": 265,
     "metadata": {},
     "output_type": "execute_result"
    }
   ],
   "source": [
    "def get_winpct(Season, TeamID):\n",
    "    return winpct[(winpct['Season'] == Season) & (winpct['TeamID'] == TeamID)].winpct.values[0]\n",
    "\n",
    "# test\n",
    "get_winpct('2014', '1110')"
   ]
  },
  {
   "cell_type": "code",
   "execution_count": 232,
   "metadata": {
    "scrolled": true
   },
   "outputs": [
    {
     "data": {
      "text/html": [
       "<div>\n",
       "<style>\n",
       "    .dataframe thead tr:only-child th {\n",
       "        text-align: right;\n",
       "    }\n",
       "\n",
       "    .dataframe thead th {\n",
       "        text-align: left;\n",
       "    }\n",
       "\n",
       "    .dataframe tbody tr th {\n",
       "        vertical-align: top;\n",
       "    }\n",
       "</style>\n",
       "<table border=\"1\" class=\"dataframe\">\n",
       "  <thead>\n",
       "    <tr style=\"text-align: right;\">\n",
       "      <th></th>\n",
       "      <th>ID</th>\n",
       "      <th>Season</th>\n",
       "      <th>Team1</th>\n",
       "      <th>Team2</th>\n",
       "      <th>Team1_winpct</th>\n",
       "    </tr>\n",
       "  </thead>\n",
       "  <tbody>\n",
       "    <tr>\n",
       "      <th>0</th>\n",
       "      <td>2014_1107_1110</td>\n",
       "      <td>2014</td>\n",
       "      <td>1107</td>\n",
       "      <td>1110</td>\n",
       "      <td>0.5625</td>\n",
       "    </tr>\n",
       "    <tr>\n",
       "      <th>1</th>\n",
       "      <td>2014_1107_1112</td>\n",
       "      <td>2014</td>\n",
       "      <td>1107</td>\n",
       "      <td>1112</td>\n",
       "      <td>0.5625</td>\n",
       "    </tr>\n",
       "    <tr>\n",
       "      <th>2</th>\n",
       "      <td>2014_1107_1113</td>\n",
       "      <td>2014</td>\n",
       "      <td>1107</td>\n",
       "      <td>1113</td>\n",
       "      <td>0.5625</td>\n",
       "    </tr>\n",
       "    <tr>\n",
       "      <th>3</th>\n",
       "      <td>2014_1107_1124</td>\n",
       "      <td>2014</td>\n",
       "      <td>1107</td>\n",
       "      <td>1124</td>\n",
       "      <td>0.5625</td>\n",
       "    </tr>\n",
       "    <tr>\n",
       "      <th>4</th>\n",
       "      <td>2014_1107_1140</td>\n",
       "      <td>2014</td>\n",
       "      <td>1107</td>\n",
       "      <td>1140</td>\n",
       "      <td>0.5625</td>\n",
       "    </tr>\n",
       "  </tbody>\n",
       "</table>\n",
       "</div>"
      ],
      "text/plain": [
       "               ID Season Team1 Team2  Team1_winpct\n",
       "0  2014_1107_1110   2014  1107  1110        0.5625\n",
       "1  2014_1107_1112   2014  1107  1112        0.5625\n",
       "2  2014_1107_1113   2014  1107  1113        0.5625\n",
       "3  2014_1107_1124   2014  1107  1124        0.5625\n",
       "4  2014_1107_1140   2014  1107  1140        0.5625"
      ]
     },
     "execution_count": 232,
     "metadata": {},
     "output_type": "execute_result"
    }
   ],
   "source": [
    "submission = pd.read_csv(data_dir + \"SampleSubmissionStage1.csv\")\n",
    "submission.drop(['Pred'], axis=1, inplace=True)\n",
    "submission['Season'] = submission['ID'].apply(lambda x: x.split('_')[0])\n",
    "submission['Team1'] = submission['ID'].apply(lambda x: x.split('_')[1])\n",
    "submission['Team2'] = submission['ID'].apply(lambda x: x.split('_')[2])\n",
    "submission['Team1_winpct'] = submission[['Season', 'Team1']]\\\n",
    ".apply(lambda row: get_winpct(row['Season'], row['Team1']), axis=1)\n",
    "submission['Team2_winpct'] = submission[['Season', 'Team2']]\\\n",
    ".apply(lambda row: get_winpct(row['Season'], row['Team2']), axis=1)\n",
    "\n",
    "submission.head()"
   ]
  },
  {
   "cell_type": "code",
   "execution_count": 332,
   "metadata": {
    "scrolled": true
   },
   "outputs": [
    {
     "data": {
      "text/html": [
       "<div>\n",
       "<style>\n",
       "    .dataframe thead tr:only-child th {\n",
       "        text-align: right;\n",
       "    }\n",
       "\n",
       "    .dataframe thead th {\n",
       "        text-align: left;\n",
       "    }\n",
       "\n",
       "    .dataframe tbody tr th {\n",
       "        vertical-align: top;\n",
       "    }\n",
       "</style>\n",
       "<table border=\"1\" class=\"dataframe\">\n",
       "  <thead>\n",
       "    <tr style=\"text-align: right;\">\n",
       "      <th></th>\n",
       "      <th>ID</th>\n",
       "      <th>Season</th>\n",
       "      <th>Team1</th>\n",
       "      <th>Team2</th>\n",
       "      <th>Team1_winpct</th>\n",
       "      <th>Team2_winpct</th>\n",
       "      <th>winpctDiff</th>\n",
       "    </tr>\n",
       "  </thead>\n",
       "  <tbody>\n",
       "    <tr>\n",
       "      <th>0</th>\n",
       "      <td>2014_1107_1110</td>\n",
       "      <td>2014</td>\n",
       "      <td>1107</td>\n",
       "      <td>1110</td>\n",
       "      <td>0.5625</td>\n",
       "      <td>0.625000</td>\n",
       "      <td>-0.062500</td>\n",
       "    </tr>\n",
       "    <tr>\n",
       "      <th>1</th>\n",
       "      <td>2014_1107_1112</td>\n",
       "      <td>2014</td>\n",
       "      <td>1107</td>\n",
       "      <td>1112</td>\n",
       "      <td>0.5625</td>\n",
       "      <td>0.882353</td>\n",
       "      <td>-0.319853</td>\n",
       "    </tr>\n",
       "    <tr>\n",
       "      <th>2</th>\n",
       "      <td>2014_1107_1113</td>\n",
       "      <td>2014</td>\n",
       "      <td>1107</td>\n",
       "      <td>1113</td>\n",
       "      <td>0.5625</td>\n",
       "      <td>0.656250</td>\n",
       "      <td>-0.093750</td>\n",
       "    </tr>\n",
       "    <tr>\n",
       "      <th>3</th>\n",
       "      <td>2014_1107_1124</td>\n",
       "      <td>2014</td>\n",
       "      <td>1107</td>\n",
       "      <td>1124</td>\n",
       "      <td>0.5625</td>\n",
       "      <td>0.666667</td>\n",
       "      <td>-0.104167</td>\n",
       "    </tr>\n",
       "    <tr>\n",
       "      <th>4</th>\n",
       "      <td>2014_1107_1140</td>\n",
       "      <td>2014</td>\n",
       "      <td>1107</td>\n",
       "      <td>1140</td>\n",
       "      <td>0.5625</td>\n",
       "      <td>0.666667</td>\n",
       "      <td>-0.104167</td>\n",
       "    </tr>\n",
       "  </tbody>\n",
       "</table>\n",
       "</div>"
      ],
      "text/plain": [
       "               ID Season Team1 Team2  Team1_winpct  Team2_winpct  winpctDiff\n",
       "0  2014_1107_1110   2014  1107  1110        0.5625      0.625000   -0.062500\n",
       "1  2014_1107_1112   2014  1107  1112        0.5625      0.882353   -0.319853\n",
       "2  2014_1107_1113   2014  1107  1113        0.5625      0.656250   -0.093750\n",
       "3  2014_1107_1124   2014  1107  1124        0.5625      0.666667   -0.104167\n",
       "4  2014_1107_1140   2014  1107  1140        0.5625      0.666667   -0.104167"
      ]
     },
     "execution_count": 332,
     "metadata": {},
     "output_type": "execute_result"
    },
    {
     "data": {
      "text/plain": [
       "(9112, 7)"
      ]
     },
     "execution_count": 332,
     "metadata": {},
     "output_type": "execute_result"
    }
   ],
   "source": [
    "submission.head()\n",
    "submission.shape"
   ]
  },
  {
   "cell_type": "markdown",
   "metadata": {},
   "source": [
    "v01 Submission\n",
    "- Regular Season Win Percentage\n",
    "- Opponent Regular Season Win Percentage"
   ]
  },
  {
   "cell_type": "code",
   "execution_count": 269,
   "metadata": {},
   "outputs": [
    {
     "data": {
      "text/plain": [
       "array([ 0.42945705,  0.18942464,  0.39505799, ...,  0.57299776,\n",
       "        0.69610247,  0.63058184])"
      ]
     },
     "execution_count": 269,
     "metadata": {},
     "output_type": "execute_result"
    },
    {
     "data": {
      "text/html": [
       "<div>\n",
       "<style>\n",
       "    .dataframe thead tr:only-child th {\n",
       "        text-align: right;\n",
       "    }\n",
       "\n",
       "    .dataframe thead th {\n",
       "        text-align: left;\n",
       "    }\n",
       "\n",
       "    .dataframe tbody tr th {\n",
       "        vertical-align: top;\n",
       "    }\n",
       "</style>\n",
       "<table border=\"1\" class=\"dataframe\">\n",
       "  <thead>\n",
       "    <tr style=\"text-align: right;\">\n",
       "      <th></th>\n",
       "      <th>ID</th>\n",
       "      <th>Pred</th>\n",
       "    </tr>\n",
       "  </thead>\n",
       "  <tbody>\n",
       "    <tr>\n",
       "      <th>0</th>\n",
       "      <td>2014_1107_1110</td>\n",
       "      <td>0.429457</td>\n",
       "    </tr>\n",
       "    <tr>\n",
       "      <th>1</th>\n",
       "      <td>2014_1107_1112</td>\n",
       "      <td>0.189425</td>\n",
       "    </tr>\n",
       "    <tr>\n",
       "      <th>2</th>\n",
       "      <td>2014_1107_1113</td>\n",
       "      <td>0.395058</td>\n",
       "    </tr>\n",
       "    <tr>\n",
       "      <th>3</th>\n",
       "      <td>2014_1107_1124</td>\n",
       "      <td>0.383801</td>\n",
       "    </tr>\n",
       "    <tr>\n",
       "      <th>4</th>\n",
       "      <td>2014_1107_1140</td>\n",
       "      <td>0.383801</td>\n",
       "    </tr>\n",
       "  </tbody>\n",
       "</table>\n",
       "</div>"
      ],
      "text/plain": [
       "               ID      Pred\n",
       "0  2014_1107_1110  0.429457\n",
       "1  2014_1107_1112  0.189425\n",
       "2  2014_1107_1113  0.395058\n",
       "3  2014_1107_1124  0.383801\n",
       "4  2014_1107_1140  0.383801"
      ]
     },
     "execution_count": 269,
     "metadata": {},
     "output_type": "execute_result"
    }
   ],
   "source": [
    "features = ['Team1_winpct', 'Team2_winpct']\n",
    "predictions = lr.predict_proba(submission[features])[:, 1]\n",
    "predictions\n",
    "\n",
    "df_pred = pd.DataFrame(predictions, columns=['Pred'])\n",
    "df_pred['ID'] = submission['ID'].copy()\n",
    "df_pred = df_pred[['ID', 'Pred']]\n",
    "\n",
    "df_pred.head()\n",
    "df_pred.to_csv(out_dir + 'v01.csv', index=False)"
   ]
  },
  {
   "cell_type": "markdown",
   "metadata": {},
   "source": [
    "v02 Submission\n",
    "- Regular Season Win Percentage Differential"
   ]
  },
  {
   "cell_type": "code",
   "execution_count": 284,
   "metadata": {},
   "outputs": [
    {
     "data": {
      "text/plain": [
       "array([ 0.42564812,  0.17749725,  0.389493  , ...,  0.57693515,\n",
       "        0.70562145,  0.6373794 ])"
      ]
     },
     "execution_count": 284,
     "metadata": {},
     "output_type": "execute_result"
    },
    {
     "data": {
      "text/html": [
       "<div>\n",
       "<style>\n",
       "    .dataframe thead tr:only-child th {\n",
       "        text-align: right;\n",
       "    }\n",
       "\n",
       "    .dataframe thead th {\n",
       "        text-align: left;\n",
       "    }\n",
       "\n",
       "    .dataframe tbody tr th {\n",
       "        vertical-align: top;\n",
       "    }\n",
       "</style>\n",
       "<table border=\"1\" class=\"dataframe\">\n",
       "  <thead>\n",
       "    <tr style=\"text-align: right;\">\n",
       "      <th></th>\n",
       "      <th>ID</th>\n",
       "      <th>Pred</th>\n",
       "    </tr>\n",
       "  </thead>\n",
       "  <tbody>\n",
       "    <tr>\n",
       "      <th>0</th>\n",
       "      <td>2014_1107_1110</td>\n",
       "      <td>0.425648</td>\n",
       "    </tr>\n",
       "    <tr>\n",
       "      <th>1</th>\n",
       "      <td>2014_1107_1112</td>\n",
       "      <td>0.177497</td>\n",
       "    </tr>\n",
       "    <tr>\n",
       "      <th>2</th>\n",
       "      <td>2014_1107_1113</td>\n",
       "      <td>0.389493</td>\n",
       "    </tr>\n",
       "    <tr>\n",
       "      <th>3</th>\n",
       "      <td>2014_1107_1124</td>\n",
       "      <td>0.377686</td>\n",
       "    </tr>\n",
       "    <tr>\n",
       "      <th>4</th>\n",
       "      <td>2014_1107_1140</td>\n",
       "      <td>0.377686</td>\n",
       "    </tr>\n",
       "  </tbody>\n",
       "</table>\n",
       "</div>"
      ],
      "text/plain": [
       "               ID      Pred\n",
       "0  2014_1107_1110  0.425648\n",
       "1  2014_1107_1112  0.177497\n",
       "2  2014_1107_1113  0.389493\n",
       "3  2014_1107_1124  0.377686\n",
       "4  2014_1107_1140  0.377686"
      ]
     },
     "execution_count": 284,
     "metadata": {},
     "output_type": "execute_result"
    }
   ],
   "source": [
    "submission['winpctDiff'] = submission['Team1_winpct'] - submission['Team2_winpct']\n",
    "predictions = lr2.predict_proba(submission['winpctDiff'].values.reshape(-1, 1))[:,1]\n",
    "predictions\n",
    "\n",
    "df_pred = pd.DataFrame(predictions, columns=['Pred'])\n",
    "df_pred['ID'] = submission['ID'].copy()\n",
    "df_pred = df_pred[['ID', 'Pred']]\n",
    "\n",
    "df_pred.head()\n",
    "df_pred.to_csv(out_dir + 'v02.csv', index=False)"
   ]
  },
  {
   "cell_type": "code",
   "execution_count": 338,
   "metadata": {},
   "outputs": [
    {
     "data": {
      "text/plain": [
       "array([0, 0, 0, 0, 0, 1, 0, 0, 0, 0])"
      ]
     },
     "execution_count": 338,
     "metadata": {},
     "output_type": "execute_result"
    }
   ],
   "source": [
    "predict_class = lr2.predict(submission['winpctDiff'].values.reshape(-1, 1))\n",
    "predict_class[:10]"
   ]
  },
  {
   "cell_type": "code",
   "execution_count": 340,
   "metadata": {},
   "outputs": [
    {
     "data": {
      "text/html": [
       "<div>\n",
       "<style>\n",
       "    .dataframe thead tr:only-child th {\n",
       "        text-align: right;\n",
       "    }\n",
       "\n",
       "    .dataframe thead th {\n",
       "        text-align: left;\n",
       "    }\n",
       "\n",
       "    .dataframe tbody tr th {\n",
       "        vertical-align: top;\n",
       "    }\n",
       "</style>\n",
       "<table border=\"1\" class=\"dataframe\">\n",
       "  <thead>\n",
       "    <tr style=\"text-align: right;\">\n",
       "      <th></th>\n",
       "      <th>Season</th>\n",
       "      <th>Team1</th>\n",
       "      <th>Team2</th>\n",
       "      <th>prediction</th>\n",
       "    </tr>\n",
       "  </thead>\n",
       "  <tbody>\n",
       "    <tr>\n",
       "      <th>0</th>\n",
       "      <td>2014</td>\n",
       "      <td>1107</td>\n",
       "      <td>1110</td>\n",
       "      <td>0</td>\n",
       "    </tr>\n",
       "    <tr>\n",
       "      <th>1</th>\n",
       "      <td>2014</td>\n",
       "      <td>1107</td>\n",
       "      <td>1112</td>\n",
       "      <td>0</td>\n",
       "    </tr>\n",
       "    <tr>\n",
       "      <th>2</th>\n",
       "      <td>2014</td>\n",
       "      <td>1107</td>\n",
       "      <td>1113</td>\n",
       "      <td>0</td>\n",
       "    </tr>\n",
       "    <tr>\n",
       "      <th>3</th>\n",
       "      <td>2014</td>\n",
       "      <td>1107</td>\n",
       "      <td>1124</td>\n",
       "      <td>0</td>\n",
       "    </tr>\n",
       "    <tr>\n",
       "      <th>4</th>\n",
       "      <td>2014</td>\n",
       "      <td>1107</td>\n",
       "      <td>1140</td>\n",
       "      <td>0</td>\n",
       "    </tr>\n",
       "    <tr>\n",
       "      <th>5</th>\n",
       "      <td>2014</td>\n",
       "      <td>1107</td>\n",
       "      <td>1142</td>\n",
       "      <td>1</td>\n",
       "    </tr>\n",
       "    <tr>\n",
       "      <th>6</th>\n",
       "      <td>2014</td>\n",
       "      <td>1107</td>\n",
       "      <td>1153</td>\n",
       "      <td>0</td>\n",
       "    </tr>\n",
       "    <tr>\n",
       "      <th>7</th>\n",
       "      <td>2014</td>\n",
       "      <td>1107</td>\n",
       "      <td>1157</td>\n",
       "      <td>0</td>\n",
       "    </tr>\n",
       "    <tr>\n",
       "      <th>8</th>\n",
       "      <td>2014</td>\n",
       "      <td>1107</td>\n",
       "      <td>1160</td>\n",
       "      <td>0</td>\n",
       "    </tr>\n",
       "    <tr>\n",
       "      <th>9</th>\n",
       "      <td>2014</td>\n",
       "      <td>1107</td>\n",
       "      <td>1163</td>\n",
       "      <td>0</td>\n",
       "    </tr>\n",
       "  </tbody>\n",
       "</table>\n",
       "</div>"
      ],
      "text/plain": [
       "  Season Team1 Team2  prediction\n",
       "0   2014  1107  1110           0\n",
       "1   2014  1107  1112           0\n",
       "2   2014  1107  1113           0\n",
       "3   2014  1107  1124           0\n",
       "4   2014  1107  1140           0\n",
       "5   2014  1107  1142           1\n",
       "6   2014  1107  1153           0\n",
       "7   2014  1107  1157           0\n",
       "8   2014  1107  1160           0\n",
       "9   2014  1107  1163           0"
      ]
     },
     "execution_count": 340,
     "metadata": {},
     "output_type": "execute_result"
    },
    {
     "data": {
      "text/plain": [
       "(9112, 4)"
      ]
     },
     "execution_count": 340,
     "metadata": {},
     "output_type": "execute_result"
    }
   ],
   "source": [
    "sub_predict = submission[['Season', 'Team1', 'Team2']].copy()\n",
    "sub_predict['prediction'] = predict_class\n",
    "sub_predict.head(10)\n",
    "sub_predict.shape"
   ]
  },
  {
   "cell_type": "markdown",
   "metadata": {},
   "source": [
    "## Naive Bayes"
   ]
  },
  {
   "cell_type": "code",
   "execution_count": 359,
   "metadata": {
    "scrolled": true
   },
   "outputs": [
    {
     "data": {
      "text/plain": [
       "<matplotlib.axes._subplots.AxesSubplot at 0x1137a52e8>"
      ]
     },
     "execution_count": 359,
     "metadata": {},
     "output_type": "execute_result"
    },
    {
     "data": {
      "image/png": "[encoded data removed]",
      "text/plain": [
       "<matplotlib.figure.Figure at 0x1137a3710>"
      ]
     },
     "metadata": {},
     "output_type": "display_data"
    }
   ],
   "source": [
    "submission['winpctDiff'].hist()"
   ]
  },
  {
   "cell_type": "code",
   "execution_count": 375,
   "metadata": {},
   "outputs": [
    {
     "data": {
      "text/plain": [
       "GaussianNB(priors=None)"
      ]
     },
     "execution_count": 375,
     "metadata": {},
     "output_type": "execute_result"
    }
   ],
   "source": [
    "from sklearn.naive_bayes import GaussianNB\n",
    "\n",
    "features = ['winpctDiff']\n",
    "target = ['outcome']\n",
    "\n",
    "nb = GaussianNB()\n",
    "nb.fit(train_winpct[features], train_winpct[target].values.ravel())\n",
    "predictions = nb.predict_proba(submission['winpctDiff'].values.reshape(-1, 1))[:,1]"
   ]
  },
  {
   "cell_type": "markdown",
   "metadata": {},
   "source": [
    "v03 Submission\n",
    "- Simple Gaussian Naive Bayes"
   ]
  },
  {
   "cell_type": "code",
   "execution_count": 376,
   "metadata": {},
   "outputs": [
    {
     "data": {
      "text/html": [
       "<div>\n",
       "<style>\n",
       "    .dataframe thead tr:only-child th {\n",
       "        text-align: right;\n",
       "    }\n",
       "\n",
       "    .dataframe thead th {\n",
       "        text-align: left;\n",
       "    }\n",
       "\n",
       "    .dataframe tbody tr th {\n",
       "        vertical-align: top;\n",
       "    }\n",
       "</style>\n",
       "<table border=\"1\" class=\"dataframe\">\n",
       "  <thead>\n",
       "    <tr style=\"text-align: right;\">\n",
       "      <th></th>\n",
       "      <th>ID</th>\n",
       "      <th>Pred</th>\n",
       "    </tr>\n",
       "  </thead>\n",
       "  <tbody>\n",
       "    <tr>\n",
       "      <th>0</th>\n",
       "      <td>2014_1107_1110</td>\n",
       "      <td>0.422610</td>\n",
       "    </tr>\n",
       "    <tr>\n",
       "      <th>1</th>\n",
       "      <td>2014_1107_1112</td>\n",
       "      <td>0.168393</td>\n",
       "    </tr>\n",
       "    <tr>\n",
       "      <th>2</th>\n",
       "      <td>2014_1107_1113</td>\n",
       "      <td>0.385065</td>\n",
       "    </tr>\n",
       "    <tr>\n",
       "      <th>3</th>\n",
       "      <td>2014_1107_1124</td>\n",
       "      <td>0.372825</td>\n",
       "    </tr>\n",
       "    <tr>\n",
       "      <th>4</th>\n",
       "      <td>2014_1107_1140</td>\n",
       "      <td>0.372825</td>\n",
       "    </tr>\n",
       "  </tbody>\n",
       "</table>\n",
       "</div>"
      ],
      "text/plain": [
       "               ID      Pred\n",
       "0  2014_1107_1110  0.422610\n",
       "1  2014_1107_1112  0.168393\n",
       "2  2014_1107_1113  0.385065\n",
       "3  2014_1107_1124  0.372825\n",
       "4  2014_1107_1140  0.372825"
      ]
     },
     "execution_count": 376,
     "metadata": {},
     "output_type": "execute_result"
    }
   ],
   "source": [
    "df_pred = pd.DataFrame(predictions, columns=['Pred'])\n",
    "df_pred['ID'] = submission['ID'].copy()\n",
    "df_pred = df_pred[['ID', 'Pred']]\n",
    "\n",
    "df_pred.head()\n",
    "df_pred.to_csv(out_dir + 'v03.csv', index=False)"
   ]
  },
  {
   "cell_type": "markdown",
   "metadata": {},
   "source": [
    "## Prediction and Model Evaluation\n",
    "\n",
    "One interesting thing to note is that Kaggle only evaluates on a small subset of our predictions -- the subset that actually occurs. We submit prediction probabilities for all possible combinations, and Kaggle evaluates the games that actually occurred.\n",
    "\n",
    "Test Data: 2014 - 2017 Tournament Outcomes\n",
    "\n",
    "I base test data on tourney outcomes from 2014 - 2017. I'll use this to evaluate model accuracy first. Only then will I make prediction probabilities for the rest of the games in 2014 - 2017. Doing it the other way around doesn't do anything, since I can only measure model accuracy based on the games that actually occurred. \n",
    "\n",
    "To avoid overfitting, data from 2014 - 2017 tournament should be held out with the exception of:\n",
    "- 2014 - 2017 Tournament Seeds\n",
    "- 2014 - 2017 Pre-Tournament Rankings\n",
    "- 2014 - 2017 Tournament Slots\n",
    "\n",
    "Note that 2014 - 2017 regular season data is ok to use, since this will also be available for 2018 predictions (Stage 2).\n"
   ]
  },
  {
   "cell_type": "code",
   "execution_count": 329,
   "metadata": {},
   "outputs": [],
   "source": [
    "# tourney outcome\n",
    "df_tourney['outcome'] = np.where(df_tourney['WTeamID'] < df_tourney['LTeamID'], 1, 0)\n",
    "df_tourney['Team1'] = np.where(df_tourney['outcome'] == 1, df_tourney['WTeamID'], df_tourney['LTeamID'])\n",
    "df_tourney['Team2'] = np.where(df_tourney['outcome'] == 1, df_tourney['LTeamID'], df_tourney['WTeamID'])\n"
   ]
  },
  {
   "cell_type": "code",
   "execution_count": 341,
   "metadata": {},
   "outputs": [
    {
     "data": {
      "text/html": [
       "<div>\n",
       "<style>\n",
       "    .dataframe thead tr:only-child th {\n",
       "        text-align: right;\n",
       "    }\n",
       "\n",
       "    .dataframe thead th {\n",
       "        text-align: left;\n",
       "    }\n",
       "\n",
       "    .dataframe tbody tr th {\n",
       "        vertical-align: top;\n",
       "    }\n",
       "</style>\n",
       "<table border=\"1\" class=\"dataframe\">\n",
       "  <thead>\n",
       "    <tr style=\"text-align: right;\">\n",
       "      <th></th>\n",
       "      <th>Season</th>\n",
       "      <th>DayNum</th>\n",
       "      <th>WTeamID</th>\n",
       "      <th>WScore</th>\n",
       "      <th>LTeamID</th>\n",
       "      <th>LScore</th>\n",
       "      <th>WLoc</th>\n",
       "      <th>NumOT</th>\n",
       "      <th>outcome</th>\n",
       "      <th>Team1</th>\n",
       "      <th>Team2</th>\n",
       "    </tr>\n",
       "  </thead>\n",
       "  <tbody>\n",
       "    <tr>\n",
       "      <th>1849</th>\n",
       "      <td>2014</td>\n",
       "      <td>134</td>\n",
       "      <td>1107</td>\n",
       "      <td>71</td>\n",
       "      <td>1291</td>\n",
       "      <td>64</td>\n",
       "      <td>N</td>\n",
       "      <td>0</td>\n",
       "      <td>1</td>\n",
       "      <td>1107</td>\n",
       "      <td>1291</td>\n",
       "    </tr>\n",
       "    <tr>\n",
       "      <th>1850</th>\n",
       "      <td>2014</td>\n",
       "      <td>134</td>\n",
       "      <td>1301</td>\n",
       "      <td>74</td>\n",
       "      <td>1462</td>\n",
       "      <td>59</td>\n",
       "      <td>N</td>\n",
       "      <td>0</td>\n",
       "      <td>1</td>\n",
       "      <td>1301</td>\n",
       "      <td>1462</td>\n",
       "    </tr>\n",
       "    <tr>\n",
       "      <th>1851</th>\n",
       "      <td>2014</td>\n",
       "      <td>135</td>\n",
       "      <td>1142</td>\n",
       "      <td>81</td>\n",
       "      <td>1411</td>\n",
       "      <td>69</td>\n",
       "      <td>N</td>\n",
       "      <td>0</td>\n",
       "      <td>1</td>\n",
       "      <td>1142</td>\n",
       "      <td>1411</td>\n",
       "    </tr>\n",
       "    <tr>\n",
       "      <th>1852</th>\n",
       "      <td>2014</td>\n",
       "      <td>135</td>\n",
       "      <td>1397</td>\n",
       "      <td>78</td>\n",
       "      <td>1234</td>\n",
       "      <td>65</td>\n",
       "      <td>N</td>\n",
       "      <td>1</td>\n",
       "      <td>0</td>\n",
       "      <td>1234</td>\n",
       "      <td>1397</td>\n",
       "    </tr>\n",
       "    <tr>\n",
       "      <th>1853</th>\n",
       "      <td>2014</td>\n",
       "      <td>136</td>\n",
       "      <td>1163</td>\n",
       "      <td>89</td>\n",
       "      <td>1386</td>\n",
       "      <td>81</td>\n",
       "      <td>N</td>\n",
       "      <td>1</td>\n",
       "      <td>1</td>\n",
       "      <td>1163</td>\n",
       "      <td>1386</td>\n",
       "    </tr>\n",
       "  </tbody>\n",
       "</table>\n",
       "</div>"
      ],
      "text/plain": [
       "     Season DayNum WTeamID  WScore LTeamID  LScore WLoc  NumOT  outcome Team1  \\\n",
       "1849   2014    134    1107      71    1291      64    N      0        1  1107   \n",
       "1850   2014    134    1301      74    1462      59    N      0        1  1301   \n",
       "1851   2014    135    1142      81    1411      69    N      0        1  1142   \n",
       "1852   2014    135    1397      78    1234      65    N      1        0  1234   \n",
       "1853   2014    136    1163      89    1386      81    N      1        1  1163   \n",
       "\n",
       "     Team2  \n",
       "1849  1291  \n",
       "1850  1462  \n",
       "1851  1411  \n",
       "1852  1397  \n",
       "1853  1386  "
      ]
     },
     "execution_count": 341,
     "metadata": {},
     "output_type": "execute_result"
    }
   ],
   "source": [
    "df_tourney[df_tourney['Season'] == '2014'].head()"
   ]
  },
  {
   "cell_type": "code",
   "execution_count": 351,
   "metadata": {},
   "outputs": [
    {
     "data": {
      "text/html": [
       "<div>\n",
       "<style>\n",
       "    .dataframe thead tr:only-child th {\n",
       "        text-align: right;\n",
       "    }\n",
       "\n",
       "    .dataframe thead th {\n",
       "        text-align: left;\n",
       "    }\n",
       "\n",
       "    .dataframe tbody tr th {\n",
       "        vertical-align: top;\n",
       "    }\n",
       "</style>\n",
       "<table border=\"1\" class=\"dataframe\">\n",
       "  <thead>\n",
       "    <tr style=\"text-align: right;\">\n",
       "      <th></th>\n",
       "      <th>Season</th>\n",
       "      <th>DayNum</th>\n",
       "      <th>WTeamID</th>\n",
       "      <th>WScore</th>\n",
       "      <th>LTeamID</th>\n",
       "      <th>LScore</th>\n",
       "      <th>WLoc</th>\n",
       "      <th>NumOT</th>\n",
       "      <th>outcome</th>\n",
       "      <th>Team1</th>\n",
       "      <th>Team2</th>\n",
       "      <th>prediction</th>\n",
       "    </tr>\n",
       "  </thead>\n",
       "  <tbody>\n",
       "    <tr>\n",
       "      <th>0</th>\n",
       "      <td>2014</td>\n",
       "      <td>134</td>\n",
       "      <td>1107</td>\n",
       "      <td>71</td>\n",
       "      <td>1291</td>\n",
       "      <td>64</td>\n",
       "      <td>N</td>\n",
       "      <td>0</td>\n",
       "      <td>1</td>\n",
       "      <td>1107</td>\n",
       "      <td>1291</td>\n",
       "      <td>1</td>\n",
       "    </tr>\n",
       "    <tr>\n",
       "      <th>1</th>\n",
       "      <td>2014</td>\n",
       "      <td>134</td>\n",
       "      <td>1301</td>\n",
       "      <td>74</td>\n",
       "      <td>1462</td>\n",
       "      <td>59</td>\n",
       "      <td>N</td>\n",
       "      <td>0</td>\n",
       "      <td>1</td>\n",
       "      <td>1301</td>\n",
       "      <td>1462</td>\n",
       "      <td>0</td>\n",
       "    </tr>\n",
       "    <tr>\n",
       "      <th>2</th>\n",
       "      <td>2014</td>\n",
       "      <td>135</td>\n",
       "      <td>1142</td>\n",
       "      <td>81</td>\n",
       "      <td>1411</td>\n",
       "      <td>69</td>\n",
       "      <td>N</td>\n",
       "      <td>0</td>\n",
       "      <td>1</td>\n",
       "      <td>1142</td>\n",
       "      <td>1411</td>\n",
       "      <td>0</td>\n",
       "    </tr>\n",
       "    <tr>\n",
       "      <th>3</th>\n",
       "      <td>2014</td>\n",
       "      <td>135</td>\n",
       "      <td>1397</td>\n",
       "      <td>78</td>\n",
       "      <td>1234</td>\n",
       "      <td>65</td>\n",
       "      <td>N</td>\n",
       "      <td>1</td>\n",
       "      <td>0</td>\n",
       "      <td>1234</td>\n",
       "      <td>1397</td>\n",
       "      <td>1</td>\n",
       "    </tr>\n",
       "    <tr>\n",
       "      <th>4</th>\n",
       "      <td>2014</td>\n",
       "      <td>136</td>\n",
       "      <td>1163</td>\n",
       "      <td>89</td>\n",
       "      <td>1386</td>\n",
       "      <td>81</td>\n",
       "      <td>N</td>\n",
       "      <td>1</td>\n",
       "      <td>1</td>\n",
       "      <td>1163</td>\n",
       "      <td>1386</td>\n",
       "      <td>1</td>\n",
       "    </tr>\n",
       "  </tbody>\n",
       "</table>\n",
       "</div>"
      ],
      "text/plain": [
       "  Season DayNum WTeamID  WScore LTeamID  LScore WLoc  NumOT  outcome Team1  \\\n",
       "0   2014    134    1107      71    1291      64    N      0        1  1107   \n",
       "1   2014    134    1301      74    1462      59    N      0        1  1301   \n",
       "2   2014    135    1142      81    1411      69    N      0        1  1142   \n",
       "3   2014    135    1397      78    1234      65    N      1        0  1234   \n",
       "4   2014    136    1163      89    1386      81    N      1        1  1163   \n",
       "\n",
       "  Team2  prediction  \n",
       "0  1291           1  \n",
       "1  1462           0  \n",
       "2  1411           0  \n",
       "3  1397           1  \n",
       "4  1386           1  "
      ]
     },
     "execution_count": 351,
     "metadata": {},
     "output_type": "execute_result"
    },
    {
     "data": {
      "text/plain": [
       "(67, 12)"
      ]
     },
     "execution_count": 351,
     "metadata": {},
     "output_type": "execute_result"
    },
    {
     "name": "stdout",
     "output_type": "stream",
     "text": [
      "             precision    recall  f1-score   support\n",
      "\n",
      "          0       0.63      0.56      0.59       137\n",
      "          1       0.59      0.66      0.62       131\n",
      "\n",
      "avg / total       0.61      0.61      0.61       268\n",
      "\n"
     ]
    },
    {
     "data": {
      "text/html": [
       "<div>\n",
       "<style>\n",
       "    .dataframe thead tr:only-child th {\n",
       "        text-align: right;\n",
       "    }\n",
       "\n",
       "    .dataframe thead th {\n",
       "        text-align: left;\n",
       "    }\n",
       "\n",
       "    .dataframe tbody tr th {\n",
       "        vertical-align: top;\n",
       "    }\n",
       "</style>\n",
       "<table border=\"1\" class=\"dataframe\">\n",
       "  <thead>\n",
       "    <tr style=\"text-align: right;\">\n",
       "      <th>Predicted label</th>\n",
       "      <th>0</th>\n",
       "      <th>1</th>\n",
       "    </tr>\n",
       "    <tr>\n",
       "      <th>Actual label</th>\n",
       "      <th></th>\n",
       "      <th></th>\n",
       "    </tr>\n",
       "  </thead>\n",
       "  <tbody>\n",
       "    <tr>\n",
       "      <th>0</th>\n",
       "      <td>77</td>\n",
       "      <td>60</td>\n",
       "    </tr>\n",
       "    <tr>\n",
       "      <th>1</th>\n",
       "      <td>45</td>\n",
       "      <td>86</td>\n",
       "    </tr>\n",
       "  </tbody>\n",
       "</table>\n",
       "</div>"
      ],
      "text/plain": [
       "Predicted label   0   1\n",
       "Actual label           \n",
       "0                77  60\n",
       "1                45  86"
      ]
     },
     "execution_count": 351,
     "metadata": {},
     "output_type": "execute_result"
    }
   ],
   "source": [
    "df_acc = pd.merge(df_tourney, sub_predict, how='inner', on=['Season', 'Team1', 'Team2'])\n",
    "df_acc.head()\n",
    "df_acc[df_acc['Season'] == '2014'].shape\n",
    "print(classification_report(df_acc['outcome'].values, df_acc['prediction'].values))\n",
    "\n",
    "conf = confusion_matrix(df_acc['outcome'].values, df_acc['prediction'].values)\n",
    "conf = pd.DataFrame(data=conf)\n",
    "conf.columns.name = 'Predicted label'\n",
    "conf.index.name = 'Actual label'\n",
    "\n",
    "conf"
   ]
  },
  {
   "cell_type": "code",
   "execution_count": 146,
   "metadata": {
    "scrolled": true
   },
   "outputs": [
    {
     "data": {
      "text/plain": [
       "LogisticRegression(C=1.0, class_weight=None, dual=False, fit_intercept=True,\n",
       "          intercept_scaling=1, max_iter=100, multi_class='ovr', n_jobs=1,\n",
       "          penalty='l2', random_state=None, solver='liblinear', tol=0.0001,\n",
       "          verbose=0, warm_start=False)"
      ]
     },
     "execution_count": 146,
     "metadata": {},
     "output_type": "execute_result"
    }
   ],
   "source": [
    "# from sklearn.model_selection import train_test_split\n",
    "# from sklearn.linear_model import LogisticRegression\n",
    "\n",
    "# # train / test split is separated manually here\n",
    "# # 2014 - 2017 is test data\n",
    "# train_winpct = winpct_data[winpct_data['Season'].astype(int) < 2014]\n",
    "# test_winpct = winpct_data[winpct_data['Season'].astype(int) >= 2014]\n",
    "\n",
    "# lr = LogisticRegression()\n",
    "# lr.fit(train_winpct[features], train_winpct[target].values.ravel())"
   ]
  },
  {
   "cell_type": "markdown",
   "metadata": {},
   "source": [
    "Would changing this to use a differential between winpct yield identical results to having a a feature each for winpct and opponents winpct?"
   ]
  },
  {
   "cell_type": "markdown",
   "metadata": {},
   "source": [
    "Features at add:\n",
    "- It's ok to add 2014 through 2017 into the training data for the model... why? Because the \"test\" data are the matchups for the tournament in 2014 thorugh 2017 -- not the regular season matchups"
   ]
  }
 ],
 "metadata": {
  "kernelspec": {
   "display_name": "Python 3",
   "language": "python",
   "name": "python3"
  },
  "language_info": {
   "codemirror_mode": {
    "name": "ipython",
    "version": 3
   },
   "file_extension": ".py",
   "mimetype": "text/x-python",
   "name": "python",
   "nbconvert_exporter": "python",
   "pygments_lexer": "ipython3",
   "version": "3.6.3"
  }
 },
 "nbformat": 4,
 "nbformat_minor": 2
}
