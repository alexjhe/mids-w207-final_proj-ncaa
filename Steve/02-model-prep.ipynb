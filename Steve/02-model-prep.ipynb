{
 "cells": [
  {
   "cell_type": "code",
   "execution_count": 1,
   "metadata": {
    "collapsed": true
   },
   "outputs": [],
   "source": [
    "# This tells matplotlib not to try opening a new window for each plot.\n",
    "%matplotlib inline\n",
    "\n",
    "# display multiple outputs, default is 'last_expr' (last expression)\n",
    "# http://ipython.readthedocs.io/en/stable/config/options/terminal.html\n",
    "from IPython.core.interactiveshell import InteractiveShell\n",
    "InteractiveShell.ast_node_interactivity = \"all\"\n",
    "\n",
    "import numpy as np\n",
    "import pandas as pd\n",
    "import matplotlib.pyplot as plt\n",
    "\n",
    "from sklearn.metrics import confusion_matrix\n",
    "from sklearn import metrics\n",
    "from sklearn.metrics import classification_report"
   ]
  },
  {
   "cell_type": "code",
   "execution_count": 62,
   "metadata": {
    "collapsed": true
   },
   "outputs": [],
   "source": [
    "data_dir = './data/extracted/'\n",
    "proc_dir = './data/processed/'\n",
    "out_dir = './output/'"
   ]
  },
  {
   "cell_type": "markdown",
   "metadata": {},
   "source": [
    "## Process Tournament Results"
   ]
  },
  {
   "cell_type": "code",
   "execution_count": 13,
   "metadata": {
    "collapsed": true
   },
   "outputs": [],
   "source": [
    "# bring data in\n",
    "df_tourney = pd.read_csv(data_dir + \"NCAATourneyCompactResults.csv\")\n",
    "categorical = ['Season', 'DayNum', 'WTeamID', 'LTeamID', 'WLoc']\n",
    "df_tourney[categorical] = df_tourney[categorical].astype(str)\n",
    "\n",
    "# restructure data\n",
    "# align team as the lower numbered team, and opponent as higher numbered team\n",
    "# this is consistent with the submission file\n",
    "df_tourney['outcome'] = np.where(df_tourney['WTeamID'] < df_tourney['LTeamID'], 1, 0)\n",
    "df_tourney['team'] = np.where(df_tourney['outcome'] == 1, df_tourney['WTeamID'], df_tourney['LTeamID'])\n",
    "df_tourney['opponent'] = np.where(df_tourney['outcome'] == 1, df_tourney['LTeamID'], df_tourney['WTeamID'])\n",
    "df_tourney['score'] = np.where(df_tourney['outcome'] == 1, df_tourney['WScore'], df_tourney['LScore'])\n",
    "df_tourney['opponentScore'] = np.where(df_tourney['outcome'] == 1, df_tourney['LScore'], df_tourney['WScore'])"
   ]
  },
  {
   "cell_type": "code",
   "execution_count": 56,
   "metadata": {},
   "outputs": [],
   "source": [
    "tmp1 = df_tourney[['Season', 'DayNum', 'WLoc',\n",
    "                   'NumOT', 'outcome', 'team',\n",
    "                   'opponent', 'score', 'opponentScore']].copy()\n",
    "\n",
    "# reverse everything to stack data\n",
    "tmp2 = df_tourney[['Season', 'DayNum', 'WLoc',\n",
    "                   'NumOT', 'outcome', 'team',\n",
    "                   'opponent', 'score', 'opponentScore']].copy()\n",
    "tmp2['outcome'] = 1 - tmp2['outcome']\n",
    "col_list = list(tmp2)\n",
    "col_list[5], col_list[6] = col_list[6], col_list[5]\n",
    "col_list[7], col_list[8] = col_list[8], col_list[7]\n",
    "tmp2.columns = col_list\n",
    "\n",
    "# concatenate\n",
    "df_results = pd.concat([tmp1, tmp2]).reset_index()\n",
    "del df_results['index']\n",
    "df_results = df_results[['Season', 'DayNum', 'team',\n",
    "                         'opponent', 'outcome', 'score',\n",
    "                         'opponentScore', 'NumOT', 'WLoc']]\n",
    "\n",
    "# create indicator for holdout\n",
    "df_results['holdout'] = np.where((pd.to_numeric(df_results['Season']) >= 2014) & \n",
    "                                 (pd.to_numeric(df_results['Season']) < 2018), 1, 0)"
   ]
  },
  {
   "cell_type": "code",
   "execution_count": 61,
   "metadata": {},
   "outputs": [
    {
     "data": {
      "text/plain": [
       "(2117, 9)"
      ]
     },
     "execution_count": 61,
     "metadata": {},
     "output_type": "execute_result"
    },
    {
     "data": {
      "text/plain": [
       "(2117, 9)"
      ]
     },
     "execution_count": 61,
     "metadata": {},
     "output_type": "execute_result"
    },
    {
     "data": {
      "text/html": [
       "<div>\n",
       "<style>\n",
       "    .dataframe thead tr:only-child th {\n",
       "        text-align: right;\n",
       "    }\n",
       "\n",
       "    .dataframe thead th {\n",
       "        text-align: left;\n",
       "    }\n",
       "\n",
       "    .dataframe tbody tr th {\n",
       "        vertical-align: top;\n",
       "    }\n",
       "</style>\n",
       "<table border=\"1\" class=\"dataframe\">\n",
       "  <thead>\n",
       "    <tr style=\"text-align: right;\">\n",
       "      <th></th>\n",
       "      <th>Season</th>\n",
       "      <th>DayNum</th>\n",
       "      <th>team</th>\n",
       "      <th>opponent</th>\n",
       "      <th>outcome</th>\n",
       "      <th>score</th>\n",
       "      <th>opponentScore</th>\n",
       "      <th>NumOT</th>\n",
       "      <th>WLoc</th>\n",
       "      <th>holdout</th>\n",
       "    </tr>\n",
       "  </thead>\n",
       "  <tbody>\n",
       "    <tr>\n",
       "      <th>0</th>\n",
       "      <td>1985</td>\n",
       "      <td>136</td>\n",
       "      <td>1116</td>\n",
       "      <td>1234</td>\n",
       "      <td>1</td>\n",
       "      <td>63</td>\n",
       "      <td>54</td>\n",
       "      <td>0</td>\n",
       "      <td>N</td>\n",
       "      <td>0</td>\n",
       "    </tr>\n",
       "    <tr>\n",
       "      <th>1</th>\n",
       "      <td>1985</td>\n",
       "      <td>136</td>\n",
       "      <td>1120</td>\n",
       "      <td>1345</td>\n",
       "      <td>1</td>\n",
       "      <td>59</td>\n",
       "      <td>58</td>\n",
       "      <td>0</td>\n",
       "      <td>N</td>\n",
       "      <td>0</td>\n",
       "    </tr>\n",
       "    <tr>\n",
       "      <th>2</th>\n",
       "      <td>1985</td>\n",
       "      <td>136</td>\n",
       "      <td>1207</td>\n",
       "      <td>1250</td>\n",
       "      <td>1</td>\n",
       "      <td>68</td>\n",
       "      <td>43</td>\n",
       "      <td>0</td>\n",
       "      <td>N</td>\n",
       "      <td>0</td>\n",
       "    </tr>\n",
       "    <tr>\n",
       "      <th>3</th>\n",
       "      <td>1985</td>\n",
       "      <td>136</td>\n",
       "      <td>1229</td>\n",
       "      <td>1425</td>\n",
       "      <td>1</td>\n",
       "      <td>58</td>\n",
       "      <td>55</td>\n",
       "      <td>0</td>\n",
       "      <td>N</td>\n",
       "      <td>0</td>\n",
       "    </tr>\n",
       "    <tr>\n",
       "      <th>4</th>\n",
       "      <td>1985</td>\n",
       "      <td>136</td>\n",
       "      <td>1242</td>\n",
       "      <td>1325</td>\n",
       "      <td>1</td>\n",
       "      <td>49</td>\n",
       "      <td>38</td>\n",
       "      <td>0</td>\n",
       "      <td>N</td>\n",
       "      <td>0</td>\n",
       "    </tr>\n",
       "  </tbody>\n",
       "</table>\n",
       "</div>"
      ],
      "text/plain": [
       "  Season DayNum  team opponent  outcome  score  opponentScore  NumOT WLoc  \\\n",
       "0   1985    136  1116     1234        1     63             54      0    N   \n",
       "1   1985    136  1120     1345        1     59             58      0    N   \n",
       "2   1985    136  1207     1250        1     68             43      0    N   \n",
       "3   1985    136  1229     1425        1     58             55      0    N   \n",
       "4   1985    136  1242     1325        1     49             38      0    N   \n",
       "\n",
       "   holdout  \n",
       "0        0  \n",
       "1        0  \n",
       "2        0  \n",
       "3        0  \n",
       "4        0  "
      ]
     },
     "execution_count": 61,
     "metadata": {},
     "output_type": "execute_result"
    },
    {
     "data": {
      "text/plain": [
       "(4234, 10)"
      ]
     },
     "execution_count": 61,
     "metadata": {},
     "output_type": "execute_result"
    },
    {
     "data": {
      "text/html": [
       "<div>\n",
       "<style>\n",
       "    .dataframe thead tr:only-child th {\n",
       "        text-align: right;\n",
       "    }\n",
       "\n",
       "    .dataframe thead th {\n",
       "        text-align: left;\n",
       "    }\n",
       "\n",
       "    .dataframe tbody tr th {\n",
       "        vertical-align: top;\n",
       "    }\n",
       "</style>\n",
       "<table border=\"1\" class=\"dataframe\">\n",
       "  <thead>\n",
       "    <tr style=\"text-align: right;\">\n",
       "      <th></th>\n",
       "      <th>Season</th>\n",
       "      <th>DayNum</th>\n",
       "      <th>team</th>\n",
       "      <th>opponent</th>\n",
       "      <th>outcome</th>\n",
       "      <th>score</th>\n",
       "      <th>opponentScore</th>\n",
       "      <th>NumOT</th>\n",
       "      <th>WLoc</th>\n",
       "      <th>holdout</th>\n",
       "    </tr>\n",
       "  </thead>\n",
       "  <tbody>\n",
       "    <tr>\n",
       "      <th>1849</th>\n",
       "      <td>2014</td>\n",
       "      <td>134</td>\n",
       "      <td>1107</td>\n",
       "      <td>1291</td>\n",
       "      <td>1</td>\n",
       "      <td>71</td>\n",
       "      <td>64</td>\n",
       "      <td>0</td>\n",
       "      <td>N</td>\n",
       "      <td>1</td>\n",
       "    </tr>\n",
       "    <tr>\n",
       "      <th>1850</th>\n",
       "      <td>2014</td>\n",
       "      <td>134</td>\n",
       "      <td>1301</td>\n",
       "      <td>1462</td>\n",
       "      <td>1</td>\n",
       "      <td>74</td>\n",
       "      <td>59</td>\n",
       "      <td>0</td>\n",
       "      <td>N</td>\n",
       "      <td>1</td>\n",
       "    </tr>\n",
       "    <tr>\n",
       "      <th>1851</th>\n",
       "      <td>2014</td>\n",
       "      <td>135</td>\n",
       "      <td>1142</td>\n",
       "      <td>1411</td>\n",
       "      <td>1</td>\n",
       "      <td>81</td>\n",
       "      <td>69</td>\n",
       "      <td>0</td>\n",
       "      <td>N</td>\n",
       "      <td>1</td>\n",
       "    </tr>\n",
       "    <tr>\n",
       "      <th>1852</th>\n",
       "      <td>2014</td>\n",
       "      <td>135</td>\n",
       "      <td>1234</td>\n",
       "      <td>1397</td>\n",
       "      <td>0</td>\n",
       "      <td>65</td>\n",
       "      <td>78</td>\n",
       "      <td>1</td>\n",
       "      <td>N</td>\n",
       "      <td>1</td>\n",
       "    </tr>\n",
       "    <tr>\n",
       "      <th>1853</th>\n",
       "      <td>2014</td>\n",
       "      <td>136</td>\n",
       "      <td>1163</td>\n",
       "      <td>1386</td>\n",
       "      <td>1</td>\n",
       "      <td>89</td>\n",
       "      <td>81</td>\n",
       "      <td>1</td>\n",
       "      <td>N</td>\n",
       "      <td>1</td>\n",
       "    </tr>\n",
       "  </tbody>\n",
       "</table>\n",
       "</div>"
      ],
      "text/plain": [
       "     Season DayNum  team opponent  outcome  score  opponentScore  NumOT WLoc  \\\n",
       "1849   2014    134  1107     1291        1     71             64      0    N   \n",
       "1850   2014    134  1301     1462        1     74             59      0    N   \n",
       "1851   2014    135  1142     1411        1     81             69      0    N   \n",
       "1852   2014    135  1234     1397        0     65             78      1    N   \n",
       "1853   2014    136  1163     1386        1     89             81      1    N   \n",
       "\n",
       "      holdout  \n",
       "1849        1  \n",
       "1850        1  \n",
       "1851        1  \n",
       "1852        1  \n",
       "1853        1  "
      ]
     },
     "execution_count": 61,
     "metadata": {},
     "output_type": "execute_result"
    }
   ],
   "source": [
    "# quick checks\n",
    "tmp1.shape\n",
    "tmp2.shape\n",
    "\n",
    "df_results.head()\n",
    "df_results.shape\n",
    "df_results[df_results['Season'] == '2014'].head()"
   ]
  },
  {
   "cell_type": "code",
   "execution_count": 63,
   "metadata": {
    "collapsed": true
   },
   "outputs": [],
   "source": [
    "# save to disk\n",
    "df_results.to_csv(proc_dir + 'Proc_TourneyResults.csv', index=False)"
   ]
  }
 ],
 "metadata": {
  "kernelspec": {
   "display_name": "Python 3",
   "language": "python",
   "name": "python3"
  },
  "language_info": {
   "codemirror_mode": {
    "name": "ipython",
    "version": 3
   },
   "file_extension": ".py",
   "mimetype": "text/x-python",
   "name": "python",
   "nbconvert_exporter": "python",
   "pygments_lexer": "ipython3",
   "version": "3.6.3"
  }
 },
 "nbformat": 4,
 "nbformat_minor": 2
}
