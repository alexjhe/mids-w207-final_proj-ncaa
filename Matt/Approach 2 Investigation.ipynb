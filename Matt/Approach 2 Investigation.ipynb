{
 "cells": [
  {
   "cell_type": "markdown",
   "metadata": {},
   "source": [
    "# Approach 2 Investigation"
   ]
  },
  {
   "cell_type": "code",
   "execution_count": 1,
   "metadata": {
    "collapsed": true
   },
   "outputs": [],
   "source": [
    "import psycopg2 as pg\n",
    "import numpy as np\n",
    "import pandas as pd\n",
    "from sklearn.linear_model import LogisticRegression\n",
    "from sklearn.model_selection import GridSearchCV\n",
    "from sklearn.model_selection import train_test_split\n",
    "from sklearn import metrics\n",
    "from sklearn.metrics import roc_auc_score\n",
    "from sklearn.metrics import classification_report\n",
    "from sklearn.metrics import log_loss\n",
    "from sklearn.metrics import mean_squared_error\n",
    "\n",
    "import matplotlib.pyplot as plt\n",
    "%matplotlib inline"
   ]
  },
  {
   "cell_type": "code",
   "execution_count": 2,
   "metadata": {
    "collapsed": true
   },
   "outputs": [],
   "source": [
    "# Establish connection to postgres\n",
    "conn = pg.connect(database='postgres',\n",
    "                  user='postgres',\n",
    "                  password='w207final',\n",
    "                  host='35.185.225.167')"
   ]
  },
  {
   "cell_type": "markdown",
   "metadata": {},
   "source": [
    "### Get the train/dev data from the database"
   ]
  },
  {
   "cell_type": "markdown",
   "metadata": {},
   "source": [
    "#### Approach2: Training data is all regular season data (2003-2018)"
   ]
  },
  {
   "cell_type": "code",
   "execution_count": 3,
   "metadata": {
    "collapsed": true
   },
   "outputs": [],
   "source": [
    "approach2TrainingDataQuery = '''  SELECT * FROM prod.\"features\" f WHERE (f.\"Season Type\"='Regular') AND (f.\"Season\" < 2019) ORDER BY \"Season\", \"DayNum\", \"Team\"  '''\n",
    "df_approach2_training = pd.read_sql_query(approach2TrainingDataQuery, conn)"
   ]
  },
  {
   "cell_type": "markdown",
   "metadata": {},
   "source": [
    "#### Approach2: Dev data is all tournament data (2003-2017)"
   ]
  },
  {
   "cell_type": "code",
   "execution_count": 4,
   "metadata": {
    "collapsed": true
   },
   "outputs": [],
   "source": [
    "approach2DevDataQuery = ''' SELECT * FROM prod.\"features\" f WHERE (f.\"Season Type\"='NCAA Tourney') AND (f.\"Season\" > 2002) AND (f.\"Season\" < 2018) order by \"Season\", \"DayNum\", \"Team\" '''\n",
    "df_approach2_dev = pd.read_sql_query(approach2DevDataQuery, conn)"
   ]
  },
  {
   "cell_type": "markdown",
   "metadata": {},
   "source": [
    "#### Approach2Combined: Training data is all regular season data (2003-2018) and the tournament games before 2014 (2003-2013)"
   ]
  },
  {
   "cell_type": "code",
   "execution_count": 5,
   "metadata": {
    "collapsed": true
   },
   "outputs": [],
   "source": [
    "approach2CombinedTrainingDataQuery = '''  SELECT * FROM prod.\"features\" f WHERE (f.\"Season Type\"='Regular') OR (f.\"Season\" < 2014) ORDER BY \"Season\", \"DayNum\", \"Team\"  '''\n",
    "df_approach2Combined_training = pd.read_sql_query(approach2CombinedTrainingDataQuery, conn)"
   ]
  },
  {
   "cell_type": "markdown",
   "metadata": {},
   "source": [
    "#### Approach2Combined: Dev data is tournament data between 2014-2017"
   ]
  },
  {
   "cell_type": "code",
   "execution_count": 6,
   "metadata": {
    "collapsed": true
   },
   "outputs": [],
   "source": [
    "approach2CombinedDevDataQuery = ''' SELECT * FROM prod.\"features\" f WHERE (f.\"Season Type\"='NCAA Tourney') AND (f.\"Season\" > 2013) AND (f.\"Season\" < 2018) order by \"Season\", \"DayNum\", \"Team\" '''\n",
    "df_approach2Combined_dev = pd.read_sql_query(approach2CombinedDevDataQuery, conn)"
   ]
  },
  {
   "cell_type": "code",
   "execution_count": 7,
   "metadata": {
    "collapsed": true
   },
   "outputs": [],
   "source": [
    "conn.close()"
   ]
  },
  {
   "cell_type": "markdown",
   "metadata": {},
   "source": [
    "### Create Train and Dev Sets"
   ]
  },
  {
   "cell_type": "code",
   "execution_count": 8,
   "metadata": {
    "collapsed": true
   },
   "outputs": [],
   "source": [
    "target = 'Outcome'\n",
    "features = ['TwoPointPct_Team', 'ThreePointPct_Team', 'FreeThrowPct_Team', 'OffensiveRebounds_Team', 'DefensiveRebounds_Team', 'TwoPointPct_Opponent', 'ThreePointPct_Opponent', 'FreeThrowPct_Opponent', 'OffensiveRebounds_Opponent', 'DefensiveRebounds_Opponent', 'AvgRank', 'OpponentAvgRank', 'WinPct', 'OpponentWinPct', 'WinPctDiff', 'AvgPointsFor', 'AvgPointsAgainst', 'AvgNetPointsFor', 'OpponentAvgPointsFor', 'OpponentAvgPointsAgainst', 'OpponentAvgNetPointsFor', 'SeedDiff', 'TourWins', 'OpponentTourWins', 'TourWinsDiff']"
   ]
  },
  {
   "cell_type": "code",
   "execution_count": 9,
   "metadata": {
    "collapsed": true
   },
   "outputs": [],
   "source": [
    "X_train2 = df_approach2_training[features]\n",
    "y_train2 = df_approach2_training[target]\n",
    "X_dev2  = df_approach2_dev[features]\n",
    "y_dev2  = df_approach2_dev[target]"
   ]
  },
  {
   "cell_type": "code",
   "execution_count": 10,
   "metadata": {
    "collapsed": true
   },
   "outputs": [],
   "source": [
    "X_train2_combined = df_approach2Combined_training[features]\n",
    "y_train2_combined = df_approach2Combined_training[target]\n",
    "X_dev2_combined  = df_approach2Combined_dev[features]\n",
    "y_dev2_combined  = df_approach2Combined_dev[target]"
   ]
  },
  {
   "cell_type": "markdown",
   "metadata": {},
   "source": [
    "#### Examine the number of NaNs (or Nones) in data from all regular season games"
   ]
  },
  {
   "cell_type": "code",
   "execution_count": 11,
   "metadata": {
    "collapsed": true
   },
   "outputs": [],
   "source": [
    "X_train2_counts_df = X_train2.count().to_frame().T\n",
    "X_train2_nan_counts_df = X_train2.shape[0] - X_train2_counts_df"
   ]
  },
  {
   "cell_type": "code",
   "execution_count": 12,
   "metadata": {},
   "outputs": [
    {
     "data": {
      "text/html": [
       "<div>\n",
       "<style>\n",
       "    .dataframe thead tr:only-child th {\n",
       "        text-align: right;\n",
       "    }\n",
       "\n",
       "    .dataframe thead th {\n",
       "        text-align: left;\n",
       "    }\n",
       "\n",
       "    .dataframe tbody tr th {\n",
       "        vertical-align: top;\n",
       "    }\n",
       "</style>\n",
       "<table border=\"1\" class=\"dataframe\">\n",
       "  <thead>\n",
       "    <tr style=\"text-align: right;\">\n",
       "      <th></th>\n",
       "      <th>TwoPointPct_Team</th>\n",
       "      <th>ThreePointPct_Team</th>\n",
       "      <th>FreeThrowPct_Team</th>\n",
       "      <th>OffensiveRebounds_Team</th>\n",
       "      <th>DefensiveRebounds_Team</th>\n",
       "      <th>TwoPointPct_Opponent</th>\n",
       "      <th>ThreePointPct_Opponent</th>\n",
       "      <th>FreeThrowPct_Opponent</th>\n",
       "      <th>OffensiveRebounds_Opponent</th>\n",
       "      <th>DefensiveRebounds_Opponent</th>\n",
       "    </tr>\n",
       "  </thead>\n",
       "  <tbody>\n",
       "    <tr>\n",
       "      <th>0</th>\n",
       "      <td>5481</td>\n",
       "      <td>5481</td>\n",
       "      <td>5481</td>\n",
       "      <td>5481</td>\n",
       "      <td>5481</td>\n",
       "      <td>5481</td>\n",
       "      <td>5481</td>\n",
       "      <td>5481</td>\n",
       "      <td>5481</td>\n",
       "      <td>5481</td>\n",
       "    </tr>\n",
       "  </tbody>\n",
       "</table>\n",
       "</div>"
      ],
      "text/plain": [
       "   TwoPointPct_Team  ThreePointPct_Team  FreeThrowPct_Team  \\\n",
       "0              5481                5481               5481   \n",
       "\n",
       "   OffensiveRebounds_Team  DefensiveRebounds_Team  TwoPointPct_Opponent  \\\n",
       "0                    5481                    5481                  5481   \n",
       "\n",
       "   ThreePointPct_Opponent  FreeThrowPct_Opponent  OffensiveRebounds_Opponent  \\\n",
       "0                    5481                   5481                        5481   \n",
       "\n",
       "   DefensiveRebounds_Opponent  \n",
       "0                        5481  "
      ]
     },
     "execution_count": 12,
     "metadata": {},
     "output_type": "execute_result"
    }
   ],
   "source": [
    "X_train2_nan_counts_df[['TwoPointPct_Team', 'ThreePointPct_Team', 'FreeThrowPct_Team', 'OffensiveRebounds_Team', 'DefensiveRebounds_Team', 'TwoPointPct_Opponent', 'ThreePointPct_Opponent', 'FreeThrowPct_Opponent', 'OffensiveRebounds_Opponent', 'DefensiveRebounds_Opponent']]"
   ]
  },
  {
   "cell_type": "code",
   "execution_count": 13,
   "metadata": {},
   "outputs": [
    {
     "data": {
      "text/html": [
       "<div>\n",
       "<style>\n",
       "    .dataframe thead tr:only-child th {\n",
       "        text-align: right;\n",
       "    }\n",
       "\n",
       "    .dataframe thead th {\n",
       "        text-align: left;\n",
       "    }\n",
       "\n",
       "    .dataframe tbody tr th {\n",
       "        vertical-align: top;\n",
       "    }\n",
       "</style>\n",
       "<table border=\"1\" class=\"dataframe\">\n",
       "  <thead>\n",
       "    <tr style=\"text-align: right;\">\n",
       "      <th></th>\n",
       "      <th>AvgRank</th>\n",
       "      <th>OpponentAvgRank</th>\n",
       "      <th>WinPct</th>\n",
       "      <th>OpponentWinPct</th>\n",
       "      <th>WinPctDiff</th>\n",
       "      <th>AvgPointsFor</th>\n",
       "      <th>AvgPointsAgainst</th>\n",
       "      <th>AvgNetPointsFor</th>\n",
       "      <th>OpponentAvgPointsFor</th>\n",
       "      <th>OpponentAvgPointsAgainst</th>\n",
       "      <th>OpponentAvgNetPointsFor</th>\n",
       "      <th>SeedDiff</th>\n",
       "      <th>TourWins</th>\n",
       "      <th>OpponentTourWins</th>\n",
       "      <th>TourWinsDiff</th>\n",
       "    </tr>\n",
       "  </thead>\n",
       "  <tbody>\n",
       "    <tr>\n",
       "      <th>0</th>\n",
       "      <td>7884</td>\n",
       "      <td>7884</td>\n",
       "      <td>5481</td>\n",
       "      <td>5481</td>\n",
       "      <td>6704</td>\n",
       "      <td>5481</td>\n",
       "      <td>5481</td>\n",
       "      <td>5481</td>\n",
       "      <td>5481</td>\n",
       "      <td>5481</td>\n",
       "      <td>5481</td>\n",
       "      <td>164082</td>\n",
       "      <td>0</td>\n",
       "      <td>0</td>\n",
       "      <td>0</td>\n",
       "    </tr>\n",
       "  </tbody>\n",
       "</table>\n",
       "</div>"
      ],
      "text/plain": [
       "   AvgRank  OpponentAvgRank  WinPct  OpponentWinPct  WinPctDiff  AvgPointsFor  \\\n",
       "0     7884             7884    5481            5481        6704          5481   \n",
       "\n",
       "   AvgPointsAgainst  AvgNetPointsFor  OpponentAvgPointsFor  \\\n",
       "0              5481             5481                  5481   \n",
       "\n",
       "   OpponentAvgPointsAgainst  OpponentAvgNetPointsFor  SeedDiff  TourWins  \\\n",
       "0                      5481                     5481    164082         0   \n",
       "\n",
       "   OpponentTourWins  TourWinsDiff  \n",
       "0                 0             0  "
      ]
     },
     "execution_count": 13,
     "metadata": {},
     "output_type": "execute_result"
    }
   ],
   "source": [
    "X_train2_nan_counts_df[['AvgRank', 'OpponentAvgRank', 'WinPct', 'OpponentWinPct', 'WinPctDiff', 'AvgPointsFor', 'AvgPointsAgainst', 'AvgNetPointsFor', 'OpponentAvgPointsFor', 'OpponentAvgPointsAgainst', 'OpponentAvgNetPointsFor', 'SeedDiff', 'TourWins', 'OpponentTourWins', 'TourWinsDiff']]"
   ]
  },
  {
   "cell_type": "markdown",
   "metadata": {
    "collapsed": true
   },
   "source": [
    "The following have 164082 'None': SeedDiff.  **We will ignore this column**"
   ]
  },
  {
   "cell_type": "markdown",
   "metadata": {},
   "source": [
    "The following have 5481 NaNs: TwoPointPct_Team, ThreePointPct_Team, FreeThrowPct_Team, OffensiveRebounds_Team, DefensiveRebounds_Team, TwoPointPct_Opponent, ThreePointPct_Opponent, FreeThrowPct_Opponent, OffensiveRebounds_Opponent, DefensiveRebounds_Opponent, WinPct\tOpponentWinPct, AvgPointsFor, AvgPointsAgainst, AvgNetPointsFor, OpponentAvgPointsFor, OpponentAvgPointsAgainst, OpponentAvgNetPointsFor"
   ]
  },
  {
   "cell_type": "code",
   "execution_count": 14,
   "metadata": {},
   "outputs": [
    {
     "name": "stdout",
     "output_type": "stream",
     "text": [
      "Which is: 3.34 % of the data. Since this is a small percentage, they can be removed.\n"
     ]
    }
   ],
   "source": [
    "print 'Which is: {0:.2f} % of the data. Since this is a small percentage, they can be removed.'.format(float(X_train2_nan_counts_df['TwoPointPct_Team'])/X_train2.shape[0]*100)"
   ]
  },
  {
   "cell_type": "markdown",
   "metadata": {},
   "source": [
    "The following have 7884 NaNs: AvgRank, OpponentAvgRank"
   ]
  },
  {
   "cell_type": "code",
   "execution_count": 16,
   "metadata": {},
   "outputs": [
    {
     "name": "stdout",
     "output_type": "stream",
     "text": [
      "Which is: 4.80 % of the data. Since this is a small percentage, they can be removed.\n"
     ]
    }
   ],
   "source": [
    "print 'Which is: {0:.2f} % of the data. Since this is a small percentage, they can be removed.'.format(float(X_train2_nan_counts_df['AvgRank'])/X_train2.shape[0]*100)"
   ]
  },
  {
   "cell_type": "markdown",
   "metadata": {},
   "source": [
    "The following have 6704 NaNs: WinPctDiff"
   ]
  },
  {
   "cell_type": "code",
   "execution_count": 17,
   "metadata": {},
   "outputs": [
    {
     "name": "stdout",
     "output_type": "stream",
     "text": [
      "Which is: 4.09 % of the data. Since this is a small percentage, they can be removed.\n"
     ]
    }
   ],
   "source": [
    "print 'Which is: {0:.2f} % of the data. Since this is a small percentage, they can be removed.'.format(float(X_train2_nan_counts_df['WinPctDiff'])/X_train2.shape[0]*100)"
   ]
  },
  {
   "cell_type": "markdown",
   "metadata": {},
   "source": [
    "#### Examine the number of NaNs (or Nones) in data from all tournament data (2003-2017)"
   ]
  },
  {
   "cell_type": "code",
   "execution_count": 18,
   "metadata": {
    "collapsed": true
   },
   "outputs": [],
   "source": [
    "X_dev2_counts_df = X_dev2.count().to_frame().T\n",
    "X_dev2_nan_counts = X_dev2.shape[0] - X_dev2_counts_df"
   ]
  },
  {
   "cell_type": "code",
   "execution_count": 19,
   "metadata": {},
   "outputs": [
    {
     "data": {
      "text/html": [
       "<div>\n",
       "<style>\n",
       "    .dataframe thead tr:only-child th {\n",
       "        text-align: right;\n",
       "    }\n",
       "\n",
       "    .dataframe thead th {\n",
       "        text-align: left;\n",
       "    }\n",
       "\n",
       "    .dataframe tbody tr th {\n",
       "        vertical-align: top;\n",
       "    }\n",
       "</style>\n",
       "<table border=\"1\" class=\"dataframe\">\n",
       "  <thead>\n",
       "    <tr style=\"text-align: right;\">\n",
       "      <th></th>\n",
       "      <th>TwoPointPct_Team</th>\n",
       "      <th>ThreePointPct_Team</th>\n",
       "      <th>FreeThrowPct_Team</th>\n",
       "      <th>OffensiveRebounds_Team</th>\n",
       "      <th>DefensiveRebounds_Team</th>\n",
       "      <th>TwoPointPct_Opponent</th>\n",
       "      <th>ThreePointPct_Opponent</th>\n",
       "      <th>FreeThrowPct_Opponent</th>\n",
       "      <th>OffensiveRebounds_Opponent</th>\n",
       "      <th>DefensiveRebounds_Opponent</th>\n",
       "    </tr>\n",
       "  </thead>\n",
       "  <tbody>\n",
       "    <tr>\n",
       "      <th>0</th>\n",
       "      <td>0</td>\n",
       "      <td>0</td>\n",
       "      <td>0</td>\n",
       "      <td>0</td>\n",
       "      <td>0</td>\n",
       "      <td>0</td>\n",
       "      <td>0</td>\n",
       "      <td>0</td>\n",
       "      <td>0</td>\n",
       "      <td>0</td>\n",
       "    </tr>\n",
       "  </tbody>\n",
       "</table>\n",
       "</div>"
      ],
      "text/plain": [
       "   TwoPointPct_Team  ThreePointPct_Team  FreeThrowPct_Team  \\\n",
       "0                 0                   0                  0   \n",
       "\n",
       "   OffensiveRebounds_Team  DefensiveRebounds_Team  TwoPointPct_Opponent  \\\n",
       "0                       0                       0                     0   \n",
       "\n",
       "   ThreePointPct_Opponent  FreeThrowPct_Opponent  OffensiveRebounds_Opponent  \\\n",
       "0                       0                      0                           0   \n",
       "\n",
       "   DefensiveRebounds_Opponent  \n",
       "0                           0  "
      ]
     },
     "execution_count": 19,
     "metadata": {},
     "output_type": "execute_result"
    }
   ],
   "source": [
    "X_dev2_nan_counts[['TwoPointPct_Team', 'ThreePointPct_Team', 'FreeThrowPct_Team', 'OffensiveRebounds_Team', 'DefensiveRebounds_Team', 'TwoPointPct_Opponent', 'ThreePointPct_Opponent', 'FreeThrowPct_Opponent', 'OffensiveRebounds_Opponent', 'DefensiveRebounds_Opponent']]"
   ]
  },
  {
   "cell_type": "code",
   "execution_count": 20,
   "metadata": {},
   "outputs": [
    {
     "data": {
      "text/html": [
       "<div>\n",
       "<style>\n",
       "    .dataframe thead tr:only-child th {\n",
       "        text-align: right;\n",
       "    }\n",
       "\n",
       "    .dataframe thead th {\n",
       "        text-align: left;\n",
       "    }\n",
       "\n",
       "    .dataframe tbody tr th {\n",
       "        vertical-align: top;\n",
       "    }\n",
       "</style>\n",
       "<table border=\"1\" class=\"dataframe\">\n",
       "  <thead>\n",
       "    <tr style=\"text-align: right;\">\n",
       "      <th></th>\n",
       "      <th>AvgRank</th>\n",
       "      <th>OpponentAvgRank</th>\n",
       "      <th>WinPct</th>\n",
       "      <th>OpponentWinPct</th>\n",
       "      <th>WinPctDiff</th>\n",
       "      <th>AvgPointsFor</th>\n",
       "      <th>AvgPointsAgainst</th>\n",
       "      <th>AvgNetPointsFor</th>\n",
       "      <th>OpponentAvgPointsFor</th>\n",
       "      <th>OpponentAvgPointsAgainst</th>\n",
       "      <th>OpponentAvgNetPointsFor</th>\n",
       "      <th>TourWins</th>\n",
       "      <th>OpponentTourWins</th>\n",
       "      <th>TourWinsDiff</th>\n",
       "    </tr>\n",
       "  </thead>\n",
       "  <tbody>\n",
       "    <tr>\n",
       "      <th>0</th>\n",
       "      <td>0</td>\n",
       "      <td>0</td>\n",
       "      <td>0</td>\n",
       "      <td>0</td>\n",
       "      <td>0</td>\n",
       "      <td>0</td>\n",
       "      <td>0</td>\n",
       "      <td>0</td>\n",
       "      <td>0</td>\n",
       "      <td>0</td>\n",
       "      <td>0</td>\n",
       "      <td>0</td>\n",
       "      <td>0</td>\n",
       "      <td>0</td>\n",
       "    </tr>\n",
       "  </tbody>\n",
       "</table>\n",
       "</div>"
      ],
      "text/plain": [
       "   AvgRank  OpponentAvgRank  WinPct  OpponentWinPct  WinPctDiff  AvgPointsFor  \\\n",
       "0        0                0       0               0           0             0   \n",
       "\n",
       "   AvgPointsAgainst  AvgNetPointsFor  OpponentAvgPointsFor  \\\n",
       "0                 0                0                     0   \n",
       "\n",
       "   OpponentAvgPointsAgainst  OpponentAvgNetPointsFor  TourWins  \\\n",
       "0                         0                        0         0   \n",
       "\n",
       "   OpponentTourWins  TourWinsDiff  \n",
       "0                 0             0  "
      ]
     },
     "execution_count": 20,
     "metadata": {},
     "output_type": "execute_result"
    }
   ],
   "source": [
    "X_dev2_nan_counts[['AvgRank', 'OpponentAvgRank', 'WinPct', 'OpponentWinPct', 'WinPctDiff', 'AvgPointsFor', 'AvgPointsAgainst', 'AvgNetPointsFor', 'OpponentAvgPointsFor', 'OpponentAvgPointsAgainst', 'OpponentAvgNetPointsFor', 'TourWins', 'OpponentTourWins', 'TourWinsDiff']]"
   ]
  },
  {
   "cell_type": "markdown",
   "metadata": {},
   "source": [
    "There are no 'NaN' or 'None' values for the tournament data."
   ]
  },
  {
   "cell_type": "markdown",
   "metadata": {},
   "source": [
    "#### Examine the number of NaNs (or Nones) in data from all regular season data (2003-2018) and the tournament games before 2014 (2003-2013)"
   ]
  },
  {
   "cell_type": "code",
   "execution_count": 21,
   "metadata": {
    "collapsed": true
   },
   "outputs": [],
   "source": [
    "X_train2_combined_counts_df = X_train2_combined.count().to_frame().T\n",
    "X_train2_combined_nan_counts = X_train2_combined.shape[0] - X_train2_combined_counts_df"
   ]
  },
  {
   "cell_type": "code",
   "execution_count": 22,
   "metadata": {},
   "outputs": [
    {
     "data": {
      "text/html": [
       "<div>\n",
       "<style>\n",
       "    .dataframe thead tr:only-child th {\n",
       "        text-align: right;\n",
       "    }\n",
       "\n",
       "    .dataframe thead th {\n",
       "        text-align: left;\n",
       "    }\n",
       "\n",
       "    .dataframe tbody tr th {\n",
       "        vertical-align: top;\n",
       "    }\n",
       "</style>\n",
       "<table border=\"1\" class=\"dataframe\">\n",
       "  <thead>\n",
       "    <tr style=\"text-align: right;\">\n",
       "      <th></th>\n",
       "      <th>TwoPointPct_Team</th>\n",
       "      <th>ThreePointPct_Team</th>\n",
       "      <th>FreeThrowPct_Team</th>\n",
       "      <th>OffensiveRebounds_Team</th>\n",
       "      <th>DefensiveRebounds_Team</th>\n",
       "      <th>TwoPointPct_Opponent</th>\n",
       "      <th>ThreePointPct_Opponent</th>\n",
       "      <th>FreeThrowPct_Opponent</th>\n",
       "      <th>OffensiveRebounds_Opponent</th>\n",
       "      <th>DefensiveRebounds_Opponent</th>\n",
       "    </tr>\n",
       "  </thead>\n",
       "  <tbody>\n",
       "    <tr>\n",
       "      <th>0</th>\n",
       "      <td>5481</td>\n",
       "      <td>5481</td>\n",
       "      <td>5481</td>\n",
       "      <td>5481</td>\n",
       "      <td>5481</td>\n",
       "      <td>5481</td>\n",
       "      <td>5481</td>\n",
       "      <td>5481</td>\n",
       "      <td>5481</td>\n",
       "      <td>5481</td>\n",
       "    </tr>\n",
       "  </tbody>\n",
       "</table>\n",
       "</div>"
      ],
      "text/plain": [
       "   TwoPointPct_Team  ThreePointPct_Team  FreeThrowPct_Team  \\\n",
       "0              5481                5481               5481   \n",
       "\n",
       "   OffensiveRebounds_Team  DefensiveRebounds_Team  TwoPointPct_Opponent  \\\n",
       "0                    5481                    5481                  5481   \n",
       "\n",
       "   ThreePointPct_Opponent  FreeThrowPct_Opponent  OffensiveRebounds_Opponent  \\\n",
       "0                    5481                   5481                        5481   \n",
       "\n",
       "   DefensiveRebounds_Opponent  \n",
       "0                        5481  "
      ]
     },
     "execution_count": 22,
     "metadata": {},
     "output_type": "execute_result"
    }
   ],
   "source": [
    "X_train2_combined_nan_counts[['TwoPointPct_Team', 'ThreePointPct_Team', 'FreeThrowPct_Team', 'OffensiveRebounds_Team', 'DefensiveRebounds_Team', 'TwoPointPct_Opponent', 'ThreePointPct_Opponent', 'FreeThrowPct_Opponent', 'OffensiveRebounds_Opponent', 'DefensiveRebounds_Opponent']]"
   ]
  },
  {
   "cell_type": "code",
   "execution_count": 23,
   "metadata": {},
   "outputs": [
    {
     "data": {
      "text/html": [
       "<div>\n",
       "<style>\n",
       "    .dataframe thead tr:only-child th {\n",
       "        text-align: right;\n",
       "    }\n",
       "\n",
       "    .dataframe thead th {\n",
       "        text-align: left;\n",
       "    }\n",
       "\n",
       "    .dataframe tbody tr th {\n",
       "        vertical-align: top;\n",
       "    }\n",
       "</style>\n",
       "<table border=\"1\" class=\"dataframe\">\n",
       "  <thead>\n",
       "    <tr style=\"text-align: right;\">\n",
       "      <th></th>\n",
       "      <th>AvgRank</th>\n",
       "      <th>OpponentAvgRank</th>\n",
       "      <th>WinPct</th>\n",
       "      <th>OpponentWinPct</th>\n",
       "      <th>WinPctDiff</th>\n",
       "      <th>AvgPointsFor</th>\n",
       "      <th>AvgPointsAgainst</th>\n",
       "      <th>AvgNetPointsFor</th>\n",
       "      <th>OpponentAvgPointsFor</th>\n",
       "      <th>OpponentAvgPointsAgainst</th>\n",
       "      <th>OpponentAvgNetPointsFor</th>\n",
       "      <th>SeedDiff</th>\n",
       "      <th>TourWins</th>\n",
       "      <th>OpponentTourWins</th>\n",
       "      <th>TourWinsDiff</th>\n",
       "    </tr>\n",
       "  </thead>\n",
       "  <tbody>\n",
       "    <tr>\n",
       "      <th>0</th>\n",
       "      <td>7884</td>\n",
       "      <td>7884</td>\n",
       "      <td>5481</td>\n",
       "      <td>5481</td>\n",
       "      <td>6704</td>\n",
       "      <td>5481</td>\n",
       "      <td>5481</td>\n",
       "      <td>5481</td>\n",
       "      <td>5481</td>\n",
       "      <td>5481</td>\n",
       "      <td>5481</td>\n",
       "      <td>164082</td>\n",
       "      <td>0</td>\n",
       "      <td>0</td>\n",
       "      <td>0</td>\n",
       "    </tr>\n",
       "  </tbody>\n",
       "</table>\n",
       "</div>"
      ],
      "text/plain": [
       "   AvgRank  OpponentAvgRank  WinPct  OpponentWinPct  WinPctDiff  AvgPointsFor  \\\n",
       "0     7884             7884    5481            5481        6704          5481   \n",
       "\n",
       "   AvgPointsAgainst  AvgNetPointsFor  OpponentAvgPointsFor  \\\n",
       "0              5481             5481                  5481   \n",
       "\n",
       "   OpponentAvgPointsAgainst  OpponentAvgNetPointsFor  SeedDiff  TourWins  \\\n",
       "0                      5481                     5481    164082         0   \n",
       "\n",
       "   OpponentTourWins  TourWinsDiff  \n",
       "0                 0             0  "
      ]
     },
     "execution_count": 23,
     "metadata": {},
     "output_type": "execute_result"
    }
   ],
   "source": [
    "X_train2_combined_nan_counts[['AvgRank', 'OpponentAvgRank', 'WinPct', 'OpponentWinPct', 'WinPctDiff', 'AvgPointsFor', 'AvgPointsAgainst', 'AvgNetPointsFor', 'OpponentAvgPointsFor', 'OpponentAvgPointsAgainst', 'OpponentAvgNetPointsFor', 'SeedDiff', 'TourWins', 'OpponentTourWins', 'TourWinsDiff']]"
   ]
  },
  {
   "cell_type": "markdown",
   "metadata": {},
   "source": [
    "The following have 164082 'None': SeedDiff.  **We will ignore this column**"
   ]
  },
  {
   "cell_type": "markdown",
   "metadata": {},
   "source": [
    "The following have 5481 NaNs: TwoPointPct_Team, ThreePointPct_Team, FreeThrowPct_Team, OffensiveRebounds_Team, DefensiveRebounds_Team, TwoPointPct_Opponent, ThreePointPct_Opponent, FreeThrowPct_Opponent, OffensiveRebounds_Opponent, DefensiveRebounds_Opponent, WinPct, OpponentWinPct, AvgPointsFor, AvgPointsAgainst, AvgNetPointsFor, OpponentAvgPointsFor, OpponentAvgPointsAgainst, OpponentAvgNetPointsFor."
   ]
  },
  {
   "cell_type": "code",
   "execution_count": 24,
   "metadata": {},
   "outputs": [
    {
     "name": "stdout",
     "output_type": "stream",
     "text": [
      "Which is: 3.31 % of the data. Since this is a small percentage, they can be removed.\n"
     ]
    }
   ],
   "source": [
    "print 'Which is: {0:.2f} % of the data. Since this is a small percentage, they can be removed.'.format(float(X_train2_combined_nan_counts['TwoPointPct_Team'])/X_train2_combined.shape[0]*100)"
   ]
  },
  {
   "cell_type": "markdown",
   "metadata": {},
   "source": [
    "The following have 7884 NaNs: AvgRank, OpponentAvgRank"
   ]
  },
  {
   "cell_type": "code",
   "execution_count": 25,
   "metadata": {},
   "outputs": [
    {
     "name": "stdout",
     "output_type": "stream",
     "text": [
      "Which is: 4.76 % of the data. Since this is a small percentage, they can be removed.\n"
     ]
    }
   ],
   "source": [
    "print 'Which is: {0:.2f} % of the data. Since this is a small percentage, they can be removed.'.format(float(X_train2_combined_nan_counts['AvgRank'])/X_train2_combined.shape[0]*100)"
   ]
  },
  {
   "cell_type": "markdown",
   "metadata": {},
   "source": [
    "The following have 6704 NaNs: WinPctDiff"
   ]
  },
  {
   "cell_type": "code",
   "execution_count": 26,
   "metadata": {},
   "outputs": [
    {
     "name": "stdout",
     "output_type": "stream",
     "text": [
      "Which is: 4.05 % of the data. Since this is a small percentage, they can be removed.\n"
     ]
    }
   ],
   "source": [
    "print 'Which is: {0:.2f} % of the data. Since this is a small percentage, they can be removed.'.format(float(X_train2_combined_nan_counts['WinPctDiff'])/X_train2_combined.shape[0]*100)"
   ]
  },
  {
   "cell_type": "markdown",
   "metadata": {},
   "source": [
    "#### Examine the number of NaNs (or Nones) in data from tournament data between 2014-2017"
   ]
  },
  {
   "cell_type": "code",
   "execution_count": 27,
   "metadata": {
    "collapsed": true
   },
   "outputs": [],
   "source": [
    "X_dev2_combined_counts_df = X_dev2_combined.count().to_frame().T\n",
    "X_dev2_combined_nan_counts = X_dev2_combined.shape[0] - X_dev2_combined_counts_df"
   ]
  },
  {
   "cell_type": "code",
   "execution_count": 28,
   "metadata": {},
   "outputs": [
    {
     "data": {
      "text/html": [
       "<div>\n",
       "<style>\n",
       "    .dataframe thead tr:only-child th {\n",
       "        text-align: right;\n",
       "    }\n",
       "\n",
       "    .dataframe thead th {\n",
       "        text-align: left;\n",
       "    }\n",
       "\n",
       "    .dataframe tbody tr th {\n",
       "        vertical-align: top;\n",
       "    }\n",
       "</style>\n",
       "<table border=\"1\" class=\"dataframe\">\n",
       "  <thead>\n",
       "    <tr style=\"text-align: right;\">\n",
       "      <th></th>\n",
       "      <th>TwoPointPct_Team</th>\n",
       "      <th>ThreePointPct_Team</th>\n",
       "      <th>FreeThrowPct_Team</th>\n",
       "      <th>OffensiveRebounds_Team</th>\n",
       "      <th>DefensiveRebounds_Team</th>\n",
       "      <th>TwoPointPct_Opponent</th>\n",
       "      <th>ThreePointPct_Opponent</th>\n",
       "      <th>FreeThrowPct_Opponent</th>\n",
       "      <th>OffensiveRebounds_Opponent</th>\n",
       "      <th>DefensiveRebounds_Opponent</th>\n",
       "    </tr>\n",
       "  </thead>\n",
       "  <tbody>\n",
       "    <tr>\n",
       "      <th>0</th>\n",
       "      <td>0</td>\n",
       "      <td>0</td>\n",
       "      <td>0</td>\n",
       "      <td>0</td>\n",
       "      <td>0</td>\n",
       "      <td>0</td>\n",
       "      <td>0</td>\n",
       "      <td>0</td>\n",
       "      <td>0</td>\n",
       "      <td>0</td>\n",
       "    </tr>\n",
       "  </tbody>\n",
       "</table>\n",
       "</div>"
      ],
      "text/plain": [
       "   TwoPointPct_Team  ThreePointPct_Team  FreeThrowPct_Team  \\\n",
       "0                 0                   0                  0   \n",
       "\n",
       "   OffensiveRebounds_Team  DefensiveRebounds_Team  TwoPointPct_Opponent  \\\n",
       "0                       0                       0                     0   \n",
       "\n",
       "   ThreePointPct_Opponent  FreeThrowPct_Opponent  OffensiveRebounds_Opponent  \\\n",
       "0                       0                      0                           0   \n",
       "\n",
       "   DefensiveRebounds_Opponent  \n",
       "0                           0  "
      ]
     },
     "execution_count": 28,
     "metadata": {},
     "output_type": "execute_result"
    }
   ],
   "source": [
    "X_dev2_combined_nan_counts[['TwoPointPct_Team', 'ThreePointPct_Team', 'FreeThrowPct_Team', 'OffensiveRebounds_Team', 'DefensiveRebounds_Team', 'TwoPointPct_Opponent', 'ThreePointPct_Opponent', 'FreeThrowPct_Opponent', 'OffensiveRebounds_Opponent', 'DefensiveRebounds_Opponent']]"
   ]
  },
  {
   "cell_type": "code",
   "execution_count": 29,
   "metadata": {},
   "outputs": [
    {
     "data": {
      "text/html": [
       "<div>\n",
       "<style>\n",
       "    .dataframe thead tr:only-child th {\n",
       "        text-align: right;\n",
       "    }\n",
       "\n",
       "    .dataframe thead th {\n",
       "        text-align: left;\n",
       "    }\n",
       "\n",
       "    .dataframe tbody tr th {\n",
       "        vertical-align: top;\n",
       "    }\n",
       "</style>\n",
       "<table border=\"1\" class=\"dataframe\">\n",
       "  <thead>\n",
       "    <tr style=\"text-align: right;\">\n",
       "      <th></th>\n",
       "      <th>AvgRank</th>\n",
       "      <th>OpponentAvgRank</th>\n",
       "      <th>WinPct</th>\n",
       "      <th>OpponentWinPct</th>\n",
       "      <th>WinPctDiff</th>\n",
       "      <th>AvgPointsFor</th>\n",
       "      <th>AvgPointsAgainst</th>\n",
       "      <th>AvgNetPointsFor</th>\n",
       "      <th>OpponentAvgPointsFor</th>\n",
       "      <th>OpponentAvgPointsAgainst</th>\n",
       "      <th>OpponentAvgNetPointsFor</th>\n",
       "      <th>TourWins</th>\n",
       "      <th>OpponentTourWins</th>\n",
       "      <th>TourWinsDiff</th>\n",
       "    </tr>\n",
       "  </thead>\n",
       "  <tbody>\n",
       "    <tr>\n",
       "      <th>0</th>\n",
       "      <td>0</td>\n",
       "      <td>0</td>\n",
       "      <td>0</td>\n",
       "      <td>0</td>\n",
       "      <td>0</td>\n",
       "      <td>0</td>\n",
       "      <td>0</td>\n",
       "      <td>0</td>\n",
       "      <td>0</td>\n",
       "      <td>0</td>\n",
       "      <td>0</td>\n",
       "      <td>0</td>\n",
       "      <td>0</td>\n",
       "      <td>0</td>\n",
       "    </tr>\n",
       "  </tbody>\n",
       "</table>\n",
       "</div>"
      ],
      "text/plain": [
       "   AvgRank  OpponentAvgRank  WinPct  OpponentWinPct  WinPctDiff  AvgPointsFor  \\\n",
       "0        0                0       0               0           0             0   \n",
       "\n",
       "   AvgPointsAgainst  AvgNetPointsFor  OpponentAvgPointsFor  \\\n",
       "0                 0                0                     0   \n",
       "\n",
       "   OpponentAvgPointsAgainst  OpponentAvgNetPointsFor  TourWins  \\\n",
       "0                         0                        0         0   \n",
       "\n",
       "   OpponentTourWins  TourWinsDiff  \n",
       "0                 0             0  "
      ]
     },
     "execution_count": 29,
     "metadata": {},
     "output_type": "execute_result"
    }
   ],
   "source": [
    "X_dev2_combined_nan_counts[['AvgRank', 'OpponentAvgRank', 'WinPct', 'OpponentWinPct', 'WinPctDiff', 'AvgPointsFor', 'AvgPointsAgainst', 'AvgNetPointsFor', 'OpponentAvgPointsFor', 'OpponentAvgPointsAgainst', 'OpponentAvgNetPointsFor', 'TourWins', 'OpponentTourWins', 'TourWinsDiff']]"
   ]
  },
  {
   "cell_type": "markdown",
   "metadata": {},
   "source": [
    "There are no 'NaN' or 'None' values for the tournament data."
   ]
  },
  {
   "cell_type": "markdown",
   "metadata": {},
   "source": [
    "### Remove the NaN values"
   ]
  },
  {
   "cell_type": "code",
   "execution_count": 30,
   "metadata": {
    "collapsed": true
   },
   "outputs": [],
   "source": [
    "rows_to_drop = (np.isnan(df_approach2_training.Outcome)) | (np.isnan(df_approach2_training.TwoPointPct_Team)) | (np.isnan(df_approach2_training.ThreePointPct_Team)) | (np.isnan(df_approach2_training.FreeThrowPct_Team)) | (np.isnan(df_approach2_training.OffensiveRebounds_Team)) | (np.isnan(df_approach2_training.DefensiveRebounds_Team)) | (np.isnan(df_approach2_training.TwoPointPct_Opponent)) | (np.isnan(df_approach2_training.ThreePointPct_Opponent)) | (np.isnan(df_approach2_training.FreeThrowPct_Opponent)) | (np.isnan(df_approach2_training.OffensiveRebounds_Opponent)) | (np.isnan(df_approach2_training.DefensiveRebounds_Opponent)) | (np.isnan(df_approach2_training.AvgRank)) | (np.isnan(df_approach2_training.OpponentAvgRank)) | (np.isnan(df_approach2_training.WinPct)) | (np.isnan(df_approach2_training.OpponentWinPct)) | (np.isnan(df_approach2_training.WinPctDiff)) | (np.isnan(df_approach2_training.AvgPointsFor)) | (np.isnan(df_approach2_training.AvgPointsAgainst)) | (np.isnan(df_approach2_training.AvgNetPointsFor)) | (np.isnan(df_approach2_training.OpponentAvgPointsFor)) | (np.isnan(df_approach2_training.OpponentAvgPointsAgainst)) | (np.isnan(df_approach2_training.OpponentAvgNetPointsFor)) | (np.isnan(df_approach2_training.TourWins)) | (np.isnan(df_approach2_training.OpponentTourWins)) | (np.isnan(df_approach2_training.TourWinsDiff))"
   ]
  },
  {
   "cell_type": "code",
   "execution_count": 31,
   "metadata": {
    "collapsed": true
   },
   "outputs": [],
   "source": [
    "df_approach2_training = df_approach2_training.drop(df_approach2_training[rows_to_drop].index)"
   ]
  },
  {
   "cell_type": "code",
   "execution_count": 32,
   "metadata": {
    "collapsed": true
   },
   "outputs": [],
   "source": [
    "rows_to_drop = (np.isnan(df_approach2_dev.Outcome)) | (np.isnan(df_approach2_dev.TwoPointPct_Team)) | (np.isnan(df_approach2_dev.ThreePointPct_Team)) | (np.isnan(df_approach2_dev.FreeThrowPct_Team)) | (np.isnan(df_approach2_dev.OffensiveRebounds_Team)) | (np.isnan(df_approach2_dev.DefensiveRebounds_Team)) | (np.isnan(df_approach2_dev.TwoPointPct_Opponent)) | (np.isnan(df_approach2_dev.ThreePointPct_Opponent)) | (np.isnan(df_approach2_dev.FreeThrowPct_Opponent)) | (np.isnan(df_approach2_dev.OffensiveRebounds_Opponent)) | (np.isnan(df_approach2_dev.DefensiveRebounds_Opponent)) | (np.isnan(df_approach2_dev.AvgRank)) | (np.isnan(df_approach2_dev.OpponentAvgRank)) | (np.isnan(df_approach2_dev.WinPct)) | (np.isnan(df_approach2_dev.OpponentWinPct)) | (np.isnan(df_approach2_dev.WinPctDiff)) | (np.isnan(df_approach2_dev.AvgPointsFor)) | (np.isnan(df_approach2_dev.AvgPointsAgainst)) | (np.isnan(df_approach2_dev.AvgNetPointsFor)) | (np.isnan(df_approach2_dev.OpponentAvgPointsFor)) | (np.isnan(df_approach2_dev.OpponentAvgPointsAgainst)) | (np.isnan(df_approach2_dev.OpponentAvgNetPointsFor)) | (np.isnan(df_approach2_dev.TourWins)) | (np.isnan(df_approach2_dev.OpponentTourWins)) | (np.isnan(df_approach2_dev.TourWinsDiff))"
   ]
  },
  {
   "cell_type": "code",
   "execution_count": 33,
   "metadata": {
    "collapsed": true
   },
   "outputs": [],
   "source": [
    "df_approach2_dev = df_approach2_dev.drop(df_approach2_dev[rows_to_drop].index)"
   ]
  },
  {
   "cell_type": "code",
   "execution_count": 34,
   "metadata": {
    "collapsed": true
   },
   "outputs": [],
   "source": [
    "rows_to_drop = (np.isnan(df_approach2Combined_training.Outcome)) | (np.isnan(df_approach2Combined_training.TwoPointPct_Team)) | (np.isnan(df_approach2Combined_training.ThreePointPct_Team)) | (np.isnan(df_approach2Combined_training.FreeThrowPct_Team)) | (np.isnan(df_approach2Combined_training.OffensiveRebounds_Team)) | (np.isnan(df_approach2Combined_training.DefensiveRebounds_Team)) | (np.isnan(df_approach2Combined_training.TwoPointPct_Opponent)) | (np.isnan(df_approach2Combined_training.ThreePointPct_Opponent)) | (np.isnan(df_approach2Combined_training.FreeThrowPct_Opponent)) | (np.isnan(df_approach2Combined_training.OffensiveRebounds_Opponent)) | (np.isnan(df_approach2Combined_training.DefensiveRebounds_Opponent)) | (np.isnan(df_approach2Combined_training.AvgRank)) | (np.isnan(df_approach2Combined_training.OpponentAvgRank)) | (np.isnan(df_approach2Combined_training.WinPct)) | (np.isnan(df_approach2Combined_training.OpponentWinPct)) | (np.isnan(df_approach2Combined_training.WinPctDiff)) | (np.isnan(df_approach2Combined_training.AvgPointsFor)) | (np.isnan(df_approach2Combined_training.AvgPointsAgainst)) | (np.isnan(df_approach2Combined_training.AvgNetPointsFor)) | (np.isnan(df_approach2Combined_training.OpponentAvgPointsFor)) | (np.isnan(df_approach2Combined_training.OpponentAvgPointsAgainst)) | (np.isnan(df_approach2Combined_training.OpponentAvgNetPointsFor)) | (np.isnan(df_approach2Combined_training.TourWins)) | (np.isnan(df_approach2Combined_training.OpponentTourWins)) | (np.isnan(df_approach2Combined_training.TourWinsDiff))"
   ]
  },
  {
   "cell_type": "code",
   "execution_count": 35,
   "metadata": {
    "collapsed": true
   },
   "outputs": [],
   "source": [
    "df_approach2Combined_training = df_approach2Combined_training.drop(df_approach2Combined_training[rows_to_drop].index)"
   ]
  },
  {
   "cell_type": "code",
   "execution_count": 36,
   "metadata": {
    "collapsed": true
   },
   "outputs": [],
   "source": [
    "rows_to_drop = (np.isnan(df_approach2Combined_dev.Outcome)) | (np.isnan(df_approach2Combined_dev.TwoPointPct_Team)) | (np.isnan(df_approach2Combined_dev.ThreePointPct_Team)) | (np.isnan(df_approach2Combined_dev.FreeThrowPct_Team)) | (np.isnan(df_approach2Combined_dev.OffensiveRebounds_Team)) | (np.isnan(df_approach2Combined_dev.DefensiveRebounds_Team)) | (np.isnan(df_approach2Combined_dev.TwoPointPct_Opponent)) | (np.isnan(df_approach2Combined_dev.ThreePointPct_Opponent)) | (np.isnan(df_approach2Combined_dev.FreeThrowPct_Opponent)) | (np.isnan(df_approach2Combined_dev.OffensiveRebounds_Opponent)) | (np.isnan(df_approach2Combined_dev.DefensiveRebounds_Opponent)) | (np.isnan(df_approach2Combined_dev.AvgRank)) | (np.isnan(df_approach2Combined_dev.OpponentAvgRank)) | (np.isnan(df_approach2Combined_dev.WinPct)) | (np.isnan(df_approach2Combined_dev.OpponentWinPct)) | (np.isnan(df_approach2Combined_dev.WinPctDiff)) | (np.isnan(df_approach2Combined_dev.AvgPointsFor)) | (np.isnan(df_approach2Combined_dev.AvgPointsAgainst)) | (np.isnan(df_approach2Combined_dev.AvgNetPointsFor)) | (np.isnan(df_approach2Combined_dev.OpponentAvgPointsFor)) | (np.isnan(df_approach2Combined_dev.OpponentAvgPointsAgainst)) | (np.isnan(df_approach2Combined_dev.OpponentAvgNetPointsFor)) | (np.isnan(df_approach2Combined_dev.TourWins)) | (np.isnan(df_approach2Combined_dev.OpponentTourWins)) | (np.isnan(df_approach2Combined_dev.TourWinsDiff))"
   ]
  },
  {
   "cell_type": "code",
   "execution_count": 37,
   "metadata": {
    "collapsed": true
   },
   "outputs": [],
   "source": [
    "df_approach2Combined_dev = df_approach2Combined_dev.drop(df_approach2Combined_dev[rows_to_drop].index)"
   ]
  },
  {
   "cell_type": "markdown",
   "metadata": {},
   "source": [
    "#### Check the 'Outcome' types:"
   ]
  },
  {
   "cell_type": "code",
   "execution_count": 38,
   "metadata": {},
   "outputs": [
    {
     "name": "stdout",
     "output_type": "stream",
     "text": [
      "int64\n",
      "int64\n",
      "int64\n",
      "int64\n"
     ]
    }
   ],
   "source": [
    "print df_approach2_training['Outcome'].dtype\n",
    "print df_approach2_dev['Outcome'].dtype\n",
    "print df_approach2Combined_training['Outcome'].dtype\n",
    "print df_approach2Combined_dev['Outcome'].dtype"
   ]
  },
  {
   "cell_type": "markdown",
   "metadata": {},
   "source": [
    "Also remove any features (for example, SeedDiff):"
   ]
  },
  {
   "cell_type": "code",
   "execution_count": 40,
   "metadata": {
    "collapsed": true
   },
   "outputs": [],
   "source": [
    "reduced_features = ['TwoPointPct_Team', 'ThreePointPct_Team', 'FreeThrowPct_Team', 'OffensiveRebounds_Team', 'DefensiveRebounds_Team', 'TwoPointPct_Opponent', 'ThreePointPct_Opponent', 'FreeThrowPct_Opponent', 'OffensiveRebounds_Opponent', 'DefensiveRebounds_Opponent', 'AvgRank', 'OpponentAvgRank', 'WinPct', 'OpponentWinPct', 'WinPctDiff', 'AvgPointsFor', 'AvgPointsAgainst', 'AvgNetPointsFor', 'OpponentAvgPointsFor', 'OpponentAvgPointsAgainst', 'OpponentAvgNetPointsFor', 'TourWins', 'OpponentTourWins', 'TourWinsDiff']"
   ]
  },
  {
   "cell_type": "code",
   "execution_count": 41,
   "metadata": {
    "collapsed": true
   },
   "outputs": [],
   "source": [
    "X_train2 = df_approach2_training[reduced_features]\n",
    "y_train2 = df_approach2_training[target]\n",
    "X_dev2  = df_approach2_dev[reduced_features]\n",
    "# Cast to 'int'\n",
    "#y_dev2  = df_approach2_dev[target].astype(int)\n",
    "y_dev2  = df_approach2_dev[target]"
   ]
  },
  {
   "cell_type": "code",
   "execution_count": 42,
   "metadata": {
    "collapsed": true
   },
   "outputs": [],
   "source": [
    "X_train2_combined = df_approach2Combined_training[reduced_features]\n",
    "y_train2_combined = df_approach2Combined_training[target]\n",
    "X_dev2_combined  = df_approach2Combined_dev[reduced_features]\n",
    "# Cast to 'int'\n",
    "#y_dev2_combined  = df_approach2Combined_dev[target].astype(int)\n",
    "y_dev2_combined  = df_approach2Combined_dev[target]"
   ]
  },
  {
   "cell_type": "markdown",
   "metadata": {},
   "source": [
    "### Logistic Regression"
   ]
  },
  {
   "cell_type": "markdown",
   "metadata": {
    "collapsed": true
   },
   "source": [
    "Perform a Logistic Regression (Lasso) Using the **Regular Season**"
   ]
  },
  {
   "cell_type": "code",
   "execution_count": 44,
   "metadata": {},
   "outputs": [
    {
     "name": "stdout",
     "output_type": "stream",
     "text": [
      "Best accuracy: 0.7103, with best C: 100\n"
     ]
    }
   ],
   "source": [
    "lrc1 = LogisticRegression(penalty='l1')\n",
    "params = {'C': [50,75,100,125,150,175,200,225]}\n",
    "gscv1 = GridSearchCV(lrc1, params, scoring='accuracy', refit=True)\n",
    "gscv1.fit(X_train2, y_train2)\n",
    "print('Best accuracy: {:.4}, with best C: {}'.format(gscv1.best_score_, gscv1.best_params_['C']))"
   ]
  },
  {
   "cell_type": "code",
   "execution_count": 45,
   "metadata": {},
   "outputs": [
    {
     "name": "stdout",
     "output_type": "stream",
     "text": [
      "             precision    recall  f1-score   support\n",
      "\n",
      "          0       0.73      0.73      0.73       981\n",
      "          1       0.73      0.73      0.73       981\n",
      "\n",
      "avg / total       0.73      0.73      0.73      1962\n",
      "\n"
     ]
    }
   ],
   "source": [
    "lrc1 = LogisticRegression(penalty='l1', C=gscv1.best_params_['C'])\n",
    "lrc1.fit(X_train2, y_train2)\n",
    "prediction1 = lrc1.predict(X_dev2)\n",
    "print classification_report(prediction1, y_dev2)"
   ]
  },
  {
   "cell_type": "code",
   "execution_count": 46,
   "metadata": {},
   "outputs": [
    {
     "name": "stdout",
     "output_type": "stream",
     "text": [
      "Area under the curve: 0.727\n"
     ]
    },
    {
     "data": {
      "image/png": "[encoded data removed]",
      "text/plain": [
       "<matplotlib.figure.Figure at 0x1ab51128>"
      ]
     },
     "metadata": {},
     "output_type": "display_data"
    }
   ],
   "source": [
    "print 'Area under the curve: {0:.3f}'.format(roc_auc_score(y_dev2,  lrc1.predict(X_dev2)))\n",
    "\n",
    "y_probas = lrc1.predict_proba(X_dev2)\n",
    "\n",
    "fpr, tpr, thresholds = metrics.roc_curve(y_dev2.values, y_probas[:,1])\n",
    "plt.plot(fpr, tpr)\n",
    "plt.plot([0, 1], [0, 1])\n",
    "plt.xlabel('False Positive Rate')\n",
    "plt.ylabel('True Positive Rate')\n",
    "plt.show()"
   ]
  },
  {
   "cell_type": "code",
   "execution_count": 47,
   "metadata": {
    "collapsed": true
   },
   "outputs": [],
   "source": [
    "# How to get a threshold and predictions based on a TPR\n",
    "\n",
    "# index = np.where(tpr >= 0.8)\n",
    "# threshold = thresholds[index[0][0]]\n",
    "# predictions = (y_probas[:,1] > threshold).astype(int)"
   ]
  },
  {
   "cell_type": "code",
   "execution_count": 48,
   "metadata": {},
   "outputs": [
    {
     "name": "stdout",
     "output_type": "stream",
     "text": [
      "Log loss: 0.546972362173\n",
      "RMSE: 0.184853673199\n"
     ]
    }
   ],
   "source": [
    "# Determine log-loss\n",
    "print 'Log loss: {}'.format(log_loss(y_dev2.values, y_probas[:,1]))\n",
    "# Determine RMSE\n",
    "print 'RMSE: {}'.format(mean_squared_error(y_dev2.values, y_probas[:,1]))"
   ]
  },
  {
   "cell_type": "markdown",
   "metadata": {},
   "source": [
    "Perform a Logistic Regression (Ridge) Using the **Regular Season**"
   ]
  },
  {
   "cell_type": "code",
   "execution_count": 49,
   "metadata": {},
   "outputs": [
    {
     "name": "stdout",
     "output_type": "stream",
     "text": [
      "Best accuracy: 0.7103, with best C: 75\n"
     ]
    }
   ],
   "source": [
    "lrc2 = LogisticRegression(penalty='l2')\n",
    "params = {'C': [50,75,100,125,150,175,200,225]}\n",
    "gscv2 = GridSearchCV(lrc2, params, scoring='accuracy', refit=True)\n",
    "gscv2.fit(X_train2, y_train2)\n",
    "print('Best accuracy: {:.4}, with best C: {}'.format(gscv2.best_score_, gscv2.best_params_['C']))"
   ]
  },
  {
   "cell_type": "code",
   "execution_count": 50,
   "metadata": {},
   "outputs": [
    {
     "name": "stdout",
     "output_type": "stream",
     "text": [
      "             precision    recall  f1-score   support\n",
      "\n",
      "          0       0.72      0.72      0.72       981\n",
      "          1       0.72      0.72      0.72       981\n",
      "\n",
      "avg / total       0.72      0.72      0.72      1962\n",
      "\n"
     ]
    }
   ],
   "source": [
    "lrc2 = LogisticRegression(penalty='l2', C=gscv2.best_params_['C'])\n",
    "lrc2.fit(X_train2, y_train2)\n",
    "prediction2 = lrc2.predict(X_dev2)\n",
    "print classification_report(prediction2, y_dev2)"
   ]
  },
  {
   "cell_type": "code",
   "execution_count": 51,
   "metadata": {},
   "outputs": [
    {
     "name": "stdout",
     "output_type": "stream",
     "text": [
      "Area under the curve: 0.720\n"
     ]
    },
    {
     "data": {
      "image/png": "[encoded data removed]",
      "text/plain": [
       "<matplotlib.figure.Figure at 0x277c9f98>"
      ]
     },
     "metadata": {},
     "output_type": "display_data"
    }
   ],
   "source": [
    "print 'Area under the curve: {0:.3f}'.format(roc_auc_score(y_dev2,  lrc2.predict(X_dev2)))\n",
    "\n",
    "y_probas = lrc2.predict_proba(X_dev2)\n",
    "\n",
    "fpr, tpr, thresholds = metrics.roc_curve(y_dev2.values, y_probas[:,1])\n",
    "plt.plot(fpr, tpr)\n",
    "plt.plot([0, 1], [0, 1])\n",
    "plt.xlabel('False Positive Rate')\n",
    "plt.ylabel('True Positive Rate')\n",
    "plt.show()"
   ]
  },
  {
   "cell_type": "code",
   "execution_count": 52,
   "metadata": {},
   "outputs": [
    {
     "name": "stdout",
     "output_type": "stream",
     "text": [
      "Log loss: 0.547656997109\n",
      "RMSE: 0.185212816785\n"
     ]
    }
   ],
   "source": [
    "# Determine log-loss\n",
    "print 'Log loss: {}'.format(log_loss(y_dev2.values, y_probas[:,1]))\n",
    "# Determine RMSE\n",
    "print 'RMSE: {}'.format(mean_squared_error(y_dev2.values, y_probas[:,1]))"
   ]
  },
  {
   "cell_type": "markdown",
   "metadata": {},
   "source": [
    "Perform a Logistic Regression (Lasso) Using **Combined Regular Season / Tournament Data**"
   ]
  },
  {
   "cell_type": "code",
   "execution_count": 53,
   "metadata": {},
   "outputs": [
    {
     "name": "stdout",
     "output_type": "stream",
     "text": [
      "Best accuracy: 0.7104, with best C: 225\n"
     ]
    }
   ],
   "source": [
    "lrc3 = LogisticRegression(penalty='l1')\n",
    "params = {'C': [50,75,100,125,150,175,200,225]}\n",
    "gscv3 = GridSearchCV(lrc3, params, scoring='accuracy', refit=True)\n",
    "gscv3.fit(X_train2_combined, y_train2_combined)\n",
    "print('Best accuracy: {:.4}, with best C: {}'.format(gscv3.best_score_, gscv3.best_params_['C']))"
   ]
  },
  {
   "cell_type": "code",
   "execution_count": 54,
   "metadata": {},
   "outputs": [
    {
     "name": "stdout",
     "output_type": "stream",
     "text": [
      "             precision    recall  f1-score   support\n",
      "\n",
      "          0       0.74      0.74      0.74       268\n",
      "          1       0.74      0.74      0.74       268\n",
      "\n",
      "avg / total       0.74      0.74      0.74       536\n",
      "\n"
     ]
    }
   ],
   "source": [
    "lrc3 = LogisticRegression(penalty='l1', C=gscv3.best_params_['C'])\n",
    "lrc3.fit(X_train2_combined, y_train2_combined)\n",
    "prediction3 = lrc3.predict(X_dev2_combined)\n",
    "print classification_report(prediction3, y_dev2_combined)"
   ]
  },
  {
   "cell_type": "code",
   "execution_count": 55,
   "metadata": {},
   "outputs": [
    {
     "name": "stdout",
     "output_type": "stream",
     "text": [
      "Area under the curve: 0.727\n"
     ]
    },
    {
     "data": {
      "image/png": "[encoded data removed]",
      "text/plain": [
       "<matplotlib.figure.Figure at 0x1ca7acc0>"
      ]
     },
     "metadata": {},
     "output_type": "display_data"
    }
   ],
   "source": [
    "print 'Area under the curve: {0:.3f}'.format(roc_auc_score(y_dev2,  lrc3.predict(X_dev2)))\n",
    "\n",
    "y_probas = lrc3.predict_proba(X_dev2_combined)\n",
    "\n",
    "fpr, tpr, thresholds = metrics.roc_curve(y_dev2_combined.values, y_probas[:,1])\n",
    "plt.plot(fpr, tpr)\n",
    "plt.plot([0, 1], [0, 1])\n",
    "plt.xlabel('False Positive Rate')\n",
    "plt.ylabel('True Positive Rate')\n",
    "plt.show()"
   ]
  },
  {
   "cell_type": "code",
   "execution_count": 56,
   "metadata": {},
   "outputs": [
    {
     "name": "stdout",
     "output_type": "stream",
     "text": [
      "Log loss: 0.535985056604\n",
      "RMSE: 0.180055449057\n"
     ]
    }
   ],
   "source": [
    "# Determine log-loss\n",
    "print 'Log loss: {}'.format(log_loss(y_dev2_combined.values, y_probas[:,1]))\n",
    "# Determine RMSE\n",
    "print 'RMSE: {}'.format(mean_squared_error(y_dev2_combined.values, y_probas[:,1]))"
   ]
  },
  {
   "cell_type": "markdown",
   "metadata": {},
   "source": [
    "Perform a Logistic Regression (Ridge) Using **Combined Regular Season / Tournament Data**"
   ]
  },
  {
   "cell_type": "code",
   "execution_count": 57,
   "metadata": {},
   "outputs": [
    {
     "name": "stdout",
     "output_type": "stream",
     "text": [
      "Best accuracy: 0.7105, with best C: 175\n"
     ]
    }
   ],
   "source": [
    "lrc4 = LogisticRegression(penalty='l2')\n",
    "params = {'C': [50,75,100,125,150,175,200,225]}\n",
    "gscv4 = GridSearchCV(lrc4, params, scoring='accuracy', refit=True)\n",
    "gscv4.fit(X_train2_combined, y_train2_combined)\n",
    "print('Best accuracy: {:.4}, with best C: {}'.format(gscv4.best_score_, gscv4.best_params_['C']))"
   ]
  },
  {
   "cell_type": "code",
   "execution_count": 58,
   "metadata": {},
   "outputs": [
    {
     "name": "stdout",
     "output_type": "stream",
     "text": [
      "             precision    recall  f1-score   support\n",
      "\n",
      "          0       0.74      0.74      0.74       268\n",
      "          1       0.74      0.74      0.74       268\n",
      "\n",
      "avg / total       0.74      0.74      0.74       536\n",
      "\n"
     ]
    }
   ],
   "source": [
    "lrc4 = LogisticRegression(penalty='l2', C=gscv4.best_params_['C'])\n",
    "lrc4.fit(X_train2_combined, y_train2_combined)\n",
    "prediction4 = lrc4.predict(X_dev2_combined)\n",
    "print classification_report(prediction4, y_dev2_combined)"
   ]
  },
  {
   "cell_type": "code",
   "execution_count": 59,
   "metadata": {},
   "outputs": [
    {
     "name": "stdout",
     "output_type": "stream",
     "text": [
      "Area under the curve: 0.718\n"
     ]
    },
    {
     "data": {
      "image/png": "[encoded data removed]",
      "text/plain": [
       "<matplotlib.figure.Figure at 0x1ab51b38>"
      ]
     },
     "metadata": {},
     "output_type": "display_data"
    }
   ],
   "source": [
    "print 'Area under the curve: {0:.3f}'.format(roc_auc_score(y_dev2,  lrc4.predict(X_dev2)))\n",
    "\n",
    "y_probas = lrc4.predict_proba(X_dev2_combined)\n",
    "\n",
    "fpr, tpr, thresholds = metrics.roc_curve(y_dev2_combined.values, y_probas[:,1])\n",
    "plt.plot(fpr, tpr)\n",
    "plt.plot([0, 1], [0, 1])\n",
    "plt.xlabel('False Positive Rate')\n",
    "plt.ylabel('True Positive Rate')\n",
    "plt.show()"
   ]
  },
  {
   "cell_type": "code",
   "execution_count": 60,
   "metadata": {},
   "outputs": [
    {
     "name": "stdout",
     "output_type": "stream",
     "text": [
      "Log loss: 0.53613236783\n",
      "RMSE: 0.180166789379\n"
     ]
    }
   ],
   "source": [
    "# Determine log-loss\n",
    "print 'Log loss: {}'.format(log_loss(y_dev2_combined.values, y_probas[:,1]))\n",
    "# Determine RMSE\n",
    "print 'RMSE: {}'.format(mean_squared_error(y_dev2_combined.values, y_probas[:,1]))"
   ]
  },
  {
   "cell_type": "markdown",
   "metadata": {},
   "source": [
    "#### Look for the most influential features\n",
    "https://stackoverflow.com/questions/34052115/how-to-find-the-importance-of-the-features-for-a-logistic-regression-model"
   ]
  },
  {
   "cell_type": "markdown",
   "metadata": {},
   "source": [
    "#### Regular Season"
   ]
  },
  {
   "cell_type": "code",
   "execution_count": 61,
   "metadata": {},
   "outputs": [
    {
     "data": {
      "text/html": [
       "<div>\n",
       "<style>\n",
       "    .dataframe thead tr:only-child th {\n",
       "        text-align: right;\n",
       "    }\n",
       "\n",
       "    .dataframe thead th {\n",
       "        text-align: left;\n",
       "    }\n",
       "\n",
       "    .dataframe tbody tr th {\n",
       "        vertical-align: top;\n",
       "    }\n",
       "</style>\n",
       "<table border=\"1\" class=\"dataframe\">\n",
       "  <thead>\n",
       "    <tr style=\"text-align: right;\">\n",
       "      <th></th>\n",
       "      <th>feature</th>\n",
       "      <th>importance</th>\n",
       "    </tr>\n",
       "  </thead>\n",
       "  <tbody>\n",
       "    <tr>\n",
       "      <th>OpponentAvgRank</th>\n",
       "      <td>OpponentAvgRank</td>\n",
       "      <td>0.968346</td>\n",
       "    </tr>\n",
       "    <tr>\n",
       "      <th>AvgRank</th>\n",
       "      <td>AvgRank</td>\n",
       "      <td>0.968068</td>\n",
       "    </tr>\n",
       "    <tr>\n",
       "      <th>AvgNetPointsFor</th>\n",
       "      <td>AvgNetPointsFor</td>\n",
       "      <td>0.454190</td>\n",
       "    </tr>\n",
       "    <tr>\n",
       "      <th>OpponentAvgNetPointsFor</th>\n",
       "      <td>OpponentAvgNetPointsFor</td>\n",
       "      <td>0.447251</td>\n",
       "    </tr>\n",
       "    <tr>\n",
       "      <th>TourWinsDiff</th>\n",
       "      <td>TourWinsDiff</td>\n",
       "      <td>0.361983</td>\n",
       "    </tr>\n",
       "    <tr>\n",
       "      <th>WinPctDiff</th>\n",
       "      <td>WinPctDiff</td>\n",
       "      <td>0.303229</td>\n",
       "    </tr>\n",
       "    <tr>\n",
       "      <th>OpponentTourWins</th>\n",
       "      <td>OpponentTourWins</td>\n",
       "      <td>0.154933</td>\n",
       "    </tr>\n",
       "    <tr>\n",
       "      <th>TourWins</th>\n",
       "      <td>TourWins</td>\n",
       "      <td>0.154873</td>\n",
       "    </tr>\n",
       "    <tr>\n",
       "      <th>DefensiveRebounds_Opponent</th>\n",
       "      <td>DefensiveRebounds_Opponent</td>\n",
       "      <td>0.074365</td>\n",
       "    </tr>\n",
       "    <tr>\n",
       "      <th>DefensiveRebounds_Team</th>\n",
       "      <td>DefensiveRebounds_Team</td>\n",
       "      <td>0.073737</td>\n",
       "    </tr>\n",
       "    <tr>\n",
       "      <th>TwoPointPct_Team</th>\n",
       "      <td>TwoPointPct_Team</td>\n",
       "      <td>0.061522</td>\n",
       "    </tr>\n",
       "    <tr>\n",
       "      <th>TwoPointPct_Opponent</th>\n",
       "      <td>TwoPointPct_Opponent</td>\n",
       "      <td>0.060213</td>\n",
       "    </tr>\n",
       "    <tr>\n",
       "      <th>OffensiveRebounds_Team</th>\n",
       "      <td>OffensiveRebounds_Team</td>\n",
       "      <td>0.050941</td>\n",
       "    </tr>\n",
       "    <tr>\n",
       "      <th>OffensiveRebounds_Opponent</th>\n",
       "      <td>OffensiveRebounds_Opponent</td>\n",
       "      <td>0.049970</td>\n",
       "    </tr>\n",
       "    <tr>\n",
       "      <th>ThreePointPct_Opponent</th>\n",
       "      <td>ThreePointPct_Opponent</td>\n",
       "      <td>0.044325</td>\n",
       "    </tr>\n",
       "    <tr>\n",
       "      <th>ThreePointPct_Team</th>\n",
       "      <td>ThreePointPct_Team</td>\n",
       "      <td>0.043628</td>\n",
       "    </tr>\n",
       "    <tr>\n",
       "      <th>OpponentWinPct</th>\n",
       "      <td>OpponentWinPct</td>\n",
       "      <td>0.017648</td>\n",
       "    </tr>\n",
       "    <tr>\n",
       "      <th>WinPct</th>\n",
       "      <td>WinPct</td>\n",
       "      <td>0.017285</td>\n",
       "    </tr>\n",
       "    <tr>\n",
       "      <th>OpponentAvgPointsFor</th>\n",
       "      <td>OpponentAvgPointsFor</td>\n",
       "      <td>0.015365</td>\n",
       "    </tr>\n",
       "    <tr>\n",
       "      <th>FreeThrowPct_Team</th>\n",
       "      <td>FreeThrowPct_Team</td>\n",
       "      <td>0.010625</td>\n",
       "    </tr>\n",
       "    <tr>\n",
       "      <th>OpponentAvgPointsAgainst</th>\n",
       "      <td>OpponentAvgPointsAgainst</td>\n",
       "      <td>0.010569</td>\n",
       "    </tr>\n",
       "    <tr>\n",
       "      <th>FreeThrowPct_Opponent</th>\n",
       "      <td>FreeThrowPct_Opponent</td>\n",
       "      <td>0.009976</td>\n",
       "    </tr>\n",
       "    <tr>\n",
       "      <th>AvgPointsFor</th>\n",
       "      <td>AvgPointsFor</td>\n",
       "      <td>0.008057</td>\n",
       "    </tr>\n",
       "    <tr>\n",
       "      <th>AvgPointsAgainst</th>\n",
       "      <td>AvgPointsAgainst</td>\n",
       "      <td>0.004578</td>\n",
       "    </tr>\n",
       "  </tbody>\n",
       "</table>\n",
       "</div>"
      ],
      "text/plain": [
       "                                               feature  importance\n",
       "OpponentAvgRank                        OpponentAvgRank    0.968346\n",
       "AvgRank                                        AvgRank    0.968068\n",
       "AvgNetPointsFor                        AvgNetPointsFor    0.454190\n",
       "OpponentAvgNetPointsFor        OpponentAvgNetPointsFor    0.447251\n",
       "TourWinsDiff                              TourWinsDiff    0.361983\n",
       "WinPctDiff                                  WinPctDiff    0.303229\n",
       "OpponentTourWins                      OpponentTourWins    0.154933\n",
       "TourWins                                      TourWins    0.154873\n",
       "DefensiveRebounds_Opponent  DefensiveRebounds_Opponent    0.074365\n",
       "DefensiveRebounds_Team          DefensiveRebounds_Team    0.073737\n",
       "TwoPointPct_Team                      TwoPointPct_Team    0.061522\n",
       "TwoPointPct_Opponent              TwoPointPct_Opponent    0.060213\n",
       "OffensiveRebounds_Team          OffensiveRebounds_Team    0.050941\n",
       "OffensiveRebounds_Opponent  OffensiveRebounds_Opponent    0.049970\n",
       "ThreePointPct_Opponent          ThreePointPct_Opponent    0.044325\n",
       "ThreePointPct_Team                  ThreePointPct_Team    0.043628\n",
       "OpponentWinPct                          OpponentWinPct    0.017648\n",
       "WinPct                                          WinPct    0.017285\n",
       "OpponentAvgPointsFor              OpponentAvgPointsFor    0.015365\n",
       "FreeThrowPct_Team                    FreeThrowPct_Team    0.010625\n",
       "OpponentAvgPointsAgainst      OpponentAvgPointsAgainst    0.010569\n",
       "FreeThrowPct_Opponent            FreeThrowPct_Opponent    0.009976\n",
       "AvgPointsFor                              AvgPointsFor    0.008057\n",
       "AvgPointsAgainst                      AvgPointsAgainst    0.004578"
      ]
     },
     "execution_count": 61,
     "metadata": {},
     "output_type": "execute_result"
    }
   ],
   "source": [
    "importance_df = pd.DataFrame({\n",
    "        'feature': reduced_features,\n",
    "        'importance': np.abs(np.std(X_train2) * lrc1.coef_[0])\n",
    "    })\n",
    "\n",
    "importance_df.sort_values(by='importance', ascending=False)"
   ]
  },
  {
   "cell_type": "markdown",
   "metadata": {},
   "source": [
    "#### Combined Regular Season / Tournament"
   ]
  },
  {
   "cell_type": "code",
   "execution_count": 62,
   "metadata": {},
   "outputs": [
    {
     "data": {
      "text/html": [
       "<div>\n",
       "<style>\n",
       "    .dataframe thead tr:only-child th {\n",
       "        text-align: right;\n",
       "    }\n",
       "\n",
       "    .dataframe thead th {\n",
       "        text-align: left;\n",
       "    }\n",
       "\n",
       "    .dataframe tbody tr th {\n",
       "        vertical-align: top;\n",
       "    }\n",
       "</style>\n",
       "<table border=\"1\" class=\"dataframe\">\n",
       "  <thead>\n",
       "    <tr style=\"text-align: right;\">\n",
       "      <th></th>\n",
       "      <th>feature</th>\n",
       "      <th>importance</th>\n",
       "    </tr>\n",
       "  </thead>\n",
       "  <tbody>\n",
       "    <tr>\n",
       "      <th>OpponentAvgRank</th>\n",
       "      <td>OpponentAvgRank</td>\n",
       "      <td>0.974258</td>\n",
       "    </tr>\n",
       "    <tr>\n",
       "      <th>AvgRank</th>\n",
       "      <td>AvgRank</td>\n",
       "      <td>0.974097</td>\n",
       "    </tr>\n",
       "    <tr>\n",
       "      <th>OpponentAvgNetPointsFor</th>\n",
       "      <td>OpponentAvgNetPointsFor</td>\n",
       "      <td>0.467286</td>\n",
       "    </tr>\n",
       "    <tr>\n",
       "      <th>AvgNetPointsFor</th>\n",
       "      <td>AvgNetPointsFor</td>\n",
       "      <td>0.446124</td>\n",
       "    </tr>\n",
       "    <tr>\n",
       "      <th>WinPctDiff</th>\n",
       "      <td>WinPctDiff</td>\n",
       "      <td>0.392764</td>\n",
       "    </tr>\n",
       "    <tr>\n",
       "      <th>TourWinsDiff</th>\n",
       "      <td>TourWinsDiff</td>\n",
       "      <td>0.243260</td>\n",
       "    </tr>\n",
       "    <tr>\n",
       "      <th>DefensiveRebounds_Opponent</th>\n",
       "      <td>DefensiveRebounds_Opponent</td>\n",
       "      <td>0.074400</td>\n",
       "    </tr>\n",
       "    <tr>\n",
       "      <th>DefensiveRebounds_Team</th>\n",
       "      <td>DefensiveRebounds_Team</td>\n",
       "      <td>0.074073</td>\n",
       "    </tr>\n",
       "    <tr>\n",
       "      <th>TwoPointPct_Team</th>\n",
       "      <td>TwoPointPct_Team</td>\n",
       "      <td>0.062966</td>\n",
       "    </tr>\n",
       "    <tr>\n",
       "      <th>TwoPointPct_Opponent</th>\n",
       "      <td>TwoPointPct_Opponent</td>\n",
       "      <td>0.062204</td>\n",
       "    </tr>\n",
       "    <tr>\n",
       "      <th>WinPct</th>\n",
       "      <td>WinPct</td>\n",
       "      <td>0.053917</td>\n",
       "    </tr>\n",
       "    <tr>\n",
       "      <th>OpponentWinPct</th>\n",
       "      <td>OpponentWinPct</td>\n",
       "      <td>0.053711</td>\n",
       "    </tr>\n",
       "    <tr>\n",
       "      <th>OffensiveRebounds_Team</th>\n",
       "      <td>OffensiveRebounds_Team</td>\n",
       "      <td>0.052646</td>\n",
       "    </tr>\n",
       "    <tr>\n",
       "      <th>OffensiveRebounds_Opponent</th>\n",
       "      <td>OffensiveRebounds_Opponent</td>\n",
       "      <td>0.052077</td>\n",
       "    </tr>\n",
       "    <tr>\n",
       "      <th>OpponentTourWins</th>\n",
       "      <td>OpponentTourWins</td>\n",
       "      <td>0.049253</td>\n",
       "    </tr>\n",
       "    <tr>\n",
       "      <th>TourWins</th>\n",
       "      <td>TourWins</td>\n",
       "      <td>0.049205</td>\n",
       "    </tr>\n",
       "    <tr>\n",
       "      <th>ThreePointPct_Opponent</th>\n",
       "      <td>ThreePointPct_Opponent</td>\n",
       "      <td>0.043860</td>\n",
       "    </tr>\n",
       "    <tr>\n",
       "      <th>ThreePointPct_Team</th>\n",
       "      <td>ThreePointPct_Team</td>\n",
       "      <td>0.043443</td>\n",
       "    </tr>\n",
       "    <tr>\n",
       "      <th>AvgPointsFor</th>\n",
       "      <td>AvgPointsFor</td>\n",
       "      <td>0.013895</td>\n",
       "    </tr>\n",
       "    <tr>\n",
       "      <th>AvgPointsAgainst</th>\n",
       "      <td>AvgPointsAgainst</td>\n",
       "      <td>0.011806</td>\n",
       "    </tr>\n",
       "    <tr>\n",
       "      <th>FreeThrowPct_Team</th>\n",
       "      <td>FreeThrowPct_Team</td>\n",
       "      <td>0.011268</td>\n",
       "    </tr>\n",
       "    <tr>\n",
       "      <th>FreeThrowPct_Opponent</th>\n",
       "      <td>FreeThrowPct_Opponent</td>\n",
       "      <td>0.010886</td>\n",
       "    </tr>\n",
       "    <tr>\n",
       "      <th>OpponentAvgPointsAgainst</th>\n",
       "      <td>OpponentAvgPointsAgainst</td>\n",
       "      <td>0.003122</td>\n",
       "    </tr>\n",
       "    <tr>\n",
       "      <th>OpponentAvgPointsFor</th>\n",
       "      <td>OpponentAvgPointsFor</td>\n",
       "      <td>0.001341</td>\n",
       "    </tr>\n",
       "  </tbody>\n",
       "</table>\n",
       "</div>"
      ],
      "text/plain": [
       "                                               feature  importance\n",
       "OpponentAvgRank                        OpponentAvgRank    0.974258\n",
       "AvgRank                                        AvgRank    0.974097\n",
       "OpponentAvgNetPointsFor        OpponentAvgNetPointsFor    0.467286\n",
       "AvgNetPointsFor                        AvgNetPointsFor    0.446124\n",
       "WinPctDiff                                  WinPctDiff    0.392764\n",
       "TourWinsDiff                              TourWinsDiff    0.243260\n",
       "DefensiveRebounds_Opponent  DefensiveRebounds_Opponent    0.074400\n",
       "DefensiveRebounds_Team          DefensiveRebounds_Team    0.074073\n",
       "TwoPointPct_Team                      TwoPointPct_Team    0.062966\n",
       "TwoPointPct_Opponent              TwoPointPct_Opponent    0.062204\n",
       "WinPct                                          WinPct    0.053917\n",
       "OpponentWinPct                          OpponentWinPct    0.053711\n",
       "OffensiveRebounds_Team          OffensiveRebounds_Team    0.052646\n",
       "OffensiveRebounds_Opponent  OffensiveRebounds_Opponent    0.052077\n",
       "OpponentTourWins                      OpponentTourWins    0.049253\n",
       "TourWins                                      TourWins    0.049205\n",
       "ThreePointPct_Opponent          ThreePointPct_Opponent    0.043860\n",
       "ThreePointPct_Team                  ThreePointPct_Team    0.043443\n",
       "AvgPointsFor                              AvgPointsFor    0.013895\n",
       "AvgPointsAgainst                      AvgPointsAgainst    0.011806\n",
       "FreeThrowPct_Team                    FreeThrowPct_Team    0.011268\n",
       "FreeThrowPct_Opponent            FreeThrowPct_Opponent    0.010886\n",
       "OpponentAvgPointsAgainst      OpponentAvgPointsAgainst    0.003122\n",
       "OpponentAvgPointsFor              OpponentAvgPointsFor    0.001341"
      ]
     },
     "execution_count": 62,
     "metadata": {},
     "output_type": "execute_result"
    }
   ],
   "source": [
    "importance_df = pd.DataFrame({\n",
    "        'feature': reduced_features,\n",
    "        'importance': np.abs(np.std(X_train2_combined) * lrc3.coef_[0])\n",
    "    })\n",
    "\n",
    "importance_df.sort_values(by='importance', ascending=False)"
   ]
  },
  {
   "cell_type": "markdown",
   "metadata": {},
   "source": [
    "#### Tournament (2014-2017)"
   ]
  },
  {
   "cell_type": "code",
   "execution_count": 63,
   "metadata": {},
   "outputs": [
    {
     "name": "stdout",
     "output_type": "stream",
     "text": [
      "Best accuracy: 0.7183, with best C: 50\n"
     ]
    },
    {
     "data": {
      "text/html": [
       "<div>\n",
       "<style>\n",
       "    .dataframe thead tr:only-child th {\n",
       "        text-align: right;\n",
       "    }\n",
       "\n",
       "    .dataframe thead th {\n",
       "        text-align: left;\n",
       "    }\n",
       "\n",
       "    .dataframe tbody tr th {\n",
       "        vertical-align: top;\n",
       "    }\n",
       "</style>\n",
       "<table border=\"1\" class=\"dataframe\">\n",
       "  <thead>\n",
       "    <tr style=\"text-align: right;\">\n",
       "      <th></th>\n",
       "      <th>feature</th>\n",
       "      <th>importance</th>\n",
       "    </tr>\n",
       "  </thead>\n",
       "  <tbody>\n",
       "    <tr>\n",
       "      <th>AvgRank</th>\n",
       "      <td>AvgRank</td>\n",
       "      <td>0.742925</td>\n",
       "    </tr>\n",
       "    <tr>\n",
       "      <th>OpponentAvgRank</th>\n",
       "      <td>OpponentAvgRank</td>\n",
       "      <td>0.742918</td>\n",
       "    </tr>\n",
       "    <tr>\n",
       "      <th>TourWinsDiff</th>\n",
       "      <td>TourWinsDiff</td>\n",
       "      <td>0.342199</td>\n",
       "    </tr>\n",
       "    <tr>\n",
       "      <th>AvgNetPointsFor</th>\n",
       "      <td>AvgNetPointsFor</td>\n",
       "      <td>0.333133</td>\n",
       "    </tr>\n",
       "    <tr>\n",
       "      <th>OpponentAvgNetPointsFor</th>\n",
       "      <td>OpponentAvgNetPointsFor</td>\n",
       "      <td>0.317146</td>\n",
       "    </tr>\n",
       "    <tr>\n",
       "      <th>OpponentTourWins</th>\n",
       "      <td>OpponentTourWins</td>\n",
       "      <td>0.273827</td>\n",
       "    </tr>\n",
       "    <tr>\n",
       "      <th>TourWins</th>\n",
       "      <td>TourWins</td>\n",
       "      <td>0.273816</td>\n",
       "    </tr>\n",
       "    <tr>\n",
       "      <th>WinPctDiff</th>\n",
       "      <td>WinPctDiff</td>\n",
       "      <td>0.167320</td>\n",
       "    </tr>\n",
       "    <tr>\n",
       "      <th>OpponentAvgPointsAgainst</th>\n",
       "      <td>OpponentAvgPointsAgainst</td>\n",
       "      <td>0.156840</td>\n",
       "    </tr>\n",
       "    <tr>\n",
       "      <th>AvgPointsAgainst</th>\n",
       "      <td>AvgPointsAgainst</td>\n",
       "      <td>0.139458</td>\n",
       "    </tr>\n",
       "    <tr>\n",
       "      <th>DefensiveRebounds_Team</th>\n",
       "      <td>DefensiveRebounds_Team</td>\n",
       "      <td>0.139434</td>\n",
       "    </tr>\n",
       "    <tr>\n",
       "      <th>DefensiveRebounds_Opponent</th>\n",
       "      <td>DefensiveRebounds_Opponent</td>\n",
       "      <td>0.139431</td>\n",
       "    </tr>\n",
       "    <tr>\n",
       "      <th>AvgPointsFor</th>\n",
       "      <td>AvgPointsFor</td>\n",
       "      <td>0.132656</td>\n",
       "    </tr>\n",
       "    <tr>\n",
       "      <th>OpponentAvgPointsFor</th>\n",
       "      <td>OpponentAvgPointsFor</td>\n",
       "      <td>0.115380</td>\n",
       "    </tr>\n",
       "    <tr>\n",
       "      <th>TwoPointPct_Opponent</th>\n",
       "      <td>TwoPointPct_Opponent</td>\n",
       "      <td>0.080086</td>\n",
       "    </tr>\n",
       "    <tr>\n",
       "      <th>TwoPointPct_Team</th>\n",
       "      <td>TwoPointPct_Team</td>\n",
       "      <td>0.080079</td>\n",
       "    </tr>\n",
       "    <tr>\n",
       "      <th>OffensiveRebounds_Opponent</th>\n",
       "      <td>OffensiveRebounds_Opponent</td>\n",
       "      <td>0.028178</td>\n",
       "    </tr>\n",
       "    <tr>\n",
       "      <th>OffensiveRebounds_Team</th>\n",
       "      <td>OffensiveRebounds_Team</td>\n",
       "      <td>0.028173</td>\n",
       "    </tr>\n",
       "    <tr>\n",
       "      <th>ThreePointPct_Opponent</th>\n",
       "      <td>ThreePointPct_Opponent</td>\n",
       "      <td>0.025015</td>\n",
       "    </tr>\n",
       "    <tr>\n",
       "      <th>ThreePointPct_Team</th>\n",
       "      <td>ThreePointPct_Team</td>\n",
       "      <td>0.025013</td>\n",
       "    </tr>\n",
       "    <tr>\n",
       "      <th>OpponentWinPct</th>\n",
       "      <td>OpponentWinPct</td>\n",
       "      <td>0.000000</td>\n",
       "    </tr>\n",
       "    <tr>\n",
       "      <th>FreeThrowPct_Opponent</th>\n",
       "      <td>FreeThrowPct_Opponent</td>\n",
       "      <td>0.000000</td>\n",
       "    </tr>\n",
       "    <tr>\n",
       "      <th>FreeThrowPct_Team</th>\n",
       "      <td>FreeThrowPct_Team</td>\n",
       "      <td>0.000000</td>\n",
       "    </tr>\n",
       "    <tr>\n",
       "      <th>WinPct</th>\n",
       "      <td>WinPct</td>\n",
       "      <td>0.000000</td>\n",
       "    </tr>\n",
       "  </tbody>\n",
       "</table>\n",
       "</div>"
      ],
      "text/plain": [
       "                                               feature  importance\n",
       "AvgRank                                        AvgRank    0.742925\n",
       "OpponentAvgRank                        OpponentAvgRank    0.742918\n",
       "TourWinsDiff                              TourWinsDiff    0.342199\n",
       "AvgNetPointsFor                        AvgNetPointsFor    0.333133\n",
       "OpponentAvgNetPointsFor        OpponentAvgNetPointsFor    0.317146\n",
       "OpponentTourWins                      OpponentTourWins    0.273827\n",
       "TourWins                                      TourWins    0.273816\n",
       "WinPctDiff                                  WinPctDiff    0.167320\n",
       "OpponentAvgPointsAgainst      OpponentAvgPointsAgainst    0.156840\n",
       "AvgPointsAgainst                      AvgPointsAgainst    0.139458\n",
       "DefensiveRebounds_Team          DefensiveRebounds_Team    0.139434\n",
       "DefensiveRebounds_Opponent  DefensiveRebounds_Opponent    0.139431\n",
       "AvgPointsFor                              AvgPointsFor    0.132656\n",
       "OpponentAvgPointsFor              OpponentAvgPointsFor    0.115380\n",
       "TwoPointPct_Opponent              TwoPointPct_Opponent    0.080086\n",
       "TwoPointPct_Team                      TwoPointPct_Team    0.080079\n",
       "OffensiveRebounds_Opponent  OffensiveRebounds_Opponent    0.028178\n",
       "OffensiveRebounds_Team          OffensiveRebounds_Team    0.028173\n",
       "ThreePointPct_Opponent          ThreePointPct_Opponent    0.025015\n",
       "ThreePointPct_Team                  ThreePointPct_Team    0.025013\n",
       "OpponentWinPct                          OpponentWinPct    0.000000\n",
       "FreeThrowPct_Opponent            FreeThrowPct_Opponent    0.000000\n",
       "FreeThrowPct_Team                    FreeThrowPct_Team    0.000000\n",
       "WinPct                                          WinPct    0.000000"
      ]
     },
     "execution_count": 63,
     "metadata": {},
     "output_type": "execute_result"
    }
   ],
   "source": [
    "lrc5 = LogisticRegression(penalty='l1')\n",
    "params = {'C': [50,75,100,125,150,175,200,225]}\n",
    "gscv5 = GridSearchCV(lrc5, params, scoring='accuracy', refit=True)\n",
    "gscv5.fit(X_dev2_combined, y_dev2_combined)\n",
    "print('Best accuracy: {:.4}, with best C: {}'.format(gscv5.best_score_, gscv5.best_params_['C']))\n",
    "lrc5 = LogisticRegression(penalty='l1', C=gscv5.best_params_['C'])\n",
    "lrc5.fit(X_dev2_combined, y_dev2_combined)\n",
    "importance_df = pd.DataFrame({\n",
    "        'feature': reduced_features,\n",
    "        'importance': np.abs(np.std(X_dev2_combined) * lrc5.coef_[0])\n",
    "    })\n",
    "importance_df.sort_values(by='importance', ascending=False)"
   ]
  }
 ],
 "metadata": {
  "kernelspec": {
   "display_name": "Python 2",
   "language": "python",
   "name": "python2"
  },
  "language_info": {
   "codemirror_mode": {
    "name": "ipython",
    "version": 2
   },
   "file_extension": ".py",
   "mimetype": "text/x-python",
   "name": "python",
   "nbconvert_exporter": "python",
   "pygments_lexer": "ipython2",
   "version": "2.7.14"
  }
 },
 "nbformat": 4,
 "nbformat_minor": 2
}
