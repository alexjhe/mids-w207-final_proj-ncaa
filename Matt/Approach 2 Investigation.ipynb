{
 "cells": [
  {
   "cell_type": "markdown",
   "metadata": {},
   "source": [
    "# Approach 2 Investigation"
   ]
  },
  {
   "cell_type": "code",
   "execution_count": 42,
   "metadata": {
    "collapsed": true
   },
   "outputs": [],
   "source": [
    "import psycopg2 as pg\n",
    "import numpy as np\n",
    "import pandas as pd\n",
    "from sklearn.linear_model import LogisticRegression\n",
    "from sklearn.model_selection import GridSearchCV\n",
    "from sklearn.model_selection import train_test_split\n",
    "from sklearn import metrics\n",
    "from sklearn.metrics import roc_auc_score\n",
    "from sklearn.metrics import classification_report\n",
    "\n",
    "import matplotlib.pyplot as plt\n",
    "%matplotlib inline"
   ]
  },
  {
   "cell_type": "code",
   "execution_count": 3,
   "metadata": {
    "collapsed": true
   },
   "outputs": [],
   "source": [
    "# Establish connection to postgres\n",
    "conn = pg.connect(database='postgres',\n",
    "                  user='postgres',\n",
    "                  password='w207final',\n",
    "                  host='35.185.225.167')"
   ]
  },
  {
   "cell_type": "markdown",
   "metadata": {},
   "source": [
    "### Get the train/dev data from the database"
   ]
  },
  {
   "cell_type": "markdown",
   "metadata": {},
   "source": [
    "#### Approach2: Training data is all regular season data (2003-2018)"
   ]
  },
  {
   "cell_type": "code",
   "execution_count": 4,
   "metadata": {
    "collapsed": true
   },
   "outputs": [],
   "source": [
    "approach2TrainingDataQuery = '''  SELECT * FROM prod.\"features\" f WHERE (f.\"Season Type\"='Regular') AND (f.\"Season\" < 2019) ORDER BY \"Season\", \"DayNum\", \"Team\"  '''\n",
    "df_approach2_training = pd.read_sql_query(approach2TrainingDataQuery, conn)"
   ]
  },
  {
   "cell_type": "markdown",
   "metadata": {},
   "source": [
    "#### Approach2: Dev data is all tournament data (2003-2017)"
   ]
  },
  {
   "cell_type": "code",
   "execution_count": 5,
   "metadata": {
    "collapsed": true
   },
   "outputs": [],
   "source": [
    "approach2DevDataQuery = ''' SELECT * FROM prod.\"features\" f WHERE (f.\"Season Type\"='NCAA Tourney') AND (f.\"Season\" > 2002) order by \"Season\", \"DayNum\", \"Team\" '''\n",
    "df_approach2_dev = pd.read_sql_query(approach2DevDataQuery, conn)"
   ]
  },
  {
   "cell_type": "markdown",
   "metadata": {},
   "source": [
    "#### Approach2Combined: Training data is all regular season data (2003-2018) and the tournament games before 2014 (2003-2013)"
   ]
  },
  {
   "cell_type": "code",
   "execution_count": 6,
   "metadata": {
    "collapsed": true
   },
   "outputs": [],
   "source": [
    "approach2CombinedTrainingDataQuery = '''  SELECT * FROM prod.\"features\" f WHERE (f.\"Season Type\"='Regular') OR (f.\"Season\" < 2014) ORDER BY \"Season\", \"DayNum\", \"Team\"  '''\n",
    "df_approach2Combined_training = pd.read_sql_query(approach2CombinedTrainingDataQuery, conn)"
   ]
  },
  {
   "cell_type": "markdown",
   "metadata": {},
   "source": [
    "#### Approach2Combined: Dev data is tournament data between 2014-2017"
   ]
  },
  {
   "cell_type": "code",
   "execution_count": 7,
   "metadata": {
    "collapsed": true
   },
   "outputs": [],
   "source": [
    "approach2CombinedDevDataQuery = ''' SELECT * FROM prod.\"features\" f WHERE (f.\"Season Type\"='NCAA Tourney') AND (f.\"Season\" > 2013) order by \"Season\", \"DayNum\", \"Team\" '''\n",
    "df_approach2Combined_dev = pd.read_sql_query(approach2CombinedDevDataQuery, conn)"
   ]
  },
  {
   "cell_type": "code",
   "execution_count": 8,
   "metadata": {
    "collapsed": true
   },
   "outputs": [],
   "source": [
    "conn.close()"
   ]
  },
  {
   "cell_type": "markdown",
   "metadata": {},
   "source": [
    "### Create Train and Dev Sets"
   ]
  },
  {
   "cell_type": "code",
   "execution_count": 9,
   "metadata": {
    "collapsed": true
   },
   "outputs": [],
   "source": [
    "target = 'Outcome'\n",
    "features = ['TwoPointPct_Team', 'ThreePointPct_Team', 'FreeThrowPct_Team', 'OffensiveRebounds_Team', 'DefensiveRebounds_Team', 'TwoPointPct_Opponent', 'ThreePointPct_Opponent', 'FreeThrowPct_Opponent', 'OffensiveRebounds_Opponent', 'DefensiveRebounds_Opponent', 'AvgRank', 'OpponentAvgRank', 'WinPct', 'OpponentWinPct', 'WinPctDiff', 'AvgPointsFor', 'AvgPointsAgainst', 'AvgNetPointsFor', 'SeedDiff', 'OpponentAvgPointsFor', 'OpponentAvgPointsAgainst', 'OpponentAvgNetPointsFor']"
   ]
  },
  {
   "cell_type": "code",
   "execution_count": 10,
   "metadata": {
    "collapsed": true
   },
   "outputs": [],
   "source": [
    "X_train2 = df_approach2_training[features]\n",
    "y_train2 = df_approach2_training[target]\n",
    "X_dev2  = df_approach2_dev[features]\n",
    "y_dev2  = df_approach2_dev[target]"
   ]
  },
  {
   "cell_type": "code",
   "execution_count": 11,
   "metadata": {
    "collapsed": true
   },
   "outputs": [],
   "source": [
    "X_train2_combined = df_approach2Combined_training[features]\n",
    "y_train2_combined = df_approach2Combined_training[target]\n",
    "X_dev2_combined  = df_approach2Combined_dev[features]\n",
    "y_dev2_combined  = df_approach2Combined_dev[target]"
   ]
  },
  {
   "cell_type": "markdown",
   "metadata": {},
   "source": [
    "#### Examine the number of NaNs (or Nones) in data from all regular season games"
   ]
  },
  {
   "cell_type": "code",
   "execution_count": 12,
   "metadata": {
    "collapsed": true
   },
   "outputs": [],
   "source": [
    "X_train2_counts_df = X_train2.count().to_frame().T\n",
    "X_train2_nan_counts_df = X_train2.shape[0] - X_train2_counts_df"
   ]
  },
  {
   "cell_type": "code",
   "execution_count": 13,
   "metadata": {},
   "outputs": [
    {
     "data": {
      "text/html": [
       "<div>\n",
       "<style>\n",
       "    .dataframe thead tr:only-child th {\n",
       "        text-align: right;\n",
       "    }\n",
       "\n",
       "    .dataframe thead th {\n",
       "        text-align: left;\n",
       "    }\n",
       "\n",
       "    .dataframe tbody tr th {\n",
       "        vertical-align: top;\n",
       "    }\n",
       "</style>\n",
       "<table border=\"1\" class=\"dataframe\">\n",
       "  <thead>\n",
       "    <tr style=\"text-align: right;\">\n",
       "      <th></th>\n",
       "      <th>TwoPointPct_Team</th>\n",
       "      <th>ThreePointPct_Team</th>\n",
       "      <th>FreeThrowPct_Team</th>\n",
       "      <th>OffensiveRebounds_Team</th>\n",
       "      <th>DefensiveRebounds_Team</th>\n",
       "      <th>TwoPointPct_Opponent</th>\n",
       "      <th>ThreePointPct_Opponent</th>\n",
       "      <th>FreeThrowPct_Opponent</th>\n",
       "      <th>OffensiveRebounds_Opponent</th>\n",
       "      <th>DefensiveRebounds_Opponent</th>\n",
       "    </tr>\n",
       "  </thead>\n",
       "  <tbody>\n",
       "    <tr>\n",
       "      <th>0</th>\n",
       "      <td>5481</td>\n",
       "      <td>5481</td>\n",
       "      <td>5481</td>\n",
       "      <td>5481</td>\n",
       "      <td>5481</td>\n",
       "      <td>5481</td>\n",
       "      <td>5481</td>\n",
       "      <td>5481</td>\n",
       "      <td>5481</td>\n",
       "      <td>5481</td>\n",
       "    </tr>\n",
       "  </tbody>\n",
       "</table>\n",
       "</div>"
      ],
      "text/plain": [
       "   TwoPointPct_Team  ThreePointPct_Team  FreeThrowPct_Team  \\\n",
       "0              5481                5481               5481   \n",
       "\n",
       "   OffensiveRebounds_Team  DefensiveRebounds_Team  TwoPointPct_Opponent  \\\n",
       "0                    5481                    5481                  5481   \n",
       "\n",
       "   ThreePointPct_Opponent  FreeThrowPct_Opponent  OffensiveRebounds_Opponent  \\\n",
       "0                    5481                   5481                        5481   \n",
       "\n",
       "   DefensiveRebounds_Opponent  \n",
       "0                        5481  "
      ]
     },
     "execution_count": 13,
     "metadata": {},
     "output_type": "execute_result"
    }
   ],
   "source": [
    "X_train2_nan_counts_df[['TwoPointPct_Team', 'ThreePointPct_Team', 'FreeThrowPct_Team', 'OffensiveRebounds_Team', 'DefensiveRebounds_Team', 'TwoPointPct_Opponent', 'ThreePointPct_Opponent', 'FreeThrowPct_Opponent', 'OffensiveRebounds_Opponent', 'DefensiveRebounds_Opponent']]"
   ]
  },
  {
   "cell_type": "code",
   "execution_count": 14,
   "metadata": {},
   "outputs": [
    {
     "data": {
      "text/html": [
       "<div>\n",
       "<style>\n",
       "    .dataframe thead tr:only-child th {\n",
       "        text-align: right;\n",
       "    }\n",
       "\n",
       "    .dataframe thead th {\n",
       "        text-align: left;\n",
       "    }\n",
       "\n",
       "    .dataframe tbody tr th {\n",
       "        vertical-align: top;\n",
       "    }\n",
       "</style>\n",
       "<table border=\"1\" class=\"dataframe\">\n",
       "  <thead>\n",
       "    <tr style=\"text-align: right;\">\n",
       "      <th></th>\n",
       "      <th>AvgRank</th>\n",
       "      <th>OpponentAvgRank</th>\n",
       "      <th>WinPct</th>\n",
       "      <th>OpponentWinPct</th>\n",
       "      <th>WinPctDiff</th>\n",
       "      <th>AvgPointsFor</th>\n",
       "      <th>AvgPointsAgainst</th>\n",
       "      <th>AvgNetPointsFor</th>\n",
       "      <th>SeedDiff</th>\n",
       "      <th>OpponentAvgPointsFor</th>\n",
       "      <th>OpponentAvgPointsAgainst</th>\n",
       "      <th>OpponentAvgNetPointsFor</th>\n",
       "    </tr>\n",
       "  </thead>\n",
       "  <tbody>\n",
       "    <tr>\n",
       "      <th>0</th>\n",
       "      <td>7884</td>\n",
       "      <td>7884</td>\n",
       "      <td>5481</td>\n",
       "      <td>5481</td>\n",
       "      <td>6704</td>\n",
       "      <td>5481</td>\n",
       "      <td>5481</td>\n",
       "      <td>5481</td>\n",
       "      <td>164082</td>\n",
       "      <td>5481</td>\n",
       "      <td>5481</td>\n",
       "      <td>5481</td>\n",
       "    </tr>\n",
       "  </tbody>\n",
       "</table>\n",
       "</div>"
      ],
      "text/plain": [
       "   AvgRank  OpponentAvgRank  WinPct  OpponentWinPct  WinPctDiff  AvgPointsFor  \\\n",
       "0     7884             7884    5481            5481        6704          5481   \n",
       "\n",
       "   AvgPointsAgainst  AvgNetPointsFor  SeedDiff  OpponentAvgPointsFor  \\\n",
       "0              5481             5481    164082                  5481   \n",
       "\n",
       "   OpponentAvgPointsAgainst  OpponentAvgNetPointsFor  \n",
       "0                      5481                     5481  "
      ]
     },
     "execution_count": 14,
     "metadata": {},
     "output_type": "execute_result"
    }
   ],
   "source": [
    "X_train2_nan_counts_df[['AvgRank', 'OpponentAvgRank', 'WinPct', 'OpponentWinPct', 'WinPctDiff', 'AvgPointsFor', 'AvgPointsAgainst', 'AvgNetPointsFor', 'SeedDiff', 'OpponentAvgPointsFor', 'OpponentAvgPointsAgainst', 'OpponentAvgNetPointsFor']]"
   ]
  },
  {
   "cell_type": "markdown",
   "metadata": {
    "collapsed": true
   },
   "source": [
    "The following have 164082 'None': SeedDiff.  **We will ignore this column**"
   ]
  },
  {
   "cell_type": "markdown",
   "metadata": {},
   "source": [
    "The following have 5481 NaNs: TwoPointPct_Team, ThreePointPct_Team, FreeThrowPct_Team, OffensiveRebounds_Team, DefensiveRebounds_Team, TwoPointPct_Opponent, ThreePointPct_Opponent, FreeThrowPct_Opponent, OffensiveRebounds_Opponent, DefensiveRebounds_Opponent, WinPct\tOpponentWinPct, AvgPointsFor, AvgPointsAgainst, AvgNetPointsFor, OpponentAvgPointsFor, OpponentAvgPointsAgainst, OpponentAvgNetPointsFor"
   ]
  },
  {
   "cell_type": "code",
   "execution_count": 15,
   "metadata": {},
   "outputs": [
    {
     "name": "stdout",
     "output_type": "stream",
     "text": [
      "Which is: 0.03 % of the data. Since this is a small percentage, they can be removed.\n"
     ]
    }
   ],
   "source": [
    "print 'Which is: {0:.2f} % of the data. Since this is a small percentage, they can be removed.'.format(float(X_train2_nan_counts_df['TwoPointPct_Team'])/X_train2.shape[0])"
   ]
  },
  {
   "cell_type": "markdown",
   "metadata": {},
   "source": [
    "The following have 7884 NaNs: AvgRank, OpponentAvgRank"
   ]
  },
  {
   "cell_type": "code",
   "execution_count": 16,
   "metadata": {},
   "outputs": [
    {
     "name": "stdout",
     "output_type": "stream",
     "text": [
      "Which is: 0.05 % of the data. Since this is a small percentage, they can be removed.\n"
     ]
    }
   ],
   "source": [
    "print 'Which is: {0:.2f} % of the data. Since this is a small percentage, they can be removed.'.format(float(X_train2_nan_counts_df['AvgRank'])/X_train2.shape[0])"
   ]
  },
  {
   "cell_type": "markdown",
   "metadata": {},
   "source": [
    "#### Examine the number of NaNs (or Nones) in data from all tournament data (2003-2017)"
   ]
  },
  {
   "cell_type": "code",
   "execution_count": 17,
   "metadata": {
    "collapsed": true
   },
   "outputs": [],
   "source": [
    "X_dev2_counts_df = X_dev2.count().to_frame().T\n",
    "X_dev2_nan_counts = X_dev2.shape[0] - X_dev2_counts_df"
   ]
  },
  {
   "cell_type": "code",
   "execution_count": 18,
   "metadata": {},
   "outputs": [
    {
     "data": {
      "text/html": [
       "<div>\n",
       "<style>\n",
       "    .dataframe thead tr:only-child th {\n",
       "        text-align: right;\n",
       "    }\n",
       "\n",
       "    .dataframe thead th {\n",
       "        text-align: left;\n",
       "    }\n",
       "\n",
       "    .dataframe tbody tr th {\n",
       "        vertical-align: top;\n",
       "    }\n",
       "</style>\n",
       "<table border=\"1\" class=\"dataframe\">\n",
       "  <thead>\n",
       "    <tr style=\"text-align: right;\">\n",
       "      <th></th>\n",
       "      <th>TwoPointPct_Team</th>\n",
       "      <th>ThreePointPct_Team</th>\n",
       "      <th>FreeThrowPct_Team</th>\n",
       "      <th>OffensiveRebounds_Team</th>\n",
       "      <th>DefensiveRebounds_Team</th>\n",
       "      <th>TwoPointPct_Opponent</th>\n",
       "      <th>ThreePointPct_Opponent</th>\n",
       "      <th>FreeThrowPct_Opponent</th>\n",
       "      <th>OffensiveRebounds_Opponent</th>\n",
       "      <th>DefensiveRebounds_Opponent</th>\n",
       "    </tr>\n",
       "  </thead>\n",
       "  <tbody>\n",
       "    <tr>\n",
       "      <th>0</th>\n",
       "      <td>0</td>\n",
       "      <td>0</td>\n",
       "      <td>0</td>\n",
       "      <td>0</td>\n",
       "      <td>0</td>\n",
       "      <td>0</td>\n",
       "      <td>0</td>\n",
       "      <td>0</td>\n",
       "      <td>0</td>\n",
       "      <td>0</td>\n",
       "    </tr>\n",
       "  </tbody>\n",
       "</table>\n",
       "</div>"
      ],
      "text/plain": [
       "   TwoPointPct_Team  ThreePointPct_Team  FreeThrowPct_Team  \\\n",
       "0                 0                   0                  0   \n",
       "\n",
       "   OffensiveRebounds_Team  DefensiveRebounds_Team  TwoPointPct_Opponent  \\\n",
       "0                       0                       0                     0   \n",
       "\n",
       "   ThreePointPct_Opponent  FreeThrowPct_Opponent  OffensiveRebounds_Opponent  \\\n",
       "0                       0                      0                           0   \n",
       "\n",
       "   DefensiveRebounds_Opponent  \n",
       "0                           0  "
      ]
     },
     "execution_count": 18,
     "metadata": {},
     "output_type": "execute_result"
    }
   ],
   "source": [
    "X_dev2_nan_counts[['TwoPointPct_Team', 'ThreePointPct_Team', 'FreeThrowPct_Team', 'OffensiveRebounds_Team', 'DefensiveRebounds_Team', 'TwoPointPct_Opponent', 'ThreePointPct_Opponent', 'FreeThrowPct_Opponent', 'OffensiveRebounds_Opponent', 'DefensiveRebounds_Opponent']]"
   ]
  },
  {
   "cell_type": "code",
   "execution_count": 19,
   "metadata": {},
   "outputs": [
    {
     "data": {
      "text/html": [
       "<div>\n",
       "<style>\n",
       "    .dataframe thead tr:only-child th {\n",
       "        text-align: right;\n",
       "    }\n",
       "\n",
       "    .dataframe thead th {\n",
       "        text-align: left;\n",
       "    }\n",
       "\n",
       "    .dataframe tbody tr th {\n",
       "        vertical-align: top;\n",
       "    }\n",
       "</style>\n",
       "<table border=\"1\" class=\"dataframe\">\n",
       "  <thead>\n",
       "    <tr style=\"text-align: right;\">\n",
       "      <th></th>\n",
       "      <th>AvgRank</th>\n",
       "      <th>OpponentAvgRank</th>\n",
       "      <th>WinPct</th>\n",
       "      <th>OpponentWinPct</th>\n",
       "      <th>WinPctDiff</th>\n",
       "      <th>AvgPointsFor</th>\n",
       "      <th>AvgPointsAgainst</th>\n",
       "      <th>AvgNetPointsFor</th>\n",
       "      <th>SeedDiff</th>\n",
       "      <th>OpponentAvgPointsFor</th>\n",
       "      <th>OpponentAvgPointsAgainst</th>\n",
       "      <th>OpponentAvgNetPointsFor</th>\n",
       "    </tr>\n",
       "  </thead>\n",
       "  <tbody>\n",
       "    <tr>\n",
       "      <th>0</th>\n",
       "      <td>0</td>\n",
       "      <td>0</td>\n",
       "      <td>0</td>\n",
       "      <td>0</td>\n",
       "      <td>0</td>\n",
       "      <td>0</td>\n",
       "      <td>0</td>\n",
       "      <td>0</td>\n",
       "      <td>0</td>\n",
       "      <td>0</td>\n",
       "      <td>0</td>\n",
       "      <td>0</td>\n",
       "    </tr>\n",
       "  </tbody>\n",
       "</table>\n",
       "</div>"
      ],
      "text/plain": [
       "   AvgRank  OpponentAvgRank  WinPct  OpponentWinPct  WinPctDiff  AvgPointsFor  \\\n",
       "0        0                0       0               0           0             0   \n",
       "\n",
       "   AvgPointsAgainst  AvgNetPointsFor  SeedDiff  OpponentAvgPointsFor  \\\n",
       "0                 0                0         0                     0   \n",
       "\n",
       "   OpponentAvgPointsAgainst  OpponentAvgNetPointsFor  \n",
       "0                         0                        0  "
      ]
     },
     "execution_count": 19,
     "metadata": {},
     "output_type": "execute_result"
    }
   ],
   "source": [
    "X_dev2_nan_counts[['AvgRank', 'OpponentAvgRank', 'WinPct', 'OpponentWinPct', 'WinPctDiff', 'AvgPointsFor', 'AvgPointsAgainst', 'AvgNetPointsFor', 'SeedDiff', 'OpponentAvgPointsFor', 'OpponentAvgPointsAgainst', 'OpponentAvgNetPointsFor']]"
   ]
  },
  {
   "cell_type": "markdown",
   "metadata": {},
   "source": [
    "There are no 'NaN' or 'None' values for the tournament data."
   ]
  },
  {
   "cell_type": "markdown",
   "metadata": {},
   "source": [
    "#### Examine the number of NaNs (or Nones) in data from all regular season data (2003-2018) and the tournament games before 2014 (2003-2013)"
   ]
  },
  {
   "cell_type": "code",
   "execution_count": 20,
   "metadata": {
    "collapsed": true
   },
   "outputs": [],
   "source": [
    "X_train2_combined_counts_df = X_train2_combined.count().to_frame().T\n",
    "X_train2_combined_nan_counts = X_train2_combined.shape[0] - X_train2_combined_counts_df"
   ]
  },
  {
   "cell_type": "code",
   "execution_count": 21,
   "metadata": {},
   "outputs": [
    {
     "data": {
      "text/html": [
       "<div>\n",
       "<style>\n",
       "    .dataframe thead tr:only-child th {\n",
       "        text-align: right;\n",
       "    }\n",
       "\n",
       "    .dataframe thead th {\n",
       "        text-align: left;\n",
       "    }\n",
       "\n",
       "    .dataframe tbody tr th {\n",
       "        vertical-align: top;\n",
       "    }\n",
       "</style>\n",
       "<table border=\"1\" class=\"dataframe\">\n",
       "  <thead>\n",
       "    <tr style=\"text-align: right;\">\n",
       "      <th></th>\n",
       "      <th>TwoPointPct_Team</th>\n",
       "      <th>ThreePointPct_Team</th>\n",
       "      <th>FreeThrowPct_Team</th>\n",
       "      <th>OffensiveRebounds_Team</th>\n",
       "      <th>DefensiveRebounds_Team</th>\n",
       "      <th>TwoPointPct_Opponent</th>\n",
       "      <th>ThreePointPct_Opponent</th>\n",
       "      <th>FreeThrowPct_Opponent</th>\n",
       "      <th>OffensiveRebounds_Opponent</th>\n",
       "      <th>DefensiveRebounds_Opponent</th>\n",
       "    </tr>\n",
       "  </thead>\n",
       "  <tbody>\n",
       "    <tr>\n",
       "      <th>0</th>\n",
       "      <td>5481</td>\n",
       "      <td>5481</td>\n",
       "      <td>5481</td>\n",
       "      <td>5481</td>\n",
       "      <td>5481</td>\n",
       "      <td>5481</td>\n",
       "      <td>5481</td>\n",
       "      <td>5481</td>\n",
       "      <td>5481</td>\n",
       "      <td>5481</td>\n",
       "    </tr>\n",
       "  </tbody>\n",
       "</table>\n",
       "</div>"
      ],
      "text/plain": [
       "   TwoPointPct_Team  ThreePointPct_Team  FreeThrowPct_Team  \\\n",
       "0              5481                5481               5481   \n",
       "\n",
       "   OffensiveRebounds_Team  DefensiveRebounds_Team  TwoPointPct_Opponent  \\\n",
       "0                    5481                    5481                  5481   \n",
       "\n",
       "   ThreePointPct_Opponent  FreeThrowPct_Opponent  OffensiveRebounds_Opponent  \\\n",
       "0                    5481                   5481                        5481   \n",
       "\n",
       "   DefensiveRebounds_Opponent  \n",
       "0                        5481  "
      ]
     },
     "execution_count": 21,
     "metadata": {},
     "output_type": "execute_result"
    }
   ],
   "source": [
    "X_train2_combined_nan_counts[['TwoPointPct_Team', 'ThreePointPct_Team', 'FreeThrowPct_Team', 'OffensiveRebounds_Team', 'DefensiveRebounds_Team', 'TwoPointPct_Opponent', 'ThreePointPct_Opponent', 'FreeThrowPct_Opponent', 'OffensiveRebounds_Opponent', 'DefensiveRebounds_Opponent']]"
   ]
  },
  {
   "cell_type": "code",
   "execution_count": 22,
   "metadata": {},
   "outputs": [
    {
     "data": {
      "text/html": [
       "<div>\n",
       "<style>\n",
       "    .dataframe thead tr:only-child th {\n",
       "        text-align: right;\n",
       "    }\n",
       "\n",
       "    .dataframe thead th {\n",
       "        text-align: left;\n",
       "    }\n",
       "\n",
       "    .dataframe tbody tr th {\n",
       "        vertical-align: top;\n",
       "    }\n",
       "</style>\n",
       "<table border=\"1\" class=\"dataframe\">\n",
       "  <thead>\n",
       "    <tr style=\"text-align: right;\">\n",
       "      <th></th>\n",
       "      <th>AvgRank</th>\n",
       "      <th>OpponentAvgRank</th>\n",
       "      <th>WinPct</th>\n",
       "      <th>OpponentWinPct</th>\n",
       "      <th>WinPctDiff</th>\n",
       "      <th>AvgPointsFor</th>\n",
       "      <th>AvgPointsAgainst</th>\n",
       "      <th>AvgNetPointsFor</th>\n",
       "      <th>SeedDiff</th>\n",
       "      <th>OpponentAvgPointsFor</th>\n",
       "      <th>OpponentAvgPointsAgainst</th>\n",
       "      <th>OpponentAvgNetPointsFor</th>\n",
       "    </tr>\n",
       "  </thead>\n",
       "  <tbody>\n",
       "    <tr>\n",
       "      <th>0</th>\n",
       "      <td>7884</td>\n",
       "      <td>7884</td>\n",
       "      <td>5481</td>\n",
       "      <td>5481</td>\n",
       "      <td>6704</td>\n",
       "      <td>5481</td>\n",
       "      <td>5481</td>\n",
       "      <td>5481</td>\n",
       "      <td>164082</td>\n",
       "      <td>5481</td>\n",
       "      <td>5481</td>\n",
       "      <td>5481</td>\n",
       "    </tr>\n",
       "  </tbody>\n",
       "</table>\n",
       "</div>"
      ],
      "text/plain": [
       "   AvgRank  OpponentAvgRank  WinPct  OpponentWinPct  WinPctDiff  AvgPointsFor  \\\n",
       "0     7884             7884    5481            5481        6704          5481   \n",
       "\n",
       "   AvgPointsAgainst  AvgNetPointsFor  SeedDiff  OpponentAvgPointsFor  \\\n",
       "0              5481             5481    164082                  5481   \n",
       "\n",
       "   OpponentAvgPointsAgainst  OpponentAvgNetPointsFor  \n",
       "0                      5481                     5481  "
      ]
     },
     "execution_count": 22,
     "metadata": {},
     "output_type": "execute_result"
    }
   ],
   "source": [
    "X_train2_combined_nan_counts[['AvgRank', 'OpponentAvgRank', 'WinPct', 'OpponentWinPct', 'WinPctDiff', 'AvgPointsFor', 'AvgPointsAgainst', 'AvgNetPointsFor', 'SeedDiff', 'OpponentAvgPointsFor', 'OpponentAvgPointsAgainst', 'OpponentAvgNetPointsFor']]"
   ]
  },
  {
   "cell_type": "markdown",
   "metadata": {},
   "source": [
    "The following have 164082 'None': SeedDiff.  **We will ignore this column**"
   ]
  },
  {
   "cell_type": "markdown",
   "metadata": {},
   "source": [
    "The following have 5481 NaNs: TwoPointPct_Team, ThreePointPct_Team, FreeThrowPct_Team, OffensiveRebounds_Team, DefensiveRebounds_Team, TwoPointPct_Opponent, ThreePointPct_Opponent, FreeThrowPct_Opponent, OffensiveRebounds_Opponent, DefensiveRebounds_Opponent, WinPct, OpponentWinPct, AvgPointsFor, AvgPointsAgainst, AvgNetPointsFor, OpponentAvgPointsFor, OpponentAvgPointsAgainst, OpponentAvgNetPointsFor."
   ]
  },
  {
   "cell_type": "code",
   "execution_count": 23,
   "metadata": {},
   "outputs": [
    {
     "name": "stdout",
     "output_type": "stream",
     "text": [
      "Which is: 0.03 % of the data. Since this is a small percentage, they can be removed.\n"
     ]
    }
   ],
   "source": [
    "print 'Which is: {0:.2f} % of the data. Since this is a small percentage, they can be removed.'.format(float(X_train2_combined_nan_counts['TwoPointPct_Team'])/X_train2_combined.shape[0])"
   ]
  },
  {
   "cell_type": "markdown",
   "metadata": {},
   "source": [
    "The following have 7884 NaNs: AvgRank, OpponentAvgRank"
   ]
  },
  {
   "cell_type": "code",
   "execution_count": 24,
   "metadata": {},
   "outputs": [
    {
     "name": "stdout",
     "output_type": "stream",
     "text": [
      "Which is: 0.05 % of the data. Since this is a small percentage, they can be removed.\n"
     ]
    }
   ],
   "source": [
    "print 'Which is: {0:.2f} % of the data. Since this is a small percentage, they can be removed.'.format(float(X_train2_combined_nan_counts['AvgRank'])/X_train2_combined.shape[0])"
   ]
  },
  {
   "cell_type": "markdown",
   "metadata": {},
   "source": [
    "#### Examine the number of NaNs (or Nones) in data from tournament data between 2014-2017"
   ]
  },
  {
   "cell_type": "code",
   "execution_count": 25,
   "metadata": {
    "collapsed": true
   },
   "outputs": [],
   "source": [
    "X_dev2_combined_counts_df = X_dev2_combined.count().to_frame().T\n",
    "X_dev2_combined_nan_counts = X_dev2_combined.shape[0] - X_dev2_combined_counts_df"
   ]
  },
  {
   "cell_type": "code",
   "execution_count": 26,
   "metadata": {},
   "outputs": [
    {
     "data": {
      "text/html": [
       "<div>\n",
       "<style>\n",
       "    .dataframe thead tr:only-child th {\n",
       "        text-align: right;\n",
       "    }\n",
       "\n",
       "    .dataframe thead th {\n",
       "        text-align: left;\n",
       "    }\n",
       "\n",
       "    .dataframe tbody tr th {\n",
       "        vertical-align: top;\n",
       "    }\n",
       "</style>\n",
       "<table border=\"1\" class=\"dataframe\">\n",
       "  <thead>\n",
       "    <tr style=\"text-align: right;\">\n",
       "      <th></th>\n",
       "      <th>TwoPointPct_Team</th>\n",
       "      <th>ThreePointPct_Team</th>\n",
       "      <th>FreeThrowPct_Team</th>\n",
       "      <th>OffensiveRebounds_Team</th>\n",
       "      <th>DefensiveRebounds_Team</th>\n",
       "      <th>TwoPointPct_Opponent</th>\n",
       "      <th>ThreePointPct_Opponent</th>\n",
       "      <th>FreeThrowPct_Opponent</th>\n",
       "      <th>OffensiveRebounds_Opponent</th>\n",
       "      <th>DefensiveRebounds_Opponent</th>\n",
       "    </tr>\n",
       "  </thead>\n",
       "  <tbody>\n",
       "    <tr>\n",
       "      <th>0</th>\n",
       "      <td>0</td>\n",
       "      <td>0</td>\n",
       "      <td>0</td>\n",
       "      <td>0</td>\n",
       "      <td>0</td>\n",
       "      <td>0</td>\n",
       "      <td>0</td>\n",
       "      <td>0</td>\n",
       "      <td>0</td>\n",
       "      <td>0</td>\n",
       "    </tr>\n",
       "  </tbody>\n",
       "</table>\n",
       "</div>"
      ],
      "text/plain": [
       "   TwoPointPct_Team  ThreePointPct_Team  FreeThrowPct_Team  \\\n",
       "0                 0                   0                  0   \n",
       "\n",
       "   OffensiveRebounds_Team  DefensiveRebounds_Team  TwoPointPct_Opponent  \\\n",
       "0                       0                       0                     0   \n",
       "\n",
       "   ThreePointPct_Opponent  FreeThrowPct_Opponent  OffensiveRebounds_Opponent  \\\n",
       "0                       0                      0                           0   \n",
       "\n",
       "   DefensiveRebounds_Opponent  \n",
       "0                           0  "
      ]
     },
     "execution_count": 26,
     "metadata": {},
     "output_type": "execute_result"
    }
   ],
   "source": [
    "X_dev2_combined_nan_counts[['TwoPointPct_Team', 'ThreePointPct_Team', 'FreeThrowPct_Team', 'OffensiveRebounds_Team', 'DefensiveRebounds_Team', 'TwoPointPct_Opponent', 'ThreePointPct_Opponent', 'FreeThrowPct_Opponent', 'OffensiveRebounds_Opponent', 'DefensiveRebounds_Opponent']]"
   ]
  },
  {
   "cell_type": "code",
   "execution_count": 27,
   "metadata": {},
   "outputs": [
    {
     "data": {
      "text/html": [
       "<div>\n",
       "<style>\n",
       "    .dataframe thead tr:only-child th {\n",
       "        text-align: right;\n",
       "    }\n",
       "\n",
       "    .dataframe thead th {\n",
       "        text-align: left;\n",
       "    }\n",
       "\n",
       "    .dataframe tbody tr th {\n",
       "        vertical-align: top;\n",
       "    }\n",
       "</style>\n",
       "<table border=\"1\" class=\"dataframe\">\n",
       "  <thead>\n",
       "    <tr style=\"text-align: right;\">\n",
       "      <th></th>\n",
       "      <th>AvgRank</th>\n",
       "      <th>OpponentAvgRank</th>\n",
       "      <th>WinPct</th>\n",
       "      <th>OpponentWinPct</th>\n",
       "      <th>WinPctDiff</th>\n",
       "      <th>AvgPointsFor</th>\n",
       "      <th>AvgPointsAgainst</th>\n",
       "      <th>AvgNetPointsFor</th>\n",
       "      <th>SeedDiff</th>\n",
       "      <th>OpponentAvgPointsFor</th>\n",
       "      <th>OpponentAvgPointsAgainst</th>\n",
       "      <th>OpponentAvgNetPointsFor</th>\n",
       "    </tr>\n",
       "  </thead>\n",
       "  <tbody>\n",
       "    <tr>\n",
       "      <th>0</th>\n",
       "      <td>0</td>\n",
       "      <td>0</td>\n",
       "      <td>0</td>\n",
       "      <td>0</td>\n",
       "      <td>0</td>\n",
       "      <td>0</td>\n",
       "      <td>0</td>\n",
       "      <td>0</td>\n",
       "      <td>0</td>\n",
       "      <td>0</td>\n",
       "      <td>0</td>\n",
       "      <td>0</td>\n",
       "    </tr>\n",
       "  </tbody>\n",
       "</table>\n",
       "</div>"
      ],
      "text/plain": [
       "   AvgRank  OpponentAvgRank  WinPct  OpponentWinPct  WinPctDiff  AvgPointsFor  \\\n",
       "0        0                0       0               0           0             0   \n",
       "\n",
       "   AvgPointsAgainst  AvgNetPointsFor  SeedDiff  OpponentAvgPointsFor  \\\n",
       "0                 0                0         0                     0   \n",
       "\n",
       "   OpponentAvgPointsAgainst  OpponentAvgNetPointsFor  \n",
       "0                         0                        0  "
      ]
     },
     "execution_count": 27,
     "metadata": {},
     "output_type": "execute_result"
    }
   ],
   "source": [
    "X_dev2_combined_nan_counts[['AvgRank', 'OpponentAvgRank', 'WinPct', 'OpponentWinPct', 'WinPctDiff', 'AvgPointsFor', 'AvgPointsAgainst', 'AvgNetPointsFor', 'SeedDiff', 'OpponentAvgPointsFor', 'OpponentAvgPointsAgainst', 'OpponentAvgNetPointsFor']]"
   ]
  },
  {
   "cell_type": "markdown",
   "metadata": {},
   "source": [
    "There are no 'NaN' or 'None' values for the tournament data."
   ]
  },
  {
   "cell_type": "markdown",
   "metadata": {},
   "source": [
    "### Remove the NaN values"
   ]
  },
  {
   "cell_type": "code",
   "execution_count": 28,
   "metadata": {
    "collapsed": true
   },
   "outputs": [],
   "source": [
    "rows_to_drop = (np.isnan(df_approach2_training.Outcome)) | (np.isnan(df_approach2_training.TwoPointPct_Team)) | (np.isnan(df_approach2_training.ThreePointPct_Team)) | (np.isnan(df_approach2_training.FreeThrowPct_Team)) | (np.isnan(df_approach2_training.OffensiveRebounds_Team)) | (np.isnan(df_approach2_training.DefensiveRebounds_Team)) | (np.isnan(df_approach2_training.TwoPointPct_Opponent)) | (np.isnan(df_approach2_training.ThreePointPct_Opponent)) | (np.isnan(df_approach2_training.FreeThrowPct_Opponent)) | (np.isnan(df_approach2_training.OffensiveRebounds_Opponent)) | (np.isnan(df_approach2_training.DefensiveRebounds_Opponent)) | (np.isnan(df_approach2_training.AvgRank)) | (np.isnan(df_approach2_training.OpponentAvgRank)) | (np.isnan(df_approach2Combined_dev.OpponentWinPct)) | (np.isnan(df_approach2Combined_dev.WinPctDiff)) | (np.isnan(df_approach2Combined_dev.AvgPointsFor)) | (np.isnan(df_approach2Combined_dev.AvgPointsAgainst)) | (np.isnan(df_approach2Combined_dev.AvgNetPointsFor)) | (np.isnan(df_approach2Combined_dev.OpponentAvgPointsFor)) | (np.isnan(df_approach2Combined_dev.OpponentAvgPointsAgainst)) | (np.isnan(df_approach2Combined_dev.OpponentAvgNetPointsFor))"
   ]
  },
  {
   "cell_type": "code",
   "execution_count": 29,
   "metadata": {
    "collapsed": true
   },
   "outputs": [],
   "source": [
    "df_approach2_training = df_approach2_training.drop(df_approach2_training[rows_to_drop].index)"
   ]
  },
  {
   "cell_type": "code",
   "execution_count": 30,
   "metadata": {
    "collapsed": true
   },
   "outputs": [],
   "source": [
    "rows_to_drop = (np.isnan(df_approach2_dev.Outcome)) | (np.isnan(df_approach2_dev.TwoPointPct_Team)) | (np.isnan(df_approach2_dev.ThreePointPct_Team)) | (np.isnan(df_approach2_dev.FreeThrowPct_Team)) | (np.isnan(df_approach2_dev.OffensiveRebounds_Team)) | (np.isnan(df_approach2_dev.DefensiveRebounds_Team)) | (np.isnan(df_approach2_dev.TwoPointPct_Opponent)) | (np.isnan(df_approach2_dev.ThreePointPct_Opponent)) | (np.isnan(df_approach2_dev.FreeThrowPct_Opponent)) | (np.isnan(df_approach2_dev.OffensiveRebounds_Opponent)) | (np.isnan(df_approach2_dev.DefensiveRebounds_Opponent)) | (np.isnan(df_approach2_dev.AvgRank)) | (np.isnan(df_approach2_dev.OpponentAvgRank)) | (np.isnan(df_approach2Combined_dev.OpponentWinPct)) | (np.isnan(df_approach2Combined_dev.WinPctDiff)) | (np.isnan(df_approach2Combined_dev.AvgPointsFor)) | (np.isnan(df_approach2Combined_dev.AvgPointsAgainst)) | (np.isnan(df_approach2Combined_dev.AvgNetPointsFor)) | (np.isnan(df_approach2Combined_dev.OpponentAvgPointsFor)) | (np.isnan(df_approach2Combined_dev.OpponentAvgPointsAgainst)) | (np.isnan(df_approach2Combined_dev.OpponentAvgNetPointsFor))"
   ]
  },
  {
   "cell_type": "code",
   "execution_count": 31,
   "metadata": {
    "collapsed": true
   },
   "outputs": [],
   "source": [
    "df_approach2_dev = df_approach2_dev.drop(df_approach2_dev[rows_to_drop].index)"
   ]
  },
  {
   "cell_type": "code",
   "execution_count": 32,
   "metadata": {
    "collapsed": true
   },
   "outputs": [],
   "source": [
    "rows_to_drop = (np.isnan(df_approach2Combined_training.Outcome)) | (np.isnan(df_approach2Combined_training.TwoPointPct_Team)) | (np.isnan(df_approach2Combined_training.ThreePointPct_Team)) | (np.isnan(df_approach2Combined_training.FreeThrowPct_Team)) | (np.isnan(df_approach2Combined_training.OffensiveRebounds_Team)) | (np.isnan(df_approach2Combined_training.DefensiveRebounds_Team)) | (np.isnan(df_approach2Combined_training.TwoPointPct_Opponent)) | (np.isnan(df_approach2Combined_training.ThreePointPct_Opponent)) | (np.isnan(df_approach2Combined_training.FreeThrowPct_Opponent)) | (np.isnan(df_approach2Combined_training.OffensiveRebounds_Opponent)) | (np.isnan(df_approach2Combined_training.DefensiveRebounds_Opponent)) | (np.isnan(df_approach2Combined_training.AvgRank)) | (np.isnan(df_approach2Combined_training.OpponentAvgRank)) | (np.isnan(df_approach2Combined_dev.OpponentWinPct)) | (np.isnan(df_approach2Combined_dev.WinPctDiff)) | (np.isnan(df_approach2Combined_dev.AvgPointsFor)) | (np.isnan(df_approach2Combined_dev.AvgPointsAgainst)) | (np.isnan(df_approach2Combined_dev.AvgNetPointsFor)) | (np.isnan(df_approach2Combined_dev.OpponentAvgPointsFor)) | (np.isnan(df_approach2Combined_dev.OpponentAvgPointsAgainst)) | (np.isnan(df_approach2Combined_dev.OpponentAvgNetPointsFor))"
   ]
  },
  {
   "cell_type": "code",
   "execution_count": 33,
   "metadata": {
    "collapsed": true
   },
   "outputs": [],
   "source": [
    "df_approach2Combined_training = df_approach2Combined_training.drop(df_approach2Combined_training[rows_to_drop].index)"
   ]
  },
  {
   "cell_type": "code",
   "execution_count": 34,
   "metadata": {
    "collapsed": true
   },
   "outputs": [],
   "source": [
    "rows_to_drop = (np.isnan(df_approach2Combined_dev.Outcome)) | (np.isnan(df_approach2Combined_dev.TwoPointPct_Team)) | (np.isnan(df_approach2Combined_dev.ThreePointPct_Team)) | (np.isnan(df_approach2Combined_dev.FreeThrowPct_Team)) | (np.isnan(df_approach2Combined_dev.OffensiveRebounds_Team)) | (np.isnan(df_approach2Combined_dev.DefensiveRebounds_Team)) | (np.isnan(df_approach2Combined_dev.TwoPointPct_Opponent)) | (np.isnan(df_approach2Combined_dev.ThreePointPct_Opponent)) | (np.isnan(df_approach2Combined_dev.FreeThrowPct_Opponent)) | (np.isnan(df_approach2Combined_dev.OffensiveRebounds_Opponent)) | (np.isnan(df_approach2Combined_dev.DefensiveRebounds_Opponent)) | (np.isnan(df_approach2Combined_dev.AvgRank)) | (np.isnan(df_approach2Combined_dev.OpponentAvgRank)) | (np.isnan(df_approach2Combined_dev.OpponentWinPct)) | (np.isnan(df_approach2Combined_dev.WinPctDiff)) | (np.isnan(df_approach2Combined_dev.AvgPointsFor)) | (np.isnan(df_approach2Combined_dev.AvgPointsAgainst)) | (np.isnan(df_approach2Combined_dev.AvgNetPointsFor)) | (np.isnan(df_approach2Combined_dev.OpponentAvgPointsFor)) | (np.isnan(df_approach2Combined_dev.OpponentAvgPointsAgainst)) | (np.isnan(df_approach2Combined_dev.OpponentAvgNetPointsFor))"
   ]
  },
  {
   "cell_type": "code",
   "execution_count": 35,
   "metadata": {
    "collapsed": true
   },
   "outputs": [],
   "source": [
    "df_approach2Combined_dev = df_approach2Combined_dev.drop(df_approach2Combined_dev[rows_to_drop].index)"
   ]
  },
  {
   "cell_type": "markdown",
   "metadata": {},
   "source": [
    "#### Check the 'Outcome' types:"
   ]
  },
  {
   "cell_type": "code",
   "execution_count": 36,
   "metadata": {},
   "outputs": [
    {
     "name": "stdout",
     "output_type": "stream",
     "text": [
      "int64\n",
      "float64\n",
      "int64\n",
      "float64\n"
     ]
    }
   ],
   "source": [
    "print df_approach2_training['Outcome'].dtype\n",
    "print df_approach2_dev['Outcome'].dtype\n",
    "print df_approach2Combined_training['Outcome'].dtype\n",
    "print df_approach2Combined_dev['Outcome'].dtype"
   ]
  },
  {
   "cell_type": "markdown",
   "metadata": {},
   "source": [
    "The 'Outcome' type needs to be of type 'int', so the float values need to be casted to int."
   ]
  },
  {
   "cell_type": "markdown",
   "metadata": {},
   "source": [
    "Also remove any features (for example, SeedDiff):"
   ]
  },
  {
   "cell_type": "code",
   "execution_count": 37,
   "metadata": {
    "collapsed": true
   },
   "outputs": [],
   "source": [
    "reduced_features = ['TwoPointPct_Team', 'ThreePointPct_Team', 'FreeThrowPct_Team', 'OffensiveRebounds_Team', 'DefensiveRebounds_Team', 'TwoPointPct_Opponent', 'ThreePointPct_Opponent', 'FreeThrowPct_Opponent', 'OffensiveRebounds_Opponent', 'DefensiveRebounds_Opponent', 'AvgRank', 'OpponentAvgRank', 'OpponentWinPct', 'WinPctDiff', 'AvgPointsFor', 'AvgPointsAgainst', 'AvgNetPointsFor', 'OpponentAvgPointsFor', 'OpponentAvgPointsAgainst', 'OpponentAvgNetPointsFor']"
   ]
  },
  {
   "cell_type": "code",
   "execution_count": 38,
   "metadata": {
    "collapsed": true
   },
   "outputs": [],
   "source": [
    "X_train2 = df_approach2_training[reduced_features]\n",
    "y_train2 = df_approach2_training[target]\n",
    "X_dev2  = df_approach2_dev[reduced_features]\n",
    "# Cast to 'int'\n",
    "y_dev2  = df_approach2_dev[target].astype(int)"
   ]
  },
  {
   "cell_type": "code",
   "execution_count": 39,
   "metadata": {
    "collapsed": true
   },
   "outputs": [],
   "source": [
    "X_train2_combined = df_approach2Combined_training[reduced_features]\n",
    "y_train2_combined = df_approach2Combined_training[target]\n",
    "X_dev2_combined  = df_approach2Combined_dev[reduced_features]\n",
    "# Cast to 'int'\n",
    "y_dev2_combined  = df_approach2Combined_dev[target].astype(int)"
   ]
  },
  {
   "cell_type": "markdown",
   "metadata": {},
   "source": [
    "### Logistic Regression"
   ]
  },
  {
   "cell_type": "markdown",
   "metadata": {
    "collapsed": true
   },
   "source": [
    "Perform a Logistic Regression (Lasso) Using the **Regular Season**"
   ]
  },
  {
   "cell_type": "code",
   "execution_count": 40,
   "metadata": {},
   "outputs": [
    {
     "name": "stdout",
     "output_type": "stream",
     "text": [
      "Best accuracy: 0.7101, with best C: 200\n"
     ]
    }
   ],
   "source": [
    "lrc1 = LogisticRegression(penalty='l1')\n",
    "params = {'C': [50,75,100,125,150,175,200,225]}\n",
    "gscv1 = GridSearchCV(lrc1, params, scoring='accuracy', refit=True)\n",
    "gscv1.fit(X_train2, y_train2)\n",
    "print('Best accuracy: {:.4}, with best C: {}'.format(gscv1.best_score_, gscv1.best_params_['C']))"
   ]
  },
  {
   "cell_type": "code",
   "execution_count": 45,
   "metadata": {},
   "outputs": [
    {
     "name": "stdout",
     "output_type": "stream",
     "text": [
      "             precision    recall  f1-score   support\n",
      "\n",
      "          0       0.72      0.72      0.72       981\n",
      "          1       0.72      0.72      0.72       981\n",
      "\n",
      "avg / total       0.72      0.72      0.72      1962\n",
      "\n"
     ]
    }
   ],
   "source": [
    "lrc1 = LogisticRegression(penalty='l1', C=gscv1.best_params_['C'])\n",
    "lrc1.fit(X_train2, y_train2)\n",
    "prediction1 = lrc1.predict(X_dev2)\n",
    "print classification_report(prediction1, y_dev2)"
   ]
  },
  {
   "cell_type": "code",
   "execution_count": 76,
   "metadata": {},
   "outputs": [
    {
     "name": "stdout",
     "output_type": "stream",
     "text": [
      "Area under the curve: 0.715\n"
     ]
    },
    {
     "data": {
      "text/plain": [
       "[<matplotlib.lines.Line2D at 0x1aeb84e0>]"
      ]
     },
     "execution_count": 76,
     "metadata": {},
     "output_type": "execute_result"
    },
    {
     "data": {
      "image/png": "[encoded data removed]",
      "text/plain": [
       "<matplotlib.figure.Figure at 0x215bf940>"
      ]
     },
     "metadata": {},
     "output_type": "display_data"
    }
   ],
   "source": [
    "print 'Area under the curve: {0:.3f}'.format(roc_auc_score(y_dev2,  lrc1.predict(X_dev2)))\n",
    "\n",
    "y_probas = lrc1.predict_proba(X_dev2)\n",
    "\n",
    "fpr, tpr, thresholds = metrics.roc_curve(y_dev2.values, y_probas[:,1])\n",
    "plt.plot(fpr, tpr)\n",
    "plt.plot([0, 1], [0, 1])\n",
    "plt.xlabel('False Positive Rate')\n",
    "plt.ylabel('True Positive Rate')\n",
    "plt.show()"
   ]
  },
  {
   "cell_type": "markdown",
   "metadata": {},
   "source": [
    "Perform a Logistic Regression (Ridge) Using the **Regular Season**"
   ]
  },
  {
   "cell_type": "code",
   "execution_count": 47,
   "metadata": {},
   "outputs": [
    {
     "name": "stdout",
     "output_type": "stream",
     "text": [
      "Best accuracy: 0.7105, with best C: 175\n"
     ]
    }
   ],
   "source": [
    "lrc2 = LogisticRegression(penalty='l2')\n",
    "params = {'C': [50,75,100,125,150,175,200,225]}\n",
    "gscv2 = GridSearchCV(lrc2, params, scoring='accuracy', refit=True)\n",
    "gscv2.fit(X_train2, y_train2)\n",
    "print('Best accuracy: {:.4}, with best C: {}'.format(gscv2.best_score_, gscv2.best_params_['C']))"
   ]
  },
  {
   "cell_type": "code",
   "execution_count": 49,
   "metadata": {},
   "outputs": [
    {
     "name": "stdout",
     "output_type": "stream",
     "text": [
      "             precision    recall  f1-score   support\n",
      "\n",
      "          0       0.71      0.72      0.71       980\n",
      "          1       0.72      0.71      0.72       982\n",
      "\n",
      "avg / total       0.72      0.72      0.72      1962\n",
      "\n"
     ]
    }
   ],
   "source": [
    "lrc2 = LogisticRegression(penalty='l2', C=gscv2.best_params_['C'])\n",
    "lrc2.fit(X_train2, y_train2)\n",
    "prediction2 = lrc2.predict(X_dev2)\n",
    "print classification_report(prediction2, y_dev2)"
   ]
  },
  {
   "cell_type": "code",
   "execution_count": 50,
   "metadata": {},
   "outputs": [
    {
     "name": "stdout",
     "output_type": "stream",
     "text": [
      "Area under the curve: 0.715\n"
     ]
    },
    {
     "data": {
      "image/png": "[encoded data removed]",
      "text/plain": [
       "<matplotlib.figure.Figure at 0x1cb29080>"
      ]
     },
     "metadata": {},
     "output_type": "display_data"
    }
   ],
   "source": [
    "print 'Area under the curve: {0:.3f}'.format(roc_auc_score(y_dev2,  lrc2.predict(X_dev2)))\n",
    "\n",
    "y_probas = lrc2.predict_proba(X_dev2)\n",
    "\n",
    "fpr, tpr, thresholds = metrics.roc_curve(y_dev2.values, y_probas[:,1])\n",
    "plt.plot(fpr, tpr)\n",
    "plt.plot([0, 1], [0, 1])\n",
    "plt.xlabel('False Positive Rate')\n",
    "plt.ylabel('True Positive Rate')\n",
    "plt.show()"
   ]
  },
  {
   "cell_type": "markdown",
   "metadata": {},
   "source": [
    "Perform a Logistic Regression (Lasso) Using **Combined Regular Season / Tournament Data**"
   ]
  },
  {
   "cell_type": "code",
   "execution_count": 51,
   "metadata": {},
   "outputs": [
    {
     "name": "stdout",
     "output_type": "stream",
     "text": [
      "Best accuracy: 0.7103, with best C: 200\n"
     ]
    }
   ],
   "source": [
    "lrc3 = LogisticRegression(penalty='l1')\n",
    "params = {'C': [50,75,100,125,150,175,200,225]}\n",
    "gscv3 = GridSearchCV(lrc3, params, scoring='accuracy', refit=True)\n",
    "gscv3.fit(X_train2_combined, y_train2_combined)\n",
    "print('Best accuracy: {:.4}, with best C: {}'.format(gscv3.best_score_, gscv3.best_params_['C']))"
   ]
  },
  {
   "cell_type": "code",
   "execution_count": 52,
   "metadata": {},
   "outputs": [
    {
     "name": "stdout",
     "output_type": "stream",
     "text": [
      "             precision    recall  f1-score   support\n",
      "\n",
      "          0       0.73      0.73      0.73       268\n",
      "          1       0.73      0.73      0.73       268\n",
      "\n",
      "avg / total       0.73      0.73      0.73       536\n",
      "\n"
     ]
    }
   ],
   "source": [
    "lrc3 = LogisticRegression(penalty='l1', C=gscv3.best_params_['C'])\n",
    "lrc3.fit(X_train2_combined, y_train2_combined)\n",
    "prediction3 = lrc3.predict(X_dev2_combined)\n",
    "print classification_report(prediction3, y_dev2_combined)"
   ]
  },
  {
   "cell_type": "code",
   "execution_count": 53,
   "metadata": {},
   "outputs": [
    {
     "name": "stdout",
     "output_type": "stream",
     "text": [
      "Area under the curve: 0.715\n"
     ]
    },
    {
     "data": {
      "image/png": "[encoded data removed]",
      "text/plain": [
       "<matplotlib.figure.Figure at 0x1f72f710>"
      ]
     },
     "metadata": {},
     "output_type": "display_data"
    }
   ],
   "source": [
    "print 'Area under the curve: {0:.3f}'.format(roc_auc_score(y_dev2,  lrc3.predict(X_dev2)))\n",
    "\n",
    "y_probas = lrc3.predict_proba(X_dev2_combined)\n",
    "\n",
    "fpr, tpr, thresholds = metrics.roc_curve(y_dev2_combined.values, y_probas[:,1])\n",
    "plt.plot(fpr, tpr)\n",
    "plt.plot([0, 1], [0, 1])\n",
    "plt.xlabel('False Positive Rate')\n",
    "plt.ylabel('True Positive Rate')\n",
    "plt.show()"
   ]
  },
  {
   "cell_type": "markdown",
   "metadata": {},
   "source": [
    "Perform a Logistic Regression (Ridge) Using **Combined Regular Season / Tournament Data**"
   ]
  },
  {
   "cell_type": "code",
   "execution_count": 54,
   "metadata": {},
   "outputs": [
    {
     "name": "stdout",
     "output_type": "stream",
     "text": [
      "Best accuracy: 0.7106, with best C: 50\n"
     ]
    }
   ],
   "source": [
    "lrc4 = LogisticRegression(penalty='l2')\n",
    "params = {'C': [50,75,100,125,150,175,200,225]}\n",
    "gscv4 = GridSearchCV(lrc4, params, scoring='accuracy', refit=True)\n",
    "gscv4.fit(X_train2_combined, y_train2_combined)\n",
    "print('Best accuracy: {:.4}, with best C: {}'.format(gscv4.best_score_, gscv4.best_params_['C']))"
   ]
  },
  {
   "cell_type": "code",
   "execution_count": 55,
   "metadata": {},
   "outputs": [
    {
     "name": "stdout",
     "output_type": "stream",
     "text": [
      "             precision    recall  f1-score   support\n",
      "\n",
      "          0       0.73      0.73      0.73       268\n",
      "          1       0.73      0.73      0.73       268\n",
      "\n",
      "avg / total       0.73      0.73      0.73       536\n",
      "\n"
     ]
    }
   ],
   "source": [
    "lrc4 = LogisticRegression(penalty='l2', C=gscv4.best_params_['C'])\n",
    "lrc4.fit(X_train2_combined, y_train2_combined)\n",
    "prediction4 = lrc4.predict(X_dev2_combined)\n",
    "print classification_report(prediction4, y_dev2_combined)"
   ]
  },
  {
   "cell_type": "code",
   "execution_count": 56,
   "metadata": {},
   "outputs": [
    {
     "name": "stdout",
     "output_type": "stream",
     "text": [
      "Area under the curve: 0.716\n"
     ]
    },
    {
     "data": {
      "image/png": "[encoded data removed]",
      "text/plain": [
       "<matplotlib.figure.Figure at 0x91ef0f0>"
      ]
     },
     "metadata": {},
     "output_type": "display_data"
    }
   ],
   "source": [
    "print 'Area under the curve: {0:.3f}'.format(roc_auc_score(y_dev2,  lrc4.predict(X_dev2)))\n",
    "\n",
    "y_probas = lrc4.predict_proba(X_dev2_combined)\n",
    "\n",
    "fpr, tpr, thresholds = metrics.roc_curve(y_dev2_combined.values, y_probas[:,1])\n",
    "plt.plot(fpr, tpr)\n",
    "plt.plot([0, 1], [0, 1])\n",
    "plt.xlabel('False Positive Rate')\n",
    "plt.ylabel('True Positive Rate')\n",
    "plt.show()"
   ]
  },
  {
   "cell_type": "markdown",
   "metadata": {},
   "source": [
    "#### Look for the most influential features\n",
    "https://stackoverflow.com/questions/34052115/how-to-find-the-importance-of-the-features-for-a-logistic-regression-model"
   ]
  },
  {
   "cell_type": "markdown",
   "metadata": {},
   "source": [
    "#### Regular Season"
   ]
  },
  {
   "cell_type": "code",
   "execution_count": 62,
   "metadata": {},
   "outputs": [
    {
     "data": {
      "text/html": [
       "<div>\n",
       "<style>\n",
       "    .dataframe thead tr:only-child th {\n",
       "        text-align: right;\n",
       "    }\n",
       "\n",
       "    .dataframe thead th {\n",
       "        text-align: left;\n",
       "    }\n",
       "\n",
       "    .dataframe tbody tr th {\n",
       "        vertical-align: top;\n",
       "    }\n",
       "</style>\n",
       "<table border=\"1\" class=\"dataframe\">\n",
       "  <thead>\n",
       "    <tr style=\"text-align: right;\">\n",
       "      <th></th>\n",
       "      <th>feature</th>\n",
       "      <th>importance</th>\n",
       "    </tr>\n",
       "  </thead>\n",
       "  <tbody>\n",
       "    <tr>\n",
       "      <th>OpponentAvgRank</th>\n",
       "      <td>OpponentAvgRank</td>\n",
       "      <td>1.010406</td>\n",
       "    </tr>\n",
       "    <tr>\n",
       "      <th>AvgRank</th>\n",
       "      <td>AvgRank</td>\n",
       "      <td>1.010399</td>\n",
       "    </tr>\n",
       "    <tr>\n",
       "      <th>OpponentAvgNetPointsFor</th>\n",
       "      <td>OpponentAvgNetPointsFor</td>\n",
       "      <td>0.491198</td>\n",
       "    </tr>\n",
       "    <tr>\n",
       "      <th>AvgNetPointsFor</th>\n",
       "      <td>AvgNetPointsFor</td>\n",
       "      <td>0.486072</td>\n",
       "    </tr>\n",
       "    <tr>\n",
       "      <th>WinPctDiff</th>\n",
       "      <td>WinPctDiff</td>\n",
       "      <td>0.355366</td>\n",
       "    </tr>\n",
       "    <tr>\n",
       "      <th>DefensiveRebounds_Team</th>\n",
       "      <td>DefensiveRebounds_Team</td>\n",
       "      <td>0.066682</td>\n",
       "    </tr>\n",
       "    <tr>\n",
       "      <th>DefensiveRebounds_Opponent</th>\n",
       "      <td>DefensiveRebounds_Opponent</td>\n",
       "      <td>0.066522</td>\n",
       "    </tr>\n",
       "    <tr>\n",
       "      <th>TwoPointPct_Opponent</th>\n",
       "      <td>TwoPointPct_Opponent</td>\n",
       "      <td>0.061253</td>\n",
       "    </tr>\n",
       "    <tr>\n",
       "      <th>TwoPointPct_Team</th>\n",
       "      <td>TwoPointPct_Team</td>\n",
       "      <td>0.061041</td>\n",
       "    </tr>\n",
       "    <tr>\n",
       "      <th>OffensiveRebounds_Opponent</th>\n",
       "      <td>OffensiveRebounds_Opponent</td>\n",
       "      <td>0.053782</td>\n",
       "    </tr>\n",
       "    <tr>\n",
       "      <th>OffensiveRebounds_Team</th>\n",
       "      <td>OffensiveRebounds_Team</td>\n",
       "      <td>0.053601</td>\n",
       "    </tr>\n",
       "    <tr>\n",
       "      <th>ThreePointPct_Team</th>\n",
       "      <td>ThreePointPct_Team</td>\n",
       "      <td>0.049903</td>\n",
       "    </tr>\n",
       "    <tr>\n",
       "      <th>ThreePointPct_Opponent</th>\n",
       "      <td>ThreePointPct_Opponent</td>\n",
       "      <td>0.049710</td>\n",
       "    </tr>\n",
       "    <tr>\n",
       "      <th>AvgPointsFor</th>\n",
       "      <td>AvgPointsFor</td>\n",
       "      <td>0.012090</td>\n",
       "    </tr>\n",
       "    <tr>\n",
       "      <th>OpponentAvgPointsFor</th>\n",
       "      <td>OpponentAvgPointsFor</td>\n",
       "      <td>0.007716</td>\n",
       "    </tr>\n",
       "    <tr>\n",
       "      <th>FreeThrowPct_Opponent</th>\n",
       "      <td>FreeThrowPct_Opponent</td>\n",
       "      <td>0.007405</td>\n",
       "    </tr>\n",
       "    <tr>\n",
       "      <th>FreeThrowPct_Team</th>\n",
       "      <td>FreeThrowPct_Team</td>\n",
       "      <td>0.007268</td>\n",
       "    </tr>\n",
       "    <tr>\n",
       "      <th>OpponentAvgPointsAgainst</th>\n",
       "      <td>OpponentAvgPointsAgainst</td>\n",
       "      <td>0.004783</td>\n",
       "    </tr>\n",
       "    <tr>\n",
       "      <th>AvgPointsAgainst</th>\n",
       "      <td>AvgPointsAgainst</td>\n",
       "      <td>0.000859</td>\n",
       "    </tr>\n",
       "    <tr>\n",
       "      <th>OpponentWinPct</th>\n",
       "      <td>OpponentWinPct</td>\n",
       "      <td>0.000015</td>\n",
       "    </tr>\n",
       "  </tbody>\n",
       "</table>\n",
       "</div>"
      ],
      "text/plain": [
       "                                               feature  importance\n",
       "OpponentAvgRank                        OpponentAvgRank    1.010406\n",
       "AvgRank                                        AvgRank    1.010399\n",
       "OpponentAvgNetPointsFor        OpponentAvgNetPointsFor    0.491198\n",
       "AvgNetPointsFor                        AvgNetPointsFor    0.486072\n",
       "WinPctDiff                                  WinPctDiff    0.355366\n",
       "DefensiveRebounds_Team          DefensiveRebounds_Team    0.066682\n",
       "DefensiveRebounds_Opponent  DefensiveRebounds_Opponent    0.066522\n",
       "TwoPointPct_Opponent              TwoPointPct_Opponent    0.061253\n",
       "TwoPointPct_Team                      TwoPointPct_Team    0.061041\n",
       "OffensiveRebounds_Opponent  OffensiveRebounds_Opponent    0.053782\n",
       "OffensiveRebounds_Team          OffensiveRebounds_Team    0.053601\n",
       "ThreePointPct_Team                  ThreePointPct_Team    0.049903\n",
       "ThreePointPct_Opponent          ThreePointPct_Opponent    0.049710\n",
       "AvgPointsFor                              AvgPointsFor    0.012090\n",
       "OpponentAvgPointsFor              OpponentAvgPointsFor    0.007716\n",
       "FreeThrowPct_Opponent            FreeThrowPct_Opponent    0.007405\n",
       "FreeThrowPct_Team                    FreeThrowPct_Team    0.007268\n",
       "OpponentAvgPointsAgainst      OpponentAvgPointsAgainst    0.004783\n",
       "AvgPointsAgainst                      AvgPointsAgainst    0.000859\n",
       "OpponentWinPct                          OpponentWinPct    0.000015"
      ]
     },
     "execution_count": 62,
     "metadata": {},
     "output_type": "execute_result"
    }
   ],
   "source": [
    "importance_df = pd.DataFrame({\n",
    "        'feature': reduced_features,\n",
    "        'importance': np.abs(np.std(X_train2) * lrc1.coef_[0])\n",
    "    })\n",
    "\n",
    "importance_df.sort_values(by='importance', ascending=False)"
   ]
  },
  {
   "cell_type": "markdown",
   "metadata": {},
   "source": [
    "#### Combined Regular Season / Tournament"
   ]
  },
  {
   "cell_type": "code",
   "execution_count": 63,
   "metadata": {},
   "outputs": [
    {
     "data": {
      "text/html": [
       "<div>\n",
       "<style>\n",
       "    .dataframe thead tr:only-child th {\n",
       "        text-align: right;\n",
       "    }\n",
       "\n",
       "    .dataframe thead th {\n",
       "        text-align: left;\n",
       "    }\n",
       "\n",
       "    .dataframe tbody tr th {\n",
       "        vertical-align: top;\n",
       "    }\n",
       "</style>\n",
       "<table border=\"1\" class=\"dataframe\">\n",
       "  <thead>\n",
       "    <tr style=\"text-align: right;\">\n",
       "      <th></th>\n",
       "      <th>feature</th>\n",
       "      <th>importance</th>\n",
       "    </tr>\n",
       "  </thead>\n",
       "  <tbody>\n",
       "    <tr>\n",
       "      <th>OpponentAvgRank</th>\n",
       "      <td>OpponentAvgRank</td>\n",
       "      <td>1.018688</td>\n",
       "    </tr>\n",
       "    <tr>\n",
       "      <th>AvgRank</th>\n",
       "      <td>AvgRank</td>\n",
       "      <td>1.018470</td>\n",
       "    </tr>\n",
       "    <tr>\n",
       "      <th>AvgNetPointsFor</th>\n",
       "      <td>AvgNetPointsFor</td>\n",
       "      <td>0.497093</td>\n",
       "    </tr>\n",
       "    <tr>\n",
       "      <th>OpponentAvgNetPointsFor</th>\n",
       "      <td>OpponentAvgNetPointsFor</td>\n",
       "      <td>0.471083</td>\n",
       "    </tr>\n",
       "    <tr>\n",
       "      <th>WinPctDiff</th>\n",
       "      <td>WinPctDiff</td>\n",
       "      <td>0.356818</td>\n",
       "    </tr>\n",
       "    <tr>\n",
       "      <th>DefensiveRebounds_Opponent</th>\n",
       "      <td>DefensiveRebounds_Opponent</td>\n",
       "      <td>0.066711</td>\n",
       "    </tr>\n",
       "    <tr>\n",
       "      <th>DefensiveRebounds_Team</th>\n",
       "      <td>DefensiveRebounds_Team</td>\n",
       "      <td>0.066224</td>\n",
       "    </tr>\n",
       "    <tr>\n",
       "      <th>TwoPointPct_Team</th>\n",
       "      <td>TwoPointPct_Team</td>\n",
       "      <td>0.062978</td>\n",
       "    </tr>\n",
       "    <tr>\n",
       "      <th>TwoPointPct_Opponent</th>\n",
       "      <td>TwoPointPct_Opponent</td>\n",
       "      <td>0.061888</td>\n",
       "    </tr>\n",
       "    <tr>\n",
       "      <th>OffensiveRebounds_Team</th>\n",
       "      <td>OffensiveRebounds_Team</td>\n",
       "      <td>0.056133</td>\n",
       "    </tr>\n",
       "    <tr>\n",
       "      <th>OffensiveRebounds_Opponent</th>\n",
       "      <td>OffensiveRebounds_Opponent</td>\n",
       "      <td>0.055312</td>\n",
       "    </tr>\n",
       "    <tr>\n",
       "      <th>ThreePointPct_Opponent</th>\n",
       "      <td>ThreePointPct_Opponent</td>\n",
       "      <td>0.049980</td>\n",
       "    </tr>\n",
       "    <tr>\n",
       "      <th>ThreePointPct_Team</th>\n",
       "      <td>ThreePointPct_Team</td>\n",
       "      <td>0.049396</td>\n",
       "    </tr>\n",
       "    <tr>\n",
       "      <th>OpponentAvgPointsFor</th>\n",
       "      <td>OpponentAvgPointsFor</td>\n",
       "      <td>0.024911</td>\n",
       "    </tr>\n",
       "    <tr>\n",
       "      <th>OpponentAvgPointsAgainst</th>\n",
       "      <td>OpponentAvgPointsAgainst</td>\n",
       "      <td>0.012241</td>\n",
       "    </tr>\n",
       "    <tr>\n",
       "      <th>FreeThrowPct_Team</th>\n",
       "      <td>FreeThrowPct_Team</td>\n",
       "      <td>0.008238</td>\n",
       "    </tr>\n",
       "    <tr>\n",
       "      <th>FreeThrowPct_Opponent</th>\n",
       "      <td>FreeThrowPct_Opponent</td>\n",
       "      <td>0.007695</td>\n",
       "    </tr>\n",
       "    <tr>\n",
       "      <th>AvgPointsAgainst</th>\n",
       "      <td>AvgPointsAgainst</td>\n",
       "      <td>0.007547</td>\n",
       "    </tr>\n",
       "    <tr>\n",
       "      <th>AvgPointsFor</th>\n",
       "      <td>AvgPointsFor</td>\n",
       "      <td>0.003292</td>\n",
       "    </tr>\n",
       "    <tr>\n",
       "      <th>OpponentWinPct</th>\n",
       "      <td>OpponentWinPct</td>\n",
       "      <td>0.000283</td>\n",
       "    </tr>\n",
       "  </tbody>\n",
       "</table>\n",
       "</div>"
      ],
      "text/plain": [
       "                                               feature  importance\n",
       "OpponentAvgRank                        OpponentAvgRank    1.018688\n",
       "AvgRank                                        AvgRank    1.018470\n",
       "AvgNetPointsFor                        AvgNetPointsFor    0.497093\n",
       "OpponentAvgNetPointsFor        OpponentAvgNetPointsFor    0.471083\n",
       "WinPctDiff                                  WinPctDiff    0.356818\n",
       "DefensiveRebounds_Opponent  DefensiveRebounds_Opponent    0.066711\n",
       "DefensiveRebounds_Team          DefensiveRebounds_Team    0.066224\n",
       "TwoPointPct_Team                      TwoPointPct_Team    0.062978\n",
       "TwoPointPct_Opponent              TwoPointPct_Opponent    0.061888\n",
       "OffensiveRebounds_Team          OffensiveRebounds_Team    0.056133\n",
       "OffensiveRebounds_Opponent  OffensiveRebounds_Opponent    0.055312\n",
       "ThreePointPct_Opponent          ThreePointPct_Opponent    0.049980\n",
       "ThreePointPct_Team                  ThreePointPct_Team    0.049396\n",
       "OpponentAvgPointsFor              OpponentAvgPointsFor    0.024911\n",
       "OpponentAvgPointsAgainst      OpponentAvgPointsAgainst    0.012241\n",
       "FreeThrowPct_Team                    FreeThrowPct_Team    0.008238\n",
       "FreeThrowPct_Opponent            FreeThrowPct_Opponent    0.007695\n",
       "AvgPointsAgainst                      AvgPointsAgainst    0.007547\n",
       "AvgPointsFor                              AvgPointsFor    0.003292\n",
       "OpponentWinPct                          OpponentWinPct    0.000283"
      ]
     },
     "execution_count": 63,
     "metadata": {},
     "output_type": "execute_result"
    }
   ],
   "source": [
    "importance_df = pd.DataFrame({\n",
    "        'feature': reduced_features,\n",
    "        'importance': np.abs(np.std(X_train2_combined) * lrc3.coef_[0])\n",
    "    })\n",
    "\n",
    "importance_df.sort_values(by='importance', ascending=False)"
   ]
  },
  {
   "cell_type": "code",
   "execution_count": null,
   "metadata": {
    "collapsed": true
   },
   "outputs": [],
   "source": []
  }
 ],
 "metadata": {
  "kernelspec": {
   "display_name": "Python 2",
   "language": "python",
   "name": "python2"
  },
  "language_info": {
   "codemirror_mode": {
    "name": "ipython",
    "version": 2
   },
   "file_extension": ".py",
   "mimetype": "text/x-python",
   "name": "python",
   "nbconvert_exporter": "python",
   "pygments_lexer": "ipython2",
   "version": "2.7.14"
  }
 },
 "nbformat": 4,
 "nbformat_minor": 2
}
