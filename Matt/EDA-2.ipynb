{
 "cells": [
  {
   "cell_type": "markdown",
   "metadata": {},
   "source": [
    "# EDA of Average Team Statistics"
   ]
  },
  {
   "cell_type": "markdown",
   "metadata": {},
   "source": [
    "## Overview\n",
    "\n",
    "This EDA will look into the following statistics:  \n",
    "  \n",
    "* The average two point shooting percentage of teams per season.\n",
    "* The average three point shooting percentage of teams per season.\n",
    "* The average free throw shooting percentage of teams per season.\n",
    "* The average offensive rebounds of teams per season.\n",
    "* The average defensive rebounds of teams per season."
   ]
  },
  {
   "cell_type": "markdown",
   "metadata": {},
   "source": [
    "### Discussion of the data\n",
    "  \n",
    "Kaggle provided statistics about every NCAA division 1 game played between the 2003 and 2018 seasons, inclusive, in the RegSeasonDetailedResults csv file.  \n",
    "\n",
    "RegSeasonDetailedResults has the following fields.  The 'W' means the winning team, and there is a similar set for the losing team that starts with 'L':\n",
    "\n",
    "| Field | Meaning |\n",
    "|:-----------|:------------|\n",
    "|WFGM|field goals made|\n",
    "|WFGA|field goals attempted|\n",
    "|WFGM3|three pointers made|\n",
    "|WFGA3|three pointers attempted|\n",
    "|WFTM|free throws made|\n",
    "|WFTA|free throws attempted|\n",
    "|WOR|offensive rebounds|\n",
    "|WDR|defensive rebounds|\n",
    "|WAst|assists|\n",
    "|WTO|turnovers committed|\n",
    "|WStl|steals|\n",
    "|WBlk|blocks|\n",
    "|WPF|personal fouls committed|\n",
    "\n",
    "The RegSeasonDetailedResults data set did not have two point shooting statistics, so this information had to be calculated by subtracting the total number of three point shots from the total number of field goals.\n",
    "\n",
    "Using this data set, it is possible to get average statistics for each team by first splitting the winning and losing team stats into a combined table, and then grouping the data by season and team.\n",
    "\n",
    "An update query was used to calculate yearly average statistics in a temp table, and this information was populated in the 'features' table by joining it with the temp table."
   ]
  },
  {
   "cell_type": "markdown",
   "metadata": {},
   "source": [
    "## Data Preparation"
   ]
  },
  {
   "cell_type": "code",
   "execution_count": 3,
   "metadata": {
    "collapsed": true
   },
   "outputs": [],
   "source": [
    "import psycopg2 as pg\n",
    "import numpy as np\n",
    "import pandas as pd\n",
    "import matplotlib.pyplot as plt\n",
    "%matplotlib inline\n",
    "from scipy.stats import ttest_ind, ttest_ind_from_stats\n",
    "from sqlalchemy import create_engine"
   ]
  },
  {
   "cell_type": "code",
   "execution_count": 4,
   "metadata": {
    "collapsed": true
   },
   "outputs": [],
   "source": [
    "# Establish connection to postgres\n",
    "conn = pg.connect(database='postgres',\n",
    "                  user='postgres',\n",
    "                  password='w207final',\n",
    "                  host='35.185.225.167')"
   ]
  },
  {
   "cell_type": "code",
   "execution_count": 5,
   "metadata": {
    "collapsed": true
   },
   "outputs": [],
   "source": [
    "# Select all the rows from the 'features' table except the 2018 tournament\n",
    "query1 = ''' SELECT * FROM prod.\"features\" WHERE \"Season\"!=2018 OR \"Season Type\" != 'NCAA Tourney' '''\n",
    "df_stats = pd.read_sql_query(query1, conn)\n",
    "conn.close()"
   ]
  },
  {
   "cell_type": "code",
   "execution_count": 6,
   "metadata": {},
   "outputs": [
    {
     "data": {
      "text/plain": [
       "Index([u'Season', u'DayNum', u'Team', u'Opponent', u'Outcome', u'Score',\n",
       "       u'OpponentScore', u'NumOT', u'WLoc', u'Season Type', u'holdout_s1',\n",
       "       u'holdout_s2', u'AvgRank', u'OpponentAvgRank', u'TwoPointPct_Team',\n",
       "       u'ThreePointPct_Team', u'FreeThrowPct_Team', u'OffensiveRebounds_Team',\n",
       "       u'DefensiveRebounds_Team', u'TwoPointPct_Opponent',\n",
       "       u'ThreePointPct_Opponent', u'FreeThrowPct_Opponent',\n",
       "       u'OffensiveRebounds_Opponent', u'DefensiveRebounds_Opponent', u'WinPct',\n",
       "       u'OpponentWinPct', u'WinPctDiff', u'AvgPointsFor', u'AvgPointsAgainst',\n",
       "       u'AvgNetPointsFor'],\n",
       "      dtype='object')"
      ]
     },
     "execution_count": 6,
     "metadata": {},
     "output_type": "execute_result"
    }
   ],
   "source": [
    "# Look at the columns of the data frame\n",
    "df_stats.columns"
   ]
  },
  {
   "cell_type": "markdown",
   "metadata": {},
   "source": [
    "Calculate Statistics for Winning Teams v. Losing Teams"
   ]
  },
  {
   "cell_type": "markdown",
   "metadata": {},
   "source": [
    "Create a winlose dataframe"
   ]
  },
  {
   "cell_type": "code",
   "execution_count": 7,
   "metadata": {
    "collapsed": true
   },
   "outputs": [],
   "source": [
    "df_winlose = pd.DataFrame(data={'Season Type':df_stats['Season Type'],\n",
    "                                'Outcome':df_stats['Outcome'],\n",
    "                                'TwoPointPctWin':np.zeros(len(df_stats)),\n",
    "                                'TwoPointPctLose':np.zeros(len(df_stats)),\n",
    "                                'ThreePointPctWin':np.zeros(len(df_stats)),\n",
    "                                'ThreePointPctLose':np.zeros(len(df_stats)),\n",
    "                                'FreeThrowPctWin':np.zeros(len(df_stats)),\n",
    "                                'FreeThrowPctLose':np.zeros(len(df_stats)),\n",
    "                                'OffensiveReboundsWin':np.zeros(len(df_stats)),\n",
    "                                'OffensiveReboundsLose':np.zeros(len(df_stats)),\n",
    "                                'DefensiveReboundsWin':np.zeros(len(df_stats)),\n",
    "                                'DefensiveReboundsLose':np.zeros(len(df_stats))})"
   ]
  },
  {
   "cell_type": "markdown",
   "metadata": {},
   "source": [
    "Create a data set for determining the statistics for the winning teams and losing teams."
   ]
  },
  {
   "cell_type": "code",
   "execution_count": 8,
   "metadata": {
    "collapsed": true
   },
   "outputs": [],
   "source": [
    "df_winlose.loc[df_stats['Outcome'] == 1, 'TwoPointPctWin'] = df_stats[df_stats['Outcome'] == 1]['TwoPointPct_Team']\n",
    "df_winlose.loc[df_stats['Outcome'] == 0, 'TwoPointPctWin'] = df_stats[df_stats['Outcome'] == 0]['TwoPointPct_Opponent']\n",
    "df_winlose.loc[df_stats['Outcome'] == 1, 'TwoPointPctLose'] = df_stats[df_stats['Outcome'] == 1]['TwoPointPct_Opponent']\n",
    "df_winlose.loc[df_stats['Outcome'] == 0, 'TwoPointPctLose'] = df_stats[df_stats['Outcome'] == 0]['TwoPointPct_Team']\n",
    "df_winlose.loc[df_stats['Outcome'] == 1, 'ThreePointPctWin'] = df_stats[df_stats['Outcome'] == 1]['ThreePointPct_Team']\n",
    "df_winlose.loc[df_stats['Outcome'] == 0, 'ThreePointPctWin'] = df_stats[df_stats['Outcome'] == 0]['ThreePointPct_Opponent']\n",
    "df_winlose.loc[df_stats['Outcome'] == 1, 'ThreePointPctLose'] = df_stats[df_stats['Outcome'] == 1]['ThreePointPct_Opponent']\n",
    "df_winlose.loc[df_stats['Outcome'] == 0, 'ThreePointPctLose'] = df_stats[df_stats['Outcome'] == 0]['ThreePointPct_Team']\n",
    "df_winlose.loc[df_stats['Outcome'] == 1, 'FreeThrowPctWin'] = df_stats[df_stats['Outcome'] == 1]['FreeThrowPct_Team']\n",
    "df_winlose.loc[df_stats['Outcome'] == 0, 'FreeThrowPctWin'] = df_stats[df_stats['Outcome'] == 0]['FreeThrowPct_Opponent']\n",
    "df_winlose.loc[df_stats['Outcome'] == 1, 'FreeThrowPctLose'] = df_stats[df_stats['Outcome'] == 1]['FreeThrowPct_Opponent']\n",
    "df_winlose.loc[df_stats['Outcome'] == 0, 'FreeThrowPctLose'] = df_stats[df_stats['Outcome'] == 0]['FreeThrowPct_Team']\n",
    "df_winlose.loc[df_stats['Outcome'] == 1, 'OffensiveReboundsWin'] = df_stats[df_stats['Outcome'] == 1]['OffensiveRebounds_Team']\n",
    "df_winlose.loc[df_stats['Outcome'] == 0, 'OffensiveReboundsWin'] = df_stats[df_stats['Outcome'] == 0]['OffensiveRebounds_Opponent']\n",
    "df_winlose.loc[df_stats['Outcome'] == 1, 'OffensiveReboundsLose'] = df_stats[df_stats['Outcome'] == 1]['OffensiveRebounds_Opponent']\n",
    "df_winlose.loc[df_stats['Outcome'] == 0, 'OffensiveReboundsLose'] = df_stats[df_stats['Outcome'] == 0]['OffensiveRebounds_Team']\n",
    "df_winlose.loc[df_stats['Outcome'] == 1, 'DefensiveReboundsWin'] = df_stats[df_stats['Outcome'] == 1]['DefensiveRebounds_Team']\n",
    "df_winlose.loc[df_stats['Outcome'] == 0, 'DefensiveReboundsWin'] = df_stats[df_stats['Outcome'] == 0]['DefensiveRebounds_Opponent']\n",
    "df_winlose.loc[df_stats['Outcome'] == 1, 'DefensiveReboundsLose'] = df_stats[df_stats['Outcome'] == 1]['DefensiveRebounds_Opponent']\n",
    "df_winlose.loc[df_stats['Outcome'] == 0, 'DefensiveReboundsLose'] = df_stats[df_stats['Outcome'] == 0]['DefensiveRebounds_Team']"
   ]
  },
  {
   "cell_type": "markdown",
   "metadata": {},
   "source": [
    "Get Data Sets for the Regular Season and Tournaments"
   ]
  },
  {
   "cell_type": "code",
   "execution_count": 9,
   "metadata": {
    "collapsed": true
   },
   "outputs": [],
   "source": [
    "df_reg_season = df_stats[df_stats[\"Season Type\"] == \"Regular\"]\n",
    "df_winlose_reg_season = df_winlose[df_winlose[\"Season Type\"] == \"Regular\"]\n",
    "df_tourney = df_stats[df_stats[\"Season Type\"] == \"NCAA Tourney\"]\n",
    "df_winlose_tourney = df_winlose[df_winlose[\"Season Type\"] == \"NCAA Tourney\"]"
   ]
  },
  {
   "cell_type": "markdown",
   "metadata": {},
   "source": [
    "## Average Two Point Shooting Percentage"
   ]
  },
  {
   "cell_type": "markdown",
   "metadata": {},
   "source": [
    "### Regular Season"
   ]
  },
  {
   "cell_type": "markdown",
   "metadata": {},
   "source": [
    "Descriptive Statistics for Two Point Shooting Percentages for the Regular Season"
   ]
  },
  {
   "cell_type": "code",
   "execution_count": 10,
   "metadata": {},
   "outputs": [
    {
     "data": {
      "text/html": [
       "<div>\n",
       "<style>\n",
       "    .dataframe thead tr:only-child th {\n",
       "        text-align: right;\n",
       "    }\n",
       "\n",
       "    .dataframe thead th {\n",
       "        text-align: left;\n",
       "    }\n",
       "\n",
       "    .dataframe tbody tr th {\n",
       "        vertical-align: top;\n",
       "    }\n",
       "</style>\n",
       "<table border=\"1\" class=\"dataframe\">\n",
       "  <thead>\n",
       "    <tr style=\"text-align: right;\">\n",
       "      <th></th>\n",
       "      <th>TwoPointPct_Team</th>\n",
       "    </tr>\n",
       "  </thead>\n",
       "  <tbody>\n",
       "    <tr>\n",
       "      <th>count</th>\n",
       "      <td>164082.000000</td>\n",
       "    </tr>\n",
       "    <tr>\n",
       "      <th>mean</th>\n",
       "      <td>0.485169</td>\n",
       "    </tr>\n",
       "    <tr>\n",
       "      <th>std</th>\n",
       "      <td>0.033445</td>\n",
       "    </tr>\n",
       "    <tr>\n",
       "      <th>min</th>\n",
       "      <td>0.369611</td>\n",
       "    </tr>\n",
       "    <tr>\n",
       "      <th>25%</th>\n",
       "      <td>0.462690</td>\n",
       "    </tr>\n",
       "    <tr>\n",
       "      <th>50%</th>\n",
       "      <td>0.485195</td>\n",
       "    </tr>\n",
       "    <tr>\n",
       "      <th>75%</th>\n",
       "      <td>0.506959</td>\n",
       "    </tr>\n",
       "    <tr>\n",
       "      <th>max</th>\n",
       "      <td>0.626320</td>\n",
       "    </tr>\n",
       "  </tbody>\n",
       "</table>\n",
       "</div>"
      ],
      "text/plain": [
       "       TwoPointPct_Team\n",
       "count     164082.000000\n",
       "mean           0.485169\n",
       "std            0.033445\n",
       "min            0.369611\n",
       "25%            0.462690\n",
       "50%            0.485195\n",
       "75%            0.506959\n",
       "max            0.626320"
      ]
     },
     "execution_count": 10,
     "metadata": {},
     "output_type": "execute_result"
    }
   ],
   "source": [
    "df_reg_season[['TwoPointPct_Team']].describe()"
   ]
  },
  {
   "cell_type": "markdown",
   "metadata": {},
   "source": [
    "Descriptive Statistics for TwoPointPctWin / TwoPointPctLose for the Regular Season"
   ]
  },
  {
   "cell_type": "code",
   "execution_count": 11,
   "metadata": {},
   "outputs": [
    {
     "data": {
      "text/html": [
       "<div>\n",
       "<style>\n",
       "    .dataframe thead tr:only-child th {\n",
       "        text-align: right;\n",
       "    }\n",
       "\n",
       "    .dataframe thead th {\n",
       "        text-align: left;\n",
       "    }\n",
       "\n",
       "    .dataframe tbody tr th {\n",
       "        vertical-align: top;\n",
       "    }\n",
       "</style>\n",
       "<table border=\"1\" class=\"dataframe\">\n",
       "  <thead>\n",
       "    <tr style=\"text-align: right;\">\n",
       "      <th></th>\n",
       "      <th>TwoPointPctWin</th>\n",
       "      <th>TwoPointPctLose</th>\n",
       "    </tr>\n",
       "  </thead>\n",
       "  <tbody>\n",
       "    <tr>\n",
       "      <th>count</th>\n",
       "      <td>164082.000000</td>\n",
       "      <td>164082.000000</td>\n",
       "    </tr>\n",
       "    <tr>\n",
       "      <th>mean</th>\n",
       "      <td>0.492790</td>\n",
       "      <td>0.477547</td>\n",
       "    </tr>\n",
       "    <tr>\n",
       "      <th>std</th>\n",
       "      <td>0.032230</td>\n",
       "      <td>0.032896</td>\n",
       "    </tr>\n",
       "    <tr>\n",
       "      <th>min</th>\n",
       "      <td>0.369611</td>\n",
       "      <td>0.369611</td>\n",
       "    </tr>\n",
       "    <tr>\n",
       "      <th>25%</th>\n",
       "      <td>0.471152</td>\n",
       "      <td>0.455552</td>\n",
       "    </tr>\n",
       "    <tr>\n",
       "      <th>50%</th>\n",
       "      <td>0.492276</td>\n",
       "      <td>0.477494</td>\n",
       "    </tr>\n",
       "    <tr>\n",
       "      <th>75%</th>\n",
       "      <td>0.513120</td>\n",
       "      <td>0.499147</td>\n",
       "    </tr>\n",
       "    <tr>\n",
       "      <th>max</th>\n",
       "      <td>0.626320</td>\n",
       "      <td>0.626320</td>\n",
       "    </tr>\n",
       "  </tbody>\n",
       "</table>\n",
       "</div>"
      ],
      "text/plain": [
       "       TwoPointPctWin  TwoPointPctLose\n",
       "count   164082.000000    164082.000000\n",
       "mean         0.492790         0.477547\n",
       "std          0.032230         0.032896\n",
       "min          0.369611         0.369611\n",
       "25%          0.471152         0.455552\n",
       "50%          0.492276         0.477494\n",
       "75%          0.513120         0.499147\n",
       "max          0.626320         0.626320"
      ]
     },
     "execution_count": 11,
     "metadata": {},
     "output_type": "execute_result"
    }
   ],
   "source": [
    "df_winlose_reg_season[['TwoPointPctWin', 'TwoPointPctLose']].describe()"
   ]
  },
  {
   "cell_type": "markdown",
   "metadata": {},
   "source": [
    "#### Boxplots"
   ]
  },
  {
   "cell_type": "code",
   "execution_count": 12,
   "metadata": {},
   "outputs": [
    {
     "data": {
      "text/plain": [
       "Text(0.5,0,u'Combined Shooting %, Winning Team Shooting %, Losing Team Shooting %')"
      ]
     },
     "execution_count": 12,
     "metadata": {},
     "output_type": "execute_result"
    },
    {
     "data": {
      "image/png": "[encoded data removed]",
      "text/plain": [
       "<matplotlib.figure.Figure at 0x6eaab70>"
      ]
     },
     "metadata": {},
     "output_type": "display_data"
    }
   ],
   "source": [
    "data = [df_reg_season['TwoPointPct_Team'], df_winlose_reg_season['TwoPointPctWin'], df_winlose_reg_season['TwoPointPctLose']]\n",
    "plt.figure()\n",
    "plt.boxplot(data)\n",
    "plt.title('Boxplot for Two Point Shooting % in Regular Season')\n",
    "plt.xlabel('Combined Shooting %, Winning Team Shooting %, Losing Team Shooting %')"
   ]
  },
  {
   "cell_type": "markdown",
   "metadata": {},
   "source": [
    "#### Histogram"
   ]
  },
  {
   "cell_type": "code",
   "execution_count": 13,
   "metadata": {},
   "outputs": [
    {
     "data": {
      "text/plain": [
       "Text(0.5,1,u'Two Point % of Winning Team v. Losing Team')"
      ]
     },
     "execution_count": 13,
     "metadata": {},
     "output_type": "execute_result"
    },
    {
     "data": {
      "image/png": "[encoded data removed]",
      "text/plain": [
       "<matplotlib.figure.Figure at 0x6f625f8>"
      ]
     },
     "metadata": {},
     "output_type": "display_data"
    }
   ],
   "source": [
    "fig, axes = plt.subplots(nrows=1, ncols=1)\n",
    "\n",
    "labels = ['Two Point Pct for Winning Team', 'Two Point Pct for Losing Team']\n",
    "colors = ['red', 'blue']\n",
    "\n",
    "axes.hist([df_winlose_reg_season['TwoPointPctWin'], df_winlose_reg_season['TwoPointPctLose']], 100, histtype='step', fill=False, label=labels, color=colors)\n",
    "axes.legend(bbox_to_anchor=(1.05, 1), loc=2, borderaxespad=0.)\n",
    "axes.set_title('Two Point % of Winning Team v. Losing Team')"
   ]
  },
  {
   "cell_type": "markdown",
   "metadata": {},
   "source": [
    "#### Two Independent Samples T-Test"
   ]
  },
  {
   "cell_type": "code",
   "execution_count": 14,
   "metadata": {},
   "outputs": [
    {
     "name": "stdout",
     "output_type": "stream",
     "text": [
      "ttest_ind: t = 134.07  p = 0.0000\n"
     ]
    }
   ],
   "source": [
    "t, p = ttest_ind(df_winlose_reg_season['TwoPointPctWin'], df_winlose_reg_season['TwoPointPctLose'], equal_var=True)\n",
    "print(\"ttest_ind: t = {0:.2f}  p = {1:.4f}\".format(t, p))"
   ]
  },
  {
   "cell_type": "markdown",
   "metadata": {},
   "source": [
    "#### Correlation Between (TwoPointPct_Team - TwoPointPct_Opponent) and Outcome"
   ]
  },
  {
   "cell_type": "code",
   "execution_count": 15,
   "metadata": {},
   "outputs": [
    {
     "name": "stdout",
     "output_type": "stream",
     "text": [
      "The correlation is: 0.34\n"
     ]
    }
   ],
   "source": [
    "df_corr = pd.DataFrame({'Outcome':df_reg_season['Outcome']})\n",
    "df_corr['TwoPointDifference'] = df_reg_season['TwoPointPct_Team'] - df_reg_season['TwoPointPct_Opponent']\n",
    "\n",
    "print 'The correlation is: {0:.2f}'.format(df_corr.corr().iloc[0,1])"
   ]
  },
  {
   "cell_type": "markdown",
   "metadata": {},
   "source": [
    "### Tournament"
   ]
  },
  {
   "cell_type": "markdown",
   "metadata": {},
   "source": [
    "Descriptive Statistics for Two Point Shooting Percentages for the Tournament"
   ]
  },
  {
   "cell_type": "code",
   "execution_count": 16,
   "metadata": {},
   "outputs": [
    {
     "data": {
      "text/html": [
       "<div>\n",
       "<style>\n",
       "    .dataframe thead tr:only-child th {\n",
       "        text-align: right;\n",
       "    }\n",
       "\n",
       "    .dataframe thead th {\n",
       "        text-align: left;\n",
       "    }\n",
       "\n",
       "    .dataframe tbody tr th {\n",
       "        vertical-align: top;\n",
       "    }\n",
       "</style>\n",
       "<table border=\"1\" class=\"dataframe\">\n",
       "  <thead>\n",
       "    <tr style=\"text-align: right;\">\n",
       "      <th></th>\n",
       "      <th>TwoPointPct_Team</th>\n",
       "    </tr>\n",
       "  </thead>\n",
       "  <tbody>\n",
       "    <tr>\n",
       "      <th>count</th>\n",
       "      <td>1962.000000</td>\n",
       "    </tr>\n",
       "    <tr>\n",
       "      <th>mean</th>\n",
       "      <td>0.511538</td>\n",
       "    </tr>\n",
       "    <tr>\n",
       "      <th>std</th>\n",
       "      <td>0.028065</td>\n",
       "    </tr>\n",
       "    <tr>\n",
       "      <th>min</th>\n",
       "      <td>0.413815</td>\n",
       "    </tr>\n",
       "    <tr>\n",
       "      <th>25%</th>\n",
       "      <td>0.492420</td>\n",
       "    </tr>\n",
       "    <tr>\n",
       "      <th>50%</th>\n",
       "      <td>0.510620</td>\n",
       "    </tr>\n",
       "    <tr>\n",
       "      <th>75%</th>\n",
       "      <td>0.528979</td>\n",
       "    </tr>\n",
       "    <tr>\n",
       "      <th>max</th>\n",
       "      <td>0.602113</td>\n",
       "    </tr>\n",
       "  </tbody>\n",
       "</table>\n",
       "</div>"
      ],
      "text/plain": [
       "       TwoPointPct_Team\n",
       "count       1962.000000\n",
       "mean           0.511538\n",
       "std            0.028065\n",
       "min            0.413815\n",
       "25%            0.492420\n",
       "50%            0.510620\n",
       "75%            0.528979\n",
       "max            0.602113"
      ]
     },
     "execution_count": 16,
     "metadata": {},
     "output_type": "execute_result"
    }
   ],
   "source": [
    "df_tourney[['TwoPointPct_Team']].describe()"
   ]
  },
  {
   "cell_type": "markdown",
   "metadata": {},
   "source": [
    "Descriptive Statistics for TwoPointPctWin / TwoPointPctLose for the Tournament"
   ]
  },
  {
   "cell_type": "code",
   "execution_count": 17,
   "metadata": {},
   "outputs": [
    {
     "data": {
      "text/html": [
       "<div>\n",
       "<style>\n",
       "    .dataframe thead tr:only-child th {\n",
       "        text-align: right;\n",
       "    }\n",
       "\n",
       "    .dataframe thead th {\n",
       "        text-align: left;\n",
       "    }\n",
       "\n",
       "    .dataframe tbody tr th {\n",
       "        vertical-align: top;\n",
       "    }\n",
       "</style>\n",
       "<table border=\"1\" class=\"dataframe\">\n",
       "  <thead>\n",
       "    <tr style=\"text-align: right;\">\n",
       "      <th></th>\n",
       "      <th>TwoPointPctWin</th>\n",
       "      <th>TwoPointPctLose</th>\n",
       "    </tr>\n",
       "  </thead>\n",
       "  <tbody>\n",
       "    <tr>\n",
       "      <th>count</th>\n",
       "      <td>1962.000000</td>\n",
       "      <td>1962.000000</td>\n",
       "    </tr>\n",
       "    <tr>\n",
       "      <th>mean</th>\n",
       "      <td>0.514797</td>\n",
       "      <td>0.508279</td>\n",
       "    </tr>\n",
       "    <tr>\n",
       "      <th>std</th>\n",
       "      <td>0.028001</td>\n",
       "      <td>0.027748</td>\n",
       "    </tr>\n",
       "    <tr>\n",
       "      <th>min</th>\n",
       "      <td>0.442089</td>\n",
       "      <td>0.413815</td>\n",
       "    </tr>\n",
       "    <tr>\n",
       "      <th>25%</th>\n",
       "      <td>0.494088</td>\n",
       "      <td>0.490568</td>\n",
       "    </tr>\n",
       "    <tr>\n",
       "      <th>50%</th>\n",
       "      <td>0.512853</td>\n",
       "      <td>0.508317</td>\n",
       "    </tr>\n",
       "    <tr>\n",
       "      <th>75%</th>\n",
       "      <td>0.531851</td>\n",
       "      <td>0.524296</td>\n",
       "    </tr>\n",
       "    <tr>\n",
       "      <th>max</th>\n",
       "      <td>0.602113</td>\n",
       "      <td>0.602113</td>\n",
       "    </tr>\n",
       "  </tbody>\n",
       "</table>\n",
       "</div>"
      ],
      "text/plain": [
       "       TwoPointPctWin  TwoPointPctLose\n",
       "count     1962.000000      1962.000000\n",
       "mean         0.514797         0.508279\n",
       "std          0.028001         0.027748\n",
       "min          0.442089         0.413815\n",
       "25%          0.494088         0.490568\n",
       "50%          0.512853         0.508317\n",
       "75%          0.531851         0.524296\n",
       "max          0.602113         0.602113"
      ]
     },
     "execution_count": 17,
     "metadata": {},
     "output_type": "execute_result"
    }
   ],
   "source": [
    "df_winlose_tourney[['TwoPointPctWin', 'TwoPointPctLose']].describe()"
   ]
  },
  {
   "cell_type": "markdown",
   "metadata": {},
   "source": [
    "#### Boxplots"
   ]
  },
  {
   "cell_type": "code",
   "execution_count": 18,
   "metadata": {},
   "outputs": [
    {
     "data": {
      "text/plain": [
       "Text(0.5,0,u'Combined Shooting %, Winning Team Shooting %, Losing Team Shooting %')"
      ]
     },
     "execution_count": 18,
     "metadata": {},
     "output_type": "execute_result"
    },
    {
     "data": {
      "image/png": "[encoded data removed]",
      "text/plain": [
       "<matplotlib.figure.Figure at 0x10605e48>"
      ]
     },
     "metadata": {},
     "output_type": "display_data"
    }
   ],
   "source": [
    "data = [df_tourney['TwoPointPct_Team'], df_winlose_tourney['TwoPointPctWin'], df_winlose_tourney['TwoPointPctLose']]\n",
    "plt.figure()\n",
    "plt.boxplot(data)\n",
    "plt.title('Boxplot for Two Point Shooting % in Tournament')\n",
    "plt.xlabel('Combined Shooting %, Winning Team Shooting %, Losing Team Shooting %')"
   ]
  },
  {
   "cell_type": "markdown",
   "metadata": {},
   "source": [
    "#### Histogram"
   ]
  },
  {
   "cell_type": "code",
   "execution_count": 19,
   "metadata": {},
   "outputs": [
    {
     "data": {
      "text/plain": [
       "Text(0.5,1,u'Two Point % of Winning Team v. Losing Team')"
      ]
     },
     "execution_count": 19,
     "metadata": {},
     "output_type": "execute_result"
    },
    {
     "data": {
      "image/png": "[encoded data removed]",
      "text/plain": [
       "<matplotlib.figure.Figure at 0x179ebfd0>"
      ]
     },
     "metadata": {},
     "output_type": "display_data"
    }
   ],
   "source": [
    "fig, axes = plt.subplots(nrows=1, ncols=1)\n",
    "\n",
    "labels = ['Two Point Pct for Winning Team', 'Two Point Pct for Losing Team']\n",
    "colors = ['red', 'blue']\n",
    "\n",
    "axes.hist([df_winlose_tourney['TwoPointPctWin'], df_winlose_tourney['TwoPointPctLose']], 100, histtype='step', fill=False, label=labels, color=colors)\n",
    "axes.legend(bbox_to_anchor=(1.05, 1), loc=2, borderaxespad=0.)\n",
    "axes.set_title('Two Point % of Winning Team v. Losing Team')"
   ]
  },
  {
   "cell_type": "markdown",
   "metadata": {},
   "source": [
    "#### Two Independent Samples T-Test"
   ]
  },
  {
   "cell_type": "code",
   "execution_count": 20,
   "metadata": {},
   "outputs": [
    {
     "name": "stdout",
     "output_type": "stream",
     "text": [
      "ttest_ind: t = 7.32  p = 0.0000\n"
     ]
    }
   ],
   "source": [
    "t, p = ttest_ind(df_winlose_tourney['TwoPointPctWin'], df_winlose_tourney['TwoPointPctLose'], equal_var=True)\n",
    "print(\"ttest_ind: t = {0:.2f}  p = {1:.4f}\".format(t, p))"
   ]
  },
  {
   "cell_type": "markdown",
   "metadata": {},
   "source": [
    "#### Correlation Between (TwoPointPct_Team - TwoPointPct_Opponent) and Outcome"
   ]
  },
  {
   "cell_type": "code",
   "execution_count": 21,
   "metadata": {},
   "outputs": [
    {
     "name": "stdout",
     "output_type": "stream",
     "text": [
      "The correlation is: 0.17\n"
     ]
    }
   ],
   "source": [
    "df_corr = pd.DataFrame({'Outcome':df_tourney['Outcome']})\n",
    "df_corr['TwoPointDifference'] = df_tourney['TwoPointPct_Team'] - df_tourney['TwoPointPct_Opponent']\n",
    "\n",
    "print 'The correlation is: {0:.2f}'.format(df_corr.corr().iloc[0,1])"
   ]
  },
  {
   "cell_type": "markdown",
   "metadata": {},
   "source": [
    "### Analysis"
   ]
  },
  {
   "cell_type": "markdown",
   "metadata": {},
   "source": [
    "The mean two point shooting percent for the regular season is 48.5% whereas the mean two point shooting percent in the tournament is 51.1%, so the two point shooting percentage is better for tournament teams, which makes sense.  \n",
    "\n",
    "For the regular season, the difference between the mean two point shooting percentage of winning teams (49.2%) v. losing teams (47.7%) is about 1.5%, and is statistically significant.  The correlation between the two point shooting of the teams and the outcome of the game (win/lose) is 0.34, which indicates a weak linear relationship.\n",
    "\n",
    "For the tournament, the difference between the mean two point shooting percentage of winning teams (51.4%) v. losing teams (50.8%) is about 0.7%, which is small, but it is statistically significant.  The correlation between the two point shooting of the teams and the outcome of the game (win/lose) is 0.17, which indicates a very weak linear relationship.\n",
    "\n",
    "Therefore, the two point shooting percentage may provide some benefit in predicting the outcome of early tournament games, which are more similar to regular season games."
   ]
  },
  {
   "cell_type": "markdown",
   "metadata": {
    "collapsed": true
   },
   "source": [
    "## Average Three Point Shooting Percentage"
   ]
  },
  {
   "cell_type": "markdown",
   "metadata": {},
   "source": [
    "### Regular Season"
   ]
  },
  {
   "cell_type": "markdown",
   "metadata": {},
   "source": [
    "Descriptive Statistics for Three Point Shooting Percentages for the Regular Season"
   ]
  },
  {
   "cell_type": "code",
   "execution_count": 22,
   "metadata": {},
   "outputs": [
    {
     "data": {
      "text/html": [
       "<div>\n",
       "<style>\n",
       "    .dataframe thead tr:only-child th {\n",
       "        text-align: right;\n",
       "    }\n",
       "\n",
       "    .dataframe thead th {\n",
       "        text-align: left;\n",
       "    }\n",
       "\n",
       "    .dataframe tbody tr th {\n",
       "        vertical-align: top;\n",
       "    }\n",
       "</style>\n",
       "<table border=\"1\" class=\"dataframe\">\n",
       "  <thead>\n",
       "    <tr style=\"text-align: right;\">\n",
       "      <th></th>\n",
       "      <th>ThreePointPct_Team</th>\n",
       "    </tr>\n",
       "  </thead>\n",
       "  <tbody>\n",
       "    <tr>\n",
       "      <th>count</th>\n",
       "      <td>164082.000000</td>\n",
       "    </tr>\n",
       "    <tr>\n",
       "      <th>mean</th>\n",
       "      <td>0.344882</td>\n",
       "    </tr>\n",
       "    <tr>\n",
       "      <th>std</th>\n",
       "      <td>0.029934</td>\n",
       "    </tr>\n",
       "    <tr>\n",
       "      <th>min</th>\n",
       "      <td>0.246232</td>\n",
       "    </tr>\n",
       "    <tr>\n",
       "      <th>25%</th>\n",
       "      <td>0.325207</td>\n",
       "    </tr>\n",
       "    <tr>\n",
       "      <th>50%</th>\n",
       "      <td>0.344533</td>\n",
       "    </tr>\n",
       "    <tr>\n",
       "      <th>75%</th>\n",
       "      <td>0.364937</td>\n",
       "    </tr>\n",
       "    <tr>\n",
       "      <th>max</th>\n",
       "      <td>0.456482</td>\n",
       "    </tr>\n",
       "  </tbody>\n",
       "</table>\n",
       "</div>"
      ],
      "text/plain": [
       "       ThreePointPct_Team\n",
       "count       164082.000000\n",
       "mean             0.344882\n",
       "std              0.029934\n",
       "min              0.246232\n",
       "25%              0.325207\n",
       "50%              0.344533\n",
       "75%              0.364937\n",
       "max              0.456482"
      ]
     },
     "execution_count": 22,
     "metadata": {},
     "output_type": "execute_result"
    }
   ],
   "source": [
    "df_reg_season[['ThreePointPct_Team']].describe()"
   ]
  },
  {
   "cell_type": "markdown",
   "metadata": {},
   "source": [
    "Descriptive Statistics for ThreePointPctWin / ThreePointPctLose for the Regular Season"
   ]
  },
  {
   "cell_type": "code",
   "execution_count": 23,
   "metadata": {},
   "outputs": [
    {
     "data": {
      "text/html": [
       "<div>\n",
       "<style>\n",
       "    .dataframe thead tr:only-child th {\n",
       "        text-align: right;\n",
       "    }\n",
       "\n",
       "    .dataframe thead th {\n",
       "        text-align: left;\n",
       "    }\n",
       "\n",
       "    .dataframe tbody tr th {\n",
       "        vertical-align: top;\n",
       "    }\n",
       "</style>\n",
       "<table border=\"1\" class=\"dataframe\">\n",
       "  <thead>\n",
       "    <tr style=\"text-align: right;\">\n",
       "      <th></th>\n",
       "      <th>ThreePointPctWin</th>\n",
       "      <th>ThreePointPctLose</th>\n",
       "    </tr>\n",
       "  </thead>\n",
       "  <tbody>\n",
       "    <tr>\n",
       "      <th>count</th>\n",
       "      <td>164082.000000</td>\n",
       "      <td>164082.000000</td>\n",
       "    </tr>\n",
       "    <tr>\n",
       "      <th>mean</th>\n",
       "      <td>0.349944</td>\n",
       "      <td>0.339820</td>\n",
       "    </tr>\n",
       "    <tr>\n",
       "      <th>std</th>\n",
       "      <td>0.029193</td>\n",
       "      <td>0.029809</td>\n",
       "    </tr>\n",
       "    <tr>\n",
       "      <th>min</th>\n",
       "      <td>0.246232</td>\n",
       "      <td>0.246232</td>\n",
       "    </tr>\n",
       "    <tr>\n",
       "      <th>25%</th>\n",
       "      <td>0.330474</td>\n",
       "      <td>0.320320</td>\n",
       "    </tr>\n",
       "    <tr>\n",
       "      <th>50%</th>\n",
       "      <td>0.349770</td>\n",
       "      <td>0.339223</td>\n",
       "    </tr>\n",
       "    <tr>\n",
       "      <th>75%</th>\n",
       "      <td>0.370070</td>\n",
       "      <td>0.359976</td>\n",
       "    </tr>\n",
       "    <tr>\n",
       "      <th>max</th>\n",
       "      <td>0.456482</td>\n",
       "      <td>0.456482</td>\n",
       "    </tr>\n",
       "  </tbody>\n",
       "</table>\n",
       "</div>"
      ],
      "text/plain": [
       "       ThreePointPctWin  ThreePointPctLose\n",
       "count     164082.000000      164082.000000\n",
       "mean           0.349944           0.339820\n",
       "std            0.029193           0.029809\n",
       "min            0.246232           0.246232\n",
       "25%            0.330474           0.320320\n",
       "50%            0.349770           0.339223\n",
       "75%            0.370070           0.359976\n",
       "max            0.456482           0.456482"
      ]
     },
     "execution_count": 23,
     "metadata": {},
     "output_type": "execute_result"
    }
   ],
   "source": [
    "df_winlose_reg_season[['ThreePointPctWin', 'ThreePointPctLose']].describe()"
   ]
  },
  {
   "cell_type": "markdown",
   "metadata": {},
   "source": [
    "#### Boxplots"
   ]
  },
  {
   "cell_type": "code",
   "execution_count": 24,
   "metadata": {},
   "outputs": [
    {
     "data": {
      "text/plain": [
       "Text(0.5,0,u'Combined Shooting %, Winning Team Shooting %, Losing Team Shooting %')"
      ]
     },
     "execution_count": 24,
     "metadata": {},
     "output_type": "execute_result"
    },
    {
     "data": {
      "image/png": "[encoded data removed]",
      "text/plain": [
       "<matplotlib.figure.Figure at 0x17e436a0>"
      ]
     },
     "metadata": {},
     "output_type": "display_data"
    }
   ],
   "source": [
    "data = [df_reg_season['ThreePointPct_Team'], df_winlose_reg_season['ThreePointPctWin'], df_winlose_reg_season['ThreePointPctLose']]\n",
    "plt.figure()\n",
    "plt.boxplot(data)\n",
    "plt.title('Boxplot for Three Point Shooting % in Regular Season')\n",
    "plt.xlabel('Combined Shooting %, Winning Team Shooting %, Losing Team Shooting %')"
   ]
  },
  {
   "cell_type": "markdown",
   "metadata": {},
   "source": [
    "#### Histogram"
   ]
  },
  {
   "cell_type": "code",
   "execution_count": 25,
   "metadata": {},
   "outputs": [
    {
     "data": {
      "text/plain": [
       "Text(0.5,1,u'Three Point % of Winning Team v. Losing Team')"
      ]
     },
     "execution_count": 25,
     "metadata": {},
     "output_type": "execute_result"
    },
    {
     "data": {
      "image/png": "[encoded data removed]",
      "text/plain": [
       "<matplotlib.figure.Figure at 0x181e3160>"
      ]
     },
     "metadata": {},
     "output_type": "display_data"
    }
   ],
   "source": [
    "fig, axes = plt.subplots(nrows=1, ncols=1)\n",
    "\n",
    "labels = ['Three Point Pct for Winning Team', 'Three Point Pct for Losing Team']\n",
    "colors = ['red', 'blue']\n",
    "\n",
    "axes.hist([df_winlose_reg_season['ThreePointPctWin'], df_winlose_reg_season['ThreePointPctLose']], 100, histtype='step', fill=False, label=labels, color=colors)\n",
    "axes.legend(bbox_to_anchor=(1.05, 1), loc=2, borderaxespad=0.)\n",
    "axes.set_title('Three Point % of Winning Team v. Losing Team')"
   ]
  },
  {
   "cell_type": "markdown",
   "metadata": {},
   "source": [
    "#### Two Independent Samples T-Test"
   ]
  },
  {
   "cell_type": "code",
   "execution_count": 26,
   "metadata": {},
   "outputs": [
    {
     "name": "stdout",
     "output_type": "stream",
     "text": [
      "ttest_ind: t = 98.29  p = 0.0000\n"
     ]
    }
   ],
   "source": [
    "t, p = ttest_ind(df_winlose_reg_season['ThreePointPctWin'], df_winlose_reg_season['ThreePointPctLose'], equal_var=True)\n",
    "print(\"ttest_ind: t = {0:.2f}  p = {1:.4f}\".format(t, p))"
   ]
  },
  {
   "cell_type": "markdown",
   "metadata": {},
   "source": [
    "#### Correlation Between (ThreePointPct_Team - ThreePointPct_Opponent) and Outcome"
   ]
  },
  {
   "cell_type": "code",
   "execution_count": 27,
   "metadata": {},
   "outputs": [
    {
     "name": "stdout",
     "output_type": "stream",
     "text": [
      "The correlation is: 0.25\n"
     ]
    }
   ],
   "source": [
    "df_corr = pd.DataFrame({'Outcome':df_reg_season['Outcome']})\n",
    "df_corr['ThreePointDifference'] = df_reg_season['ThreePointPct_Team'] - df_reg_season['ThreePointPct_Opponent']\n",
    "\n",
    "print 'The correlation is: {0:.2f}'.format(df_corr.corr().iloc[0,1])"
   ]
  },
  {
   "cell_type": "markdown",
   "metadata": {},
   "source": [
    "### Tournament"
   ]
  },
  {
   "cell_type": "markdown",
   "metadata": {},
   "source": [
    "Descriptive Statistics for Three Point Shooting Percentages for the Tournament"
   ]
  },
  {
   "cell_type": "code",
   "execution_count": 28,
   "metadata": {},
   "outputs": [
    {
     "data": {
      "text/html": [
       "<div>\n",
       "<style>\n",
       "    .dataframe thead tr:only-child th {\n",
       "        text-align: right;\n",
       "    }\n",
       "\n",
       "    .dataframe thead th {\n",
       "        text-align: left;\n",
       "    }\n",
       "\n",
       "    .dataframe tbody tr th {\n",
       "        vertical-align: top;\n",
       "    }\n",
       "</style>\n",
       "<table border=\"1\" class=\"dataframe\">\n",
       "  <thead>\n",
       "    <tr style=\"text-align: right;\">\n",
       "      <th></th>\n",
       "      <th>ThreePointPct_Team</th>\n",
       "    </tr>\n",
       "  </thead>\n",
       "  <tbody>\n",
       "    <tr>\n",
       "      <th>count</th>\n",
       "      <td>1962.000000</td>\n",
       "    </tr>\n",
       "    <tr>\n",
       "      <th>mean</th>\n",
       "      <td>0.361519</td>\n",
       "    </tr>\n",
       "    <tr>\n",
       "      <th>std</th>\n",
       "      <td>0.026741</td>\n",
       "    </tr>\n",
       "    <tr>\n",
       "      <th>min</th>\n",
       "      <td>0.258129</td>\n",
       "    </tr>\n",
       "    <tr>\n",
       "      <th>25%</th>\n",
       "      <td>0.343297</td>\n",
       "    </tr>\n",
       "    <tr>\n",
       "      <th>50%</th>\n",
       "      <td>0.360890</td>\n",
       "    </tr>\n",
       "    <tr>\n",
       "      <th>75%</th>\n",
       "      <td>0.380283</td>\n",
       "    </tr>\n",
       "    <tr>\n",
       "      <th>max</th>\n",
       "      <td>0.447983</td>\n",
       "    </tr>\n",
       "  </tbody>\n",
       "</table>\n",
       "</div>"
      ],
      "text/plain": [
       "       ThreePointPct_Team\n",
       "count         1962.000000\n",
       "mean             0.361519\n",
       "std              0.026741\n",
       "min              0.258129\n",
       "25%              0.343297\n",
       "50%              0.360890\n",
       "75%              0.380283\n",
       "max              0.447983"
      ]
     },
     "execution_count": 28,
     "metadata": {},
     "output_type": "execute_result"
    }
   ],
   "source": [
    "df_tourney[['ThreePointPct_Team']].describe()"
   ]
  },
  {
   "cell_type": "markdown",
   "metadata": {},
   "source": [
    "Descriptive Statistics for ThreePointPctWin / ThreePointPctLose for the Tournament"
   ]
  },
  {
   "cell_type": "code",
   "execution_count": 29,
   "metadata": {},
   "outputs": [
    {
     "data": {
      "text/html": [
       "<div>\n",
       "<style>\n",
       "    .dataframe thead tr:only-child th {\n",
       "        text-align: right;\n",
       "    }\n",
       "\n",
       "    .dataframe thead th {\n",
       "        text-align: left;\n",
       "    }\n",
       "\n",
       "    .dataframe tbody tr th {\n",
       "        vertical-align: top;\n",
       "    }\n",
       "</style>\n",
       "<table border=\"1\" class=\"dataframe\">\n",
       "  <thead>\n",
       "    <tr style=\"text-align: right;\">\n",
       "      <th></th>\n",
       "      <th>ThreePointPctWin</th>\n",
       "      <th>ThreePointPctLose</th>\n",
       "    </tr>\n",
       "  </thead>\n",
       "  <tbody>\n",
       "    <tr>\n",
       "      <th>count</th>\n",
       "      <td>1962.000000</td>\n",
       "      <td>1962.000000</td>\n",
       "    </tr>\n",
       "    <tr>\n",
       "      <th>mean</th>\n",
       "      <td>0.362761</td>\n",
       "      <td>0.360276</td>\n",
       "    </tr>\n",
       "    <tr>\n",
       "      <th>std</th>\n",
       "      <td>0.026261</td>\n",
       "      <td>0.027156</td>\n",
       "    </tr>\n",
       "    <tr>\n",
       "      <th>min</th>\n",
       "      <td>0.258129</td>\n",
       "      <td>0.258129</td>\n",
       "    </tr>\n",
       "    <tr>\n",
       "      <th>25%</th>\n",
       "      <td>0.344061</td>\n",
       "      <td>0.341769</td>\n",
       "    </tr>\n",
       "    <tr>\n",
       "      <th>50%</th>\n",
       "      <td>0.361488</td>\n",
       "      <td>0.360111</td>\n",
       "    </tr>\n",
       "    <tr>\n",
       "      <th>75%</th>\n",
       "      <td>0.381913</td>\n",
       "      <td>0.379769</td>\n",
       "    </tr>\n",
       "    <tr>\n",
       "      <th>max</th>\n",
       "      <td>0.434265</td>\n",
       "      <td>0.447983</td>\n",
       "    </tr>\n",
       "  </tbody>\n",
       "</table>\n",
       "</div>"
      ],
      "text/plain": [
       "       ThreePointPctWin  ThreePointPctLose\n",
       "count       1962.000000        1962.000000\n",
       "mean           0.362761           0.360276\n",
       "std            0.026261           0.027156\n",
       "min            0.258129           0.258129\n",
       "25%            0.344061           0.341769\n",
       "50%            0.361488           0.360111\n",
       "75%            0.381913           0.379769\n",
       "max            0.434265           0.447983"
      ]
     },
     "execution_count": 29,
     "metadata": {},
     "output_type": "execute_result"
    }
   ],
   "source": [
    "df_winlose_tourney[['ThreePointPctWin', 'ThreePointPctLose']].describe()"
   ]
  },
  {
   "cell_type": "markdown",
   "metadata": {},
   "source": [
    "#### Boxplots"
   ]
  },
  {
   "cell_type": "code",
   "execution_count": 30,
   "metadata": {},
   "outputs": [
    {
     "data": {
      "text/plain": [
       "Text(0.5,0,u'Combined Shooting %, Winning Team Shooting %, Losing Team Shooting %')"
      ]
     },
     "execution_count": 30,
     "metadata": {},
     "output_type": "execute_result"
    },
    {
     "data": {
      "image/png": "[encoded data removed]",
      "text/plain": [
       "<matplotlib.figure.Figure at 0x184920f0>"
      ]
     },
     "metadata": {},
     "output_type": "display_data"
    }
   ],
   "source": [
    "data = [df_tourney['ThreePointPct_Team'], df_winlose_tourney['ThreePointPctWin'], df_winlose_tourney['ThreePointPctLose']]\n",
    "plt.figure()\n",
    "plt.boxplot(data)\n",
    "plt.title('Boxplot for Three Point Shooting % in Tournament')\n",
    "plt.xlabel('Combined Shooting %, Winning Team Shooting %, Losing Team Shooting %')"
   ]
  },
  {
   "cell_type": "markdown",
   "metadata": {},
   "source": [
    "#### Histogram"
   ]
  },
  {
   "cell_type": "code",
   "execution_count": 31,
   "metadata": {},
   "outputs": [
    {
     "data": {
      "text/plain": [
       "Text(0.5,1,u'Three Point % of Winning Team v. Losing Team')"
      ]
     },
     "execution_count": 31,
     "metadata": {},
     "output_type": "execute_result"
    },
    {
     "data": {
      "image/png": "[encoded data removed]",
      "text/plain": [
       "<matplotlib.figure.Figure at 0x188a1d30>"
      ]
     },
     "metadata": {},
     "output_type": "display_data"
    }
   ],
   "source": [
    "fig, axes = plt.subplots(nrows=1, ncols=1)\n",
    "\n",
    "labels = ['Three Point Pct for Winning Team', 'Three Point Pct for Losing Team']\n",
    "colors = ['red', 'blue']\n",
    "\n",
    "axes.hist([df_winlose_tourney['ThreePointPctWin'], df_winlose_tourney['ThreePointPctLose']], 100, histtype='step', fill=False, label=labels, color=colors)\n",
    "axes.legend(bbox_to_anchor=(1.05, 1), loc=2, borderaxespad=0.)\n",
    "axes.set_title('Three Point % of Winning Team v. Losing Team')"
   ]
  },
  {
   "cell_type": "markdown",
   "metadata": {},
   "source": [
    "#### Two Independent Samples T-Test"
   ]
  },
  {
   "cell_type": "code",
   "execution_count": 32,
   "metadata": {},
   "outputs": [
    {
     "name": "stdout",
     "output_type": "stream",
     "text": [
      "ttest_ind: t = 2.91  p = 0.0036\n"
     ]
    }
   ],
   "source": [
    "t, p = ttest_ind(df_winlose_tourney['ThreePointPctWin'], df_winlose_tourney['ThreePointPctLose'], equal_var=True)\n",
    "print(\"ttest_ind: t = {0:.2f}  p = {1:.4f}\".format(t, p))"
   ]
  },
  {
   "cell_type": "markdown",
   "metadata": {},
   "source": [
    "#### Correlation Between (ThreePointPct_Team - ThreePointPct_Opponent)  and Outcome"
   ]
  },
  {
   "cell_type": "code",
   "execution_count": 33,
   "metadata": {},
   "outputs": [
    {
     "name": "stdout",
     "output_type": "stream",
     "text": [
      "The correlation is: 0.06\n"
     ]
    }
   ],
   "source": [
    "df_corr = pd.DataFrame({'Outcome':df_tourney['Outcome']})\n",
    "df_corr['ThreePointDifference'] = df_tourney['ThreePointPct_Team'] - df_tourney['ThreePointPct_Opponent']\n",
    "\n",
    "print 'The correlation is: {0:.2f}'.format(df_corr.corr().iloc[0,1])"
   ]
  },
  {
   "cell_type": "markdown",
   "metadata": {},
   "source": [
    "### Analysis"
   ]
  },
  {
   "cell_type": "markdown",
   "metadata": {},
   "source": [
    "The mean three point shooting in the regular season is 34.4% and it is 36.2% during the tournament.\n",
    "\n",
    "During the regular season, there is a 1% difference between the three point shooting of winning and losing teams, and the difference is statistically significant.  The correlation between the difference in team's three point shooting and the outcome of the game has a correlation of 0.25, which is weakly correlated.\n",
    "\n",
    "During the tournament, there is a 0.2% difference between the three point shooting of winning and losing teams, and the difference is statistically significant.  The correlation between the difference in team's three point shooting and the outcome of the game has a correlation of 0.06, which is non-correlated.\n",
    "\n",
    "Because of the lack of correlation between three point shooting and the outcome of games, this feature should not be considered in the model."
   ]
  },
  {
   "cell_type": "markdown",
   "metadata": {},
   "source": [
    "## Average Free Throw Shooting Percentage"
   ]
  },
  {
   "cell_type": "markdown",
   "metadata": {},
   "source": [
    "### Regular Season"
   ]
  },
  {
   "cell_type": "markdown",
   "metadata": {},
   "source": [
    "Descriptive Statistics for Free Throw Percentages for the Regular Season"
   ]
  },
  {
   "cell_type": "code",
   "execution_count": 34,
   "metadata": {},
   "outputs": [
    {
     "data": {
      "text/html": [
       "<div>\n",
       "<style>\n",
       "    .dataframe thead tr:only-child th {\n",
       "        text-align: right;\n",
       "    }\n",
       "\n",
       "    .dataframe thead th {\n",
       "        text-align: left;\n",
       "    }\n",
       "\n",
       "    .dataframe tbody tr th {\n",
       "        vertical-align: top;\n",
       "    }\n",
       "</style>\n",
       "<table border=\"1\" class=\"dataframe\">\n",
       "  <thead>\n",
       "    <tr style=\"text-align: right;\">\n",
       "      <th></th>\n",
       "      <th>FreeThrowPct_Team</th>\n",
       "    </tr>\n",
       "  </thead>\n",
       "  <tbody>\n",
       "    <tr>\n",
       "      <th>count</th>\n",
       "      <td>164082.000000</td>\n",
       "    </tr>\n",
       "    <tr>\n",
       "      <th>mean</th>\n",
       "      <td>0.690575</td>\n",
       "    </tr>\n",
       "    <tr>\n",
       "      <th>std</th>\n",
       "      <td>0.039881</td>\n",
       "    </tr>\n",
       "    <tr>\n",
       "      <th>min</th>\n",
       "      <td>0.528882</td>\n",
       "    </tr>\n",
       "    <tr>\n",
       "      <th>25%</th>\n",
       "      <td>0.664267</td>\n",
       "    </tr>\n",
       "    <tr>\n",
       "      <th>50%</th>\n",
       "      <td>0.691460</td>\n",
       "    </tr>\n",
       "    <tr>\n",
       "      <th>75%</th>\n",
       "      <td>0.718213</td>\n",
       "    </tr>\n",
       "    <tr>\n",
       "      <th>max</th>\n",
       "      <td>0.810181</td>\n",
       "    </tr>\n",
       "  </tbody>\n",
       "</table>\n",
       "</div>"
      ],
      "text/plain": [
       "       FreeThrowPct_Team\n",
       "count      164082.000000\n",
       "mean            0.690575\n",
       "std             0.039881\n",
       "min             0.528882\n",
       "25%             0.664267\n",
       "50%             0.691460\n",
       "75%             0.718213\n",
       "max             0.810181"
      ]
     },
     "execution_count": 34,
     "metadata": {},
     "output_type": "execute_result"
    }
   ],
   "source": [
    "df_reg_season[['FreeThrowPct_Team']].describe()"
   ]
  },
  {
   "cell_type": "markdown",
   "metadata": {},
   "source": [
    "Descriptive Statistics for FreeThrowPctWin / FreeThrowPctLose for the Regular Season"
   ]
  },
  {
   "cell_type": "code",
   "execution_count": 35,
   "metadata": {},
   "outputs": [
    {
     "data": {
      "text/html": [
       "<div>\n",
       "<style>\n",
       "    .dataframe thead tr:only-child th {\n",
       "        text-align: right;\n",
       "    }\n",
       "\n",
       "    .dataframe thead th {\n",
       "        text-align: left;\n",
       "    }\n",
       "\n",
       "    .dataframe tbody tr th {\n",
       "        vertical-align: top;\n",
       "    }\n",
       "</style>\n",
       "<table border=\"1\" class=\"dataframe\">\n",
       "  <thead>\n",
       "    <tr style=\"text-align: right;\">\n",
       "      <th></th>\n",
       "      <th>FreeThrowPctWin</th>\n",
       "      <th>FreeThrowPctLose</th>\n",
       "    </tr>\n",
       "  </thead>\n",
       "  <tbody>\n",
       "    <tr>\n",
       "      <th>count</th>\n",
       "      <td>164082.000000</td>\n",
       "      <td>164082.000000</td>\n",
       "    </tr>\n",
       "    <tr>\n",
       "      <th>mean</th>\n",
       "      <td>0.694849</td>\n",
       "      <td>0.686302</td>\n",
       "    </tr>\n",
       "    <tr>\n",
       "      <th>std</th>\n",
       "      <td>0.039087</td>\n",
       "      <td>0.040207</td>\n",
       "    </tr>\n",
       "    <tr>\n",
       "      <th>min</th>\n",
       "      <td>0.528882</td>\n",
       "      <td>0.528882</td>\n",
       "    </tr>\n",
       "    <tr>\n",
       "      <th>25%</th>\n",
       "      <td>0.668866</td>\n",
       "      <td>0.659998</td>\n",
       "    </tr>\n",
       "    <tr>\n",
       "      <th>50%</th>\n",
       "      <td>0.695622</td>\n",
       "      <td>0.687694</td>\n",
       "    </tr>\n",
       "    <tr>\n",
       "      <th>75%</th>\n",
       "      <td>0.721427</td>\n",
       "      <td>0.714157</td>\n",
       "    </tr>\n",
       "    <tr>\n",
       "      <th>max</th>\n",
       "      <td>0.810181</td>\n",
       "      <td>0.810181</td>\n",
       "    </tr>\n",
       "  </tbody>\n",
       "</table>\n",
       "</div>"
      ],
      "text/plain": [
       "       FreeThrowPctWin  FreeThrowPctLose\n",
       "count    164082.000000     164082.000000\n",
       "mean          0.694849          0.686302\n",
       "std           0.039087          0.040207\n",
       "min           0.528882          0.528882\n",
       "25%           0.668866          0.659998\n",
       "50%           0.695622          0.687694\n",
       "75%           0.721427          0.714157\n",
       "max           0.810181          0.810181"
      ]
     },
     "execution_count": 35,
     "metadata": {},
     "output_type": "execute_result"
    }
   ],
   "source": [
    "df_winlose_reg_season[['FreeThrowPctWin', 'FreeThrowPctLose']].describe()"
   ]
  },
  {
   "cell_type": "markdown",
   "metadata": {},
   "source": [
    "#### Boxplots"
   ]
  },
  {
   "cell_type": "code",
   "execution_count": 36,
   "metadata": {},
   "outputs": [
    {
     "data": {
      "text/plain": [
       "Text(0.5,0,u'Combined Shooting %, Winning Team Shooting %, Losing Team Shooting %')"
      ]
     },
     "execution_count": 36,
     "metadata": {},
     "output_type": "execute_result"
    },
    {
     "data": {
      "image/png": "[encoded data removed]",
      "text/plain": [
       "<matplotlib.figure.Figure at 0x188c88d0>"
      ]
     },
     "metadata": {},
     "output_type": "display_data"
    }
   ],
   "source": [
    "data = [df_reg_season['FreeThrowPct_Team'], df_winlose_reg_season['FreeThrowPctWin'], df_winlose_reg_season['FreeThrowPctLose']]\n",
    "plt.figure()\n",
    "plt.boxplot(data)\n",
    "plt.title('Boxplot for Free Throw Shooting % in Regular Season')\n",
    "plt.xlabel('Combined Shooting %, Winning Team Shooting %, Losing Team Shooting %')"
   ]
  },
  {
   "cell_type": "markdown",
   "metadata": {},
   "source": [
    "#### Histogram"
   ]
  },
  {
   "cell_type": "code",
   "execution_count": 37,
   "metadata": {},
   "outputs": [
    {
     "data": {
      "text/plain": [
       "Text(0.5,1,u'Free Throw % of Winning Team v. Losing Team')"
      ]
     },
     "execution_count": 37,
     "metadata": {},
     "output_type": "execute_result"
    },
    {
     "data": {
      "image/png": "[encoded data removed]",
      "text/plain": [
       "<matplotlib.figure.Figure at 0x188d41d0>"
      ]
     },
     "metadata": {},
     "output_type": "display_data"
    }
   ],
   "source": [
    "fig, axes = plt.subplots(nrows=1, ncols=1)\n",
    "\n",
    "labels = ['Free Throw Pct for Winning Team', 'Free Throw Pct for Losing Team']\n",
    "colors = ['red', 'blue']\n",
    "\n",
    "axes.hist([df_winlose_reg_season['FreeThrowPctWin'], df_winlose_reg_season['FreeThrowPctLose']], 100, histtype='step', fill=False, label=labels, color=colors)\n",
    "axes.legend(bbox_to_anchor=(1.05, 1), loc=2, borderaxespad=0.)\n",
    "axes.set_title('Free Throw % of Winning Team v. Losing Team')"
   ]
  },
  {
   "cell_type": "markdown",
   "metadata": {},
   "source": [
    "#### Two Independent Samples T-Test"
   ]
  },
  {
   "cell_type": "code",
   "execution_count": 38,
   "metadata": {},
   "outputs": [
    {
     "name": "stdout",
     "output_type": "stream",
     "text": [
      "ttest_ind: t = 61.73  p = 0.0000\n"
     ]
    }
   ],
   "source": [
    "t, p = ttest_ind(df_winlose_reg_season['FreeThrowPctWin'], df_winlose_reg_season['FreeThrowPctLose'], equal_var=True)\n",
    "print(\"ttest_ind: t = {0:.2f}  p = {1:.4f}\".format(t, p))"
   ]
  },
  {
   "cell_type": "markdown",
   "metadata": {},
   "source": [
    "#### Correlation Between (FreeThrowPct_Team - FreeThrowPct_Opponent) and Outcome"
   ]
  },
  {
   "cell_type": "code",
   "execution_count": 39,
   "metadata": {},
   "outputs": [
    {
     "name": "stdout",
     "output_type": "stream",
     "text": [
      "The correlation is: 0.16\n"
     ]
    }
   ],
   "source": [
    "df_corr = pd.DataFrame({'Outcome':df_reg_season['Outcome']})\n",
    "df_corr['FreeThrowDifference'] = df_reg_season['FreeThrowPct_Team'] - df_reg_season['FreeThrowPct_Opponent']\n",
    "\n",
    "print 'The correlation is: {0:.2f}'.format(df_corr.corr().iloc[0,1])"
   ]
  },
  {
   "cell_type": "markdown",
   "metadata": {},
   "source": [
    "### Tournament"
   ]
  },
  {
   "cell_type": "markdown",
   "metadata": {},
   "source": [
    "Descriptive Statistics for Free Throw Percentages for the Tournament"
   ]
  },
  {
   "cell_type": "code",
   "execution_count": 40,
   "metadata": {},
   "outputs": [
    {
     "data": {
      "text/html": [
       "<div>\n",
       "<style>\n",
       "    .dataframe thead tr:only-child th {\n",
       "        text-align: right;\n",
       "    }\n",
       "\n",
       "    .dataframe thead th {\n",
       "        text-align: left;\n",
       "    }\n",
       "\n",
       "    .dataframe tbody tr th {\n",
       "        vertical-align: top;\n",
       "    }\n",
       "</style>\n",
       "<table border=\"1\" class=\"dataframe\">\n",
       "  <thead>\n",
       "    <tr style=\"text-align: right;\">\n",
       "      <th></th>\n",
       "      <th>FreeThrowPct_Team</th>\n",
       "    </tr>\n",
       "  </thead>\n",
       "  <tbody>\n",
       "    <tr>\n",
       "      <th>count</th>\n",
       "      <td>1962.000000</td>\n",
       "    </tr>\n",
       "    <tr>\n",
       "      <th>mean</th>\n",
       "      <td>0.703824</td>\n",
       "    </tr>\n",
       "    <tr>\n",
       "      <th>std</th>\n",
       "      <td>0.036818</td>\n",
       "    </tr>\n",
       "    <tr>\n",
       "      <th>min</th>\n",
       "      <td>0.583781</td>\n",
       "    </tr>\n",
       "    <tr>\n",
       "      <th>25%</th>\n",
       "      <td>0.680264</td>\n",
       "    </tr>\n",
       "    <tr>\n",
       "      <th>50%</th>\n",
       "      <td>0.702765</td>\n",
       "    </tr>\n",
       "    <tr>\n",
       "      <th>75%</th>\n",
       "      <td>0.728868</td>\n",
       "    </tr>\n",
       "    <tr>\n",
       "      <th>max</th>\n",
       "      <td>0.801743</td>\n",
       "    </tr>\n",
       "  </tbody>\n",
       "</table>\n",
       "</div>"
      ],
      "text/plain": [
       "       FreeThrowPct_Team\n",
       "count        1962.000000\n",
       "mean            0.703824\n",
       "std             0.036818\n",
       "min             0.583781\n",
       "25%             0.680264\n",
       "50%             0.702765\n",
       "75%             0.728868\n",
       "max             0.801743"
      ]
     },
     "execution_count": 40,
     "metadata": {},
     "output_type": "execute_result"
    }
   ],
   "source": [
    "df_tourney[['FreeThrowPct_Team']].describe()"
   ]
  },
  {
   "cell_type": "markdown",
   "metadata": {},
   "source": [
    "Descriptive Statistics for FreeThrowPctWin / FreeThrowPctLose for the Tournament"
   ]
  },
  {
   "cell_type": "code",
   "execution_count": 41,
   "metadata": {},
   "outputs": [
    {
     "data": {
      "text/html": [
       "<div>\n",
       "<style>\n",
       "    .dataframe thead tr:only-child th {\n",
       "        text-align: right;\n",
       "    }\n",
       "\n",
       "    .dataframe thead th {\n",
       "        text-align: left;\n",
       "    }\n",
       "\n",
       "    .dataframe tbody tr th {\n",
       "        vertical-align: top;\n",
       "    }\n",
       "</style>\n",
       "<table border=\"1\" class=\"dataframe\">\n",
       "  <thead>\n",
       "    <tr style=\"text-align: right;\">\n",
       "      <th></th>\n",
       "      <th>FreeThrowPctWin</th>\n",
       "      <th>FreeThrowPctLose</th>\n",
       "    </tr>\n",
       "  </thead>\n",
       "  <tbody>\n",
       "    <tr>\n",
       "      <th>count</th>\n",
       "      <td>1962.000000</td>\n",
       "      <td>1962.000000</td>\n",
       "    </tr>\n",
       "    <tr>\n",
       "      <th>mean</th>\n",
       "      <td>0.704963</td>\n",
       "      <td>0.702685</td>\n",
       "    </tr>\n",
       "    <tr>\n",
       "      <th>std</th>\n",
       "      <td>0.036979</td>\n",
       "      <td>0.036620</td>\n",
       "    </tr>\n",
       "    <tr>\n",
       "      <th>min</th>\n",
       "      <td>0.590275</td>\n",
       "      <td>0.583781</td>\n",
       "    </tr>\n",
       "    <tr>\n",
       "      <th>25%</th>\n",
       "      <td>0.681474</td>\n",
       "      <td>0.678031</td>\n",
       "    </tr>\n",
       "    <tr>\n",
       "      <th>50%</th>\n",
       "      <td>0.702909</td>\n",
       "      <td>0.702470</td>\n",
       "    </tr>\n",
       "    <tr>\n",
       "      <th>75%</th>\n",
       "      <td>0.730211</td>\n",
       "      <td>0.728038</td>\n",
       "    </tr>\n",
       "    <tr>\n",
       "      <th>max</th>\n",
       "      <td>0.801133</td>\n",
       "      <td>0.801743</td>\n",
       "    </tr>\n",
       "  </tbody>\n",
       "</table>\n",
       "</div>"
      ],
      "text/plain": [
       "       FreeThrowPctWin  FreeThrowPctLose\n",
       "count      1962.000000       1962.000000\n",
       "mean          0.704963          0.702685\n",
       "std           0.036979          0.036620\n",
       "min           0.590275          0.583781\n",
       "25%           0.681474          0.678031\n",
       "50%           0.702909          0.702470\n",
       "75%           0.730211          0.728038\n",
       "max           0.801133          0.801743"
      ]
     },
     "execution_count": 41,
     "metadata": {},
     "output_type": "execute_result"
    }
   ],
   "source": [
    "df_winlose_tourney[['FreeThrowPctWin', 'FreeThrowPctLose']].describe()"
   ]
  },
  {
   "cell_type": "markdown",
   "metadata": {},
   "source": [
    "#### Boxplots"
   ]
  },
  {
   "cell_type": "code",
   "execution_count": 42,
   "metadata": {},
   "outputs": [
    {
     "data": {
      "text/plain": [
       "Text(0.5,0,u'Combined Shooting %, Winning Team Shooting %, Losing Team Shooting %')"
      ]
     },
     "execution_count": 42,
     "metadata": {},
     "output_type": "execute_result"
    },
    {
     "data": {
      "image/png": "[encoded data removed]",
      "text/plain": [
       "<matplotlib.figure.Figure at 0x18d7c550>"
      ]
     },
     "metadata": {},
     "output_type": "display_data"
    }
   ],
   "source": [
    "data = [df_tourney['FreeThrowPct_Team'], df_winlose_tourney['FreeThrowPctWin'], df_winlose_tourney['FreeThrowPctLose']]\n",
    "plt.figure()\n",
    "plt.boxplot(data)\n",
    "plt.title('Boxplot for Free Throw Shooting % in Tournament')\n",
    "plt.xlabel('Combined Shooting %, Winning Team Shooting %, Losing Team Shooting %')"
   ]
  },
  {
   "cell_type": "markdown",
   "metadata": {},
   "source": [
    "#### Histogram"
   ]
  },
  {
   "cell_type": "code",
   "execution_count": 43,
   "metadata": {},
   "outputs": [
    {
     "data": {
      "text/plain": [
       "Text(0.5,1,u'Free Throw % of Winning Team v. Losing Team')"
      ]
     },
     "execution_count": 43,
     "metadata": {},
     "output_type": "execute_result"
    },
    {
     "data": {
      "image/png": "[encoded data removed]",
      "text/plain": [
       "<matplotlib.figure.Figure at 0x18af0d30>"
      ]
     },
     "metadata": {},
     "output_type": "display_data"
    }
   ],
   "source": [
    "fig, axes = plt.subplots(nrows=1, ncols=1)\n",
    "\n",
    "labels = ['Free Throw Pct for Winning Team', 'Free Throw Pct for Losing Team']\n",
    "colors = ['red', 'blue']\n",
    "\n",
    "axes.hist([df_winlose_tourney['FreeThrowPctWin'], df_winlose_tourney['FreeThrowPctLose']], 100, histtype='step', fill=False, label=labels, color=colors)\n",
    "axes.legend(bbox_to_anchor=(1.05, 1), loc=2, borderaxespad=0.)\n",
    "axes.set_title('Free Throw % of Winning Team v. Losing Team')"
   ]
  },
  {
   "cell_type": "markdown",
   "metadata": {},
   "source": [
    "#### Two Independent Samples T-Test"
   ]
  },
  {
   "cell_type": "code",
   "execution_count": 44,
   "metadata": {},
   "outputs": [
    {
     "name": "stdout",
     "output_type": "stream",
     "text": [
      "ttest_ind: t = 1.94  p = 0.0526\n"
     ]
    }
   ],
   "source": [
    "t, p = ttest_ind(df_winlose_tourney['FreeThrowPctWin'], df_winlose_tourney['FreeThrowPctLose'], equal_var=True)\n",
    "print(\"ttest_ind: t = {0:.2f}  p = {1:.4f}\".format(t, p))"
   ]
  },
  {
   "cell_type": "markdown",
   "metadata": {},
   "source": [
    "#### Correlation Between (FreeThrowPct_Team - FreeThrowPct_Opponent) and Outcome"
   ]
  },
  {
   "cell_type": "code",
   "execution_count": 45,
   "metadata": {},
   "outputs": [
    {
     "name": "stdout",
     "output_type": "stream",
     "text": [
      "The correlation is: 0.04\n"
     ]
    }
   ],
   "source": [
    "df_corr = pd.DataFrame({'Outcome':df_tourney['Outcome']})\n",
    "df_corr['TwoPointDifference'] = df_tourney['FreeThrowPct_Team'] - df_tourney['FreeThrowPct_Opponent']\n",
    "\n",
    "print 'The correlation is: {0:.2f}'.format(df_corr.corr().iloc[0,1])"
   ]
  },
  {
   "cell_type": "markdown",
   "metadata": {},
   "source": [
    "### Analysis"
   ]
  },
  {
   "cell_type": "markdown",
   "metadata": {},
   "source": [
    "The mean free throw shooting percent for the regular season is 69.1% whereas the mean two point shooting percent in the tournament is 70.4%, so the free throw shooting percentage is better for tournament teams, which makes sense.  \n",
    "\n",
    "For the regular season, the difference between the mean free throw shooting percentage of winning teams (69.5%) v. losing teams (68.6%) is about 0.8%, and is statistically significant.  The correlation between the free throw shooting of the teams and the outcome of the game (win/lose) is 0.16, which indicates a very weak linear relationship.\n",
    "\n",
    "For the tournament, the difference between the mean free throw shooting percentage of winning teams (70.5%) v. losing teams (70.3%) is about 0.2%, which is small and it is statistically insignificant (p=0.053).  The correlation between the free throw shooting of the teams and the outcome of the game (win/lose) is 0.04, which indicates no linear relationship.\n",
    "\n",
    "Because there is no significant difference between the free throw shooting of winning and losing teams in the tournament, and there is no correlation between free throw shooting and the outcome of a game, this feature should not be considered in the model."
   ]
  },
  {
   "cell_type": "markdown",
   "metadata": {},
   "source": [
    "## Average Offensive Rebounds"
   ]
  },
  {
   "cell_type": "markdown",
   "metadata": {},
   "source": [
    "### Regular Season"
   ]
  },
  {
   "cell_type": "markdown",
   "metadata": {},
   "source": [
    "Descriptive Statistics for Offensive Rebounds for the Regular Season"
   ]
  },
  {
   "cell_type": "code",
   "execution_count": 46,
   "metadata": {},
   "outputs": [
    {
     "data": {
      "text/html": [
       "<div>\n",
       "<style>\n",
       "    .dataframe thead tr:only-child th {\n",
       "        text-align: right;\n",
       "    }\n",
       "\n",
       "    .dataframe thead th {\n",
       "        text-align: left;\n",
       "    }\n",
       "\n",
       "    .dataframe tbody tr th {\n",
       "        vertical-align: top;\n",
       "    }\n",
       "</style>\n",
       "<table border=\"1\" class=\"dataframe\">\n",
       "  <thead>\n",
       "    <tr style=\"text-align: right;\">\n",
       "      <th></th>\n",
       "      <th>OffensiveRebounds_Team</th>\n",
       "    </tr>\n",
       "  </thead>\n",
       "  <tbody>\n",
       "    <tr>\n",
       "      <th>count</th>\n",
       "      <td>164082.000000</td>\n",
       "    </tr>\n",
       "    <tr>\n",
       "      <th>mean</th>\n",
       "      <td>11.079058</td>\n",
       "    </tr>\n",
       "    <tr>\n",
       "      <th>std</th>\n",
       "      <td>1.799314</td>\n",
       "    </tr>\n",
       "    <tr>\n",
       "      <th>min</th>\n",
       "      <td>4.178571</td>\n",
       "    </tr>\n",
       "    <tr>\n",
       "      <th>25%</th>\n",
       "      <td>9.935484</td>\n",
       "    </tr>\n",
       "    <tr>\n",
       "      <th>50%</th>\n",
       "      <td>11.096774</td>\n",
       "    </tr>\n",
       "    <tr>\n",
       "      <th>75%</th>\n",
       "      <td>12.266667</td>\n",
       "    </tr>\n",
       "    <tr>\n",
       "      <th>max</th>\n",
       "      <td>17.259259</td>\n",
       "    </tr>\n",
       "  </tbody>\n",
       "</table>\n",
       "</div>"
      ],
      "text/plain": [
       "       OffensiveRebounds_Team\n",
       "count           164082.000000\n",
       "mean                11.079058\n",
       "std                  1.799314\n",
       "min                  4.178571\n",
       "25%                  9.935484\n",
       "50%                 11.096774\n",
       "75%                 12.266667\n",
       "max                 17.259259"
      ]
     },
     "execution_count": 46,
     "metadata": {},
     "output_type": "execute_result"
    }
   ],
   "source": [
    "df_reg_season[['OffensiveRebounds_Team']].describe()"
   ]
  },
  {
   "cell_type": "markdown",
   "metadata": {},
   "source": [
    "Descriptive Statistics for OffensiveReboundsWin / OffensiveReboundsLose for the Regular Season"
   ]
  },
  {
   "cell_type": "code",
   "execution_count": 47,
   "metadata": {},
   "outputs": [
    {
     "data": {
      "text/html": [
       "<div>\n",
       "<style>\n",
       "    .dataframe thead tr:only-child th {\n",
       "        text-align: right;\n",
       "    }\n",
       "\n",
       "    .dataframe thead th {\n",
       "        text-align: left;\n",
       "    }\n",
       "\n",
       "    .dataframe tbody tr th {\n",
       "        vertical-align: top;\n",
       "    }\n",
       "</style>\n",
       "<table border=\"1\" class=\"dataframe\">\n",
       "  <thead>\n",
       "    <tr style=\"text-align: right;\">\n",
       "      <th></th>\n",
       "      <th>OffensiveReboundsWin</th>\n",
       "      <th>OffensiveReboundsLose</th>\n",
       "    </tr>\n",
       "  </thead>\n",
       "  <tbody>\n",
       "    <tr>\n",
       "      <th>count</th>\n",
       "      <td>164082.000000</td>\n",
       "      <td>164082.000000</td>\n",
       "    </tr>\n",
       "    <tr>\n",
       "      <th>mean</th>\n",
       "      <td>11.171449</td>\n",
       "      <td>10.986667</td>\n",
       "    </tr>\n",
       "    <tr>\n",
       "      <th>std</th>\n",
       "      <td>1.803897</td>\n",
       "      <td>1.789956</td>\n",
       "    </tr>\n",
       "    <tr>\n",
       "      <th>min</th>\n",
       "      <td>4.178571</td>\n",
       "      <td>4.178571</td>\n",
       "    </tr>\n",
       "    <tr>\n",
       "      <th>25%</th>\n",
       "      <td>10.031250</td>\n",
       "      <td>9.851852</td>\n",
       "    </tr>\n",
       "    <tr>\n",
       "      <th>50%</th>\n",
       "      <td>11.181818</td>\n",
       "      <td>11.000000</td>\n",
       "    </tr>\n",
       "    <tr>\n",
       "      <th>75%</th>\n",
       "      <td>12.333333</td>\n",
       "      <td>12.185185</td>\n",
       "    </tr>\n",
       "    <tr>\n",
       "      <th>max</th>\n",
       "      <td>17.259259</td>\n",
       "      <td>17.259259</td>\n",
       "    </tr>\n",
       "  </tbody>\n",
       "</table>\n",
       "</div>"
      ],
      "text/plain": [
       "       OffensiveReboundsWin  OffensiveReboundsLose\n",
       "count         164082.000000          164082.000000\n",
       "mean              11.171449              10.986667\n",
       "std                1.803897               1.789956\n",
       "min                4.178571               4.178571\n",
       "25%               10.031250               9.851852\n",
       "50%               11.181818              11.000000\n",
       "75%               12.333333              12.185185\n",
       "max               17.259259              17.259259"
      ]
     },
     "execution_count": 47,
     "metadata": {},
     "output_type": "execute_result"
    }
   ],
   "source": [
    "df_winlose_reg_season[['OffensiveReboundsWin', 'OffensiveReboundsLose']].describe()"
   ]
  },
  {
   "cell_type": "markdown",
   "metadata": {},
   "source": [
    "#### Boxplots"
   ]
  },
  {
   "cell_type": "code",
   "execution_count": 48,
   "metadata": {},
   "outputs": [
    {
     "data": {
      "text/plain": [
       "Text(0.5,0,u'Combined Offensive Rebounds, Winning Team Offensive Rebounds, Losing Team Offensive Rebounds')"
      ]
     },
     "execution_count": 48,
     "metadata": {},
     "output_type": "execute_result"
    },
    {
     "data": {
      "image/png": "[encoded data removed]",
      "text/plain": [
       "<matplotlib.figure.Figure at 0x192d1a90>"
      ]
     },
     "metadata": {},
     "output_type": "display_data"
    }
   ],
   "source": [
    "data = [df_reg_season['OffensiveRebounds_Team'], df_winlose_reg_season['OffensiveReboundsWin'], df_winlose_reg_season['OffensiveReboundsLose']]\n",
    "plt.figure()\n",
    "plt.boxplot(data)\n",
    "plt.title('Boxplot for Offensive Rebounds in Regular Season')\n",
    "plt.xlabel('Combined Offensive Rebounds, Winning Team Offensive Rebounds, Losing Team Offensive Rebounds')"
   ]
  },
  {
   "cell_type": "markdown",
   "metadata": {},
   "source": [
    "#### Histogram"
   ]
  },
  {
   "cell_type": "code",
   "execution_count": 49,
   "metadata": {},
   "outputs": [
    {
     "data": {
      "text/plain": [
       "Text(0.5,1,u'Offensive Rebounds of Winning Team v. Losing Team')"
      ]
     },
     "execution_count": 49,
     "metadata": {},
     "output_type": "execute_result"
    },
    {
     "data": {
      "image/png": "[encoded data removed]",
      "text/plain": [
       "<matplotlib.figure.Figure at 0x19538518>"
      ]
     },
     "metadata": {},
     "output_type": "display_data"
    }
   ],
   "source": [
    "fig, axes = plt.subplots(nrows=1, ncols=1)\n",
    "\n",
    "labels = ['Offensive Rebounds for Winning Team', 'Offensive Rebounds for Losing Team']\n",
    "colors = ['red', 'blue']\n",
    "\n",
    "axes.hist([df_winlose_reg_season['OffensiveReboundsWin'], df_winlose_reg_season['OffensiveReboundsLose']], 100, histtype='step', fill=False, label=labels, color=colors)\n",
    "axes.legend(bbox_to_anchor=(1.05, 1), loc=2, borderaxespad=0.)\n",
    "axes.set_title('Offensive Rebounds of Winning Team v. Losing Team')"
   ]
  },
  {
   "cell_type": "markdown",
   "metadata": {},
   "source": [
    "#### Two Independent Samples T-Test"
   ]
  },
  {
   "cell_type": "code",
   "execution_count": 50,
   "metadata": {},
   "outputs": [
    {
     "name": "stdout",
     "output_type": "stream",
     "text": [
      "ttest_ind: t = 29.45  p = 0.0000\n"
     ]
    }
   ],
   "source": [
    "t, p = ttest_ind(df_winlose_reg_season['OffensiveReboundsWin'], df_winlose_reg_season['OffensiveReboundsLose'], equal_var=True)\n",
    "print(\"ttest_ind: t = {0:.2f}  p = {1:.4f}\".format(t, p))"
   ]
  },
  {
   "cell_type": "markdown",
   "metadata": {},
   "source": [
    "#### Correlation Between (OffensiveRebounds_Team - OffensiveRebounds_Opponent)  and Outcome"
   ]
  },
  {
   "cell_type": "code",
   "execution_count": 51,
   "metadata": {},
   "outputs": [
    {
     "name": "stdout",
     "output_type": "stream",
     "text": [
      "The correlation is: 0.08\n"
     ]
    }
   ],
   "source": [
    "df_corr = pd.DataFrame({'Outcome':df_reg_season['Outcome']})\n",
    "df_corr['OffensiveReboundsDifference'] = df_reg_season['OffensiveRebounds_Team'] - df_reg_season['OffensiveRebounds_Opponent']\n",
    "\n",
    "print 'The correlation is: {0:.2f}'.format(df_corr.corr().iloc[0,1])"
   ]
  },
  {
   "cell_type": "markdown",
   "metadata": {},
   "source": [
    "### Tournament"
   ]
  },
  {
   "cell_type": "markdown",
   "metadata": {},
   "source": [
    "Descriptive Statistics for Offensive Rebounds for the Tournament"
   ]
  },
  {
   "cell_type": "code",
   "execution_count": 52,
   "metadata": {},
   "outputs": [
    {
     "data": {
      "text/html": [
       "<div>\n",
       "<style>\n",
       "    .dataframe thead tr:only-child th {\n",
       "        text-align: right;\n",
       "    }\n",
       "\n",
       "    .dataframe thead th {\n",
       "        text-align: left;\n",
       "    }\n",
       "\n",
       "    .dataframe tbody tr th {\n",
       "        vertical-align: top;\n",
       "    }\n",
       "</style>\n",
       "<table border=\"1\" class=\"dataframe\">\n",
       "  <thead>\n",
       "    <tr style=\"text-align: right;\">\n",
       "      <th></th>\n",
       "      <th>OffensiveRebounds_Team</th>\n",
       "    </tr>\n",
       "  </thead>\n",
       "  <tbody>\n",
       "    <tr>\n",
       "      <th>count</th>\n",
       "      <td>1962.000000</td>\n",
       "    </tr>\n",
       "    <tr>\n",
       "      <th>mean</th>\n",
       "      <td>11.756806</td>\n",
       "    </tr>\n",
       "    <tr>\n",
       "      <th>std</th>\n",
       "      <td>1.816134</td>\n",
       "    </tr>\n",
       "    <tr>\n",
       "      <th>min</th>\n",
       "      <td>5.363636</td>\n",
       "    </tr>\n",
       "    <tr>\n",
       "      <th>25%</th>\n",
       "      <td>10.548387</td>\n",
       "    </tr>\n",
       "    <tr>\n",
       "      <th>50%</th>\n",
       "      <td>11.725705</td>\n",
       "    </tr>\n",
       "    <tr>\n",
       "      <th>75%</th>\n",
       "      <td>12.959432</td>\n",
       "    </tr>\n",
       "    <tr>\n",
       "      <th>max</th>\n",
       "      <td>16.843750</td>\n",
       "    </tr>\n",
       "  </tbody>\n",
       "</table>\n",
       "</div>"
      ],
      "text/plain": [
       "       OffensiveRebounds_Team\n",
       "count             1962.000000\n",
       "mean                11.756806\n",
       "std                  1.816134\n",
       "min                  5.363636\n",
       "25%                 10.548387\n",
       "50%                 11.725705\n",
       "75%                 12.959432\n",
       "max                 16.843750"
      ]
     },
     "execution_count": 52,
     "metadata": {},
     "output_type": "execute_result"
    }
   ],
   "source": [
    "df_tourney[['OffensiveRebounds_Team']].describe()"
   ]
  },
  {
   "cell_type": "markdown",
   "metadata": {},
   "source": [
    "Descriptive Statistics for OffensiveReboundsWin / OffensiveReboundsLose for the Tournament"
   ]
  },
  {
   "cell_type": "code",
   "execution_count": 53,
   "metadata": {},
   "outputs": [
    {
     "data": {
      "text/html": [
       "<div>\n",
       "<style>\n",
       "    .dataframe thead tr:only-child th {\n",
       "        text-align: right;\n",
       "    }\n",
       "\n",
       "    .dataframe thead th {\n",
       "        text-align: left;\n",
       "    }\n",
       "\n",
       "    .dataframe tbody tr th {\n",
       "        vertical-align: top;\n",
       "    }\n",
       "</style>\n",
       "<table border=\"1\" class=\"dataframe\">\n",
       "  <thead>\n",
       "    <tr style=\"text-align: right;\">\n",
       "      <th></th>\n",
       "      <th>OffensiveReboundsWin</th>\n",
       "      <th>OffensiveReboundsLose</th>\n",
       "    </tr>\n",
       "  </thead>\n",
       "  <tbody>\n",
       "    <tr>\n",
       "      <th>count</th>\n",
       "      <td>1962.000000</td>\n",
       "      <td>1962.000000</td>\n",
       "    </tr>\n",
       "    <tr>\n",
       "      <th>mean</th>\n",
       "      <td>11.969700</td>\n",
       "      <td>11.543913</td>\n",
       "    </tr>\n",
       "    <tr>\n",
       "      <th>std</th>\n",
       "      <td>1.839381</td>\n",
       "      <td>1.767108</td>\n",
       "    </tr>\n",
       "    <tr>\n",
       "      <th>min</th>\n",
       "      <td>5.363636</td>\n",
       "      <td>5.363636</td>\n",
       "    </tr>\n",
       "    <tr>\n",
       "      <th>25%</th>\n",
       "      <td>10.733333</td>\n",
       "      <td>10.344828</td>\n",
       "    </tr>\n",
       "    <tr>\n",
       "      <th>50%</th>\n",
       "      <td>11.878788</td>\n",
       "      <td>11.535714</td>\n",
       "    </tr>\n",
       "    <tr>\n",
       "      <th>75%</th>\n",
       "      <td>13.242424</td>\n",
       "      <td>12.677419</td>\n",
       "    </tr>\n",
       "    <tr>\n",
       "      <th>max</th>\n",
       "      <td>16.843750</td>\n",
       "      <td>16.843750</td>\n",
       "    </tr>\n",
       "  </tbody>\n",
       "</table>\n",
       "</div>"
      ],
      "text/plain": [
       "       OffensiveReboundsWin  OffensiveReboundsLose\n",
       "count           1962.000000            1962.000000\n",
       "mean              11.969700              11.543913\n",
       "std                1.839381               1.767108\n",
       "min                5.363636               5.363636\n",
       "25%               10.733333              10.344828\n",
       "50%               11.878788              11.535714\n",
       "75%               13.242424              12.677419\n",
       "max               16.843750              16.843750"
      ]
     },
     "execution_count": 53,
     "metadata": {},
     "output_type": "execute_result"
    }
   ],
   "source": [
    "df_winlose_tourney[['OffensiveReboundsWin', 'OffensiveReboundsLose']].describe()"
   ]
  },
  {
   "cell_type": "markdown",
   "metadata": {},
   "source": [
    "#### Boxplots"
   ]
  },
  {
   "cell_type": "code",
   "execution_count": 54,
   "metadata": {},
   "outputs": [
    {
     "data": {
      "text/plain": [
       "Text(0.5,0,u'Combined Offensive Rebounds, Winning Team Offensive Rebounds, Losing Team Offensive Rebounds')"
      ]
     },
     "execution_count": 54,
     "metadata": {},
     "output_type": "execute_result"
    },
    {
     "data": {
      "image/png": "[encoded data removed]",
      "text/plain": [
       "<matplotlib.figure.Figure at 0x1973ab70>"
      ]
     },
     "metadata": {},
     "output_type": "display_data"
    }
   ],
   "source": [
    "data = [df_tourney['OffensiveRebounds_Team'], df_winlose_tourney['OffensiveReboundsWin'], df_winlose_tourney['OffensiveReboundsLose']]\n",
    "plt.figure()\n",
    "plt.boxplot(data)\n",
    "plt.title('Boxplot for Offensive Rebounds in Tournament')\n",
    "plt.xlabel('Combined Offensive Rebounds, Winning Team Offensive Rebounds, Losing Team Offensive Rebounds')"
   ]
  },
  {
   "cell_type": "markdown",
   "metadata": {},
   "source": [
    "#### Histogram"
   ]
  },
  {
   "cell_type": "code",
   "execution_count": 55,
   "metadata": {},
   "outputs": [
    {
     "data": {
      "text/plain": [
       "Text(0.5,1,u'Offensive Rebounds of Winning Team v. Losing Team')"
      ]
     },
     "execution_count": 55,
     "metadata": {},
     "output_type": "execute_result"
    },
    {
     "data": {
      "image/png": "[encoded data removed]",
      "text/plain": [
       "<matplotlib.figure.Figure at 0x1973aef0>"
      ]
     },
     "metadata": {},
     "output_type": "display_data"
    }
   ],
   "source": [
    "fig, axes = plt.subplots(nrows=1, ncols=1)\n",
    "\n",
    "labels = ['Offensive Rebounds for Winning Team', 'Offensive Rebounds for Losing Team']\n",
    "colors = ['red', 'blue']\n",
    "\n",
    "axes.hist([df_winlose_tourney['OffensiveReboundsWin'], df_winlose_tourney['OffensiveReboundsLose']], 100, histtype='step', fill=False, label=labels, color=colors)\n",
    "axes.legend(bbox_to_anchor=(1.05, 1), loc=2, borderaxespad=0.)\n",
    "axes.set_title('Offensive Rebounds of Winning Team v. Losing Team')"
   ]
  },
  {
   "cell_type": "markdown",
   "metadata": {},
   "source": [
    "#### Two Independent Samples T-Test"
   ]
  },
  {
   "cell_type": "code",
   "execution_count": 56,
   "metadata": {},
   "outputs": [
    {
     "name": "stdout",
     "output_type": "stream",
     "text": [
      "ttest_ind: t = 7.39  p = 0.0000\n"
     ]
    }
   ],
   "source": [
    "t, p = ttest_ind(df_winlose_tourney['OffensiveReboundsWin'], df_winlose_tourney['OffensiveReboundsLose'], equal_var=True)\n",
    "print(\"ttest_ind: t = {0:.2f}  p = {1:.4f}\".format(t, p))"
   ]
  },
  {
   "cell_type": "markdown",
   "metadata": {},
   "source": [
    "#### Correlation Between (OffensiveRebounds_Team - OffensiveRebounds_Opponent) and Outcome"
   ]
  },
  {
   "cell_type": "code",
   "execution_count": 57,
   "metadata": {},
   "outputs": [
    {
     "name": "stdout",
     "output_type": "stream",
     "text": [
      "The correlation is: 0.17\n"
     ]
    }
   ],
   "source": [
    "df_corr = pd.DataFrame({'Outcome':df_tourney['Outcome']})\n",
    "df_corr['OffensiveReboundsDifference'] = df_tourney['OffensiveRebounds_Team'] - df_tourney['OffensiveRebounds_Opponent']\n",
    "\n",
    "print 'The correlation is: {0:.2f}'.format(df_corr.corr().iloc[0,1])"
   ]
  },
  {
   "cell_type": "markdown",
   "metadata": {},
   "source": [
    "### Analysis"
   ]
  },
  {
   "cell_type": "markdown",
   "metadata": {},
   "source": [
    "The mean offensive rebounds for the regular season is 11.1 whereas the mean offensive rebounds in the tournament is 11.8, so the offensive rebounding is better for tournament teams, which makes sense.  \n",
    "\n",
    "For the regular season, the difference between the mean offensive rebounding of winning teams (11.2) v. losing teams (11.0) is about 0.2, and is statistically significant.  The correlation between the offensive rebounding of the teams and the outcome of the game (win/lose) is 0.08, which indicates no linear relationship.\n",
    "\n",
    "For the tournament, the difference between the mean offensive rebounding of winning teams (12.0) v. losing teams (11.5) is about 0.5, and is statistically significant.  The correlation between the offensive rebounding of the teams and the outcome of the game (win/lose) is 0.17, which which is a weak linear relationship.\n",
    "\n",
    "The surprising finding is that offensive rebounding makes more of a difference in tournament games than regular season games. This feature may provide some benefit in predicting the outcome of the tournament games."
   ]
  },
  {
   "cell_type": "markdown",
   "metadata": {},
   "source": [
    "## Average Defensive Rebounds"
   ]
  },
  {
   "cell_type": "markdown",
   "metadata": {},
   "source": [
    "### Regular Season"
   ]
  },
  {
   "cell_type": "markdown",
   "metadata": {},
   "source": [
    "Descriptive Statistics for Defensive Rebounds for the Regular Season"
   ]
  },
  {
   "cell_type": "code",
   "execution_count": 58,
   "metadata": {},
   "outputs": [
    {
     "data": {
      "text/html": [
       "<div>\n",
       "<style>\n",
       "    .dataframe thead tr:only-child th {\n",
       "        text-align: right;\n",
       "    }\n",
       "\n",
       "    .dataframe thead th {\n",
       "        text-align: left;\n",
       "    }\n",
       "\n",
       "    .dataframe tbody tr th {\n",
       "        vertical-align: top;\n",
       "    }\n",
       "</style>\n",
       "<table border=\"1\" class=\"dataframe\">\n",
       "  <thead>\n",
       "    <tr style=\"text-align: right;\">\n",
       "      <th></th>\n",
       "      <th>DefensiveRebounds_Team</th>\n",
       "    </tr>\n",
       "  </thead>\n",
       "  <tbody>\n",
       "    <tr>\n",
       "      <th>count</th>\n",
       "      <td>164082.000000</td>\n",
       "    </tr>\n",
       "    <tr>\n",
       "      <th>mean</th>\n",
       "      <td>23.560196</td>\n",
       "    </tr>\n",
       "    <tr>\n",
       "      <th>std</th>\n",
       "      <td>1.968222</td>\n",
       "    </tr>\n",
       "    <tr>\n",
       "      <th>min</th>\n",
       "      <td>15.357143</td>\n",
       "    </tr>\n",
       "    <tr>\n",
       "      <th>25%</th>\n",
       "      <td>22.233333</td>\n",
       "    </tr>\n",
       "    <tr>\n",
       "      <th>50%</th>\n",
       "      <td>23.551724</td>\n",
       "    </tr>\n",
       "    <tr>\n",
       "      <th>75%</th>\n",
       "      <td>24.852941</td>\n",
       "    </tr>\n",
       "    <tr>\n",
       "      <th>max</th>\n",
       "      <td>31.121212</td>\n",
       "    </tr>\n",
       "  </tbody>\n",
       "</table>\n",
       "</div>"
      ],
      "text/plain": [
       "       DefensiveRebounds_Team\n",
       "count           164082.000000\n",
       "mean                23.560196\n",
       "std                  1.968222\n",
       "min                 15.357143\n",
       "25%                 22.233333\n",
       "50%                 23.551724\n",
       "75%                 24.852941\n",
       "max                 31.121212"
      ]
     },
     "execution_count": 58,
     "metadata": {},
     "output_type": "execute_result"
    }
   ],
   "source": [
    "df_reg_season[['DefensiveRebounds_Team']].describe()"
   ]
  },
  {
   "cell_type": "markdown",
   "metadata": {},
   "source": [
    "Descriptive Statistics for DefensiveReboundsWin/DefensiveReboundsLose for the Regular Season"
   ]
  },
  {
   "cell_type": "code",
   "execution_count": 59,
   "metadata": {},
   "outputs": [
    {
     "data": {
      "text/html": [
       "<div>\n",
       "<style>\n",
       "    .dataframe thead tr:only-child th {\n",
       "        text-align: right;\n",
       "    }\n",
       "\n",
       "    .dataframe thead th {\n",
       "        text-align: left;\n",
       "    }\n",
       "\n",
       "    .dataframe tbody tr th {\n",
       "        vertical-align: top;\n",
       "    }\n",
       "</style>\n",
       "<table border=\"1\" class=\"dataframe\">\n",
       "  <thead>\n",
       "    <tr style=\"text-align: right;\">\n",
       "      <th></th>\n",
       "      <th>DefensiveReboundsWin</th>\n",
       "      <th>DefensiveReboundsLose</th>\n",
       "    </tr>\n",
       "  </thead>\n",
       "  <tbody>\n",
       "    <tr>\n",
       "      <th>count</th>\n",
       "      <td>164082.000000</td>\n",
       "      <td>164082.000000</td>\n",
       "    </tr>\n",
       "    <tr>\n",
       "      <th>mean</th>\n",
       "      <td>23.875255</td>\n",
       "      <td>23.245136</td>\n",
       "    </tr>\n",
       "    <tr>\n",
       "      <th>std</th>\n",
       "      <td>1.964815</td>\n",
       "      <td>1.920616</td>\n",
       "    </tr>\n",
       "    <tr>\n",
       "      <th>min</th>\n",
       "      <td>15.357143</td>\n",
       "      <td>15.357143</td>\n",
       "    </tr>\n",
       "    <tr>\n",
       "      <th>25%</th>\n",
       "      <td>22.600000</td>\n",
       "      <td>21.903226</td>\n",
       "    </tr>\n",
       "    <tr>\n",
       "      <th>50%</th>\n",
       "      <td>23.866667</td>\n",
       "      <td>23.225806</td>\n",
       "    </tr>\n",
       "    <tr>\n",
       "      <th>75%</th>\n",
       "      <td>25.176471</td>\n",
       "      <td>24.500000</td>\n",
       "    </tr>\n",
       "    <tr>\n",
       "      <th>max</th>\n",
       "      <td>31.121212</td>\n",
       "      <td>31.121212</td>\n",
       "    </tr>\n",
       "  </tbody>\n",
       "</table>\n",
       "</div>"
      ],
      "text/plain": [
       "       DefensiveReboundsWin  DefensiveReboundsLose\n",
       "count         164082.000000          164082.000000\n",
       "mean              23.875255              23.245136\n",
       "std                1.964815               1.920616\n",
       "min               15.357143              15.357143\n",
       "25%               22.600000              21.903226\n",
       "50%               23.866667              23.225806\n",
       "75%               25.176471              24.500000\n",
       "max               31.121212              31.121212"
      ]
     },
     "execution_count": 59,
     "metadata": {},
     "output_type": "execute_result"
    }
   ],
   "source": [
    "df_winlose_reg_season[['DefensiveReboundsWin', 'DefensiveReboundsLose']].describe()"
   ]
  },
  {
   "cell_type": "markdown",
   "metadata": {},
   "source": [
    "#### Boxplots"
   ]
  },
  {
   "cell_type": "code",
   "execution_count": 60,
   "metadata": {},
   "outputs": [
    {
     "data": {
      "text/plain": [
       "Text(0.5,0,u'Combined Defensive Rebounds, Winning Team Defensive Rebounds, Losing Team Defensive Rebounds')"
      ]
     },
     "execution_count": 60,
     "metadata": {},
     "output_type": "execute_result"
    },
    {
     "data": {
      "image/png": "[encoded data removed]",
      "text/plain": [
       "<matplotlib.figure.Figure at 0x19ba62e8>"
      ]
     },
     "metadata": {},
     "output_type": "display_data"
    }
   ],
   "source": [
    "data = [df_reg_season['DefensiveRebounds_Team'], df_winlose_reg_season['DefensiveReboundsWin'], df_winlose_reg_season['DefensiveReboundsLose']]\n",
    "plt.figure()\n",
    "plt.boxplot(data)\n",
    "plt.title('Boxplot for Defensive Rebounds in Regular Season')\n",
    "plt.xlabel('Combined Defensive Rebounds, Winning Team Defensive Rebounds, Losing Team Defensive Rebounds')"
   ]
  },
  {
   "cell_type": "markdown",
   "metadata": {},
   "source": [
    "#### Histogram"
   ]
  },
  {
   "cell_type": "code",
   "execution_count": 61,
   "metadata": {},
   "outputs": [
    {
     "data": {
      "text/plain": [
       "Text(0.5,1,u'Defensive Rebounds of Winning Team v. Losing Team')"
      ]
     },
     "execution_count": 61,
     "metadata": {},
     "output_type": "execute_result"
    },
    {
     "data": {
      "image/png": "[encoded data removed]",
      "text/plain": [
       "<matplotlib.figure.Figure at 0x19ab0160>"
      ]
     },
     "metadata": {},
     "output_type": "display_data"
    }
   ],
   "source": [
    "fig, axes = plt.subplots(nrows=1, ncols=1)\n",
    "\n",
    "labels = ['Defensive Rebounds for Winning Team', 'Defensive Rebounds for Losing Team']\n",
    "colors = ['red', 'blue']\n",
    "\n",
    "axes.hist([df_winlose_reg_season['DefensiveReboundsWin'], df_winlose_reg_season['DefensiveReboundsLose']], 100, histtype='step', fill=False, label=labels, color=colors)\n",
    "axes.legend(bbox_to_anchor=(1.05, 1), loc=2, borderaxespad=0.)\n",
    "axes.set_title('Defensive Rebounds of Winning Team v. Losing Team')"
   ]
  },
  {
   "cell_type": "markdown",
   "metadata": {},
   "source": [
    "#### Two Independent Samples T-Test"
   ]
  },
  {
   "cell_type": "code",
   "execution_count": 62,
   "metadata": {},
   "outputs": [
    {
     "name": "stdout",
     "output_type": "stream",
     "text": [
      "ttest_ind: t = 92.90  p = 0.0000\n"
     ]
    }
   ],
   "source": [
    "t, p = ttest_ind(df_winlose_reg_season['DefensiveReboundsWin'], df_winlose_reg_season['DefensiveReboundsLose'], equal_var=True)\n",
    "print(\"ttest_ind: t = {0:.2f}  p = {1:.4f}\".format(t, p))"
   ]
  },
  {
   "cell_type": "markdown",
   "metadata": {},
   "source": [
    "#### Correlation Between (DefensiveRebounds_Team - DefensiveRebounds_Opponent) and Outcome"
   ]
  },
  {
   "cell_type": "code",
   "execution_count": 63,
   "metadata": {},
   "outputs": [
    {
     "name": "stdout",
     "output_type": "stream",
     "text": [
      "The correlation is: 0.25\n"
     ]
    }
   ],
   "source": [
    "df_corr = pd.DataFrame({'Outcome':df_reg_season['Outcome']})\n",
    "df_corr['DefensiveReboundsDifference'] = df_reg_season['DefensiveRebounds_Team'] - df_reg_season['DefensiveRebounds_Opponent']\n",
    "\n",
    "print 'The correlation is: {0:.2f}'.format(df_corr.corr().iloc[0,1])"
   ]
  },
  {
   "cell_type": "markdown",
   "metadata": {},
   "source": [
    "### Tournament"
   ]
  },
  {
   "cell_type": "markdown",
   "metadata": {},
   "source": [
    "Descriptive Statistics for Defensive Rebounds for the Regular Season"
   ]
  },
  {
   "cell_type": "code",
   "execution_count": 64,
   "metadata": {},
   "outputs": [
    {
     "data": {
      "text/html": [
       "<div>\n",
       "<style>\n",
       "    .dataframe thead tr:only-child th {\n",
       "        text-align: right;\n",
       "    }\n",
       "\n",
       "    .dataframe thead th {\n",
       "        text-align: left;\n",
       "    }\n",
       "\n",
       "    .dataframe tbody tr th {\n",
       "        vertical-align: top;\n",
       "    }\n",
       "</style>\n",
       "<table border=\"1\" class=\"dataframe\">\n",
       "  <thead>\n",
       "    <tr style=\"text-align: right;\">\n",
       "      <th></th>\n",
       "      <th>DefensiveRebounds_Team</th>\n",
       "    </tr>\n",
       "  </thead>\n",
       "  <tbody>\n",
       "    <tr>\n",
       "      <th>count</th>\n",
       "      <td>1962.000000</td>\n",
       "    </tr>\n",
       "    <tr>\n",
       "      <th>mean</th>\n",
       "      <td>24.686459</td>\n",
       "    </tr>\n",
       "    <tr>\n",
       "      <th>std</th>\n",
       "      <td>1.838915</td>\n",
       "    </tr>\n",
       "    <tr>\n",
       "      <th>min</th>\n",
       "      <td>15.357143</td>\n",
       "    </tr>\n",
       "    <tr>\n",
       "      <th>25%</th>\n",
       "      <td>23.468750</td>\n",
       "    </tr>\n",
       "    <tr>\n",
       "      <th>50%</th>\n",
       "      <td>24.681985</td>\n",
       "    </tr>\n",
       "    <tr>\n",
       "      <th>75%</th>\n",
       "      <td>25.875000</td>\n",
       "    </tr>\n",
       "    <tr>\n",
       "      <th>max</th>\n",
       "      <td>30.939394</td>\n",
       "    </tr>\n",
       "  </tbody>\n",
       "</table>\n",
       "</div>"
      ],
      "text/plain": [
       "       DefensiveRebounds_Team\n",
       "count             1962.000000\n",
       "mean                24.686459\n",
       "std                  1.838915\n",
       "min                 15.357143\n",
       "25%                 23.468750\n",
       "50%                 24.681985\n",
       "75%                 25.875000\n",
       "max                 30.939394"
      ]
     },
     "execution_count": 64,
     "metadata": {},
     "output_type": "execute_result"
    }
   ],
   "source": [
    "df_tourney[['DefensiveRebounds_Team']].describe()"
   ]
  },
  {
   "cell_type": "markdown",
   "metadata": {},
   "source": [
    "Descriptive Statistics for DefensiveReboundsWin / DefensiveReboundsLose for the Regular Season"
   ]
  },
  {
   "cell_type": "code",
   "execution_count": 65,
   "metadata": {},
   "outputs": [
    {
     "data": {
      "text/html": [
       "<div>\n",
       "<style>\n",
       "    .dataframe thead tr:only-child th {\n",
       "        text-align: right;\n",
       "    }\n",
       "\n",
       "    .dataframe thead th {\n",
       "        text-align: left;\n",
       "    }\n",
       "\n",
       "    .dataframe tbody tr th {\n",
       "        vertical-align: top;\n",
       "    }\n",
       "</style>\n",
       "<table border=\"1\" class=\"dataframe\">\n",
       "  <thead>\n",
       "    <tr style=\"text-align: right;\">\n",
       "      <th></th>\n",
       "      <th>DefensiveReboundsWin</th>\n",
       "      <th>DefensiveReboundsLose</th>\n",
       "    </tr>\n",
       "  </thead>\n",
       "  <tbody>\n",
       "    <tr>\n",
       "      <th>count</th>\n",
       "      <td>1962.000000</td>\n",
       "      <td>1962.000000</td>\n",
       "    </tr>\n",
       "    <tr>\n",
       "      <th>mean</th>\n",
       "      <td>24.859828</td>\n",
       "      <td>24.513090</td>\n",
       "    </tr>\n",
       "    <tr>\n",
       "      <th>std</th>\n",
       "      <td>1.854300</td>\n",
       "      <td>1.806831</td>\n",
       "    </tr>\n",
       "    <tr>\n",
       "      <th>min</th>\n",
       "      <td>19.724138</td>\n",
       "      <td>15.357143</td>\n",
       "    </tr>\n",
       "    <tr>\n",
       "      <th>25%</th>\n",
       "      <td>23.606061</td>\n",
       "      <td>23.312500</td>\n",
       "    </tr>\n",
       "    <tr>\n",
       "      <th>50%</th>\n",
       "      <td>24.852941</td>\n",
       "      <td>24.468750</td>\n",
       "    </tr>\n",
       "    <tr>\n",
       "      <th>75%</th>\n",
       "      <td>26.107143</td>\n",
       "      <td>25.687500</td>\n",
       "    </tr>\n",
       "    <tr>\n",
       "      <th>max</th>\n",
       "      <td>30.939394</td>\n",
       "      <td>30.939394</td>\n",
       "    </tr>\n",
       "  </tbody>\n",
       "</table>\n",
       "</div>"
      ],
      "text/plain": [
       "       DefensiveReboundsWin  DefensiveReboundsLose\n",
       "count           1962.000000            1962.000000\n",
       "mean              24.859828              24.513090\n",
       "std                1.854300               1.806831\n",
       "min               19.724138              15.357143\n",
       "25%               23.606061              23.312500\n",
       "50%               24.852941              24.468750\n",
       "75%               26.107143              25.687500\n",
       "max               30.939394              30.939394"
      ]
     },
     "execution_count": 65,
     "metadata": {},
     "output_type": "execute_result"
    }
   ],
   "source": [
    "df_winlose_tourney[['DefensiveReboundsWin', 'DefensiveReboundsLose']].describe()"
   ]
  },
  {
   "cell_type": "markdown",
   "metadata": {},
   "source": [
    "#### Boxplots"
   ]
  },
  {
   "cell_type": "code",
   "execution_count": 66,
   "metadata": {},
   "outputs": [
    {
     "data": {
      "text/plain": [
       "Text(0.5,0,u'Combined Defensive Rebounds, Winning Team Defensive Rebounds, Losing Team Defensive Rebounds')"
      ]
     },
     "execution_count": 66,
     "metadata": {},
     "output_type": "execute_result"
    },
    {
     "data": {
      "image/png": "[encoded data removed]",
      "text/plain": [
       "<matplotlib.figure.Figure at 0x1a064550>"
      ]
     },
     "metadata": {},
     "output_type": "display_data"
    }
   ],
   "source": [
    "data = [df_tourney['DefensiveRebounds_Team'], df_winlose_tourney['DefensiveReboundsWin'], df_winlose_tourney['DefensiveReboundsLose']]\n",
    "plt.figure()\n",
    "plt.boxplot(data)\n",
    "plt.title('Boxplot for Defensive Rebounds in Tournament')\n",
    "plt.xlabel('Combined Defensive Rebounds, Winning Team Defensive Rebounds, Losing Team Defensive Rebounds')"
   ]
  },
  {
   "cell_type": "markdown",
   "metadata": {},
   "source": [
    "#### Histogram"
   ]
  },
  {
   "cell_type": "code",
   "execution_count": 67,
   "metadata": {},
   "outputs": [
    {
     "data": {
      "text/plain": [
       "Text(0.5,1,u'Defensive Rebounds of Winning Team v. Losing Team')"
      ]
     },
     "execution_count": 67,
     "metadata": {},
     "output_type": "execute_result"
    },
    {
     "data": {
      "image/png": "[encoded data removed]",
      "text/plain": [
       "<matplotlib.figure.Figure at 0x1a064630>"
      ]
     },
     "metadata": {},
     "output_type": "display_data"
    }
   ],
   "source": [
    "fig, axes = plt.subplots(nrows=1, ncols=1)\n",
    "\n",
    "labels = ['Defensive Rebounds for Winning Team', 'Defensive Rebounds for Losing Team']\n",
    "colors = ['red', 'blue']\n",
    "\n",
    "axes.hist([df_winlose_tourney['DefensiveReboundsWin'], df_winlose_tourney['DefensiveReboundsLose']], 100, histtype='step', fill=False, label=labels, color=colors)\n",
    "axes.legend(bbox_to_anchor=(1.05, 1), loc=2, borderaxespad=0.)\n",
    "axes.set_title('Defensive Rebounds of Winning Team v. Losing Team')"
   ]
  },
  {
   "cell_type": "markdown",
   "metadata": {},
   "source": [
    "#### Two Independent Samples T-Test"
   ]
  },
  {
   "cell_type": "code",
   "execution_count": 68,
   "metadata": {},
   "outputs": [
    {
     "name": "stdout",
     "output_type": "stream",
     "text": [
      "ttest_ind: t = 5.93  p = 0.0000\n"
     ]
    }
   ],
   "source": [
    "t, p = ttest_ind(df_winlose_tourney['DefensiveReboundsWin'], df_winlose_tourney['DefensiveReboundsLose'], equal_var=True)\n",
    "print(\"ttest_ind: t = {0:.2f}  p = {1:.4f}\".format(t, p))"
   ]
  },
  {
   "cell_type": "markdown",
   "metadata": {},
   "source": [
    "#### Correlation Between (DefensiveRebounds_Team - DefensiveRebounds_Opponent) and Outcome"
   ]
  },
  {
   "cell_type": "code",
   "execution_count": 69,
   "metadata": {},
   "outputs": [
    {
     "name": "stdout",
     "output_type": "stream",
     "text": [
      "The correlation is: 0.14\n"
     ]
    }
   ],
   "source": [
    "df_corr = pd.DataFrame({'Outcome':df_tourney['Outcome']})\n",
    "df_corr['DefensiveReboundsDifference'] = df_tourney['DefensiveRebounds_Team'] - df_tourney['DefensiveRebounds_Opponent']\n",
    "\n",
    "print 'The correlation is: {0:.2f}'.format(df_corr.corr().iloc[0,1])"
   ]
  },
  {
   "cell_type": "markdown",
   "metadata": {},
   "source": [
    "### Analysis"
   ]
  },
  {
   "cell_type": "markdown",
   "metadata": {},
   "source": [
    "The mean defensive rebounds for the regular season is 23.6 whereas the mean defensive rebounds in the tournament is 24.7, so the defensive rebounding is better for tournament teams, which makes sense.\n",
    "\n",
    "For the regular season, the difference between the mean defensive rebounding of winning teams (23.9) v. losing teams (23.2) is about 0.6, and is statistically significant.  The correlation between the defensive rebounding of the teams and the outcome of the game (win/lose) is 0.25, which indicates a weak linear relationship.\n",
    "\n",
    "For the tournament, the difference between the mean defensive rebounding of winning teams (24.9) v. losing teams (24.5) is about 0.3, and is statistically significant.  The correlation between the defensive rebounding of the teams and the outcome of the game (win/lose) is 0.14, which is a weak linear relationship.\n",
    "\n",
    "This feature may provide some benefit to predicting the outcome of tournament games, especially the early games, which are more similar to regular season games."
   ]
  },
  {
   "cell_type": "markdown",
   "metadata": {},
   "source": [
    "## Conclusion"
   ]
  },
  {
   "cell_type": "markdown",
   "metadata": {},
   "source": [
    "As seen from the analysis, tournament games are played by higher caliber teams, so the game statistics are higher for those teams, and the statistical spreads between the teams are narrower.  Games earlier in the tournament have a greater proportion of teams that are statistically unbalanced, and it is these games that can take advantage of features highlighted in this analysis.\n",
    "\n",
    "Of the features considered, all features except free throw shooting (for tournament games) show a statistically significant difference between winning and losing teams.  Note that only two point shooting percent, offensive and defensive rebounding have a weak correlation with the outcome of the game.  Three point shooting percent and free throw shooting percent have no correlation with the game outcome.\n",
    "\n",
    "Therefore the model might consider the following features:\n",
    "* The average two point shooting percentage of teams per season.\n",
    "* The average offensive rebounds of teams per season.\n",
    "* The average defensive rebounds of teams per season.\n",
    "\n",
    "and should not consider the following features:\n",
    "* The average three point shooting percentage of teams per season.\n",
    "* The average free throw shooting percentage of teams per season."
   ]
  }
 ],
 "metadata": {
  "kernelspec": {
   "display_name": "Python 2",
   "language": "python",
   "name": "python2"
  },
  "language_info": {
   "codemirror_mode": {
    "name": "ipython",
    "version": 2
   },
   "file_extension": ".py",
   "mimetype": "text/x-python",
   "name": "python",
   "nbconvert_exporter": "python",
   "pygments_lexer": "ipython2",
   "version": "2.7.14"
  }
 },
 "nbformat": 4,
 "nbformat_minor": 2
}
