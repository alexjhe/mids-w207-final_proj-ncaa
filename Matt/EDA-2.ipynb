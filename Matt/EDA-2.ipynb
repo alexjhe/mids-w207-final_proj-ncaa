{
 "cells": [
  {
   "cell_type": "markdown",
   "metadata": {},
   "source": [
    "# EDA of Average Team Statistics"
   ]
  },
  {
   "cell_type": "markdown",
   "metadata": {},
   "source": [
    "## Overview\n",
    "\n",
    "This EDA will look into the following statistics:  \n",
    "  \n",
    "* The average two point shooting percentage of teams per season.\n",
    "* The average three point shooting percentage of teams per season.\n",
    "* The average free throw shooting percentage of teams per season.\n",
    "* The average offensive rebounds of teams per season.\n",
    "* The average defensive rebounds of teams per season."
   ]
  },
  {
   "cell_type": "markdown",
   "metadata": {},
   "source": [
    "### Discussion of the data\n",
    "  \n",
    "Kaggle provided statistics about every NCAA division 1 game played between the 2003 and 2018 seasons, inclusive, in the RegSeasonDetailedResults csv file.  \n",
    "\n",
    "RegSeasonDetailedResults has the following fields.  The 'W' means the winning team, and there is a similar set for the losing team that starts with 'L':\n",
    "\n",
    "| Field | Meaning |\n",
    "|:-----------|:------------|\n",
    "|WFGM|field goals made|\n",
    "|WFGA|field goals attempted|\n",
    "|WFGM3|three pointers made|\n",
    "|WFGA3|three pointers attempted|\n",
    "|WFTM|free throws made|\n",
    "|WFTA|free throws attempted|\n",
    "|WOR|offensive rebounds|\n",
    "|WDR|defensive rebounds|\n",
    "|WAst|assists|\n",
    "|WTO|turnovers committed|\n",
    "|WStl|steals|\n",
    "|WBlk|blocks|\n",
    "|WPF|personal fouls committed|\n",
    "\n",
    "The RegSeasonDetailedResults data set did not have two point shooting statistics, so this information had to be calculated by subtracting the total number of three point shots from the total number of field goals.\n",
    "\n",
    "Using this data set, it is possible to get average statistics for each team by first splitting the winning and losing team stats into a combined table, and then grouping the data by season and team.\n",
    "\n",
    "An update query was used to calculate yearly average statistics in a temp table, and this information was populated in the 'features' table by joining it with the temp table."
   ]
  },
  {
   "cell_type": "markdown",
   "metadata": {},
   "source": [
    "## Data Preparation"
   ]
  },
  {
   "cell_type": "code",
   "execution_count": 70,
   "metadata": {
    "collapsed": true
   },
   "outputs": [],
   "source": [
    "import psycopg2 as pg\n",
    "import numpy as np\n",
    "import pandas as pd\n",
    "import matplotlib.pyplot as plt\n",
    "%matplotlib inline\n",
    "from scipy.stats import ttest_ind, ttest_ind_from_stats\n",
    "from sqlalchemy import create_engine"
   ]
  },
  {
   "cell_type": "code",
   "execution_count": 71,
   "metadata": {
    "collapsed": true
   },
   "outputs": [],
   "source": [
    "# Establish connection to postgres\n",
    "conn = pg.connect(database='postgres',\n",
    "                  user='postgres',\n",
    "                  password='w207final',\n",
    "                  host='35.185.225.167')"
   ]
  },
  {
   "cell_type": "code",
   "execution_count": 72,
   "metadata": {
    "collapsed": true
   },
   "outputs": [],
   "source": [
    "# Select all the rows from the 'features' table except the 2018 tournament\n",
    "query1 = ''' SELECT * FROM prod.\"features\" WHERE \"Season Type\" = 'Regular' '''\n",
    "query2 = ''' SELECT * FROM prod.\"features_tournament\" WHERE \"Season\" != 2018 '''\n",
    "df_stats = pd.read_sql_query(query1, conn)\n",
    "df_stats_tournament = pd.read_sql_query(query2, conn)\n",
    "conn.close()"
   ]
  },
  {
   "cell_type": "code",
   "execution_count": 73,
   "metadata": {
    "collapsed": true
   },
   "outputs": [],
   "source": [
    "# Remove rows with NaN:\n",
    "df_stats = df_stats.dropna(subset=['TwoPointPct_Team', 'ThreePointPct_Team', 'FreeThrowPct_Team', 'OffensiveRebounds_Team', 'DefensiveRebounds_Team', 'TwoPointPct_Opponent', 'ThreePointPct_Opponent', 'FreeThrowPct_Opponent', 'OffensiveRebounds_Opponent', 'DefensiveRebounds_Opponent'])\n",
    "df_stats_tournament = df_stats_tournament.dropna(subset=['TwoPointPct_Team', 'ThreePointPct_Team', 'FreeThrowPct_Team', 'OffensiveRebounds_Team', 'DefensiveRebounds_Team', 'TwoPointPct_Opponent', 'ThreePointPct_Opponent', 'FreeThrowPct_Opponent', 'OffensiveRebounds_Opponent', 'DefensiveRebounds_Opponent'])"
   ]
  },
  {
   "cell_type": "code",
   "execution_count": 74,
   "metadata": {},
   "outputs": [
    {
     "data": {
      "text/plain": [
       "Index([u'Season', u'DayNum', u'Team', u'Opponent', u'Outcome', u'Score',\n",
       "       u'OpponentScore', u'NumOT', u'WLoc', u'Season Type', u'holdout_s1',\n",
       "       u'holdout_s2', u'AvgRank', u'OpponentAvgRank', u'TwoPointPct_Team',\n",
       "       u'ThreePointPct_Team', u'FreeThrowPct_Team', u'OffensiveRebounds_Team',\n",
       "       u'DefensiveRebounds_Team', u'TwoPointPct_Opponent',\n",
       "       u'ThreePointPct_Opponent', u'FreeThrowPct_Opponent',\n",
       "       u'OffensiveRebounds_Opponent', u'DefensiveRebounds_Opponent', u'WinPct',\n",
       "       u'OpponentWinPct', u'WinPctDiff', u'AvgPointsFor', u'AvgPointsAgainst',\n",
       "       u'AvgNetPointsFor', u'SeedDiff', u'OpponentAvgPointsFor',\n",
       "       u'OpponentAvgPointsAgainst', u'OpponentAvgNetPointsFor'],\n",
       "      dtype='object')"
      ]
     },
     "execution_count": 74,
     "metadata": {},
     "output_type": "execute_result"
    }
   ],
   "source": [
    "# Look at the columns of the data frame\n",
    "df_stats.columns"
   ]
  },
  {
   "cell_type": "markdown",
   "metadata": {},
   "source": [
    "Calculate Statistics for Winning Teams v. Losing Teams"
   ]
  },
  {
   "cell_type": "markdown",
   "metadata": {},
   "source": [
    "Create a winlose dataframe"
   ]
  },
  {
   "cell_type": "code",
   "execution_count": 75,
   "metadata": {
    "collapsed": true
   },
   "outputs": [],
   "source": [
    "df_winlose = pd.DataFrame(data={'Season Type':df_stats['Season Type'],\n",
    "                                'Outcome':df_stats['Outcome'],\n",
    "                                'TwoPointPctWin':np.zeros(len(df_stats)),\n",
    "                                'TwoPointPctLose':np.zeros(len(df_stats)),\n",
    "                                'ThreePointPctWin':np.zeros(len(df_stats)),\n",
    "                                'ThreePointPctLose':np.zeros(len(df_stats)),\n",
    "                                'FreeThrowPctWin':np.zeros(len(df_stats)),\n",
    "                                'FreeThrowPctLose':np.zeros(len(df_stats)),\n",
    "                                'OffensiveReboundsWin':np.zeros(len(df_stats)),\n",
    "                                'OffensiveReboundsLose':np.zeros(len(df_stats)),\n",
    "                                'DefensiveReboundsWin':np.zeros(len(df_stats)),\n",
    "                                'DefensiveReboundsLose':np.zeros(len(df_stats))})\n",
    "\n",
    "df_winlose_tournament = pd.DataFrame(data={'Season Type':df_stats_tournament['Season Type'],\n",
    "                                'Outcome':df_stats_tournament['Outcome'],\n",
    "                                'TwoPointPctWin':np.zeros(len(df_stats_tournament)),\n",
    "                                'TwoPointPctLose':np.zeros(len(df_stats_tournament)),\n",
    "                                'ThreePointPctWin':np.zeros(len(df_stats_tournament)),\n",
    "                                'ThreePointPctLose':np.zeros(len(df_stats_tournament)),\n",
    "                                'FreeThrowPctWin':np.zeros(len(df_stats_tournament)),\n",
    "                                'FreeThrowPctLose':np.zeros(len(df_stats_tournament)),\n",
    "                                'OffensiveReboundsWin':np.zeros(len(df_stats_tournament)),\n",
    "                                'OffensiveReboundsLose':np.zeros(len(df_stats_tournament)),\n",
    "                                'DefensiveReboundsWin':np.zeros(len(df_stats_tournament)),\n",
    "                                'DefensiveReboundsLose':np.zeros(len(df_stats_tournament))})"
   ]
  },
  {
   "cell_type": "markdown",
   "metadata": {},
   "source": [
    "Create a data set for determining the statistics for the winning teams and losing teams."
   ]
  },
  {
   "cell_type": "code",
   "execution_count": 76,
   "metadata": {
    "collapsed": true
   },
   "outputs": [],
   "source": [
    "df_winlose.loc[df_stats['Outcome'] == 1, 'TwoPointPctWin'] = df_stats[df_stats['Outcome'] == 1]['TwoPointPct_Team']\n",
    "df_winlose.loc[df_stats['Outcome'] == 0, 'TwoPointPctWin'] = df_stats[df_stats['Outcome'] == 0]['TwoPointPct_Opponent']\n",
    "df_winlose.loc[df_stats['Outcome'] == 1, 'TwoPointPctLose'] = df_stats[df_stats['Outcome'] == 1]['TwoPointPct_Opponent']\n",
    "df_winlose.loc[df_stats['Outcome'] == 0, 'TwoPointPctLose'] = df_stats[df_stats['Outcome'] == 0]['TwoPointPct_Team']\n",
    "df_winlose.loc[df_stats['Outcome'] == 1, 'ThreePointPctWin'] = df_stats[df_stats['Outcome'] == 1]['ThreePointPct_Team']\n",
    "df_winlose.loc[df_stats['Outcome'] == 0, 'ThreePointPctWin'] = df_stats[df_stats['Outcome'] == 0]['ThreePointPct_Opponent']\n",
    "df_winlose.loc[df_stats['Outcome'] == 1, 'ThreePointPctLose'] = df_stats[df_stats['Outcome'] == 1]['ThreePointPct_Opponent']\n",
    "df_winlose.loc[df_stats['Outcome'] == 0, 'ThreePointPctLose'] = df_stats[df_stats['Outcome'] == 0]['ThreePointPct_Team']\n",
    "df_winlose.loc[df_stats['Outcome'] == 1, 'FreeThrowPctWin'] = df_stats[df_stats['Outcome'] == 1]['FreeThrowPct_Team']\n",
    "df_winlose.loc[df_stats['Outcome'] == 0, 'FreeThrowPctWin'] = df_stats[df_stats['Outcome'] == 0]['FreeThrowPct_Opponent']\n",
    "df_winlose.loc[df_stats['Outcome'] == 1, 'FreeThrowPctLose'] = df_stats[df_stats['Outcome'] == 1]['FreeThrowPct_Opponent']\n",
    "df_winlose.loc[df_stats['Outcome'] == 0, 'FreeThrowPctLose'] = df_stats[df_stats['Outcome'] == 0]['FreeThrowPct_Team']\n",
    "df_winlose.loc[df_stats['Outcome'] == 1, 'OffensiveReboundsWin'] = df_stats[df_stats['Outcome'] == 1]['OffensiveRebounds_Team']\n",
    "df_winlose.loc[df_stats['Outcome'] == 0, 'OffensiveReboundsWin'] = df_stats[df_stats['Outcome'] == 0]['OffensiveRebounds_Opponent']\n",
    "df_winlose.loc[df_stats['Outcome'] == 1, 'OffensiveReboundsLose'] = df_stats[df_stats['Outcome'] == 1]['OffensiveRebounds_Opponent']\n",
    "df_winlose.loc[df_stats['Outcome'] == 0, 'OffensiveReboundsLose'] = df_stats[df_stats['Outcome'] == 0]['OffensiveRebounds_Team']\n",
    "df_winlose.loc[df_stats['Outcome'] == 1, 'DefensiveReboundsWin'] = df_stats[df_stats['Outcome'] == 1]['DefensiveRebounds_Team']\n",
    "df_winlose.loc[df_stats['Outcome'] == 0, 'DefensiveReboundsWin'] = df_stats[df_stats['Outcome'] == 0]['DefensiveRebounds_Opponent']\n",
    "df_winlose.loc[df_stats['Outcome'] == 1, 'DefensiveReboundsLose'] = df_stats[df_stats['Outcome'] == 1]['DefensiveRebounds_Opponent']\n",
    "df_winlose.loc[df_stats['Outcome'] == 0, 'DefensiveReboundsLose'] = df_stats[df_stats['Outcome'] == 0]['DefensiveRebounds_Team']"
   ]
  },
  {
   "cell_type": "code",
   "execution_count": 77,
   "metadata": {
    "collapsed": true
   },
   "outputs": [],
   "source": [
    "df_winlose_tournament.loc[df_stats_tournament['Outcome'] == 1, 'TwoPointPctWin'] = df_stats_tournament[df_stats_tournament['Outcome'] == 1]['TwoPointPct_Team']\n",
    "df_winlose_tournament.loc[df_stats_tournament['Outcome'] == 0, 'TwoPointPctWin'] = df_stats_tournament[df_stats_tournament['Outcome'] == 0]['TwoPointPct_Opponent']\n",
    "df_winlose_tournament.loc[df_stats_tournament['Outcome'] == 1, 'TwoPointPctLose'] = df_stats_tournament[df_stats_tournament['Outcome'] == 1]['TwoPointPct_Opponent']\n",
    "df_winlose_tournament.loc[df_stats_tournament['Outcome'] == 0, 'TwoPointPctLose'] = df_stats_tournament[df_stats_tournament['Outcome'] == 0]['TwoPointPct_Team']\n",
    "df_winlose_tournament.loc[df_stats_tournament['Outcome'] == 1, 'ThreePointPctWin'] = df_stats_tournament[df_stats_tournament['Outcome'] == 1]['ThreePointPct_Team']\n",
    "df_winlose_tournament.loc[df_stats_tournament['Outcome'] == 0, 'ThreePointPctWin'] = df_stats_tournament[df_stats_tournament['Outcome'] == 0]['ThreePointPct_Opponent']\n",
    "df_winlose_tournament.loc[df_stats_tournament['Outcome'] == 1, 'ThreePointPctLose'] = df_stats_tournament[df_stats_tournament['Outcome'] == 1]['ThreePointPct_Opponent']\n",
    "df_winlose_tournament.loc[df_stats_tournament['Outcome'] == 0, 'ThreePointPctLose'] = df_stats_tournament[df_stats_tournament['Outcome'] == 0]['ThreePointPct_Team']\n",
    "df_winlose_tournament.loc[df_stats_tournament['Outcome'] == 1, 'FreeThrowPctWin'] = df_stats_tournament[df_stats_tournament['Outcome'] == 1]['FreeThrowPct_Team']\n",
    "df_winlose_tournament.loc[df_stats_tournament['Outcome'] == 0, 'FreeThrowPctWin'] = df_stats_tournament[df_stats_tournament['Outcome'] == 0]['FreeThrowPct_Opponent']\n",
    "df_winlose_tournament.loc[df_stats_tournament['Outcome'] == 1, 'FreeThrowPctLose'] = df_stats_tournament[df_stats_tournament['Outcome'] == 1]['FreeThrowPct_Opponent']\n",
    "df_winlose_tournament.loc[df_stats_tournament['Outcome'] == 0, 'FreeThrowPctLose'] = df_stats_tournament[df_stats_tournament['Outcome'] == 0]['FreeThrowPct_Team']\n",
    "df_winlose_tournament.loc[df_stats_tournament['Outcome'] == 1, 'OffensiveReboundsWin'] = df_stats_tournament[df_stats_tournament['Outcome'] == 1]['OffensiveRebounds_Team']\n",
    "df_winlose_tournament.loc[df_stats_tournament['Outcome'] == 0, 'OffensiveReboundsWin'] = df_stats_tournament[df_stats_tournament['Outcome'] == 0]['OffensiveRebounds_Opponent']\n",
    "df_winlose_tournament.loc[df_stats_tournament['Outcome'] == 1, 'OffensiveReboundsLose'] = df_stats_tournament[df_stats_tournament['Outcome'] == 1]['OffensiveRebounds_Opponent']\n",
    "df_winlose_tournament.loc[df_stats_tournament['Outcome'] == 0, 'OffensiveReboundsLose'] = df_stats_tournament[df_stats_tournament['Outcome'] == 0]['OffensiveRebounds_Team']\n",
    "df_winlose_tournament.loc[df_stats_tournament['Outcome'] == 1, 'DefensiveReboundsWin'] = df_stats_tournament[df_stats_tournament['Outcome'] == 1]['DefensiveRebounds_Team']\n",
    "df_winlose_tournament.loc[df_stats_tournament['Outcome'] == 0, 'DefensiveReboundsWin'] = df_stats_tournament[df_stats_tournament['Outcome'] == 0]['DefensiveRebounds_Opponent']\n",
    "df_winlose_tournament.loc[df_stats_tournament['Outcome'] == 1, 'DefensiveReboundsLose'] = df_stats_tournament[df_stats_tournament['Outcome'] == 1]['DefensiveRebounds_Opponent']\n",
    "df_winlose_tournament.loc[df_stats_tournament['Outcome'] == 0, 'DefensiveReboundsLose'] = df_stats_tournament[df_stats_tournament['Outcome'] == 0]['DefensiveRebounds_Team']"
   ]
  },
  {
   "cell_type": "markdown",
   "metadata": {},
   "source": [
    "Get Data Sets for the Regular Season and Tournaments"
   ]
  },
  {
   "cell_type": "code",
   "execution_count": 78,
   "metadata": {
    "collapsed": true
   },
   "outputs": [],
   "source": [
    "#df_reg_season = df_stats[df_stats[\"Season Type\"] == \"Regular\"]\n",
    "#df_winlose_reg_season = df_winlose[df_winlose[\"Season Type\"] == \"Regular\"]\n",
    "df_reg_season = df_stats\n",
    "df_winlose_reg_season = df_winlose\n",
    "df_tourney = df_stats_tournament\n",
    "df_winlose_tourney = df_winlose_tournament"
   ]
  },
  {
   "cell_type": "markdown",
   "metadata": {},
   "source": [
    "## Average Two Point Shooting Percentage"
   ]
  },
  {
   "cell_type": "markdown",
   "metadata": {},
   "source": [
    "### Regular Season"
   ]
  },
  {
   "cell_type": "markdown",
   "metadata": {},
   "source": [
    "Descriptive Statistics for Two Point Shooting Percentages for the Regular Season"
   ]
  },
  {
   "cell_type": "code",
   "execution_count": 79,
   "metadata": {},
   "outputs": [
    {
     "data": {
      "text/html": [
       "<div>\n",
       "<style>\n",
       "    .dataframe thead tr:only-child th {\n",
       "        text-align: right;\n",
       "    }\n",
       "\n",
       "    .dataframe thead th {\n",
       "        text-align: left;\n",
       "    }\n",
       "\n",
       "    .dataframe tbody tr th {\n",
       "        vertical-align: top;\n",
       "    }\n",
       "</style>\n",
       "<table border=\"1\" class=\"dataframe\">\n",
       "  <thead>\n",
       "    <tr style=\"text-align: right;\">\n",
       "      <th></th>\n",
       "      <th>TwoPointPct_Team</th>\n",
       "    </tr>\n",
       "  </thead>\n",
       "  <tbody>\n",
       "    <tr>\n",
       "      <th>count</th>\n",
       "      <td>157378.000000</td>\n",
       "    </tr>\n",
       "    <tr>\n",
       "      <th>mean</th>\n",
       "      <td>0.483631</td>\n",
       "    </tr>\n",
       "    <tr>\n",
       "      <th>std</th>\n",
       "      <td>0.047523</td>\n",
       "    </tr>\n",
       "    <tr>\n",
       "      <th>min</th>\n",
       "      <td>0.136364</td>\n",
       "    </tr>\n",
       "    <tr>\n",
       "      <th>25%</th>\n",
       "      <td>0.455243</td>\n",
       "    </tr>\n",
       "    <tr>\n",
       "      <th>50%</th>\n",
       "      <td>0.483950</td>\n",
       "    </tr>\n",
       "    <tr>\n",
       "      <th>75%</th>\n",
       "      <td>0.512122</td>\n",
       "    </tr>\n",
       "    <tr>\n",
       "      <th>max</th>\n",
       "      <td>0.933333</td>\n",
       "    </tr>\n",
       "  </tbody>\n",
       "</table>\n",
       "</div>"
      ],
      "text/plain": [
       "       TwoPointPct_Team\n",
       "count     157378.000000\n",
       "mean           0.483631\n",
       "std            0.047523\n",
       "min            0.136364\n",
       "25%            0.455243\n",
       "50%            0.483950\n",
       "75%            0.512122\n",
       "max            0.933333"
      ]
     },
     "execution_count": 79,
     "metadata": {},
     "output_type": "execute_result"
    }
   ],
   "source": [
    "df_reg_season[['TwoPointPct_Team']].describe()"
   ]
  },
  {
   "cell_type": "markdown",
   "metadata": {},
   "source": [
    "Descriptive Statistics for TwoPointPctWin / TwoPointPctLose for the Regular Season"
   ]
  },
  {
   "cell_type": "code",
   "execution_count": 80,
   "metadata": {},
   "outputs": [
    {
     "data": {
      "text/html": [
       "<div>\n",
       "<style>\n",
       "    .dataframe thead tr:only-child th {\n",
       "        text-align: right;\n",
       "    }\n",
       "\n",
       "    .dataframe thead th {\n",
       "        text-align: left;\n",
       "    }\n",
       "\n",
       "    .dataframe tbody tr th {\n",
       "        vertical-align: top;\n",
       "    }\n",
       "</style>\n",
       "<table border=\"1\" class=\"dataframe\">\n",
       "  <thead>\n",
       "    <tr style=\"text-align: right;\">\n",
       "      <th></th>\n",
       "      <th>TwoPointPctWin</th>\n",
       "      <th>TwoPointPctLose</th>\n",
       "    </tr>\n",
       "  </thead>\n",
       "  <tbody>\n",
       "    <tr>\n",
       "      <th>count</th>\n",
       "      <td>157378.000000</td>\n",
       "      <td>157378.000000</td>\n",
       "    </tr>\n",
       "    <tr>\n",
       "      <th>mean</th>\n",
       "      <td>0.492538</td>\n",
       "      <td>0.474725</td>\n",
       "    </tr>\n",
       "    <tr>\n",
       "      <th>std</th>\n",
       "      <td>0.046501</td>\n",
       "      <td>0.046859</td>\n",
       "    </tr>\n",
       "    <tr>\n",
       "      <th>min</th>\n",
       "      <td>0.136364</td>\n",
       "      <td>0.137931</td>\n",
       "    </tr>\n",
       "    <tr>\n",
       "      <th>25%</th>\n",
       "      <td>0.464246</td>\n",
       "      <td>0.447398</td>\n",
       "    </tr>\n",
       "    <tr>\n",
       "      <th>50%</th>\n",
       "      <td>0.491865</td>\n",
       "      <td>0.475897</td>\n",
       "    </tr>\n",
       "    <tr>\n",
       "      <th>75%</th>\n",
       "      <td>0.519498</td>\n",
       "      <td>0.503299</td>\n",
       "    </tr>\n",
       "    <tr>\n",
       "      <th>max</th>\n",
       "      <td>0.875000</td>\n",
       "      <td>0.933333</td>\n",
       "    </tr>\n",
       "  </tbody>\n",
       "</table>\n",
       "</div>"
      ],
      "text/plain": [
       "       TwoPointPctWin  TwoPointPctLose\n",
       "count   157378.000000    157378.000000\n",
       "mean         0.492538         0.474725\n",
       "std          0.046501         0.046859\n",
       "min          0.136364         0.137931\n",
       "25%          0.464246         0.447398\n",
       "50%          0.491865         0.475897\n",
       "75%          0.519498         0.503299\n",
       "max          0.875000         0.933333"
      ]
     },
     "execution_count": 80,
     "metadata": {},
     "output_type": "execute_result"
    }
   ],
   "source": [
    "df_winlose_reg_season[['TwoPointPctWin', 'TwoPointPctLose']].describe()"
   ]
  },
  {
   "cell_type": "markdown",
   "metadata": {},
   "source": [
    "#### Boxplots"
   ]
  },
  {
   "cell_type": "code",
   "execution_count": 81,
   "metadata": {},
   "outputs": [
    {
     "data": {
      "text/plain": [
       "Text(0.5,0,u'Combined Shooting %, Winning Team Shooting %, Losing Team Shooting %')"
      ]
     },
     "execution_count": 81,
     "metadata": {},
     "output_type": "execute_result"
    },
    {
     "data": {
      "image/png": "[encoded data removed]",
      "text/plain": [
       "<matplotlib.figure.Figure at 0x1b1ec390>"
      ]
     },
     "metadata": {},
     "output_type": "display_data"
    }
   ],
   "source": [
    "data = [df_reg_season['TwoPointPct_Team'], df_winlose_reg_season['TwoPointPctWin'], df_winlose_reg_season['TwoPointPctLose']]\n",
    "plt.figure()\n",
    "plt.boxplot(data)\n",
    "plt.title('Boxplot for Two Point Shooting % in Regular Season')\n",
    "plt.xlabel('Combined Shooting %, Winning Team Shooting %, Losing Team Shooting %')"
   ]
  },
  {
   "cell_type": "markdown",
   "metadata": {},
   "source": [
    "#### Histogram"
   ]
  },
  {
   "cell_type": "code",
   "execution_count": 82,
   "metadata": {},
   "outputs": [
    {
     "data": {
      "text/plain": [
       "Text(0.5,1,u'Two Point % of Winning Team v. Losing Team')"
      ]
     },
     "execution_count": 82,
     "metadata": {},
     "output_type": "execute_result"
    },
    {
     "data": {
      "image/png": "[encoded data removed]",
      "text/plain": [
       "<matplotlib.figure.Figure at 0x1c88a630>"
      ]
     },
     "metadata": {},
     "output_type": "display_data"
    }
   ],
   "source": [
    "fig, axes = plt.subplots(nrows=1, ncols=1)\n",
    "\n",
    "labels = ['Two Point Pct for Winning Team', 'Two Point Pct for Losing Team']\n",
    "colors = ['red', 'blue']\n",
    "\n",
    "axes.hist([df_winlose_reg_season['TwoPointPctWin'], df_winlose_reg_season['TwoPointPctLose']], 100, histtype='step', fill=False, label=labels, color=colors)\n",
    "axes.legend(bbox_to_anchor=(1.05, 1), loc=2, borderaxespad=0.)\n",
    "axes.set_title('Two Point % of Winning Team v. Losing Team')"
   ]
  },
  {
   "cell_type": "markdown",
   "metadata": {},
   "source": [
    "#### Two Independent Samples T-Test"
   ]
  },
  {
   "cell_type": "code",
   "execution_count": 83,
   "metadata": {},
   "outputs": [
    {
     "name": "stdout",
     "output_type": "stream",
     "text": [
      "ttest_ind: t = 107.05  p = 0.0000\n"
     ]
    }
   ],
   "source": [
    "t, p = ttest_ind(df_winlose_reg_season['TwoPointPctWin'], df_winlose_reg_season['TwoPointPctLose'], equal_var=True)\n",
    "print(\"ttest_ind: t = {0:.2f}  p = {1:.4f}\".format(t, p))"
   ]
  },
  {
   "cell_type": "markdown",
   "metadata": {},
   "source": [
    "#### Correlation Between (TwoPointPct_Team - TwoPointPct_Opponent) and Outcome"
   ]
  },
  {
   "cell_type": "code",
   "execution_count": 84,
   "metadata": {},
   "outputs": [
    {
     "name": "stdout",
     "output_type": "stream",
     "text": [
      "The correlation is: 0.28\n"
     ]
    }
   ],
   "source": [
    "df_corr = pd.DataFrame({'Outcome':df_reg_season['Outcome']})\n",
    "df_corr['TwoPointDifference'] = df_reg_season['TwoPointPct_Team'] - df_reg_season['TwoPointPct_Opponent']\n",
    "\n",
    "print 'The correlation is: {0:.2f}'.format(df_corr.corr().iloc[0,1])"
   ]
  },
  {
   "cell_type": "markdown",
   "metadata": {},
   "source": [
    "### Tournament"
   ]
  },
  {
   "cell_type": "markdown",
   "metadata": {},
   "source": [
    "Descriptive Statistics for Two Point Shooting Percentages for the Tournament"
   ]
  },
  {
   "cell_type": "code",
   "execution_count": 85,
   "metadata": {},
   "outputs": [
    {
     "data": {
      "text/html": [
       "<div>\n",
       "<style>\n",
       "    .dataframe thead tr:only-child th {\n",
       "        text-align: right;\n",
       "    }\n",
       "\n",
       "    .dataframe thead th {\n",
       "        text-align: left;\n",
       "    }\n",
       "\n",
       "    .dataframe tbody tr th {\n",
       "        vertical-align: top;\n",
       "    }\n",
       "</style>\n",
       "<table border=\"1\" class=\"dataframe\">\n",
       "  <thead>\n",
       "    <tr style=\"text-align: right;\">\n",
       "      <th></th>\n",
       "      <th>TwoPointPct_Team</th>\n",
       "    </tr>\n",
       "  </thead>\n",
       "  <tbody>\n",
       "    <tr>\n",
       "      <th>count</th>\n",
       "      <td>930.000000</td>\n",
       "    </tr>\n",
       "    <tr>\n",
       "      <th>mean</th>\n",
       "      <td>0.526880</td>\n",
       "    </tr>\n",
       "    <tr>\n",
       "      <th>std</th>\n",
       "      <td>0.078962</td>\n",
       "    </tr>\n",
       "    <tr>\n",
       "      <th>min</th>\n",
       "      <td>0.236842</td>\n",
       "    </tr>\n",
       "    <tr>\n",
       "      <th>25%</th>\n",
       "      <td>0.472222</td>\n",
       "    </tr>\n",
       "    <tr>\n",
       "      <th>50%</th>\n",
       "      <td>0.524405</td>\n",
       "    </tr>\n",
       "    <tr>\n",
       "      <th>75%</th>\n",
       "      <td>0.579419</td>\n",
       "    </tr>\n",
       "    <tr>\n",
       "      <th>max</th>\n",
       "      <td>0.800000</td>\n",
       "    </tr>\n",
       "  </tbody>\n",
       "</table>\n",
       "</div>"
      ],
      "text/plain": [
       "       TwoPointPct_Team\n",
       "count        930.000000\n",
       "mean           0.526880\n",
       "std            0.078962\n",
       "min            0.236842\n",
       "25%            0.472222\n",
       "50%            0.524405\n",
       "75%            0.579419\n",
       "max            0.800000"
      ]
     },
     "execution_count": 85,
     "metadata": {},
     "output_type": "execute_result"
    }
   ],
   "source": [
    "df_tourney[['TwoPointPct_Team']].describe()"
   ]
  },
  {
   "cell_type": "markdown",
   "metadata": {},
   "source": [
    "Descriptive Statistics for TwoPointPctWin / TwoPointPctLose for the Tournament"
   ]
  },
  {
   "cell_type": "code",
   "execution_count": 86,
   "metadata": {},
   "outputs": [
    {
     "data": {
      "text/html": [
       "<div>\n",
       "<style>\n",
       "    .dataframe thead tr:only-child th {\n",
       "        text-align: right;\n",
       "    }\n",
       "\n",
       "    .dataframe thead th {\n",
       "        text-align: left;\n",
       "    }\n",
       "\n",
       "    .dataframe tbody tr th {\n",
       "        vertical-align: top;\n",
       "    }\n",
       "</style>\n",
       "<table border=\"1\" class=\"dataframe\">\n",
       "  <thead>\n",
       "    <tr style=\"text-align: right;\">\n",
       "      <th></th>\n",
       "      <th>TwoPointPctWin</th>\n",
       "      <th>TwoPointPctLose</th>\n",
       "    </tr>\n",
       "  </thead>\n",
       "  <tbody>\n",
       "    <tr>\n",
       "      <th>count</th>\n",
       "      <td>930.000000</td>\n",
       "      <td>930.000000</td>\n",
       "    </tr>\n",
       "    <tr>\n",
       "      <th>mean</th>\n",
       "      <td>0.536062</td>\n",
       "      <td>0.517698</td>\n",
       "    </tr>\n",
       "    <tr>\n",
       "      <th>std</th>\n",
       "      <td>0.080106</td>\n",
       "      <td>0.076709</td>\n",
       "    </tr>\n",
       "    <tr>\n",
       "      <th>min</th>\n",
       "      <td>0.285714</td>\n",
       "      <td>0.236842</td>\n",
       "    </tr>\n",
       "    <tr>\n",
       "      <th>25%</th>\n",
       "      <td>0.482759</td>\n",
       "      <td>0.466667</td>\n",
       "    </tr>\n",
       "    <tr>\n",
       "      <th>50%</th>\n",
       "      <td>0.538462</td>\n",
       "      <td>0.513514</td>\n",
       "    </tr>\n",
       "    <tr>\n",
       "      <th>75%</th>\n",
       "      <td>0.589744</td>\n",
       "      <td>0.571895</td>\n",
       "    </tr>\n",
       "    <tr>\n",
       "      <th>max</th>\n",
       "      <td>0.800000</td>\n",
       "      <td>0.781250</td>\n",
       "    </tr>\n",
       "  </tbody>\n",
       "</table>\n",
       "</div>"
      ],
      "text/plain": [
       "       TwoPointPctWin  TwoPointPctLose\n",
       "count      930.000000       930.000000\n",
       "mean         0.536062         0.517698\n",
       "std          0.080106         0.076709\n",
       "min          0.285714         0.236842\n",
       "25%          0.482759         0.466667\n",
       "50%          0.538462         0.513514\n",
       "75%          0.589744         0.571895\n",
       "max          0.800000         0.781250"
      ]
     },
     "execution_count": 86,
     "metadata": {},
     "output_type": "execute_result"
    }
   ],
   "source": [
    "df_winlose_tourney[['TwoPointPctWin', 'TwoPointPctLose']].describe()"
   ]
  },
  {
   "cell_type": "markdown",
   "metadata": {},
   "source": [
    "#### Boxplots"
   ]
  },
  {
   "cell_type": "code",
   "execution_count": 87,
   "metadata": {},
   "outputs": [
    {
     "data": {
      "text/plain": [
       "Text(0.5,0,u'Combined Shooting %, Winning Team Shooting %, Losing Team Shooting %')"
      ]
     },
     "execution_count": 87,
     "metadata": {},
     "output_type": "execute_result"
    },
    {
     "data": {
      "image/png": "[encoded data removed]",
      "text/plain": [
       "<matplotlib.figure.Figure at 0x1cad6f60>"
      ]
     },
     "metadata": {},
     "output_type": "display_data"
    }
   ],
   "source": [
    "data = [df_tourney['TwoPointPct_Team'], df_winlose_tourney['TwoPointPctWin'], df_winlose_tourney['TwoPointPctLose']]\n",
    "plt.figure()\n",
    "plt.boxplot(data)\n",
    "plt.title('Boxplot for Two Point Shooting % in Tournament')\n",
    "plt.xlabel('Combined Shooting %, Winning Team Shooting %, Losing Team Shooting %')"
   ]
  },
  {
   "cell_type": "markdown",
   "metadata": {},
   "source": [
    "#### Histogram"
   ]
  },
  {
   "cell_type": "code",
   "execution_count": 88,
   "metadata": {},
   "outputs": [
    {
     "data": {
      "text/plain": [
       "Text(0.5,1,u'Two Point % of Winning Team v. Losing Team')"
      ]
     },
     "execution_count": 88,
     "metadata": {},
     "output_type": "execute_result"
    },
    {
     "data": {
      "image/png": "[encoded data removed]",
      "text/plain": [
       "<matplotlib.figure.Figure at 0x1cad6400>"
      ]
     },
     "metadata": {},
     "output_type": "display_data"
    }
   ],
   "source": [
    "fig, axes = plt.subplots(nrows=1, ncols=1)\n",
    "\n",
    "labels = ['Two Point Pct for Winning Team', 'Two Point Pct for Losing Team']\n",
    "colors = ['red', 'blue']\n",
    "\n",
    "axes.hist([df_winlose_tourney['TwoPointPctWin'], df_winlose_tourney['TwoPointPctLose']], 100, histtype='step', fill=False, label=labels, color=colors)\n",
    "axes.legend(bbox_to_anchor=(1.05, 1), loc=2, borderaxespad=0.)\n",
    "axes.set_title('Two Point % of Winning Team v. Losing Team')"
   ]
  },
  {
   "cell_type": "markdown",
   "metadata": {},
   "source": [
    "#### Two Independent Samples T-Test"
   ]
  },
  {
   "cell_type": "code",
   "execution_count": 89,
   "metadata": {},
   "outputs": [
    {
     "name": "stdout",
     "output_type": "stream",
     "text": [
      "ttest_ind: t = 5.05  p = 0.0000\n"
     ]
    }
   ],
   "source": [
    "t, p = ttest_ind(df_winlose_tourney['TwoPointPctWin'], df_winlose_tourney['TwoPointPctLose'], equal_var=True)\n",
    "print(\"ttest_ind: t = {0:.2f}  p = {1:.4f}\".format(t, p))"
   ]
  },
  {
   "cell_type": "markdown",
   "metadata": {},
   "source": [
    "#### Correlation Between (TwoPointPct_Team - TwoPointPct_Opponent) and Outcome"
   ]
  },
  {
   "cell_type": "code",
   "execution_count": 90,
   "metadata": {},
   "outputs": [
    {
     "name": "stdout",
     "output_type": "stream",
     "text": [
      "The correlation is: 0.16\n"
     ]
    }
   ],
   "source": [
    "df_corr = pd.DataFrame({'Outcome':df_tourney['Outcome']})\n",
    "df_corr['TwoPointDifference'] = df_tourney['TwoPointPct_Team'] - df_tourney['TwoPointPct_Opponent']\n",
    "\n",
    "print 'The correlation is: {0:.2f}'.format(df_corr.corr().iloc[0,1])"
   ]
  },
  {
   "cell_type": "markdown",
   "metadata": {},
   "source": [
    "### Analysis"
   ]
  },
  {
   "cell_type": "markdown",
   "metadata": {},
   "source": [
    "The mean two point shooting percent for the regular season is 48.4% whereas the mean two point shooting percent in the tournament is 52.7%, so the two point shooting percentage is better for tournament teams, which makes sense.  \n",
    "\n",
    "For the regular season, the difference between the mean two point shooting percentage of winning teams (49.3%) v. losing teams (47.3%) is about 2%, and is statistically significant.  The correlation between the two point shooting of the teams and the outcome of the game (win/lose) is 0.28, which indicates a weak linear relationship.\n",
    "\n",
    "For the tournament, the difference between the mean two point shooting percentage of winning teams (53.6%) v. losing teams (51.8%) is about 1.8%, which is small, but it is statistically significant.  The correlation between the two point shooting of the teams and the outcome of the game (win/lose) is 0.16, which indicates a very weak linear relationship.\n",
    "\n",
    "Therefore, the two point shooting percentage may provide some benefit in predicting the outcome of early tournament games, which are more similar to regular season games."
   ]
  },
  {
   "cell_type": "markdown",
   "metadata": {
    "collapsed": true
   },
   "source": [
    "## Average Three Point Shooting Percentage"
   ]
  },
  {
   "cell_type": "markdown",
   "metadata": {},
   "source": [
    "### Regular Season"
   ]
  },
  {
   "cell_type": "markdown",
   "metadata": {},
   "source": [
    "Descriptive Statistics for Three Point Shooting Percentages for the Regular Season"
   ]
  },
  {
   "cell_type": "code",
   "execution_count": 91,
   "metadata": {},
   "outputs": [
    {
     "data": {
      "text/html": [
       "<div>\n",
       "<style>\n",
       "    .dataframe thead tr:only-child th {\n",
       "        text-align: right;\n",
       "    }\n",
       "\n",
       "    .dataframe thead th {\n",
       "        text-align: left;\n",
       "    }\n",
       "\n",
       "    .dataframe tbody tr th {\n",
       "        vertical-align: top;\n",
       "    }\n",
       "</style>\n",
       "<table border=\"1\" class=\"dataframe\">\n",
       "  <thead>\n",
       "    <tr style=\"text-align: right;\">\n",
       "      <th></th>\n",
       "      <th>ThreePointPct_Team</th>\n",
       "    </tr>\n",
       "  </thead>\n",
       "  <tbody>\n",
       "    <tr>\n",
       "      <th>count</th>\n",
       "      <td>157378.000000</td>\n",
       "    </tr>\n",
       "    <tr>\n",
       "      <th>mean</th>\n",
       "      <td>0.341971</td>\n",
       "    </tr>\n",
       "    <tr>\n",
       "      <th>std</th>\n",
       "      <td>0.047310</td>\n",
       "    </tr>\n",
       "    <tr>\n",
       "      <th>min</th>\n",
       "      <td>0.000000</td>\n",
       "    </tr>\n",
       "    <tr>\n",
       "      <th>25%</th>\n",
       "      <td>0.315633</td>\n",
       "    </tr>\n",
       "    <tr>\n",
       "      <th>50%</th>\n",
       "      <td>0.342551</td>\n",
       "    </tr>\n",
       "    <tr>\n",
       "      <th>75%</th>\n",
       "      <td>0.369568</td>\n",
       "    </tr>\n",
       "    <tr>\n",
       "      <th>max</th>\n",
       "      <td>0.777778</td>\n",
       "    </tr>\n",
       "  </tbody>\n",
       "</table>\n",
       "</div>"
      ],
      "text/plain": [
       "       ThreePointPct_Team\n",
       "count       157378.000000\n",
       "mean             0.341971\n",
       "std              0.047310\n",
       "min              0.000000\n",
       "25%              0.315633\n",
       "50%              0.342551\n",
       "75%              0.369568\n",
       "max              0.777778"
      ]
     },
     "execution_count": 91,
     "metadata": {},
     "output_type": "execute_result"
    }
   ],
   "source": [
    "df_reg_season[['ThreePointPct_Team']].describe()"
   ]
  },
  {
   "cell_type": "markdown",
   "metadata": {},
   "source": [
    "Descriptive Statistics for ThreePointPctWin / ThreePointPctLose for the Regular Season"
   ]
  },
  {
   "cell_type": "code",
   "execution_count": 92,
   "metadata": {},
   "outputs": [
    {
     "data": {
      "text/html": [
       "<div>\n",
       "<style>\n",
       "    .dataframe thead tr:only-child th {\n",
       "        text-align: right;\n",
       "    }\n",
       "\n",
       "    .dataframe thead th {\n",
       "        text-align: left;\n",
       "    }\n",
       "\n",
       "    .dataframe tbody tr th {\n",
       "        vertical-align: top;\n",
       "    }\n",
       "</style>\n",
       "<table border=\"1\" class=\"dataframe\">\n",
       "  <thead>\n",
       "    <tr style=\"text-align: right;\">\n",
       "      <th></th>\n",
       "      <th>ThreePointPctWin</th>\n",
       "      <th>ThreePointPctLose</th>\n",
       "    </tr>\n",
       "  </thead>\n",
       "  <tbody>\n",
       "    <tr>\n",
       "      <th>count</th>\n",
       "      <td>157378.000000</td>\n",
       "      <td>157378.000000</td>\n",
       "    </tr>\n",
       "    <tr>\n",
       "      <th>mean</th>\n",
       "      <td>0.346723</td>\n",
       "      <td>0.337219</td>\n",
       "    </tr>\n",
       "    <tr>\n",
       "      <th>std</th>\n",
       "      <td>0.046782</td>\n",
       "      <td>0.047357</td>\n",
       "    </tr>\n",
       "    <tr>\n",
       "      <th>min</th>\n",
       "      <td>0.000000</td>\n",
       "      <td>0.000000</td>\n",
       "    </tr>\n",
       "    <tr>\n",
       "      <th>25%</th>\n",
       "      <td>0.320499</td>\n",
       "      <td>0.310811</td>\n",
       "    </tr>\n",
       "    <tr>\n",
       "      <th>50%</th>\n",
       "      <td>0.347062</td>\n",
       "      <td>0.337886</td>\n",
       "    </tr>\n",
       "    <tr>\n",
       "      <th>75%</th>\n",
       "      <td>0.373942</td>\n",
       "      <td>0.364864</td>\n",
       "    </tr>\n",
       "    <tr>\n",
       "      <th>max</th>\n",
       "      <td>0.777778</td>\n",
       "      <td>0.750000</td>\n",
       "    </tr>\n",
       "  </tbody>\n",
       "</table>\n",
       "</div>"
      ],
      "text/plain": [
       "       ThreePointPctWin  ThreePointPctLose\n",
       "count     157378.000000      157378.000000\n",
       "mean           0.346723           0.337219\n",
       "std            0.046782           0.047357\n",
       "min            0.000000           0.000000\n",
       "25%            0.320499           0.310811\n",
       "50%            0.347062           0.337886\n",
       "75%            0.373942           0.364864\n",
       "max            0.777778           0.750000"
      ]
     },
     "execution_count": 92,
     "metadata": {},
     "output_type": "execute_result"
    }
   ],
   "source": [
    "df_winlose_reg_season[['ThreePointPctWin', 'ThreePointPctLose']].describe()"
   ]
  },
  {
   "cell_type": "markdown",
   "metadata": {},
   "source": [
    "#### Boxplots"
   ]
  },
  {
   "cell_type": "code",
   "execution_count": 93,
   "metadata": {},
   "outputs": [
    {
     "data": {
      "text/plain": [
       "Text(0.5,0,u'Combined Shooting %, Winning Team Shooting %, Losing Team Shooting %')"
      ]
     },
     "execution_count": 93,
     "metadata": {},
     "output_type": "execute_result"
    },
    {
     "data": {
      "image/png": "[encoded data removed]",
      "text/plain": [
       "<matplotlib.figure.Figure at 0x1d1142b0>"
      ]
     },
     "metadata": {},
     "output_type": "display_data"
    }
   ],
   "source": [
    "data = [df_reg_season['ThreePointPct_Team'], df_winlose_reg_season['ThreePointPctWin'], df_winlose_reg_season['ThreePointPctLose']]\n",
    "plt.figure()\n",
    "plt.boxplot(data)\n",
    "plt.title('Boxplot for Three Point Shooting % in Regular Season')\n",
    "plt.xlabel('Combined Shooting %, Winning Team Shooting %, Losing Team Shooting %')"
   ]
  },
  {
   "cell_type": "markdown",
   "metadata": {},
   "source": [
    "#### Histogram"
   ]
  },
  {
   "cell_type": "code",
   "execution_count": 94,
   "metadata": {},
   "outputs": [
    {
     "data": {
      "text/plain": [
       "Text(0.5,1,u'Three Point % of Winning Team v. Losing Team')"
      ]
     },
     "execution_count": 94,
     "metadata": {},
     "output_type": "execute_result"
    },
    {
     "data": {
      "image/png": "[encoded data removed]",
      "text/plain": [
       "<matplotlib.figure.Figure at 0x1d344da0>"
      ]
     },
     "metadata": {},
     "output_type": "display_data"
    }
   ],
   "source": [
    "fig, axes = plt.subplots(nrows=1, ncols=1)\n",
    "\n",
    "labels = ['Three Point Pct for Winning Team', 'Three Point Pct for Losing Team']\n",
    "colors = ['red', 'blue']\n",
    "\n",
    "axes.hist([df_winlose_reg_season['ThreePointPctWin'], df_winlose_reg_season['ThreePointPctLose']], 100, histtype='step', fill=False, label=labels, color=colors)\n",
    "axes.legend(bbox_to_anchor=(1.05, 1), loc=2, borderaxespad=0.)\n",
    "axes.set_title('Three Point % of Winning Team v. Losing Team')"
   ]
  },
  {
   "cell_type": "markdown",
   "metadata": {},
   "source": [
    "#### Two Independent Samples T-Test"
   ]
  },
  {
   "cell_type": "code",
   "execution_count": 95,
   "metadata": {},
   "outputs": [
    {
     "name": "stdout",
     "output_type": "stream",
     "text": [
      "ttest_ind: t = 56.64  p = 0.0000\n"
     ]
    }
   ],
   "source": [
    "t, p = ttest_ind(df_winlose_reg_season['ThreePointPctWin'], df_winlose_reg_season['ThreePointPctLose'], equal_var=True)\n",
    "print(\"ttest_ind: t = {0:.2f}  p = {1:.4f}\".format(t, p))"
   ]
  },
  {
   "cell_type": "markdown",
   "metadata": {},
   "source": [
    "#### Correlation Between (ThreePointPct_Team - ThreePointPct_Opponent) and Outcome"
   ]
  },
  {
   "cell_type": "code",
   "execution_count": 96,
   "metadata": {},
   "outputs": [
    {
     "name": "stdout",
     "output_type": "stream",
     "text": [
      "The correlation is: 0.15\n"
     ]
    }
   ],
   "source": [
    "df_corr = pd.DataFrame({'Outcome':df_reg_season['Outcome']})\n",
    "df_corr['ThreePointDifference'] = df_reg_season['ThreePointPct_Team'] - df_reg_season['ThreePointPct_Opponent']\n",
    "\n",
    "print 'The correlation is: {0:.2f}'.format(df_corr.corr().iloc[0,1])"
   ]
  },
  {
   "cell_type": "markdown",
   "metadata": {},
   "source": [
    "### Tournament"
   ]
  },
  {
   "cell_type": "markdown",
   "metadata": {},
   "source": [
    "Descriptive Statistics for Three Point Shooting Percentages for the Tournament"
   ]
  },
  {
   "cell_type": "code",
   "execution_count": 97,
   "metadata": {},
   "outputs": [
    {
     "data": {
      "text/html": [
       "<div>\n",
       "<style>\n",
       "    .dataframe thead tr:only-child th {\n",
       "        text-align: right;\n",
       "    }\n",
       "\n",
       "    .dataframe thead th {\n",
       "        text-align: left;\n",
       "    }\n",
       "\n",
       "    .dataframe tbody tr th {\n",
       "        vertical-align: top;\n",
       "    }\n",
       "</style>\n",
       "<table border=\"1\" class=\"dataframe\">\n",
       "  <thead>\n",
       "    <tr style=\"text-align: right;\">\n",
       "      <th></th>\n",
       "      <th>ThreePointPct_Team</th>\n",
       "    </tr>\n",
       "  </thead>\n",
       "  <tbody>\n",
       "    <tr>\n",
       "      <th>count</th>\n",
       "      <td>930.000000</td>\n",
       "    </tr>\n",
       "    <tr>\n",
       "      <th>mean</th>\n",
       "      <td>0.384831</td>\n",
       "    </tr>\n",
       "    <tr>\n",
       "      <th>std</th>\n",
       "      <td>0.094416</td>\n",
       "    </tr>\n",
       "    <tr>\n",
       "      <th>min</th>\n",
       "      <td>0.000000</td>\n",
       "    </tr>\n",
       "    <tr>\n",
       "      <th>25%</th>\n",
       "      <td>0.331293</td>\n",
       "    </tr>\n",
       "    <tr>\n",
       "      <th>50%</th>\n",
       "      <td>0.384512</td>\n",
       "    </tr>\n",
       "    <tr>\n",
       "      <th>75%</th>\n",
       "      <td>0.442951</td>\n",
       "    </tr>\n",
       "    <tr>\n",
       "      <th>max</th>\n",
       "      <td>0.750000</td>\n",
       "    </tr>\n",
       "  </tbody>\n",
       "</table>\n",
       "</div>"
      ],
      "text/plain": [
       "       ThreePointPct_Team\n",
       "count          930.000000\n",
       "mean             0.384831\n",
       "std              0.094416\n",
       "min              0.000000\n",
       "25%              0.331293\n",
       "50%              0.384512\n",
       "75%              0.442951\n",
       "max              0.750000"
      ]
     },
     "execution_count": 97,
     "metadata": {},
     "output_type": "execute_result"
    }
   ],
   "source": [
    "df_tourney[['ThreePointPct_Team']].describe()"
   ]
  },
  {
   "cell_type": "markdown",
   "metadata": {},
   "source": [
    "Descriptive Statistics for ThreePointPctWin / ThreePointPctLose for the Tournament"
   ]
  },
  {
   "cell_type": "code",
   "execution_count": 98,
   "metadata": {},
   "outputs": [
    {
     "data": {
      "text/html": [
       "<div>\n",
       "<style>\n",
       "    .dataframe thead tr:only-child th {\n",
       "        text-align: right;\n",
       "    }\n",
       "\n",
       "    .dataframe thead th {\n",
       "        text-align: left;\n",
       "    }\n",
       "\n",
       "    .dataframe tbody tr th {\n",
       "        vertical-align: top;\n",
       "    }\n",
       "</style>\n",
       "<table border=\"1\" class=\"dataframe\">\n",
       "  <thead>\n",
       "    <tr style=\"text-align: right;\">\n",
       "      <th></th>\n",
       "      <th>ThreePointPctWin</th>\n",
       "      <th>ThreePointPctLose</th>\n",
       "    </tr>\n",
       "  </thead>\n",
       "  <tbody>\n",
       "    <tr>\n",
       "      <th>count</th>\n",
       "      <td>930.000000</td>\n",
       "      <td>930.000000</td>\n",
       "    </tr>\n",
       "    <tr>\n",
       "      <th>mean</th>\n",
       "      <td>0.383554</td>\n",
       "      <td>0.386108</td>\n",
       "    </tr>\n",
       "    <tr>\n",
       "      <th>std</th>\n",
       "      <td>0.095633</td>\n",
       "      <td>0.093165</td>\n",
       "    </tr>\n",
       "    <tr>\n",
       "      <th>min</th>\n",
       "      <td>0.000000</td>\n",
       "      <td>0.000000</td>\n",
       "    </tr>\n",
       "    <tr>\n",
       "      <th>25%</th>\n",
       "      <td>0.326028</td>\n",
       "      <td>0.333333</td>\n",
       "    </tr>\n",
       "    <tr>\n",
       "      <th>50%</th>\n",
       "      <td>0.380273</td>\n",
       "      <td>0.384615</td>\n",
       "    </tr>\n",
       "    <tr>\n",
       "      <th>75%</th>\n",
       "      <td>0.440000</td>\n",
       "      <td>0.444444</td>\n",
       "    </tr>\n",
       "    <tr>\n",
       "      <th>max</th>\n",
       "      <td>0.733333</td>\n",
       "      <td>0.750000</td>\n",
       "    </tr>\n",
       "  </tbody>\n",
       "</table>\n",
       "</div>"
      ],
      "text/plain": [
       "       ThreePointPctWin  ThreePointPctLose\n",
       "count        930.000000         930.000000\n",
       "mean           0.383554           0.386108\n",
       "std            0.095633           0.093165\n",
       "min            0.000000           0.000000\n",
       "25%            0.326028           0.333333\n",
       "50%            0.380273           0.384615\n",
       "75%            0.440000           0.444444\n",
       "max            0.733333           0.750000"
      ]
     },
     "execution_count": 98,
     "metadata": {},
     "output_type": "execute_result"
    }
   ],
   "source": [
    "df_winlose_tourney[['ThreePointPctWin', 'ThreePointPctLose']].describe()"
   ]
  },
  {
   "cell_type": "markdown",
   "metadata": {},
   "source": [
    "#### Boxplots"
   ]
  },
  {
   "cell_type": "code",
   "execution_count": 99,
   "metadata": {},
   "outputs": [
    {
     "data": {
      "text/plain": [
       "Text(0.5,0,u'Combined Shooting %, Winning Team Shooting %, Losing Team Shooting %')"
      ]
     },
     "execution_count": 99,
     "metadata": {},
     "output_type": "execute_result"
    },
    {
     "data": {
      "image/png": "[encoded data removed]",
      "text/plain": [
       "<matplotlib.figure.Figure at 0x1e9bca58>"
      ]
     },
     "metadata": {},
     "output_type": "display_data"
    }
   ],
   "source": [
    "data = [df_tourney['ThreePointPct_Team'], df_winlose_tourney['ThreePointPctWin'], df_winlose_tourney['ThreePointPctLose']]\n",
    "plt.figure()\n",
    "plt.boxplot(data)\n",
    "plt.title('Boxplot for Three Point Shooting % in Tournament')\n",
    "plt.xlabel('Combined Shooting %, Winning Team Shooting %, Losing Team Shooting %')"
   ]
  },
  {
   "cell_type": "markdown",
   "metadata": {},
   "source": [
    "#### Histogram"
   ]
  },
  {
   "cell_type": "code",
   "execution_count": 100,
   "metadata": {},
   "outputs": [
    {
     "data": {
      "text/plain": [
       "Text(0.5,1,u'Three Point % of Winning Team v. Losing Team')"
      ]
     },
     "execution_count": 100,
     "metadata": {},
     "output_type": "execute_result"
    },
    {
     "data": {
      "image/png": "[encoded data removed]",
      "text/plain": [
       "<matplotlib.figure.Figure at 0x1eb9a390>"
      ]
     },
     "metadata": {},
     "output_type": "display_data"
    }
   ],
   "source": [
    "fig, axes = plt.subplots(nrows=1, ncols=1)\n",
    "\n",
    "labels = ['Three Point Pct for Winning Team', 'Three Point Pct for Losing Team']\n",
    "colors = ['red', 'blue']\n",
    "\n",
    "axes.hist([df_winlose_tourney['ThreePointPctWin'], df_winlose_tourney['ThreePointPctLose']], 100, histtype='step', fill=False, label=labels, color=colors)\n",
    "axes.legend(bbox_to_anchor=(1.05, 1), loc=2, borderaxespad=0.)\n",
    "axes.set_title('Three Point % of Winning Team v. Losing Team')"
   ]
  },
  {
   "cell_type": "markdown",
   "metadata": {},
   "source": [
    "#### Two Independent Samples T-Test"
   ]
  },
  {
   "cell_type": "code",
   "execution_count": 101,
   "metadata": {},
   "outputs": [
    {
     "name": "stdout",
     "output_type": "stream",
     "text": [
      "ttest_ind: t = -0.58  p = 0.5598\n"
     ]
    }
   ],
   "source": [
    "t, p = ttest_ind(df_winlose_tourney['ThreePointPctWin'], df_winlose_tourney['ThreePointPctLose'], equal_var=True)\n",
    "print(\"ttest_ind: t = {0:.2f}  p = {1:.4f}\".format(t, p))"
   ]
  },
  {
   "cell_type": "markdown",
   "metadata": {},
   "source": [
    "#### Correlation Between (ThreePointPct_Team - ThreePointPct_Opponent)  and Outcome"
   ]
  },
  {
   "cell_type": "code",
   "execution_count": 102,
   "metadata": {},
   "outputs": [
    {
     "name": "stdout",
     "output_type": "stream",
     "text": [
      "The correlation is: -0.02\n"
     ]
    }
   ],
   "source": [
    "df_corr = pd.DataFrame({'Outcome':df_tourney['Outcome']})\n",
    "df_corr['ThreePointDifference'] = df_tourney['ThreePointPct_Team'] - df_tourney['ThreePointPct_Opponent']\n",
    "\n",
    "print 'The correlation is: {0:.2f}'.format(df_corr.corr().iloc[0,1])"
   ]
  },
  {
   "cell_type": "markdown",
   "metadata": {},
   "source": [
    "### Analysis"
   ]
  },
  {
   "cell_type": "markdown",
   "metadata": {},
   "source": [
    "The mean three point shooting in the regular season is 34.2% and it is 38.5% during the tournament.\n",
    "\n",
    "During the regular season, there is less than a 1% difference between the three point shooting of winning and losing teams, and the difference is statistically significant.  The correlation between the difference in team's three point shooting and the outcome of the game has a correlation of 0.15, which is weakly correlated.\n",
    "\n",
    "During the tournament, there is a 0.2% difference between the three point shooting of winning and losing teams, and the difference is NOT statistically significant.  The correlation between the difference in team's three point shooting and the outcome of the game has a correlation of -0.02, which is non-correlated.\n",
    "\n",
    "Because of the lack of correlation between three point shooting and the outcome of games, this feature should not be considered in the model."
   ]
  },
  {
   "cell_type": "markdown",
   "metadata": {},
   "source": [
    "## Average Free Throw Shooting Percentage"
   ]
  },
  {
   "cell_type": "markdown",
   "metadata": {},
   "source": [
    "### Regular Season"
   ]
  },
  {
   "cell_type": "markdown",
   "metadata": {},
   "source": [
    "Descriptive Statistics for Free Throw Percentages for the Regular Season"
   ]
  },
  {
   "cell_type": "code",
   "execution_count": 103,
   "metadata": {},
   "outputs": [
    {
     "data": {
      "text/html": [
       "<div>\n",
       "<style>\n",
       "    .dataframe thead tr:only-child th {\n",
       "        text-align: right;\n",
       "    }\n",
       "\n",
       "    .dataframe thead th {\n",
       "        text-align: left;\n",
       "    }\n",
       "\n",
       "    .dataframe tbody tr th {\n",
       "        vertical-align: top;\n",
       "    }\n",
       "</style>\n",
       "<table border=\"1\" class=\"dataframe\">\n",
       "  <thead>\n",
       "    <tr style=\"text-align: right;\">\n",
       "      <th></th>\n",
       "      <th>FreeThrowPct_Team</th>\n",
       "    </tr>\n",
       "  </thead>\n",
       "  <tbody>\n",
       "    <tr>\n",
       "      <th>count</th>\n",
       "      <td>157378.000000</td>\n",
       "    </tr>\n",
       "    <tr>\n",
       "      <th>mean</th>\n",
       "      <td>0.684418</td>\n",
       "    </tr>\n",
       "    <tr>\n",
       "      <th>std</th>\n",
       "      <td>0.055439</td>\n",
       "    </tr>\n",
       "    <tr>\n",
       "      <th>min</th>\n",
       "      <td>0.000000</td>\n",
       "    </tr>\n",
       "    <tr>\n",
       "      <th>25%</th>\n",
       "      <td>0.652629</td>\n",
       "    </tr>\n",
       "    <tr>\n",
       "      <th>50%</th>\n",
       "      <td>0.686922</td>\n",
       "    </tr>\n",
       "    <tr>\n",
       "      <th>75%</th>\n",
       "      <td>0.719430</td>\n",
       "    </tr>\n",
       "    <tr>\n",
       "      <th>max</th>\n",
       "      <td>1.000000</td>\n",
       "    </tr>\n",
       "  </tbody>\n",
       "</table>\n",
       "</div>"
      ],
      "text/plain": [
       "       FreeThrowPct_Team\n",
       "count      157378.000000\n",
       "mean            0.684418\n",
       "std             0.055439\n",
       "min             0.000000\n",
       "25%             0.652629\n",
       "50%             0.686922\n",
       "75%             0.719430\n",
       "max             1.000000"
      ]
     },
     "execution_count": 103,
     "metadata": {},
     "output_type": "execute_result"
    }
   ],
   "source": [
    "df_reg_season[['FreeThrowPct_Team']].describe()"
   ]
  },
  {
   "cell_type": "markdown",
   "metadata": {},
   "source": [
    "Descriptive Statistics for FreeThrowPctWin / FreeThrowPctLose for the Regular Season"
   ]
  },
  {
   "cell_type": "code",
   "execution_count": 104,
   "metadata": {},
   "outputs": [
    {
     "data": {
      "text/html": [
       "<div>\n",
       "<style>\n",
       "    .dataframe thead tr:only-child th {\n",
       "        text-align: right;\n",
       "    }\n",
       "\n",
       "    .dataframe thead th {\n",
       "        text-align: left;\n",
       "    }\n",
       "\n",
       "    .dataframe tbody tr th {\n",
       "        vertical-align: top;\n",
       "    }\n",
       "</style>\n",
       "<table border=\"1\" class=\"dataframe\">\n",
       "  <thead>\n",
       "    <tr style=\"text-align: right;\">\n",
       "      <th></th>\n",
       "      <th>FreeThrowPctWin</th>\n",
       "      <th>FreeThrowPctLose</th>\n",
       "    </tr>\n",
       "  </thead>\n",
       "  <tbody>\n",
       "    <tr>\n",
       "      <th>count</th>\n",
       "      <td>157378.000000</td>\n",
       "      <td>157378.000000</td>\n",
       "    </tr>\n",
       "    <tr>\n",
       "      <th>mean</th>\n",
       "      <td>0.688277</td>\n",
       "      <td>0.680559</td>\n",
       "    </tr>\n",
       "    <tr>\n",
       "      <th>std</th>\n",
       "      <td>0.053704</td>\n",
       "      <td>0.056860</td>\n",
       "    </tr>\n",
       "    <tr>\n",
       "      <th>min</th>\n",
       "      <td>0.125000</td>\n",
       "      <td>0.000000</td>\n",
       "    </tr>\n",
       "    <tr>\n",
       "      <th>25%</th>\n",
       "      <td>0.656706</td>\n",
       "      <td>0.648658</td>\n",
       "    </tr>\n",
       "    <tr>\n",
       "      <th>50%</th>\n",
       "      <td>0.690468</td>\n",
       "      <td>0.683280</td>\n",
       "    </tr>\n",
       "    <tr>\n",
       "      <th>75%</th>\n",
       "      <td>0.722367</td>\n",
       "      <td>0.716212</td>\n",
       "    </tr>\n",
       "    <tr>\n",
       "      <th>max</th>\n",
       "      <td>1.000000</td>\n",
       "      <td>1.000000</td>\n",
       "    </tr>\n",
       "  </tbody>\n",
       "</table>\n",
       "</div>"
      ],
      "text/plain": [
       "       FreeThrowPctWin  FreeThrowPctLose\n",
       "count    157378.000000     157378.000000\n",
       "mean          0.688277          0.680559\n",
       "std           0.053704          0.056860\n",
       "min           0.125000          0.000000\n",
       "25%           0.656706          0.648658\n",
       "50%           0.690468          0.683280\n",
       "75%           0.722367          0.716212\n",
       "max           1.000000          1.000000"
      ]
     },
     "execution_count": 104,
     "metadata": {},
     "output_type": "execute_result"
    }
   ],
   "source": [
    "df_winlose_reg_season[['FreeThrowPctWin', 'FreeThrowPctLose']].describe()"
   ]
  },
  {
   "cell_type": "markdown",
   "metadata": {},
   "source": [
    "#### Boxplots"
   ]
  },
  {
   "cell_type": "code",
   "execution_count": 105,
   "metadata": {},
   "outputs": [
    {
     "data": {
      "text/plain": [
       "Text(0.5,0,u'Combined Shooting %, Winning Team Shooting %, Losing Team Shooting %')"
      ]
     },
     "execution_count": 105,
     "metadata": {},
     "output_type": "execute_result"
    },
    {
     "data": {
      "image/png": "[encoded data removed]",
      "text/plain": [
       "<matplotlib.figure.Figure at 0x1eba7a20>"
      ]
     },
     "metadata": {},
     "output_type": "display_data"
    }
   ],
   "source": [
    "data = [df_reg_season['FreeThrowPct_Team'], df_winlose_reg_season['FreeThrowPctWin'], df_winlose_reg_season['FreeThrowPctLose']]\n",
    "plt.figure()\n",
    "plt.boxplot(data)\n",
    "plt.title('Boxplot for Free Throw Shooting % in Regular Season')\n",
    "plt.xlabel('Combined Shooting %, Winning Team Shooting %, Losing Team Shooting %')"
   ]
  },
  {
   "cell_type": "markdown",
   "metadata": {},
   "source": [
    "#### Histogram"
   ]
  },
  {
   "cell_type": "code",
   "execution_count": 106,
   "metadata": {},
   "outputs": [
    {
     "data": {
      "text/plain": [
       "Text(0.5,1,u'Free Throw % of Winning Team v. Losing Team')"
      ]
     },
     "execution_count": 106,
     "metadata": {},
     "output_type": "execute_result"
    },
    {
     "data": {
      "image/png": "[encoded data removed]",
      "text/plain": [
       "<matplotlib.figure.Figure at 0x1ee279e8>"
      ]
     },
     "metadata": {},
     "output_type": "display_data"
    }
   ],
   "source": [
    "fig, axes = plt.subplots(nrows=1, ncols=1)\n",
    "\n",
    "labels = ['Free Throw Pct for Winning Team', 'Free Throw Pct for Losing Team']\n",
    "colors = ['red', 'blue']\n",
    "\n",
    "axes.hist([df_winlose_reg_season['FreeThrowPctWin'], df_winlose_reg_season['FreeThrowPctLose']], 100, histtype='step', fill=False, label=labels, color=colors)\n",
    "axes.legend(bbox_to_anchor=(1.05, 1), loc=2, borderaxespad=0.)\n",
    "axes.set_title('Free Throw % of Winning Team v. Losing Team')"
   ]
  },
  {
   "cell_type": "markdown",
   "metadata": {},
   "source": [
    "#### Two Independent Samples T-Test"
   ]
  },
  {
   "cell_type": "code",
   "execution_count": 107,
   "metadata": {},
   "outputs": [
    {
     "name": "stdout",
     "output_type": "stream",
     "text": [
      "ttest_ind: t = 39.14  p = 0.0000\n"
     ]
    }
   ],
   "source": [
    "t, p = ttest_ind(df_winlose_reg_season['FreeThrowPctWin'], df_winlose_reg_season['FreeThrowPctLose'], equal_var=True)\n",
    "print(\"ttest_ind: t = {0:.2f}  p = {1:.4f}\".format(t, p))"
   ]
  },
  {
   "cell_type": "markdown",
   "metadata": {},
   "source": [
    "#### Correlation Between (FreeThrowPct_Team - FreeThrowPct_Opponent) and Outcome"
   ]
  },
  {
   "cell_type": "code",
   "execution_count": 108,
   "metadata": {},
   "outputs": [
    {
     "name": "stdout",
     "output_type": "stream",
     "text": [
      "The correlation is: 0.10\n"
     ]
    }
   ],
   "source": [
    "df_corr = pd.DataFrame({'Outcome':df_reg_season['Outcome']})\n",
    "df_corr['FreeThrowDifference'] = df_reg_season['FreeThrowPct_Team'] - df_reg_season['FreeThrowPct_Opponent']\n",
    "\n",
    "print 'The correlation is: {0:.2f}'.format(df_corr.corr().iloc[0,1])"
   ]
  },
  {
   "cell_type": "markdown",
   "metadata": {},
   "source": [
    "### Tournament"
   ]
  },
  {
   "cell_type": "markdown",
   "metadata": {},
   "source": [
    "Descriptive Statistics for Free Throw Percentages for the Tournament"
   ]
  },
  {
   "cell_type": "code",
   "execution_count": 109,
   "metadata": {},
   "outputs": [
    {
     "data": {
      "text/html": [
       "<div>\n",
       "<style>\n",
       "    .dataframe thead tr:only-child th {\n",
       "        text-align: right;\n",
       "    }\n",
       "\n",
       "    .dataframe thead th {\n",
       "        text-align: left;\n",
       "    }\n",
       "\n",
       "    .dataframe tbody tr th {\n",
       "        vertical-align: top;\n",
       "    }\n",
       "</style>\n",
       "<table border=\"1\" class=\"dataframe\">\n",
       "  <thead>\n",
       "    <tr style=\"text-align: right;\">\n",
       "      <th></th>\n",
       "      <th>FreeThrowPct_Team</th>\n",
       "    </tr>\n",
       "  </thead>\n",
       "  <tbody>\n",
       "    <tr>\n",
       "      <th>count</th>\n",
       "      <td>930.000000</td>\n",
       "    </tr>\n",
       "    <tr>\n",
       "      <th>mean</th>\n",
       "      <td>0.724569</td>\n",
       "    </tr>\n",
       "    <tr>\n",
       "      <th>std</th>\n",
       "      <td>0.096977</td>\n",
       "    </tr>\n",
       "    <tr>\n",
       "      <th>min</th>\n",
       "      <td>0.000000</td>\n",
       "    </tr>\n",
       "    <tr>\n",
       "      <th>25%</th>\n",
       "      <td>0.666667</td>\n",
       "    </tr>\n",
       "    <tr>\n",
       "      <th>50%</th>\n",
       "      <td>0.730095</td>\n",
       "    </tr>\n",
       "    <tr>\n",
       "      <th>75%</th>\n",
       "      <td>0.787530</td>\n",
       "    </tr>\n",
       "    <tr>\n",
       "      <th>max</th>\n",
       "      <td>1.000000</td>\n",
       "    </tr>\n",
       "  </tbody>\n",
       "</table>\n",
       "</div>"
      ],
      "text/plain": [
       "       FreeThrowPct_Team\n",
       "count         930.000000\n",
       "mean            0.724569\n",
       "std             0.096977\n",
       "min             0.000000\n",
       "25%             0.666667\n",
       "50%             0.730095\n",
       "75%             0.787530\n",
       "max             1.000000"
      ]
     },
     "execution_count": 109,
     "metadata": {},
     "output_type": "execute_result"
    }
   ],
   "source": [
    "df_tourney[['FreeThrowPct_Team']].describe()"
   ]
  },
  {
   "cell_type": "markdown",
   "metadata": {},
   "source": [
    "Descriptive Statistics for FreeThrowPctWin / FreeThrowPctLose for the Tournament"
   ]
  },
  {
   "cell_type": "code",
   "execution_count": 110,
   "metadata": {},
   "outputs": [
    {
     "data": {
      "text/html": [
       "<div>\n",
       "<style>\n",
       "    .dataframe thead tr:only-child th {\n",
       "        text-align: right;\n",
       "    }\n",
       "\n",
       "    .dataframe thead th {\n",
       "        text-align: left;\n",
       "    }\n",
       "\n",
       "    .dataframe tbody tr th {\n",
       "        vertical-align: top;\n",
       "    }\n",
       "</style>\n",
       "<table border=\"1\" class=\"dataframe\">\n",
       "  <thead>\n",
       "    <tr style=\"text-align: right;\">\n",
       "      <th></th>\n",
       "      <th>FreeThrowPctWin</th>\n",
       "      <th>FreeThrowPctLose</th>\n",
       "    </tr>\n",
       "  </thead>\n",
       "  <tbody>\n",
       "    <tr>\n",
       "      <th>count</th>\n",
       "      <td>930.000000</td>\n",
       "      <td>930.000000</td>\n",
       "    </tr>\n",
       "    <tr>\n",
       "      <th>mean</th>\n",
       "      <td>0.721609</td>\n",
       "      <td>0.727528</td>\n",
       "    </tr>\n",
       "    <tr>\n",
       "      <th>std</th>\n",
       "      <td>0.094118</td>\n",
       "      <td>0.099666</td>\n",
       "    </tr>\n",
       "    <tr>\n",
       "      <th>min</th>\n",
       "      <td>0.416667</td>\n",
       "      <td>0.000000</td>\n",
       "    </tr>\n",
       "    <tr>\n",
       "      <th>25%</th>\n",
       "      <td>0.666667</td>\n",
       "      <td>0.666667</td>\n",
       "    </tr>\n",
       "    <tr>\n",
       "      <th>50%</th>\n",
       "      <td>0.724339</td>\n",
       "      <td>0.733333</td>\n",
       "    </tr>\n",
       "    <tr>\n",
       "      <th>75%</th>\n",
       "      <td>0.784286</td>\n",
       "      <td>0.788889</td>\n",
       "    </tr>\n",
       "    <tr>\n",
       "      <th>max</th>\n",
       "      <td>1.000000</td>\n",
       "      <td>1.000000</td>\n",
       "    </tr>\n",
       "  </tbody>\n",
       "</table>\n",
       "</div>"
      ],
      "text/plain": [
       "       FreeThrowPctWin  FreeThrowPctLose\n",
       "count       930.000000        930.000000\n",
       "mean          0.721609          0.727528\n",
       "std           0.094118          0.099666\n",
       "min           0.416667          0.000000\n",
       "25%           0.666667          0.666667\n",
       "50%           0.724339          0.733333\n",
       "75%           0.784286          0.788889\n",
       "max           1.000000          1.000000"
      ]
     },
     "execution_count": 110,
     "metadata": {},
     "output_type": "execute_result"
    }
   ],
   "source": [
    "df_winlose_tourney[['FreeThrowPctWin', 'FreeThrowPctLose']].describe()"
   ]
  },
  {
   "cell_type": "markdown",
   "metadata": {},
   "source": [
    "#### Boxplots"
   ]
  },
  {
   "cell_type": "code",
   "execution_count": 111,
   "metadata": {},
   "outputs": [
    {
     "data": {
      "text/plain": [
       "Text(0.5,0,u'Combined Shooting %, Winning Team Shooting %, Losing Team Shooting %')"
      ]
     },
     "execution_count": 111,
     "metadata": {},
     "output_type": "execute_result"
    },
    {
     "data": {
      "image/png": "[encoded data removed]",
      "text/plain": [
       "<matplotlib.figure.Figure at 0x1f1a0c88>"
      ]
     },
     "metadata": {},
     "output_type": "display_data"
    }
   ],
   "source": [
    "data = [df_tourney['FreeThrowPct_Team'], df_winlose_tourney['FreeThrowPctWin'], df_winlose_tourney['FreeThrowPctLose']]\n",
    "plt.figure()\n",
    "plt.boxplot(data)\n",
    "plt.title('Boxplot for Free Throw Shooting % in Tournament')\n",
    "plt.xlabel('Combined Shooting %, Winning Team Shooting %, Losing Team Shooting %')"
   ]
  },
  {
   "cell_type": "markdown",
   "metadata": {},
   "source": [
    "#### Histogram"
   ]
  },
  {
   "cell_type": "code",
   "execution_count": 112,
   "metadata": {},
   "outputs": [
    {
     "data": {
      "text/plain": [
       "Text(0.5,1,u'Free Throw % of Winning Team v. Losing Team')"
      ]
     },
     "execution_count": 112,
     "metadata": {},
     "output_type": "execute_result"
    },
    {
     "data": {
      "image/png": "[encoded data removed]",
      "text/plain": [
       "<matplotlib.figure.Figure at 0x1ed08080>"
      ]
     },
     "metadata": {},
     "output_type": "display_data"
    }
   ],
   "source": [
    "fig, axes = plt.subplots(nrows=1, ncols=1)\n",
    "\n",
    "labels = ['Free Throw Pct for Winning Team', 'Free Throw Pct for Losing Team']\n",
    "colors = ['red', 'blue']\n",
    "\n",
    "axes.hist([df_winlose_tourney['FreeThrowPctWin'], df_winlose_tourney['FreeThrowPctLose']], 100, histtype='step', fill=False, label=labels, color=colors)\n",
    "axes.legend(bbox_to_anchor=(1.05, 1), loc=2, borderaxespad=0.)\n",
    "axes.set_title('Free Throw % of Winning Team v. Losing Team')"
   ]
  },
  {
   "cell_type": "markdown",
   "metadata": {},
   "source": [
    "#### Two Independent Samples T-Test"
   ]
  },
  {
   "cell_type": "code",
   "execution_count": 113,
   "metadata": {},
   "outputs": [
    {
     "name": "stdout",
     "output_type": "stream",
     "text": [
      "ttest_ind: t = -1.32  p = 0.1881\n"
     ]
    }
   ],
   "source": [
    "t, p = ttest_ind(df_winlose_tourney['FreeThrowPctWin'], df_winlose_tourney['FreeThrowPctLose'], equal_var=True)\n",
    "print(\"ttest_ind: t = {0:.2f}  p = {1:.4f}\".format(t, p))"
   ]
  },
  {
   "cell_type": "markdown",
   "metadata": {},
   "source": [
    "#### Correlation Between (FreeThrowPct_Team - FreeThrowPct_Opponent) and Outcome"
   ]
  },
  {
   "cell_type": "code",
   "execution_count": 114,
   "metadata": {},
   "outputs": [
    {
     "name": "stdout",
     "output_type": "stream",
     "text": [
      "The correlation is: -0.04\n"
     ]
    }
   ],
   "source": [
    "df_corr = pd.DataFrame({'Outcome':df_tourney['Outcome']})\n",
    "df_corr['TwoPointDifference'] = df_tourney['FreeThrowPct_Team'] - df_tourney['FreeThrowPct_Opponent']\n",
    "\n",
    "print 'The correlation is: {0:.2f}'.format(df_corr.corr().iloc[0,1])"
   ]
  },
  {
   "cell_type": "markdown",
   "metadata": {},
   "source": [
    "### Analysis"
   ]
  },
  {
   "cell_type": "markdown",
   "metadata": {},
   "source": [
    "The mean free throw shooting percent for the regular season is 68.4% whereas the mean two point shooting percent in the tournament is 72.5%, so the free throw shooting percentage is better for tournament teams, which makes sense.  \n",
    "\n",
    "For the regular season, the difference between the mean free throw shooting percentage of winning teams (68.8%) v. losing teams (68.1%) is about 0.7%, and is statistically significant.  The correlation between the free throw shooting of the teams and the outcome of the game (win/lose) is 0.10, which indicates a very weak linear relationship.\n",
    "\n",
    "For the tournament, the difference between the mean free throw shooting percentage of winning teams (72.2%) v. losing teams (72.8%) is about 0.6%, which is small and it is statistically insignificant (p=0.1881).  The correlation between the free throw shooting of the teams and the outcome of the game (win/lose) is -0.04, which indicates no linear relationship.\n",
    "\n",
    "Because there is no significant difference between the free throw shooting of winning and losing teams in the tournament, and there is no correlation between free throw shooting and the outcome of a game, this feature should not be considered in the model."
   ]
  },
  {
   "cell_type": "markdown",
   "metadata": {},
   "source": [
    "## Average Offensive Rebounds"
   ]
  },
  {
   "cell_type": "markdown",
   "metadata": {},
   "source": [
    "### Regular Season"
   ]
  },
  {
   "cell_type": "markdown",
   "metadata": {},
   "source": [
    "Descriptive Statistics for Offensive Rebounds for the Regular Season"
   ]
  },
  {
   "cell_type": "code",
   "execution_count": 115,
   "metadata": {},
   "outputs": [
    {
     "data": {
      "text/html": [
       "<div>\n",
       "<style>\n",
       "    .dataframe thead tr:only-child th {\n",
       "        text-align: right;\n",
       "    }\n",
       "\n",
       "    .dataframe thead th {\n",
       "        text-align: left;\n",
       "    }\n",
       "\n",
       "    .dataframe tbody tr th {\n",
       "        vertical-align: top;\n",
       "    }\n",
       "</style>\n",
       "<table border=\"1\" class=\"dataframe\">\n",
       "  <thead>\n",
       "    <tr style=\"text-align: right;\">\n",
       "      <th></th>\n",
       "      <th>OffensiveRebounds_Team</th>\n",
       "    </tr>\n",
       "  </thead>\n",
       "  <tbody>\n",
       "    <tr>\n",
       "      <th>count</th>\n",
       "      <td>157378.000000</td>\n",
       "    </tr>\n",
       "    <tr>\n",
       "      <th>mean</th>\n",
       "      <td>11.355906</td>\n",
       "    </tr>\n",
       "    <tr>\n",
       "      <th>std</th>\n",
       "      <td>2.228425</td>\n",
       "    </tr>\n",
       "    <tr>\n",
       "      <th>min</th>\n",
       "      <td>0.000000</td>\n",
       "    </tr>\n",
       "    <tr>\n",
       "      <th>25%</th>\n",
       "      <td>10.000000</td>\n",
       "    </tr>\n",
       "    <tr>\n",
       "      <th>50%</th>\n",
       "      <td>11.315789</td>\n",
       "    </tr>\n",
       "    <tr>\n",
       "      <th>75%</th>\n",
       "      <td>12.666667</td>\n",
       "    </tr>\n",
       "    <tr>\n",
       "      <th>max</th>\n",
       "      <td>32.000000</td>\n",
       "    </tr>\n",
       "  </tbody>\n",
       "</table>\n",
       "</div>"
      ],
      "text/plain": [
       "       OffensiveRebounds_Team\n",
       "count           157378.000000\n",
       "mean                11.355906\n",
       "std                  2.228425\n",
       "min                  0.000000\n",
       "25%                 10.000000\n",
       "50%                 11.315789\n",
       "75%                 12.666667\n",
       "max                 32.000000"
      ]
     },
     "execution_count": 115,
     "metadata": {},
     "output_type": "execute_result"
    }
   ],
   "source": [
    "df_reg_season[['OffensiveRebounds_Team']].describe()"
   ]
  },
  {
   "cell_type": "markdown",
   "metadata": {},
   "source": [
    "Descriptive Statistics for OffensiveReboundsWin / OffensiveReboundsLose for the Regular Season"
   ]
  },
  {
   "cell_type": "code",
   "execution_count": 116,
   "metadata": {},
   "outputs": [
    {
     "data": {
      "text/html": [
       "<div>\n",
       "<style>\n",
       "    .dataframe thead tr:only-child th {\n",
       "        text-align: right;\n",
       "    }\n",
       "\n",
       "    .dataframe thead th {\n",
       "        text-align: left;\n",
       "    }\n",
       "\n",
       "    .dataframe tbody tr th {\n",
       "        vertical-align: top;\n",
       "    }\n",
       "</style>\n",
       "<table border=\"1\" class=\"dataframe\">\n",
       "  <thead>\n",
       "    <tr style=\"text-align: right;\">\n",
       "      <th></th>\n",
       "      <th>OffensiveReboundsWin</th>\n",
       "      <th>OffensiveReboundsLose</th>\n",
       "    </tr>\n",
       "  </thead>\n",
       "  <tbody>\n",
       "    <tr>\n",
       "      <th>count</th>\n",
       "      <td>157378.000000</td>\n",
       "      <td>157378.000000</td>\n",
       "    </tr>\n",
       "    <tr>\n",
       "      <th>mean</th>\n",
       "      <td>11.482147</td>\n",
       "      <td>11.229664</td>\n",
       "    </tr>\n",
       "    <tr>\n",
       "      <th>std</th>\n",
       "      <td>2.252786</td>\n",
       "      <td>2.196550</td>\n",
       "    </tr>\n",
       "    <tr>\n",
       "      <th>min</th>\n",
       "      <td>1.000000</td>\n",
       "      <td>0.000000</td>\n",
       "    </tr>\n",
       "    <tr>\n",
       "      <th>25%</th>\n",
       "      <td>10.045455</td>\n",
       "      <td>9.840000</td>\n",
       "    </tr>\n",
       "    <tr>\n",
       "      <th>50%</th>\n",
       "      <td>11.428571</td>\n",
       "      <td>11.200000</td>\n",
       "    </tr>\n",
       "    <tr>\n",
       "      <th>75%</th>\n",
       "      <td>12.793103</td>\n",
       "      <td>12.555556</td>\n",
       "    </tr>\n",
       "    <tr>\n",
       "      <th>max</th>\n",
       "      <td>32.000000</td>\n",
       "      <td>29.000000</td>\n",
       "    </tr>\n",
       "  </tbody>\n",
       "</table>\n",
       "</div>"
      ],
      "text/plain": [
       "       OffensiveReboundsWin  OffensiveReboundsLose\n",
       "count         157378.000000          157378.000000\n",
       "mean              11.482147              11.229664\n",
       "std                2.252786               2.196550\n",
       "min                1.000000               0.000000\n",
       "25%               10.045455               9.840000\n",
       "50%               11.428571              11.200000\n",
       "75%               12.793103              12.555556\n",
       "max               32.000000              29.000000"
      ]
     },
     "execution_count": 116,
     "metadata": {},
     "output_type": "execute_result"
    }
   ],
   "source": [
    "df_winlose_reg_season[['OffensiveReboundsWin', 'OffensiveReboundsLose']].describe()"
   ]
  },
  {
   "cell_type": "markdown",
   "metadata": {},
   "source": [
    "#### Boxplots"
   ]
  },
  {
   "cell_type": "code",
   "execution_count": 117,
   "metadata": {},
   "outputs": [
    {
     "data": {
      "text/plain": [
       "Text(0.5,0,u'Combined Offensive Rebounds, Winning Team Offensive Rebounds, Losing Team Offensive Rebounds')"
      ]
     },
     "execution_count": 117,
     "metadata": {},
     "output_type": "execute_result"
    },
    {
     "data": {
      "image/png": "[encoded data removed]",
      "text/plain": [
       "<matplotlib.figure.Figure at 0x1f685ba8>"
      ]
     },
     "metadata": {},
     "output_type": "display_data"
    }
   ],
   "source": [
    "data = [df_reg_season['OffensiveRebounds_Team'], df_winlose_reg_season['OffensiveReboundsWin'], df_winlose_reg_season['OffensiveReboundsLose']]\n",
    "plt.figure()\n",
    "plt.boxplot(data)\n",
    "plt.title('Boxplot for Offensive Rebounds in Regular Season')\n",
    "plt.xlabel('Combined Offensive Rebounds, Winning Team Offensive Rebounds, Losing Team Offensive Rebounds')"
   ]
  },
  {
   "cell_type": "markdown",
   "metadata": {},
   "source": [
    "#### Histogram"
   ]
  },
  {
   "cell_type": "code",
   "execution_count": 118,
   "metadata": {},
   "outputs": [
    {
     "data": {
      "text/plain": [
       "Text(0.5,1,u'Offensive Rebounds of Winning Team v. Losing Team')"
      ]
     },
     "execution_count": 118,
     "metadata": {},
     "output_type": "execute_result"
    },
    {
     "data": {
      "image/png": "[encoded data removed]",
      "text/plain": [
       "<matplotlib.figure.Figure at 0x1f685198>"
      ]
     },
     "metadata": {},
     "output_type": "display_data"
    }
   ],
   "source": [
    "fig, axes = plt.subplots(nrows=1, ncols=1)\n",
    "\n",
    "labels = ['Offensive Rebounds for Winning Team', 'Offensive Rebounds for Losing Team']\n",
    "colors = ['red', 'blue']\n",
    "\n",
    "axes.hist([df_winlose_reg_season['OffensiveReboundsWin'], df_winlose_reg_season['OffensiveReboundsLose']], 100, histtype='step', fill=False, label=labels, color=colors)\n",
    "axes.legend(bbox_to_anchor=(1.05, 1), loc=2, borderaxespad=0.)\n",
    "axes.set_title('Offensive Rebounds of Winning Team v. Losing Team')"
   ]
  },
  {
   "cell_type": "markdown",
   "metadata": {},
   "source": [
    "#### Two Independent Samples T-Test"
   ]
  },
  {
   "cell_type": "code",
   "execution_count": 119,
   "metadata": {},
   "outputs": [
    {
     "name": "stdout",
     "output_type": "stream",
     "text": [
      "ttest_ind: t = 31.83  p = 0.0000\n"
     ]
    }
   ],
   "source": [
    "t, p = ttest_ind(df_winlose_reg_season['OffensiveReboundsWin'], df_winlose_reg_season['OffensiveReboundsLose'], equal_var=True)\n",
    "print(\"ttest_ind: t = {0:.2f}  p = {1:.4f}\".format(t, p))"
   ]
  },
  {
   "cell_type": "markdown",
   "metadata": {},
   "source": [
    "#### Correlation Between (OffensiveRebounds_Team - OffensiveRebounds_Opponent)  and Outcome"
   ]
  },
  {
   "cell_type": "code",
   "execution_count": 120,
   "metadata": {},
   "outputs": [
    {
     "name": "stdout",
     "output_type": "stream",
     "text": [
      "The correlation is: 0.08\n"
     ]
    }
   ],
   "source": [
    "df_corr = pd.DataFrame({'Outcome':df_reg_season['Outcome']})\n",
    "df_corr['OffensiveReboundsDifference'] = df_reg_season['OffensiveRebounds_Team'] - df_reg_season['OffensiveRebounds_Opponent']\n",
    "\n",
    "print 'The correlation is: {0:.2f}'.format(df_corr.corr().iloc[0,1])"
   ]
  },
  {
   "cell_type": "markdown",
   "metadata": {},
   "source": [
    "### Tournament"
   ]
  },
  {
   "cell_type": "markdown",
   "metadata": {},
   "source": [
    "Descriptive Statistics for Offensive Rebounds for the Tournament"
   ]
  },
  {
   "cell_type": "code",
   "execution_count": 121,
   "metadata": {},
   "outputs": [
    {
     "data": {
      "text/html": [
       "<div>\n",
       "<style>\n",
       "    .dataframe thead tr:only-child th {\n",
       "        text-align: right;\n",
       "    }\n",
       "\n",
       "    .dataframe thead th {\n",
       "        text-align: left;\n",
       "    }\n",
       "\n",
       "    .dataframe tbody tr th {\n",
       "        vertical-align: top;\n",
       "    }\n",
       "</style>\n",
       "<table border=\"1\" class=\"dataframe\">\n",
       "  <thead>\n",
       "    <tr style=\"text-align: right;\">\n",
       "      <th></th>\n",
       "      <th>OffensiveRebounds_Team</th>\n",
       "    </tr>\n",
       "  </thead>\n",
       "  <tbody>\n",
       "    <tr>\n",
       "      <th>count</th>\n",
       "      <td>930.000000</td>\n",
       "    </tr>\n",
       "    <tr>\n",
       "      <th>mean</th>\n",
       "      <td>10.772706</td>\n",
       "    </tr>\n",
       "    <tr>\n",
       "      <th>std</th>\n",
       "      <td>3.408779</td>\n",
       "    </tr>\n",
       "    <tr>\n",
       "      <th>min</th>\n",
       "      <td>0.000000</td>\n",
       "    </tr>\n",
       "    <tr>\n",
       "      <th>25%</th>\n",
       "      <td>8.500000</td>\n",
       "    </tr>\n",
       "    <tr>\n",
       "      <th>50%</th>\n",
       "      <td>10.500000</td>\n",
       "    </tr>\n",
       "    <tr>\n",
       "      <th>75%</th>\n",
       "      <td>13.000000</td>\n",
       "    </tr>\n",
       "    <tr>\n",
       "      <th>max</th>\n",
       "      <td>24.000000</td>\n",
       "    </tr>\n",
       "  </tbody>\n",
       "</table>\n",
       "</div>"
      ],
      "text/plain": [
       "       OffensiveRebounds_Team\n",
       "count              930.000000\n",
       "mean                10.772706\n",
       "std                  3.408779\n",
       "min                  0.000000\n",
       "25%                  8.500000\n",
       "50%                 10.500000\n",
       "75%                 13.000000\n",
       "max                 24.000000"
      ]
     },
     "execution_count": 121,
     "metadata": {},
     "output_type": "execute_result"
    }
   ],
   "source": [
    "df_tourney[['OffensiveRebounds_Team']].describe()"
   ]
  },
  {
   "cell_type": "markdown",
   "metadata": {},
   "source": [
    "Descriptive Statistics for OffensiveReboundsWin / OffensiveReboundsLose for the Tournament"
   ]
  },
  {
   "cell_type": "code",
   "execution_count": 122,
   "metadata": {},
   "outputs": [
    {
     "data": {
      "text/html": [
       "<div>\n",
       "<style>\n",
       "    .dataframe thead tr:only-child th {\n",
       "        text-align: right;\n",
       "    }\n",
       "\n",
       "    .dataframe thead th {\n",
       "        text-align: left;\n",
       "    }\n",
       "\n",
       "    .dataframe tbody tr th {\n",
       "        vertical-align: top;\n",
       "    }\n",
       "</style>\n",
       "<table border=\"1\" class=\"dataframe\">\n",
       "  <thead>\n",
       "    <tr style=\"text-align: right;\">\n",
       "      <th></th>\n",
       "      <th>OffensiveReboundsWin</th>\n",
       "      <th>OffensiveReboundsLose</th>\n",
       "    </tr>\n",
       "  </thead>\n",
       "  <tbody>\n",
       "    <tr>\n",
       "      <th>count</th>\n",
       "      <td>930.000000</td>\n",
       "      <td>930.000000</td>\n",
       "    </tr>\n",
       "    <tr>\n",
       "      <th>mean</th>\n",
       "      <td>10.933656</td>\n",
       "      <td>10.611756</td>\n",
       "    </tr>\n",
       "    <tr>\n",
       "      <th>std</th>\n",
       "      <td>3.485195</td>\n",
       "      <td>3.322816</td>\n",
       "    </tr>\n",
       "    <tr>\n",
       "      <th>min</th>\n",
       "      <td>0.000000</td>\n",
       "      <td>2.000000</td>\n",
       "    </tr>\n",
       "    <tr>\n",
       "      <th>25%</th>\n",
       "      <td>9.000000</td>\n",
       "      <td>8.500000</td>\n",
       "    </tr>\n",
       "    <tr>\n",
       "      <th>50%</th>\n",
       "      <td>11.000000</td>\n",
       "      <td>10.333333</td>\n",
       "    </tr>\n",
       "    <tr>\n",
       "      <th>75%</th>\n",
       "      <td>13.000000</td>\n",
       "      <td>13.000000</td>\n",
       "    </tr>\n",
       "    <tr>\n",
       "      <th>max</th>\n",
       "      <td>24.000000</td>\n",
       "      <td>23.000000</td>\n",
       "    </tr>\n",
       "  </tbody>\n",
       "</table>\n",
       "</div>"
      ],
      "text/plain": [
       "       OffensiveReboundsWin  OffensiveReboundsLose\n",
       "count            930.000000             930.000000\n",
       "mean              10.933656              10.611756\n",
       "std                3.485195               3.322816\n",
       "min                0.000000               2.000000\n",
       "25%                9.000000               8.500000\n",
       "50%               11.000000              10.333333\n",
       "75%               13.000000              13.000000\n",
       "max               24.000000              23.000000"
      ]
     },
     "execution_count": 122,
     "metadata": {},
     "output_type": "execute_result"
    }
   ],
   "source": [
    "df_winlose_tourney[['OffensiveReboundsWin', 'OffensiveReboundsLose']].describe()"
   ]
  },
  {
   "cell_type": "markdown",
   "metadata": {},
   "source": [
    "#### Boxplots"
   ]
  },
  {
   "cell_type": "code",
   "execution_count": 123,
   "metadata": {},
   "outputs": [
    {
     "data": {
      "text/plain": [
       "Text(0.5,0,u'Combined Offensive Rebounds, Winning Team Offensive Rebounds, Losing Team Offensive Rebounds')"
      ]
     },
     "execution_count": 123,
     "metadata": {},
     "output_type": "execute_result"
    },
    {
     "data": {
      "image/png": "[encoded data removed]",
      "text/plain": [
       "<matplotlib.figure.Figure at 0x1f685c88>"
      ]
     },
     "metadata": {},
     "output_type": "display_data"
    }
   ],
   "source": [
    "data = [df_tourney['OffensiveRebounds_Team'], df_winlose_tourney['OffensiveReboundsWin'], df_winlose_tourney['OffensiveReboundsLose']]\n",
    "plt.figure()\n",
    "plt.boxplot(data)\n",
    "plt.title('Boxplot for Offensive Rebounds in Tournament')\n",
    "plt.xlabel('Combined Offensive Rebounds, Winning Team Offensive Rebounds, Losing Team Offensive Rebounds')"
   ]
  },
  {
   "cell_type": "markdown",
   "metadata": {},
   "source": [
    "#### Histogram"
   ]
  },
  {
   "cell_type": "code",
   "execution_count": 124,
   "metadata": {},
   "outputs": [
    {
     "data": {
      "text/plain": [
       "Text(0.5,1,u'Offensive Rebounds of Winning Team v. Losing Team')"
      ]
     },
     "execution_count": 124,
     "metadata": {},
     "output_type": "execute_result"
    },
    {
     "data": {
      "image/png": "[encoded data removed]",
      "text/plain": [
       "<matplotlib.figure.Figure at 0x1f2dd3c8>"
      ]
     },
     "metadata": {},
     "output_type": "display_data"
    }
   ],
   "source": [
    "fig, axes = plt.subplots(nrows=1, ncols=1)\n",
    "\n",
    "labels = ['Offensive Rebounds for Winning Team', 'Offensive Rebounds for Losing Team']\n",
    "colors = ['red', 'blue']\n",
    "\n",
    "axes.hist([df_winlose_tourney['OffensiveReboundsWin'], df_winlose_tourney['OffensiveReboundsLose']], 100, histtype='step', fill=False, label=labels, color=colors)\n",
    "axes.legend(bbox_to_anchor=(1.05, 1), loc=2, borderaxespad=0.)\n",
    "axes.set_title('Offensive Rebounds of Winning Team v. Losing Team')"
   ]
  },
  {
   "cell_type": "markdown",
   "metadata": {},
   "source": [
    "#### Two Independent Samples T-Test"
   ]
  },
  {
   "cell_type": "code",
   "execution_count": 125,
   "metadata": {},
   "outputs": [
    {
     "name": "stdout",
     "output_type": "stream",
     "text": [
      "ttest_ind: t = 2.04  p = 0.0416\n"
     ]
    }
   ],
   "source": [
    "t, p = ttest_ind(df_winlose_tourney['OffensiveReboundsWin'], df_winlose_tourney['OffensiveReboundsLose'], equal_var=True)\n",
    "print(\"ttest_ind: t = {0:.2f}  p = {1:.4f}\".format(t, p))"
   ]
  },
  {
   "cell_type": "markdown",
   "metadata": {},
   "source": [
    "#### Correlation Between (OffensiveRebounds_Team - OffensiveRebounds_Opponent) and Outcome"
   ]
  },
  {
   "cell_type": "code",
   "execution_count": 126,
   "metadata": {},
   "outputs": [
    {
     "name": "stdout",
     "output_type": "stream",
     "text": [
      "The correlation is: 0.07\n"
     ]
    }
   ],
   "source": [
    "df_corr = pd.DataFrame({'Outcome':df_tourney['Outcome']})\n",
    "df_corr['OffensiveReboundsDifference'] = df_tourney['OffensiveRebounds_Team'] - df_tourney['OffensiveRebounds_Opponent']\n",
    "\n",
    "print 'The correlation is: {0:.2f}'.format(df_corr.corr().iloc[0,1])"
   ]
  },
  {
   "cell_type": "markdown",
   "metadata": {},
   "source": [
    "### Analysis"
   ]
  },
  {
   "cell_type": "markdown",
   "metadata": {},
   "source": [
    "The mean offensive rebounds for the regular season is 11.4 whereas the mean offensive rebounds in the tournament is 10.8, so the offensive rebounding is worse for tournament teams.  \n",
    "\n",
    "For the regular season, the difference between the mean offensive rebounding of winning teams (11.5) v. losing teams (11.2) is about 0.3, and is statistically significant.  The correlation between the offensive rebounding of the teams and the outcome of the game (win/lose) is 0.08, which indicates no linear relationship.\n",
    "\n",
    "For the tournament, the difference between the mean offensive rebounding of winning teams (10.9) v. losing teams (10.6) is about 0.3, and is statistically significant at the p=0.05 level.  The correlation between the offensive rebounding of the teams and the outcome of the game (win/lose) is 0.07, which indicates no linear relationship.\n",
    "\n",
    "Because there is no correlation between offensive rebounding and the outcome of a game, this feature should not be considered in the model."
   ]
  },
  {
   "cell_type": "markdown",
   "metadata": {},
   "source": [
    "## Average Defensive Rebounds"
   ]
  },
  {
   "cell_type": "markdown",
   "metadata": {},
   "source": [
    "### Regular Season"
   ]
  },
  {
   "cell_type": "markdown",
   "metadata": {},
   "source": [
    "Descriptive Statistics for Defensive Rebounds for the Regular Season"
   ]
  },
  {
   "cell_type": "code",
   "execution_count": 127,
   "metadata": {},
   "outputs": [
    {
     "data": {
      "text/html": [
       "<div>\n",
       "<style>\n",
       "    .dataframe thead tr:only-child th {\n",
       "        text-align: right;\n",
       "    }\n",
       "\n",
       "    .dataframe thead th {\n",
       "        text-align: left;\n",
       "    }\n",
       "\n",
       "    .dataframe tbody tr th {\n",
       "        vertical-align: top;\n",
       "    }\n",
       "</style>\n",
       "<table border=\"1\" class=\"dataframe\">\n",
       "  <thead>\n",
       "    <tr style=\"text-align: right;\">\n",
       "      <th></th>\n",
       "      <th>DefensiveRebounds_Team</th>\n",
       "    </tr>\n",
       "  </thead>\n",
       "  <tbody>\n",
       "    <tr>\n",
       "      <th>count</th>\n",
       "      <td>157378.000000</td>\n",
       "    </tr>\n",
       "    <tr>\n",
       "      <th>mean</th>\n",
       "      <td>23.790327</td>\n",
       "    </tr>\n",
       "    <tr>\n",
       "      <th>std</th>\n",
       "      <td>2.727441</td>\n",
       "    </tr>\n",
       "    <tr>\n",
       "      <th>min</th>\n",
       "      <td>6.000000</td>\n",
       "    </tr>\n",
       "    <tr>\n",
       "      <th>25%</th>\n",
       "      <td>22.000000</td>\n",
       "    </tr>\n",
       "    <tr>\n",
       "      <th>50%</th>\n",
       "      <td>23.680000</td>\n",
       "    </tr>\n",
       "    <tr>\n",
       "      <th>75%</th>\n",
       "      <td>25.400000</td>\n",
       "    </tr>\n",
       "    <tr>\n",
       "      <th>max</th>\n",
       "      <td>48.000000</td>\n",
       "    </tr>\n",
       "  </tbody>\n",
       "</table>\n",
       "</div>"
      ],
      "text/plain": [
       "       DefensiveRebounds_Team\n",
       "count           157378.000000\n",
       "mean                23.790327\n",
       "std                  2.727441\n",
       "min                  6.000000\n",
       "25%                 22.000000\n",
       "50%                 23.680000\n",
       "75%                 25.400000\n",
       "max                 48.000000"
      ]
     },
     "execution_count": 127,
     "metadata": {},
     "output_type": "execute_result"
    }
   ],
   "source": [
    "df_reg_season[['DefensiveRebounds_Team']].describe()"
   ]
  },
  {
   "cell_type": "markdown",
   "metadata": {},
   "source": [
    "Descriptive Statistics for DefensiveReboundsWin/DefensiveReboundsLose for the Regular Season"
   ]
  },
  {
   "cell_type": "code",
   "execution_count": 128,
   "metadata": {},
   "outputs": [
    {
     "data": {
      "text/html": [
       "<div>\n",
       "<style>\n",
       "    .dataframe thead tr:only-child th {\n",
       "        text-align: right;\n",
       "    }\n",
       "\n",
       "    .dataframe thead th {\n",
       "        text-align: left;\n",
       "    }\n",
       "\n",
       "    .dataframe tbody tr th {\n",
       "        vertical-align: top;\n",
       "    }\n",
       "</style>\n",
       "<table border=\"1\" class=\"dataframe\">\n",
       "  <thead>\n",
       "    <tr style=\"text-align: right;\">\n",
       "      <th></th>\n",
       "      <th>DefensiveReboundsWin</th>\n",
       "      <th>DefensiveReboundsLose</th>\n",
       "    </tr>\n",
       "  </thead>\n",
       "  <tbody>\n",
       "    <tr>\n",
       "      <th>count</th>\n",
       "      <td>157378.000000</td>\n",
       "      <td>157378.000000</td>\n",
       "    </tr>\n",
       "    <tr>\n",
       "      <th>mean</th>\n",
       "      <td>24.116981</td>\n",
       "      <td>23.463672</td>\n",
       "    </tr>\n",
       "    <tr>\n",
       "      <th>std</th>\n",
       "      <td>2.762765</td>\n",
       "      <td>2.651715</td>\n",
       "    </tr>\n",
       "    <tr>\n",
       "      <th>min</th>\n",
       "      <td>8.000000</td>\n",
       "      <td>6.000000</td>\n",
       "    </tr>\n",
       "    <tr>\n",
       "      <th>25%</th>\n",
       "      <td>22.350000</td>\n",
       "      <td>21.777778</td>\n",
       "    </tr>\n",
       "    <tr>\n",
       "      <th>50%</th>\n",
       "      <td>24.000000</td>\n",
       "      <td>23.368421</td>\n",
       "    </tr>\n",
       "    <tr>\n",
       "      <th>75%</th>\n",
       "      <td>25.714286</td>\n",
       "      <td>25.000000</td>\n",
       "    </tr>\n",
       "    <tr>\n",
       "      <th>max</th>\n",
       "      <td>48.000000</td>\n",
       "      <td>44.000000</td>\n",
       "    </tr>\n",
       "  </tbody>\n",
       "</table>\n",
       "</div>"
      ],
      "text/plain": [
       "       DefensiveReboundsWin  DefensiveReboundsLose\n",
       "count         157378.000000          157378.000000\n",
       "mean              24.116981              23.463672\n",
       "std                2.762765               2.651715\n",
       "min                8.000000               6.000000\n",
       "25%               22.350000              21.777778\n",
       "50%               24.000000              23.368421\n",
       "75%               25.714286              25.000000\n",
       "max               48.000000              44.000000"
      ]
     },
     "execution_count": 128,
     "metadata": {},
     "output_type": "execute_result"
    }
   ],
   "source": [
    "df_winlose_reg_season[['DefensiveReboundsWin', 'DefensiveReboundsLose']].describe()"
   ]
  },
  {
   "cell_type": "markdown",
   "metadata": {},
   "source": [
    "#### Boxplots"
   ]
  },
  {
   "cell_type": "code",
   "execution_count": 129,
   "metadata": {},
   "outputs": [
    {
     "data": {
      "text/plain": [
       "Text(0.5,0,u'Combined Defensive Rebounds, Winning Team Defensive Rebounds, Losing Team Defensive Rebounds')"
      ]
     },
     "execution_count": 129,
     "metadata": {},
     "output_type": "execute_result"
    },
    {
     "data": {
      "image/png": "[encoded data removed]",
      "text/plain": [
       "<matplotlib.figure.Figure at 0x202064a8>"
      ]
     },
     "metadata": {},
     "output_type": "display_data"
    }
   ],
   "source": [
    "data = [df_reg_season['DefensiveRebounds_Team'], df_winlose_reg_season['DefensiveReboundsWin'], df_winlose_reg_season['DefensiveReboundsLose']]\n",
    "plt.figure()\n",
    "plt.boxplot(data)\n",
    "plt.title('Boxplot for Defensive Rebounds in Regular Season')\n",
    "plt.xlabel('Combined Defensive Rebounds, Winning Team Defensive Rebounds, Losing Team Defensive Rebounds')"
   ]
  },
  {
   "cell_type": "markdown",
   "metadata": {},
   "source": [
    "#### Histogram"
   ]
  },
  {
   "cell_type": "code",
   "execution_count": 130,
   "metadata": {},
   "outputs": [
    {
     "data": {
      "text/plain": [
       "Text(0.5,1,u'Defensive Rebounds of Winning Team v. Losing Team')"
      ]
     },
     "execution_count": 130,
     "metadata": {},
     "output_type": "execute_result"
    },
    {
     "data": {
      "image/png": "[encoded data removed]",
      "text/plain": [
       "<matplotlib.figure.Figure at 0x1ff296d8>"
      ]
     },
     "metadata": {},
     "output_type": "display_data"
    }
   ],
   "source": [
    "fig, axes = plt.subplots(nrows=1, ncols=1)\n",
    "\n",
    "labels = ['Defensive Rebounds for Winning Team', 'Defensive Rebounds for Losing Team']\n",
    "colors = ['red', 'blue']\n",
    "\n",
    "axes.hist([df_winlose_reg_season['DefensiveReboundsWin'], df_winlose_reg_season['DefensiveReboundsLose']], 100, histtype='step', fill=False, label=labels, color=colors)\n",
    "axes.legend(bbox_to_anchor=(1.05, 1), loc=2, borderaxespad=0.)\n",
    "axes.set_title('Defensive Rebounds of Winning Team v. Losing Team')"
   ]
  },
  {
   "cell_type": "markdown",
   "metadata": {},
   "source": [
    "#### Two Independent Samples T-Test"
   ]
  },
  {
   "cell_type": "code",
   "execution_count": 131,
   "metadata": {},
   "outputs": [
    {
     "name": "stdout",
     "output_type": "stream",
     "text": [
      "ttest_ind: t = 67.68  p = 0.0000\n"
     ]
    }
   ],
   "source": [
    "t, p = ttest_ind(df_winlose_reg_season['DefensiveReboundsWin'], df_winlose_reg_season['DefensiveReboundsLose'], equal_var=True)\n",
    "print(\"ttest_ind: t = {0:.2f}  p = {1:.4f}\".format(t, p))"
   ]
  },
  {
   "cell_type": "markdown",
   "metadata": {},
   "source": [
    "#### Correlation Between (DefensiveRebounds_Team - DefensiveRebounds_Opponent) and Outcome"
   ]
  },
  {
   "cell_type": "code",
   "execution_count": 132,
   "metadata": {},
   "outputs": [
    {
     "name": "stdout",
     "output_type": "stream",
     "text": [
      "The correlation is: 0.19\n"
     ]
    }
   ],
   "source": [
    "df_corr = pd.DataFrame({'Outcome':df_reg_season['Outcome']})\n",
    "df_corr['DefensiveReboundsDifference'] = df_reg_season['DefensiveRebounds_Team'] - df_reg_season['DefensiveRebounds_Opponent']\n",
    "\n",
    "print 'The correlation is: {0:.2f}'.format(df_corr.corr().iloc[0,1])"
   ]
  },
  {
   "cell_type": "markdown",
   "metadata": {},
   "source": [
    "### Tournament"
   ]
  },
  {
   "cell_type": "markdown",
   "metadata": {},
   "source": [
    "Descriptive Statistics for Defensive Rebounds for the Regular Season"
   ]
  },
  {
   "cell_type": "code",
   "execution_count": 133,
   "metadata": {},
   "outputs": [
    {
     "data": {
      "text/html": [
       "<div>\n",
       "<style>\n",
       "    .dataframe thead tr:only-child th {\n",
       "        text-align: right;\n",
       "    }\n",
       "\n",
       "    .dataframe thead th {\n",
       "        text-align: left;\n",
       "    }\n",
       "\n",
       "    .dataframe tbody tr th {\n",
       "        vertical-align: top;\n",
       "    }\n",
       "</style>\n",
       "<table border=\"1\" class=\"dataframe\">\n",
       "  <thead>\n",
       "    <tr style=\"text-align: right;\">\n",
       "      <th></th>\n",
       "      <th>DefensiveRebounds_Team</th>\n",
       "    </tr>\n",
       "  </thead>\n",
       "  <tbody>\n",
       "    <tr>\n",
       "      <th>count</th>\n",
       "      <td>930.000000</td>\n",
       "    </tr>\n",
       "    <tr>\n",
       "      <th>mean</th>\n",
       "      <td>26.004857</td>\n",
       "    </tr>\n",
       "    <tr>\n",
       "      <th>std</th>\n",
       "      <td>4.402060</td>\n",
       "    </tr>\n",
       "    <tr>\n",
       "      <th>min</th>\n",
       "      <td>13.000000</td>\n",
       "    </tr>\n",
       "    <tr>\n",
       "      <th>25%</th>\n",
       "      <td>23.000000</td>\n",
       "    </tr>\n",
       "    <tr>\n",
       "      <th>50%</th>\n",
       "      <td>25.750000</td>\n",
       "    </tr>\n",
       "    <tr>\n",
       "      <th>75%</th>\n",
       "      <td>29.000000</td>\n",
       "    </tr>\n",
       "    <tr>\n",
       "      <th>max</th>\n",
       "      <td>43.000000</td>\n",
       "    </tr>\n",
       "  </tbody>\n",
       "</table>\n",
       "</div>"
      ],
      "text/plain": [
       "       DefensiveRebounds_Team\n",
       "count              930.000000\n",
       "mean                26.004857\n",
       "std                  4.402060\n",
       "min                 13.000000\n",
       "25%                 23.000000\n",
       "50%                 25.750000\n",
       "75%                 29.000000\n",
       "max                 43.000000"
      ]
     },
     "execution_count": 133,
     "metadata": {},
     "output_type": "execute_result"
    }
   ],
   "source": [
    "df_tourney[['DefensiveRebounds_Team']].describe()"
   ]
  },
  {
   "cell_type": "markdown",
   "metadata": {},
   "source": [
    "Descriptive Statistics for DefensiveReboundsWin / DefensiveReboundsLose for the Regular Season"
   ]
  },
  {
   "cell_type": "code",
   "execution_count": 134,
   "metadata": {},
   "outputs": [
    {
     "data": {
      "text/html": [
       "<div>\n",
       "<style>\n",
       "    .dataframe thead tr:only-child th {\n",
       "        text-align: right;\n",
       "    }\n",
       "\n",
       "    .dataframe thead th {\n",
       "        text-align: left;\n",
       "    }\n",
       "\n",
       "    .dataframe tbody tr th {\n",
       "        vertical-align: top;\n",
       "    }\n",
       "</style>\n",
       "<table border=\"1\" class=\"dataframe\">\n",
       "  <thead>\n",
       "    <tr style=\"text-align: right;\">\n",
       "      <th></th>\n",
       "      <th>DefensiveReboundsWin</th>\n",
       "      <th>DefensiveReboundsLose</th>\n",
       "    </tr>\n",
       "  </thead>\n",
       "  <tbody>\n",
       "    <tr>\n",
       "      <th>count</th>\n",
       "      <td>930.000000</td>\n",
       "      <td>930.000000</td>\n",
       "    </tr>\n",
       "    <tr>\n",
       "      <th>mean</th>\n",
       "      <td>26.384624</td>\n",
       "      <td>25.625090</td>\n",
       "    </tr>\n",
       "    <tr>\n",
       "      <th>std</th>\n",
       "      <td>4.517090</td>\n",
       "      <td>4.250107</td>\n",
       "    </tr>\n",
       "    <tr>\n",
       "      <th>min</th>\n",
       "      <td>14.000000</td>\n",
       "      <td>13.000000</td>\n",
       "    </tr>\n",
       "    <tr>\n",
       "      <th>25%</th>\n",
       "      <td>23.333333</td>\n",
       "      <td>23.000000</td>\n",
       "    </tr>\n",
       "    <tr>\n",
       "      <th>50%</th>\n",
       "      <td>26.000000</td>\n",
       "      <td>25.000000</td>\n",
       "    </tr>\n",
       "    <tr>\n",
       "      <th>75%</th>\n",
       "      <td>29.000000</td>\n",
       "      <td>28.000000</td>\n",
       "    </tr>\n",
       "    <tr>\n",
       "      <th>max</th>\n",
       "      <td>43.000000</td>\n",
       "      <td>39.000000</td>\n",
       "    </tr>\n",
       "  </tbody>\n",
       "</table>\n",
       "</div>"
      ],
      "text/plain": [
       "       DefensiveReboundsWin  DefensiveReboundsLose\n",
       "count            930.000000             930.000000\n",
       "mean              26.384624              25.625090\n",
       "std                4.517090               4.250107\n",
       "min               14.000000              13.000000\n",
       "25%               23.333333              23.000000\n",
       "50%               26.000000              25.000000\n",
       "75%               29.000000              28.000000\n",
       "max               43.000000              39.000000"
      ]
     },
     "execution_count": 134,
     "metadata": {},
     "output_type": "execute_result"
    }
   ],
   "source": [
    "df_winlose_tourney[['DefensiveReboundsWin', 'DefensiveReboundsLose']].describe()"
   ]
  },
  {
   "cell_type": "markdown",
   "metadata": {},
   "source": [
    "#### Boxplots"
   ]
  },
  {
   "cell_type": "code",
   "execution_count": 135,
   "metadata": {},
   "outputs": [
    {
     "data": {
      "text/plain": [
       "Text(0.5,0,u'Combined Defensive Rebounds, Winning Team Defensive Rebounds, Losing Team Defensive Rebounds')"
      ]
     },
     "execution_count": 135,
     "metadata": {},
     "output_type": "execute_result"
    },
    {
     "data": {
      "image/png": "[encoded data removed]",
      "text/plain": [
       "<matplotlib.figure.Figure at 0x2036ebe0>"
      ]
     },
     "metadata": {},
     "output_type": "display_data"
    }
   ],
   "source": [
    "data = [df_tourney['DefensiveRebounds_Team'], df_winlose_tourney['DefensiveReboundsWin'], df_winlose_tourney['DefensiveReboundsLose']]\n",
    "plt.figure()\n",
    "plt.boxplot(data)\n",
    "plt.title('Boxplot for Defensive Rebounds in Tournament')\n",
    "plt.xlabel('Combined Defensive Rebounds, Winning Team Defensive Rebounds, Losing Team Defensive Rebounds')"
   ]
  },
  {
   "cell_type": "markdown",
   "metadata": {},
   "source": [
    "#### Histogram"
   ]
  },
  {
   "cell_type": "code",
   "execution_count": 136,
   "metadata": {},
   "outputs": [
    {
     "data": {
      "text/plain": [
       "Text(0.5,1,u'Defensive Rebounds of Winning Team v. Losing Team')"
      ]
     },
     "execution_count": 136,
     "metadata": {},
     "output_type": "execute_result"
    },
    {
     "data": {
      "image/png": "[encoded data removed]",
      "text/plain": [
       "<matplotlib.figure.Figure at 0x206429e8>"
      ]
     },
     "metadata": {},
     "output_type": "display_data"
    }
   ],
   "source": [
    "fig, axes = plt.subplots(nrows=1, ncols=1)\n",
    "\n",
    "labels = ['Defensive Rebounds for Winning Team', 'Defensive Rebounds for Losing Team']\n",
    "colors = ['red', 'blue']\n",
    "\n",
    "axes.hist([df_winlose_tourney['DefensiveReboundsWin'], df_winlose_tourney['DefensiveReboundsLose']], 100, histtype='step', fill=False, label=labels, color=colors)\n",
    "axes.legend(bbox_to_anchor=(1.05, 1), loc=2, borderaxespad=0.)\n",
    "axes.set_title('Defensive Rebounds of Winning Team v. Losing Team')"
   ]
  },
  {
   "cell_type": "markdown",
   "metadata": {},
   "source": [
    "#### Two Independent Samples T-Test"
   ]
  },
  {
   "cell_type": "code",
   "execution_count": 137,
   "metadata": {},
   "outputs": [
    {
     "name": "stdout",
     "output_type": "stream",
     "text": [
      "ttest_ind: t = 3.73  p = 0.0002\n"
     ]
    }
   ],
   "source": [
    "t, p = ttest_ind(df_winlose_tourney['DefensiveReboundsWin'], df_winlose_tourney['DefensiveReboundsLose'], equal_var=True)\n",
    "print(\"ttest_ind: t = {0:.2f}  p = {1:.4f}\".format(t, p))"
   ]
  },
  {
   "cell_type": "markdown",
   "metadata": {},
   "source": [
    "#### Correlation Between (DefensiveRebounds_Team - DefensiveRebounds_Opponent) and Outcome"
   ]
  },
  {
   "cell_type": "code",
   "execution_count": 138,
   "metadata": {},
   "outputs": [
    {
     "name": "stdout",
     "output_type": "stream",
     "text": [
      "The correlation is: 0.12\n"
     ]
    }
   ],
   "source": [
    "df_corr = pd.DataFrame({'Outcome':df_tourney['Outcome']})\n",
    "df_corr['DefensiveReboundsDifference'] = df_tourney['DefensiveRebounds_Team'] - df_tourney['DefensiveRebounds_Opponent']\n",
    "\n",
    "print 'The correlation is: {0:.2f}'.format(df_corr.corr().iloc[0,1])"
   ]
  },
  {
   "cell_type": "markdown",
   "metadata": {},
   "source": [
    "### Analysis"
   ]
  },
  {
   "cell_type": "markdown",
   "metadata": {},
   "source": [
    "The mean defensive rebounds for the regular season is 23.8 whereas the mean defensive rebounds in the tournament is 26.0, so the defensive rebounding is better for tournament teams, which makes sense.\n",
    "\n",
    "For the regular season, the difference between the mean defensive rebounding of winning teams (24.1) v. losing teams (23.5) is about 0.6, and is statistically significant.  The correlation between the defensive rebounding of the teams and the outcome of the game (win/lose) is 0.19, which indicates a weak linear relationship.\n",
    "\n",
    "For the tournament, the difference between the mean defensive rebounding of winning teams (26.4) v. losing teams (25.6) is about 0.8, and is statistically significant.  The correlation between the defensive rebounding of the teams and the outcome of the game (win/lose) is 0.12, which is a weak linear relationship.\n",
    "\n",
    "This feature may provide some benefit to predicting the outcome of tournament games, especially the early games, which are more similar to regular season games."
   ]
  },
  {
   "cell_type": "markdown",
   "metadata": {},
   "source": [
    "## Conclusion"
   ]
  },
  {
   "cell_type": "markdown",
   "metadata": {},
   "source": [
    "As seen from the analysis, tournament games are played by higher caliber teams, so the game statistics are higher for those teams, and the statistical spreads between the teams are narrower.  Games earlier in the tournament have a greater proportion of teams that are statistically unbalanced, and it is these games that can take advantage of features highlighted in this analysis.\n",
    "\n",
    "Of the features considered, all features except three point shooting and free throw shooting (for tournament games) show a statistically significant difference between winning and losing teams.  Note that only two point shooting percent and defensive rebounding have a weak correlation with the outcome of the game.  Three point shooting percent, free throw shooting percent, and offensive rebounding have no correlation with the game outcome.\n",
    "\n",
    "Therefore the model might consider the following features:\n",
    "* The average two point shooting percentage of teams per season.\n",
    "* The average defensive rebounds of teams per season.\n",
    "\n",
    "and should not consider the following features:\n",
    "* The average three point shooting percentage of teams per season.\n",
    "* The average free throw shooting percentage of teams per season.\n",
    "* The average offensive rebounds of teams per season."
   ]
  }
 ],
 "metadata": {
  "kernelspec": {
   "display_name": "Python 2",
   "language": "python",
   "name": "python2"
  },
  "language_info": {
   "codemirror_mode": {
    "name": "ipython",
    "version": 2
   },
   "file_extension": ".py",
   "mimetype": "text/x-python",
   "name": "python",
   "nbconvert_exporter": "python",
   "pygments_lexer": "ipython2",
   "version": "2.7.14"
  }
 },
 "nbformat": 4,
 "nbformat_minor": 2
}
