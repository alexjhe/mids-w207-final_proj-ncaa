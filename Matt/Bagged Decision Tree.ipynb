{
 "cells": [
  {
   "cell_type": "code",
   "execution_count": 1,
   "metadata": {
    "collapsed": true
   },
   "outputs": [],
   "source": [
    "import numpy as np # linear algebra\n",
    "import pandas as pd # data processing, CSV file I/O (e.g. pd.read_csv)\n",
    "import matplotlib.pyplot as plt\n",
    "\n",
    "from sklearn.ensemble import BaggingClassifier\n",
    "from sklearn.tree import DecisionTreeClassifier\n",
    "from sklearn.model_selection import GridSearchCV\n",
    "\n",
    "%matplotlib inline"
   ]
  },
  {
   "cell_type": "code",
   "execution_count": 2,
   "metadata": {
    "collapsed": true
   },
   "outputs": [],
   "source": [
    "data_dir = '../SQL/'\n",
    "df_train = pd.read_csv(data_dir + 'TrainTable.csv')\n",
    "df_test = pd.read_csv(data_dir + 'TestTable.csv')"
   ]
  },
  {
   "cell_type": "code",
   "execution_count": 44,
   "metadata": {
    "collapsed": true
   },
   "outputs": [],
   "source": [
    "features1 = ['AvgWinMargin1', 'AvgLoseMargin1', 'TwoPointPct1', 'ThreePointPct1', 'FreeThrowPct1', 'OffensiveRebounds1', 'DefensiveRebounds1', 'Rank1', 'AvgWinMargin2', 'AvgLoseMargin2', 'TwoPointPct2', 'ThreePointPct2', 'FreeThrowPct2', 'OffensiveRebounds2', 'DefensiveRebounds2', 'Rank2']\n",
    "features2 = ['AvgWinMargin1', 'AvgLoseMargin1', 'TwoPointPct1', 'DefensiveRebounds1', 'Rank1', 'AvgWinMargin2', 'AvgLoseMargin2', 'TwoPointPct2', 'DefensiveRebounds2', 'Rank2']\n",
    "features3 = ['Rank1', 'Rank2']\n",
    "features4 = ['AvgWinMargin1', 'AvgWinMargin2']\n",
    "features5 = ['TwoPointPct1', 'TwoPointPct2']\n",
    "\n",
    "# features3 gives the best score\n",
    "continuous = features3\n",
    "target = 'Win'"
   ]
  },
  {
   "cell_type": "code",
   "execution_count": 46,
   "metadata": {
    "collapsed": true
   },
   "outputs": [],
   "source": [
    "X_train = df_train[continuous]\n",
    "y_train = df_train[target]\n",
    "X_test = df_test[continuous]\n",
    "y_test = df_test[target]"
   ]
  },
  {
   "cell_type": "code",
   "execution_count": 47,
   "metadata": {
    "collapsed": true
   },
   "outputs": [],
   "source": [
    "bagging = BaggingClassifier(DecisionTreeClassifier())"
   ]
  },
  {
   "cell_type": "code",
   "execution_count": 48,
   "metadata": {},
   "outputs": [
    {
     "name": "stdout",
     "output_type": "stream",
     "text": [
      "Best log_loss: -1.296, max_samples: 0.3\n"
     ]
    }
   ],
   "source": [
    "#params = {'max_samples':[0.3, 0.4, 0.5, 0.6, 0.7], 'max_features':[0.3, 0.4, 0.5, 0.6, 0.7]}\n",
    "params = {'max_samples':[0.3, 0.4, 0.5, 0.6, 0.7]}\n",
    "clf = GridSearchCV(bagging, params, scoring='neg_log_loss', refit=True)\n",
    "\n",
    "clf.fit(X_train, y_train)\n",
    "score = clf.score(X_test, y_test)\n",
    "#print('Best log_loss: {:.4}, max_samples: {}, max_features: {}'.format(clf.best_score_, clf.best_params_['max_samples'], clf.best_params_['max_features']))\n",
    "print('Best log_loss: {:.4}, max_samples: {}'.format(clf.best_score_, clf.best_params_['max_samples']))"
   ]
  },
  {
   "cell_type": "code",
   "execution_count": 49,
   "metadata": {},
   "outputs": [
    {
     "name": "stdout",
     "output_type": "stream",
     "text": [
      "Score is: 0.652977412731\n"
     ]
    }
   ],
   "source": [
    "#bagging = BaggingClassifier(DecisionTreeClassifier(), max_samples=0.5, max_features=0.3)\n",
    "bagging = BaggingClassifier(DecisionTreeClassifier(), max_samples=0.3)\n",
    "bagging.fit(X_train, y_train)\n",
    "score = bagging.score(X_test, y_test)\n",
    "print 'Score is: {}'.format(score)"
   ]
  },
  {
   "cell_type": "code",
   "execution_count": 50,
   "metadata": {},
   "outputs": [
    {
     "data": {
      "image/png": "[encoded data removed]",
      "text/plain": [
       "<matplotlib.figure.Figure at 0x29271438>"
      ]
     },
     "metadata": {},
     "output_type": "display_data"
    }
   ],
   "source": [
    "y_probas = bagging.predict_proba(X_test)\n",
    "\n",
    "from sklearn import metrics\n",
    "fpr, tpr, thresholds = metrics.roc_curve(y_test.values, y_probas[:,1])\n",
    "plt.plot(fpr, tpr)\n",
    "plt.plot([0, 1], [0, 1], 'k--')\n",
    "plt.xlabel('False Positive Rate')\n",
    "plt.ylabel('True Positive Rate')\n",
    "plt.show()"
   ]
  },
  {
   "cell_type": "code",
   "execution_count": null,
   "metadata": {
    "collapsed": true
   },
   "outputs": [],
   "source": []
  }
 ],
 "metadata": {
  "kernelspec": {
   "display_name": "Python 2",
   "language": "python",
   "name": "python2"
  },
  "language_info": {
   "codemirror_mode": {
    "name": "ipython",
    "version": 2
   },
   "file_extension": ".py",
   "mimetype": "text/x-python",
   "name": "python",
   "nbconvert_exporter": "python",
   "pygments_lexer": "ipython2",
   "version": "2.7.14"
  }
 },
 "nbformat": 4,
 "nbformat_minor": 2
}
