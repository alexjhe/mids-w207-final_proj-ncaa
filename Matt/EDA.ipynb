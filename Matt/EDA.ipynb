{
 "cells": [
  {
   "cell_type": "code",
   "execution_count": 1,
   "metadata": {
    "collapsed": true
   },
   "outputs": [],
   "source": [
    "import numpy as np # linear algebra\n",
    "import pandas as pd # data processing, CSV file I/O (e.g. pd.read_csv)\n",
    "import matplotlib.pyplot as plt\n",
    "\n",
    "%matplotlib inline"
   ]
  },
  {
   "cell_type": "code",
   "execution_count": 2,
   "metadata": {
    "collapsed": true
   },
   "outputs": [],
   "source": [
    "data_dir = '../SQL/'\n",
    "df_train = pd.read_csv(data_dir + 'TrainTable.csv')\n",
    "df_test = pd.read_csv(data_dir + 'TestTable.csv')"
   ]
  },
  {
   "cell_type": "code",
   "execution_count": 8,
   "metadata": {
    "collapsed": true
   },
   "outputs": [],
   "source": [
    "df_eda = pd.DataFrame()"
   ]
  },
  {
   "cell_type": "code",
   "execution_count": 9,
   "metadata": {
    "collapsed": true
   },
   "outputs": [],
   "source": [
    "df_eda['AvgWinMarginWin'] = 0\n",
    "df_eda['AvgWinMarginLose'] = 0\n",
    "df_eda['AvgLoseMarginWin'] = 0\n",
    "df_eda['AvgLoseMarginLose'] = 0\n",
    "df_eda['TwoPointPctWin'] = 0\n",
    "df_eda['TwoPointPctLose'] = 0\n",
    "df_eda['ThreePointPctWin'] = 0\n",
    "df_eda['ThreePointPctLose'] = 0\n",
    "df_eda['FreeThrowPctWin'] = 0\n",
    "df_eda['FreeThrowPctLose'] = 0\n",
    "df_eda['OffensiveReboundsWin'] = 0\n",
    "df_eda['OffensiveReboundsLose'] = 0\n",
    "df_eda['DefensiveReboundsWin'] = 0\n",
    "df_eda['DefensiveReboundsLose'] = 0\n",
    "df_eda['RankDifferenceWin'] = 0"
   ]
  },
  {
   "cell_type": "code",
   "execution_count": 10,
   "metadata": {},
   "outputs": [
    {
     "data": {
      "text/html": [
       "<div>\n",
       "<style>\n",
       "    .dataframe thead tr:only-child th {\n",
       "        text-align: right;\n",
       "    }\n",
       "\n",
       "    .dataframe thead th {\n",
       "        text-align: left;\n",
       "    }\n",
       "\n",
       "    .dataframe tbody tr th {\n",
       "        vertical-align: top;\n",
       "    }\n",
       "</style>\n",
       "<table border=\"1\" class=\"dataframe\">\n",
       "  <thead>\n",
       "    <tr style=\"text-align: right;\">\n",
       "      <th></th>\n",
       "      <th>Season</th>\n",
       "      <th>Team1</th>\n",
       "      <th>Team2</th>\n",
       "      <th>Win</th>\n",
       "      <th>AvgWinMargin1</th>\n",
       "      <th>AvgLoseMargin1</th>\n",
       "      <th>TwoPointPct1</th>\n",
       "      <th>ThreePointPct1</th>\n",
       "      <th>FreeThrowPct1</th>\n",
       "      <th>OffensiveRebounds1</th>\n",
       "      <th>DefensiveRebounds1</th>\n",
       "      <th>Rank1</th>\n",
       "      <th>AvgWinMargin2</th>\n",
       "      <th>AvgLoseMargin2</th>\n",
       "      <th>TwoPointPct2</th>\n",
       "      <th>ThreePointPct2</th>\n",
       "      <th>FreeThrowPct2</th>\n",
       "      <th>OffensiveRebounds2</th>\n",
       "      <th>DefensiveRebounds2</th>\n",
       "      <th>Rank2</th>\n",
       "    </tr>\n",
       "  </thead>\n",
       "  <tbody>\n",
       "    <tr>\n",
       "      <th>0</th>\n",
       "      <td>2003</td>\n",
       "      <td>1104</td>\n",
       "      <td>1328</td>\n",
       "      <td>1</td>\n",
       "      <td>13.1765</td>\n",
       "      <td>9.4545</td>\n",
       "      <td>0.471200</td>\n",
       "      <td>0.325436</td>\n",
       "      <td>0.705171</td>\n",
       "      <td>13.5714</td>\n",
       "      <td>23.9286</td>\n",
       "      <td>12.0</td>\n",
       "      <td>15.5417</td>\n",
       "      <td>7.1667</td>\n",
       "      <td>0.470663</td>\n",
       "      <td>0.391223</td>\n",
       "      <td>0.714353</td>\n",
       "      <td>12.1333</td>\n",
       "      <td>24.9667</td>\n",
       "      <td>24.0</td>\n",
       "    </tr>\n",
       "    <tr>\n",
       "      <th>1</th>\n",
       "      <td>2003</td>\n",
       "      <td>1272</td>\n",
       "      <td>1393</td>\n",
       "      <td>1</td>\n",
       "      <td>12.6957</td>\n",
       "      <td>6.6667</td>\n",
       "      <td>0.484628</td>\n",
       "      <td>0.343438</td>\n",
       "      <td>0.628297</td>\n",
       "      <td>14.0690</td>\n",
       "      <td>25.9655</td>\n",
       "      <td>67.0</td>\n",
       "      <td>14.4167</td>\n",
       "      <td>10.0000</td>\n",
       "      <td>0.519259</td>\n",
       "      <td>0.339131</td>\n",
       "      <td>0.687831</td>\n",
       "      <td>14.3103</td>\n",
       "      <td>26.8966</td>\n",
       "      <td>120.0</td>\n",
       "    </tr>\n",
       "    <tr>\n",
       "      <th>2</th>\n",
       "      <td>2003</td>\n",
       "      <td>1266</td>\n",
       "      <td>1437</td>\n",
       "      <td>1</td>\n",
       "      <td>14.8261</td>\n",
       "      <td>8.2000</td>\n",
       "      <td>0.521282</td>\n",
       "      <td>0.391261</td>\n",
       "      <td>0.778493</td>\n",
       "      <td>13.1071</td>\n",
       "      <td>24.0714</td>\n",
       "      <td>33.0</td>\n",
       "      <td>12.2667</td>\n",
       "      <td>8.0667</td>\n",
       "      <td>0.455860</td>\n",
       "      <td>0.364153</td>\n",
       "      <td>0.712580</td>\n",
       "      <td>14.7000</td>\n",
       "      <td>23.7000</td>\n",
       "      <td>30.0</td>\n",
       "    </tr>\n",
       "    <tr>\n",
       "      <th>3</th>\n",
       "      <td>2003</td>\n",
       "      <td>1296</td>\n",
       "      <td>1457</td>\n",
       "      <td>1</td>\n",
       "      <td>10.1765</td>\n",
       "      <td>12.7857</td>\n",
       "      <td>0.492261</td>\n",
       "      <td>0.384861</td>\n",
       "      <td>0.658242</td>\n",
       "      <td>13.0000</td>\n",
       "      <td>22.6452</td>\n",
       "      <td>131.0</td>\n",
       "      <td>10.8333</td>\n",
       "      <td>11.0000</td>\n",
       "      <td>0.478421</td>\n",
       "      <td>0.362411</td>\n",
       "      <td>0.630118</td>\n",
       "      <td>12.0357</td>\n",
       "      <td>23.9643</td>\n",
       "      <td>211.0</td>\n",
       "    </tr>\n",
       "    <tr>\n",
       "      <th>4</th>\n",
       "      <td>2003</td>\n",
       "      <td>1208</td>\n",
       "      <td>1400</td>\n",
       "      <td>0</td>\n",
       "      <td>11.4211</td>\n",
       "      <td>6.8750</td>\n",
       "      <td>0.500970</td>\n",
       "      <td>0.379070</td>\n",
       "      <td>0.714730</td>\n",
       "      <td>12.8148</td>\n",
       "      <td>24.5926</td>\n",
       "      <td>98.0</td>\n",
       "      <td>14.8182</td>\n",
       "      <td>6.8333</td>\n",
       "      <td>0.484900</td>\n",
       "      <td>0.349211</td>\n",
       "      <td>0.715654</td>\n",
       "      <td>16.1786</td>\n",
       "      <td>26.1429</td>\n",
       "      <td>34.0</td>\n",
       "    </tr>\n",
       "  </tbody>\n",
       "</table>\n",
       "</div>"
      ],
      "text/plain": [
       "   Season  Team1  Team2  Win  AvgWinMargin1  AvgLoseMargin1  TwoPointPct1  \\\n",
       "0    2003   1104   1328    1        13.1765          9.4545      0.471200   \n",
       "1    2003   1272   1393    1        12.6957          6.6667      0.484628   \n",
       "2    2003   1266   1437    1        14.8261          8.2000      0.521282   \n",
       "3    2003   1296   1457    1        10.1765         12.7857      0.492261   \n",
       "4    2003   1208   1400    0        11.4211          6.8750      0.500970   \n",
       "\n",
       "   ThreePointPct1  FreeThrowPct1  OffensiveRebounds1  DefensiveRebounds1  \\\n",
       "0        0.325436       0.705171             13.5714             23.9286   \n",
       "1        0.343438       0.628297             14.0690             25.9655   \n",
       "2        0.391261       0.778493             13.1071             24.0714   \n",
       "3        0.384861       0.658242             13.0000             22.6452   \n",
       "4        0.379070       0.714730             12.8148             24.5926   \n",
       "\n",
       "   Rank1  AvgWinMargin2  AvgLoseMargin2  TwoPointPct2  ThreePointPct2  \\\n",
       "0   12.0        15.5417          7.1667      0.470663        0.391223   \n",
       "1   67.0        14.4167         10.0000      0.519259        0.339131   \n",
       "2   33.0        12.2667          8.0667      0.455860        0.364153   \n",
       "3  131.0        10.8333         11.0000      0.478421        0.362411   \n",
       "4   98.0        14.8182          6.8333      0.484900        0.349211   \n",
       "\n",
       "   FreeThrowPct2  OffensiveRebounds2  DefensiveRebounds2  Rank2  \n",
       "0       0.714353             12.1333             24.9667   24.0  \n",
       "1       0.687831             14.3103             26.8966  120.0  \n",
       "2       0.712580             14.7000             23.7000   30.0  \n",
       "3       0.630118             12.0357             23.9643  211.0  \n",
       "4       0.715654             16.1786             26.1429   34.0  "
      ]
     },
     "execution_count": 10,
     "metadata": {},
     "output_type": "execute_result"
    }
   ],
   "source": [
    "df_train.head()"
   ]
  },
  {
   "cell_type": "code",
   "execution_count": 11,
   "metadata": {},
   "outputs": [
    {
     "data": {
      "text/plain": [
       "True"
      ]
     },
     "execution_count": 11,
     "metadata": {},
     "output_type": "execute_result"
    }
   ],
   "source": [
    "df_train.loc[1, 'Win']==1"
   ]
  },
  {
   "cell_type": "code",
   "execution_count": 13,
   "metadata": {
    "collapsed": true
   },
   "outputs": [],
   "source": [
    "for index in range(len(df_train)):\n",
    "    if df_train.loc[index, 'Win']==1:\n",
    "        df_eda.loc[index, 'AvgWinMarginWin'] = df_train.loc[index, 'AvgWinMargin1']\n",
    "        df_eda.loc[index, 'AvgWinMarginLose'] = df_train.loc[index, 'AvgWinMargin2']\n",
    "        df_eda.loc[index, 'AvgLoseMarginWin'] = df_train.loc[index, 'AvgLoseMargin1']\n",
    "        df_eda.loc[index, 'AvgLoseMarginLose'] = df_train.loc[index, 'AvgLoseMargin2']\n",
    "        df_eda.loc[index, 'TwoPointPctWin'] = df_train.loc[index, 'TwoPointPct1']\n",
    "        df_eda.loc[index, 'TwoPointPctLose'] = df_train.loc[index, 'TwoPointPct2']\n",
    "        df_eda.loc[index, 'ThreePointPctWin'] = df_train.loc[index, 'ThreePointPct1']\n",
    "        df_eda.loc[index, 'ThreePointPctLose'] = df_train.loc[index, 'ThreePointPct2']\n",
    "        df_eda.loc[index, 'FreeThrowPctWin'] = df_train.loc[index, 'FreeThrowPct1']\n",
    "        df_eda.loc[index, 'FreeThrowPctLose'] = df_train.loc[index, 'FreeThrowPct2']\n",
    "        df_eda.loc[index, 'OffensiveReboundsWin'] = df_train.loc[index, 'OffensiveRebounds1']\n",
    "        df_eda.loc[index, 'OffensiveReboundsLose'] = df_train.loc[index, 'OffensiveRebounds2']\n",
    "        df_eda.loc[index, 'DefensiveReboundsWin'] = df_train.loc[index, 'DefensiveRebounds1']\n",
    "        df_eda.loc[index, 'DefensiveReboundsLose'] = df_train.loc[index, 'DefensiveRebounds2']\n",
    "        df_eda.loc[index, 'RankDifferenceWin'] = df_train.loc[index, 'Rank1'] - df_train.loc[index, 'Rank2']\n",
    "    else:\n",
    "        df_eda.loc[index, 'AvgWinMarginWin'] = df_train.loc[index, 'AvgWinMargin2']\n",
    "        df_eda.loc[index, 'AvgWinMarginLose'] = df_train.loc[index, 'AvgWinMargin1']\n",
    "        df_eda.loc[index, 'AvgLoseMarginWin'] = df_train.loc[index, 'AvgLoseMargin2']\n",
    "        df_eda.loc[index, 'AvgLoseMarginLose'] = df_train.loc[index, 'AvgLoseMargin1']\n",
    "        df_eda.loc[index, 'TwoPointPctWin'] = df_train.loc[index, 'TwoPointPct2']\n",
    "        df_eda.loc[index, 'TwoPointPctLose'] = df_train.loc[index, 'TwoPointPct1']\n",
    "        df_eda.loc[index, 'ThreePointPctWin'] = df_train.loc[index, 'ThreePointPct2']\n",
    "        df_eda.loc[index, 'ThreePointPctLose'] = df_train.loc[index, 'ThreePointPct1']\n",
    "        df_eda.loc[index, 'FreeThrowPctWin'] = df_train.loc[index, 'FreeThrowPct2']\n",
    "        df_eda.loc[index, 'FreeThrowPctLose'] = df_train.loc[index, 'FreeThrowPct1']\n",
    "        df_eda.loc[index, 'OffensiveReboundsWin'] = df_train.loc[index, 'OffensiveRebounds2']\n",
    "        df_eda.loc[index, 'OffensiveReboundsLose'] = df_train.loc[index, 'OffensiveRebounds1']\n",
    "        df_eda.loc[index, 'DefensiveReboundsWin'] = df_train.loc[index, 'DefensiveRebounds2']\n",
    "        df_eda.loc[index, 'DefensiveReboundsLose'] = df_train.loc[index, 'DefensiveRebounds1']\n",
    "        df_eda.loc[index, 'RankDifferenceWin'] = df_train.loc[index, 'Rank2'] - df_train.loc[index, 'Rank1']"
   ]
  },
  {
   "cell_type": "code",
   "execution_count": 50,
   "metadata": {},
   "outputs": [
    {
     "data": {
      "text/html": [
       "<div>\n",
       "<style>\n",
       "    .dataframe thead tr:only-child th {\n",
       "        text-align: right;\n",
       "    }\n",
       "\n",
       "    .dataframe thead th {\n",
       "        text-align: left;\n",
       "    }\n",
       "\n",
       "    .dataframe tbody tr th {\n",
       "        vertical-align: top;\n",
       "    }\n",
       "</style>\n",
       "<table border=\"1\" class=\"dataframe\">\n",
       "  <thead>\n",
       "    <tr style=\"text-align: right;\">\n",
       "      <th></th>\n",
       "      <th>AvgWinMarginWin</th>\n",
       "      <th>AvgWinMarginLose</th>\n",
       "      <th>AvgLoseMarginWin</th>\n",
       "      <th>AvgLoseMarginLose</th>\n",
       "      <th>TwoPointPctWin</th>\n",
       "      <th>TwoPointPctLose</th>\n",
       "      <th>ThreePointPctWin</th>\n",
       "      <th>ThreePointPctLose</th>\n",
       "      <th>FreeThrowPctWin</th>\n",
       "      <th>FreeThrowPctLose</th>\n",
       "      <th>OffensiveReboundsWin</th>\n",
       "      <th>OffensiveReboundsLose</th>\n",
       "      <th>DefensiveReboundsWin</th>\n",
       "      <th>DefensiveReboundsLose</th>\n",
       "      <th>RankDifferenceWin</th>\n",
       "    </tr>\n",
       "  </thead>\n",
       "  <tbody>\n",
       "    <tr>\n",
       "      <th>0</th>\n",
       "      <td>13.1765</td>\n",
       "      <td>15.5417</td>\n",
       "      <td>9.4545</td>\n",
       "      <td>7.1667</td>\n",
       "      <td>0.471200</td>\n",
       "      <td>0.470663</td>\n",
       "      <td>0.325436</td>\n",
       "      <td>0.391223</td>\n",
       "      <td>0.705171</td>\n",
       "      <td>0.714353</td>\n",
       "      <td>13.5714</td>\n",
       "      <td>12.1333</td>\n",
       "      <td>23.9286</td>\n",
       "      <td>24.9667</td>\n",
       "      <td>-12.0</td>\n",
       "    </tr>\n",
       "    <tr>\n",
       "      <th>1</th>\n",
       "      <td>12.6957</td>\n",
       "      <td>14.4167</td>\n",
       "      <td>6.6667</td>\n",
       "      <td>10.0000</td>\n",
       "      <td>0.484628</td>\n",
       "      <td>0.519259</td>\n",
       "      <td>0.343438</td>\n",
       "      <td>0.339131</td>\n",
       "      <td>0.628297</td>\n",
       "      <td>0.687831</td>\n",
       "      <td>14.0690</td>\n",
       "      <td>14.3103</td>\n",
       "      <td>25.9655</td>\n",
       "      <td>26.8966</td>\n",
       "      <td>-53.0</td>\n",
       "    </tr>\n",
       "    <tr>\n",
       "      <th>2</th>\n",
       "      <td>14.8261</td>\n",
       "      <td>12.2667</td>\n",
       "      <td>8.2000</td>\n",
       "      <td>8.0667</td>\n",
       "      <td>0.521282</td>\n",
       "      <td>0.455860</td>\n",
       "      <td>0.391261</td>\n",
       "      <td>0.364153</td>\n",
       "      <td>0.778493</td>\n",
       "      <td>0.712580</td>\n",
       "      <td>13.1071</td>\n",
       "      <td>14.7000</td>\n",
       "      <td>24.0714</td>\n",
       "      <td>23.7000</td>\n",
       "      <td>3.0</td>\n",
       "    </tr>\n",
       "    <tr>\n",
       "      <th>3</th>\n",
       "      <td>10.1765</td>\n",
       "      <td>10.8333</td>\n",
       "      <td>12.7857</td>\n",
       "      <td>11.0000</td>\n",
       "      <td>0.492261</td>\n",
       "      <td>0.478421</td>\n",
       "      <td>0.384861</td>\n",
       "      <td>0.362411</td>\n",
       "      <td>0.658242</td>\n",
       "      <td>0.630118</td>\n",
       "      <td>13.0000</td>\n",
       "      <td>12.0357</td>\n",
       "      <td>22.6452</td>\n",
       "      <td>23.9643</td>\n",
       "      <td>-80.0</td>\n",
       "    </tr>\n",
       "    <tr>\n",
       "      <th>4</th>\n",
       "      <td>14.8182</td>\n",
       "      <td>11.4211</td>\n",
       "      <td>6.8333</td>\n",
       "      <td>6.8750</td>\n",
       "      <td>0.484900</td>\n",
       "      <td>0.500970</td>\n",
       "      <td>0.349211</td>\n",
       "      <td>0.379070</td>\n",
       "      <td>0.715654</td>\n",
       "      <td>0.714730</td>\n",
       "      <td>16.1786</td>\n",
       "      <td>12.8148</td>\n",
       "      <td>26.1429</td>\n",
       "      <td>24.5926</td>\n",
       "      <td>-64.0</td>\n",
       "    </tr>\n",
       "  </tbody>\n",
       "</table>\n",
       "</div>"
      ],
      "text/plain": [
       "   AvgWinMarginWin  AvgWinMarginLose  AvgLoseMarginWin  AvgLoseMarginLose  \\\n",
       "0          13.1765           15.5417            9.4545             7.1667   \n",
       "1          12.6957           14.4167            6.6667            10.0000   \n",
       "2          14.8261           12.2667            8.2000             8.0667   \n",
       "3          10.1765           10.8333           12.7857            11.0000   \n",
       "4          14.8182           11.4211            6.8333             6.8750   \n",
       "\n",
       "   TwoPointPctWin  TwoPointPctLose  ThreePointPctWin  ThreePointPctLose  \\\n",
       "0        0.471200         0.470663          0.325436           0.391223   \n",
       "1        0.484628         0.519259          0.343438           0.339131   \n",
       "2        0.521282         0.455860          0.391261           0.364153   \n",
       "3        0.492261         0.478421          0.384861           0.362411   \n",
       "4        0.484900         0.500970          0.349211           0.379070   \n",
       "\n",
       "   FreeThrowPctWin  FreeThrowPctLose  OffensiveReboundsWin  \\\n",
       "0         0.705171          0.714353               13.5714   \n",
       "1         0.628297          0.687831               14.0690   \n",
       "2         0.778493          0.712580               13.1071   \n",
       "3         0.658242          0.630118               13.0000   \n",
       "4         0.715654          0.714730               16.1786   \n",
       "\n",
       "   OffensiveReboundsLose  DefensiveReboundsWin  DefensiveReboundsLose  \\\n",
       "0                12.1333               23.9286                24.9667   \n",
       "1                14.3103               25.9655                26.8966   \n",
       "2                14.7000               24.0714                23.7000   \n",
       "3                12.0357               22.6452                23.9643   \n",
       "4                12.8148               26.1429                24.5926   \n",
       "\n",
       "   RankDifferenceWin  \n",
       "0              -12.0  \n",
       "1              -53.0  \n",
       "2                3.0  \n",
       "3              -80.0  \n",
       "4              -64.0  "
      ]
     },
     "execution_count": 50,
     "metadata": {},
     "output_type": "execute_result"
    }
   ],
   "source": [
    "df_eda.head()"
   ]
  },
  {
   "cell_type": "markdown",
   "metadata": {
    "collapsed": true
   },
   "source": [
    "## AvgWinMarginWin v. AvgWinMarginLose"
   ]
  },
  {
   "cell_type": "markdown",
   "metadata": {},
   "source": [
    "### Boxplots"
   ]
  },
  {
   "cell_type": "code",
   "execution_count": 15,
   "metadata": {
    "collapsed": true
   },
   "outputs": [],
   "source": [
    "data = [df_eda['AvgWinMarginWin'], df_eda['AvgWinMarginLose']]"
   ]
  },
  {
   "cell_type": "code",
   "execution_count": 16,
   "metadata": {},
   "outputs": [
    {
     "data": {
      "text/plain": [
       "{'boxes': [<matplotlib.lines.Line2D at 0xd458c50>,\n",
       "  <matplotlib.lines.Line2D at 0x15a24438>],\n",
       " 'caps': [<matplotlib.lines.Line2D at 0x15a096a0>,\n",
       "  <matplotlib.lines.Line2D at 0x15a099e8>,\n",
       "  <matplotlib.lines.Line2D at 0x15a24e10>,\n",
       "  <matplotlib.lines.Line2D at 0x15a31198>],\n",
       " 'fliers': [<matplotlib.lines.Line2D at 0x15a240b8>,\n",
       "  <matplotlib.lines.Line2D at 0x15a31828>],\n",
       " 'means': [],\n",
       " 'medians': [<matplotlib.lines.Line2D at 0x15a09d30>,\n",
       "  <matplotlib.lines.Line2D at 0x15a314e0>],\n",
       " 'whiskers': [<matplotlib.lines.Line2D at 0xd458908>,\n",
       "  <matplotlib.lines.Line2D at 0x15a09358>,\n",
       "  <matplotlib.lines.Line2D at 0x15a24780>,\n",
       "  <matplotlib.lines.Line2D at 0x15a24ac8>]}"
      ]
     },
     "execution_count": 16,
     "metadata": {},
     "output_type": "execute_result"
    },
    {
     "data": {
      "image/png": "[encoded data removed]",
      "text/plain": [
       "<matplotlib.figure.Figure at 0xd450320>"
      ]
     },
     "metadata": {},
     "output_type": "display_data"
    }
   ],
   "source": [
    "plt.figure()\n",
    "plt.boxplot(data)"
   ]
  },
  {
   "cell_type": "code",
   "execution_count": 17,
   "metadata": {},
   "outputs": [
    {
     "name": "stdout",
     "output_type": "stream",
     "text": [
      "Mean AvgWinMarginWin: 11.9675370946 AvgWinMarginLose: 10.4400594617\n",
      "Median AvgWinMarginWin: 11.68 AvgWinMarginLose: 10.1875\n"
     ]
    }
   ],
   "source": [
    "print \"Mean AvgWinMarginWin: {} AvgWinMarginLose: {}\".format(df_eda['AvgWinMarginWin'].mean(), df_eda['AvgWinMarginLose'].mean())\n",
    "print \"Median AvgWinMarginWin: {} AvgWinMarginLose: {}\".format(df_eda['AvgWinMarginWin'].median(), df_eda['AvgWinMarginLose'].median())"
   ]
  },
  {
   "cell_type": "markdown",
   "metadata": {},
   "source": [
    "### Histograms"
   ]
  },
  {
   "cell_type": "code",
   "execution_count": 18,
   "metadata": {},
   "outputs": [
    {
     "data": {
      "text/plain": [
       "Text(0.5,1,u'stack step (unfilled)')"
      ]
     },
     "execution_count": 18,
     "metadata": {},
     "output_type": "execute_result"
    },
    {
     "data": {
      "image/png": "[encoded data removed]",
      "text/plain": [
       "<matplotlib.figure.Figure at 0xe5eb390>"
      ]
     },
     "metadata": {},
     "output_type": "display_data"
    }
   ],
   "source": [
    "fig, axes = plt.subplots(nrows=1, ncols=1)\n",
    "\n",
    "labels = ['Avg Win Margin for Winning Team', 'Avg Win Margin for Losing Team']\n",
    "colors = ['red', 'blue']\n",
    "\n",
    "axes.hist(data, 100, histtype='step', fill=False, label=labels, color=colors)\n",
    "axes.legend(bbox_to_anchor=(1.05, 1), loc=2, borderaxespad=0.)\n",
    "axes.set_title('stack step (unfilled)')"
   ]
  },
  {
   "cell_type": "markdown",
   "metadata": {},
   "source": [
    "# AvgLoseMarginWin v. AvgLoseMarginLose"
   ]
  },
  {
   "cell_type": "markdown",
   "metadata": {},
   "source": [
    "### Boxplots"
   ]
  },
  {
   "cell_type": "code",
   "execution_count": 19,
   "metadata": {
    "collapsed": true
   },
   "outputs": [],
   "source": [
    "data = [df_eda['AvgLoseMarginWin'], df_eda['AvgLoseMarginLose']]"
   ]
  },
  {
   "cell_type": "code",
   "execution_count": 20,
   "metadata": {},
   "outputs": [
    {
     "data": {
      "text/plain": [
       "{'boxes': [<matplotlib.lines.Line2D at 0xd458828>,\n",
       "  <matplotlib.lines.Line2D at 0xef71748>],\n",
       " 'caps': [<matplotlib.lines.Line2D at 0xef55400>,\n",
       "  <matplotlib.lines.Line2D at 0xef55cc0>,\n",
       "  <matplotlib.lines.Line2D at 0xd1d1240>,\n",
       "  <matplotlib.lines.Line2D at 0xd1d15c0>],\n",
       " 'fliers': [<matplotlib.lines.Line2D at 0xef71400>,\n",
       "  <matplotlib.lines.Line2D at 0xd1d1cc0>],\n",
       " 'means': [],\n",
       " 'medians': [<matplotlib.lines.Line2D at 0xef71080>,\n",
       "  <matplotlib.lines.Line2D at 0xd1d1940>],\n",
       " 'whiskers': [<matplotlib.lines.Line2D at 0xd458710>,\n",
       "  <matplotlib.lines.Line2D at 0xd458208>,\n",
       "  <matplotlib.lines.Line2D at 0xef71b00>,\n",
       "  <matplotlib.lines.Line2D at 0xef71e80>]}"
      ]
     },
     "execution_count": 20,
     "metadata": {},
     "output_type": "execute_result"
    },
    {
     "data": {
      "image/png": "[encoded data removed]",
      "text/plain": [
       "<matplotlib.figure.Figure at 0xe610470>"
      ]
     },
     "metadata": {},
     "output_type": "display_data"
    }
   ],
   "source": [
    "plt.figure()\n",
    "plt.boxplot(data)"
   ]
  },
  {
   "cell_type": "code",
   "execution_count": 21,
   "metadata": {},
   "outputs": [
    {
     "name": "stdout",
     "output_type": "stream",
     "text": [
      "Mean AvgLoseMarginWin: 10.6171541496 AvgLoseMarginLose: 11.9547090803\n",
      "Median AvgLoseMarginWin: 10.4667 AvgLoseMarginLose: 11.7083\n"
     ]
    }
   ],
   "source": [
    "print \"Mean AvgLoseMarginWin: {} AvgLoseMarginLose: {}\".format(df_eda['AvgLoseMarginWin'].mean(), df_eda['AvgLoseMarginLose'].mean())\n",
    "print \"Median AvgLoseMarginWin: {} AvgLoseMarginLose: {}\".format(df_eda['AvgLoseMarginWin'].median(), df_eda['AvgLoseMarginLose'].median())"
   ]
  },
  {
   "cell_type": "markdown",
   "metadata": {},
   "source": [
    "### Histograms"
   ]
  },
  {
   "cell_type": "code",
   "execution_count": 22,
   "metadata": {},
   "outputs": [
    {
     "data": {
      "text/plain": [
       "Text(0.5,1,u'stack step (unfilled)')"
      ]
     },
     "execution_count": 22,
     "metadata": {},
     "output_type": "execute_result"
    },
    {
     "data": {
      "image/png": "[encoded data removed]",
      "text/plain": [
       "<matplotlib.figure.Figure at 0xf7be2b0>"
      ]
     },
     "metadata": {},
     "output_type": "display_data"
    }
   ],
   "source": [
    "fig, axes = plt.subplots(nrows=1, ncols=1)\n",
    "\n",
    "labels = ['Avg Lose Margin for Winning Team', 'Avg Lose Margin for Losing Team']\n",
    "colors = ['red', 'blue']\n",
    "\n",
    "axes.hist(data, 100, histtype='step', fill=False, label=labels, color=colors)\n",
    "axes.legend(bbox_to_anchor=(1.05, 1), loc=2, borderaxespad=0.)\n",
    "axes.set_title('stack step (unfilled)')"
   ]
  },
  {
   "cell_type": "markdown",
   "metadata": {},
   "source": [
    "# TwoPointPctWin\tv. TwoPointPctLose"
   ]
  },
  {
   "cell_type": "markdown",
   "metadata": {},
   "source": [
    "### Boxplots"
   ]
  },
  {
   "cell_type": "code",
   "execution_count": 23,
   "metadata": {
    "collapsed": true
   },
   "outputs": [],
   "source": [
    "data = [df_eda['TwoPointPctWin'], df_eda['TwoPointPctLose']]"
   ]
  },
  {
   "cell_type": "code",
   "execution_count": 24,
   "metadata": {},
   "outputs": [
    {
     "data": {
      "text/plain": [
       "{'boxes': [<matplotlib.lines.Line2D at 0xe9d0320>,\n",
       "  <matplotlib.lines.Line2D at 0x16373978>],\n",
       " 'caps': [<matplotlib.lines.Line2D at 0xe9d0b70>,\n",
       "  <matplotlib.lines.Line2D at 0xe9d0ef0>,\n",
       "  <matplotlib.lines.Line2D at 0x16380470>,\n",
       "  <matplotlib.lines.Line2D at 0x163807f0>],\n",
       " 'fliers': [<matplotlib.lines.Line2D at 0x16373630>,\n",
       "  <matplotlib.lines.Line2D at 0x16380ef0>],\n",
       " 'means': [],\n",
       " 'medians': [<matplotlib.lines.Line2D at 0x163732b0>,\n",
       "  <matplotlib.lines.Line2D at 0x16380b70>],\n",
       " 'whiskers': [<matplotlib.lines.Line2D at 0xe9d03c8>,\n",
       "  <matplotlib.lines.Line2D at 0xe9d07f0>,\n",
       "  <matplotlib.lines.Line2D at 0x16373d30>,\n",
       "  <matplotlib.lines.Line2D at 0x163800f0>]}"
      ]
     },
     "execution_count": 24,
     "metadata": {},
     "output_type": "execute_result"
    },
    {
     "data": {
      "image/png": "[encoded data removed]",
      "text/plain": [
       "<matplotlib.figure.Figure at 0xf7b2240>"
      ]
     },
     "metadata": {},
     "output_type": "display_data"
    }
   ],
   "source": [
    "plt.figure()\n",
    "plt.boxplot(data)"
   ]
  },
  {
   "cell_type": "code",
   "execution_count": 25,
   "metadata": {},
   "outputs": [
    {
     "name": "stdout",
     "output_type": "stream",
     "text": [
      "Mean TwoPointPctWin: 0.491565696964 TwoPointPctLose: 0.47652920041\n",
      "Median TwoPointPctWin: 0.49160625 TwoPointPctLose: 0.47662143\n"
     ]
    }
   ],
   "source": [
    "print \"Mean TwoPointPctWin: {} TwoPointPctLose: {}\".format(df_eda['TwoPointPctWin'].mean(), df_eda['TwoPointPctLose'].mean())\n",
    "print \"Median TwoPointPctWin: {} TwoPointPctLose: {}\".format(df_eda['TwoPointPctWin'].median(), df_eda['TwoPointPctLose'].median())"
   ]
  },
  {
   "cell_type": "markdown",
   "metadata": {},
   "source": [
    "### Histograms"
   ]
  },
  {
   "cell_type": "code",
   "execution_count": 26,
   "metadata": {},
   "outputs": [
    {
     "data": {
      "text/plain": [
       "Text(0.5,1,u'stack step (unfilled)')"
      ]
     },
     "execution_count": 26,
     "metadata": {},
     "output_type": "execute_result"
    },
    {
     "data": {
      "image/png": "[encoded data removed]",
      "text/plain": [
       "<matplotlib.figure.Figure at 0x16399470>"
      ]
     },
     "metadata": {},
     "output_type": "display_data"
    }
   ],
   "source": [
    "fig, axes = plt.subplots(nrows=1, ncols=1)\n",
    "\n",
    "labels = ['Two Point Pct for Winning Team', 'Two Point Pct for Losing Team']\n",
    "colors = ['red', 'blue']\n",
    "\n",
    "axes.hist(data, 100, histtype='step', fill=False, label=labels, color=colors)\n",
    "axes.legend(bbox_to_anchor=(1.05, 1), loc=2, borderaxespad=0.)\n",
    "axes.set_title('stack step (unfilled)')"
   ]
  },
  {
   "cell_type": "markdown",
   "metadata": {},
   "source": [
    "# ThreePointPctWin\tv. ThreePointPctLose"
   ]
  },
  {
   "cell_type": "markdown",
   "metadata": {},
   "source": [
    "### Boxplots"
   ]
  },
  {
   "cell_type": "code",
   "execution_count": 27,
   "metadata": {
    "collapsed": true
   },
   "outputs": [],
   "source": [
    "data = [df_eda['ThreePointPctWin'], df_eda['ThreePointPctLose']]"
   ]
  },
  {
   "cell_type": "code",
   "execution_count": 28,
   "metadata": {},
   "outputs": [
    {
     "data": {
      "text/plain": [
       "{'boxes': [<matplotlib.lines.Line2D at 0x121d2828>,\n",
       "  <matplotlib.lines.Line2D at 0x14877e80>],\n",
       " 'caps': [<matplotlib.lines.Line2D at 0x148770b8>,\n",
       "  <matplotlib.lines.Line2D at 0x14877438>,\n",
       "  <matplotlib.lines.Line2D at 0x14883978>,\n",
       "  <matplotlib.lines.Line2D at 0x14883cf8>],\n",
       " 'fliers': [<matplotlib.lines.Line2D at 0x14877b38>,\n",
       "  <matplotlib.lines.Line2D at 0x1488f438>],\n",
       " 'means': [],\n",
       " 'medians': [<matplotlib.lines.Line2D at 0x148777b8>,\n",
       "  <matplotlib.lines.Line2D at 0x1488f0b8>],\n",
       " 'whiskers': [<matplotlib.lines.Line2D at 0x121d28d0>,\n",
       "  <matplotlib.lines.Line2D at 0x121d2cf8>,\n",
       "  <matplotlib.lines.Line2D at 0x14883278>,\n",
       "  <matplotlib.lines.Line2D at 0x148835f8>]}"
      ]
     },
     "execution_count": 28,
     "metadata": {},
     "output_type": "execute_result"
    },
    {
     "data": {
      "image/png": "[encoded data removed]",
      "text/plain": [
       "<matplotlib.figure.Figure at 0x16399860>"
      ]
     },
     "metadata": {},
     "output_type": "display_data"
    }
   ],
   "source": [
    "plt.figure()\n",
    "plt.boxplot(data)"
   ]
  },
  {
   "cell_type": "code",
   "execution_count": 29,
   "metadata": {},
   "outputs": [
    {
     "name": "stdout",
     "output_type": "stream",
     "text": [
      "Mean ThreePointPctWin: 0.34961029763 ThreePointPctLose: 0.339527393419\n",
      "Median ThreePointPctWin: 0.34944483 ThreePointPctLose: 0.33896429\n"
     ]
    }
   ],
   "source": [
    "print \"Mean ThreePointPctWin: {} ThreePointPctLose: {}\".format(df_eda['ThreePointPctWin'].mean(), df_eda['ThreePointPctLose'].mean())\n",
    "print \"Median ThreePointPctWin: {} ThreePointPctLose: {}\".format(df_eda['ThreePointPctWin'].median(), df_eda['ThreePointPctLose'].median())"
   ]
  },
  {
   "cell_type": "markdown",
   "metadata": {},
   "source": [
    "### Histograms"
   ]
  },
  {
   "cell_type": "code",
   "execution_count": 30,
   "metadata": {},
   "outputs": [
    {
     "data": {
      "text/plain": [
       "Text(0.5,1,u'stack step (unfilled)')"
      ]
     },
     "execution_count": 30,
     "metadata": {},
     "output_type": "execute_result"
    },
    {
     "data": {
      "image/png": "[encoded data removed]",
      "text/plain": [
       "<matplotlib.figure.Figure at 0x163999b0>"
      ]
     },
     "metadata": {},
     "output_type": "display_data"
    }
   ],
   "source": [
    "fig, axes = plt.subplots(nrows=1, ncols=1)\n",
    "\n",
    "labels = ['Three Point Pct for Winning Team', 'Three Point Pct for Losing Team']\n",
    "colors = ['red', 'blue']\n",
    "\n",
    "axes.hist(data, 100, histtype='step', fill=False, label=labels, color=colors)\n",
    "axes.legend(bbox_to_anchor=(1.05, 1), loc=2, borderaxespad=0.)\n",
    "axes.set_title('stack step (unfilled)')"
   ]
  },
  {
   "cell_type": "markdown",
   "metadata": {},
   "source": [
    "# FreeThrowPctWin\tv. FreeThrowPctLose"
   ]
  },
  {
   "cell_type": "markdown",
   "metadata": {},
   "source": [
    "### Boxplots"
   ]
  },
  {
   "cell_type": "code",
   "execution_count": 31,
   "metadata": {
    "collapsed": true
   },
   "outputs": [],
   "source": [
    "data = [df_eda['FreeThrowPctWin'], df_eda['FreeThrowPctLose']]"
   ]
  },
  {
   "cell_type": "code",
   "execution_count": 32,
   "metadata": {},
   "outputs": [
    {
     "data": {
      "text/plain": [
       "{'boxes': [<matplotlib.lines.Line2D at 0x12053da0>,\n",
       "  <matplotlib.lines.Line2D at 0xe85e438>],\n",
       " 'caps': [<matplotlib.lines.Line2D at 0xe852630>,\n",
       "  <matplotlib.lines.Line2D at 0xe8529b0>,\n",
       "  <matplotlib.lines.Line2D at 0xe85eef0>,\n",
       "  <matplotlib.lines.Line2D at 0xe8692b0>],\n",
       " 'fliers': [<matplotlib.lines.Line2D at 0xe85e0f0>,\n",
       "  <matplotlib.lines.Line2D at 0xe8699b0>],\n",
       " 'means': [],\n",
       " 'medians': [<matplotlib.lines.Line2D at 0xe852d30>,\n",
       "  <matplotlib.lines.Line2D at 0xe869630>],\n",
       " 'whiskers': [<matplotlib.lines.Line2D at 0x12053e48>,\n",
       "  <matplotlib.lines.Line2D at 0xe8522b0>,\n",
       "  <matplotlib.lines.Line2D at 0xe85e7f0>,\n",
       "  <matplotlib.lines.Line2D at 0xe85eb70>]}"
      ]
     },
     "execution_count": 32,
     "metadata": {},
     "output_type": "execute_result"
    },
    {
     "data": {
      "image/png": "[encoded data removed]",
      "text/plain": [
       "<matplotlib.figure.Figure at 0x121a9160>"
      ]
     },
     "metadata": {},
     "output_type": "display_data"
    }
   ],
   "source": [
    "plt.figure()\n",
    "plt.boxplot(data)"
   ]
  },
  {
   "cell_type": "code",
   "execution_count": 33,
   "metadata": {},
   "outputs": [
    {
     "name": "stdout",
     "output_type": "stream",
     "text": [
      "Mean FreeThrowPctWin: 0.693462181569 FreeThrowPctLose: 0.684915407021\n",
      "Median FreeThrowPctWin: 0.6941625 FreeThrowPctLose: 0.68598438\n"
     ]
    }
   ],
   "source": [
    "print \"Mean FreeThrowPctWin: {} FreeThrowPctLose: {}\".format(df_eda['FreeThrowPctWin'].mean(), df_eda['FreeThrowPctLose'].mean())\n",
    "print \"Median FreeThrowPctWin: {} FreeThrowPctLose: {}\".format(df_eda['FreeThrowPctWin'].median(), df_eda['FreeThrowPctLose'].median())"
   ]
  },
  {
   "cell_type": "markdown",
   "metadata": {},
   "source": [
    "### Histograms"
   ]
  },
  {
   "cell_type": "code",
   "execution_count": 34,
   "metadata": {},
   "outputs": [
    {
     "data": {
      "text/plain": [
       "Text(0.5,1,u'stack step (unfilled)')"
      ]
     },
     "execution_count": 34,
     "metadata": {},
     "output_type": "execute_result"
    },
    {
     "data": {
      "image/png": "[encoded data removed]",
      "text/plain": [
       "<matplotlib.figure.Figure at 0xec32eb8>"
      ]
     },
     "metadata": {},
     "output_type": "display_data"
    }
   ],
   "source": [
    "fig, axes = plt.subplots(nrows=1, ncols=1)\n",
    "\n",
    "labels = ['Free Throw Pct for Winning Team', 'Free Throw Pct for Losing Team']\n",
    "colors = ['red', 'blue']\n",
    "\n",
    "axes.hist(data, 100, histtype='step', fill=False, label=labels, color=colors)\n",
    "axes.legend(bbox_to_anchor=(1.05, 1), loc=2, borderaxespad=0.)\n",
    "axes.set_title('stack step (unfilled)')"
   ]
  },
  {
   "cell_type": "markdown",
   "metadata": {},
   "source": [
    "# OffensiveReboundsWin v. OffensiveReboundsLose"
   ]
  },
  {
   "cell_type": "markdown",
   "metadata": {},
   "source": [
    "### Boxplots"
   ]
  },
  {
   "cell_type": "code",
   "execution_count": 35,
   "metadata": {
    "collapsed": true
   },
   "outputs": [],
   "source": [
    "data = [df_eda['OffensiveReboundsWin'], df_eda['OffensiveReboundsLose']]"
   ]
  },
  {
   "cell_type": "code",
   "execution_count": 36,
   "metadata": {},
   "outputs": [
    {
     "data": {
      "text/plain": [
       "{'boxes': [<matplotlib.lines.Line2D at 0x208e1c88>,\n",
       "  <matplotlib.lines.Line2D at 0x208fa320>],\n",
       " 'caps': [<matplotlib.lines.Line2D at 0x208ee518>,\n",
       "  <matplotlib.lines.Line2D at 0x208ee898>,\n",
       "  <matplotlib.lines.Line2D at 0x208fadd8>,\n",
       "  <matplotlib.lines.Line2D at 0x20906198>],\n",
       " 'fliers': [<matplotlib.lines.Line2D at 0x208eef98>,\n",
       "  <matplotlib.lines.Line2D at 0x20906898>],\n",
       " 'means': [],\n",
       " 'medians': [<matplotlib.lines.Line2D at 0x208eec18>,\n",
       "  <matplotlib.lines.Line2D at 0x20906518>],\n",
       " 'whiskers': [<matplotlib.lines.Line2D at 0x208e1d30>,\n",
       "  <matplotlib.lines.Line2D at 0x208ee198>,\n",
       "  <matplotlib.lines.Line2D at 0x208fa6d8>,\n",
       "  <matplotlib.lines.Line2D at 0x208faa58>]}"
      ]
     },
     "execution_count": 36,
     "metadata": {},
     "output_type": "execute_result"
    },
    {
     "data": {
      "image/png": "[encoded data removed]",
      "text/plain": [
       "<matplotlib.figure.Figure at 0x121b6080>"
      ]
     },
     "metadata": {},
     "output_type": "display_data"
    }
   ],
   "source": [
    "plt.figure()\n",
    "plt.boxplot(data)"
   ]
  },
  {
   "cell_type": "code",
   "execution_count": 37,
   "metadata": {},
   "outputs": [
    {
     "name": "stdout",
     "output_type": "stream",
     "text": [
      "Mean OffensiveReboundsWin: 11.2461849468 OffensiveReboundsLose: 11.0545821494\n",
      "Median OffensiveReboundsWin: 11.2593 OffensiveReboundsLose: 11.069\n"
     ]
    }
   ],
   "source": [
    "print \"Mean OffensiveReboundsWin: {} OffensiveReboundsLose: {}\".format(df_eda['OffensiveReboundsWin'].mean(), df_eda['OffensiveReboundsLose'].mean())\n",
    "print \"Median OffensiveReboundsWin: {} OffensiveReboundsLose: {}\".format(df_eda['OffensiveReboundsWin'].median(), df_eda['OffensiveReboundsLose'].median())"
   ]
  },
  {
   "cell_type": "markdown",
   "metadata": {},
   "source": [
    "### Histograms"
   ]
  },
  {
   "cell_type": "code",
   "execution_count": 38,
   "metadata": {},
   "outputs": [
    {
     "data": {
      "text/plain": [
       "Text(0.5,1,u'stack step (unfilled)')"
      ]
     },
     "execution_count": 38,
     "metadata": {},
     "output_type": "execute_result"
    },
    {
     "data": {
      "image/png": "[encoded data removed]",
      "text/plain": [
       "<matplotlib.figure.Figure at 0x190cb9b0>"
      ]
     },
     "metadata": {},
     "output_type": "display_data"
    }
   ],
   "source": [
    "fig, axes = plt.subplots(nrows=1, ncols=1)\n",
    "\n",
    "labels = ['Avg Win Margin for Winning Team', 'Avg Win Margin for Losing Team']\n",
    "colors = ['red', 'blue']\n",
    "\n",
    "axes.hist(data, 100, histtype='step', fill=False, label=labels, color=colors)\n",
    "axes.legend(bbox_to_anchor=(1.05, 1), loc=2, borderaxespad=0.)\n",
    "axes.set_title('stack step (unfilled)')"
   ]
  },
  {
   "cell_type": "markdown",
   "metadata": {},
   "source": [
    "# DefensiveReboundsWin v. DefensiveReboundsLose"
   ]
  },
  {
   "cell_type": "markdown",
   "metadata": {},
   "source": [
    "### Boxplots"
   ]
  },
  {
   "cell_type": "code",
   "execution_count": 39,
   "metadata": {
    "collapsed": true
   },
   "outputs": [],
   "source": [
    "data = [df_eda['DefensiveReboundsWin'], df_eda['DefensiveReboundsLose']]"
   ]
  },
  {
   "cell_type": "code",
   "execution_count": 40,
   "metadata": {},
   "outputs": [
    {
     "data": {
      "text/plain": [
       "{'boxes': [<matplotlib.lines.Line2D at 0x1cc3e470>,\n",
       "  <matplotlib.lines.Line2D at 0x1cc4cac8>],\n",
       " 'caps': [<matplotlib.lines.Line2D at 0x1cc3ecc0>,\n",
       "  <matplotlib.lines.Line2D at 0x1cc4c080>,\n",
       "  <matplotlib.lines.Line2D at 0x1f3415c0>,\n",
       "  <matplotlib.lines.Line2D at 0x1f341940>],\n",
       " 'fliers': [<matplotlib.lines.Line2D at 0x1cc4c780>,\n",
       "  <matplotlib.lines.Line2D at 0x1f34c080>],\n",
       " 'means': [],\n",
       " 'medians': [<matplotlib.lines.Line2D at 0x1cc4c400>,\n",
       "  <matplotlib.lines.Line2D at 0x1f341cc0>],\n",
       " 'whiskers': [<matplotlib.lines.Line2D at 0x1cc3e518>,\n",
       "  <matplotlib.lines.Line2D at 0x1cc3e940>,\n",
       "  <matplotlib.lines.Line2D at 0x1cc4ce80>,\n",
       "  <matplotlib.lines.Line2D at 0x1f341240>]}"
      ]
     },
     "execution_count": 40,
     "metadata": {},
     "output_type": "execute_result"
    },
    {
     "data": {
      "image/png": "[encoded data removed]",
      "text/plain": [
       "<matplotlib.figure.Figure at 0x162405f8>"
      ]
     },
     "metadata": {},
     "output_type": "display_data"
    }
   ],
   "source": [
    "plt.figure()\n",
    "plt.boxplot(data)"
   ]
  },
  {
   "cell_type": "code",
   "execution_count": 41,
   "metadata": {},
   "outputs": [
    {
     "name": "stdout",
     "output_type": "stream",
     "text": [
      "Mean DefensiveReboundsWin: 23.7735907234 DefensiveReboundsLose: 23.147002062\n",
      "Median DefensiveReboundsWin: 23.7692 DefensiveReboundsLose: 23.1333\n"
     ]
    }
   ],
   "source": [
    "print \"Mean DefensiveReboundsWin: {} DefensiveReboundsLose: {}\".format(df_eda['DefensiveReboundsWin'].mean(), df_eda['DefensiveReboundsLose'].mean())\n",
    "print \"Median DefensiveReboundsWin: {} DefensiveReboundsLose: {}\".format(df_eda['DefensiveReboundsWin'].median(), df_eda['DefensiveReboundsLose'].median())"
   ]
  },
  {
   "cell_type": "markdown",
   "metadata": {},
   "source": [
    "### Histograms"
   ]
  },
  {
   "cell_type": "code",
   "execution_count": 42,
   "metadata": {},
   "outputs": [
    {
     "data": {
      "text/plain": [
       "Text(0.5,1,u'stack step (unfilled)')"
      ]
     },
     "execution_count": 42,
     "metadata": {},
     "output_type": "execute_result"
    },
    {
     "data": {
      "image/png": "[encoded data removed]",
      "text/plain": [
       "<matplotlib.figure.Figure at 0x1cc01550>"
      ]
     },
     "metadata": {},
     "output_type": "display_data"
    }
   ],
   "source": [
    "fig, axes = plt.subplots(nrows=1, ncols=1)\n",
    "\n",
    "labels = ['Avg Win Margin for Winning Team', 'Avg Win Margin for Losing Team']\n",
    "colors = ['red', 'blue']\n",
    "\n",
    "axes.hist(data, 100, histtype='step', fill=False, label=labels, color=colors)\n",
    "axes.legend(bbox_to_anchor=(1.05, 1), loc=2, borderaxespad=0.)\n",
    "axes.set_title('stack step (unfilled)')"
   ]
  },
  {
   "cell_type": "markdown",
   "metadata": {},
   "source": [
    "# RankDifferenceWin"
   ]
  },
  {
   "cell_type": "markdown",
   "metadata": {},
   "source": [
    "### Boxplots"
   ]
  },
  {
   "cell_type": "code",
   "execution_count": 45,
   "metadata": {
    "collapsed": true
   },
   "outputs": [],
   "source": [
    "data = [df_eda['RankDifferenceWin']]"
   ]
  },
  {
   "cell_type": "code",
   "execution_count": 46,
   "metadata": {},
   "outputs": [
    {
     "data": {
      "text/plain": [
       "{'boxes': [<matplotlib.lines.Line2D at 0x2737e780>],\n",
       " 'caps': [<matplotlib.lines.Line2D at 0x2737efd0>,\n",
       "  <matplotlib.lines.Line2D at 0x2738c390>],\n",
       " 'fliers': [<matplotlib.lines.Line2D at 0x2738ca90>],\n",
       " 'means': [],\n",
       " 'medians': [<matplotlib.lines.Line2D at 0x2738c710>],\n",
       " 'whiskers': [<matplotlib.lines.Line2D at 0x2737e828>,\n",
       "  <matplotlib.lines.Line2D at 0x2737ec50>]}"
      ]
     },
     "execution_count": 46,
     "metadata": {},
     "output_type": "execute_result"
    },
    {
     "data": {
      "image/png": "[encoded data removed]",
      "text/plain": [
       "<matplotlib.figure.Figure at 0x20906f60>"
      ]
     },
     "metadata": {},
     "output_type": "display_data"
    }
   ],
   "source": [
    "plt.figure()\n",
    "plt.boxplot(data)"
   ]
  },
  {
   "cell_type": "code",
   "execution_count": 47,
   "metadata": {},
   "outputs": [
    {
     "name": "stdout",
     "output_type": "stream",
     "text": [
      "Mean RankDifferenceWin: -53.9513841091\n",
      "Median RankDifferenceWin: -48.125\n"
     ]
    }
   ],
   "source": [
    "print \"Mean RankDifferenceWin: {}\".format(df_eda['RankDifferenceWin'].mean())\n",
    "print \"Median RankDifferenceWin: {}\".format(df_eda['RankDifferenceWin'].median())"
   ]
  },
  {
   "cell_type": "markdown",
   "metadata": {},
   "source": [
    "### Histograms"
   ]
  },
  {
   "cell_type": "code",
   "execution_count": 51,
   "metadata": {},
   "outputs": [
    {
     "data": {
      "text/plain": [
       "Text(0.5,1,u'stack step (unfilled)')"
      ]
     },
     "execution_count": 51,
     "metadata": {},
     "output_type": "execute_result"
    },
    {
     "data": {
      "image/png": "[encoded data removed]",
      "text/plain": [
       "<matplotlib.figure.Figure at 0x266148d0>"
      ]
     },
     "metadata": {},
     "output_type": "display_data"
    }
   ],
   "source": [
    "fig, axes = plt.subplots(nrows=1, ncols=1)\n",
    "\n",
    "labels = ['Avg RankDifferenceWin']\n",
    "colors = ['red']\n",
    "\n",
    "axes.hist(data, 100, histtype='step', fill=False, label=labels, color=colors)\n",
    "axes.legend(bbox_to_anchor=(1.05, 1), loc=2, borderaxespad=0.)\n",
    "axes.set_title('stack step (unfilled)')"
   ]
  },
  {
   "cell_type": "code",
   "execution_count": null,
   "metadata": {
    "collapsed": true
   },
   "outputs": [],
   "source": []
  }
 ],
 "metadata": {
  "kernelspec": {
   "display_name": "Python 2",
   "language": "python",
   "name": "python2"
  },
  "language_info": {
   "codemirror_mode": {
    "name": "ipython",
    "version": 2
   },
   "file_extension": ".py",
   "mimetype": "text/x-python",
   "name": "python",
   "nbconvert_exporter": "python",
   "pygments_lexer": "ipython2",
   "version": "2.7.14"
  }
 },
 "nbformat": 4,
 "nbformat_minor": 2
}
