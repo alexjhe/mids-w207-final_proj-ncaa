{
 "cells": [
  {
   "cell_type": "markdown",
   "metadata": {},
   "source": [
    "# This Demonstrates Creating an Ensemble using Data from Approach 1 and 2"
   ]
  },
  {
   "cell_type": "code",
   "execution_count": 104,
   "metadata": {
    "collapsed": true
   },
   "outputs": [],
   "source": [
    "import psycopg2 as pg\n",
    "import numpy as np\n",
    "import pandas as pd\n",
    "from sklearn.linear_model import LogisticRegression\n",
    "from sklearn.model_selection import GridSearchCV\n",
    "from sklearn.model_selection import train_test_split\n",
    "\n",
    "from sklearn.metrics import roc_auc_score\n",
    "from sklearn.metrics import classification_report\n",
    "from sklearn.metrics import log_loss\n",
    "from sklearn.metrics import mean_squared_error"
   ]
  },
  {
   "cell_type": "code",
   "execution_count": 105,
   "metadata": {
    "collapsed": true
   },
   "outputs": [],
   "source": [
    "conn = pg.connect(database='postgres',\n",
    "                  user='postgres',\n",
    "                  password='w207final',\n",
    "                  host='35.185.225.167')"
   ]
  },
  {
   "cell_type": "markdown",
   "metadata": {},
   "source": [
    "### Get the train/test data from the database"
   ]
  },
  {
   "cell_type": "code",
   "execution_count": 106,
   "metadata": {
    "collapsed": true
   },
   "outputs": [],
   "source": [
    "approach1TrainingDataQuery = '''  SELECT * FROM  prod.\"features\" f WHERE f.\"Season Type\"='NCAA Tourney' AND f.\"Season\" < 2014 ORDER BY \"Season\", \"DayNum\", \"Team\"  '''\n",
    "df_approach1_training = pd.read_sql_query(approach1TrainingDataQuery, conn)"
   ]
  },
  {
   "cell_type": "code",
   "execution_count": 107,
   "metadata": {
    "collapsed": true
   },
   "outputs": [],
   "source": [
    "approach1TestingDataQuery = '''  SELECT * FROM  prod.\"features\" f WHERE (f.\"Season Type\"='NCAA Tourney') AND (f.\"Season\">2013 and f.\"Season\"<2018) ORDER BY \"Season\", \"DayNum\", \"Team\"  '''\n",
    "df_approach1_test = pd.read_sql_query(approach1TestingDataQuery, conn)"
   ]
  },
  {
   "cell_type": "code",
   "execution_count": 108,
   "metadata": {
    "collapsed": true
   },
   "outputs": [],
   "source": [
    "approach2TrainingDataQuery = '''  SELECT * FROM prod.\"features\" f WHERE (f.\"Season Type\"='Regular') OR (f.\"Season\" < 2014) ORDER BY \"Season\", \"DayNum\", \"Team\"  '''\n",
    "df_approach2_training = pd.read_sql_query(approach2TrainingDataQuery, conn)"
   ]
  },
  {
   "cell_type": "code",
   "execution_count": 109,
   "metadata": {
    "collapsed": true
   },
   "outputs": [],
   "source": [
    "approach2TestingDataQuery = ''' SELECT * FROM prod.\"features\" f WHERE (f.\"Season Type\"='NCAA Tourney') AND (f.\"Season\" > 2013) AND (f.\"Season\" < 2018) order by \"Season\", \"DayNum\", \"Team\" '''\n",
    "df_approach2_test = pd.read_sql_query(approach2TrainingDataQuery, conn)"
   ]
  },
  {
   "cell_type": "code",
   "execution_count": 110,
   "metadata": {
    "collapsed": true
   },
   "outputs": [],
   "source": [
    "conn.close()"
   ]
  },
  {
   "cell_type": "markdown",
   "metadata": {},
   "source": [
    "### Remove NaNs"
   ]
  },
  {
   "cell_type": "code",
   "execution_count": 111,
   "metadata": {
    "collapsed": true
   },
   "outputs": [],
   "source": [
    "df_approach1_training = df_approach1_training.drop( df_approach1_training[\n",
    "                                                                    (np.isnan(df_approach1_training.Outcome)) |    \n",
    "                                                                    (np.isnan(df_approach1_training.TwoPointPct_Team)) |\n",
    "                                                                    (np.isnan(df_approach1_training.ThreePointPct_Team)) |\n",
    "                                                                    (np.isnan(df_approach1_training.FreeThrowPct_Team)) |\n",
    "                                                                    (np.isnan(df_approach1_training.OffensiveRebounds_Team)) |\n",
    "                                                                    (np.isnan(df_approach1_training.DefensiveRebounds_Team)) |\n",
    "                                                                    (np.isnan(df_approach1_training.TwoPointPct_Opponent)) |\n",
    "                                                                    (np.isnan(df_approach1_training.ThreePointPct_Opponent)) |\n",
    "                                                                    (np.isnan(df_approach1_training.FreeThrowPct_Opponent)) |\n",
    "                                                                    (np.isnan(df_approach1_training.OffensiveRebounds_Opponent)) |\n",
    "                                                                    (np.isnan(df_approach1_training.DefensiveRebounds_Opponent)) |\n",
    "                                                                    (np.isnan(df_approach1_training.AvgRank)) |\n",
    "                                                                    (np.isnan(df_approach1_training.OpponentAvgRank)) |\n",
    "                                                                    (np.isnan(df_approach1_training.WinPct)) |\n",
    "                                                                    (np.isnan(df_approach1_training.OpponentWinPct)) |\n",
    "                                                                    (np.isnan(df_approach1_training.WinPctDiff)) |\n",
    "                                                                    (np.isnan(df_approach1_training.AvgPointsFor)) |\n",
    "                                                                    (np.isnan(df_approach1_training.AvgPointsAgainst)) |\n",
    "                                                                    (np.isnan(df_approach1_training.AvgNetPointsFor)) |\n",
    "                                                                    (np.isnan(df_approach1_training.OpponentAvgPointsFor)) |\n",
    "                                                                    (np.isnan(df_approach1_training.OpponentAvgPointsAgainst)) |\n",
    "                                                                    (np.isnan(df_approach1_training.OpponentAvgNetPointsFor)) |\n",
    "                                                                    (np.isnan(df_approach1_training.TourWins)) |\n",
    "                                                                    (np.isnan(df_approach1_training.OpponentTourWins)) |\n",
    "                                                                    (np.isnan(df_approach1_training.TourWinsDiff))\n",
    "].index)"
   ]
  },
  {
   "cell_type": "code",
   "execution_count": 112,
   "metadata": {
    "collapsed": true
   },
   "outputs": [],
   "source": [
    "df_approach1_test = df_approach1_test.drop( df_approach1_test[\n",
    "                                                                    (np.isnan(df_approach1_test.Outcome)) |  \n",
    "                                                                    (np.isnan(df_approach1_test.TwoPointPct_Team)) |\n",
    "                                                                    (np.isnan(df_approach1_test.ThreePointPct_Team)) |\n",
    "                                                                    (np.isnan(df_approach1_test.FreeThrowPct_Team)) |\n",
    "                                                                    (np.isnan(df_approach1_test.OffensiveRebounds_Team)) |\n",
    "                                                                    (np.isnan(df_approach1_test.DefensiveRebounds_Team)) |\n",
    "                                                                    (np.isnan(df_approach1_test.TwoPointPct_Opponent)) |\n",
    "                                                                    (np.isnan(df_approach1_test.ThreePointPct_Opponent)) |\n",
    "                                                                    (np.isnan(df_approach1_test.FreeThrowPct_Opponent)) |\n",
    "                                                                    (np.isnan(df_approach1_test.OffensiveRebounds_Opponent)) |\n",
    "                                                                    (np.isnan(df_approach1_test.DefensiveRebounds_Opponent)) |\n",
    "                                                                    (np.isnan(df_approach1_test.AvgRank)) |\n",
    "                                                                    (np.isnan(df_approach1_test.OpponentAvgRank)) |\n",
    "                                                                    (np.isnan(df_approach1_test.WinPct)) |\n",
    "                                                                    (np.isnan(df_approach1_test.OpponentWinPct)) |\n",
    "                                                                    (np.isnan(df_approach1_test.WinPctDiff)) |\n",
    "                                                                    (np.isnan(df_approach1_test.AvgPointsFor)) |\n",
    "                                                                    (np.isnan(df_approach1_test.AvgPointsAgainst)) |\n",
    "                                                                    (np.isnan(df_approach1_test.AvgNetPointsFor)) |\n",
    "                                                                    (np.isnan(df_approach1_test.OpponentAvgPointsFor)) |\n",
    "                                                                    (np.isnan(df_approach1_test.OpponentAvgPointsAgainst)) |\n",
    "                                                                    (np.isnan(df_approach1_test.OpponentAvgNetPointsFor)) |\n",
    "                                                                    (np.isnan(df_approach1_test.TourWins)) |\n",
    "                                                                    (np.isnan(df_approach1_test.OpponentTourWins)) |\n",
    "                                                                    (np.isnan(df_approach1_test.TourWinsDiff))\n",
    "].index)"
   ]
  },
  {
   "cell_type": "code",
   "execution_count": 113,
   "metadata": {
    "collapsed": true
   },
   "outputs": [],
   "source": [
    "df_approach2_training = df_approach2_training.drop( df_approach2_training[\n",
    "                                                                    (np.isnan(df_approach2_training.Outcome)) |  \n",
    "                                                                    (np.isnan(df_approach2_training.TwoPointPct_Team)) |\n",
    "                                                                    (np.isnan(df_approach2_training.ThreePointPct_Team)) |\n",
    "                                                                    (np.isnan(df_approach2_training.FreeThrowPct_Team)) |\n",
    "                                                                    (np.isnan(df_approach2_training.OffensiveRebounds_Team)) |\n",
    "                                                                    (np.isnan(df_approach2_training.DefensiveRebounds_Team)) |\n",
    "                                                                    (np.isnan(df_approach2_training.TwoPointPct_Opponent)) |\n",
    "                                                                    (np.isnan(df_approach2_training.ThreePointPct_Opponent)) |\n",
    "                                                                    (np.isnan(df_approach2_training.FreeThrowPct_Opponent)) |\n",
    "                                                                    (np.isnan(df_approach2_training.OffensiveRebounds_Opponent)) |\n",
    "                                                                    (np.isnan(df_approach2_training.DefensiveRebounds_Opponent)) |\n",
    "                                                                    (np.isnan(df_approach2_training.AvgRank)) |\n",
    "                                                                    (np.isnan(df_approach2_training.OpponentAvgRank)) |\n",
    "                                                                    (np.isnan(df_approach2_training.WinPct)) |\n",
    "                                                                    (np.isnan(df_approach2_training.OpponentWinPct)) |\n",
    "                                                                    (np.isnan(df_approach2_training.WinPctDiff)) |\n",
    "                                                                    (np.isnan(df_approach2_training.AvgPointsFor)) |\n",
    "                                                                    (np.isnan(df_approach2_training.AvgPointsAgainst)) |\n",
    "                                                                    (np.isnan(df_approach2_training.AvgNetPointsFor)) |\n",
    "                                                                    (np.isnan(df_approach2_training.OpponentAvgPointsFor)) |\n",
    "                                                                    (np.isnan(df_approach2_training.OpponentAvgPointsAgainst)) |\n",
    "                                                                    (np.isnan(df_approach2_training.OpponentAvgNetPointsFor)) |\n",
    "                                                                    (np.isnan(df_approach2_training.TourWins)) |\n",
    "                                                                    (np.isnan(df_approach2_training.OpponentTourWins)) |\n",
    "                                                                    (np.isnan(df_approach2_training.TourWinsDiff))                                                                     \n",
    "                                                                     \n",
    "].index)"
   ]
  },
  {
   "cell_type": "code",
   "execution_count": 114,
   "metadata": {
    "collapsed": true
   },
   "outputs": [],
   "source": [
    "df_approach2_test = df_approach2_test.drop( df_approach2_test[\n",
    "                                                                    (np.isnan(df_approach2_test.Outcome)) |  \n",
    "                                                                    (np.isnan(df_approach2_test.TwoPointPct_Team)) |\n",
    "                                                                    (np.isnan(df_approach2_test.ThreePointPct_Team)) |\n",
    "                                                                    (np.isnan(df_approach2_test.FreeThrowPct_Team)) |\n",
    "                                                                    (np.isnan(df_approach2_test.OffensiveRebounds_Team)) |\n",
    "                                                                    (np.isnan(df_approach2_test.DefensiveRebounds_Team)) |\n",
    "                                                                    (np.isnan(df_approach2_test.TwoPointPct_Opponent)) |\n",
    "                                                                    (np.isnan(df_approach2_test.ThreePointPct_Opponent)) |\n",
    "                                                                    (np.isnan(df_approach2_test.FreeThrowPct_Opponent)) |\n",
    "                                                                    (np.isnan(df_approach2_test.OffensiveRebounds_Opponent)) |\n",
    "                                                                    (np.isnan(df_approach2_test.DefensiveRebounds_Opponent)) |\n",
    "                                                                    (np.isnan(df_approach2_test.AvgRank)) |\n",
    "                                                                    (np.isnan(df_approach2_test.OpponentAvgRank)) |\n",
    "                                                                    (np.isnan(df_approach2_test.WinPct)) |\n",
    "                                                                    (np.isnan(df_approach2_test.OpponentWinPct)) |\n",
    "                                                                    (np.isnan(df_approach2_test.WinPctDiff)) |\n",
    "                                                                    (np.isnan(df_approach2_test.AvgPointsFor)) |\n",
    "                                                                    (np.isnan(df_approach2_test.AvgPointsAgainst)) |\n",
    "                                                                    (np.isnan(df_approach2_test.AvgNetPointsFor)) |\n",
    "                                                                    (np.isnan(df_approach2_test.OpponentAvgPointsFor)) |\n",
    "                                                                    (np.isnan(df_approach2_test.OpponentAvgPointsAgainst)) |\n",
    "                                                                    (np.isnan(df_approach2_test.OpponentAvgNetPointsFor)) |\n",
    "                                                                    (np.isnan(df_approach2_test.TourWins)) |\n",
    "                                                                    (np.isnan(df_approach2_test.OpponentTourWins)) |\n",
    "                                                                    (np.isnan(df_approach2_test.TourWinsDiff))\n",
    "].index)"
   ]
  },
  {
   "cell_type": "markdown",
   "metadata": {},
   "source": [
    "### Create Train and Test Sets"
   ]
  },
  {
   "cell_type": "code",
   "execution_count": 115,
   "metadata": {
    "collapsed": true
   },
   "outputs": [],
   "source": [
    "target1 = 'Outcome'\n",
    "features1 = ['TwoPointPct_Team', 'ThreePointPct_Team', 'FreeThrowPct_Team', 'OffensiveRebounds_Team', 'DefensiveRebounds_Team', 'TwoPointPct_Opponent', 'ThreePointPct_Opponent', 'FreeThrowPct_Opponent', 'OffensiveRebounds_Opponent', 'DefensiveRebounds_Opponent', 'SeedDiff', 'AvgRank', 'OpponentAvgRank', 'WinPct', 'OpponentWinPct', 'WinPctDiff', 'AvgPointsFor', 'AvgPointsAgainst', 'AvgNetPointsFor', 'OpponentAvgPointsFor', 'OpponentAvgPointsAgainst', 'OpponentAvgNetPointsFor', 'TourWins', 'OpponentTourWins', 'TourWinsDiff']\n",
    "\n",
    "target2 = 'Outcome'\n",
    "features2 = ['TwoPointPct_Team', 'ThreePointPct_Team', 'FreeThrowPct_Team', 'OffensiveRebounds_Team', 'DefensiveRebounds_Team', 'TwoPointPct_Opponent', 'ThreePointPct_Opponent', 'FreeThrowPct_Opponent', 'OffensiveRebounds_Opponent', 'DefensiveRebounds_Opponent', 'AvgRank', 'OpponentAvgRank', 'WinPct', 'OpponentWinPct', 'WinPctDiff', 'AvgPointsFor', 'AvgPointsAgainst', 'AvgNetPointsFor', 'OpponentAvgPointsFor', 'OpponentAvgPointsAgainst', 'OpponentAvgNetPointsFor', 'TourWins', 'OpponentTourWins', 'TourWinsDiff']"
   ]
  },
  {
   "cell_type": "code",
   "execution_count": 116,
   "metadata": {
    "collapsed": true
   },
   "outputs": [],
   "source": [
    "X_train1 = df_approach1_training[features1]\n",
    "y_train1 = df_approach1_training[target1]\n",
    "X_test1 = df_approach1_test[features1]\n",
    "y_test1 = df_approach1_test[target1]"
   ]
  },
  {
   "cell_type": "code",
   "execution_count": 117,
   "metadata": {
    "collapsed": true
   },
   "outputs": [],
   "source": [
    "X_train2 = df_approach2_training[features2]\n",
    "y_train2 = df_approach2_training[target2]\n",
    "X_test2 = df_approach2_test[features2]\n",
    "y_test2 = df_approach2_test[target2]"
   ]
  },
  {
   "cell_type": "markdown",
   "metadata": {},
   "source": [
    "#### This is the same data as X_test1, but has narrower features to support Approach 2 in the ensemble"
   ]
  },
  {
   "cell_type": "code",
   "execution_count": 118,
   "metadata": {
    "collapsed": true
   },
   "outputs": [],
   "source": [
    "X_test1_2 = df_approach1_test[features2]\n",
    "y_test1_2 = df_approach1_test[target2]"
   ]
  },
  {
   "cell_type": "markdown",
   "metadata": {},
   "source": [
    "### Approach 1  - (note that this includes 'SeedDiff')"
   ]
  },
  {
   "cell_type": "code",
   "execution_count": 119,
   "metadata": {},
   "outputs": [
    {
     "name": "stdout",
     "output_type": "stream",
     "text": [
      "Best log_loss: 0.7006, with best C: 75\n"
     ]
    }
   ],
   "source": [
    "lrc1 = LogisticRegression(penalty='l1')\n",
    "params = {'C': [25,50,75,100,125,150,175,200,225,250,275,300]}\n",
    "gscv1 = GridSearchCV(lrc1, params, scoring='accuracy', refit=True)\n",
    "gscv1.fit(X_train1, y_train1)\n",
    "print('Best log_loss: {:.4}, with best C: {}'.format(gscv1.best_score_, gscv1.best_params_['C']))"
   ]
  },
  {
   "cell_type": "code",
   "execution_count": 120,
   "metadata": {},
   "outputs": [
    {
     "data": {
      "text/plain": [
       "0.73880597014925375"
      ]
     },
     "execution_count": 120,
     "metadata": {},
     "output_type": "execute_result"
    }
   ],
   "source": [
    "lrc1 = LogisticRegression(penalty='l1', C=gscv1.best_params_['C'])\n",
    "lrc1.fit(X_train1, y_train1)\n",
    "lrc1.score(X_test1, y_test1)"
   ]
  },
  {
   "cell_type": "code",
   "execution_count": 121,
   "metadata": {},
   "outputs": [
    {
     "name": "stdout",
     "output_type": "stream",
     "text": [
      "             precision    recall  f1-score   support\n",
      "\n",
      "          0       0.74      0.74      0.74       268\n",
      "          1       0.74      0.74      0.74       268\n",
      "\n",
      "avg / total       0.74      0.74      0.74       536\n",
      "\n"
     ]
    }
   ],
   "source": [
    "from sklearn.metrics import classification_report\n",
    "y_pred1 = lrc1.predict(X_test1)\n",
    "y_pred_prob1 = lrc1.predict_proba(X_test1)\n",
    "print(classification_report(y_test1, y_pred1))"
   ]
  },
  {
   "cell_type": "code",
   "execution_count": 122,
   "metadata": {},
   "outputs": [
    {
     "name": "stdout",
     "output_type": "stream",
     "text": [
      "\n",
      "ROC-AUC score: 0.801\n"
     ]
    }
   ],
   "source": [
    "print(\"\\nROC-AUC score: %.3f\" % roc_auc_score(y_test1, y_pred_prob1[:, 1]))"
   ]
  },
  {
   "cell_type": "code",
   "execution_count": 123,
   "metadata": {},
   "outputs": [
    {
     "name": "stdout",
     "output_type": "stream",
     "text": [
      "Log loss: 0.536094091343\n",
      "RMSE: 0.181579832793\n"
     ]
    }
   ],
   "source": [
    "# Determine log-loss\n",
    "print 'Log loss: {}'.format(log_loss(y_test1, y_pred_prob1[:,1]))\n",
    "# Determine RMSE\n",
    "print 'RMSE: {}'.format(mean_squared_error(y_test1, y_pred_prob1[:,1]))"
   ]
  },
  {
   "cell_type": "markdown",
   "metadata": {},
   "source": [
    "### Approach 2"
   ]
  },
  {
   "cell_type": "code",
   "execution_count": 124,
   "metadata": {},
   "outputs": [
    {
     "name": "stdout",
     "output_type": "stream",
     "text": [
      "Best log_loss: 0.7104, with best C: 150\n"
     ]
    }
   ],
   "source": [
    "lrc2 = LogisticRegression(penalty='l1')\n",
    "params = {'C': [50,75,100,125,150,175,200,225]}\n",
    "gscv2 = GridSearchCV(lrc2, params, scoring='accuracy', refit=True)\n",
    "gscv2.fit(X_train2, y_train2)\n",
    "print('Best log_loss: {:.4}, with best C: {}'.format(gscv2.best_score_, gscv2.best_params_['C']))"
   ]
  },
  {
   "cell_type": "code",
   "execution_count": 125,
   "metadata": {},
   "outputs": [
    {
     "data": {
      "text/plain": [
       "0.71069206842923793"
      ]
     },
     "execution_count": 125,
     "metadata": {},
     "output_type": "execute_result"
    }
   ],
   "source": [
    "lrc2 = LogisticRegression(penalty='l1', C=gscv2.best_params_['C'])\n",
    "lrc2.fit(X_train2, y_train2)\n",
    "lrc2.score(X_test2, y_test2)"
   ]
  },
  {
   "cell_type": "code",
   "execution_count": 126,
   "metadata": {},
   "outputs": [
    {
     "name": "stdout",
     "output_type": "stream",
     "text": [
      "             precision    recall  f1-score   support\n",
      "\n",
      "          0       0.71      0.71      0.71     77160\n",
      "          1       0.71      0.71      0.71     77160\n",
      "\n",
      "avg / total       0.71      0.71      0.71    154320\n",
      "\n"
     ]
    }
   ],
   "source": [
    "from sklearn.metrics import classification_report\n",
    "y_pred2 = lrc2.predict(X_test2)\n",
    "y_pred_prob2 = lrc2.predict_proba(X_test2)\n",
    "print(classification_report(y_test2, y_pred2))"
   ]
  },
  {
   "cell_type": "code",
   "execution_count": 127,
   "metadata": {},
   "outputs": [
    {
     "name": "stdout",
     "output_type": "stream",
     "text": [
      "\n",
      "ROC-AUC score: 0.787\n"
     ]
    }
   ],
   "source": [
    "print(\"\\nROC-AUC score: %.3f\" % roc_auc_score(y_test2, y_pred_prob2[:, 1]))"
   ]
  },
  {
   "cell_type": "code",
   "execution_count": 128,
   "metadata": {},
   "outputs": [
    {
     "name": "stdout",
     "output_type": "stream",
     "text": [
      "Log loss: 0.55208464103\n",
      "RMSE: 0.187713908139\n"
     ]
    }
   ],
   "source": [
    "# Determine log-loss\n",
    "print 'Log loss: {}'.format(log_loss(y_test2, y_pred_prob2[:,1]))\n",
    "# Determine RMSE\n",
    "print 'RMSE: {}'.format(mean_squared_error(y_test2, y_pred_prob2[:,1]))"
   ]
  },
  {
   "cell_type": "markdown",
   "metadata": {},
   "source": [
    "### Simple Ensemble of Approach 1 and Approach 2"
   ]
  },
  {
   "cell_type": "code",
   "execution_count": 129,
   "metadata": {
    "collapsed": true
   },
   "outputs": [],
   "source": [
    "# Get prediction probabilities from both models\n",
    "probs1 = lrc1.predict_proba(X_test1)\n",
    "probs2 = lrc2.predict_proba(X_test1_2)"
   ]
  },
  {
   "cell_type": "code",
   "execution_count": 130,
   "metadata": {
    "collapsed": true
   },
   "outputs": [],
   "source": [
    "# Get the mean of the probabilities\n",
    "loss_prob_df = pd.DataFrame(data={'approach1':probs1[:,0], 'approach2':probs2[:,0]})\n",
    "win_prob_df = pd.DataFrame(data={'approach1':probs1[:,1], 'approach2':probs2[:,1]})\n",
    "loss_win_df = pd.DataFrame(data={'loss_prob':loss_prob_df.mean(axis=1), 'win_prob':win_prob_df.mean(axis=1), 'predict':0})"
   ]
  },
  {
   "cell_type": "code",
   "execution_count": 131,
   "metadata": {
    "collapsed": true
   },
   "outputs": [],
   "source": [
    "# Determine loss / win depending on which probability is larger\n",
    "ensemble_predictions = []\n",
    "ensemble_probs = []\n",
    "\n",
    "for index in range(len(win_prob_df)):\n",
    "    if loss_win_df['loss_prob'][index] > loss_win_df['win_prob'][index] :\n",
    "        ensemble_predictions.append(0)\n",
    "        ensemble_probs.append(1-loss_win_df['loss_prob'][index])\n",
    "    else:\n",
    "        ensemble_predictions.append(1)\n",
    "        ensemble_probs.append(loss_win_df['win_prob'][index])"
   ]
  },
  {
   "cell_type": "code",
   "execution_count": 132,
   "metadata": {},
   "outputs": [
    {
     "name": "stdout",
     "output_type": "stream",
     "text": [
      "             precision    recall  f1-score   support\n",
      "\n",
      "          0       0.72      0.72      0.72       268\n",
      "          1       0.72      0.72      0.72       268\n",
      "\n",
      "avg / total       0.72      0.72      0.72       536\n",
      "\n"
     ]
    }
   ],
   "source": [
    "print(classification_report(y_test1, ensemble_predictions))"
   ]
  },
  {
   "cell_type": "code",
   "execution_count": 133,
   "metadata": {},
   "outputs": [
    {
     "name": "stdout",
     "output_type": "stream",
     "text": [
      "\n",
      "ROC-AUC score: 0.813\n"
     ]
    }
   ],
   "source": [
    "print(\"\\nROC-AUC score: %.3f\" % roc_auc_score(y_test1, ensemble_probs))"
   ]
  },
  {
   "cell_type": "code",
   "execution_count": 134,
   "metadata": {},
   "outputs": [
    {
     "name": "stdout",
     "output_type": "stream",
     "text": [
      "Log loss: 0.527962493173\n",
      "RMSE: 0.177670652146\n"
     ]
    }
   ],
   "source": [
    "# Determine log-loss\n",
    "print 'Log loss: {}'.format(log_loss(y_test1, ensemble_probs))\n",
    "# Determine RMSE\n",
    "print 'RMSE: {}'.format(mean_squared_error(y_test1, ensemble_probs))"
   ]
  },
  {
   "cell_type": "code",
   "execution_count": null,
   "metadata": {
    "collapsed": true
   },
   "outputs": [],
   "source": []
  }
 ],
 "metadata": {
  "kernelspec": {
   "display_name": "Python 2",
   "language": "python",
   "name": "python2"
  },
  "language_info": {
   "codemirror_mode": {
    "name": "ipython",
    "version": 2
   },
   "file_extension": ".py",
   "mimetype": "text/x-python",
   "name": "python",
   "nbconvert_exporter": "python",
   "pygments_lexer": "ipython2",
   "version": "2.7.14"
  }
 },
 "nbformat": 4,
 "nbformat_minor": 2
}
