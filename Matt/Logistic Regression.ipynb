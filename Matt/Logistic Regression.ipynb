{
 "cells": [
  {
   "cell_type": "code",
   "execution_count": 1,
   "metadata": {
    "collapsed": true
   },
   "outputs": [],
   "source": [
    "import numpy as np # linear algebra\n",
    "import pandas as pd # data processing, CSV file I/O (e.g. pd.read_csv)\n",
    "from sklearn.linear_model import LogisticRegression\n",
    "from sklearn.linear_model import LassoCV\n",
    "from sklearn.model_selection import GridSearchCV"
   ]
  },
  {
   "cell_type": "code",
   "execution_count": 2,
   "metadata": {
    "collapsed": true
   },
   "outputs": [],
   "source": [
    "data_dir = '../SQL/'\n",
    "df_train = pd.read_csv(data_dir + 'TrainTable.csv')\n",
    "df_test = pd.read_csv(data_dir + 'TestTable.csv')"
   ]
  },
  {
   "cell_type": "code",
   "execution_count": 3,
   "metadata": {
    "collapsed": true
   },
   "outputs": [],
   "source": [
    "features1 = ['AvgWinMargin1', 'AvgLoseMargin1', 'TwoPointPct1', 'ThreePointPct1', 'FreeThrowPct1', 'OffensiveRebounds1', 'DefensiveRebounds1', 'Rank1', 'AvgWinMargin2', 'AvgLoseMargin2', 'TwoPointPct2', 'ThreePointPct2', 'FreeThrowPct2', 'OffensiveRebounds2', 'DefensiveRebounds2', 'Rank2']\n",
    "features2 = ['AvgWinMargin1', 'AvgLoseMargin1', 'TwoPointPct1', 'DefensiveRebounds1', 'Rank1', 'AvgWinMargin2', 'AvgLoseMargin2', 'TwoPointPct2', 'DefensiveRebounds2', 'Rank2']\n",
    "features3 = ['Rank1', 'Rank2']\n",
    "features4 = ['AvgWinMargin1', 'AvgWinMargin2']\n",
    "features5 = ['TwoPointPct1', 'TwoPointPct2']\n",
    "\n",
    "# features3 gives the best score\n",
    "continuous = features3\n",
    "target = 'Win'"
   ]
  },
  {
   "cell_type": "code",
   "execution_count": 4,
   "metadata": {},
   "outputs": [
    {
     "data": {
      "text/html": [
       "<div>\n",
       "<style>\n",
       "    .dataframe thead tr:only-child th {\n",
       "        text-align: right;\n",
       "    }\n",
       "\n",
       "    .dataframe thead th {\n",
       "        text-align: left;\n",
       "    }\n",
       "\n",
       "    .dataframe tbody tr th {\n",
       "        vertical-align: top;\n",
       "    }\n",
       "</style>\n",
       "<table border=\"1\" class=\"dataframe\">\n",
       "  <thead>\n",
       "    <tr style=\"text-align: right;\">\n",
       "      <th></th>\n",
       "      <th>Season</th>\n",
       "      <th>Team1</th>\n",
       "      <th>Team2</th>\n",
       "      <th>Win</th>\n",
       "      <th>AvgWinMargin1</th>\n",
       "      <th>AvgLoseMargin1</th>\n",
       "      <th>TwoPointPct1</th>\n",
       "      <th>ThreePointPct1</th>\n",
       "      <th>FreeThrowPct1</th>\n",
       "      <th>OffensiveRebounds1</th>\n",
       "      <th>DefensiveRebounds1</th>\n",
       "      <th>Rank1</th>\n",
       "      <th>AvgWinMargin2</th>\n",
       "      <th>AvgLoseMargin2</th>\n",
       "      <th>TwoPointPct2</th>\n",
       "      <th>ThreePointPct2</th>\n",
       "      <th>FreeThrowPct2</th>\n",
       "      <th>OffensiveRebounds2</th>\n",
       "      <th>DefensiveRebounds2</th>\n",
       "      <th>Rank2</th>\n",
       "    </tr>\n",
       "  </thead>\n",
       "  <tbody>\n",
       "    <tr>\n",
       "      <th>0</th>\n",
       "      <td>2003</td>\n",
       "      <td>1104</td>\n",
       "      <td>1328</td>\n",
       "      <td>1</td>\n",
       "      <td>13.1765</td>\n",
       "      <td>9.4545</td>\n",
       "      <td>0.471200</td>\n",
       "      <td>0.325436</td>\n",
       "      <td>0.705171</td>\n",
       "      <td>13.5714</td>\n",
       "      <td>23.9286</td>\n",
       "      <td>12.0</td>\n",
       "      <td>15.5417</td>\n",
       "      <td>7.1667</td>\n",
       "      <td>0.470663</td>\n",
       "      <td>0.391223</td>\n",
       "      <td>0.714353</td>\n",
       "      <td>12.1333</td>\n",
       "      <td>24.9667</td>\n",
       "      <td>24.0</td>\n",
       "    </tr>\n",
       "    <tr>\n",
       "      <th>1</th>\n",
       "      <td>2003</td>\n",
       "      <td>1272</td>\n",
       "      <td>1393</td>\n",
       "      <td>1</td>\n",
       "      <td>12.6957</td>\n",
       "      <td>6.6667</td>\n",
       "      <td>0.484628</td>\n",
       "      <td>0.343438</td>\n",
       "      <td>0.628297</td>\n",
       "      <td>14.0690</td>\n",
       "      <td>25.9655</td>\n",
       "      <td>67.0</td>\n",
       "      <td>14.4167</td>\n",
       "      <td>10.0000</td>\n",
       "      <td>0.519259</td>\n",
       "      <td>0.339131</td>\n",
       "      <td>0.687831</td>\n",
       "      <td>14.3103</td>\n",
       "      <td>26.8966</td>\n",
       "      <td>120.0</td>\n",
       "    </tr>\n",
       "    <tr>\n",
       "      <th>2</th>\n",
       "      <td>2003</td>\n",
       "      <td>1266</td>\n",
       "      <td>1437</td>\n",
       "      <td>1</td>\n",
       "      <td>14.8261</td>\n",
       "      <td>8.2000</td>\n",
       "      <td>0.521282</td>\n",
       "      <td>0.391261</td>\n",
       "      <td>0.778493</td>\n",
       "      <td>13.1071</td>\n",
       "      <td>24.0714</td>\n",
       "      <td>33.0</td>\n",
       "      <td>12.2667</td>\n",
       "      <td>8.0667</td>\n",
       "      <td>0.455860</td>\n",
       "      <td>0.364153</td>\n",
       "      <td>0.712580</td>\n",
       "      <td>14.7000</td>\n",
       "      <td>23.7000</td>\n",
       "      <td>30.0</td>\n",
       "    </tr>\n",
       "    <tr>\n",
       "      <th>3</th>\n",
       "      <td>2003</td>\n",
       "      <td>1296</td>\n",
       "      <td>1457</td>\n",
       "      <td>1</td>\n",
       "      <td>10.1765</td>\n",
       "      <td>12.7857</td>\n",
       "      <td>0.492261</td>\n",
       "      <td>0.384861</td>\n",
       "      <td>0.658242</td>\n",
       "      <td>13.0000</td>\n",
       "      <td>22.6452</td>\n",
       "      <td>131.0</td>\n",
       "      <td>10.8333</td>\n",
       "      <td>11.0000</td>\n",
       "      <td>0.478421</td>\n",
       "      <td>0.362411</td>\n",
       "      <td>0.630118</td>\n",
       "      <td>12.0357</td>\n",
       "      <td>23.9643</td>\n",
       "      <td>211.0</td>\n",
       "    </tr>\n",
       "    <tr>\n",
       "      <th>4</th>\n",
       "      <td>2003</td>\n",
       "      <td>1208</td>\n",
       "      <td>1400</td>\n",
       "      <td>0</td>\n",
       "      <td>11.4211</td>\n",
       "      <td>6.8750</td>\n",
       "      <td>0.500970</td>\n",
       "      <td>0.379070</td>\n",
       "      <td>0.714730</td>\n",
       "      <td>12.8148</td>\n",
       "      <td>24.5926</td>\n",
       "      <td>98.0</td>\n",
       "      <td>14.8182</td>\n",
       "      <td>6.8333</td>\n",
       "      <td>0.484900</td>\n",
       "      <td>0.349211</td>\n",
       "      <td>0.715654</td>\n",
       "      <td>16.1786</td>\n",
       "      <td>26.1429</td>\n",
       "      <td>34.0</td>\n",
       "    </tr>\n",
       "  </tbody>\n",
       "</table>\n",
       "</div>"
      ],
      "text/plain": [
       "   Season  Team1  Team2  Win  AvgWinMargin1  AvgLoseMargin1  TwoPointPct1  \\\n",
       "0    2003   1104   1328    1        13.1765          9.4545      0.471200   \n",
       "1    2003   1272   1393    1        12.6957          6.6667      0.484628   \n",
       "2    2003   1266   1437    1        14.8261          8.2000      0.521282   \n",
       "3    2003   1296   1457    1        10.1765         12.7857      0.492261   \n",
       "4    2003   1208   1400    0        11.4211          6.8750      0.500970   \n",
       "\n",
       "   ThreePointPct1  FreeThrowPct1  OffensiveRebounds1  DefensiveRebounds1  \\\n",
       "0        0.325436       0.705171             13.5714             23.9286   \n",
       "1        0.343438       0.628297             14.0690             25.9655   \n",
       "2        0.391261       0.778493             13.1071             24.0714   \n",
       "3        0.384861       0.658242             13.0000             22.6452   \n",
       "4        0.379070       0.714730             12.8148             24.5926   \n",
       "\n",
       "   Rank1  AvgWinMargin2  AvgLoseMargin2  TwoPointPct2  ThreePointPct2  \\\n",
       "0   12.0        15.5417          7.1667      0.470663        0.391223   \n",
       "1   67.0        14.4167         10.0000      0.519259        0.339131   \n",
       "2   33.0        12.2667          8.0667      0.455860        0.364153   \n",
       "3  131.0        10.8333         11.0000      0.478421        0.362411   \n",
       "4   98.0        14.8182          6.8333      0.484900        0.349211   \n",
       "\n",
       "   FreeThrowPct2  OffensiveRebounds2  DefensiveRebounds2  Rank2  \n",
       "0       0.714353             12.1333             24.9667   24.0  \n",
       "1       0.687831             14.3103             26.8966  120.0  \n",
       "2       0.712580             14.7000             23.7000   30.0  \n",
       "3       0.630118             12.0357             23.9643  211.0  \n",
       "4       0.715654             16.1786             26.1429   34.0  "
      ]
     },
     "execution_count": 4,
     "metadata": {},
     "output_type": "execute_result"
    }
   ],
   "source": [
    "df_train.head()"
   ]
  },
  {
   "cell_type": "code",
   "execution_count": 5,
   "metadata": {
    "collapsed": true
   },
   "outputs": [],
   "source": [
    "X_train = df_train[continuous]\n",
    "y_train = df_train[target]\n",
    "X_test = df_test[continuous]\n",
    "y_test = df_test[target]"
   ]
  },
  {
   "cell_type": "markdown",
   "metadata": {},
   "source": [
    "### Use a grid search to find the best hyperparameters for logistic regression"
   ]
  },
  {
   "cell_type": "code",
   "execution_count": 6,
   "metadata": {},
   "outputs": [
    {
     "name": "stdout",
     "output_type": "stream",
     "text": [
      "Best log_loss: -0.551, with best C: 225\n"
     ]
    }
   ],
   "source": [
    "# logreg = LogisticRegression(penalty='l1')\n",
    "# params = {'C': np.logspace(start=-5, stop=3, num=9)}\n",
    "# clf = GridSearchCV(logreg, params, scoring='neg_log_loss', refit=True)\n",
    "# clf.fit(X_train, y_train)\n",
    "# print('Best log_loss: {:.4}, with best C: {}'.format(clf.best_score_, clf.best_params_['C']))\n",
    "\n",
    "logreg = LogisticRegression(penalty='l1')\n",
    "params = {'C': [50,75,100,125,150,175,200,225]}\n",
    "clf = GridSearchCV(logreg, params, scoring='neg_log_loss', refit=True)\n",
    "clf.fit(X_train, y_train)\n",
    "print('Best log_loss: {:.4}, with best C: {}'.format(clf.best_score_, clf.best_params_['C']))"
   ]
  },
  {
   "cell_type": "code",
   "execution_count": 16,
   "metadata": {},
   "outputs": [
    {
     "data": {
      "text/plain": [
       "0.71868583162217659"
      ]
     },
     "execution_count": 16,
     "metadata": {},
     "output_type": "execute_result"
    }
   ],
   "source": [
    "lrc = LogisticRegression(penalty='l1', C=225)\n",
    "lrc.fit(X_train, y_train)\n",
    "lrc.score(X_test, y_test)"
   ]
  },
  {
   "cell_type": "code",
   "execution_count": 17,
   "metadata": {},
   "outputs": [
    {
     "data": {
      "text/plain": [
       "array([[-1.21339926,  1.17466236]])"
      ]
     },
     "execution_count": 17,
     "metadata": {},
     "output_type": "execute_result"
    }
   ],
   "source": [
    "lrc.coef_"
   ]
  },
  {
   "cell_type": "markdown",
   "metadata": {},
   "source": [
    "### View the classification report"
   ]
  },
  {
   "cell_type": "code",
   "execution_count": 18,
   "metadata": {},
   "outputs": [
    {
     "name": "stdout",
     "output_type": "stream",
     "text": [
      "             precision    recall  f1-score   support\n",
      "\n",
      "          0       0.73      0.72      0.72       498\n",
      "          1       0.71      0.71      0.71       476\n",
      "\n",
      "avg / total       0.72      0.72      0.72       974\n",
      "\n"
     ]
    }
   ],
   "source": [
    "from sklearn.metrics import classification_report\n",
    "y_pred = lrc.predict(X_test)\n",
    "print(classification_report(y_test, y_pred))"
   ]
  },
  {
   "cell_type": "markdown",
   "metadata": {},
   "source": [
    "### Scale the features this time"
   ]
  },
  {
   "cell_type": "code",
   "execution_count": 19,
   "metadata": {},
   "outputs": [
    {
     "name": "stderr",
     "output_type": "stream",
     "text": [
      "C:\\Anaconda2\\lib\\site-packages\\ipykernel_launcher.py:6: SettingWithCopyWarning: \n",
      "A value is trying to be set on a copy of a slice from a DataFrame.\n",
      "Try using .loc[row_indexer,col_indexer] = value instead\n",
      "\n",
      "See the caveats in the documentation: http://pandas.pydata.org/pandas-docs/stable/indexing.html#indexing-view-versus-copy\n",
      "  \n",
      "C:\\Anaconda2\\lib\\site-packages\\ipykernel_launcher.py:7: SettingWithCopyWarning: \n",
      "A value is trying to be set on a copy of a slice from a DataFrame.\n",
      "Try using .loc[row_indexer,col_indexer] = value instead\n",
      "\n",
      "See the caveats in the documentation: http://pandas.pydata.org/pandas-docs/stable/indexing.html#indexing-view-versus-copy\n",
      "  import sys\n"
     ]
    }
   ],
   "source": [
    "from sklearn.preprocessing import StandardScaler\n",
    "\n",
    "ss = StandardScaler()\n",
    "ss.fit(X_train[continuous])\n",
    "\n",
    "X_train[continuous] = ss.transform(X_train[continuous])\n",
    "X_test[continuous] = ss.transform(X_test[continuous])"
   ]
  },
  {
   "cell_type": "markdown",
   "metadata": {},
   "source": [
    "### Use a grid search to find the best hyperparameters for logistic regression"
   ]
  },
  {
   "cell_type": "code",
   "execution_count": 20,
   "metadata": {},
   "outputs": [
    {
     "name": "stdout",
     "output_type": "stream",
     "text": [
      "Best log_loss: -0.551, with best C: 50\n"
     ]
    }
   ],
   "source": [
    "logreg = LogisticRegression(penalty='l1')\n",
    "params = {'C': [50,75,100,125,150,175,200,225]}\n",
    "clf = GridSearchCV(logreg, params, scoring='neg_log_loss', refit=True)\n",
    "clf.fit(X_train, y_train)\n",
    "print('Best log_loss: {:.4}, with best C: {}'.format(clf.best_score_, clf.best_params_['C']))"
   ]
  },
  {
   "cell_type": "code",
   "execution_count": 21,
   "metadata": {},
   "outputs": [
    {
     "data": {
      "text/plain": [
       "0.71868583162217659"
      ]
     },
     "execution_count": 21,
     "metadata": {},
     "output_type": "execute_result"
    }
   ],
   "source": [
    "lrc = LogisticRegression(penalty='l1', C=50)\n",
    "lrc.fit(X_train, y_train)\n",
    "lrc.score(X_test, y_test)"
   ]
  },
  {
   "cell_type": "markdown",
   "metadata": {},
   "source": [
    "### View the classification report"
   ]
  },
  {
   "cell_type": "code",
   "execution_count": 22,
   "metadata": {},
   "outputs": [
    {
     "name": "stdout",
     "output_type": "stream",
     "text": [
      "             precision    recall  f1-score   support\n",
      "\n",
      "          0       0.73      0.72      0.72       498\n",
      "          1       0.71      0.71      0.71       476\n",
      "\n",
      "avg / total       0.72      0.72      0.72       974\n",
      "\n"
     ]
    }
   ],
   "source": [
    "y_pred = lrc.predict(X_test)\n",
    "print(classification_report(y_test, y_pred))"
   ]
  },
  {
   "cell_type": "markdown",
   "metadata": {},
   "source": [
    "### Most important coefficients"
   ]
  },
  {
   "cell_type": "code",
   "execution_count": 23,
   "metadata": {},
   "outputs": [
    {
     "name": "stdout",
     "output_type": "stream",
     "text": [
      "Index: 1, Name: Rank1, Value: -1.21334972589\n",
      "Index: 0, Name: Rank2, Value: 1.17458718877\n"
     ]
    }
   ],
   "source": [
    "importantCoefficients = np.argsort(np.abs(lrc.coef_))\n",
    "importantCoefficientsList = importantCoefficients.tolist()[0]\n",
    "for index in range(len(importantCoefficientsList)-1, -1, -1):\n",
    "    print 'Index: {}, Name: {}, Value: {}'.format(index, X_train.columns[importantCoefficientsList[index]], lrc.coef_[0][importantCoefficientsList[index]])"
   ]
  },
  {
   "cell_type": "markdown",
   "metadata": {},
   "source": [
    "### ROC Curve"
   ]
  },
  {
   "cell_type": "code",
   "execution_count": 25,
   "metadata": {},
   "outputs": [
    {
     "data": {
      "image/png": "[encoded data removed]",
      "text/plain": [
       "<matplotlib.figure.Figure at 0x13ac85f8>"
      ]
     },
     "metadata": {},
     "output_type": "display_data"
    }
   ],
   "source": [
    "import matplotlib.pyplot as plt\n",
    "\n",
    "# import scikitplot as skplt\n",
    "# y_probas = lrc.predict_proba(X_test)\n",
    "# skplt.metrics.plot_roc_curve(y_test, y_probas)\n",
    "# plt.show()\n",
    "\n",
    "y_probas = lrc.predict_proba(X_test)\n",
    "\n",
    "from sklearn import metrics\n",
    "fpr, tpr, thresholds = metrics.roc_curve(y_test.values, y_probas[:,1])\n",
    "plt.plot(fpr, tpr)\n",
    "plt.plot([0, 1], [0, 1], 'k--')\n",
    "plt.xlabel('False Positive Rate')\n",
    "plt.ylabel('True Positive Rate')\n",
    "plt.show()"
   ]
  }
 ],
 "metadata": {
  "kernelspec": {
   "display_name": "Python 2",
   "language": "python",
   "name": "python2"
  },
  "language_info": {
   "codemirror_mode": {
    "name": "ipython",
    "version": 2
   },
   "file_extension": ".py",
   "mimetype": "text/x-python",
   "name": "python",
   "nbconvert_exporter": "python",
   "pygments_lexer": "ipython2",
   "version": "2.7.14"
  }
 },
 "nbformat": 4,
 "nbformat_minor": 2
}
